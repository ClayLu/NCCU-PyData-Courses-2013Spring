{
 "metadata": {
  "celltoolbar": "Slideshow",
  "name": ""
 },
 "nbformat": 3,
 "nbformat_minor": 0,
 "worksheets": [
  {
   "cells": [
    {
     "cell_type": "code",
     "collapsed": false,
     "input": [
      "%pylab inline"
     ],
     "language": "python",
     "metadata": {
      "slideshow": {
       "slide_type": "skip"
      }
     },
     "outputs": [
      {
       "output_type": "stream",
       "stream": "stdout",
       "text": [
        "Populating the interactive namespace from numpy and matplotlib\n"
       ]
      }
     ],
     "prompt_number": 75
    },
    {
     "cell_type": "markdown",
     "metadata": {
      "slideshow": {
       "slide_type": "slide"
      }
     },
     "source": [
      "# Pandas"
     ]
    },
    {
     "cell_type": "markdown",
     "metadata": {
      "slideshow": {
       "slide_type": "slide"
      }
     },
     "source": [
      "# List\n",
      "\n",
      "`List` is a list of comman-sepratated values (items) between square brackets"
     ]
    },
    {
     "cell_type": "code",
     "collapsed": false,
     "input": [
      "a = [1, 3, 5, 7, 9]\n",
      "print a"
     ],
     "language": "python",
     "metadata": {},
     "outputs": [
      {
       "output_type": "stream",
       "stream": "stdout",
       "text": [
        "[1, 3, 5, 7, 9]\n"
       ]
      }
     ],
     "prompt_number": 1
    },
    {
     "cell_type": "markdown",
     "metadata": {
      "slideshow": {
       "slide_type": "subslide"
      }
     },
     "source": [
      "#How to mupliply two list element wise?"
     ]
    },
    {
     "cell_type": "code",
     "collapsed": false,
     "input": [
      "a = [1, 3, 5, 7, 9]\n",
      "b = [2, 4, 6, 8, 10]"
     ],
     "language": "python",
     "metadata": {},
     "outputs": [],
     "prompt_number": 2
    },
    {
     "cell_type": "code",
     "collapsed": false,
     "input": [
      "print zip(a, b)"
     ],
     "language": "python",
     "metadata": {},
     "outputs": [
      {
       "output_type": "stream",
       "stream": "stdout",
       "text": [
        "[(1, 2), (3, 4), (5, 6), (7, 8), (9, 10)]\n"
       ]
      }
     ],
     "prompt_number": 3
    },
    {
     "cell_type": "code",
     "collapsed": false,
     "input": [
      "c = [i*j for i, j in zip(a, b)]\n",
      "print c"
     ],
     "language": "python",
     "metadata": {
      "slideshow": {
       "slide_type": "fragment"
      }
     },
     "outputs": [
      {
       "output_type": "stream",
       "stream": "stdout",
       "text": [
        "[2, 12, 30, 56, 90]\n"
       ]
      }
     ],
     "prompt_number": 4
    },
    {
     "cell_type": "code",
     "collapsed": false,
     "input": [
      "c = a * b"
     ],
     "language": "python",
     "metadata": {
      "slideshow": {
       "slide_type": "fragment"
      }
     },
     "outputs": [
      {
       "ename": "TypeError",
       "evalue": "can't multiply sequence by non-int of type 'list'",
       "output_type": "pyerr",
       "traceback": [
        "\u001b[0;31m---------------------------------------------------------------------------\u001b[0m\n\u001b[0;31mTypeError\u001b[0m                                 Traceback (most recent call last)",
        "\u001b[0;32m<ipython-input-5-310cd2b8a051>\u001b[0m in \u001b[0;36m<module>\u001b[0;34m()\u001b[0m\n\u001b[0;32m----> 1\u001b[0;31m \u001b[0mc\u001b[0m \u001b[0;34m=\u001b[0m \u001b[0ma\u001b[0m \u001b[0;34m*\u001b[0m \u001b[0mb\u001b[0m\u001b[0;34m\u001b[0m\u001b[0m\n\u001b[0m",
        "\u001b[0;31mTypeError\u001b[0m: can't multiply sequence by non-int of type 'list'"
       ]
      }
     ],
     "prompt_number": 5
    },
    {
     "cell_type": "markdown",
     "metadata": {
      "slideshow": {
       "slide_type": "subslide"
      }
     },
     "source": [
      "# NumPy to Rescue\n",
      "![](pandas-dataset/numpy_logo.png)"
     ]
    },
    {
     "cell_type": "code",
     "collapsed": false,
     "input": [
      "import numpy as np\n",
      "\n",
      "na = np.array(a)\n",
      "nb = np.array(b)\n",
      "\n",
      "print na\n",
      "print nb"
     ],
     "language": "python",
     "metadata": {
      "slideshow": {
       "slide_type": "fragment"
      }
     },
     "outputs": [
      {
       "output_type": "stream",
       "stream": "stdout",
       "text": [
        "[1 3 5 7 9]\n",
        "[ 2  4  6  8 10]\n"
       ]
      }
     ],
     "prompt_number": 14
    },
    {
     "cell_type": "code",
     "collapsed": false,
     "input": [
      "nc = na * nb\n",
      "\n",
      "print nc"
     ],
     "language": "python",
     "metadata": {
      "slideshow": {
       "slide_type": "fragment"
      }
     },
     "outputs": [
      {
       "output_type": "stream",
       "stream": "stdout",
       "text": [
        "[ 2 12 30 56 90]\n"
       ]
      }
     ],
     "prompt_number": 15
    },
    {
     "cell_type": "markdown",
     "metadata": {
      "slideshow": {
       "slide_type": "slide"
      }
     },
     "source": [
      "# Numpy\n",
      "\n",
      "<http://www.numpy.org/>\n",
      "\n",
      "NumPy is the fundamental package for scientific computing with Python. It contains:\n",
      "\n",
      "* a powerful N-dimensional array object\n",
      "* sophisticated functions\n",
      "* tools for integrating C/C++ and Fortran code\n",
      "* linear algebra, Fourieir transform, and random number cpabilities"
     ]
    },
    {
     "cell_type": "markdown",
     "metadata": {
      "slideshow": {
       "slide_type": "slide"
      }
     },
     "source": [
      "# One Dimentional Array"
     ]
    },
    {
     "cell_type": "code",
     "collapsed": false,
     "input": [
      "na = np.array([1, 2, 3, 4, 5])\n",
      "print na"
     ],
     "language": "python",
     "metadata": {
      "slideshow": {
       "slide_type": "-"
      }
     },
     "outputs": [
      {
       "output_type": "stream",
       "stream": "stdout",
       "text": [
        "[1 2 3 4 5]\n"
       ]
      }
     ],
     "prompt_number": 16
    },
    {
     "cell_type": "code",
     "collapsed": false,
     "input": [
      "na[0]"
     ],
     "language": "python",
     "metadata": {
      "slideshow": {
       "slide_type": "fragment"
      }
     },
     "outputs": [
      {
       "metadata": {},
       "output_type": "pyout",
       "prompt_number": 17,
       "text": [
        "1"
       ]
      }
     ],
     "prompt_number": 17
    },
    {
     "cell_type": "code",
     "collapsed": false,
     "input": [
      "na[1:3]"
     ],
     "language": "python",
     "metadata": {
      "slideshow": {
       "slide_type": "fragment"
      }
     },
     "outputs": [
      {
       "metadata": {},
       "output_type": "pyout",
       "prompt_number": 18,
       "text": [
        "array([2, 3])"
       ]
      }
     ],
     "prompt_number": 18
    },
    {
     "cell_type": "code",
     "collapsed": false,
     "input": [
      "na[na > 3]"
     ],
     "language": "python",
     "metadata": {
      "slideshow": {
       "slide_type": "fragment"
      }
     },
     "outputs": [
      {
       "metadata": {},
       "output_type": "pyout",
       "prompt_number": 19,
       "text": [
        "array([4, 5])"
       ]
      }
     ],
     "prompt_number": 19
    },
    {
     "cell_type": "markdown",
     "metadata": {
      "slideshow": {
       "slide_type": "slide"
      }
     },
     "source": [
      "# Two Dimentional Array"
     ]
    },
    {
     "cell_type": "code",
     "collapsed": false,
     "input": [
      "na = np.array([[1, 2, 3, 4, 5], [6, 7, 8, 9, 10]])\n",
      "print na"
     ],
     "language": "python",
     "metadata": {},
     "outputs": [
      {
       "output_type": "stream",
       "stream": "stdout",
       "text": [
        "[[ 1  2  3  4  5]\n",
        " [ 6  7  8  9 10]]\n"
       ]
      }
     ],
     "prompt_number": 20
    },
    {
     "cell_type": "code",
     "collapsed": false,
     "input": [
      "na[0, 0]"
     ],
     "language": "python",
     "metadata": {
      "slideshow": {
       "slide_type": "fragment"
      }
     },
     "outputs": [
      {
       "metadata": {},
       "output_type": "pyout",
       "prompt_number": 21,
       "text": [
        "1"
       ]
      }
     ],
     "prompt_number": 21
    },
    {
     "cell_type": "code",
     "collapsed": false,
     "input": [
      "na[0, :]"
     ],
     "language": "python",
     "metadata": {
      "slideshow": {
       "slide_type": "fragment"
      }
     },
     "outputs": [
      {
       "metadata": {},
       "output_type": "pyout",
       "prompt_number": 22,
       "text": [
        "array([1, 2, 3, 4, 5])"
       ]
      }
     ],
     "prompt_number": 22
    },
    {
     "cell_type": "code",
     "collapsed": false,
     "input": [
      "na[:, 0]"
     ],
     "language": "python",
     "metadata": {
      "slideshow": {
       "slide_type": "fragment"
      }
     },
     "outputs": [
      {
       "metadata": {},
       "output_type": "pyout",
       "prompt_number": 23,
       "text": [
        "array([1, 6])"
       ]
      }
     ],
     "prompt_number": 23
    },
    {
     "cell_type": "code",
     "collapsed": false,
     "input": [
      "na.T"
     ],
     "language": "python",
     "metadata": {
      "slideshow": {
       "slide_type": "fragment"
      }
     },
     "outputs": [
      {
       "metadata": {},
       "output_type": "pyout",
       "prompt_number": 24,
       "text": [
        "array([[ 1,  6],\n",
        "       [ 2,  7],\n",
        "       [ 3,  8],\n",
        "       [ 4,  9],\n",
        "       [ 5, 10]])"
       ]
      }
     ],
     "prompt_number": 24
    },
    {
     "cell_type": "markdown",
     "metadata": {
      "slideshow": {
       "slide_type": "subslide"
      }
     },
     "source": [
      "# What if we want to label the data?"
     ]
    },
    {
     "cell_type": "markdown",
     "metadata": {
      "slideshow": {
       "slide_type": "fragment"
      }
     },
     "source": [
      "### It might be a good idea to label the first column as `name`, the second as `gender`, the last as `age`"
     ]
    },
    {
     "cell_type": "code",
     "collapsed": false,
     "input": [
      "na = np.array([['frank', 'M', 29], ['mary', 'F', 23], ['tom', 'M', 35], ['ted', 'M', 33], ['jean', 'F', 21], ['lisa', 'F', 20]])\n",
      "na               "
     ],
     "language": "python",
     "metadata": {
      "slideshow": {
       "slide_type": "fragment"
      }
     },
     "outputs": [
      {
       "metadata": {},
       "output_type": "pyout",
       "prompt_number": 25,
       "text": [
        "array([['frank', 'M', '29'],\n",
        "       ['mary', 'F', '23'],\n",
        "       ['tom', 'M', '35'],\n",
        "       ['ted', 'M', '33'],\n",
        "       ['jean', 'F', '21'],\n",
        "       ['lisa', 'F', '20']], \n",
        "      dtype='|S5')"
       ]
      }
     ],
     "prompt_number": 25
    },
    {
     "cell_type": "markdown",
     "metadata": {
      "slideshow": {
       "slide_type": "fragment"
      }
     },
     "source": [
      "# Seems Not a Good Idea ..."
     ]
    },
    {
     "cell_type": "code",
     "collapsed": false,
     "input": [
      "na = np.array([['name', 'gender', 'age'], ['frank', 'M', 29], ['mary', 'F', 23], ['tom', 'M', 35], ['ted', 'M', 33], ['jean', 'F', 21], ['lisa', 'F', 20]])\n",
      "na "
     ],
     "language": "python",
     "metadata": {},
     "outputs": [
      {
       "metadata": {},
       "output_type": "pyout",
       "prompt_number": 26,
       "text": [
        "array([['name', 'gender', 'age'],\n",
        "       ['frank', 'M', '29'],\n",
        "       ['mary', 'F', '23'],\n",
        "       ['tom', 'M', '35'],\n",
        "       ['ted', 'M', '33'],\n",
        "       ['jean', 'F', '21'],\n",
        "       ['lisa', 'F', '20']], \n",
        "      dtype='|S6')"
       ]
      }
     ],
     "prompt_number": 26
    },
    {
     "cell_type": "markdown",
     "metadata": {
      "slideshow": {
       "slide_type": "subslide"
      }
     },
     "source": [
      "# Someone is coming to Rescue"
     ]
    },
    {
     "cell_type": "markdown",
     "metadata": {
      "slideshow": {
       "slide_type": "fragment"
      }
     },
     "source": [
      "![](pandas-dataset/pandas.png)"
     ]
    },
    {
     "cell_type": "markdown",
     "metadata": {
      "slideshow": {
       "slide_type": "fragment"
      }
     },
     "source": [
      "## Not This One ..."
     ]
    },
    {
     "cell_type": "markdown",
     "metadata": {
      "slideshow": {
       "slide_type": "subslide"
      }
     },
     "source": [
      "# But This One\n",
      "![](pandas-dataset/pandas_logo.png)"
     ]
    },
    {
     "cell_type": "code",
     "collapsed": false,
     "input": [
      "import pandas as pd\n",
      "df = pd.DataFrame([['frank', 'M', 29], ['mary', 'F', 23], ['tom', 'M', 35], ['ted', 'M', 33], ['jean', 'F', 21], ['lisa', 'F', 20]])\n",
      "df"
     ],
     "language": "python",
     "metadata": {
      "slideshow": {
       "slide_type": "fragment"
      }
     },
     "outputs": [
      {
       "html": [
        "<div style=\"max-height:1000px;max-width:1500px;overflow:auto;\">\n",
        "<table border=\"1\" class=\"dataframe\">\n",
        "  <thead>\n",
        "    <tr style=\"text-align: right;\">\n",
        "      <th></th>\n",
        "      <th>0</th>\n",
        "      <th>1</th>\n",
        "      <th>2</th>\n",
        "    </tr>\n",
        "  </thead>\n",
        "  <tbody>\n",
        "    <tr>\n",
        "      <th>0</th>\n",
        "      <td> frank</td>\n",
        "      <td> M</td>\n",
        "      <td> 29</td>\n",
        "    </tr>\n",
        "    <tr>\n",
        "      <th>1</th>\n",
        "      <td>  mary</td>\n",
        "      <td> F</td>\n",
        "      <td> 23</td>\n",
        "    </tr>\n",
        "    <tr>\n",
        "      <th>2</th>\n",
        "      <td>   tom</td>\n",
        "      <td> M</td>\n",
        "      <td> 35</td>\n",
        "    </tr>\n",
        "    <tr>\n",
        "      <th>3</th>\n",
        "      <td>   ted</td>\n",
        "      <td> M</td>\n",
        "      <td> 33</td>\n",
        "    </tr>\n",
        "    <tr>\n",
        "      <th>4</th>\n",
        "      <td>  jean</td>\n",
        "      <td> F</td>\n",
        "      <td> 21</td>\n",
        "    </tr>\n",
        "    <tr>\n",
        "      <th>5</th>\n",
        "      <td>  lisa</td>\n",
        "      <td> F</td>\n",
        "      <td> 20</td>\n",
        "    </tr>\n",
        "  </tbody>\n",
        "</table>\n",
        "<p>6 rows \u00d7 3 columns</p>\n",
        "</div>"
       ],
       "metadata": {},
       "output_type": "pyout",
       "prompt_number": 27,
       "text": [
        "       0  1   2\n",
        "0  frank  M  29\n",
        "1   mary  F  23\n",
        "2    tom  M  35\n",
        "3    ted  M  33\n",
        "4   jean  F  21\n",
        "5   lisa  F  20\n",
        "\n",
        "[6 rows x 3 columns]"
       ]
      }
     ],
     "prompt_number": 27
    },
    {
     "cell_type": "code",
     "collapsed": false,
     "input": [
      "df.columns=['name', 'gender', 'age']\n",
      "df"
     ],
     "language": "python",
     "metadata": {
      "slideshow": {
       "slide_type": "fragment"
      }
     },
     "outputs": [
      {
       "html": [
        "<div style=\"max-height:1000px;max-width:1500px;overflow:auto;\">\n",
        "<table border=\"1\" class=\"dataframe\">\n",
        "  <thead>\n",
        "    <tr style=\"text-align: right;\">\n",
        "      <th></th>\n",
        "      <th>name</th>\n",
        "      <th>gender</th>\n",
        "      <th>age</th>\n",
        "    </tr>\n",
        "  </thead>\n",
        "  <tbody>\n",
        "    <tr>\n",
        "      <th>0</th>\n",
        "      <td> frank</td>\n",
        "      <td> M</td>\n",
        "      <td> 29</td>\n",
        "    </tr>\n",
        "    <tr>\n",
        "      <th>1</th>\n",
        "      <td>  mary</td>\n",
        "      <td> F</td>\n",
        "      <td> 23</td>\n",
        "    </tr>\n",
        "    <tr>\n",
        "      <th>2</th>\n",
        "      <td>   tom</td>\n",
        "      <td> M</td>\n",
        "      <td> 35</td>\n",
        "    </tr>\n",
        "    <tr>\n",
        "      <th>3</th>\n",
        "      <td>   ted</td>\n",
        "      <td> M</td>\n",
        "      <td> 33</td>\n",
        "    </tr>\n",
        "    <tr>\n",
        "      <th>4</th>\n",
        "      <td>  jean</td>\n",
        "      <td> F</td>\n",
        "      <td> 21</td>\n",
        "    </tr>\n",
        "    <tr>\n",
        "      <th>5</th>\n",
        "      <td>  lisa</td>\n",
        "      <td> F</td>\n",
        "      <td> 20</td>\n",
        "    </tr>\n",
        "  </tbody>\n",
        "</table>\n",
        "<p>6 rows \u00d7 3 columns</p>\n",
        "</div>"
       ],
       "metadata": {},
       "output_type": "pyout",
       "prompt_number": 28,
       "text": [
        "    name gender  age\n",
        "0  frank      M   29\n",
        "1   mary      F   23\n",
        "2    tom      M   35\n",
        "3    ted      M   33\n",
        "4   jean      F   21\n",
        "5   lisa      F   20\n",
        "\n",
        "[6 rows x 3 columns]"
       ]
      }
     ],
     "prompt_number": 28
    },
    {
     "cell_type": "markdown",
     "metadata": {
      "slideshow": {
       "slide_type": "slide"
      }
     },
     "source": [
      "# Pandas\n",
      "<http://pandas.pydata.org/>\n",
      "\n",
      "`pandas` is a python library providing high-performance, easy-to-use data structures and data analysis tools.\n"
     ]
    },
    {
     "cell_type": "markdown",
     "metadata": {
      "slideshow": {
       "slide_type": "slide"
      }
     },
     "source": [
      "# Series"
     ]
    },
    {
     "cell_type": "code",
     "collapsed": false,
     "input": [
      "s = pd.Series([11, 22, 33, 44, 55])\n",
      "s"
     ],
     "language": "python",
     "metadata": {},
     "outputs": [
      {
       "metadata": {},
       "output_type": "pyout",
       "prompt_number": 29,
       "text": [
        "0    11\n",
        "1    22\n",
        "2    33\n",
        "3    44\n",
        "4    55\n",
        "dtype: int64"
       ]
      }
     ],
     "prompt_number": 29
    },
    {
     "cell_type": "markdown",
     "metadata": {
      "slideshow": {
       "slide_type": "subslide"
      }
     },
     "source": [
      "# Statistical Description"
     ]
    },
    {
     "cell_type": "code",
     "collapsed": false,
     "input": [
      "s.max()"
     ],
     "language": "python",
     "metadata": {
      "slideshow": {
       "slide_type": "fragment"
      }
     },
     "outputs": [
      {
       "metadata": {},
       "output_type": "pyout",
       "prompt_number": 30,
       "text": [
        "55"
       ]
      }
     ],
     "prompt_number": 30
    },
    {
     "cell_type": "code",
     "collapsed": false,
     "input": [
      "s.mean()"
     ],
     "language": "python",
     "metadata": {
      "slideshow": {
       "slide_type": "fragment"
      }
     },
     "outputs": [
      {
       "metadata": {},
       "output_type": "pyout",
       "prompt_number": 31,
       "text": [
        "33.0"
       ]
      }
     ],
     "prompt_number": 31
    },
    {
     "cell_type": "code",
     "collapsed": false,
     "input": [
      "s.describe()"
     ],
     "language": "python",
     "metadata": {
      "slideshow": {
       "slide_type": "fragment"
      }
     },
     "outputs": [
      {
       "metadata": {},
       "output_type": "pyout",
       "prompt_number": 32,
       "text": [
        "count     5.000000\n",
        "mean     33.000000\n",
        "std      17.392527\n",
        "min      11.000000\n",
        "25%      22.000000\n",
        "50%      33.000000\n",
        "75%      44.000000\n",
        "max      55.000000\n",
        "dtype: float64"
       ]
      }
     ],
     "prompt_number": 32
    },
    {
     "cell_type": "markdown",
     "metadata": {
      "slideshow": {
       "slide_type": "subslide"
      }
     },
     "source": [
      "# Indexing and Slicing"
     ]
    },
    {
     "cell_type": "code",
     "collapsed": false,
     "input": [
      "s"
     ],
     "language": "python",
     "metadata": {
      "slideshow": {
       "slide_type": "fragment"
      }
     },
     "outputs": [
      {
       "metadata": {},
       "output_type": "pyout",
       "prompt_number": 33,
       "text": [
        "0    11\n",
        "1    22\n",
        "2    33\n",
        "3    44\n",
        "4    55\n",
        "dtype: int64"
       ]
      }
     ],
     "prompt_number": 33
    },
    {
     "cell_type": "code",
     "collapsed": false,
     "input": [
      "s[2]"
     ],
     "language": "python",
     "metadata": {
      "slideshow": {
       "slide_type": "fragment"
      }
     },
     "outputs": [
      {
       "metadata": {},
       "output_type": "pyout",
       "prompt_number": 34,
       "text": [
        "33"
       ]
      }
     ],
     "prompt_number": 34
    },
    {
     "cell_type": "code",
     "collapsed": false,
     "input": [
      "s[2:4]"
     ],
     "language": "python",
     "metadata": {
      "slideshow": {
       "slide_type": "fragment"
      }
     },
     "outputs": [
      {
       "metadata": {},
       "output_type": "pyout",
       "prompt_number": 35,
       "text": [
        "2    33\n",
        "3    44\n",
        "dtype: int64"
       ]
      }
     ],
     "prompt_number": 35
    },
    {
     "cell_type": "markdown",
     "metadata": {
      "slideshow": {
       "slide_type": "slide"
      }
     },
     "source": [
      "# DataFrame"
     ]
    },
    {
     "cell_type": "code",
     "collapsed": false,
     "input": [
      "df = pd.DataFrame([['frank', 'M', 29], ['mary', 'F', 23], ['tom', 'M', 35], ['ted', 'M', 33], ['jean', 'F', 21], ['lisa', 'F', 20]])\n",
      "df.columns = ['name', 'gender', 'age']\n",
      "df"
     ],
     "language": "python",
     "metadata": {},
     "outputs": [
      {
       "html": [
        "<div style=\"max-height:1000px;max-width:1500px;overflow:auto;\">\n",
        "<table border=\"1\" class=\"dataframe\">\n",
        "  <thead>\n",
        "    <tr style=\"text-align: right;\">\n",
        "      <th></th>\n",
        "      <th>name</th>\n",
        "      <th>gender</th>\n",
        "      <th>age</th>\n",
        "    </tr>\n",
        "  </thead>\n",
        "  <tbody>\n",
        "    <tr>\n",
        "      <th>0</th>\n",
        "      <td> frank</td>\n",
        "      <td> M</td>\n",
        "      <td> 29</td>\n",
        "    </tr>\n",
        "    <tr>\n",
        "      <th>1</th>\n",
        "      <td>  mary</td>\n",
        "      <td> F</td>\n",
        "      <td> 23</td>\n",
        "    </tr>\n",
        "    <tr>\n",
        "      <th>2</th>\n",
        "      <td>   tom</td>\n",
        "      <td> M</td>\n",
        "      <td> 35</td>\n",
        "    </tr>\n",
        "    <tr>\n",
        "      <th>3</th>\n",
        "      <td>   ted</td>\n",
        "      <td> M</td>\n",
        "      <td> 33</td>\n",
        "    </tr>\n",
        "    <tr>\n",
        "      <th>4</th>\n",
        "      <td>  jean</td>\n",
        "      <td> F</td>\n",
        "      <td> 21</td>\n",
        "    </tr>\n",
        "    <tr>\n",
        "      <th>5</th>\n",
        "      <td>  lisa</td>\n",
        "      <td> F</td>\n",
        "      <td> 20</td>\n",
        "    </tr>\n",
        "  </tbody>\n",
        "</table>\n",
        "<p>6 rows \u00d7 3 columns</p>\n",
        "</div>"
       ],
       "metadata": {},
       "output_type": "pyout",
       "prompt_number": 36,
       "text": [
        "    name gender  age\n",
        "0  frank      M   29\n",
        "1   mary      F   23\n",
        "2    tom      M   35\n",
        "3    ted      M   33\n",
        "4   jean      F   21\n",
        "5   lisa      F   20\n",
        "\n",
        "[6 rows x 3 columns]"
       ]
      }
     ],
     "prompt_number": 36
    },
    {
     "cell_type": "markdown",
     "metadata": {
      "slideshow": {
       "slide_type": "subslide"
      }
     },
     "source": [
      "# Statistical Description"
     ]
    },
    {
     "cell_type": "code",
     "collapsed": false,
     "input": [
      "df.describe()"
     ],
     "language": "python",
     "metadata": {
      "slideshow": {
       "slide_type": "-"
      }
     },
     "outputs": [
      {
       "html": [
        "<div style=\"max-height:1000px;max-width:1500px;overflow:auto;\">\n",
        "<table border=\"1\" class=\"dataframe\">\n",
        "  <thead>\n",
        "    <tr style=\"text-align: right;\">\n",
        "      <th></th>\n",
        "      <th>age</th>\n",
        "    </tr>\n",
        "  </thead>\n",
        "  <tbody>\n",
        "    <tr>\n",
        "      <th>count</th>\n",
        "      <td>  6.000000</td>\n",
        "    </tr>\n",
        "    <tr>\n",
        "      <th>mean</th>\n",
        "      <td> 26.833333</td>\n",
        "    </tr>\n",
        "    <tr>\n",
        "      <th>std</th>\n",
        "      <td>  6.400521</td>\n",
        "    </tr>\n",
        "    <tr>\n",
        "      <th>min</th>\n",
        "      <td> 20.000000</td>\n",
        "    </tr>\n",
        "    <tr>\n",
        "      <th>25%</th>\n",
        "      <td> 21.500000</td>\n",
        "    </tr>\n",
        "    <tr>\n",
        "      <th>50%</th>\n",
        "      <td> 26.000000</td>\n",
        "    </tr>\n",
        "    <tr>\n",
        "      <th>75%</th>\n",
        "      <td> 32.000000</td>\n",
        "    </tr>\n",
        "    <tr>\n",
        "      <th>max</th>\n",
        "      <td> 35.000000</td>\n",
        "    </tr>\n",
        "  </tbody>\n",
        "</table>\n",
        "<p>8 rows \u00d7 1 columns</p>\n",
        "</div>"
       ],
       "metadata": {},
       "output_type": "pyout",
       "prompt_number": 37,
       "text": [
        "             age\n",
        "count   6.000000\n",
        "mean   26.833333\n",
        "std     6.400521\n",
        "min    20.000000\n",
        "25%    21.500000\n",
        "50%    26.000000\n",
        "75%    32.000000\n",
        "max    35.000000\n",
        "\n",
        "[8 rows x 1 columns]"
       ]
      }
     ],
     "prompt_number": 37
    },
    {
     "cell_type": "markdown",
     "metadata": {
      "slideshow": {
       "slide_type": "subslide"
      }
     },
     "source": [
      "# Indexing and Slicing - (Row)"
     ]
    },
    {
     "cell_type": "code",
     "collapsed": false,
     "input": [
      "df.ix[1]"
     ],
     "language": "python",
     "metadata": {
      "slideshow": {
       "slide_type": "fragment"
      }
     },
     "outputs": [
      {
       "metadata": {},
       "output_type": "pyout",
       "prompt_number": 39,
       "text": [
        "name      mary\n",
        "gender       F\n",
        "age         23\n",
        "Name: 1, dtype: object"
       ]
      }
     ],
     "prompt_number": 39
    },
    {
     "cell_type": "code",
     "collapsed": false,
     "input": [
      "df.ix[1:4]"
     ],
     "language": "python",
     "metadata": {
      "slideshow": {
       "slide_type": "fragment"
      }
     },
     "outputs": [
      {
       "html": [
        "<div style=\"max-height:1000px;max-width:1500px;overflow:auto;\">\n",
        "<table border=\"1\" class=\"dataframe\">\n",
        "  <thead>\n",
        "    <tr style=\"text-align: right;\">\n",
        "      <th></th>\n",
        "      <th>name</th>\n",
        "      <th>gender</th>\n",
        "      <th>age</th>\n",
        "    </tr>\n",
        "  </thead>\n",
        "  <tbody>\n",
        "    <tr>\n",
        "      <th>1</th>\n",
        "      <td> mary</td>\n",
        "      <td> F</td>\n",
        "      <td> 23</td>\n",
        "    </tr>\n",
        "    <tr>\n",
        "      <th>2</th>\n",
        "      <td>  tom</td>\n",
        "      <td> M</td>\n",
        "      <td> 35</td>\n",
        "    </tr>\n",
        "    <tr>\n",
        "      <th>3</th>\n",
        "      <td>  ted</td>\n",
        "      <td> M</td>\n",
        "      <td> 33</td>\n",
        "    </tr>\n",
        "    <tr>\n",
        "      <th>4</th>\n",
        "      <td> jean</td>\n",
        "      <td> F</td>\n",
        "      <td> 21</td>\n",
        "    </tr>\n",
        "  </tbody>\n",
        "</table>\n",
        "<p>4 rows \u00d7 3 columns</p>\n",
        "</div>"
       ],
       "metadata": {},
       "output_type": "pyout",
       "prompt_number": 40,
       "text": [
        "   name gender  age\n",
        "1  mary      F   23\n",
        "2   tom      M   35\n",
        "3   ted      M   33\n",
        "4  jean      F   21\n",
        "\n",
        "[4 rows x 3 columns]"
       ]
      }
     ],
     "prompt_number": 40
    },
    {
     "cell_type": "markdown",
     "metadata": {
      "slideshow": {
       "slide_type": "subslide"
      }
     },
     "source": [
      "# Indexing and Slicing - (Column)"
     ]
    },
    {
     "cell_type": "code",
     "collapsed": false,
     "input": [
      "df['name']"
     ],
     "language": "python",
     "metadata": {
      "slideshow": {
       "slide_type": "fragment"
      }
     },
     "outputs": [
      {
       "metadata": {},
       "output_type": "pyout",
       "prompt_number": 42,
       "text": [
        "0    frank\n",
        "1     mary\n",
        "2      tom\n",
        "3      ted\n",
        "4     jean\n",
        "5     lisa\n",
        "Name: name, dtype: object"
       ]
      }
     ],
     "prompt_number": 42
    },
    {
     "cell_type": "code",
     "collapsed": false,
     "input": [
      "df[['name', 'age']]"
     ],
     "language": "python",
     "metadata": {
      "slideshow": {
       "slide_type": "fragment"
      }
     },
     "outputs": [
      {
       "html": [
        "<div style=\"max-height:1000px;max-width:1500px;overflow:auto;\">\n",
        "<table border=\"1\" class=\"dataframe\">\n",
        "  <thead>\n",
        "    <tr style=\"text-align: right;\">\n",
        "      <th></th>\n",
        "      <th>name</th>\n",
        "      <th>age</th>\n",
        "    </tr>\n",
        "  </thead>\n",
        "  <tbody>\n",
        "    <tr>\n",
        "      <th>0</th>\n",
        "      <td> frank</td>\n",
        "      <td> 29</td>\n",
        "    </tr>\n",
        "    <tr>\n",
        "      <th>1</th>\n",
        "      <td>  mary</td>\n",
        "      <td> 23</td>\n",
        "    </tr>\n",
        "    <tr>\n",
        "      <th>2</th>\n",
        "      <td>   tom</td>\n",
        "      <td> 35</td>\n",
        "    </tr>\n",
        "    <tr>\n",
        "      <th>3</th>\n",
        "      <td>   ted</td>\n",
        "      <td> 33</td>\n",
        "    </tr>\n",
        "    <tr>\n",
        "      <th>4</th>\n",
        "      <td>  jean</td>\n",
        "      <td> 21</td>\n",
        "    </tr>\n",
        "    <tr>\n",
        "      <th>5</th>\n",
        "      <td>  lisa</td>\n",
        "      <td> 20</td>\n",
        "    </tr>\n",
        "  </tbody>\n",
        "</table>\n",
        "<p>6 rows \u00d7 2 columns</p>\n",
        "</div>"
       ],
       "metadata": {},
       "output_type": "pyout",
       "prompt_number": 43,
       "text": [
        "    name  age\n",
        "0  frank   29\n",
        "1   mary   23\n",
        "2    tom   35\n",
        "3    ted   33\n",
        "4   jean   21\n",
        "5   lisa   20\n",
        "\n",
        "[6 rows x 2 columns]"
       ]
      }
     ],
     "prompt_number": 43
    },
    {
     "cell_type": "markdown",
     "metadata": {
      "slideshow": {
       "slide_type": "subslide"
      }
     },
     "source": [
      "# What's the Average Age for Males and Females?"
     ]
    },
    {
     "cell_type": "code",
     "collapsed": false,
     "input": [
      "df[df['gender'] == 'M']"
     ],
     "language": "python",
     "metadata": {
      "slideshow": {
       "slide_type": "fragment"
      }
     },
     "outputs": [
      {
       "html": [
        "<div style=\"max-height:1000px;max-width:1500px;overflow:auto;\">\n",
        "<table border=\"1\" class=\"dataframe\">\n",
        "  <thead>\n",
        "    <tr style=\"text-align: right;\">\n",
        "      <th></th>\n",
        "      <th>name</th>\n",
        "      <th>gender</th>\n",
        "      <th>age</th>\n",
        "    </tr>\n",
        "  </thead>\n",
        "  <tbody>\n",
        "    <tr>\n",
        "      <th>0</th>\n",
        "      <td> frank</td>\n",
        "      <td> M</td>\n",
        "      <td> 29</td>\n",
        "    </tr>\n",
        "    <tr>\n",
        "      <th>2</th>\n",
        "      <td>   tom</td>\n",
        "      <td> M</td>\n",
        "      <td> 35</td>\n",
        "    </tr>\n",
        "    <tr>\n",
        "      <th>3</th>\n",
        "      <td>   ted</td>\n",
        "      <td> M</td>\n",
        "      <td> 33</td>\n",
        "    </tr>\n",
        "  </tbody>\n",
        "</table>\n",
        "<p>3 rows \u00d7 3 columns</p>\n",
        "</div>"
       ],
       "metadata": {},
       "output_type": "pyout",
       "prompt_number": 45,
       "text": [
        "    name gender  age\n",
        "0  frank      M   29\n",
        "2    tom      M   35\n",
        "3    ted      M   33\n",
        "\n",
        "[3 rows x 3 columns]"
       ]
      }
     ],
     "prompt_number": 45
    },
    {
     "cell_type": "code",
     "collapsed": false,
     "input": [
      "df[df['gender'] == 'M'].mean()"
     ],
     "language": "python",
     "metadata": {
      "slideshow": {
       "slide_type": "fragment"
      }
     },
     "outputs": [
      {
       "metadata": {},
       "output_type": "pyout",
       "prompt_number": 46,
       "text": [
        "age    32.333333\n",
        "dtype: float64"
       ]
      }
     ],
     "prompt_number": 46
    },
    {
     "cell_type": "code",
     "collapsed": false,
     "input": [
      "df[df['gender'] == 'F'].mean()"
     ],
     "language": "python",
     "metadata": {
      "slideshow": {
       "slide_type": "fragment"
      }
     },
     "outputs": [
      {
       "metadata": {},
       "output_type": "pyout",
       "prompt_number": 47,
       "text": [
        "age    21.333333\n",
        "dtype: float64"
       ]
      }
     ],
     "prompt_number": 47
    },
    {
     "cell_type": "markdown",
     "metadata": {
      "slideshow": {
       "slide_type": "subslide"
      }
     },
     "source": [
      "# If there were 1000 kinds of gender, then we need to do that 1000 times...."
     ]
    },
    {
     "cell_type": "markdown",
     "metadata": {
      "slideshow": {
       "slide_type": "subslide"
      }
     },
     "source": [
      "# Who is Coming to Rescue this time?"
     ]
    },
    {
     "cell_type": "markdown",
     "metadata": {
      "slideshow": {
       "slide_type": "subslide"
      }
     },
     "source": [
      "# Silence ..."
     ]
    },
    {
     "cell_type": "markdown",
     "metadata": {
      "slideshow": {
       "slide_type": "subslide"
      }
     },
     "source": [
      "# SQL ?\n",
      "\n",
      "    SELECT gender, AVERAGE(age) FROM df GROUP BY gender"
     ]
    },
    {
     "cell_type": "markdown",
     "metadata": {
      "slideshow": {
       "slide_type": "subslide"
      }
     },
     "source": [
      "# Pandas says that he is also good at GROUP BY"
     ]
    },
    {
     "cell_type": "code",
     "collapsed": false,
     "input": [
      "df"
     ],
     "language": "python",
     "metadata": {
      "slideshow": {
       "slide_type": "fragment"
      }
     },
     "outputs": [
      {
       "html": [
        "<div style=\"max-height:1000px;max-width:1500px;overflow:auto;\">\n",
        "<table border=\"1\" class=\"dataframe\">\n",
        "  <thead>\n",
        "    <tr style=\"text-align: right;\">\n",
        "      <th></th>\n",
        "      <th>name</th>\n",
        "      <th>gender</th>\n",
        "      <th>age</th>\n",
        "    </tr>\n",
        "  </thead>\n",
        "  <tbody>\n",
        "    <tr>\n",
        "      <th>0</th>\n",
        "      <td> frank</td>\n",
        "      <td> M</td>\n",
        "      <td> 29</td>\n",
        "    </tr>\n",
        "    <tr>\n",
        "      <th>1</th>\n",
        "      <td>  mary</td>\n",
        "      <td> F</td>\n",
        "      <td> 23</td>\n",
        "    </tr>\n",
        "    <tr>\n",
        "      <th>2</th>\n",
        "      <td>   tom</td>\n",
        "      <td> M</td>\n",
        "      <td> 35</td>\n",
        "    </tr>\n",
        "    <tr>\n",
        "      <th>3</th>\n",
        "      <td>   ted</td>\n",
        "      <td> M</td>\n",
        "      <td> 33</td>\n",
        "    </tr>\n",
        "    <tr>\n",
        "      <th>4</th>\n",
        "      <td>  jean</td>\n",
        "      <td> F</td>\n",
        "      <td> 21</td>\n",
        "    </tr>\n",
        "    <tr>\n",
        "      <th>5</th>\n",
        "      <td>  lisa</td>\n",
        "      <td> F</td>\n",
        "      <td> 20</td>\n",
        "    </tr>\n",
        "  </tbody>\n",
        "</table>\n",
        "<p>6 rows \u00d7 3 columns</p>\n",
        "</div>"
       ],
       "metadata": {},
       "output_type": "pyout",
       "prompt_number": 48,
       "text": [
        "    name gender  age\n",
        "0  frank      M   29\n",
        "1   mary      F   23\n",
        "2    tom      M   35\n",
        "3    ted      M   33\n",
        "4   jean      F   21\n",
        "5   lisa      F   20\n",
        "\n",
        "[6 rows x 3 columns]"
       ]
      }
     ],
     "prompt_number": 48
    },
    {
     "cell_type": "code",
     "collapsed": false,
     "input": [
      "df.groupby('gender')['age'].mean()"
     ],
     "language": "python",
     "metadata": {
      "slideshow": {
       "slide_type": "fragment"
      }
     },
     "outputs": [
      {
       "metadata": {},
       "output_type": "pyout",
       "prompt_number": 49,
       "text": [
        "gender\n",
        "F         21.333333\n",
        "M         32.333333\n",
        "Name: age, dtype: float64"
       ]
      }
     ],
     "prompt_number": 49
    },
    {
     "cell_type": "markdown",
     "metadata": {
      "slideshow": {
       "slide_type": "fragment"
      }
     },
     "source": [
      "### Similar to SQL\n",
      "    SELECT gender, AVERAGE(age) FROM df GROUP BY gender"
     ]
    },
    {
     "cell_type": "markdown",
     "metadata": {
      "slideshow": {
       "slide_type": "subslide"
      }
     },
     "source": [
      "# Pandas provides lots of useful function. \n",
      "# Let's learn by doing a simple project."
     ]
    },
    {
     "cell_type": "markdown",
     "metadata": {
      "slideshow": {
       "slide_type": "slide"
      }
     },
     "source": [
      "# DataSet - US Baby Names (1880 - 2010)\n",
      "\n",
      "<https://dl.dropboxusercontent.com/u/61771162/names.zip>"
     ]
    },
    {
     "cell_type": "markdown",
     "metadata": {
      "slideshow": {
       "slide_type": "slide"
      }
     },
     "source": [
      "# Glance at the Data"
     ]
    },
    {
     "cell_type": "code",
     "collapsed": false,
     "input": [
      "!head -n 10 pandas-dataset/names/yob1880.txt"
     ],
     "language": "python",
     "metadata": {
      "slideshow": {
       "slide_type": "-"
      }
     },
     "outputs": [
      {
       "output_type": "stream",
       "stream": "stdout",
       "text": [
        "Mary,F,7065\r",
        "\r\n",
        "Anna,F,2604\r",
        "\r\n",
        "Emma,F,2003\r",
        "\r\n",
        "Elizabeth,F,1939\r",
        "\r\n",
        "Minnie,F,1746\r",
        "\r\n",
        "Margaret,F,1578\r",
        "\r\n",
        "Ida,F,1472\r",
        "\r\n",
        "Alice,F,1414\r",
        "\r\n",
        "Bertha,F,1320\r",
        "\r\n",
        "Sarah,F,1288\r",
        "\r\n"
       ]
      }
     ],
     "prompt_number": 50
    },
    {
     "cell_type": "markdown",
     "metadata": {
      "slideshow": {
       "slide_type": "subslide"
      }
     },
     "source": [
      "# Seems it's a CSV file\n",
      "\n"
     ]
    },
    {
     "cell_type": "markdown",
     "metadata": {
      "slideshow": {
       "slide_type": "fragment"
      }
     },
     "source": [
      "## You know... Pandas is coming to rescue"
     ]
    },
    {
     "cell_type": "markdown",
     "metadata": {
      "slideshow": {
       "slide_type": "fragment"
      }
     },
     "source": [
      "### Pandas provides many IO tools including:\n",
      "\n",
      "* csv\n",
      "* excel\n",
      "* sql\n",
      "* json\n",
      "* html\n",
      "* etc...\n",
      "\n",
      "We're going to use [read_csv](http://pandas.pydata.org/pandas-docs/stable/generated/pandas.io.parsers.read_csv.html) to read the CSV file into DataFrame\n"
     ]
    },
    {
     "cell_type": "markdown",
     "metadata": {
      "slideshow": {
       "slide_type": "slide"
      }
     },
     "source": [
      "# First, let's import the pandas module"
     ]
    },
    {
     "cell_type": "code",
     "collapsed": false,
     "input": [
      "import pandas as pd"
     ],
     "language": "python",
     "metadata": {},
     "outputs": [],
     "prompt_number": 51
    },
    {
     "cell_type": "markdown",
     "metadata": {
      "slideshow": {
       "slide_type": "subslide"
      }
     },
     "source": [
      "# Now, You can Read the CSV into the DataFrame"
     ]
    },
    {
     "cell_type": "code",
     "collapsed": false,
     "input": [
      "names1880 = pd.read_csv('pandas-dataset/names/yob1880.txt', names=['name', 'sex', 'births'])"
     ],
     "language": "python",
     "metadata": {},
     "outputs": [],
     "prompt_number": 52
    },
    {
     "cell_type": "markdown",
     "metadata": {
      "slideshow": {
       "slide_type": "subslide"
      }
     },
     "source": [
      "# Take a look at the first 10 data"
     ]
    },
    {
     "cell_type": "code",
     "collapsed": false,
     "input": [
      "names1880.head(10)"
     ],
     "language": "python",
     "metadata": {
      "slideshow": {
       "slide_type": "fragment"
      }
     },
     "outputs": [
      {
       "html": [
        "<div style=\"max-height:1000px;max-width:1500px;overflow:auto;\">\n",
        "<table border=\"1\" class=\"dataframe\">\n",
        "  <thead>\n",
        "    <tr style=\"text-align: right;\">\n",
        "      <th></th>\n",
        "      <th>name</th>\n",
        "      <th>sex</th>\n",
        "      <th>births</th>\n",
        "    </tr>\n",
        "  </thead>\n",
        "  <tbody>\n",
        "    <tr>\n",
        "      <th>0</th>\n",
        "      <td>      Mary</td>\n",
        "      <td> F</td>\n",
        "      <td> 7065</td>\n",
        "    </tr>\n",
        "    <tr>\n",
        "      <th>1</th>\n",
        "      <td>      Anna</td>\n",
        "      <td> F</td>\n",
        "      <td> 2604</td>\n",
        "    </tr>\n",
        "    <tr>\n",
        "      <th>2</th>\n",
        "      <td>      Emma</td>\n",
        "      <td> F</td>\n",
        "      <td> 2003</td>\n",
        "    </tr>\n",
        "    <tr>\n",
        "      <th>3</th>\n",
        "      <td> Elizabeth</td>\n",
        "      <td> F</td>\n",
        "      <td> 1939</td>\n",
        "    </tr>\n",
        "    <tr>\n",
        "      <th>4</th>\n",
        "      <td>    Minnie</td>\n",
        "      <td> F</td>\n",
        "      <td> 1746</td>\n",
        "    </tr>\n",
        "    <tr>\n",
        "      <th>5</th>\n",
        "      <td>  Margaret</td>\n",
        "      <td> F</td>\n",
        "      <td> 1578</td>\n",
        "    </tr>\n",
        "    <tr>\n",
        "      <th>6</th>\n",
        "      <td>       Ida</td>\n",
        "      <td> F</td>\n",
        "      <td> 1472</td>\n",
        "    </tr>\n",
        "    <tr>\n",
        "      <th>7</th>\n",
        "      <td>     Alice</td>\n",
        "      <td> F</td>\n",
        "      <td> 1414</td>\n",
        "    </tr>\n",
        "    <tr>\n",
        "      <th>8</th>\n",
        "      <td>    Bertha</td>\n",
        "      <td> F</td>\n",
        "      <td> 1320</td>\n",
        "    </tr>\n",
        "    <tr>\n",
        "      <th>9</th>\n",
        "      <td>     Sarah</td>\n",
        "      <td> F</td>\n",
        "      <td> 1288</td>\n",
        "    </tr>\n",
        "  </tbody>\n",
        "</table>\n",
        "<p>10 rows \u00d7 3 columns</p>\n",
        "</div>"
       ],
       "metadata": {},
       "output_type": "pyout",
       "prompt_number": 53,
       "text": [
        "        name sex  births\n",
        "0       Mary   F    7065\n",
        "1       Anna   F    2604\n",
        "2       Emma   F    2003\n",
        "3  Elizabeth   F    1939\n",
        "4     Minnie   F    1746\n",
        "5   Margaret   F    1578\n",
        "6        Ida   F    1472\n",
        "7      Alice   F    1414\n",
        "8     Bertha   F    1320\n",
        "9      Sarah   F    1288\n",
        "\n",
        "[10 rows x 3 columns]"
       ]
      }
     ],
     "prompt_number": 53
    },
    {
     "cell_type": "markdown",
     "metadata": {},
     "source": [
      "# How about the last 10 ?"
     ]
    },
    {
     "cell_type": "code",
     "collapsed": false,
     "input": [
      "names1880.tail(10)"
     ],
     "language": "python",
     "metadata": {
      "slideshow": {
       "slide_type": "fragment"
      }
     },
     "outputs": [
      {
       "html": [
        "<div style=\"max-height:1000px;max-width:1500px;overflow:auto;\">\n",
        "<table border=\"1\" class=\"dataframe\">\n",
        "  <thead>\n",
        "    <tr style=\"text-align: right;\">\n",
        "      <th></th>\n",
        "      <th>name</th>\n",
        "      <th>sex</th>\n",
        "      <th>births</th>\n",
        "    </tr>\n",
        "  </thead>\n",
        "  <tbody>\n",
        "    <tr>\n",
        "      <th>1990</th>\n",
        "      <td>   Unknown</td>\n",
        "      <td> M</td>\n",
        "      <td> 5</td>\n",
        "    </tr>\n",
        "    <tr>\n",
        "      <th>1991</th>\n",
        "      <td>      Vann</td>\n",
        "      <td> M</td>\n",
        "      <td> 5</td>\n",
        "    </tr>\n",
        "    <tr>\n",
        "      <th>1992</th>\n",
        "      <td>       Wes</td>\n",
        "      <td> M</td>\n",
        "      <td> 5</td>\n",
        "    </tr>\n",
        "    <tr>\n",
        "      <th>1993</th>\n",
        "      <td>   Winston</td>\n",
        "      <td> M</td>\n",
        "      <td> 5</td>\n",
        "    </tr>\n",
        "    <tr>\n",
        "      <th>1994</th>\n",
        "      <td>      Wood</td>\n",
        "      <td> M</td>\n",
        "      <td> 5</td>\n",
        "    </tr>\n",
        "    <tr>\n",
        "      <th>1995</th>\n",
        "      <td>    Woodie</td>\n",
        "      <td> M</td>\n",
        "      <td> 5</td>\n",
        "    </tr>\n",
        "    <tr>\n",
        "      <th>1996</th>\n",
        "      <td>    Worthy</td>\n",
        "      <td> M</td>\n",
        "      <td> 5</td>\n",
        "    </tr>\n",
        "    <tr>\n",
        "      <th>1997</th>\n",
        "      <td>    Wright</td>\n",
        "      <td> M</td>\n",
        "      <td> 5</td>\n",
        "    </tr>\n",
        "    <tr>\n",
        "      <th>1998</th>\n",
        "      <td>      York</td>\n",
        "      <td> M</td>\n",
        "      <td> 5</td>\n",
        "    </tr>\n",
        "    <tr>\n",
        "      <th>1999</th>\n",
        "      <td> Zachariah</td>\n",
        "      <td> M</td>\n",
        "      <td> 5</td>\n",
        "    </tr>\n",
        "  </tbody>\n",
        "</table>\n",
        "<p>10 rows \u00d7 3 columns</p>\n",
        "</div>"
       ],
       "metadata": {},
       "output_type": "pyout",
       "prompt_number": 54,
       "text": [
        "           name sex  births\n",
        "1990    Unknown   M       5\n",
        "1991       Vann   M       5\n",
        "1992        Wes   M       5\n",
        "1993    Winston   M       5\n",
        "1994       Wood   M       5\n",
        "1995     Woodie   M       5\n",
        "1996     Worthy   M       5\n",
        "1997     Wright   M       5\n",
        "1998       York   M       5\n",
        "1999  Zachariah   M       5\n",
        "\n",
        "[10 rows x 3 columns]"
       ]
      }
     ],
     "prompt_number": 54
    },
    {
     "cell_type": "markdown",
     "metadata": {
      "slideshow": {
       "slide_type": "subslide"
      }
     },
     "source": [
      "#Seems there're two kinds of gender, Proof it!"
     ]
    },
    {
     "cell_type": "code",
     "collapsed": false,
     "input": [
      "names1880['sex'].unique()"
     ],
     "language": "python",
     "metadata": {
      "slideshow": {
       "slide_type": "fragment"
      }
     },
     "outputs": [
      {
       "metadata": {},
       "output_type": "pyout",
       "prompt_number": 55,
       "text": [
        "array(['F', 'M'], dtype=object)"
       ]
      }
     ],
     "prompt_number": 55
    },
    {
     "cell_type": "markdown",
     "metadata": {
      "slideshow": {
       "slide_type": "subslide"
      }
     },
     "source": [
      "# The births number of Males and Females?"
     ]
    },
    {
     "cell_type": "code",
     "collapsed": false,
     "input": [
      "names1880.groupby('sex')['births'].sum()"
     ],
     "language": "python",
     "metadata": {
      "slideshow": {
       "slide_type": "fragment"
      }
     },
     "outputs": [
      {
       "metadata": {},
       "output_type": "pyout",
       "prompt_number": 56,
       "text": [
        "sex\n",
        "F       90993\n",
        "M      110493\n",
        "Name: births, dtype: int64"
       ]
      }
     ],
     "prompt_number": 56
    },
    {
     "cell_type": "markdown",
     "metadata": {
      "slideshow": {
       "slide_type": "slide"
      }
     },
     "source": [
      "# Now, you got some basic idea for each dataset. It's time to load all the dataset."
     ]
    },
    {
     "cell_type": "code",
     "collapsed": false,
     "input": [
      "namesall = []\n",
      "for year in range(1880, 2011):\n",
      "    path = 'pandas-dataset/names/yob' + str(year) + '.txt'\n",
      "    df = pd.read_csv(path, names=['name', 'sex', 'births'])\n",
      "    \n",
      "    df['year'] = year\n",
      "    namesall.append(df)"
     ],
     "language": "python",
     "metadata": {
      "slideshow": {
       "slide_type": "-"
      }
     },
     "outputs": [],
     "prompt_number": 57
    },
    {
     "cell_type": "code",
     "collapsed": false,
     "input": [
      "print namesall[0].head(10)"
     ],
     "language": "python",
     "metadata": {
      "slideshow": {
       "slide_type": "fragment"
      }
     },
     "outputs": [
      {
       "output_type": "stream",
       "stream": "stdout",
       "text": [
        "        name sex  births  year\n",
        "0       Mary   F    7065  1880\n",
        "1       Anna   F    2604  1880\n",
        "2       Emma   F    2003  1880\n",
        "3  Elizabeth   F    1939  1880\n",
        "4     Minnie   F    1746  1880\n",
        "5   Margaret   F    1578  1880\n",
        "6        Ida   F    1472  1880\n",
        "7      Alice   F    1414  1880\n",
        "8     Bertha   F    1320  1880\n",
        "9      Sarah   F    1288  1880\n",
        "\n",
        "[10 rows x 4 columns]\n"
       ]
      }
     ],
     "prompt_number": 58
    },
    {
     "cell_type": "markdown",
     "metadata": {
      "slideshow": {
       "slide_type": "subslide"
      }
     },
     "source": [
      "# How to concatenate them?"
     ]
    },
    {
     "cell_type": "markdown",
     "metadata": {
      "slideshow": {
       "slide_type": "fragment"
      }
     },
     "source": [
      "### Pandas says: Just concat them!"
     ]
    },
    {
     "cell_type": "code",
     "collapsed": false,
     "input": [
      "df_names = pd.concat(namesall, ignore_index=True)\n",
      "df_names['year'].unique()"
     ],
     "language": "python",
     "metadata": {
      "slideshow": {
       "slide_type": "fragment"
      }
     },
     "outputs": [
      {
       "metadata": {},
       "output_type": "pyout",
       "prompt_number": 59,
       "text": [
        "array([1880, 1881, 1882, 1883, 1884, 1885, 1886, 1887, 1888, 1889, 1890,\n",
        "       1891, 1892, 1893, 1894, 1895, 1896, 1897, 1898, 1899, 1900, 1901,\n",
        "       1902, 1903, 1904, 1905, 1906, 1907, 1908, 1909, 1910, 1911, 1912,\n",
        "       1913, 1914, 1915, 1916, 1917, 1918, 1919, 1920, 1921, 1922, 1923,\n",
        "       1924, 1925, 1926, 1927, 1928, 1929, 1930, 1931, 1932, 1933, 1934,\n",
        "       1935, 1936, 1937, 1938, 1939, 1940, 1941, 1942, 1943, 1944, 1945,\n",
        "       1946, 1947, 1948, 1949, 1950, 1951, 1952, 1953, 1954, 1955, 1956,\n",
        "       1957, 1958, 1959, 1960, 1961, 1962, 1963, 1964, 1965, 1966, 1967,\n",
        "       1968, 1969, 1970, 1971, 1972, 1973, 1974, 1975, 1976, 1977, 1978,\n",
        "       1979, 1980, 1981, 1982, 1983, 1984, 1985, 1986, 1987, 1988, 1989,\n",
        "       1990, 1991, 1992, 1993, 1994, 1995, 1996, 1997, 1998, 1999, 2000,\n",
        "       2001, 2002, 2003, 2004, 2005, 2006, 2007, 2008, 2009, 2010])"
       ]
      }
     ],
     "prompt_number": 59
    },
    {
     "cell_type": "markdown",
     "metadata": {
      "slideshow": {
       "slide_type": "subslide"
      }
     },
     "source": [
      "# We're still interested in the births of Males and Females\n",
      "# But please seperate them by year"
     ]
    },
    {
     "cell_type": "code",
     "collapsed": false,
     "input": [
      "df_names.groupby(['year', 'sex'])['births'].sum().head(10)"
     ],
     "language": "python",
     "metadata": {},
     "outputs": [
      {
       "metadata": {},
       "output_type": "pyout",
       "prompt_number": 60,
       "text": [
        "year  sex\n",
        "1880  F       90993\n",
        "      M      110493\n",
        "1881  F       91955\n",
        "      M      100748\n",
        "1882  F      107851\n",
        "      M      113687\n",
        "1883  F      112322\n",
        "      M      104632\n",
        "1884  F      129021\n",
        "      M      114445\n",
        "Name: births, dtype: int64"
       ]
      }
     ],
     "prompt_number": 60
    },
    {
     "cell_type": "markdown",
     "metadata": {
      "slideshow": {
       "slide_type": "fragment"
      }
     },
     "source": [
      "### It might be better if I can set F and M as columns"
     ]
    },
    {
     "cell_type": "markdown",
     "metadata": {},
     "source": [
      "## You need Pivot Table!"
     ]
    },
    {
     "cell_type": "code",
     "collapsed": false,
     "input": [
      "births = df_names.pivot_table('births', rows='year', cols='sex', aggfunc=sum)\n",
      "births.head(5)"
     ],
     "language": "python",
     "metadata": {},
     "outputs": [
      {
       "html": [
        "<div style=\"max-height:1000px;max-width:1500px;overflow:auto;\">\n",
        "<table border=\"1\" class=\"dataframe\">\n",
        "  <thead>\n",
        "    <tr style=\"text-align: right;\">\n",
        "      <th>sex</th>\n",
        "      <th>F</th>\n",
        "      <th>M</th>\n",
        "    </tr>\n",
        "    <tr>\n",
        "      <th>year</th>\n",
        "      <th></th>\n",
        "      <th></th>\n",
        "    </tr>\n",
        "  </thead>\n",
        "  <tbody>\n",
        "    <tr>\n",
        "      <th>1880</th>\n",
        "      <td>  90993</td>\n",
        "      <td> 110493</td>\n",
        "    </tr>\n",
        "    <tr>\n",
        "      <th>1881</th>\n",
        "      <td>  91955</td>\n",
        "      <td> 100748</td>\n",
        "    </tr>\n",
        "    <tr>\n",
        "      <th>1882</th>\n",
        "      <td> 107851</td>\n",
        "      <td> 113687</td>\n",
        "    </tr>\n",
        "    <tr>\n",
        "      <th>1883</th>\n",
        "      <td> 112322</td>\n",
        "      <td> 104632</td>\n",
        "    </tr>\n",
        "    <tr>\n",
        "      <th>1884</th>\n",
        "      <td> 129021</td>\n",
        "      <td> 114445</td>\n",
        "    </tr>\n",
        "  </tbody>\n",
        "</table>\n",
        "<p>5 rows \u00d7 2 columns</p>\n",
        "</div>"
       ],
       "metadata": {},
       "output_type": "pyout",
       "prompt_number": 61,
       "text": [
        "sex        F       M\n",
        "year                \n",
        "1880   90993  110493\n",
        "1881   91955  100748\n",
        "1882  107851  113687\n",
        "1883  112322  104632\n",
        "1884  129021  114445\n",
        "\n",
        "[5 rows x 2 columns]"
       ]
      }
     ],
     "prompt_number": 61
    },
    {
     "cell_type": "code",
     "collapsed": false,
     "input": [
      "births.tail(5)"
     ],
     "language": "python",
     "metadata": {},
     "outputs": [
      {
       "html": [
        "<div style=\"max-height:1000px;max-width:1500px;overflow:auto;\">\n",
        "<table border=\"1\" class=\"dataframe\">\n",
        "  <thead>\n",
        "    <tr style=\"text-align: right;\">\n",
        "      <th>sex</th>\n",
        "      <th>F</th>\n",
        "      <th>M</th>\n",
        "    </tr>\n",
        "    <tr>\n",
        "      <th>year</th>\n",
        "      <th></th>\n",
        "      <th></th>\n",
        "    </tr>\n",
        "  </thead>\n",
        "  <tbody>\n",
        "    <tr>\n",
        "      <th>2006</th>\n",
        "      <td> 1896468</td>\n",
        "      <td> 2050234</td>\n",
        "    </tr>\n",
        "    <tr>\n",
        "      <th>2007</th>\n",
        "      <td> 1916888</td>\n",
        "      <td> 2069242</td>\n",
        "    </tr>\n",
        "    <tr>\n",
        "      <th>2008</th>\n",
        "      <td> 1883645</td>\n",
        "      <td> 2032310</td>\n",
        "    </tr>\n",
        "    <tr>\n",
        "      <th>2009</th>\n",
        "      <td> 1827643</td>\n",
        "      <td> 1973359</td>\n",
        "    </tr>\n",
        "    <tr>\n",
        "      <th>2010</th>\n",
        "      <td> 1759010</td>\n",
        "      <td> 1898382</td>\n",
        "    </tr>\n",
        "  </tbody>\n",
        "</table>\n",
        "<p>5 rows \u00d7 2 columns</p>\n",
        "</div>"
       ],
       "metadata": {},
       "output_type": "pyout",
       "prompt_number": 62,
       "text": [
        "sex         F        M\n",
        "year                  \n",
        "2006  1896468  2050234\n",
        "2007  1916888  2069242\n",
        "2008  1883645  2032310\n",
        "2009  1827643  1973359\n",
        "2010  1759010  1898382\n",
        "\n",
        "[5 rows x 2 columns]"
       ]
      }
     ],
     "prompt_number": 62
    },
    {
     "cell_type": "markdown",
     "metadata": {
      "slideshow": {
       "slide_type": "slide"
      }
     },
     "source": [
      "# Is there a much better way that I can understand my data?"
     ]
    },
    {
     "cell_type": "markdown",
     "metadata": {
      "slideshow": {
       "slide_type": "fragment"
      }
     },
     "source": [
      "## How about this"
     ]
    },
    {
     "cell_type": "code",
     "collapsed": false,
     "input": [
      "births.plot(title='Total births by sex and year', figsize=(15, 5))"
     ],
     "language": "python",
     "metadata": {
      "slideshow": {
       "slide_type": "-"
      }
     },
     "outputs": [
      {
       "metadata": {},
       "output_type": "pyout",
       "prompt_number": 76,
       "text": [
        "<matplotlib.axes.AxesSubplot at 0x112f17990>"
       ]
      },
      {
       "metadata": {},
       "output_type": "display_data",
       "png": "[encoded data removed]",
       "text": [
        "<matplotlib.figure.Figure at 0x112f1b690>"
       ]
      }
     ],
     "prompt_number": 76
    },
    {
     "cell_type": "markdown",
     "metadata": {
      "slideshow": {
       "slide_type": "slide"
      }
     },
     "source": [
      "# Case Study - \"Last Letter\" Revolution\n",
      "<http://www.babynamewizard.com/archives/2007/7/where-all-boys-end-up-nowadays>\n",
      "\n",
      "In 2007, Laura Wattenberg, a name reasearcher, said that the distribution of the last letter of boy names has changed significantly over the last 100 years"
     ]
    },
    {
     "cell_type": "markdown",
     "metadata": {
      "slideshow": {
       "slide_type": "subslide"
      }
     },
     "source": [
      "# How about learning by simulation ?"
     ]
    },
    {
     "cell_type": "markdown",
     "metadata": {
      "slideshow": {
       "slide_type": "slide"
      }
     },
     "source": [
      "# First, lets extract the last letters for the males"
     ]
    },
    {
     "cell_type": "code",
     "collapsed": false,
     "input": [
      "df_last_letter = df_names[df_names['sex'] == 'M']\n",
      "df_last_letter['last_letter'] = df_last_letter['name'].str[-1:]\n",
      "print df_last_letter.head(10)"
     ],
     "language": "python",
     "metadata": {
      "slideshow": {
       "slide_type": "-"
      }
     },
     "outputs": [
      {
       "output_type": "stream",
       "stream": "stdout",
       "text": [
        "        name sex  births  year last_letter\n",
        "942     John   M    9655  1880           n\n",
        "943  William   M    9533  1880           m\n",
        "944    James   M    5927  1880           s\n",
        "945  Charles   M    5348  1880           s\n",
        "946   George   M    5126  1880           e\n",
        "947    Frank   M    3242  1880           k\n",
        "948   Joseph   M    2632  1880           h\n",
        "949   Thomas   M    2534  1880           s\n",
        "950    Henry   M    2444  1880           y\n",
        "951   Robert   M    2416  1880           t\n",
        "\n",
        "[10 rows x 5 columns]\n"
       ]
      }
     ],
     "prompt_number": 64
    },
    {
     "cell_type": "markdown",
     "metadata": {
      "slideshow": {
       "slide_type": "slide"
      }
     },
     "source": [
      "# We only focus on last_letter, year, and births"
     ]
    },
    {
     "cell_type": "markdown",
     "metadata": {
      "slideshow": {
       "slide_type": "fragment"
      }
     },
     "source": [
      "### So we need pivot_table again"
     ]
    },
    {
     "cell_type": "code",
     "collapsed": false,
     "input": [
      "table = df_last_letter.pivot_table('births', rows='last_letter', cols=['year'], aggfunc=sum)\n",
      "table"
     ],
     "language": "python",
     "metadata": {
      "slideshow": {
       "slide_type": "fragment"
      }
     },
     "outputs": [
      {
       "html": [
        "<div style=\"max-height:1000px;max-width:1500px;overflow:auto;\">\n",
        "<table border=\"1\" class=\"dataframe\">\n",
        "  <thead>\n",
        "    <tr style=\"text-align: right;\">\n",
        "      <th>year</th>\n",
        "      <th>1880</th>\n",
        "      <th>1881</th>\n",
        "      <th>1882</th>\n",
        "      <th>1883</th>\n",
        "      <th>1884</th>\n",
        "      <th>1885</th>\n",
        "      <th>1886</th>\n",
        "      <th>1887</th>\n",
        "      <th>1888</th>\n",
        "      <th>1889</th>\n",
        "      <th>1890</th>\n",
        "      <th>1891</th>\n",
        "      <th>1892</th>\n",
        "      <th>1893</th>\n",
        "      <th>1894</th>\n",
        "      <th>1895</th>\n",
        "      <th>1896</th>\n",
        "      <th>1897</th>\n",
        "      <th>1898</th>\n",
        "      <th>1899</th>\n",
        "      <th></th>\n",
        "    </tr>\n",
        "    <tr>\n",
        "      <th>last_letter</th>\n",
        "      <th></th>\n",
        "      <th></th>\n",
        "      <th></th>\n",
        "      <th></th>\n",
        "      <th></th>\n",
        "      <th></th>\n",
        "      <th></th>\n",
        "      <th></th>\n",
        "      <th></th>\n",
        "      <th></th>\n",
        "      <th></th>\n",
        "      <th></th>\n",
        "      <th></th>\n",
        "      <th></th>\n",
        "      <th></th>\n",
        "      <th></th>\n",
        "      <th></th>\n",
        "      <th></th>\n",
        "      <th></th>\n",
        "      <th></th>\n",
        "    </tr>\n",
        "  </thead>\n",
        "  <tbody>\n",
        "    <tr>\n",
        "      <th>a</th>\n",
        "      <td>   776</td>\n",
        "      <td>   767</td>\n",
        "      <td>   773</td>\n",
        "      <td>   757</td>\n",
        "      <td>   817</td>\n",
        "      <td>   713</td>\n",
        "      <td>   775</td>\n",
        "      <td>   700</td>\n",
        "      <td>   819</td>\n",
        "      <td>   704</td>\n",
        "      <td>   716</td>\n",
        "      <td>   679</td>\n",
        "      <td>   780</td>\n",
        "      <td>   657</td>\n",
        "      <td>   737</td>\n",
        "      <td>   750</td>\n",
        "      <td>   701</td>\n",
        "      <td>   652</td>\n",
        "      <td>   732</td>\n",
        "      <td>   585</td>\n",
        "      <td>...</td>\n",
        "    </tr>\n",
        "    <tr>\n",
        "      <th>b</th>\n",
        "      <td>   509</td>\n",
        "      <td>   470</td>\n",
        "      <td>   506</td>\n",
        "      <td>   452</td>\n",
        "      <td>   496</td>\n",
        "      <td>   441</td>\n",
        "      <td>   452</td>\n",
        "      <td>   434</td>\n",
        "      <td>   468</td>\n",
        "      <td>   389</td>\n",
        "      <td>   399</td>\n",
        "      <td>   319</td>\n",
        "      <td>   374</td>\n",
        "      <td>   380</td>\n",
        "      <td>   364</td>\n",
        "      <td>   359</td>\n",
        "      <td>   321</td>\n",
        "      <td>   276</td>\n",
        "      <td>   337</td>\n",
        "      <td>   278</td>\n",
        "      <td>...</td>\n",
        "    </tr>\n",
        "    <tr>\n",
        "      <th>c</th>\n",
        "      <td>   349</td>\n",
        "      <td>   331</td>\n",
        "      <td>   349</td>\n",
        "      <td>   299</td>\n",
        "      <td>   319</td>\n",
        "      <td>   301</td>\n",
        "      <td>   283</td>\n",
        "      <td>   261</td>\n",
        "      <td>   305</td>\n",
        "      <td>   271</td>\n",
        "      <td>   270</td>\n",
        "      <td>   226</td>\n",
        "      <td>   288</td>\n",
        "      <td>   244</td>\n",
        "      <td>   244</td>\n",
        "      <td>   246</td>\n",
        "      <td>   295</td>\n",
        "      <td>   290</td>\n",
        "      <td>   242</td>\n",
        "      <td>   231</td>\n",
        "      <td>...</td>\n",
        "    </tr>\n",
        "    <tr>\n",
        "      <th>d</th>\n",
        "      <td>  9177</td>\n",
        "      <td>  8387</td>\n",
        "      <td>  9702</td>\n",
        "      <td>  8796</td>\n",
        "      <td>  9856</td>\n",
        "      <td>  9214</td>\n",
        "      <td>  9710</td>\n",
        "      <td>  9033</td>\n",
        "      <td> 10600</td>\n",
        "      <td> 10167</td>\n",
        "      <td> 10418</td>\n",
        "      <td>  9561</td>\n",
        "      <td> 11763</td>\n",
        "      <td> 11043</td>\n",
        "      <td> 11631</td>\n",
        "      <td> 11742</td>\n",
        "      <td> 12302</td>\n",
        "      <td> 11500</td>\n",
        "      <td> 12870</td>\n",
        "      <td> 11155</td>\n",
        "      <td>...</td>\n",
        "    </tr>\n",
        "    <tr>\n",
        "      <th>e</th>\n",
        "      <td> 13493</td>\n",
        "      <td> 12406</td>\n",
        "      <td> 14613</td>\n",
        "      <td> 13191</td>\n",
        "      <td> 14637</td>\n",
        "      <td> 14048</td>\n",
        "      <td> 14475</td>\n",
        "      <td> 13212</td>\n",
        "      <td> 15744</td>\n",
        "      <td> 14389</td>\n",
        "      <td> 14779</td>\n",
        "      <td> 13550</td>\n",
        "      <td> 16549</td>\n",
        "      <td> 15203</td>\n",
        "      <td> 15952</td>\n",
        "      <td> 16404</td>\n",
        "      <td> 16498</td>\n",
        "      <td> 15827</td>\n",
        "      <td> 17326</td>\n",
        "      <td> 15174</td>\n",
        "      <td>...</td>\n",
        "    </tr>\n",
        "    <tr>\n",
        "      <th>f</th>\n",
        "      <td>   108</td>\n",
        "      <td>    83</td>\n",
        "      <td>   135</td>\n",
        "      <td>   106</td>\n",
        "      <td>   131</td>\n",
        "      <td>   115</td>\n",
        "      <td>   112</td>\n",
        "      <td>   124</td>\n",
        "      <td>   140</td>\n",
        "      <td>   124</td>\n",
        "      <td>   125</td>\n",
        "      <td>   140</td>\n",
        "      <td>   107</td>\n",
        "      <td>   130</td>\n",
        "      <td>   114</td>\n",
        "      <td>   109</td>\n",
        "      <td>   115</td>\n",
        "      <td>   120</td>\n",
        "      <td>   110</td>\n",
        "      <td>    83</td>\n",
        "      <td>...</td>\n",
        "    </tr>\n",
        "    <tr>\n",
        "      <th>g</th>\n",
        "      <td>   147</td>\n",
        "      <td>   146</td>\n",
        "      <td>   146</td>\n",
        "      <td>   135</td>\n",
        "      <td>   160</td>\n",
        "      <td>   182</td>\n",
        "      <td>   141</td>\n",
        "      <td>   117</td>\n",
        "      <td>   190</td>\n",
        "      <td>   124</td>\n",
        "      <td>   157</td>\n",
        "      <td>   133</td>\n",
        "      <td>   152</td>\n",
        "      <td>   191</td>\n",
        "      <td>   186</td>\n",
        "      <td>   222</td>\n",
        "      <td>   196</td>\n",
        "      <td>   205</td>\n",
        "      <td>   197</td>\n",
        "      <td>   162</td>\n",
        "      <td>...</td>\n",
        "    </tr>\n",
        "    <tr>\n",
        "      <th>h</th>\n",
        "      <td>  4049</td>\n",
        "      <td>  3766</td>\n",
        "      <td>  4176</td>\n",
        "      <td>  3925</td>\n",
        "      <td>  4242</td>\n",
        "      <td>  4055</td>\n",
        "      <td>  4087</td>\n",
        "      <td>  3951</td>\n",
        "      <td>  4638</td>\n",
        "      <td>  4261</td>\n",
        "      <td>  4333</td>\n",
        "      <td>  4134</td>\n",
        "      <td>  5017</td>\n",
        "      <td>  4735</td>\n",
        "      <td>  4825</td>\n",
        "      <td>  4873</td>\n",
        "      <td>  5012</td>\n",
        "      <td>  4660</td>\n",
        "      <td>  5194</td>\n",
        "      <td>  4562</td>\n",
        "      <td>...</td>\n",
        "    </tr>\n",
        "    <tr>\n",
        "      <th>i</th>\n",
        "      <td>   200</td>\n",
        "      <td>   206</td>\n",
        "      <td>   207</td>\n",
        "      <td>   167</td>\n",
        "      <td>   158</td>\n",
        "      <td>   147</td>\n",
        "      <td>   171</td>\n",
        "      <td>   139</td>\n",
        "      <td>   181</td>\n",
        "      <td>   154</td>\n",
        "      <td>   131</td>\n",
        "      <td>   128</td>\n",
        "      <td>   159</td>\n",
        "      <td>   137</td>\n",
        "      <td>   139</td>\n",
        "      <td>   127</td>\n",
        "      <td>   119</td>\n",
        "      <td>   104</td>\n",
        "      <td>   107</td>\n",
        "      <td>   101</td>\n",
        "      <td>...</td>\n",
        "    </tr>\n",
        "    <tr>\n",
        "      <th>j</th>\n",
        "      <td>   NaN</td>\n",
        "      <td>   NaN</td>\n",
        "      <td>   NaN</td>\n",
        "      <td>   NaN</td>\n",
        "      <td>   NaN</td>\n",
        "      <td>   NaN</td>\n",
        "      <td>   NaN</td>\n",
        "      <td>   NaN</td>\n",
        "      <td>   NaN</td>\n",
        "      <td>   NaN</td>\n",
        "      <td>   NaN</td>\n",
        "      <td>   NaN</td>\n",
        "      <td>   NaN</td>\n",
        "      <td>   NaN</td>\n",
        "      <td>   NaN</td>\n",
        "      <td>   NaN</td>\n",
        "      <td>   NaN</td>\n",
        "      <td>   NaN</td>\n",
        "      <td>   NaN</td>\n",
        "      <td>   NaN</td>\n",
        "      <td>...</td>\n",
        "    </tr>\n",
        "    <tr>\n",
        "      <th>k</th>\n",
        "      <td>  4720</td>\n",
        "      <td>  4149</td>\n",
        "      <td>  4723</td>\n",
        "      <td>  4387</td>\n",
        "      <td>  4770</td>\n",
        "      <td>  4562</td>\n",
        "      <td>  4682</td>\n",
        "      <td>  4327</td>\n",
        "      <td>  5098</td>\n",
        "      <td>  4520</td>\n",
        "      <td>  4667</td>\n",
        "      <td>  4089</td>\n",
        "      <td>  4833</td>\n",
        "      <td>  4506</td>\n",
        "      <td>  4470</td>\n",
        "      <td>  4686</td>\n",
        "      <td>  4580</td>\n",
        "      <td>  4424</td>\n",
        "      <td>  4734</td>\n",
        "      <td>  4243</td>\n",
        "      <td>...</td>\n",
        "    </tr>\n",
        "    <tr>\n",
        "      <th>l</th>\n",
        "      <td>  5090</td>\n",
        "      <td>  4571</td>\n",
        "      <td>  5427</td>\n",
        "      <td>  5100</td>\n",
        "      <td>  5604</td>\n",
        "      <td>  5368</td>\n",
        "      <td>  5619</td>\n",
        "      <td>  5358</td>\n",
        "      <td>  6427</td>\n",
        "      <td>  6040</td>\n",
        "      <td>  6252</td>\n",
        "      <td>  5818</td>\n",
        "      <td>  7174</td>\n",
        "      <td>  6844</td>\n",
        "      <td>  7131</td>\n",
        "      <td>  7211</td>\n",
        "      <td>  7374</td>\n",
        "      <td>  7085</td>\n",
        "      <td>  7640</td>\n",
        "      <td>  6891</td>\n",
        "      <td>...</td>\n",
        "    </tr>\n",
        "    <tr>\n",
        "      <th>m</th>\n",
        "      <td> 11260</td>\n",
        "      <td> 10217</td>\n",
        "      <td> 11255</td>\n",
        "      <td> 10114</td>\n",
        "      <td> 10732</td>\n",
        "      <td>  9810</td>\n",
        "      <td> 10039</td>\n",
        "      <td>  9081</td>\n",
        "      <td> 10625</td>\n",
        "      <td>  9443</td>\n",
        "      <td>  9145</td>\n",
        "      <td>  8181</td>\n",
        "      <td>  9596</td>\n",
        "      <td>  8763</td>\n",
        "      <td>  8879</td>\n",
        "      <td>  8869</td>\n",
        "      <td>  9397</td>\n",
        "      <td>  8625</td>\n",
        "      <td>  9040</td>\n",
        "      <td>  7503</td>\n",
        "      <td>...</td>\n",
        "    </tr>\n",
        "    <tr>\n",
        "      <th>n</th>\n",
        "      <td> 16929</td>\n",
        "      <td> 15436</td>\n",
        "      <td> 17003</td>\n",
        "      <td> 15867</td>\n",
        "      <td> 17157</td>\n",
        "      <td> 15778</td>\n",
        "      <td> 16580</td>\n",
        "      <td> 15094</td>\n",
        "      <td> 18284</td>\n",
        "      <td> 16807</td>\n",
        "      <td> 16262</td>\n",
        "      <td> 15013</td>\n",
        "      <td> 17678</td>\n",
        "      <td> 16012</td>\n",
        "      <td> 16453</td>\n",
        "      <td> 16829</td>\n",
        "      <td> 16816</td>\n",
        "      <td> 15799</td>\n",
        "      <td> 17131</td>\n",
        "      <td> 14935</td>\n",
        "      <td>...</td>\n",
        "    </tr>\n",
        "    <tr>\n",
        "      <th>o</th>\n",
        "      <td>   933</td>\n",
        "      <td>   800</td>\n",
        "      <td>   926</td>\n",
        "      <td>   812</td>\n",
        "      <td>   939</td>\n",
        "      <td>   963</td>\n",
        "      <td>   966</td>\n",
        "      <td>   974</td>\n",
        "      <td>  1236</td>\n",
        "      <td>  1125</td>\n",
        "      <td>  1210</td>\n",
        "      <td>  1086</td>\n",
        "      <td>  1324</td>\n",
        "      <td>  1208</td>\n",
        "      <td>  1333</td>\n",
        "      <td>  1342</td>\n",
        "      <td>  1394</td>\n",
        "      <td>  1281</td>\n",
        "      <td>  1506</td>\n",
        "      <td>  1200</td>\n",
        "      <td>...</td>\n",
        "    </tr>\n",
        "    <tr>\n",
        "      <th>p</th>\n",
        "      <td>   282</td>\n",
        "      <td>   271</td>\n",
        "      <td>   308</td>\n",
        "      <td>   286</td>\n",
        "      <td>   275</td>\n",
        "      <td>   283</td>\n",
        "      <td>   304</td>\n",
        "      <td>   264</td>\n",
        "      <td>   336</td>\n",
        "      <td>   283</td>\n",
        "      <td>   304</td>\n",
        "      <td>   287</td>\n",
        "      <td>   385</td>\n",
        "      <td>   318</td>\n",
        "      <td>   340</td>\n",
        "      <td>   320</td>\n",
        "      <td>   345</td>\n",
        "      <td>   305</td>\n",
        "      <td>   362</td>\n",
        "      <td>   324</td>\n",
        "      <td>...</td>\n",
        "    </tr>\n",
        "    <tr>\n",
        "      <th>q</th>\n",
        "      <td>   NaN</td>\n",
        "      <td>   NaN</td>\n",
        "      <td>   NaN</td>\n",
        "      <td>   NaN</td>\n",
        "      <td>   NaN</td>\n",
        "      <td>   NaN</td>\n",
        "      <td>   NaN</td>\n",
        "      <td>   NaN</td>\n",
        "      <td>   NaN</td>\n",
        "      <td>   NaN</td>\n",
        "      <td>   NaN</td>\n",
        "      <td>   NaN</td>\n",
        "      <td>   NaN</td>\n",
        "      <td>   NaN</td>\n",
        "      <td>   NaN</td>\n",
        "      <td>   NaN</td>\n",
        "      <td>   NaN</td>\n",
        "      <td>   NaN</td>\n",
        "      <td>   NaN</td>\n",
        "      <td>   NaN</td>\n",
        "      <td>...</td>\n",
        "    </tr>\n",
        "    <tr>\n",
        "      <th>r</th>\n",
        "      <td>  7454</td>\n",
        "      <td>  7273</td>\n",
        "      <td>  7988</td>\n",
        "      <td>  7510</td>\n",
        "      <td>  8983</td>\n",
        "      <td>  8550</td>\n",
        "      <td>  8437</td>\n",
        "      <td>  7620</td>\n",
        "      <td>  9073</td>\n",
        "      <td>  8380</td>\n",
        "      <td>  8230</td>\n",
        "      <td>  7601</td>\n",
        "      <td>  9549</td>\n",
        "      <td>  8671</td>\n",
        "      <td>  8732</td>\n",
        "      <td>  8792</td>\n",
        "      <td>  8943</td>\n",
        "      <td>  8356</td>\n",
        "      <td>  8600</td>\n",
        "      <td>  7494</td>\n",
        "      <td>...</td>\n",
        "    </tr>\n",
        "    <tr>\n",
        "      <th>s</th>\n",
        "      <td> 18453</td>\n",
        "      <td> 16371</td>\n",
        "      <td> 18240</td>\n",
        "      <td> 16544</td>\n",
        "      <td> 17712</td>\n",
        "      <td> 16431</td>\n",
        "      <td> 16743</td>\n",
        "      <td> 14909</td>\n",
        "      <td> 17312</td>\n",
        "      <td> 15711</td>\n",
        "      <td> 15673</td>\n",
        "      <td> 13997</td>\n",
        "      <td> 16876</td>\n",
        "      <td> 15371</td>\n",
        "      <td> 15548</td>\n",
        "      <td> 15786</td>\n",
        "      <td> 15773</td>\n",
        "      <td> 14956</td>\n",
        "      <td> 15826</td>\n",
        "      <td> 13852</td>\n",
        "      <td>...</td>\n",
        "    </tr>\n",
        "    <tr>\n",
        "      <th>t</th>\n",
        "      <td>  6949</td>\n",
        "      <td>  6228</td>\n",
        "      <td>  7081</td>\n",
        "      <td>  6754</td>\n",
        "      <td>  7008</td>\n",
        "      <td>  6842</td>\n",
        "      <td>  6949</td>\n",
        "      <td>  6335</td>\n",
        "      <td>  7796</td>\n",
        "      <td>  6995</td>\n",
        "      <td>  7231</td>\n",
        "      <td>  6568</td>\n",
        "      <td>  7760</td>\n",
        "      <td>  7285</td>\n",
        "      <td>  7579</td>\n",
        "      <td>  7774</td>\n",
        "      <td>  8094</td>\n",
        "      <td>  7740</td>\n",
        "      <td>  8337</td>\n",
        "      <td>  7276</td>\n",
        "      <td>...</td>\n",
        "    </tr>\n",
        "    <tr>\n",
        "      <th>u</th>\n",
        "      <td>    25</td>\n",
        "      <td>    26</td>\n",
        "      <td>    10</td>\n",
        "      <td>    16</td>\n",
        "      <td>    15</td>\n",
        "      <td>    13</td>\n",
        "      <td>     9</td>\n",
        "      <td>    10</td>\n",
        "      <td>    15</td>\n",
        "      <td>    17</td>\n",
        "      <td>    15</td>\n",
        "      <td>     8</td>\n",
        "      <td>    14</td>\n",
        "      <td>    15</td>\n",
        "      <td>    18</td>\n",
        "      <td>     9</td>\n",
        "      <td>    15</td>\n",
        "      <td>    25</td>\n",
        "      <td>    10</td>\n",
        "      <td>    13</td>\n",
        "      <td>...</td>\n",
        "    </tr>\n",
        "    <tr>\n",
        "      <th>v</th>\n",
        "      <td>    33</td>\n",
        "      <td>    18</td>\n",
        "      <td>    43</td>\n",
        "      <td>    44</td>\n",
        "      <td>    36</td>\n",
        "      <td>    28</td>\n",
        "      <td>    32</td>\n",
        "      <td>    34</td>\n",
        "      <td>    30</td>\n",
        "      <td>    27</td>\n",
        "      <td>    21</td>\n",
        "      <td>    23</td>\n",
        "      <td>    25</td>\n",
        "      <td>    21</td>\n",
        "      <td>    19</td>\n",
        "      <td>    19</td>\n",
        "      <td>    33</td>\n",
        "      <td>    16</td>\n",
        "      <td>    23</td>\n",
        "      <td>    18</td>\n",
        "      <td>...</td>\n",
        "    </tr>\n",
        "    <tr>\n",
        "      <th>w</th>\n",
        "      <td>   853</td>\n",
        "      <td>   748</td>\n",
        "      <td>   875</td>\n",
        "      <td>   794</td>\n",
        "      <td>   826</td>\n",
        "      <td>   782</td>\n",
        "      <td>   805</td>\n",
        "      <td>   689</td>\n",
        "      <td>   823</td>\n",
        "      <td>   757</td>\n",
        "      <td>   740</td>\n",
        "      <td>   701</td>\n",
        "      <td>   861</td>\n",
        "      <td>   700</td>\n",
        "      <td>   779</td>\n",
        "      <td>   739</td>\n",
        "      <td>   758</td>\n",
        "      <td>   729</td>\n",
        "      <td>   809</td>\n",
        "      <td>   730</td>\n",
        "      <td>...</td>\n",
        "    </tr>\n",
        "    <tr>\n",
        "      <th>x</th>\n",
        "      <td>   304</td>\n",
        "      <td>   267</td>\n",
        "      <td>   355</td>\n",
        "      <td>   283</td>\n",
        "      <td>   343</td>\n",
        "      <td>   332</td>\n",
        "      <td>   352</td>\n",
        "      <td>   319</td>\n",
        "      <td>   431</td>\n",
        "      <td>   321</td>\n",
        "      <td>   353</td>\n",
        "      <td>   339</td>\n",
        "      <td>   387</td>\n",
        "      <td>   357</td>\n",
        "      <td>   373</td>\n",
        "      <td>   387</td>\n",
        "      <td>   444</td>\n",
        "      <td>   380</td>\n",
        "      <td>   434</td>\n",
        "      <td>   382</td>\n",
        "      <td>...</td>\n",
        "    </tr>\n",
        "    <tr>\n",
        "      <th>y</th>\n",
        "      <td>  8371</td>\n",
        "      <td>  7803</td>\n",
        "      <td>  8815</td>\n",
        "      <td>  8281</td>\n",
        "      <td>  9202</td>\n",
        "      <td>  8827</td>\n",
        "      <td>  9049</td>\n",
        "      <td>  8404</td>\n",
        "      <td> 10263</td>\n",
        "      <td>  9547</td>\n",
        "      <td>  9579</td>\n",
        "      <td>  8595</td>\n",
        "      <td> 10359</td>\n",
        "      <td>  9507</td>\n",
        "      <td>  9905</td>\n",
        "      <td>  9783</td>\n",
        "      <td> 10035</td>\n",
        "      <td>  9391</td>\n",
        "      <td> 11121</td>\n",
        "      <td>  9008</td>\n",
        "      <td>...</td>\n",
        "    </tr>\n",
        "    <tr>\n",
        "      <th>z</th>\n",
        "      <td>    29</td>\n",
        "      <td>     8</td>\n",
        "      <td>    31</td>\n",
        "      <td>    12</td>\n",
        "      <td>    27</td>\n",
        "      <td>    17</td>\n",
        "      <td>    13</td>\n",
        "      <td>    23</td>\n",
        "      <td>    23</td>\n",
        "      <td>    34</td>\n",
        "      <td>    16</td>\n",
        "      <td>    22</td>\n",
        "      <td>    28</td>\n",
        "      <td>    21</td>\n",
        "      <td>    24</td>\n",
        "      <td>    20</td>\n",
        "      <td>    15</td>\n",
        "      <td>    14</td>\n",
        "      <td>    15</td>\n",
        "      <td>    18</td>\n",
        "      <td>...</td>\n",
        "    </tr>\n",
        "  </tbody>\n",
        "</table>\n",
        "<p>26 rows \u00d7 131 columns</p>\n",
        "</div>"
       ],
       "metadata": {},
       "output_type": "pyout",
       "prompt_number": 97,
       "text": [
        "year          1880   1881   1882   1883   1884   1885   1886   1887   1888  \\\n",
        "last_letter                                                                  \n",
        "a              776    767    773    757    817    713    775    700    819   \n",
        "b              509    470    506    452    496    441    452    434    468   \n",
        "c              349    331    349    299    319    301    283    261    305   \n",
        "d             9177   8387   9702   8796   9856   9214   9710   9033  10600   \n",
        "e            13493  12406  14613  13191  14637  14048  14475  13212  15744   \n",
        "f              108     83    135    106    131    115    112    124    140   \n",
        "g              147    146    146    135    160    182    141    117    190   \n",
        "h             4049   3766   4176   3925   4242   4055   4087   3951   4638   \n",
        "i              200    206    207    167    158    147    171    139    181   \n",
        "j              NaN    NaN    NaN    NaN    NaN    NaN    NaN    NaN    NaN   \n",
        "k             4720   4149   4723   4387   4770   4562   4682   4327   5098   \n",
        "l             5090   4571   5427   5100   5604   5368   5619   5358   6427   \n",
        "m            11260  10217  11255  10114  10732   9810  10039   9081  10625   \n",
        "n            16929  15436  17003  15867  17157  15778  16580  15094  18284   \n",
        "o              933    800    926    812    939    963    966    974   1236   \n",
        "p              282    271    308    286    275    283    304    264    336   \n",
        "q              NaN    NaN    NaN    NaN    NaN    NaN    NaN    NaN    NaN   \n",
        "r             7454   7273   7988   7510   8983   8550   8437   7620   9073   \n",
        "s            18453  16371  18240  16544  17712  16431  16743  14909  17312   \n",
        "t             6949   6228   7081   6754   7008   6842   6949   6335   7796   \n",
        "u               25     26     10     16     15     13      9     10     15   \n",
        "v               33     18     43     44     36     28     32     34     30   \n",
        "w              853    748    875    794    826    782    805    689    823   \n",
        "x              304    267    355    283    343    332    352    319    431   \n",
        "y             8371   7803   8815   8281   9202   8827   9049   8404  10263   \n",
        "z               29      8     31     12     27     17     13     23     23   \n",
        "\n",
        "year          1889   1890   1891   1892   1893   1894   1895   1896   1897  \\\n",
        "last_letter                                                                  \n",
        "a              704    716    679    780    657    737    750    701    652   \n",
        "b              389    399    319    374    380    364    359    321    276   \n",
        "c              271    270    226    288    244    244    246    295    290   \n",
        "d            10167  10418   9561  11763  11043  11631  11742  12302  11500   \n",
        "e            14389  14779  13550  16549  15203  15952  16404  16498  15827   \n",
        "f              124    125    140    107    130    114    109    115    120   \n",
        "g              124    157    133    152    191    186    222    196    205   \n",
        "h             4261   4333   4134   5017   4735   4825   4873   5012   4660   \n",
        "i              154    131    128    159    137    139    127    119    104   \n",
        "j              NaN    NaN    NaN    NaN    NaN    NaN    NaN    NaN    NaN   \n",
        "k             4520   4667   4089   4833   4506   4470   4686   4580   4424   \n",
        "l             6040   6252   5818   7174   6844   7131   7211   7374   7085   \n",
        "m             9443   9145   8181   9596   8763   8879   8869   9397   8625   \n",
        "n            16807  16262  15013  17678  16012  16453  16829  16816  15799   \n",
        "o             1125   1210   1086   1324   1208   1333   1342   1394   1281   \n",
        "p              283    304    287    385    318    340    320    345    305   \n",
        "q              NaN    NaN    NaN    NaN    NaN    NaN    NaN    NaN    NaN   \n",
        "r             8380   8230   7601   9549   8671   8732   8792   8943   8356   \n",
        "s            15711  15673  13997  16876  15371  15548  15786  15773  14956   \n",
        "t             6995   7231   6568   7760   7285   7579   7774   8094   7740   \n",
        "u               17     15      8     14     15     18      9     15     25   \n",
        "v               27     21     23     25     21     19     19     33     16   \n",
        "w              757    740    701    861    700    779    739    758    729   \n",
        "x              321    353    339    387    357    373    387    444    380   \n",
        "y             9547   9579   8595  10359   9507   9905   9783  10035   9391   \n",
        "z               34     16     22     28     21     24     20     15     14   \n",
        "\n",
        "year          1898   1899      \n",
        "last_letter                    \n",
        "a              732    585 ...  \n",
        "b              337    278 ...  \n",
        "c              242    231 ...  \n",
        "d            12870  11155 ...  \n",
        "e            17326  15174 ...  \n",
        "f              110     83 ...  \n",
        "g              197    162 ...  \n",
        "h             5194   4562 ...  \n",
        "i              107    101 ...  \n",
        "j              NaN    NaN ...  \n",
        "k             4734   4243 ...  \n",
        "l             7640   6891 ...  \n",
        "m             9040   7503 ...  \n",
        "n            17131  14935 ...  \n",
        "o             1506   1200 ...  \n",
        "p              362    324 ...  \n",
        "q              NaN    NaN ...  \n",
        "r             8600   7494 ...  \n",
        "s            15826  13852 ...  \n",
        "t             8337   7276 ...  \n",
        "u               10     13 ...  \n",
        "v               23     18 ...  \n",
        "w              809    730 ...  \n",
        "x              434    382 ...  \n",
        "y            11121   9008 ...  \n",
        "z               15     18 ...  \n",
        "\n",
        "[26 rows x 131 columns]"
       ]
      }
     ],
     "prompt_number": 97
    },
    {
     "cell_type": "markdown",
     "metadata": {
      "slideshow": {
       "slide_type": "subslide"
      }
     },
     "source": [
      "# We only focus on year 1906, 1956, and 2006"
     ]
    },
    {
     "cell_type": "code",
     "collapsed": false,
     "input": [
      "subtable = table[[1906, 1956, 2006]]\n",
      "subtable"
     ],
     "language": "python",
     "metadata": {
      "slideshow": {
       "slide_type": "fragment"
      }
     },
     "outputs": [
      {
       "html": [
        "<div style=\"max-height:1000px;max-width:1500px;overflow:auto;\">\n",
        "<table border=\"1\" class=\"dataframe\">\n",
        "  <thead>\n",
        "    <tr style=\"text-align: right;\">\n",
        "      <th>year</th>\n",
        "      <th>1906</th>\n",
        "      <th>1956</th>\n",
        "      <th>2006</th>\n",
        "    </tr>\n",
        "    <tr>\n",
        "      <th>last_letter</th>\n",
        "      <th></th>\n",
        "      <th></th>\n",
        "      <th></th>\n",
        "    </tr>\n",
        "  </thead>\n",
        "  <tbody>\n",
        "    <tr>\n",
        "      <th>a</th>\n",
        "      <td>   654</td>\n",
        "      <td>   4936</td>\n",
        "      <td>  36156</td>\n",
        "    </tr>\n",
        "    <tr>\n",
        "      <th>b</th>\n",
        "      <td>   276</td>\n",
        "      <td>   1980</td>\n",
        "      <td>  42600</td>\n",
        "    </tr>\n",
        "    <tr>\n",
        "      <th>c</th>\n",
        "      <td>   315</td>\n",
        "      <td>   9848</td>\n",
        "      <td>  26635</td>\n",
        "    </tr>\n",
        "    <tr>\n",
        "      <th>d</th>\n",
        "      <td> 14892</td>\n",
        "      <td> 285524</td>\n",
        "      <td>  51410</td>\n",
        "    </tr>\n",
        "    <tr>\n",
        "      <th>e</th>\n",
        "      <td> 19721</td>\n",
        "      <td> 175848</td>\n",
        "      <td> 142999</td>\n",
        "    </tr>\n",
        "    <tr>\n",
        "      <th>f</th>\n",
        "      <td>   139</td>\n",
        "      <td>   2772</td>\n",
        "      <td>   1968</td>\n",
        "    </tr>\n",
        "    <tr>\n",
        "      <th>g</th>\n",
        "      <td>   266</td>\n",
        "      <td>  11864</td>\n",
        "      <td>   1929</td>\n",
        "    </tr>\n",
        "    <tr>\n",
        "      <th>h</th>\n",
        "      <td>  6024</td>\n",
        "      <td>  84356</td>\n",
        "      <td>  98477</td>\n",
        "    </tr>\n",
        "    <tr>\n",
        "      <th>i</th>\n",
        "      <td>   107</td>\n",
        "      <td>   1159</td>\n",
        "      <td>  33558</td>\n",
        "    </tr>\n",
        "    <tr>\n",
        "      <th>j</th>\n",
        "      <td>   NaN</td>\n",
        "      <td>    NaN</td>\n",
        "      <td>   1241</td>\n",
        "    </tr>\n",
        "    <tr>\n",
        "      <th>k</th>\n",
        "      <td>  4870</td>\n",
        "      <td>  93977</td>\n",
        "      <td>  42537</td>\n",
        "    </tr>\n",
        "    <tr>\n",
        "      <th>l</th>\n",
        "      <td>  8816</td>\n",
        "      <td> 227761</td>\n",
        "      <td> 156234</td>\n",
        "    </tr>\n",
        "    <tr>\n",
        "      <th>m</th>\n",
        "      <td>  8181</td>\n",
        "      <td>  70885</td>\n",
        "      <td>  42503</td>\n",
        "    </tr>\n",
        "    <tr>\n",
        "      <th>n</th>\n",
        "      <td> 18835</td>\n",
        "      <td> 314854</td>\n",
        "      <td> 720998</td>\n",
        "    </tr>\n",
        "    <tr>\n",
        "      <th>o</th>\n",
        "      <td>  1827</td>\n",
        "      <td>  24154</td>\n",
        "      <td>  96350</td>\n",
        "    </tr>\n",
        "    <tr>\n",
        "      <th>p</th>\n",
        "      <td>   429</td>\n",
        "      <td>  12035</td>\n",
        "      <td>   2721</td>\n",
        "    </tr>\n",
        "    <tr>\n",
        "      <th>q</th>\n",
        "      <td>   NaN</td>\n",
        "      <td>    NaN</td>\n",
        "      <td>    430</td>\n",
        "    </tr>\n",
        "    <tr>\n",
        "      <th>r</th>\n",
        "      <td>  8931</td>\n",
        "      <td>  64448</td>\n",
        "      <td> 176490</td>\n",
        "    </tr>\n",
        "    <tr>\n",
        "      <th>s</th>\n",
        "      <td> 17388</td>\n",
        "      <td> 240020</td>\n",
        "      <td> 143232</td>\n",
        "    </tr>\n",
        "    <tr>\n",
        "      <th>t</th>\n",
        "      <td>  9644</td>\n",
        "      <td> 137917</td>\n",
        "      <td>  43553</td>\n",
        "    </tr>\n",
        "    <tr>\n",
        "      <th>u</th>\n",
        "      <td>   NaN</td>\n",
        "      <td>    104</td>\n",
        "      <td>   2201</td>\n",
        "    </tr>\n",
        "    <tr>\n",
        "      <th>v</th>\n",
        "      <td>    14</td>\n",
        "      <td>     53</td>\n",
        "      <td>   2010</td>\n",
        "    </tr>\n",
        "    <tr>\n",
        "      <th>w</th>\n",
        "      <td>   804</td>\n",
        "      <td>  12101</td>\n",
        "      <td>  43217</td>\n",
        "    </tr>\n",
        "    <tr>\n",
        "      <th>x</th>\n",
        "      <td>   511</td>\n",
        "      <td>   3709</td>\n",
        "      <td>  13992</td>\n",
        "    </tr>\n",
        "    <tr>\n",
        "      <th>y</th>\n",
        "      <td> 10491</td>\n",
        "      <td> 332390</td>\n",
        "      <td> 123707</td>\n",
        "    </tr>\n",
        "    <tr>\n",
        "      <th>z</th>\n",
        "      <td>    24</td>\n",
        "      <td>    372</td>\n",
        "      <td>   3086</td>\n",
        "    </tr>\n",
        "  </tbody>\n",
        "</table>\n",
        "<p>26 rows \u00d7 3 columns</p>\n",
        "</div>"
       ],
       "metadata": {},
       "output_type": "pyout",
       "prompt_number": 98,
       "text": [
        "year          1906    1956    2006\n",
        "last_letter                       \n",
        "a              654    4936   36156\n",
        "b              276    1980   42600\n",
        "c              315    9848   26635\n",
        "d            14892  285524   51410\n",
        "e            19721  175848  142999\n",
        "f              139    2772    1968\n",
        "g              266   11864    1929\n",
        "h             6024   84356   98477\n",
        "i              107    1159   33558\n",
        "j              NaN     NaN    1241\n",
        "k             4870   93977   42537\n",
        "l             8816  227761  156234\n",
        "m             8181   70885   42503\n",
        "n            18835  314854  720998\n",
        "o             1827   24154   96350\n",
        "p              429   12035    2721\n",
        "q              NaN     NaN     430\n",
        "r             8931   64448  176490\n",
        "s            17388  240020  143232\n",
        "t             9644  137917   43553\n",
        "u              NaN     104    2201\n",
        "v               14      53    2010\n",
        "w              804   12101   43217\n",
        "x              511    3709   13992\n",
        "y            10491  332390  123707\n",
        "z               24     372    3086\n",
        "\n",
        "[26 rows x 3 columns]"
       ]
      }
     ],
     "prompt_number": 98
    },
    {
     "cell_type": "markdown",
     "metadata": {
      "slideshow": {
       "slide_type": "slide"
      }
     },
     "source": [
      "# It's always a good idea to plot "
     ]
    },
    {
     "cell_type": "code",
     "collapsed": false,
     "input": [
      "import matplotlib.pyplot as plt\n",
      "\n",
      "fig, axes = plt.subplots(3, 1, figsize=(15,10))\n",
      "fig.subplots_adjust(hspace=0.5)\n",
      "\n",
      "subtable[1906].plot(kind='bar', rot=0, ax=axes[0], title='1906')\n",
      "subtable[1956].plot(kind='bar', rot=0, ax=axes[1], title='1956')\n",
      "subtable[2006].plot(kind='bar', rot=0, ax=axes[2], title='2006')\n",
      "\n",
      "# uncomment if you're in the terminal\n",
      "# plt.show() "
     ],
     "language": "python",
     "metadata": {
      "slideshow": {
       "slide_type": "fragment"
      }
     },
     "outputs": [
      {
       "metadata": {},
       "output_type": "pyout",
       "prompt_number": 99,
       "text": [
        "<matplotlib.axes.AxesSubplot at 0x1208e6b50>"
       ]
      },
      {
       "metadata": {},
       "output_type": "display_data",
       "png": "[encoded data removed]",
       "text": [
        "<matplotlib.figure.Figure at 0x120c9bd50>"
       ]
      }
     ],
     "prompt_number": 99
    },
    {
     "cell_type": "markdown",
     "metadata": {
      "slideshow": {
       "slide_type": "subslide"
      }
     },
     "source": [
      "# How to plot them in the same figure"
     ]
    },
    {
     "cell_type": "code",
     "collapsed": false,
     "input": [
      "subtable.plot(kind='bar', rot=0, figsize=(15, 5))"
     ],
     "language": "python",
     "metadata": {
      "slideshow": {
       "slide_type": "fragment"
      }
     },
     "outputs": [
      {
       "metadata": {},
       "output_type": "pyout",
       "prompt_number": 100,
       "text": [
        "<matplotlib.axes.AxesSubplot at 0x120cb1a50>"
       ]
      },
      {
       "metadata": {},
       "output_type": "display_data",
       "png": "[encoded data removed]",
       "text": [
        "<matplotlib.figure.Figure at 0x1205029d0>"
       ]
      }
     ],
     "prompt_number": 100
    },
    {
     "cell_type": "markdown",
     "metadata": {
      "slideshow": {
       "slide_type": "fragment"
      }
     },
     "source": [
      "### Oops, not a good idea..."
     ]
    },
    {
     "cell_type": "markdown",
     "metadata": {
      "slideshow": {
       "slide_type": "subslide"
      }
     },
     "source": [
      "# It makes more sense if we convert the birth number to the ratio before plotting"
     ]
    },
    {
     "cell_type": "code",
     "collapsed": false,
     "input": [
      "subtable.sum(axis=0)"
     ],
     "language": "python",
     "metadata": {
      "slideshow": {
       "slide_type": "fragment"
      }
     },
     "outputs": [
      {
       "metadata": {},
       "output_type": "pyout",
       "prompt_number": 69,
       "text": [
        "1906     133159\n",
        "1956    2113067\n",
        "2006    2050234\n",
        "dtype: float64"
       ]
      }
     ],
     "prompt_number": 69
    },
    {
     "cell_type": "code",
     "collapsed": false,
     "input": [
      "ratio_subtable = subtable / subtable.sum(axis=0)\n",
      "ratio_subtable"
     ],
     "language": "python",
     "metadata": {
      "slideshow": {
       "slide_type": "fragment"
      }
     },
     "outputs": [
      {
       "html": [
        "<div style=\"max-height:1000px;max-width:1500px;overflow:auto;\">\n",
        "<table border=\"1\" class=\"dataframe\">\n",
        "  <thead>\n",
        "    <tr style=\"text-align: right;\">\n",
        "      <th>year</th>\n",
        "      <th>1906</th>\n",
        "      <th>1956</th>\n",
        "      <th>2006</th>\n",
        "    </tr>\n",
        "    <tr>\n",
        "      <th>last_letter</th>\n",
        "      <th></th>\n",
        "      <th></th>\n",
        "      <th></th>\n",
        "    </tr>\n",
        "  </thead>\n",
        "  <tbody>\n",
        "    <tr>\n",
        "      <th>a</th>\n",
        "      <td> 0.004911</td>\n",
        "      <td> 0.002336</td>\n",
        "      <td> 0.017635</td>\n",
        "    </tr>\n",
        "    <tr>\n",
        "      <th>b</th>\n",
        "      <td> 0.002073</td>\n",
        "      <td> 0.000937</td>\n",
        "      <td> 0.020778</td>\n",
        "    </tr>\n",
        "    <tr>\n",
        "      <th>c</th>\n",
        "      <td> 0.002366</td>\n",
        "      <td> 0.004661</td>\n",
        "      <td> 0.012991</td>\n",
        "    </tr>\n",
        "    <tr>\n",
        "      <th>d</th>\n",
        "      <td> 0.111836</td>\n",
        "      <td> 0.135123</td>\n",
        "      <td> 0.025075</td>\n",
        "    </tr>\n",
        "    <tr>\n",
        "      <th>e</th>\n",
        "      <td> 0.148101</td>\n",
        "      <td> 0.083219</td>\n",
        "      <td> 0.069748</td>\n",
        "    </tr>\n",
        "    <tr>\n",
        "      <th>f</th>\n",
        "      <td> 0.001044</td>\n",
        "      <td> 0.001312</td>\n",
        "      <td> 0.000960</td>\n",
        "    </tr>\n",
        "    <tr>\n",
        "      <th>g</th>\n",
        "      <td> 0.001998</td>\n",
        "      <td> 0.005615</td>\n",
        "      <td> 0.000941</td>\n",
        "    </tr>\n",
        "    <tr>\n",
        "      <th>h</th>\n",
        "      <td> 0.045239</td>\n",
        "      <td> 0.039921</td>\n",
        "      <td> 0.048032</td>\n",
        "    </tr>\n",
        "    <tr>\n",
        "      <th>i</th>\n",
        "      <td> 0.000804</td>\n",
        "      <td> 0.000548</td>\n",
        "      <td> 0.016368</td>\n",
        "    </tr>\n",
        "    <tr>\n",
        "      <th>j</th>\n",
        "      <td>      NaN</td>\n",
        "      <td>      NaN</td>\n",
        "      <td> 0.000605</td>\n",
        "    </tr>\n",
        "    <tr>\n",
        "      <th>k</th>\n",
        "      <td> 0.036573</td>\n",
        "      <td> 0.044474</td>\n",
        "      <td> 0.020747</td>\n",
        "    </tr>\n",
        "    <tr>\n",
        "      <th>l</th>\n",
        "      <td> 0.066207</td>\n",
        "      <td> 0.107787</td>\n",
        "      <td> 0.076203</td>\n",
        "    </tr>\n",
        "    <tr>\n",
        "      <th>m</th>\n",
        "      <td> 0.061438</td>\n",
        "      <td> 0.033546</td>\n",
        "      <td> 0.020731</td>\n",
        "    </tr>\n",
        "    <tr>\n",
        "      <th>n</th>\n",
        "      <td> 0.141447</td>\n",
        "      <td> 0.149003</td>\n",
        "      <td> 0.351666</td>\n",
        "    </tr>\n",
        "    <tr>\n",
        "      <th>o</th>\n",
        "      <td> 0.013720</td>\n",
        "      <td> 0.011431</td>\n",
        "      <td> 0.046995</td>\n",
        "    </tr>\n",
        "    <tr>\n",
        "      <th>p</th>\n",
        "      <td> 0.003222</td>\n",
        "      <td> 0.005696</td>\n",
        "      <td> 0.001327</td>\n",
        "    </tr>\n",
        "    <tr>\n",
        "      <th>q</th>\n",
        "      <td>      NaN</td>\n",
        "      <td>      NaN</td>\n",
        "      <td> 0.000210</td>\n",
        "    </tr>\n",
        "    <tr>\n",
        "      <th>r</th>\n",
        "      <td> 0.067070</td>\n",
        "      <td> 0.030500</td>\n",
        "      <td> 0.086083</td>\n",
        "    </tr>\n",
        "    <tr>\n",
        "      <th>s</th>\n",
        "      <td> 0.130581</td>\n",
        "      <td> 0.113588</td>\n",
        "      <td> 0.069861</td>\n",
        "    </tr>\n",
        "    <tr>\n",
        "      <th>t</th>\n",
        "      <td> 0.072425</td>\n",
        "      <td> 0.065269</td>\n",
        "      <td> 0.021243</td>\n",
        "    </tr>\n",
        "    <tr>\n",
        "      <th>u</th>\n",
        "      <td>      NaN</td>\n",
        "      <td> 0.000049</td>\n",
        "      <td> 0.001074</td>\n",
        "    </tr>\n",
        "    <tr>\n",
        "      <th>v</th>\n",
        "      <td> 0.000105</td>\n",
        "      <td> 0.000025</td>\n",
        "      <td> 0.000980</td>\n",
        "    </tr>\n",
        "    <tr>\n",
        "      <th>w</th>\n",
        "      <td> 0.006038</td>\n",
        "      <td> 0.005727</td>\n",
        "      <td> 0.021079</td>\n",
        "    </tr>\n",
        "    <tr>\n",
        "      <th>x</th>\n",
        "      <td> 0.003838</td>\n",
        "      <td> 0.001755</td>\n",
        "      <td> 0.006825</td>\n",
        "    </tr>\n",
        "    <tr>\n",
        "      <th>y</th>\n",
        "      <td> 0.078786</td>\n",
        "      <td> 0.157302</td>\n",
        "      <td> 0.060338</td>\n",
        "    </tr>\n",
        "    <tr>\n",
        "      <th>z</th>\n",
        "      <td> 0.000180</td>\n",
        "      <td> 0.000176</td>\n",
        "      <td> 0.001505</td>\n",
        "    </tr>\n",
        "  </tbody>\n",
        "</table>\n",
        "<p>26 rows \u00d7 3 columns</p>\n",
        "</div>"
       ],
       "metadata": {},
       "output_type": "pyout",
       "prompt_number": 91,
       "text": [
        "year             1906      1956      2006\n",
        "last_letter                              \n",
        "a            0.004911  0.002336  0.017635\n",
        "b            0.002073  0.000937  0.020778\n",
        "c            0.002366  0.004661  0.012991\n",
        "d            0.111836  0.135123  0.025075\n",
        "e            0.148101  0.083219  0.069748\n",
        "f            0.001044  0.001312  0.000960\n",
        "g            0.001998  0.005615  0.000941\n",
        "h            0.045239  0.039921  0.048032\n",
        "i            0.000804  0.000548  0.016368\n",
        "j                 NaN       NaN  0.000605\n",
        "k            0.036573  0.044474  0.020747\n",
        "l            0.066207  0.107787  0.076203\n",
        "m            0.061438  0.033546  0.020731\n",
        "n            0.141447  0.149003  0.351666\n",
        "o            0.013720  0.011431  0.046995\n",
        "p            0.003222  0.005696  0.001327\n",
        "q                 NaN       NaN  0.000210\n",
        "r            0.067070  0.030500  0.086083\n",
        "s            0.130581  0.113588  0.069861\n",
        "t            0.072425  0.065269  0.021243\n",
        "u                 NaN  0.000049  0.001074\n",
        "v            0.000105  0.000025  0.000980\n",
        "w            0.006038  0.005727  0.021079\n",
        "x            0.003838  0.001755  0.006825\n",
        "y            0.078786  0.157302  0.060338\n",
        "z            0.000180  0.000176  0.001505\n",
        "\n",
        "[26 rows x 3 columns]"
       ]
      }
     ],
     "prompt_number": 91
    },
    {
     "cell_type": "markdown",
     "metadata": {
      "slideshow": {
       "slide_type": "subslide"
      }
     },
     "source": [
      "# Awesome!"
     ]
    },
    {
     "cell_type": "code",
     "collapsed": false,
     "input": [
      "ratio_subtable.plot(kind='bar', rot=0, figsize=(15, 5))"
     ],
     "language": "python",
     "metadata": {
      "slideshow": {
       "slide_type": "-"
      }
     },
     "outputs": [
      {
       "metadata": {},
       "output_type": "pyout",
       "prompt_number": 85,
       "text": [
        "<matplotlib.axes.AxesSubplot at 0x1200686d0>"
       ]
      },
      {
       "metadata": {},
       "output_type": "display_data",
       "png": "[encoded data removed]",
       "text": [
        "<matplotlib.figure.Figure at 0x11fef6210>"
       ]
      }
     ],
     "prompt_number": 85
    },
    {
     "cell_type": "markdown",
     "metadata": {
      "slideshow": {
       "slide_type": "slide"
      }
     },
     "source": [
      "# What's wrong for the names ending with d and e?"
     ]
    },
    {
     "cell_type": "code",
     "collapsed": false,
     "input": [
      "ratio_subtable.plot(kind='bar', rot=0, figsize=(15, 5))"
     ],
     "language": "python",
     "metadata": {},
     "outputs": [
      {
       "metadata": {},
       "output_type": "pyout",
       "prompt_number": 86,
       "text": [
        "<matplotlib.axes.AxesSubplot at 0x11ff2c7d0>"
       ]
      },
      {
       "metadata": {},
       "output_type": "display_data",
       "png": "[encoded data removed]",
       "text": [
        "<matplotlib.figure.Figure at 0x12021e750>"
       ]
      }
     ],
     "prompt_number": 86
    },
    {
     "cell_type": "markdown",
     "metadata": {
      "slideshow": {
       "slide_type": "subslide"
      }
     },
     "source": [
      "# This time, we need all the years!"
     ]
    },
    {
     "cell_type": "code",
     "collapsed": false,
     "input": [
      "table.head(10)"
     ],
     "language": "python",
     "metadata": {},
     "outputs": [
      {
       "html": [
        "<div style=\"max-height:1000px;max-width:1500px;overflow:auto;\">\n",
        "<table border=\"1\" class=\"dataframe\">\n",
        "  <thead>\n",
        "    <tr style=\"text-align: right;\">\n",
        "      <th>year</th>\n",
        "      <th>1880</th>\n",
        "      <th>1881</th>\n",
        "      <th>1882</th>\n",
        "      <th>1883</th>\n",
        "      <th>1884</th>\n",
        "      <th>1885</th>\n",
        "      <th>1886</th>\n",
        "      <th>1887</th>\n",
        "      <th>1888</th>\n",
        "      <th>1889</th>\n",
        "      <th>1890</th>\n",
        "      <th>1891</th>\n",
        "      <th>1892</th>\n",
        "      <th>1893</th>\n",
        "      <th>1894</th>\n",
        "      <th>1895</th>\n",
        "      <th>1896</th>\n",
        "      <th>1897</th>\n",
        "      <th>1898</th>\n",
        "      <th>1899</th>\n",
        "      <th></th>\n",
        "    </tr>\n",
        "    <tr>\n",
        "      <th>last_letter</th>\n",
        "      <th></th>\n",
        "      <th></th>\n",
        "      <th></th>\n",
        "      <th></th>\n",
        "      <th></th>\n",
        "      <th></th>\n",
        "      <th></th>\n",
        "      <th></th>\n",
        "      <th></th>\n",
        "      <th></th>\n",
        "      <th></th>\n",
        "      <th></th>\n",
        "      <th></th>\n",
        "      <th></th>\n",
        "      <th></th>\n",
        "      <th></th>\n",
        "      <th></th>\n",
        "      <th></th>\n",
        "      <th></th>\n",
        "      <th></th>\n",
        "    </tr>\n",
        "  </thead>\n",
        "  <tbody>\n",
        "    <tr>\n",
        "      <th>a</th>\n",
        "      <td>   776</td>\n",
        "      <td>   767</td>\n",
        "      <td>   773</td>\n",
        "      <td>   757</td>\n",
        "      <td>   817</td>\n",
        "      <td>   713</td>\n",
        "      <td>   775</td>\n",
        "      <td>   700</td>\n",
        "      <td>   819</td>\n",
        "      <td>   704</td>\n",
        "      <td>   716</td>\n",
        "      <td>   679</td>\n",
        "      <td>   780</td>\n",
        "      <td>   657</td>\n",
        "      <td>   737</td>\n",
        "      <td>   750</td>\n",
        "      <td>   701</td>\n",
        "      <td>   652</td>\n",
        "      <td>   732</td>\n",
        "      <td>   585</td>\n",
        "      <td>...</td>\n",
        "    </tr>\n",
        "    <tr>\n",
        "      <th>b</th>\n",
        "      <td>   509</td>\n",
        "      <td>   470</td>\n",
        "      <td>   506</td>\n",
        "      <td>   452</td>\n",
        "      <td>   496</td>\n",
        "      <td>   441</td>\n",
        "      <td>   452</td>\n",
        "      <td>   434</td>\n",
        "      <td>   468</td>\n",
        "      <td>   389</td>\n",
        "      <td>   399</td>\n",
        "      <td>   319</td>\n",
        "      <td>   374</td>\n",
        "      <td>   380</td>\n",
        "      <td>   364</td>\n",
        "      <td>   359</td>\n",
        "      <td>   321</td>\n",
        "      <td>   276</td>\n",
        "      <td>   337</td>\n",
        "      <td>   278</td>\n",
        "      <td>...</td>\n",
        "    </tr>\n",
        "    <tr>\n",
        "      <th>c</th>\n",
        "      <td>   349</td>\n",
        "      <td>   331</td>\n",
        "      <td>   349</td>\n",
        "      <td>   299</td>\n",
        "      <td>   319</td>\n",
        "      <td>   301</td>\n",
        "      <td>   283</td>\n",
        "      <td>   261</td>\n",
        "      <td>   305</td>\n",
        "      <td>   271</td>\n",
        "      <td>   270</td>\n",
        "      <td>   226</td>\n",
        "      <td>   288</td>\n",
        "      <td>   244</td>\n",
        "      <td>   244</td>\n",
        "      <td>   246</td>\n",
        "      <td>   295</td>\n",
        "      <td>   290</td>\n",
        "      <td>   242</td>\n",
        "      <td>   231</td>\n",
        "      <td>...</td>\n",
        "    </tr>\n",
        "    <tr>\n",
        "      <th>d</th>\n",
        "      <td>  9177</td>\n",
        "      <td>  8387</td>\n",
        "      <td>  9702</td>\n",
        "      <td>  8796</td>\n",
        "      <td>  9856</td>\n",
        "      <td>  9214</td>\n",
        "      <td>  9710</td>\n",
        "      <td>  9033</td>\n",
        "      <td> 10600</td>\n",
        "      <td> 10167</td>\n",
        "      <td> 10418</td>\n",
        "      <td>  9561</td>\n",
        "      <td> 11763</td>\n",
        "      <td> 11043</td>\n",
        "      <td> 11631</td>\n",
        "      <td> 11742</td>\n",
        "      <td> 12302</td>\n",
        "      <td> 11500</td>\n",
        "      <td> 12870</td>\n",
        "      <td> 11155</td>\n",
        "      <td>...</td>\n",
        "    </tr>\n",
        "    <tr>\n",
        "      <th>e</th>\n",
        "      <td> 13493</td>\n",
        "      <td> 12406</td>\n",
        "      <td> 14613</td>\n",
        "      <td> 13191</td>\n",
        "      <td> 14637</td>\n",
        "      <td> 14048</td>\n",
        "      <td> 14475</td>\n",
        "      <td> 13212</td>\n",
        "      <td> 15744</td>\n",
        "      <td> 14389</td>\n",
        "      <td> 14779</td>\n",
        "      <td> 13550</td>\n",
        "      <td> 16549</td>\n",
        "      <td> 15203</td>\n",
        "      <td> 15952</td>\n",
        "      <td> 16404</td>\n",
        "      <td> 16498</td>\n",
        "      <td> 15827</td>\n",
        "      <td> 17326</td>\n",
        "      <td> 15174</td>\n",
        "      <td>...</td>\n",
        "    </tr>\n",
        "    <tr>\n",
        "      <th>f</th>\n",
        "      <td>   108</td>\n",
        "      <td>    83</td>\n",
        "      <td>   135</td>\n",
        "      <td>   106</td>\n",
        "      <td>   131</td>\n",
        "      <td>   115</td>\n",
        "      <td>   112</td>\n",
        "      <td>   124</td>\n",
        "      <td>   140</td>\n",
        "      <td>   124</td>\n",
        "      <td>   125</td>\n",
        "      <td>   140</td>\n",
        "      <td>   107</td>\n",
        "      <td>   130</td>\n",
        "      <td>   114</td>\n",
        "      <td>   109</td>\n",
        "      <td>   115</td>\n",
        "      <td>   120</td>\n",
        "      <td>   110</td>\n",
        "      <td>    83</td>\n",
        "      <td>...</td>\n",
        "    </tr>\n",
        "    <tr>\n",
        "      <th>g</th>\n",
        "      <td>   147</td>\n",
        "      <td>   146</td>\n",
        "      <td>   146</td>\n",
        "      <td>   135</td>\n",
        "      <td>   160</td>\n",
        "      <td>   182</td>\n",
        "      <td>   141</td>\n",
        "      <td>   117</td>\n",
        "      <td>   190</td>\n",
        "      <td>   124</td>\n",
        "      <td>   157</td>\n",
        "      <td>   133</td>\n",
        "      <td>   152</td>\n",
        "      <td>   191</td>\n",
        "      <td>   186</td>\n",
        "      <td>   222</td>\n",
        "      <td>   196</td>\n",
        "      <td>   205</td>\n",
        "      <td>   197</td>\n",
        "      <td>   162</td>\n",
        "      <td>...</td>\n",
        "    </tr>\n",
        "    <tr>\n",
        "      <th>h</th>\n",
        "      <td>  4049</td>\n",
        "      <td>  3766</td>\n",
        "      <td>  4176</td>\n",
        "      <td>  3925</td>\n",
        "      <td>  4242</td>\n",
        "      <td>  4055</td>\n",
        "      <td>  4087</td>\n",
        "      <td>  3951</td>\n",
        "      <td>  4638</td>\n",
        "      <td>  4261</td>\n",
        "      <td>  4333</td>\n",
        "      <td>  4134</td>\n",
        "      <td>  5017</td>\n",
        "      <td>  4735</td>\n",
        "      <td>  4825</td>\n",
        "      <td>  4873</td>\n",
        "      <td>  5012</td>\n",
        "      <td>  4660</td>\n",
        "      <td>  5194</td>\n",
        "      <td>  4562</td>\n",
        "      <td>...</td>\n",
        "    </tr>\n",
        "    <tr>\n",
        "      <th>i</th>\n",
        "      <td>   200</td>\n",
        "      <td>   206</td>\n",
        "      <td>   207</td>\n",
        "      <td>   167</td>\n",
        "      <td>   158</td>\n",
        "      <td>   147</td>\n",
        "      <td>   171</td>\n",
        "      <td>   139</td>\n",
        "      <td>   181</td>\n",
        "      <td>   154</td>\n",
        "      <td>   131</td>\n",
        "      <td>   128</td>\n",
        "      <td>   159</td>\n",
        "      <td>   137</td>\n",
        "      <td>   139</td>\n",
        "      <td>   127</td>\n",
        "      <td>   119</td>\n",
        "      <td>   104</td>\n",
        "      <td>   107</td>\n",
        "      <td>   101</td>\n",
        "      <td>...</td>\n",
        "    </tr>\n",
        "    <tr>\n",
        "      <th>j</th>\n",
        "      <td>   NaN</td>\n",
        "      <td>   NaN</td>\n",
        "      <td>   NaN</td>\n",
        "      <td>   NaN</td>\n",
        "      <td>   NaN</td>\n",
        "      <td>   NaN</td>\n",
        "      <td>   NaN</td>\n",
        "      <td>   NaN</td>\n",
        "      <td>   NaN</td>\n",
        "      <td>   NaN</td>\n",
        "      <td>   NaN</td>\n",
        "      <td>   NaN</td>\n",
        "      <td>   NaN</td>\n",
        "      <td>   NaN</td>\n",
        "      <td>   NaN</td>\n",
        "      <td>   NaN</td>\n",
        "      <td>   NaN</td>\n",
        "      <td>   NaN</td>\n",
        "      <td>   NaN</td>\n",
        "      <td>   NaN</td>\n",
        "      <td>...</td>\n",
        "    </tr>\n",
        "  </tbody>\n",
        "</table>\n",
        "<p>10 rows \u00d7 131 columns</p>\n",
        "</div>"
       ],
       "metadata": {},
       "output_type": "pyout",
       "prompt_number": 102,
       "text": [
        "year          1880   1881   1882   1883   1884   1885   1886   1887   1888  \\\n",
        "last_letter                                                                  \n",
        "a              776    767    773    757    817    713    775    700    819   \n",
        "b              509    470    506    452    496    441    452    434    468   \n",
        "c              349    331    349    299    319    301    283    261    305   \n",
        "d             9177   8387   9702   8796   9856   9214   9710   9033  10600   \n",
        "e            13493  12406  14613  13191  14637  14048  14475  13212  15744   \n",
        "f              108     83    135    106    131    115    112    124    140   \n",
        "g              147    146    146    135    160    182    141    117    190   \n",
        "h             4049   3766   4176   3925   4242   4055   4087   3951   4638   \n",
        "i              200    206    207    167    158    147    171    139    181   \n",
        "j              NaN    NaN    NaN    NaN    NaN    NaN    NaN    NaN    NaN   \n",
        "\n",
        "year          1889   1890   1891   1892   1893   1894   1895   1896   1897  \\\n",
        "last_letter                                                                  \n",
        "a              704    716    679    780    657    737    750    701    652   \n",
        "b              389    399    319    374    380    364    359    321    276   \n",
        "c              271    270    226    288    244    244    246    295    290   \n",
        "d            10167  10418   9561  11763  11043  11631  11742  12302  11500   \n",
        "e            14389  14779  13550  16549  15203  15952  16404  16498  15827   \n",
        "f              124    125    140    107    130    114    109    115    120   \n",
        "g              124    157    133    152    191    186    222    196    205   \n",
        "h             4261   4333   4134   5017   4735   4825   4873   5012   4660   \n",
        "i              154    131    128    159    137    139    127    119    104   \n",
        "j              NaN    NaN    NaN    NaN    NaN    NaN    NaN    NaN    NaN   \n",
        "\n",
        "year          1898   1899      \n",
        "last_letter                    \n",
        "a              732    585 ...  \n",
        "b              337    278 ...  \n",
        "c              242    231 ...  \n",
        "d            12870  11155 ...  \n",
        "e            17326  15174 ...  \n",
        "f              110     83 ...  \n",
        "g              197    162 ...  \n",
        "h             5194   4562 ...  \n",
        "i              107    101 ...  \n",
        "j              NaN    NaN ...  \n",
        "\n",
        "[10 rows x 131 columns]"
       ]
      }
     ],
     "prompt_number": 102
    },
    {
     "cell_type": "markdown",
     "metadata": {},
     "source": [
      "#Let's convert it to ratio first"
     ]
    },
    {
     "cell_type": "code",
     "collapsed": false,
     "input": [
      "ratio_table = table / table.sum(axis=0)\n",
      "ratio_table"
     ],
     "language": "python",
     "metadata": {},
     "outputs": [
      {
       "html": [
        "<div style=\"max-height:1000px;max-width:1500px;overflow:auto;\">\n",
        "<table border=\"1\" class=\"dataframe\">\n",
        "  <thead>\n",
        "    <tr style=\"text-align: right;\">\n",
        "      <th>year</th>\n",
        "      <th>1880</th>\n",
        "      <th>1881</th>\n",
        "      <th>1882</th>\n",
        "      <th>1883</th>\n",
        "      <th>1884</th>\n",
        "      <th>1885</th>\n",
        "      <th>1886</th>\n",
        "      <th>1887</th>\n",
        "      <th>1888</th>\n",
        "      <th>1889</th>\n",
        "      <th>1890</th>\n",
        "      <th>1891</th>\n",
        "      <th>1892</th>\n",
        "      <th>1893</th>\n",
        "      <th>1894</th>\n",
        "      <th>1895</th>\n",
        "      <th>1896</th>\n",
        "      <th>1897</th>\n",
        "      <th>1898</th>\n",
        "      <th>1899</th>\n",
        "      <th></th>\n",
        "    </tr>\n",
        "    <tr>\n",
        "      <th>last_letter</th>\n",
        "      <th></th>\n",
        "      <th></th>\n",
        "      <th></th>\n",
        "      <th></th>\n",
        "      <th></th>\n",
        "      <th></th>\n",
        "      <th></th>\n",
        "      <th></th>\n",
        "      <th></th>\n",
        "      <th></th>\n",
        "      <th></th>\n",
        "      <th></th>\n",
        "      <th></th>\n",
        "      <th></th>\n",
        "      <th></th>\n",
        "      <th></th>\n",
        "      <th></th>\n",
        "      <th></th>\n",
        "      <th></th>\n",
        "      <th></th>\n",
        "    </tr>\n",
        "  </thead>\n",
        "  <tbody>\n",
        "    <tr>\n",
        "      <th>a</th>\n",
        "      <td> 0.007023</td>\n",
        "      <td> 0.007613</td>\n",
        "      <td> 0.006799</td>\n",
        "      <td> 0.007235</td>\n",
        "      <td> 0.007139</td>\n",
        "      <td> 0.006614</td>\n",
        "      <td> 0.006996</td>\n",
        "      <td> 0.006903</td>\n",
        "      <td> 0.006777</td>\n",
        "      <td> 0.006366</td>\n",
        "      <td> 0.006449</td>\n",
        "      <td> 0.006710</td>\n",
        "      <td> 0.006391</td>\n",
        "      <td> 0.005849</td>\n",
        "      <td> 0.006366</td>\n",
        "      <td> 0.006389</td>\n",
        "      <td> 0.005862</td>\n",
        "      <td> 0.005782</td>\n",
        "      <td> 0.005966</td>\n",
        "      <td> 0.005508</td>\n",
        "      <td>...</td>\n",
        "    </tr>\n",
        "    <tr>\n",
        "      <th>b</th>\n",
        "      <td> 0.004607</td>\n",
        "      <td> 0.004665</td>\n",
        "      <td> 0.004451</td>\n",
        "      <td> 0.004320</td>\n",
        "      <td> 0.004334</td>\n",
        "      <td> 0.004091</td>\n",
        "      <td> 0.004080</td>\n",
        "      <td> 0.004280</td>\n",
        "      <td> 0.003872</td>\n",
        "      <td> 0.003517</td>\n",
        "      <td> 0.003594</td>\n",
        "      <td> 0.003152</td>\n",
        "      <td> 0.003065</td>\n",
        "      <td> 0.003383</td>\n",
        "      <td> 0.003144</td>\n",
        "      <td> 0.003058</td>\n",
        "      <td> 0.002685</td>\n",
        "      <td> 0.002448</td>\n",
        "      <td> 0.002746</td>\n",
        "      <td> 0.002617</td>\n",
        "      <td>...</td>\n",
        "    </tr>\n",
        "    <tr>\n",
        "      <th>c</th>\n",
        "      <td> 0.003159</td>\n",
        "      <td> 0.003285</td>\n",
        "      <td> 0.003070</td>\n",
        "      <td> 0.002858</td>\n",
        "      <td> 0.002787</td>\n",
        "      <td> 0.002792</td>\n",
        "      <td> 0.002554</td>\n",
        "      <td> 0.002574</td>\n",
        "      <td> 0.002524</td>\n",
        "      <td> 0.002450</td>\n",
        "      <td> 0.002432</td>\n",
        "      <td> 0.002233</td>\n",
        "      <td> 0.002360</td>\n",
        "      <td> 0.002172</td>\n",
        "      <td> 0.002108</td>\n",
        "      <td> 0.002095</td>\n",
        "      <td> 0.002467</td>\n",
        "      <td> 0.002572</td>\n",
        "      <td> 0.001972</td>\n",
        "      <td> 0.002175</td>\n",
        "      <td>...</td>\n",
        "    </tr>\n",
        "    <tr>\n",
        "      <th>d</th>\n",
        "      <td> 0.083055</td>\n",
        "      <td> 0.083247</td>\n",
        "      <td> 0.085340</td>\n",
        "      <td> 0.084066</td>\n",
        "      <td> 0.086120</td>\n",
        "      <td> 0.085472</td>\n",
        "      <td> 0.087647</td>\n",
        "      <td> 0.089072</td>\n",
        "      <td> 0.087707</td>\n",
        "      <td> 0.091934</td>\n",
        "      <td> 0.093834</td>\n",
        "      <td> 0.094478</td>\n",
        "      <td> 0.096388</td>\n",
        "      <td> 0.098318</td>\n",
        "      <td> 0.100462</td>\n",
        "      <td> 0.100019</td>\n",
        "      <td> 0.102881</td>\n",
        "      <td> 0.101987</td>\n",
        "      <td> 0.104887</td>\n",
        "      <td> 0.105020</td>\n",
        "      <td>...</td>\n",
        "    </tr>\n",
        "    <tr>\n",
        "      <th>e</th>\n",
        "      <td> 0.122116</td>\n",
        "      <td> 0.123139</td>\n",
        "      <td> 0.128537</td>\n",
        "      <td> 0.126070</td>\n",
        "      <td> 0.127895</td>\n",
        "      <td> 0.130313</td>\n",
        "      <td> 0.130658</td>\n",
        "      <td> 0.130280</td>\n",
        "      <td> 0.130270</td>\n",
        "      <td> 0.130111</td>\n",
        "      <td> 0.133113</td>\n",
        "      <td> 0.133896</td>\n",
        "      <td> 0.135605</td>\n",
        "      <td> 0.135356</td>\n",
        "      <td> 0.137784</td>\n",
        "      <td> 0.139730</td>\n",
        "      <td> 0.137972</td>\n",
        "      <td> 0.140360</td>\n",
        "      <td> 0.141203</td>\n",
        "      <td> 0.142857</td>\n",
        "      <td>...</td>\n",
        "    </tr>\n",
        "    <tr>\n",
        "      <th>f</th>\n",
        "      <td> 0.000977</td>\n",
        "      <td> 0.000824</td>\n",
        "      <td> 0.001187</td>\n",
        "      <td> 0.001013</td>\n",
        "      <td> 0.001145</td>\n",
        "      <td> 0.001067</td>\n",
        "      <td> 0.001011</td>\n",
        "      <td> 0.001223</td>\n",
        "      <td> 0.001158</td>\n",
        "      <td> 0.001121</td>\n",
        "      <td> 0.001126</td>\n",
        "      <td> 0.001383</td>\n",
        "      <td> 0.000877</td>\n",
        "      <td> 0.001157</td>\n",
        "      <td> 0.000985</td>\n",
        "      <td> 0.000928</td>\n",
        "      <td> 0.000962</td>\n",
        "      <td> 0.001064</td>\n",
        "      <td> 0.000896</td>\n",
        "      <td> 0.000781</td>\n",
        "      <td>...</td>\n",
        "    </tr>\n",
        "    <tr>\n",
        "      <th>g</th>\n",
        "      <td> 0.001330</td>\n",
        "      <td> 0.001449</td>\n",
        "      <td> 0.001284</td>\n",
        "      <td> 0.001290</td>\n",
        "      <td> 0.001398</td>\n",
        "      <td> 0.001688</td>\n",
        "      <td> 0.001273</td>\n",
        "      <td> 0.001154</td>\n",
        "      <td> 0.001572</td>\n",
        "      <td> 0.001121</td>\n",
        "      <td> 0.001414</td>\n",
        "      <td> 0.001314</td>\n",
        "      <td> 0.001246</td>\n",
        "      <td> 0.001701</td>\n",
        "      <td> 0.001607</td>\n",
        "      <td> 0.001891</td>\n",
        "      <td> 0.001639</td>\n",
        "      <td> 0.001818</td>\n",
        "      <td> 0.001606</td>\n",
        "      <td> 0.001525</td>\n",
        "      <td>...</td>\n",
        "    </tr>\n",
        "    <tr>\n",
        "      <th>h</th>\n",
        "      <td> 0.036645</td>\n",
        "      <td> 0.037380</td>\n",
        "      <td> 0.036732</td>\n",
        "      <td> 0.037512</td>\n",
        "      <td> 0.037066</td>\n",
        "      <td> 0.037615</td>\n",
        "      <td> 0.036891</td>\n",
        "      <td> 0.038960</td>\n",
        "      <td> 0.038376</td>\n",
        "      <td> 0.038530</td>\n",
        "      <td> 0.039027</td>\n",
        "      <td> 0.040851</td>\n",
        "      <td> 0.041110</td>\n",
        "      <td> 0.042157</td>\n",
        "      <td> 0.041676</td>\n",
        "      <td> 0.041508</td>\n",
        "      <td> 0.041915</td>\n",
        "      <td> 0.041327</td>\n",
        "      <td> 0.042330</td>\n",
        "      <td> 0.042949</td>\n",
        "      <td>...</td>\n",
        "    </tr>\n",
        "    <tr>\n",
        "      <th>i</th>\n",
        "      <td> 0.001810</td>\n",
        "      <td> 0.002045</td>\n",
        "      <td> 0.001821</td>\n",
        "      <td> 0.001596</td>\n",
        "      <td> 0.001381</td>\n",
        "      <td> 0.001364</td>\n",
        "      <td> 0.001544</td>\n",
        "      <td> 0.001371</td>\n",
        "      <td> 0.001498</td>\n",
        "      <td> 0.001393</td>\n",
        "      <td> 0.001180</td>\n",
        "      <td> 0.001265</td>\n",
        "      <td> 0.001303</td>\n",
        "      <td> 0.001220</td>\n",
        "      <td> 0.001201</td>\n",
        "      <td> 0.001082</td>\n",
        "      <td> 0.000995</td>\n",
        "      <td> 0.000922</td>\n",
        "      <td> 0.000872</td>\n",
        "      <td> 0.000951</td>\n",
        "      <td>...</td>\n",
        "    </tr>\n",
        "    <tr>\n",
        "      <th>j</th>\n",
        "      <td>      NaN</td>\n",
        "      <td>      NaN</td>\n",
        "      <td>      NaN</td>\n",
        "      <td>      NaN</td>\n",
        "      <td>      NaN</td>\n",
        "      <td>      NaN</td>\n",
        "      <td>      NaN</td>\n",
        "      <td>      NaN</td>\n",
        "      <td>      NaN</td>\n",
        "      <td>      NaN</td>\n",
        "      <td>      NaN</td>\n",
        "      <td>      NaN</td>\n",
        "      <td>      NaN</td>\n",
        "      <td>      NaN</td>\n",
        "      <td>      NaN</td>\n",
        "      <td>      NaN</td>\n",
        "      <td>      NaN</td>\n",
        "      <td>      NaN</td>\n",
        "      <td>      NaN</td>\n",
        "      <td>      NaN</td>\n",
        "      <td>...</td>\n",
        "    </tr>\n",
        "    <tr>\n",
        "      <th>k</th>\n",
        "      <td> 0.042718</td>\n",
        "      <td> 0.041182</td>\n",
        "      <td> 0.041544</td>\n",
        "      <td> 0.041928</td>\n",
        "      <td> 0.041679</td>\n",
        "      <td> 0.042318</td>\n",
        "      <td> 0.042262</td>\n",
        "      <td> 0.042668</td>\n",
        "      <td> 0.042182</td>\n",
        "      <td> 0.040872</td>\n",
        "      <td> 0.042035</td>\n",
        "      <td> 0.040406</td>\n",
        "      <td> 0.039602</td>\n",
        "      <td> 0.040118</td>\n",
        "      <td> 0.038609</td>\n",
        "      <td> 0.039916</td>\n",
        "      <td> 0.038302</td>\n",
        "      <td> 0.039234</td>\n",
        "      <td> 0.038581</td>\n",
        "      <td> 0.039946</td>\n",
        "      <td>...</td>\n",
        "    </tr>\n",
        "    <tr>\n",
        "      <th>l</th>\n",
        "      <td> 0.046066</td>\n",
        "      <td> 0.045371</td>\n",
        "      <td> 0.047736</td>\n",
        "      <td> 0.048742</td>\n",
        "      <td> 0.048967</td>\n",
        "      <td> 0.049795</td>\n",
        "      <td> 0.050720</td>\n",
        "      <td> 0.052834</td>\n",
        "      <td> 0.053179</td>\n",
        "      <td> 0.054616</td>\n",
        "      <td> 0.056311</td>\n",
        "      <td> 0.057491</td>\n",
        "      <td> 0.058785</td>\n",
        "      <td> 0.060934</td>\n",
        "      <td> 0.061594</td>\n",
        "      <td> 0.061424</td>\n",
        "      <td> 0.061668</td>\n",
        "      <td> 0.062833</td>\n",
        "      <td> 0.062264</td>\n",
        "      <td> 0.064876</td>\n",
        "      <td>...</td>\n",
        "    </tr>\n",
        "    <tr>\n",
        "      <th>m</th>\n",
        "      <td> 0.101907</td>\n",
        "      <td> 0.101411</td>\n",
        "      <td> 0.099000</td>\n",
        "      <td> 0.096663</td>\n",
        "      <td> 0.093774</td>\n",
        "      <td> 0.091000</td>\n",
        "      <td> 0.090617</td>\n",
        "      <td> 0.089546</td>\n",
        "      <td> 0.087914</td>\n",
        "      <td> 0.085387</td>\n",
        "      <td> 0.082368</td>\n",
        "      <td> 0.080842</td>\n",
        "      <td> 0.078631</td>\n",
        "      <td> 0.078019</td>\n",
        "      <td> 0.076692</td>\n",
        "      <td> 0.075546</td>\n",
        "      <td> 0.078587</td>\n",
        "      <td> 0.076490</td>\n",
        "      <td> 0.073674</td>\n",
        "      <td> 0.070638</td>\n",
        "      <td>...</td>\n",
        "    </tr>\n",
        "    <tr>\n",
        "      <th>n</th>\n",
        "      <td> 0.153213</td>\n",
        "      <td> 0.153214</td>\n",
        "      <td> 0.149560</td>\n",
        "      <td> 0.151646</td>\n",
        "      <td> 0.149915</td>\n",
        "      <td> 0.146361</td>\n",
        "      <td> 0.149659</td>\n",
        "      <td> 0.148838</td>\n",
        "      <td> 0.151286</td>\n",
        "      <td> 0.151976</td>\n",
        "      <td> 0.146470</td>\n",
        "      <td> 0.148353</td>\n",
        "      <td> 0.144857</td>\n",
        "      <td> 0.142558</td>\n",
        "      <td> 0.142112</td>\n",
        "      <td> 0.143350</td>\n",
        "      <td> 0.140631</td>\n",
        "      <td> 0.140112</td>\n",
        "      <td> 0.139614</td>\n",
        "      <td> 0.140607</td>\n",
        "      <td>...</td>\n",
        "    </tr>\n",
        "    <tr>\n",
        "      <th>o</th>\n",
        "      <td> 0.008444</td>\n",
        "      <td> 0.007941</td>\n",
        "      <td> 0.008145</td>\n",
        "      <td> 0.007761</td>\n",
        "      <td> 0.008205</td>\n",
        "      <td> 0.008933</td>\n",
        "      <td> 0.008720</td>\n",
        "      <td> 0.009604</td>\n",
        "      <td> 0.010227</td>\n",
        "      <td> 0.010173</td>\n",
        "      <td> 0.010898</td>\n",
        "      <td> 0.010731</td>\n",
        "      <td> 0.010849</td>\n",
        "      <td> 0.010755</td>\n",
        "      <td> 0.011514</td>\n",
        "      <td> 0.011431</td>\n",
        "      <td> 0.011658</td>\n",
        "      <td> 0.011360</td>\n",
        "      <td> 0.012274</td>\n",
        "      <td> 0.011298</td>\n",
        "      <td>...</td>\n",
        "    </tr>\n",
        "    <tr>\n",
        "      <th>p</th>\n",
        "      <td> 0.002552</td>\n",
        "      <td> 0.002690</td>\n",
        "      <td> 0.002709</td>\n",
        "      <td> 0.002733</td>\n",
        "      <td> 0.002403</td>\n",
        "      <td> 0.002625</td>\n",
        "      <td> 0.002744</td>\n",
        "      <td> 0.002603</td>\n",
        "      <td> 0.002780</td>\n",
        "      <td> 0.002559</td>\n",
        "      <td> 0.002738</td>\n",
        "      <td> 0.002836</td>\n",
        "      <td> 0.003155</td>\n",
        "      <td> 0.002831</td>\n",
        "      <td> 0.002937</td>\n",
        "      <td> 0.002726</td>\n",
        "      <td> 0.002885</td>\n",
        "      <td> 0.002705</td>\n",
        "      <td> 0.002950</td>\n",
        "      <td> 0.003050</td>\n",
        "      <td>...</td>\n",
        "    </tr>\n",
        "    <tr>\n",
        "      <th>q</th>\n",
        "      <td>      NaN</td>\n",
        "      <td>      NaN</td>\n",
        "      <td>      NaN</td>\n",
        "      <td>      NaN</td>\n",
        "      <td>      NaN</td>\n",
        "      <td>      NaN</td>\n",
        "      <td>      NaN</td>\n",
        "      <td>      NaN</td>\n",
        "      <td>      NaN</td>\n",
        "      <td>      NaN</td>\n",
        "      <td>      NaN</td>\n",
        "      <td>      NaN</td>\n",
        "      <td>      NaN</td>\n",
        "      <td>      NaN</td>\n",
        "      <td>      NaN</td>\n",
        "      <td>      NaN</td>\n",
        "      <td>      NaN</td>\n",
        "      <td>      NaN</td>\n",
        "      <td>      NaN</td>\n",
        "      <td>      NaN</td>\n",
        "      <td>...</td>\n",
        "    </tr>\n",
        "    <tr>\n",
        "      <th>r</th>\n",
        "      <td> 0.067461</td>\n",
        "      <td> 0.072190</td>\n",
        "      <td> 0.070263</td>\n",
        "      <td> 0.071775</td>\n",
        "      <td> 0.078492</td>\n",
        "      <td> 0.079312</td>\n",
        "      <td> 0.076157</td>\n",
        "      <td> 0.075139</td>\n",
        "      <td> 0.075072</td>\n",
        "      <td> 0.075775</td>\n",
        "      <td> 0.074127</td>\n",
        "      <td> 0.075110</td>\n",
        "      <td> 0.078246</td>\n",
        "      <td> 0.077200</td>\n",
        "      <td> 0.075422</td>\n",
        "      <td> 0.074891</td>\n",
        "      <td> 0.074790</td>\n",
        "      <td> 0.074104</td>\n",
        "      <td> 0.070088</td>\n",
        "      <td> 0.070553</td>\n",
        "      <td>...</td>\n",
        "    </tr>\n",
        "    <tr>\n",
        "      <th>s</th>\n",
        "      <td> 0.167006</td>\n",
        "      <td> 0.162495</td>\n",
        "      <td> 0.160441</td>\n",
        "      <td> 0.158116</td>\n",
        "      <td> 0.154764</td>\n",
        "      <td> 0.152418</td>\n",
        "      <td> 0.151131</td>\n",
        "      <td> 0.147014</td>\n",
        "      <td> 0.143244</td>\n",
        "      <td> 0.142065</td>\n",
        "      <td> 0.141165</td>\n",
        "      <td> 0.138313</td>\n",
        "      <td> 0.138285</td>\n",
        "      <td> 0.136851</td>\n",
        "      <td> 0.134295</td>\n",
        "      <td> 0.134466</td>\n",
        "      <td> 0.131909</td>\n",
        "      <td> 0.132636</td>\n",
        "      <td> 0.128978</td>\n",
        "      <td> 0.130411</td>\n",
        "      <td>...</td>\n",
        "    </tr>\n",
        "    <tr>\n",
        "      <th>t</th>\n",
        "      <td> 0.062891</td>\n",
        "      <td> 0.061818</td>\n",
        "      <td> 0.062285</td>\n",
        "      <td> 0.064550</td>\n",
        "      <td> 0.061235</td>\n",
        "      <td> 0.063468</td>\n",
        "      <td> 0.062725</td>\n",
        "      <td> 0.062468</td>\n",
        "      <td> 0.064506</td>\n",
        "      <td> 0.063252</td>\n",
        "      <td> 0.065129</td>\n",
        "      <td> 0.064902</td>\n",
        "      <td> 0.063587</td>\n",
        "      <td> 0.064860</td>\n",
        "      <td> 0.065463</td>\n",
        "      <td> 0.066219</td>\n",
        "      <td> 0.067690</td>\n",
        "      <td> 0.068641</td>\n",
        "      <td> 0.067945</td>\n",
        "      <td> 0.068501</td>\n",
        "      <td>...</td>\n",
        "    </tr>\n",
        "    <tr>\n",
        "      <th>u</th>\n",
        "      <td> 0.000226</td>\n",
        "      <td> 0.000258</td>\n",
        "      <td> 0.000088</td>\n",
        "      <td> 0.000153</td>\n",
        "      <td> 0.000131</td>\n",
        "      <td> 0.000121</td>\n",
        "      <td> 0.000081</td>\n",
        "      <td> 0.000099</td>\n",
        "      <td> 0.000124</td>\n",
        "      <td> 0.000154</td>\n",
        "      <td> 0.000135</td>\n",
        "      <td> 0.000079</td>\n",
        "      <td> 0.000115</td>\n",
        "      <td> 0.000134</td>\n",
        "      <td> 0.000155</td>\n",
        "      <td> 0.000077</td>\n",
        "      <td> 0.000125</td>\n",
        "      <td> 0.000222</td>\n",
        "      <td> 0.000081</td>\n",
        "      <td> 0.000122</td>\n",
        "      <td>...</td>\n",
        "    </tr>\n",
        "    <tr>\n",
        "      <th>v</th>\n",
        "      <td> 0.000299</td>\n",
        "      <td> 0.000179</td>\n",
        "      <td> 0.000378</td>\n",
        "      <td> 0.000421</td>\n",
        "      <td> 0.000315</td>\n",
        "      <td> 0.000260</td>\n",
        "      <td> 0.000289</td>\n",
        "      <td> 0.000335</td>\n",
        "      <td> 0.000248</td>\n",
        "      <td> 0.000244</td>\n",
        "      <td> 0.000189</td>\n",
        "      <td> 0.000227</td>\n",
        "      <td> 0.000205</td>\n",
        "      <td> 0.000187</td>\n",
        "      <td> 0.000164</td>\n",
        "      <td> 0.000162</td>\n",
        "      <td> 0.000276</td>\n",
        "      <td> 0.000142</td>\n",
        "      <td> 0.000187</td>\n",
        "      <td> 0.000169</td>\n",
        "      <td>...</td>\n",
        "    </tr>\n",
        "    <tr>\n",
        "      <th>w</th>\n",
        "      <td> 0.007720</td>\n",
        "      <td> 0.007424</td>\n",
        "      <td> 0.007697</td>\n",
        "      <td> 0.007589</td>\n",
        "      <td> 0.007217</td>\n",
        "      <td> 0.007254</td>\n",
        "      <td> 0.007266</td>\n",
        "      <td> 0.006794</td>\n",
        "      <td> 0.006810</td>\n",
        "      <td> 0.006845</td>\n",
        "      <td> 0.006665</td>\n",
        "      <td> 0.006927</td>\n",
        "      <td> 0.007055</td>\n",
        "      <td> 0.006232</td>\n",
        "      <td> 0.006729</td>\n",
        "      <td> 0.006295</td>\n",
        "      <td> 0.006339</td>\n",
        "      <td> 0.006465</td>\n",
        "      <td> 0.006593</td>\n",
        "      <td> 0.006873</td>\n",
        "      <td>...</td>\n",
        "    </tr>\n",
        "    <tr>\n",
        "      <th>x</th>\n",
        "      <td> 0.002751</td>\n",
        "      <td> 0.002650</td>\n",
        "      <td> 0.003123</td>\n",
        "      <td> 0.002705</td>\n",
        "      <td> 0.002997</td>\n",
        "      <td> 0.003080</td>\n",
        "      <td> 0.003177</td>\n",
        "      <td> 0.003146</td>\n",
        "      <td> 0.003566</td>\n",
        "      <td> 0.002903</td>\n",
        "      <td> 0.003179</td>\n",
        "      <td> 0.003350</td>\n",
        "      <td> 0.003171</td>\n",
        "      <td> 0.003178</td>\n",
        "      <td> 0.003222</td>\n",
        "      <td> 0.003296</td>\n",
        "      <td> 0.003713</td>\n",
        "      <td> 0.003370</td>\n",
        "      <td> 0.003537</td>\n",
        "      <td> 0.003596</td>\n",
        "      <td>...</td>\n",
        "    </tr>\n",
        "    <tr>\n",
        "      <th>y</th>\n",
        "      <td> 0.075760</td>\n",
        "      <td> 0.077451</td>\n",
        "      <td> 0.077537</td>\n",
        "      <td> 0.079144</td>\n",
        "      <td> 0.080405</td>\n",
        "      <td> 0.081882</td>\n",
        "      <td> 0.081681</td>\n",
        "      <td> 0.082870</td>\n",
        "      <td> 0.084919</td>\n",
        "      <td> 0.086328</td>\n",
        "      <td> 0.086277</td>\n",
        "      <td> 0.084933</td>\n",
        "      <td> 0.084883</td>\n",
        "      <td> 0.084643</td>\n",
        "      <td> 0.085554</td>\n",
        "      <td> 0.083332</td>\n",
        "      <td> 0.083922</td>\n",
        "      <td> 0.083283</td>\n",
        "      <td> 0.090633</td>\n",
        "      <td> 0.084807</td>\n",
        "      <td>...</td>\n",
        "    </tr>\n",
        "    <tr>\n",
        "      <th>z</th>\n",
        "      <td> 0.000262</td>\n",
        "      <td> 0.000079</td>\n",
        "      <td> 0.000273</td>\n",
        "      <td> 0.000115</td>\n",
        "      <td> 0.000236</td>\n",
        "      <td> 0.000158</td>\n",
        "      <td> 0.000117</td>\n",
        "      <td> 0.000227</td>\n",
        "      <td> 0.000190</td>\n",
        "      <td> 0.000307</td>\n",
        "      <td> 0.000144</td>\n",
        "      <td> 0.000217</td>\n",
        "      <td> 0.000229</td>\n",
        "      <td> 0.000187</td>\n",
        "      <td> 0.000207</td>\n",
        "      <td> 0.000170</td>\n",
        "      <td> 0.000125</td>\n",
        "      <td> 0.000124</td>\n",
        "      <td> 0.000122</td>\n",
        "      <td> 0.000169</td>\n",
        "      <td>...</td>\n",
        "    </tr>\n",
        "  </tbody>\n",
        "</table>\n",
        "<p>26 rows \u00d7 131 columns</p>\n",
        "</div>"
       ],
       "metadata": {},
       "output_type": "pyout",
       "prompt_number": 103,
       "text": [
        "year             1880      1881      1882      1883      1884      1885  \\\n",
        "last_letter                                                               \n",
        "a            0.007023  0.007613  0.006799  0.007235  0.007139  0.006614   \n",
        "b            0.004607  0.004665  0.004451  0.004320  0.004334  0.004091   \n",
        "c            0.003159  0.003285  0.003070  0.002858  0.002787  0.002792   \n",
        "d            0.083055  0.083247  0.085340  0.084066  0.086120  0.085472   \n",
        "e            0.122116  0.123139  0.128537  0.126070  0.127895  0.130313   \n",
        "f            0.000977  0.000824  0.001187  0.001013  0.001145  0.001067   \n",
        "g            0.001330  0.001449  0.001284  0.001290  0.001398  0.001688   \n",
        "h            0.036645  0.037380  0.036732  0.037512  0.037066  0.037615   \n",
        "i            0.001810  0.002045  0.001821  0.001596  0.001381  0.001364   \n",
        "j                 NaN       NaN       NaN       NaN       NaN       NaN   \n",
        "k            0.042718  0.041182  0.041544  0.041928  0.041679  0.042318   \n",
        "l            0.046066  0.045371  0.047736  0.048742  0.048967  0.049795   \n",
        "m            0.101907  0.101411  0.099000  0.096663  0.093774  0.091000   \n",
        "n            0.153213  0.153214  0.149560  0.151646  0.149915  0.146361   \n",
        "o            0.008444  0.007941  0.008145  0.007761  0.008205  0.008933   \n",
        "p            0.002552  0.002690  0.002709  0.002733  0.002403  0.002625   \n",
        "q                 NaN       NaN       NaN       NaN       NaN       NaN   \n",
        "r            0.067461  0.072190  0.070263  0.071775  0.078492  0.079312   \n",
        "s            0.167006  0.162495  0.160441  0.158116  0.154764  0.152418   \n",
        "t            0.062891  0.061818  0.062285  0.064550  0.061235  0.063468   \n",
        "u            0.000226  0.000258  0.000088  0.000153  0.000131  0.000121   \n",
        "v            0.000299  0.000179  0.000378  0.000421  0.000315  0.000260   \n",
        "w            0.007720  0.007424  0.007697  0.007589  0.007217  0.007254   \n",
        "x            0.002751  0.002650  0.003123  0.002705  0.002997  0.003080   \n",
        "y            0.075760  0.077451  0.077537  0.079144  0.080405  0.081882   \n",
        "z            0.000262  0.000079  0.000273  0.000115  0.000236  0.000158   \n",
        "\n",
        "year             1886      1887      1888      1889      1890      1891  \\\n",
        "last_letter                                                               \n",
        "a            0.006996  0.006903  0.006777  0.006366  0.006449  0.006710   \n",
        "b            0.004080  0.004280  0.003872  0.003517  0.003594  0.003152   \n",
        "c            0.002554  0.002574  0.002524  0.002450  0.002432  0.002233   \n",
        "d            0.087647  0.089072  0.087707  0.091934  0.093834  0.094478   \n",
        "e            0.130658  0.130280  0.130270  0.130111  0.133113  0.133896   \n",
        "f            0.001011  0.001223  0.001158  0.001121  0.001126  0.001383   \n",
        "g            0.001273  0.001154  0.001572  0.001121  0.001414  0.001314   \n",
        "h            0.036891  0.038960  0.038376  0.038530  0.039027  0.040851   \n",
        "i            0.001544  0.001371  0.001498  0.001393  0.001180  0.001265   \n",
        "j                 NaN       NaN       NaN       NaN       NaN       NaN   \n",
        "k            0.042262  0.042668  0.042182  0.040872  0.042035  0.040406   \n",
        "l            0.050720  0.052834  0.053179  0.054616  0.056311  0.057491   \n",
        "m            0.090617  0.089546  0.087914  0.085387  0.082368  0.080842   \n",
        "n            0.149659  0.148838  0.151286  0.151976  0.146470  0.148353   \n",
        "o            0.008720  0.009604  0.010227  0.010173  0.010898  0.010731   \n",
        "p            0.002744  0.002603  0.002780  0.002559  0.002738  0.002836   \n",
        "q                 NaN       NaN       NaN       NaN       NaN       NaN   \n",
        "r            0.076157  0.075139  0.075072  0.075775  0.074127  0.075110   \n",
        "s            0.151131  0.147014  0.143244  0.142065  0.141165  0.138313   \n",
        "t            0.062725  0.062468  0.064506  0.063252  0.065129  0.064902   \n",
        "u            0.000081  0.000099  0.000124  0.000154  0.000135  0.000079   \n",
        "v            0.000289  0.000335  0.000248  0.000244  0.000189  0.000227   \n",
        "w            0.007266  0.006794  0.006810  0.006845  0.006665  0.006927   \n",
        "x            0.003177  0.003146  0.003566  0.002903  0.003179  0.003350   \n",
        "y            0.081681  0.082870  0.084919  0.086328  0.086277  0.084933   \n",
        "z            0.000117  0.000227  0.000190  0.000307  0.000144  0.000217   \n",
        "\n",
        "year             1892      1893      1894      1895      1896      1897  \\\n",
        "last_letter                                                               \n",
        "a            0.006391  0.005849  0.006366  0.006389  0.005862  0.005782   \n",
        "b            0.003065  0.003383  0.003144  0.003058  0.002685  0.002448   \n",
        "c            0.002360  0.002172  0.002108  0.002095  0.002467  0.002572   \n",
        "d            0.096388  0.098318  0.100462  0.100019  0.102881  0.101987   \n",
        "e            0.135605  0.135356  0.137784  0.139730  0.137972  0.140360   \n",
        "f            0.000877  0.001157  0.000985  0.000928  0.000962  0.001064   \n",
        "g            0.001246  0.001701  0.001607  0.001891  0.001639  0.001818   \n",
        "h            0.041110  0.042157  0.041676  0.041508  0.041915  0.041327   \n",
        "i            0.001303  0.001220  0.001201  0.001082  0.000995  0.000922   \n",
        "j                 NaN       NaN       NaN       NaN       NaN       NaN   \n",
        "k            0.039602  0.040118  0.038609  0.039916  0.038302  0.039234   \n",
        "l            0.058785  0.060934  0.061594  0.061424  0.061668  0.062833   \n",
        "m            0.078631  0.078019  0.076692  0.075546  0.078587  0.076490   \n",
        "n            0.144857  0.142558  0.142112  0.143350  0.140631  0.140112   \n",
        "o            0.010849  0.010755  0.011514  0.011431  0.011658  0.011360   \n",
        "p            0.003155  0.002831  0.002937  0.002726  0.002885  0.002705   \n",
        "q                 NaN       NaN       NaN       NaN       NaN       NaN   \n",
        "r            0.078246  0.077200  0.075422  0.074891  0.074790  0.074104   \n",
        "s            0.138285  0.136851  0.134295  0.134466  0.131909  0.132636   \n",
        "t            0.063587  0.064860  0.065463  0.066219  0.067690  0.068641   \n",
        "u            0.000115  0.000134  0.000155  0.000077  0.000125  0.000222   \n",
        "v            0.000205  0.000187  0.000164  0.000162  0.000276  0.000142   \n",
        "w            0.007055  0.006232  0.006729  0.006295  0.006339  0.006465   \n",
        "x            0.003171  0.003178  0.003222  0.003296  0.003713  0.003370   \n",
        "y            0.084883  0.084643  0.085554  0.083332  0.083922  0.083283   \n",
        "z            0.000229  0.000187  0.000207  0.000170  0.000125  0.000124   \n",
        "\n",
        "year             1898      1899      \n",
        "last_letter                          \n",
        "a            0.005966  0.005508 ...  \n",
        "b            0.002746  0.002617 ...  \n",
        "c            0.001972  0.002175 ...  \n",
        "d            0.104887  0.105020 ...  \n",
        "e            0.141203  0.142857 ...  \n",
        "f            0.000896  0.000781 ...  \n",
        "g            0.001606  0.001525 ...  \n",
        "h            0.042330  0.042949 ...  \n",
        "i            0.000872  0.000951 ...  \n",
        "j                 NaN       NaN ...  \n",
        "k            0.038581  0.039946 ...  \n",
        "l            0.062264  0.064876 ...  \n",
        "m            0.073674  0.070638 ...  \n",
        "n            0.139614  0.140607 ...  \n",
        "o            0.012274  0.011298 ...  \n",
        "p            0.002950  0.003050 ...  \n",
        "q                 NaN       NaN ...  \n",
        "r            0.070088  0.070553 ...  \n",
        "s            0.128978  0.130411 ...  \n",
        "t            0.067945  0.068501 ...  \n",
        "u            0.000081  0.000122 ...  \n",
        "v            0.000187  0.000169 ...  \n",
        "w            0.006593  0.006873 ...  \n",
        "x            0.003537  0.003596 ...  \n",
        "y            0.090633  0.084807 ...  \n",
        "z            0.000122  0.000169 ...  \n",
        "\n",
        "[26 rows x 131 columns]"
       ]
      }
     ],
     "prompt_number": 103
    },
    {
     "cell_type": "markdown",
     "metadata": {
      "slideshow": {
       "slide_type": "subslide"
      }
     },
     "source": [
      "# We only care about d, n, and y"
     ]
    },
    {
     "cell_type": "code",
     "collapsed": false,
     "input": [
      "dny = ratio_table.ix[['d', 'n', 'y']]\n",
      "dny"
     ],
     "language": "python",
     "metadata": {
      "slideshow": {
       "slide_type": "fragment"
      }
     },
     "outputs": [
      {
       "html": [
        "<div style=\"max-height:1000px;max-width:1500px;overflow:auto;\">\n",
        "<table border=\"1\" class=\"dataframe\">\n",
        "  <thead>\n",
        "    <tr style=\"text-align: right;\">\n",
        "      <th>year</th>\n",
        "      <th>1880</th>\n",
        "      <th>1881</th>\n",
        "      <th>1882</th>\n",
        "      <th>1883</th>\n",
        "      <th>1884</th>\n",
        "      <th>1885</th>\n",
        "      <th>1886</th>\n",
        "      <th>1887</th>\n",
        "      <th>1888</th>\n",
        "      <th>1889</th>\n",
        "      <th>1890</th>\n",
        "      <th>1891</th>\n",
        "      <th>1892</th>\n",
        "      <th>1893</th>\n",
        "      <th>1894</th>\n",
        "      <th>1895</th>\n",
        "      <th>1896</th>\n",
        "      <th>1897</th>\n",
        "      <th>1898</th>\n",
        "      <th>1899</th>\n",
        "      <th></th>\n",
        "    </tr>\n",
        "  </thead>\n",
        "  <tbody>\n",
        "    <tr>\n",
        "      <th>d</th>\n",
        "      <td> 0.083055</td>\n",
        "      <td> 0.083247</td>\n",
        "      <td> 0.085340</td>\n",
        "      <td> 0.084066</td>\n",
        "      <td> 0.086120</td>\n",
        "      <td> 0.085472</td>\n",
        "      <td> 0.087647</td>\n",
        "      <td> 0.089072</td>\n",
        "      <td> 0.087707</td>\n",
        "      <td> 0.091934</td>\n",
        "      <td> 0.093834</td>\n",
        "      <td> 0.094478</td>\n",
        "      <td> 0.096388</td>\n",
        "      <td> 0.098318</td>\n",
        "      <td> 0.100462</td>\n",
        "      <td> 0.100019</td>\n",
        "      <td> 0.102881</td>\n",
        "      <td> 0.101987</td>\n",
        "      <td> 0.104887</td>\n",
        "      <td> 0.105020</td>\n",
        "      <td>...</td>\n",
        "    </tr>\n",
        "    <tr>\n",
        "      <th>n</th>\n",
        "      <td> 0.153213</td>\n",
        "      <td> 0.153214</td>\n",
        "      <td> 0.149560</td>\n",
        "      <td> 0.151646</td>\n",
        "      <td> 0.149915</td>\n",
        "      <td> 0.146361</td>\n",
        "      <td> 0.149659</td>\n",
        "      <td> 0.148838</td>\n",
        "      <td> 0.151286</td>\n",
        "      <td> 0.151976</td>\n",
        "      <td> 0.146470</td>\n",
        "      <td> 0.148353</td>\n",
        "      <td> 0.144857</td>\n",
        "      <td> 0.142558</td>\n",
        "      <td> 0.142112</td>\n",
        "      <td> 0.143350</td>\n",
        "      <td> 0.140631</td>\n",
        "      <td> 0.140112</td>\n",
        "      <td> 0.139614</td>\n",
        "      <td> 0.140607</td>\n",
        "      <td>...</td>\n",
        "    </tr>\n",
        "    <tr>\n",
        "      <th>y</th>\n",
        "      <td> 0.075760</td>\n",
        "      <td> 0.077451</td>\n",
        "      <td> 0.077537</td>\n",
        "      <td> 0.079144</td>\n",
        "      <td> 0.080405</td>\n",
        "      <td> 0.081882</td>\n",
        "      <td> 0.081681</td>\n",
        "      <td> 0.082870</td>\n",
        "      <td> 0.084919</td>\n",
        "      <td> 0.086328</td>\n",
        "      <td> 0.086277</td>\n",
        "      <td> 0.084933</td>\n",
        "      <td> 0.084883</td>\n",
        "      <td> 0.084643</td>\n",
        "      <td> 0.085554</td>\n",
        "      <td> 0.083332</td>\n",
        "      <td> 0.083922</td>\n",
        "      <td> 0.083283</td>\n",
        "      <td> 0.090633</td>\n",
        "      <td> 0.084807</td>\n",
        "      <td>...</td>\n",
        "    </tr>\n",
        "  </tbody>\n",
        "</table>\n",
        "<p>3 rows \u00d7 131 columns</p>\n",
        "</div>"
       ],
       "metadata": {},
       "output_type": "pyout",
       "prompt_number": 104,
       "text": [
        "year      1880      1881      1882      1883      1884      1885      1886  \\\n",
        "d     0.083055  0.083247  0.085340  0.084066  0.086120  0.085472  0.087647   \n",
        "n     0.153213  0.153214  0.149560  0.151646  0.149915  0.146361  0.149659   \n",
        "y     0.075760  0.077451  0.077537  0.079144  0.080405  0.081882  0.081681   \n",
        "\n",
        "year      1887      1888      1889      1890      1891      1892      1893  \\\n",
        "d     0.089072  0.087707  0.091934  0.093834  0.094478  0.096388  0.098318   \n",
        "n     0.148838  0.151286  0.151976  0.146470  0.148353  0.144857  0.142558   \n",
        "y     0.082870  0.084919  0.086328  0.086277  0.084933  0.084883  0.084643   \n",
        "\n",
        "year      1894      1895      1896      1897      1898      1899      \n",
        "d     0.100462  0.100019  0.102881  0.101987  0.104887  0.105020 ...  \n",
        "n     0.142112  0.143350  0.140631  0.140112  0.139614  0.140607 ...  \n",
        "y     0.085554  0.083332  0.083922  0.083283  0.090633  0.084807 ...  \n",
        "\n",
        "[3 rows x 131 columns]"
       ]
      }
     ],
     "prompt_number": 104
    },
    {
     "cell_type": "markdown",
     "metadata": {
      "slideshow": {
       "slide_type": "subslide"
      }
     },
     "source": [
      "# Happy Plotting Time!!!"
     ]
    },
    {
     "cell_type": "code",
     "collapsed": false,
     "input": [
      "dny.plot(kind='line', rot=0)"
     ],
     "language": "python",
     "metadata": {
      "slideshow": {
       "slide_type": "fragment"
      }
     },
     "outputs": [
      {
       "metadata": {},
       "output_type": "pyout",
       "prompt_number": 105,
       "text": [
        "<matplotlib.axes.AxesSubplot at 0x11f328390>"
       ]
      },
      {
       "metadata": {},
       "output_type": "display_data",
       "png": "[encoded data removed]",
       "text": [
        "<matplotlib.figure.Figure at 0x11f385f90>"
       ]
      }
     ],
     "prompt_number": 105
    },
    {
     "cell_type": "markdown",
     "metadata": {
      "slideshow": {
       "slide_type": "subslide"
      }
     },
     "source": [
      "# What happen?"
     ]
    },
    {
     "cell_type": "code",
     "collapsed": false,
     "input": [
      "dny"
     ],
     "language": "python",
     "metadata": {
      "slideshow": {
       "slide_type": "fragment"
      }
     },
     "outputs": [
      {
       "html": [
        "<div style=\"max-height:1000px;max-width:1500px;overflow:auto;\">\n",
        "<table border=\"1\" class=\"dataframe\">\n",
        "  <thead>\n",
        "    <tr style=\"text-align: right;\">\n",
        "      <th>year</th>\n",
        "      <th>1880</th>\n",
        "      <th>1881</th>\n",
        "      <th>1882</th>\n",
        "      <th>1883</th>\n",
        "      <th>1884</th>\n",
        "      <th>1885</th>\n",
        "      <th>1886</th>\n",
        "      <th>1887</th>\n",
        "      <th>1888</th>\n",
        "      <th>1889</th>\n",
        "      <th>1890</th>\n",
        "      <th>1891</th>\n",
        "      <th>1892</th>\n",
        "      <th>1893</th>\n",
        "      <th>1894</th>\n",
        "      <th>1895</th>\n",
        "      <th>1896</th>\n",
        "      <th>1897</th>\n",
        "      <th>1898</th>\n",
        "      <th>1899</th>\n",
        "      <th></th>\n",
        "    </tr>\n",
        "  </thead>\n",
        "  <tbody>\n",
        "    <tr>\n",
        "      <th>d</th>\n",
        "      <td> 0.083055</td>\n",
        "      <td> 0.083247</td>\n",
        "      <td> 0.085340</td>\n",
        "      <td> 0.084066</td>\n",
        "      <td> 0.086120</td>\n",
        "      <td> 0.085472</td>\n",
        "      <td> 0.087647</td>\n",
        "      <td> 0.089072</td>\n",
        "      <td> 0.087707</td>\n",
        "      <td> 0.091934</td>\n",
        "      <td> 0.093834</td>\n",
        "      <td> 0.094478</td>\n",
        "      <td> 0.096388</td>\n",
        "      <td> 0.098318</td>\n",
        "      <td> 0.100462</td>\n",
        "      <td> 0.100019</td>\n",
        "      <td> 0.102881</td>\n",
        "      <td> 0.101987</td>\n",
        "      <td> 0.104887</td>\n",
        "      <td> 0.105020</td>\n",
        "      <td>...</td>\n",
        "    </tr>\n",
        "    <tr>\n",
        "      <th>n</th>\n",
        "      <td> 0.153213</td>\n",
        "      <td> 0.153214</td>\n",
        "      <td> 0.149560</td>\n",
        "      <td> 0.151646</td>\n",
        "      <td> 0.149915</td>\n",
        "      <td> 0.146361</td>\n",
        "      <td> 0.149659</td>\n",
        "      <td> 0.148838</td>\n",
        "      <td> 0.151286</td>\n",
        "      <td> 0.151976</td>\n",
        "      <td> 0.146470</td>\n",
        "      <td> 0.148353</td>\n",
        "      <td> 0.144857</td>\n",
        "      <td> 0.142558</td>\n",
        "      <td> 0.142112</td>\n",
        "      <td> 0.143350</td>\n",
        "      <td> 0.140631</td>\n",
        "      <td> 0.140112</td>\n",
        "      <td> 0.139614</td>\n",
        "      <td> 0.140607</td>\n",
        "      <td>...</td>\n",
        "    </tr>\n",
        "    <tr>\n",
        "      <th>y</th>\n",
        "      <td> 0.075760</td>\n",
        "      <td> 0.077451</td>\n",
        "      <td> 0.077537</td>\n",
        "      <td> 0.079144</td>\n",
        "      <td> 0.080405</td>\n",
        "      <td> 0.081882</td>\n",
        "      <td> 0.081681</td>\n",
        "      <td> 0.082870</td>\n",
        "      <td> 0.084919</td>\n",
        "      <td> 0.086328</td>\n",
        "      <td> 0.086277</td>\n",
        "      <td> 0.084933</td>\n",
        "      <td> 0.084883</td>\n",
        "      <td> 0.084643</td>\n",
        "      <td> 0.085554</td>\n",
        "      <td> 0.083332</td>\n",
        "      <td> 0.083922</td>\n",
        "      <td> 0.083283</td>\n",
        "      <td> 0.090633</td>\n",
        "      <td> 0.084807</td>\n",
        "      <td>...</td>\n",
        "    </tr>\n",
        "  </tbody>\n",
        "</table>\n",
        "<p>3 rows \u00d7 131 columns</p>\n",
        "</div>"
       ],
       "metadata": {},
       "output_type": "pyout",
       "prompt_number": 108,
       "text": [
        "year      1880      1881      1882      1883      1884      1885      1886  \\\n",
        "d     0.083055  0.083247  0.085340  0.084066  0.086120  0.085472  0.087647   \n",
        "n     0.153213  0.153214  0.149560  0.151646  0.149915  0.146361  0.149659   \n",
        "y     0.075760  0.077451  0.077537  0.079144  0.080405  0.081882  0.081681   \n",
        "\n",
        "year      1887      1888      1889      1890      1891      1892      1893  \\\n",
        "d     0.089072  0.087707  0.091934  0.093834  0.094478  0.096388  0.098318   \n",
        "n     0.148838  0.151286  0.151976  0.146470  0.148353  0.144857  0.142558   \n",
        "y     0.082870  0.084919  0.086328  0.086277  0.084933  0.084883  0.084643   \n",
        "\n",
        "year      1894      1895      1896      1897      1898      1899      \n",
        "d     0.100462  0.100019  0.102881  0.101987  0.104887  0.105020 ...  \n",
        "n     0.142112  0.143350  0.140631  0.140112  0.139614  0.140607 ...  \n",
        "y     0.085554  0.083332  0.083922  0.083283  0.090633  0.084807 ...  \n",
        "\n",
        "[3 rows x 131 columns]"
       ]
      }
     ],
     "prompt_number": 108
    },
    {
     "cell_type": "code",
     "collapsed": false,
     "input": [
      "dny.T"
     ],
     "language": "python",
     "metadata": {
      "slideshow": {
       "slide_type": "fragment"
      }
     },
     "outputs": [
      {
       "html": [
        "<div style=\"max-height:1000px;max-width:1500px;overflow:auto;\">\n",
        "<table border=\"1\" class=\"dataframe\">\n",
        "  <thead>\n",
        "    <tr style=\"text-align: right;\">\n",
        "      <th></th>\n",
        "      <th>d</th>\n",
        "      <th>n</th>\n",
        "      <th>y</th>\n",
        "    </tr>\n",
        "    <tr>\n",
        "      <th>year</th>\n",
        "      <th></th>\n",
        "      <th></th>\n",
        "      <th></th>\n",
        "    </tr>\n",
        "  </thead>\n",
        "  <tbody>\n",
        "    <tr>\n",
        "      <th>1880</th>\n",
        "      <td> 0.083055</td>\n",
        "      <td> 0.153213</td>\n",
        "      <td> 0.075760</td>\n",
        "    </tr>\n",
        "    <tr>\n",
        "      <th>1881</th>\n",
        "      <td> 0.083247</td>\n",
        "      <td> 0.153214</td>\n",
        "      <td> 0.077451</td>\n",
        "    </tr>\n",
        "    <tr>\n",
        "      <th>1882</th>\n",
        "      <td> 0.085340</td>\n",
        "      <td> 0.149560</td>\n",
        "      <td> 0.077537</td>\n",
        "    </tr>\n",
        "    <tr>\n",
        "      <th>1883</th>\n",
        "      <td> 0.084066</td>\n",
        "      <td> 0.151646</td>\n",
        "      <td> 0.079144</td>\n",
        "    </tr>\n",
        "    <tr>\n",
        "      <th>1884</th>\n",
        "      <td> 0.086120</td>\n",
        "      <td> 0.149915</td>\n",
        "      <td> 0.080405</td>\n",
        "    </tr>\n",
        "    <tr>\n",
        "      <th>1885</th>\n",
        "      <td> 0.085472</td>\n",
        "      <td> 0.146361</td>\n",
        "      <td> 0.081882</td>\n",
        "    </tr>\n",
        "    <tr>\n",
        "      <th>1886</th>\n",
        "      <td> 0.087647</td>\n",
        "      <td> 0.149659</td>\n",
        "      <td> 0.081681</td>\n",
        "    </tr>\n",
        "    <tr>\n",
        "      <th>1887</th>\n",
        "      <td> 0.089072</td>\n",
        "      <td> 0.148838</td>\n",
        "      <td> 0.082870</td>\n",
        "    </tr>\n",
        "    <tr>\n",
        "      <th>1888</th>\n",
        "      <td> 0.087707</td>\n",
        "      <td> 0.151286</td>\n",
        "      <td> 0.084919</td>\n",
        "    </tr>\n",
        "    <tr>\n",
        "      <th>1889</th>\n",
        "      <td> 0.091934</td>\n",
        "      <td> 0.151976</td>\n",
        "      <td> 0.086328</td>\n",
        "    </tr>\n",
        "    <tr>\n",
        "      <th>1890</th>\n",
        "      <td> 0.093834</td>\n",
        "      <td> 0.146470</td>\n",
        "      <td> 0.086277</td>\n",
        "    </tr>\n",
        "    <tr>\n",
        "      <th>1891</th>\n",
        "      <td> 0.094478</td>\n",
        "      <td> 0.148353</td>\n",
        "      <td> 0.084933</td>\n",
        "    </tr>\n",
        "    <tr>\n",
        "      <th>1892</th>\n",
        "      <td> 0.096388</td>\n",
        "      <td> 0.144857</td>\n",
        "      <td> 0.084883</td>\n",
        "    </tr>\n",
        "    <tr>\n",
        "      <th>1893</th>\n",
        "      <td> 0.098318</td>\n",
        "      <td> 0.142558</td>\n",
        "      <td> 0.084643</td>\n",
        "    </tr>\n",
        "    <tr>\n",
        "      <th>1894</th>\n",
        "      <td> 0.100462</td>\n",
        "      <td> 0.142112</td>\n",
        "      <td> 0.085554</td>\n",
        "    </tr>\n",
        "    <tr>\n",
        "      <th>1895</th>\n",
        "      <td> 0.100019</td>\n",
        "      <td> 0.143350</td>\n",
        "      <td> 0.083332</td>\n",
        "    </tr>\n",
        "    <tr>\n",
        "      <th>1896</th>\n",
        "      <td> 0.102881</td>\n",
        "      <td> 0.140631</td>\n",
        "      <td> 0.083922</td>\n",
        "    </tr>\n",
        "    <tr>\n",
        "      <th>1897</th>\n",
        "      <td> 0.101987</td>\n",
        "      <td> 0.140112</td>\n",
        "      <td> 0.083283</td>\n",
        "    </tr>\n",
        "    <tr>\n",
        "      <th>1898</th>\n",
        "      <td> 0.104887</td>\n",
        "      <td> 0.139614</td>\n",
        "      <td> 0.090633</td>\n",
        "    </tr>\n",
        "    <tr>\n",
        "      <th>1899</th>\n",
        "      <td> 0.105020</td>\n",
        "      <td> 0.140607</td>\n",
        "      <td> 0.084807</td>\n",
        "    </tr>\n",
        "    <tr>\n",
        "      <th>1900</th>\n",
        "      <td> 0.102946</td>\n",
        "      <td> 0.137645</td>\n",
        "      <td> 0.084661</td>\n",
        "    </tr>\n",
        "    <tr>\n",
        "      <th>1901</th>\n",
        "      <td> 0.106792</td>\n",
        "      <td> 0.141428</td>\n",
        "      <td> 0.081754</td>\n",
        "    </tr>\n",
        "    <tr>\n",
        "      <th>1902</th>\n",
        "      <td> 0.108022</td>\n",
        "      <td> 0.140641</td>\n",
        "      <td> 0.081901</td>\n",
        "    </tr>\n",
        "    <tr>\n",
        "      <th>1903</th>\n",
        "      <td> 0.109577</td>\n",
        "      <td> 0.141337</td>\n",
        "      <td> 0.080309</td>\n",
        "    </tr>\n",
        "    <tr>\n",
        "      <th>1904</th>\n",
        "      <td> 0.109335</td>\n",
        "      <td> 0.143145</td>\n",
        "      <td> 0.080739</td>\n",
        "    </tr>\n",
        "    <tr>\n",
        "      <th>1905</th>\n",
        "      <td> 0.110226</td>\n",
        "      <td> 0.142429</td>\n",
        "      <td> 0.079331</td>\n",
        "    </tr>\n",
        "    <tr>\n",
        "      <th>1906</th>\n",
        "      <td> 0.111836</td>\n",
        "      <td> 0.141447</td>\n",
        "      <td> 0.078786</td>\n",
        "    </tr>\n",
        "    <tr>\n",
        "      <th>1907</th>\n",
        "      <td> 0.112689</td>\n",
        "      <td> 0.143328</td>\n",
        "      <td> 0.079046</td>\n",
        "    </tr>\n",
        "    <tr>\n",
        "      <th>1908</th>\n",
        "      <td> 0.113899</td>\n",
        "      <td> 0.143146</td>\n",
        "      <td> 0.078593</td>\n",
        "    </tr>\n",
        "    <tr>\n",
        "      <th>1909</th>\n",
        "      <td> 0.115500</td>\n",
        "      <td> 0.144204</td>\n",
        "      <td> 0.077386</td>\n",
        "    </tr>\n",
        "    <tr>\n",
        "      <th>1910</th>\n",
        "      <td> 0.113858</td>\n",
        "      <td> 0.143415</td>\n",
        "      <td> 0.077349</td>\n",
        "    </tr>\n",
        "    <tr>\n",
        "      <th>1911</th>\n",
        "      <td> 0.119945</td>\n",
        "      <td> 0.148321</td>\n",
        "      <td> 0.074955</td>\n",
        "    </tr>\n",
        "    <tr>\n",
        "      <th>1912</th>\n",
        "      <td> 0.125805</td>\n",
        "      <td> 0.150391</td>\n",
        "      <td> 0.073406</td>\n",
        "    </tr>\n",
        "    <tr>\n",
        "      <th>1913</th>\n",
        "      <td> 0.127228</td>\n",
        "      <td> 0.151006</td>\n",
        "      <td> 0.072375</td>\n",
        "    </tr>\n",
        "    <tr>\n",
        "      <th>1914</th>\n",
        "      <td> 0.127171</td>\n",
        "      <td> 0.152806</td>\n",
        "      <td> 0.071872</td>\n",
        "    </tr>\n",
        "    <tr>\n",
        "      <th>1915</th>\n",
        "      <td> 0.133020</td>\n",
        "      <td> 0.151538</td>\n",
        "      <td> 0.071458</td>\n",
        "    </tr>\n",
        "    <tr>\n",
        "      <th>1916</th>\n",
        "      <td> 0.132947</td>\n",
        "      <td> 0.152191</td>\n",
        "      <td> 0.071240</td>\n",
        "    </tr>\n",
        "    <tr>\n",
        "      <th>1917</th>\n",
        "      <td> 0.134676</td>\n",
        "      <td> 0.151112</td>\n",
        "      <td> 0.071028</td>\n",
        "    </tr>\n",
        "    <tr>\n",
        "      <th>1918</th>\n",
        "      <td> 0.135218</td>\n",
        "      <td> 0.151374</td>\n",
        "      <td> 0.071092</td>\n",
        "    </tr>\n",
        "    <tr>\n",
        "      <th>1919</th>\n",
        "      <td> 0.136258</td>\n",
        "      <td> 0.150832</td>\n",
        "      <td> 0.070620</td>\n",
        "    </tr>\n",
        "    <tr>\n",
        "      <th>1920</th>\n",
        "      <td> 0.138324</td>\n",
        "      <td> 0.151458</td>\n",
        "      <td> 0.069055</td>\n",
        "    </tr>\n",
        "    <tr>\n",
        "      <th>1921</th>\n",
        "      <td> 0.139909</td>\n",
        "      <td> 0.152467</td>\n",
        "      <td> 0.069180</td>\n",
        "    </tr>\n",
        "    <tr>\n",
        "      <th>1922</th>\n",
        "      <td> 0.141437</td>\n",
        "      <td> 0.149288</td>\n",
        "      <td> 0.069421</td>\n",
        "    </tr>\n",
        "    <tr>\n",
        "      <th>1923</th>\n",
        "      <td> 0.144062</td>\n",
        "      <td> 0.149297</td>\n",
        "      <td> 0.069292</td>\n",
        "    </tr>\n",
        "    <tr>\n",
        "      <th>1924</th>\n",
        "      <td> 0.145787</td>\n",
        "      <td> 0.150079</td>\n",
        "      <td> 0.069637</td>\n",
        "    </tr>\n",
        "    <tr>\n",
        "      <th>1925</th>\n",
        "      <td> 0.149044</td>\n",
        "      <td> 0.147714</td>\n",
        "      <td> 0.070171</td>\n",
        "    </tr>\n",
        "    <tr>\n",
        "      <th>1926</th>\n",
        "      <td> 0.152780</td>\n",
        "      <td> 0.145476</td>\n",
        "      <td> 0.072080</td>\n",
        "    </tr>\n",
        "    <tr>\n",
        "      <th>1927</th>\n",
        "      <td> 0.155346</td>\n",
        "      <td> 0.143624</td>\n",
        "      <td> 0.073650</td>\n",
        "    </tr>\n",
        "    <tr>\n",
        "      <th>1928</th>\n",
        "      <td> 0.160868</td>\n",
        "      <td> 0.141665</td>\n",
        "      <td> 0.075321</td>\n",
        "    </tr>\n",
        "    <tr>\n",
        "      <th>1929</th>\n",
        "      <td> 0.163681</td>\n",
        "      <td> 0.139586</td>\n",
        "      <td> 0.077970</td>\n",
        "    </tr>\n",
        "    <tr>\n",
        "      <th>1930</th>\n",
        "      <td> 0.166900</td>\n",
        "      <td> 0.139067</td>\n",
        "      <td> 0.081416</td>\n",
        "    </tr>\n",
        "    <tr>\n",
        "      <th>1931</th>\n",
        "      <td> 0.169140</td>\n",
        "      <td> 0.138445</td>\n",
        "      <td> 0.084448</td>\n",
        "    </tr>\n",
        "    <tr>\n",
        "      <th>1932</th>\n",
        "      <td> 0.171177</td>\n",
        "      <td> 0.139152</td>\n",
        "      <td> 0.087016</td>\n",
        "    </tr>\n",
        "    <tr>\n",
        "      <th>1933</th>\n",
        "      <td> 0.172855</td>\n",
        "      <td> 0.141473</td>\n",
        "      <td> 0.090228</td>\n",
        "    </tr>\n",
        "    <tr>\n",
        "      <th>1934</th>\n",
        "      <td> 0.175166</td>\n",
        "      <td> 0.138430</td>\n",
        "      <td> 0.095196</td>\n",
        "    </tr>\n",
        "    <tr>\n",
        "      <th>1935</th>\n",
        "      <td> 0.175636</td>\n",
        "      <td> 0.136347</td>\n",
        "      <td> 0.100534</td>\n",
        "    </tr>\n",
        "    <tr>\n",
        "      <th>1936</th>\n",
        "      <td> 0.177205</td>\n",
        "      <td> 0.136004</td>\n",
        "      <td> 0.102465</td>\n",
        "    </tr>\n",
        "    <tr>\n",
        "      <th>1937</th>\n",
        "      <td> 0.176468</td>\n",
        "      <td> 0.134252</td>\n",
        "      <td> 0.106834</td>\n",
        "    </tr>\n",
        "    <tr>\n",
        "      <th>1938</th>\n",
        "      <td> 0.174485</td>\n",
        "      <td> 0.133824</td>\n",
        "      <td> 0.111197</td>\n",
        "    </tr>\n",
        "    <tr>\n",
        "      <th>1939</th>\n",
        "      <td> 0.172619</td>\n",
        "      <td> 0.133394</td>\n",
        "      <td> 0.115581</td>\n",
        "    </tr>\n",
        "    <tr>\n",
        "      <th></th>\n",
        "      <td>...</td>\n",
        "      <td>...</td>\n",
        "      <td>...</td>\n",
        "    </tr>\n",
        "  </tbody>\n",
        "</table>\n",
        "<p>131 rows \u00d7 3 columns</p>\n",
        "</div>"
       ],
       "metadata": {},
       "output_type": "pyout",
       "prompt_number": 106,
       "text": [
        "             d         n         y\n",
        "year                              \n",
        "1880  0.083055  0.153213  0.075760\n",
        "1881  0.083247  0.153214  0.077451\n",
        "1882  0.085340  0.149560  0.077537\n",
        "1883  0.084066  0.151646  0.079144\n",
        "1884  0.086120  0.149915  0.080405\n",
        "1885  0.085472  0.146361  0.081882\n",
        "1886  0.087647  0.149659  0.081681\n",
        "1887  0.089072  0.148838  0.082870\n",
        "1888  0.087707  0.151286  0.084919\n",
        "1889  0.091934  0.151976  0.086328\n",
        "1890  0.093834  0.146470  0.086277\n",
        "1891  0.094478  0.148353  0.084933\n",
        "1892  0.096388  0.144857  0.084883\n",
        "1893  0.098318  0.142558  0.084643\n",
        "1894  0.100462  0.142112  0.085554\n",
        "1895  0.100019  0.143350  0.083332\n",
        "1896  0.102881  0.140631  0.083922\n",
        "1897  0.101987  0.140112  0.083283\n",
        "1898  0.104887  0.139614  0.090633\n",
        "1899  0.105020  0.140607  0.084807\n",
        "1900  0.102946  0.137645  0.084661\n",
        "1901  0.106792  0.141428  0.081754\n",
        "1902  0.108022  0.140641  0.081901\n",
        "1903  0.109577  0.141337  0.080309\n",
        "1904  0.109335  0.143145  0.080739\n",
        "1905  0.110226  0.142429  0.079331\n",
        "1906  0.111836  0.141447  0.078786\n",
        "1907  0.112689  0.143328  0.079046\n",
        "1908  0.113899  0.143146  0.078593\n",
        "1909  0.115500  0.144204  0.077386\n",
        "1910  0.113858  0.143415  0.077349\n",
        "1911  0.119945  0.148321  0.074955\n",
        "1912  0.125805  0.150391  0.073406\n",
        "1913  0.127228  0.151006  0.072375\n",
        "1914  0.127171  0.152806  0.071872\n",
        "1915  0.133020  0.151538  0.071458\n",
        "1916  0.132947  0.152191  0.071240\n",
        "1917  0.134676  0.151112  0.071028\n",
        "1918  0.135218  0.151374  0.071092\n",
        "1919  0.136258  0.150832  0.070620\n",
        "1920  0.138324  0.151458  0.069055\n",
        "1921  0.139909  0.152467  0.069180\n",
        "1922  0.141437  0.149288  0.069421\n",
        "1923  0.144062  0.149297  0.069292\n",
        "1924  0.145787  0.150079  0.069637\n",
        "1925  0.149044  0.147714  0.070171\n",
        "1926  0.152780  0.145476  0.072080\n",
        "1927  0.155346  0.143624  0.073650\n",
        "1928  0.160868  0.141665  0.075321\n",
        "1929  0.163681  0.139586  0.077970\n",
        "1930  0.166900  0.139067  0.081416\n",
        "1931  0.169140  0.138445  0.084448\n",
        "1932  0.171177  0.139152  0.087016\n",
        "1933  0.172855  0.141473  0.090228\n",
        "1934  0.175166  0.138430  0.095196\n",
        "1935  0.175636  0.136347  0.100534\n",
        "1936  0.177205  0.136004  0.102465\n",
        "1937  0.176468  0.134252  0.106834\n",
        "1938  0.174485  0.133824  0.111197\n",
        "1939  0.172619  0.133394  0.115581\n",
        "           ...       ...       ...\n",
        "\n",
        "[131 rows x 3 columns]"
       ]
      }
     ],
     "prompt_number": 106
    },
    {
     "cell_type": "markdown",
     "metadata": {
      "slideshow": {
       "slide_type": "subslide"
      }
     },
     "source": [
      "# Finally..."
     ]
    },
    {
     "cell_type": "code",
     "collapsed": false,
     "input": [
      "dny.T.plot(rot=0, figsize=(15, 5))"
     ],
     "language": "python",
     "metadata": {},
     "outputs": [
      {
       "metadata": {},
       "output_type": "pyout",
       "prompt_number": 109,
       "text": [
        "<matplotlib.axes.AxesSubplot at 0x121262c90>"
       ]
      },
      {
       "metadata": {},
       "output_type": "display_data",
       "png": "[encoded data removed]",
       "text": [
        "<matplotlib.figure.Figure at 0x11f42b4d0>"
       ]
      }
     ],
     "prompt_number": 109
    },
    {
     "cell_type": "code",
     "collapsed": false,
     "input": [
      "print 'Thank you!'"
     ],
     "language": "python",
     "metadata": {
      "slideshow": {
       "slide_type": "slide"
      }
     },
     "outputs": [
      {
       "output_type": "stream",
       "stream": "stdout",
       "text": [
        "Thank you!\n"
       ]
      }
     ],
     "prompt_number": 110
    },
    {
     "cell_type": "markdown",
     "metadata": {
      "slideshow": {
       "slide_type": "skip"
      }
     },
     "source": [
      "# Lab - Boy names that became girl names\n"
     ]
    },
    {
     "cell_type": "code",
     "collapsed": false,
     "input": [
      "!head -n 2 pandas-dataset/usa.txt"
     ],
     "language": "python",
     "metadata": {
      "slideshow": {
       "slide_type": "skip"
      }
     },
     "outputs": []
    },
    {
     "cell_type": "code",
     "collapsed": false,
     "input": [
      "import json\n",
      "\n",
      "path = 'pandas-dataset/usa.txt'\n",
      "records = [json.loads(line) for line in open(path)]\n",
      "records[0]"
     ],
     "language": "python",
     "metadata": {
      "slideshow": {
       "slide_type": "skip"
      }
     },
     "outputs": []
    },
    {
     "cell_type": "code",
     "collapsed": false,
     "input": [
      "records[0]['tz']"
     ],
     "language": "python",
     "metadata": {
      "slideshow": {
       "slide_type": "skip"
      }
     },
     "outputs": []
    },
    {
     "cell_type": "code",
     "collapsed": false,
     "input": [
      "df = pd.DataFrame(records)\n",
      "df.head(10)"
     ],
     "language": "python",
     "metadata": {
      "slideshow": {
       "slide_type": "skip"
      }
     },
     "outputs": []
    },
    {
     "cell_type": "code",
     "collapsed": false,
     "input": [
      "df['tz'].head(10)"
     ],
     "language": "python",
     "metadata": {
      "slideshow": {
       "slide_type": "skip"
      }
     },
     "outputs": []
    },
    {
     "cell_type": "code",
     "collapsed": false,
     "input": [
      "tz_counts = df['tz'].value_counts()\n",
      "print tz_counts.head(10)"
     ],
     "language": "python",
     "metadata": {
      "slideshow": {
       "slide_type": "skip"
      }
     },
     "outputs": []
    },
    {
     "cell_type": "code",
     "collapsed": false,
     "input": [
      "%pylab inline\n",
      "tz_counts.head(10).plot(kind='barh', rot=0)"
     ],
     "language": "python",
     "metadata": {
      "slideshow": {
       "slide_type": "skip"
      }
     },
     "outputs": []
    },
    {
     "cell_type": "code",
     "collapsed": false,
     "input": [
      "df['a'].head(15)"
     ],
     "language": "python",
     "metadata": {
      "slideshow": {
       "slide_type": "skip"
      }
     },
     "outputs": []
    },
    {
     "cell_type": "code",
     "collapsed": false,
     "input": [
      "print df['a'].dropna().head(15)\n"
     ],
     "language": "python",
     "metadata": {
      "slideshow": {
       "slide_type": "skip"
      }
     },
     "outputs": []
    },
    {
     "cell_type": "code",
     "collapsed": false,
     "input": [
      "print df['a'].value_counts()"
     ],
     "language": "python",
     "metadata": {
      "slideshow": {
       "slide_type": "skip"
      }
     },
     "outputs": []
    },
    {
     "cell_type": "code",
     "collapsed": false,
     "input": [
      "agents = pd.Series([x.split()[0] for x in df['a'].dropna()])\n",
      "print agents"
     ],
     "language": "python",
     "metadata": {
      "slideshow": {
       "slide_type": "skip"
      }
     },
     "outputs": []
    },
    {
     "cell_type": "code",
     "collapsed": false,
     "input": [
      "print agents.value_counts().head(10)"
     ],
     "language": "python",
     "metadata": {
      "slideshow": {
       "slide_type": "skip"
      }
     },
     "outputs": []
    }
   ],
   "metadata": {}
  }
 ]
}