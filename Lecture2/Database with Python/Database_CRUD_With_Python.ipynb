{
 "metadata": {
  "name": ""
 },
 "nbformat": 3,
 "nbformat_minor": 0,
 "worksheets": [
  {
   "cells": [
    {
     "cell_type": "markdown",
     "metadata": {
      "slideshow": {
       "slide_type": "slide"
      }
     },
     "source": [
      "#Database CRUD With Python"
     ]
    },
    {
     "cell_type": "markdown",
     "metadata": {
      "slideshow": {
       "slide_type": "slide"
      }
     },
     "source": [
      "##Database\n",
      "### A database is an organized collection of data, which user can cast create, read, update and delete operation"
     ]
    },
    {
     "cell_type": "markdown",
     "metadata": {
      "slideshow": {
       "slide_type": "slide"
      }
     },
     "source": [
      "##Types of Database\n",
      "* Releational Database\n",
      "    * Commercial\n",
      "        * Oracle, Sybase, Informix\n",
      "        * Oracle, MS SQL Server\n",
      "    * Open Source\n",
      "        * PostgreSQL, SQLite, MySQL\n",
      "\n",
      "\n",
      "* Non-Relational Database\n",
      "    * Column: HBase, Accumulo, Cassandra\n",
      "    * Document: MarkLogic, MongoDB, Couchbase\n",
      "    * Key-value: Dynamo, Riak, Redis, MemcacheDB, Project Voldemort\n",
      "    * Graph: Neo4J, OrientDB, Allegro, Virtuoso\n",
      "    "
     ]
    },
    {
     "cell_type": "markdown",
     "metadata": {
      "slideshow": {
       "slide_type": "slide"
      }
     },
     "source": [
      "# SQLite\n",
      "\n",
      "* Charateristic\n",
      "    * self-contained \n",
      "    * serverless\n",
      "    * zero-configuration\n",
      "    * transactional \n",
      "\n",
      "\n",
      "* ACID Database\n",
      "\n",
      "\n",
      "* Support SQL 92 Syntax\n",
      "\n",
      "\n",
      "* Open Source"
     ]
    },
    {
     "cell_type": "markdown",
     "metadata": {
      "slideshow": {
       "slide_type": "slide"
      }
     },
     "source": [
      "##\u3000ACID Charaterstic\n",
      "* Atomicity\n",
      "    * Atomicity requires that each transaction is \"all or nothing\": if one part of the transaction fails, the entire transaction fails, and the database state is left unchanged. \n",
      "  \n",
      "  \n",
      "* Consistency\n",
      "    * The consistency property ensures that any transaction will bring the database from one valid state to another. Any data written to the database must be valid according to all defined rules, including but not limited to constraints, cascades, triggers, and any combination thereof. \n",
      "\n",
      "\n",
      "* Isolation\n",
      "    * The isolation property ensures that the concurrent execution of transactions results in a system state that would be obtained if transactions were executed serially, i.e. one after the other.\n",
      "\n",
      "\n",
      "* Durability\n",
      "    * Durability means that once a transaction has been committed, it will remain so, even in the event of power loss, crashes, or errors. "
     ]
    },
    {
     "cell_type": "markdown",
     "metadata": {
      "slideshow": {
       "slide_type": "slide"
      }
     },
     "source": [
      "##Install Sqlite3\n",
      "\n",
      "### sudo apt-get install sqlite3"
     ]
    },
    {
     "cell_type": "markdown",
     "metadata": {
      "slideshow": {
       "slide_type": "slide"
      }
     },
     "source": [
      "##Sqlite3 Usage"
     ]
    },
    {
     "cell_type": "code",
     "collapsed": false,
     "input": [
      "import sqlite3\n",
      "sqlite3.version"
     ],
     "language": "python",
     "metadata": {
      "slideshow": {
       "slide_type": "slide"
      }
     },
     "outputs": [
      {
       "metadata": {},
       "output_type": "pyout",
       "prompt_number": 1,
       "text": [
        "'2.6.0'"
       ]
      }
     ],
     "prompt_number": 1
    },
    {
     "cell_type": "markdown",
     "metadata": {
      "slideshow": {
       "slide_type": "slide"
      }
     },
     "source": [
      "#Database Jargon\n",
      "\n",
      "###Database Connection:\n",
      "#### A database server and its client software communicate with each other\n",
      "\n",
      "###Database Cursor:\n",
      "#### A database cursor is a control structure that enables traversal over the records in a database"
     ]
    },
    {
     "cell_type": "markdown",
     "metadata": {
      "slideshow": {
       "slide_type": "slide"
      }
     },
     "source": [
      "###Database Creation\n",
      "\n",
      "    > sqlite3 test.db # Create a database named as test.db under current directory"
     ]
    },
    {
     "cell_type": "code",
     "collapsed": false,
     "input": [
      "import sqlite3 as lite\n",
      "import sys\n",
      "\n",
      "con = None\n",
      "\n",
      "try:\n",
      "    con = lite.connect('test.db') # connect to database\n",
      "    \n",
      "    cur = con.cursor() # create cursor   \n",
      "    cur.execute('SELECT SQLITE_VERSION()') # selece database version\n",
      "    \n",
      "    data = cur.fetchone() # fetch one data at a time\n",
      "    \n",
      "    print \"SQLite version: %s\" % data                \n",
      "    \n",
      "except lite.Error, e:\n",
      "    \n",
      "    print \"Error %s:\" % e.args[0]\n",
      "    sys.exit(1)\n",
      "    \n",
      "finally:\n",
      "    \n",
      "    if con:\n",
      "        con.close()"
     ],
     "language": "python",
     "metadata": {
      "slideshow": {
       "slide_type": "slide"
      }
     },
     "outputs": [
      {
       "output_type": "stream",
       "stream": "stdout",
       "text": [
        "SQLite version: 3.6.21\n"
       ]
      }
     ],
     "prompt_number": 2
    },
    {
     "cell_type": "code",
     "collapsed": false,
     "input": [
      "import sqlite3 as lite\n",
      "import sys\n",
      "\n",
      "con = lite.connect('test.db')\n",
      "\n",
      "with con:\n",
      "    \n",
      "    cur = con.cursor()\n",
      "    cur.execute(\"DROP TABLE IF EXISTS PhoneAddress\")    \n",
      "    cur.execute(\"CREATE TABLE PhoneAddress(phone TEXT PRIMARY KEY, address TEXT, name TEXT, age INT)\")\n",
      "    cur.execute(\"INSERT INTO PhoneAddress VALUES(912173381,'United State','Jhon Doe',53)\")\n",
      "    cur.execute(\"INSERT INTO PhoneAddress VALUES(928375018,'Tokyo Japan','MuMu Cat',6)\")\n",
      "    cur.execute(\"INSERT INTO PhoneAddress VALUES(957209108,'Taipei','Richard',29)\")\n",
      "con.close()    "
     ],
     "language": "python",
     "metadata": {
      "slideshow": {
       "slide_type": "slide"
      }
     },
     "outputs": [],
     "prompt_number": 94
    },
    {
     "cell_type": "markdown",
     "metadata": {
      "slideshow": {
       "slide_type": "slide"
      }
     },
     "source": [
      "### Access SQLite\n",
      "sqlite3 test.db"
     ]
    },
    {
     "cell_type": "markdown",
     "metadata": {
      "slideshow": {
       "slide_type": "slide"
      }
     },
     "source": [
      "### Get column and header information\n",
      "sqlite> .mode column  \n",
      "sqlite> .headers on"
     ]
    },
    {
     "cell_type": "markdown",
     "metadata": {
      "slideshow": {
       "slide_type": "slide"
      }
     },
     "source": [
      "###SELECT statement \n",
      "#### is used to query the database. The result of a SELECT is zero or more rows of data where each row has a fixed number of columns."
     ]
    },
    {
     "cell_type": "code",
     "collapsed": false,
     "input": [
      "import sqlite3 as lite\n",
      "import sys\n",
      "\n",
      "\n",
      "con = lite.connect('test.db')\n",
      "\n",
      "with con:    \n",
      "    \n",
      "    cur = con.cursor()    \n",
      "    cur.execute(\"SELECT * FROM PhoneAddres\")\n",
      "\n",
      "    rows = cur.fetchall()\n",
      "\n",
      "    for row in rows:\n",
      "        print row"
     ],
     "language": "python",
     "metadata": {
      "slideshow": {
       "slide_type": "slide"
      }
     },
     "outputs": [
      {
       "output_type": "stream",
       "stream": "stdout",
       "text": [
        "(u'912173381', u'United State', u'Jhon Doe', 53)\n",
        "(u'928375018', u'Tokyo Japan', u'MuMu Cat', 6)\n",
        "(u'957209108', u'Taipei', u'Richard', 29)\n"
       ]
      }
     ],
     "prompt_number": 95
    },
    {
     "cell_type": "code",
     "collapsed": false,
     "input": [
      "import sqlite3 as lite\n",
      "import sys\n",
      "\n",
      "\n",
      "con = lite.connect('test.db')\n",
      "\n",
      "with con:    \n",
      "    \n",
      "    cur = con.cursor()    \n",
      "    cur.execute(\"SELECT * FROM PhoneAddres where address in ('Taipei', 'Tokyo Japan')\")\n",
      "\n",
      "    rows = cur.fetchall()\n",
      "\n",
      "    for row in rows:\n",
      "        print row"
     ],
     "language": "python",
     "metadata": {
      "slideshow": {
       "slide_type": "slide"
      }
     },
     "outputs": [
      {
       "output_type": "stream",
       "stream": "stdout",
       "text": [
        "(u'928375018', u'Tokyo Japan', u'MuMu Cat', 6)\n",
        "(u'957209108', u'Taipei', u'Richard', 29)\n"
       ]
      }
     ],
     "prompt_number": 96
    },
    {
     "cell_type": "code",
     "collapsed": false,
     "input": [
      "import sqlite3 as lite\n",
      "import sys\n",
      "\n",
      "\n",
      "con = lite.connect('test.db')\n",
      "\n",
      "with con:    \n",
      "    \n",
      "    cur = con.cursor()    \n",
      "    cur.execute(\"SELECT * FROM PhoneAddres where phone like '9%'\")\n",
      "\n",
      "    rows = cur.fetchall()\n",
      "\n",
      "    for row in rows:\n",
      "        print row"
     ],
     "language": "python",
     "metadata": {
      "slideshow": {
       "slide_type": "slide"
      }
     },
     "outputs": [
      {
       "output_type": "stream",
       "stream": "stdout",
       "text": [
        "(u'912173381', u'United State', u'Jhon Doe', 53)\n",
        "(u'928375018', u'Tokyo Japan', u'MuMu Cat', 6)\n",
        "(u'957209108', u'Taipei', u'Richard', 29)\n"
       ]
      }
     ],
     "prompt_number": 97
    },
    {
     "cell_type": "code",
     "collapsed": false,
     "input": [
      "import sqlite3 as lite\n",
      "import sys\n",
      "\n",
      "\n",
      "con = lite.connect('test.db')\n",
      "\n",
      "with con:    \n",
      "    \n",
      "    cur = con.cursor()    \n",
      "    cur.execute(\"SELECT name, address, age FROM PhoneAddres order by age limit 1\") # get user's name address and age with least age\n",
      "\n",
      "    rows = cur.fetchall()\n",
      "\n",
      "    for row in rows:\n",
      "        print row"
     ],
     "language": "python",
     "metadata": {
      "slideshow": {
       "slide_type": "slide"
      }
     },
     "outputs": [
      {
       "output_type": "stream",
       "stream": "stdout",
       "text": [
        "(u'MuMu Cat', u'Tokyo Japan', 6)\n"
       ]
      }
     ],
     "prompt_number": 11
    },
    {
     "cell_type": "markdown",
     "metadata": {
      "slideshow": {
       "slide_type": "slide"
      }
     },
     "source": [
      "### INSERT Statement\n",
      "\n",
      "####\u3000add new rows of data into a table in the database"
     ]
    },
    {
     "cell_type": "code",
     "collapsed": false,
     "input": [
      "import sqlite3 as lite\n",
      "import sys\n",
      "\n",
      "con = lite.connect('test.db')\n",
      "\n",
      "with con:\n",
      "    \n",
      "    cur = con.cursor()    \n",
      "    cur.execute(\"INSERT INTO PhoneAddress VALUES(923111333,'Mars','Bruno',30)\")\n",
      "    cur.execute(\"select * from PhoneAddress\")\n",
      "    rows = cur.fetchall()\n",
      "    for row in rows:\n",
      "        print row\n",
      "con.close() "
     ],
     "language": "python",
     "metadata": {
      "slideshow": {
       "slide_type": "slide"
      }
     },
     "outputs": [
      {
       "output_type": "stream",
       "stream": "stdout",
       "text": [
        "(u'912173381', u'United State', u'Jhon Doe', 53)\n",
        "(u'928375018', u'Tokyo Japan', u'MuMu Cat', 9)\n",
        "(u'957209108', u'Taipei', u'Richard', 29)\n",
        "(u'923111333', u'Mars', u'Bruno', 30)\n"
       ]
      }
     ],
     "prompt_number": 25
    },
    {
     "cell_type": "markdown",
     "metadata": {
      "slideshow": {
       "slide_type": "slide"
      }
     },
     "source": [
      "### DELETE Statement\n",
      "\n",
      "#### delete the existing records from a table"
     ]
    },
    {
     "cell_type": "code",
     "collapsed": false,
     "input": [
      "import sqlite3 as lite\n",
      "import sys\n",
      "\n",
      "con = lite.connect('test.db')\n",
      "\n",
      "with con:\n",
      "    \n",
      "    cur = con.cursor()        \n",
      "    cur.execute(\"delete from PhoneAddress where address == 'Mars'\")\n",
      "    cur.execute(\"select * from PhoneAddress\")\n",
      "    rows = cur.fetchall()\n",
      "    for row in rows:\n",
      "        print row\n",
      "con.close() "
     ],
     "language": "python",
     "metadata": {
      "slideshow": {
       "slide_type": "slide"
      }
     },
     "outputs": [
      {
       "output_type": "stream",
       "stream": "stdout",
       "text": [
        "(u'912173381', u'United State', u'Jhon Doe', 53)\n",
        "(u'928375018', u'Tokyo Japan', u'MuMu Cat', 9)\n",
        "(u'957209108', u'Taipei', u'Richard', 29)\n"
       ]
      }
     ],
     "prompt_number": 27
    },
    {
     "cell_type": "markdown",
     "metadata": {
      "slideshow": {
       "slide_type": "slide"
      }
     },
     "source": [
      "### UPDATE Statement\n",
      "\n",
      "#### modify the existing records in a table"
     ]
    },
    {
     "cell_type": "code",
     "collapsed": false,
     "input": [
      "import sqlite3 as lite\n",
      "import sys\n",
      "\n",
      "\n",
      "Phone = 928375018\n",
      "Age = 7 \n",
      "\n",
      "con = lite.connect('test.db')\n",
      "\n",
      "with con:\n",
      "\n",
      "    cur = con.cursor()    \n",
      "\n",
      "    cur.execute(\"UPDATE PhoneAddress SET age=? WHERE phone=?\", (Age, Phone))        \n",
      "    con.commit()\n",
      "    print \"Number of rows updated: %d\" % cur.rowcount\n",
      "    \n",
      "    cur.execute(\"select * from PhoneAddress where phone=?\", (Phone,)) \n",
      "    rows = cur.fetchall()\n",
      "\n",
      "    for row in rows:\n",
      "        print row"
     ],
     "language": "python",
     "metadata": {
      "slideshow": {
       "slide_type": "slide"
      }
     },
     "outputs": [
      {
       "output_type": "stream",
       "stream": "stdout",
       "text": [
        "Number of rows updated: 1\n",
        "(u'928375018', u'Tokyo Japan', u'MuMu Cat', 7)\n"
       ]
      }
     ],
     "prompt_number": 19
    },
    {
     "cell_type": "markdown",
     "metadata": {
      "slideshow": {
       "slide_type": "slide"
      }
     },
     "source": [
      "### executemany\n",
      "#### Eecute Many Insertion at Onc Time Execution"
     ]
    },
    {
     "cell_type": "code",
     "collapsed": false,
     "input": [
      "import sqlite3 as lite\n",
      "\n",
      "salary = (\n",
      "    (1 ,          'Paul'  ,      32 ,         'California',  20000),\n",
      "    (2 ,          'Allen' ,      25 ,         'Texas'     ,  15000),\n",
      "    (3 ,          'Teddy' ,      23 ,         'Norway'    ,  20000),\n",
      "    (4 ,          'Mark'  ,      25 ,         'Rich-Mond' ,  65000),\n",
      "    (5 ,          'David' ,      27 ,         'Texas'     ,  85000),\n",
      "    (6 ,          'Kim'   ,      22 ,         'South-Hall',  45000),\n",
      "    (7 ,          'James' ,      24 ,         'Houston'   ,  10000)\n",
      ")\n",
      "department = (\n",
      "(1,           'IT Billing'  ,1),\n",
      "(2,           'Engineerin'  ,2),\n",
      "(3,           'Finance'     ,7),\n",
      "(3,           'Finance'     ,5),\n",
      "(3,           'Finance'     ,6)\n",
      "\n",
      ")\n",
      "\n",
      "con = lite.connect('test.db')\n",
      "\n",
      "with con:\n",
      "    \n",
      "    cur = con.cursor()    \n",
      "    \n",
      "    cur.execute(\"DROP TABLE IF EXISTS Salary\")\n",
      "    cur.execute(\"CREATE TABLE Salary(ID INT, NAME TEXT, AGE INT, ADDRESS TEXT, SALARY INT)\")\n",
      "    cur.executemany(\"INSERT INTO Salary VALUES(?, ?, ?, ?, ?)\", salary)\n",
      "    \n",
      "    cur.execute(\"DROP TABLE IF EXISTS Department\")\n",
      "    cur.execute(\"CREATE TABLE Department(ID INT, DEPT CHAR(50), EMP_ID INT)\")\n",
      "    cur.executemany(\"INSERT INTO Department VALUES(?, ?, ?)\", department)\n",
      "con.close()    "
     ],
     "language": "python",
     "metadata": {
      "slideshow": {
       "slide_type": "slide"
      }
     },
     "outputs": [],
     "prompt_number": 69
    },
    {
     "cell_type": "code",
     "collapsed": false,
     "input": [
      "JOIN Operation\n"
     ],
     "language": "python",
     "metadata": {
      "slideshow": {
       "slide_type": "slide"
      }
     },
     "outputs": []
    },
    {
     "cell_type": "code",
     "collapsed": false,
     "input": [
      "import sqlite3 as lite\n",
      "import sys\n",
      "\n",
      "\n",
      "con = lite.connect('test.db')\n",
      "\n",
      "with con:\n",
      "\n",
      "    cur = con.cursor()    \n",
      "    # Inner Join Type 1\n",
      "    cur.execute(\"select * from Salary inner join Department on Salary.id = Department.id\") \n",
      "    rows = cur.fetchall()\n",
      "\n",
      "    for row in rows:\n",
      "        print row\n",
      "con.close()"
     ],
     "language": "python",
     "metadata": {
      "slideshow": {
       "slide_type": "slide"
      }
     },
     "outputs": [
      {
       "output_type": "stream",
       "stream": "stdout",
       "text": [
        "(1, u'Paul', 32, u'California', 20000, 1, u'IT Billing', 1)\n",
        "(2, u'Allen', 25, u'Texas', 15000, 2, u'Engineerin', 2)\n",
        "(3, u'Teddy', 23, u'Norway', 20000, 3, u'Finance', 7)\n",
        "(3, u'Teddy', 23, u'Norway', 20000, 3, u'Finance', 5)\n",
        "(3, u'Teddy', 23, u'Norway', 20000, 3, u'Finance', 6)\n"
       ]
      }
     ],
     "prompt_number": 70
    },
    {
     "cell_type": "code",
     "collapsed": false,
     "input": [
      "import sqlite3 as lite\n",
      "import sys\n",
      "\n",
      "\n",
      "con = lite.connect('test.db')\n",
      "\n",
      "with con:\n",
      "\n",
      "    cur = con.cursor()    \n",
      "    # LEFT Join \n",
      "    cur.execute(\"select * from Salary,Department where Salary.id = Department.id\") \n",
      "    rows = cur.fetchall()\n",
      "\n",
      "    for row in rows:\n",
      "        print row\n",
      "con.close()"
     ],
     "language": "python",
     "metadata": {
      "slideshow": {
       "slide_type": "slide"
      }
     },
     "outputs": [
      {
       "output_type": "stream",
       "stream": "stdout",
       "text": [
        "(1, u'Paul', 32, u'California', 20000, 1, u'IT Billing', 1)\n",
        "(2, u'Allen', 25, u'Texas', 15000, 2, u'Engineerin', 2)\n",
        "(3, u'Teddy', 23, u'Norway', 20000, 3, u'Finance', 7)\n",
        "(3, u'Teddy', 23, u'Norway', 20000, 3, u'Finance', 5)\n",
        "(3, u'Teddy', 23, u'Norway', 20000, 3, u'Finance', 6)\n"
       ]
      }
     ],
     "prompt_number": 71
    },
    {
     "cell_type": "code",
     "collapsed": false,
     "input": [
      "import sqlite3 as lite\n",
      "import sys\n",
      "\n",
      "\n",
      "con = lite.connect('test.db')\n",
      "\n",
      "with con:\n",
      "\n",
      "    cur = con.cursor()    \n",
      "    # Inner Join Type 1\n",
      "    cur.execute(\"select * from Salary LEFT join Department on Salary.id = Department.id \") \n",
      "    rows = cur.fetchall()\n",
      "\n",
      "    for row in rows:\n",
      "        print row\n",
      "con.close()"
     ],
     "language": "python",
     "metadata": {
      "slideshow": {
       "slide_type": "slide"
      }
     },
     "outputs": [
      {
       "output_type": "stream",
       "stream": "stdout",
       "text": [
        "(1, u'Paul', 32, u'California', 20000, 1, u'IT Billing', 1)\n",
        "(2, u'Allen', 25, u'Texas', 15000, 2, u'Engineerin', 2)\n",
        "(3, u'Teddy', 23, u'Norway', 20000, 3, u'Finance', 7)\n",
        "(4, u'Mark', 25, u'Rich-Mond', 65000, None, None, None)\n",
        "(5, u'David', 27, u'Texas', 85000, None, None, None)\n",
        "(6, u'Kim', 22, u'South-Hall', 45000, None, None, None)\n",
        "(7, u'James', 24, u'Houston', 10000, None, None, None)\n"
       ]
      }
     ],
     "prompt_number": 65
    },
    {
     "cell_type": "code",
     "collapsed": false,
     "input": [
      "import sqlite3 as lite\n",
      "import sys\n",
      "\n",
      "\n",
      "con = lite.connect('test.db')\n",
      "\n",
      "with con:\n",
      "\n",
      "    cur = con.cursor()    \n",
      "    # Inner Join Type 1\n",
      "    cur.execute(\"select * from Salary CROSS join Department on Salary.id = Department.id \") \n",
      "    rows = cur.fetchall()\n",
      "\n",
      "    for row in rows:\n",
      "        print row\n",
      "con.close()"
     ],
     "language": "python",
     "metadata": {
      "slideshow": {
       "slide_type": "slide"
      }
     },
     "outputs": [
      {
       "output_type": "stream",
       "stream": "stdout",
       "text": [
        "(1, u'Paul', 32, u'California', 20000, 1, u'IT Billing', 1)\n",
        "(2, u'Allen', 25, u'Texas', 15000, 2, u'Engineerin', 2)\n",
        "(3, u'Teddy', 23, u'Norway', 20000, 3, u'Finance', 7)\n",
        "(3, u'Teddy', 23, u'Norway', 20000, 3, u'Finance', 5)\n",
        "(3, u'Teddy', 23, u'Norway', 20000, 3, u'Finance', 6)\n"
       ]
      }
     ],
     "prompt_number": 73
    },
    {
     "cell_type": "code",
     "collapsed": false,
     "input": [
      "import sqlite3 as lite\n",
      "import sys\n",
      "\n",
      "\n",
      "con = lite.connect('test.db')\n",
      "\n",
      "with con:\n",
      "\n",
      "    cur = con.cursor()    \n",
      "    # Mimic Inner Join Using Left Join and Where Clause\n",
      "    cur.execute(\"select * from Salary LEFT join Department on Salary.id = Department.id where emp_id is not null\") \n",
      "    rows = cur.fetchall()\n",
      "\n",
      "    for row in rows:\n",
      "        print row\n",
      "con.close()"
     ],
     "language": "python",
     "metadata": {
      "slideshow": {
       "slide_type": "slide"
      }
     },
     "outputs": [
      {
       "output_type": "stream",
       "stream": "stdout",
       "text": [
        "(1, u'Paul', 32, u'California', 20000, 1, u'IT Billing', 1)\n",
        "(2, u'Allen', 25, u'Texas', 15000, 2, u'Engineerin', 2)\n",
        "(3, u'Teddy', 23, u'Norway', 20000, 3, u'Finance', 7)\n",
        "(3, u'Teddy', 23, u'Norway', 20000, 3, u'Finance', 5)\n",
        "(3, u'Teddy', 23, u'Norway', 20000, 3, u'Finance', 6)\n"
       ]
      }
     ],
     "prompt_number": 72
    },
    {
     "cell_type": "code",
     "collapsed": false,
     "input": [
      "import sqlite3 as lite\n",
      "import sys\n",
      "\n",
      "\n",
      "con = lite.connect('test.db')\n",
      "\n",
      "with con:\n",
      "\n",
      "    cur = con.cursor()    \n",
      "    # Get Maximum Salary and Minimum Salary\n",
      "    cur.execute(\"select max(salary), min(salary) from Salary \") \n",
      "    rows = cur.fetchall()\n",
      "\n",
      "    for row in rows:\n",
      "        print row\n",
      "con.close()"
     ],
     "language": "python",
     "metadata": {
      "slideshow": {
       "slide_type": "slide"
      }
     },
     "outputs": [
      {
       "output_type": "stream",
       "stream": "stdout",
       "text": [
        "(85000, 10000)\n"
       ]
      }
     ],
     "prompt_number": 75
    },
    {
     "cell_type": "code",
     "collapsed": false,
     "input": [
      "import sqlite3 as lite\n",
      "import sys\n",
      "\n",
      "\n",
      "con = lite.connect('test.db')\n",
      "\n",
      "with con:\n",
      "\n",
      "    cur = con.cursor()    \n",
      "    # Get Maximum Salary and Minimum Salary\n",
      "    cur.execute(\"select max(salary), min(salary) from Salary \") \n",
      "    rows = cur.fetchall()\n",
      "\n",
      "    for row in rows:\n",
      "        print row\n",
      "con.close()"
     ],
     "language": "python",
     "metadata": {
      "slideshow": {
       "slide_type": "slide"
      }
     },
     "outputs": [
      {
       "output_type": "stream",
       "stream": "stdout",
       "text": [
        "(85000, 10000)\n"
       ]
      }
     ],
     "prompt_number": 74
    },
    {
     "cell_type": "code",
     "collapsed": false,
     "input": [
      "import sqlite3 as lite\n",
      "import sys\n",
      "\n",
      "\n",
      "con = lite.connect('test.db')\n",
      "\n",
      "with con:\n",
      "\n",
      "    cur = con.cursor()    \n",
      "    # Get Distinct Department\n",
      "    cur.execute(\"select dept from  Department group by dept\") \n",
      "    rows = cur.fetchall()\n",
      "\n",
      "    for row in rows:\n",
      "        print row\n",
      "con.close()"
     ],
     "language": "python",
     "metadata": {
      "slideshow": {
       "slide_type": "slide"
      }
     },
     "outputs": [
      {
       "output_type": "stream",
       "stream": "stdout",
       "text": [
        "(u'Engineerin',)\n",
        "(u'Finance',)\n",
        "(u'IT Billing',)\n"
       ]
      }
     ],
     "prompt_number": 91
    },
    {
     "cell_type": "code",
     "collapsed": false,
     "input": [
      "import sqlite3 as lite\n",
      "import sys\n",
      "\n",
      "\n",
      "con = lite.connect('test.db')\n",
      "\n",
      "with con:\n",
      "\n",
      "    cur = con.cursor()    \n",
      "    # Get Distinct Department\n",
      "    cur.execute(\"select distinct dept from  Department \") \n",
      "    rows = cur.fetchall()\n",
      "\n",
      "    for row in rows:\n",
      "        print row\n",
      "con.close()"
     ],
     "language": "python",
     "metadata": {
      "slideshow": {
       "slide_type": "slide"
      }
     },
     "outputs": [
      {
       "output_type": "stream",
       "stream": "stdout",
       "text": [
        "(u'Engineerin',)\n",
        "(u'Finance',)\n",
        "(u'IT Billing',)\n"
       ]
      }
     ],
     "prompt_number": 92
    },
    {
     "cell_type": "markdown",
     "metadata": {
      "slideshow": {
       "slide_type": "slide"
      }
     },
     "source": [
      "### Group V.S. Distinct\n",
      "\n",
      "#### What are their differences?"
     ]
    },
    {
     "cell_type": "code",
     "collapsed": false,
     "input": [
      "import sqlite3 as lite\n",
      "import sys\n",
      "\n",
      "\n",
      "con = lite.connect('test.db')\n",
      "\n",
      "with con:\n",
      "\n",
      "    cur = con.cursor()    \n",
      "    # Get Maximum Salary and Minimum Salary\n",
      "    cur.execute(\"select dept ,max(salary), min(salary) from Salary inner join Department on Salary.id = Department.emp_id group by dept \") \n",
      "    rows = cur.fetchall()\n",
      "\n",
      "    for row in rows:\n",
      "        print row\n",
      "con.close()"
     ],
     "language": "python",
     "metadata": {
      "slideshow": {
       "slide_type": "slide"
      }
     },
     "outputs": [
      {
       "output_type": "stream",
       "stream": "stdout",
       "text": [
        "(u'Engineerin', 15000, 15000)\n",
        "(u'Finance', 85000, 10000)\n",
        "(u'IT Billing', 20000, 20000)\n"
       ]
      }
     ],
     "prompt_number": 79
    },
    {
     "cell_type": "code",
     "collapsed": false,
     "input": [
      "import sqlite3 as lite\n",
      "import sys\n",
      "\n",
      "\n",
      "con = lite.connect('test.db')\n",
      "\n",
      "with con:\n",
      "\n",
      "    cur = con.cursor()    \n",
      "    # Get Maximum Salary and Minimum Salary\n",
      "    cur.execute(\"select dept ,count(emp_id) from Salary inner join Department\"\n",
      "                +\" on Salary.id = Department.emp_id group by dept \") \n",
      "    rows = cur.fetchall()\n",
      "\n",
      "    for row in rows:\n",
      "        print row\n",
      "con.close()"
     ],
     "language": "python",
     "metadata": {
      "slideshow": {
       "slide_type": "slide"
      }
     },
     "outputs": [
      {
       "output_type": "stream",
       "stream": "stdout",
       "text": [
        "(u'Engineerin', 1)\n",
        "(u'Finance', 3)\n",
        "(u'IT Billing', 1)\n"
       ]
      }
     ],
     "prompt_number": 80
    },
    {
     "cell_type": "code",
     "collapsed": false,
     "input": [
      "import sqlite3 as lite\n",
      "import sys\n",
      "\n",
      "\n",
      "con = lite.connect('test.db')\n",
      "\n",
      "with con:\n",
      "\n",
      "    cur = con.cursor()    \n",
      "    # Get Maximum Salary and Minimum Salary\n",
      "    cur.execute(\"select dept ,avg(salary) from Salary inner join Department \"+\n",
      "                \" on Salary.id = Department.emp_id group by dept \") \n",
      "    rows = cur.fetchall()\n",
      "\n",
      "    for row in rows:\n",
      "        print row\n",
      "con.close()"
     ],
     "language": "python",
     "metadata": {
      "slideshow": {
       "slide_type": "slide"
      }
     },
     "outputs": [
      {
       "output_type": "stream",
       "stream": "stdout",
       "text": [
        "(u'Engineerin', 15000.0)\n",
        "(u'Finance', 46666.666666666664)\n",
        "(u'IT Billing', 20000.0)\n"
       ]
      }
     ],
     "prompt_number": 87
    },
    {
     "cell_type": "code",
     "collapsed": false,
     "input": [
      "import sqlite3 as lite\n",
      "import sys\n",
      "\n",
      "\n",
      "con = lite.connect('test.db')\n",
      "\n",
      "with con:\n",
      "\n",
      "    cur = con.cursor()    \n",
      "    # Get Maximum Salary and Minimum Salary\n",
      "    cur.execute(\"select dept ,avg(salary) from Salary inner join Department \"+\n",
      "                \"on Salary.id = Department.emp_id group by dept having avg(salary) > 30000\") \n",
      "    rows = cur.fetchall()\n",
      "\n",
      "    for row in rows:\n",
      "        print row\n",
      "con.close()"
     ],
     "language": "python",
     "metadata": {
      "slideshow": {
       "slide_type": "slide"
      }
     },
     "outputs": [
      {
       "output_type": "stream",
       "stream": "stdout",
       "text": [
        "(u'Finance', 46666.666666666664)\n"
       ]
      }
     ],
     "prompt_number": 85
    },
    {
     "cell_type": "markdown",
     "metadata": {
      "slideshow": {
       "slide_type": "slide"
      }
     },
     "source": [
      "### commit and rollback\n",
      "\n",
      "#### refers to the set of actions used to ensure that an application program either makes all changes to the resources represented by a single unit of recovery (UR), or makes no changes at all. "
     ]
    },
    {
     "cell_type": "code",
     "collapsed": false,
     "input": [
      "import sqlite3 as lite\n",
      "import sys\n",
      "\n",
      "Phone = 928375018\n",
      "Age = 9 \n",
      "\n",
      "con = lite.connect('test.db')\n",
      "\n",
      "with con:\n",
      "\n",
      "    cur = con.cursor()    \n",
      "\n",
      "    cur.execute(\"UPDATE PhoneAddress SET age=? WHERE phone=?\", (Age, Phone))        \n",
      "    con.commit()\n",
      "    #con.rollback()\n",
      "    print \"Number of rows updated: %d\" % cur.rowcount\n",
      "    \n",
      "    cur.execute(\"select * from PhoneAddress where phone=?\", (Phone,)) \n",
      "    rows = cur.fetchall()\n",
      "\n",
      "    for row in rows:\n",
      "        print row\n",
      "con.close()"
     ],
     "language": "python",
     "metadata": {
      "slideshow": {
       "slide_type": "slide"
      }
     },
     "outputs": [
      {
       "output_type": "stream",
       "stream": "stdout",
       "text": [
        "Number of rows updated: 1\n",
        "(u'928375018', u'Tokyo Japan', u'MuMu Cat', 9)\n"
       ]
      }
     ],
     "prompt_number": 23
    },
    {
     "cell_type": "markdown",
     "metadata": {
      "slideshow": {
       "slide_type": "slide"
      }
     },
     "source": [
      "### SQL Injection\n",
      "\n",
      "#### code injection technique, used to attack data driven applications, in which malicious SQL statements are inserted into an entry field for execution (e.g. to dump the database contents to the attacker)"
     ]
    },
    {
     "cell_type": "code",
     "collapsed": false,
     "input": [
      "import sqlite3 as lite\n",
      "import sys\n",
      "\n",
      "def SelectData(phone):\n",
      "    con = lite.connect('test.db')\n",
      "    \n",
      "    with con:\n",
      "    \n",
      "        cur = con.cursor()    \n",
      "        \n",
      "        cur.execute(\"select * from PhoneAddress where phone=?\", (Phone,)) \n",
      "        rows = cur.fetchall()\n",
      "    \n",
      "        for row in rows:\n",
      "            print row\n",
      "    con.close()\n",
      "    \n",
      "SelectData(928375018)\n",
      "    "
     ],
     "language": "python",
     "metadata": {
      "slideshow": {
       "slide_type": "slide"
      }
     },
     "outputs": [
      {
       "output_type": "stream",
       "stream": "stdout",
       "text": [
        "(u'928375018', u'Tokyo Japan', u'MuMu Cat', 9)\n"
       ]
      }
     ],
     "prompt_number": 28
    },
    {
     "cell_type": "code",
     "collapsed": false,
     "input": [
      "import sqlite3 as lite\n",
      "import sys\n",
      "\n",
      "def SelectData(phone):\n",
      "    con = lite.connect('test.db')\n",
      "    \n",
      "    with con:\n",
      "    \n",
      "        cur = con.cursor()    \n",
      "        \n",
      "        cur.execute(\"select * from PhoneAddress where phone=?\", (Phone,)) \n",
      "        rows = cur.fetchall()\n",
      "    \n",
      "        for row in rows:\n",
      "            print row\n",
      "    con.close()\n",
      "    \n",
      "SelectData('928375018 or 1=1')\n",
      "    "
     ],
     "language": "python",
     "metadata": {
      "slideshow": {
       "slide_type": "slide"
      }
     },
     "outputs": [
      {
       "output_type": "stream",
       "stream": "stdout",
       "text": [
        "(u'928375018', u'Tokyo Japan', u'MuMu Cat', 9)\n"
       ]
      }
     ],
     "prompt_number": 30
    },
    {
     "cell_type": "code",
     "collapsed": false,
     "input": [
      "import sqlite3 as lite\n",
      "import sys\n",
      "\n",
      "def SelectData(PhoneNumber):\n",
      "    con = lite.connect('test.db')\n",
      "    \n",
      "    with con:\n",
      "    \n",
      "        cur = con.cursor()    \n",
      "        cur.execute(\"select * from PhoneAddress where phone=?\", (PhoneNumber,))\n",
      "        #cur.execute(\"select * from PhoneAddress where phone= \" + PhoneNumber)        \n",
      "        rows = cur.fetchall()\n",
      "    \n",
      "        for row in rows:\n",
      "            print row\n",
      "    con.close()\n",
      "    \n",
      "    \n",
      "SelectData(\"\\'\\' or 1=1\")\n",
      "    "
     ],
     "language": "python",
     "metadata": {
      "slideshow": {
       "slide_type": "slide"
      }
     },
     "outputs": [],
     "prompt_number": 41
    },
    {
     "cell_type": "code",
     "collapsed": false,
     "input": [
      "import sqlite3 as lite\n",
      "import sys\n",
      "\n",
      "def SelectData(PhoneNumber):\n",
      "    con = lite.connect('test.db')\n",
      "    \n",
      "    with con:\n",
      "    \n",
      "        cur = con.cursor()    \n",
      "        \n",
      "        cur.execute(\"select * from PhoneAddress where phone= \" + PhoneNumber)        \n",
      "        rows = cur.fetchall()\n",
      "    \n",
      "        for row in rows:\n",
      "            print row\n",
      "    con.close()\n",
      "    \n",
      "    \n",
      "SelectData(\"\\'\\' or 1=1; INSERT INTO PhoneAddress VALUES(923111999,'Hacker','Qoo',0);\")\n",
      "    "
     ],
     "language": "python",
     "metadata": {
      "slideshow": {
       "slide_type": "slide"
      }
     },
     "outputs": [
      {
       "ename": "Warning",
       "evalue": "You can only execute one statement at a time.",
       "output_type": "pyerr",
       "traceback": [
        "\u001b[1;31m---------------------------------------------------------------------------\u001b[0m\n\u001b[1;31mWarning\u001b[0m                                   Traceback (most recent call last)",
        "\u001b[1;32m<ipython-input-52-759f87c2b5fd>\u001b[0m in \u001b[0;36m<module>\u001b[1;34m()\u001b[0m\n\u001b[0;32m     17\u001b[0m \u001b[1;33m\u001b[0m\u001b[0m\n\u001b[0;32m     18\u001b[0m \u001b[1;33m\u001b[0m\u001b[0m\n\u001b[1;32m---> 19\u001b[1;33m \u001b[0mSelectData\u001b[0m\u001b[1;33m(\u001b[0m\u001b[1;34m\"\\'\\' or 1=1; INSERT INTO PhoneAddress VALUES(923111999,'Hacker','Qoo',0);\"\u001b[0m\u001b[1;33m)\u001b[0m\u001b[1;33m\u001b[0m\u001b[0m\n\u001b[0m\u001b[0;32m     20\u001b[0m \u001b[1;33m\u001b[0m\u001b[0m\n",
        "\u001b[1;32m<ipython-input-52-759f87c2b5fd>\u001b[0m in \u001b[0;36mSelectData\u001b[1;34m(PhoneNumber)\u001b[0m\n\u001b[0;32m      9\u001b[0m         \u001b[0mcur\u001b[0m \u001b[1;33m=\u001b[0m \u001b[0mcon\u001b[0m\u001b[1;33m.\u001b[0m\u001b[0mcursor\u001b[0m\u001b[1;33m(\u001b[0m\u001b[1;33m)\u001b[0m\u001b[1;33m\u001b[0m\u001b[0m\n\u001b[0;32m     10\u001b[0m \u001b[1;33m\u001b[0m\u001b[0m\n\u001b[1;32m---> 11\u001b[1;33m         \u001b[0mcur\u001b[0m\u001b[1;33m.\u001b[0m\u001b[0mexecute\u001b[0m\u001b[1;33m(\u001b[0m\u001b[1;34m\"select * from PhoneAddress where phone= \"\u001b[0m \u001b[1;33m+\u001b[0m \u001b[0mPhoneNumber\u001b[0m\u001b[1;33m)\u001b[0m\u001b[1;33m\u001b[0m\u001b[0m\n\u001b[0m\u001b[0;32m     12\u001b[0m         \u001b[0mrows\u001b[0m \u001b[1;33m=\u001b[0m \u001b[0mcur\u001b[0m\u001b[1;33m.\u001b[0m\u001b[0mfetchall\u001b[0m\u001b[1;33m(\u001b[0m\u001b[1;33m)\u001b[0m\u001b[1;33m\u001b[0m\u001b[0m\n\u001b[0;32m     13\u001b[0m \u001b[1;33m\u001b[0m\u001b[0m\n",
        "\u001b[1;31mWarning\u001b[0m: You can only execute one statement at a time."
       ]
      }
     ],
     "prompt_number": 52
    },
    {
     "cell_type": "markdown",
     "metadata": {
      "slideshow": {
       "slide_type": "slide"
      }
     },
     "source": [
      "### Hacking into system\n",
      "\n",
      "#### Get all username and password using SQL Injection"
     ]
    },
    {
     "cell_type": "code",
     "collapsed": false,
     "input": [
      "import sqlite3 as lite\n",
      "import sys\n",
      "\n",
      "con = lite.connect('test.db')\n",
      "\n",
      "with con:\n",
      "    \n",
      "    cur = con.cursor()    \n",
      "    cur.execute(\"CREATE TABLE User(username TEXT, password TEXT)\")\n",
      "    cur.execute(\"INSERT INTO User VALUES('Jhon Doe','1QWE#$!@#')\")\n",
      "con.close()    "
     ],
     "language": "python",
     "metadata": {
      "slideshow": {
       "slide_type": "slide"
      }
     },
     "outputs": [],
     "prompt_number": 54
    },
    {
     "cell_type": "code",
     "collapsed": false,
     "input": [
      "import sqlite3 as lite\n",
      "import sys\n",
      "\n",
      "def SelectData(UserName, PassWord):\n",
      "    con = lite.connect('test.db')\n",
      "    \n",
      "    with con:\n",
      "    \n",
      "        cur = con.cursor()    \n",
      "        \n",
      "        cur.execute(\"select * from User where username= \" + UserName + \" password = \" + PassWord)        \n",
      "        rows = cur.fetchall()\n",
      "    \n",
      "        for row in rows:\n",
      "            print row\n",
      "    con.close()\n",
      "    \n",
      "    \n",
      "SelectData(\"\\'\\' or 1=1 --;\", \"qoo\")\n",
      "    "
     ],
     "language": "python",
     "metadata": {
      "slideshow": {
       "slide_type": "slide"
      }
     },
     "outputs": [
      {
       "output_type": "stream",
       "stream": "stdout",
       "text": [
        "(u'Jhon Doe', u'1QWE#$!@#')\n"
       ]
      }
     ],
     "prompt_number": 58
    }
   ],
   "metadata": {}
  }
 ]
}