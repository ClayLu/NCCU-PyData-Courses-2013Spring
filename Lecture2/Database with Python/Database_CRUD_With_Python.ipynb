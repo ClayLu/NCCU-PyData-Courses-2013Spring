{
 "metadata": {
  "name": ""
 },
 "nbformat": 3,
 "nbformat_minor": 0,
 "worksheets": [
  {
   "cells": [
    {
     "cell_type": "markdown",
     "metadata": {
      "slideshow": {
       "slide_type": "slide"
      }
     },
     "source": [
      "#Database CRUD With Python"
     ]
    },
    {
     "cell_type": "markdown",
     "metadata": {
      "slideshow": {
       "slide_type": "slide"
      }
     },
     "source": [
      "##Database\n",
      "### A database is an organized collection of data, which user can cast create, read, update and delete operation"
     ]
    },
    {
     "cell_type": "markdown",
     "metadata": {
      "slideshow": {
       "slide_type": "slide"
      }
     },
     "source": [
      "##Types of Database\n",
      "* ### Releational Database\n",
      "    * #### Commercial\n",
      "        * Oracle, Sybase, Informix\n",
      "        * Oracle, MS SQL Server\n",
      "    * #### Open Source\n",
      "        * PostgreSQL, SQLite, MySQL\n",
      "\n",
      "\n",
      "* ### Non-Relational Database\n",
      "    * #### Column: HBase, Accumulo, Cassandra\n",
      "    * #### Document: MarkLogic, MongoDB, Couchbase\n",
      "    * #### Key-value: Dynamo, Riak, Redis, MemcacheDB, Project Voldemort\n",
      "    * #### Graph: Neo4J, OrientDB, Allegro, Virtuoso\n",
      "    "
     ]
    },
    {
     "cell_type": "markdown",
     "metadata": {
      "slideshow": {
       "slide_type": "slide"
      }
     },
     "source": [
      "# SQLite\n",
      "\n",
      "* ## Charateristic\n",
      "    * ### self-contained \n",
      "    * ### serverless\n",
      "    * ### zero-configuration\n",
      "    * ### transactional \n",
      "\n",
      "\n",
      "* ## ACID Database\n",
      "\n",
      "\n",
      "* ## Support SQL 92 Syntax\n",
      "\n",
      "\n",
      "* ## Open Source"
     ]
    },
    {
     "cell_type": "markdown",
     "metadata": {
      "slideshow": {
       "slide_type": "slide"
      }
     },
     "source": [
      "##\u3000ACID Charaterstic\n",
      "* ### Atomicity\n",
      "    * #### Atomicity requires that each transaction is \"all or nothing\": if one part of the transaction fails, the entire transaction fails, and the database state is left unchanged. \n",
      "  \n",
      "  \n",
      "* ### Consistency\n",
      "    * #### The consistency property ensures that any transaction will bring the database from one valid state to another. Any data written to the database must be valid according to all defined rules, including but not limited to constraints, cascades, triggers, and any combination thereof. \n",
      "\n",
      "\n",
      "* ### Isolation\n",
      "    * #### The isolation property ensures that the concurrent execution of transactions results in a system state that would be obtained if transactions were executed serially, i.e. one after the other.\n",
      "\n",
      "\n",
      "* ### Durability\n",
      "    * #### Durability means that once a transaction has been committed, it will remain so, even in the event of power loss, crashes, or errors. "
     ]
    },
    {
     "cell_type": "markdown",
     "metadata": {
      "slideshow": {
       "slide_type": "slide"
      }
     },
     "source": [
      "##Install Sqlite3\n",
      "\n",
      "### > sudo apt-get install sqlite3"
     ]
    },
    {
     "cell_type": "markdown",
     "metadata": {
      "slideshow": {
       "slide_type": "slide"
      }
     },
     "source": [
      "###Database Creation\n",
      "\n",
      "    > sqlite3 test.db # Create a database named as test.db under current directory"
     ]
    },
    {
     "cell_type": "markdown",
     "metadata": {
      "slideshow": {
       "slide_type": "slide"
      }
     },
     "source": [
      "###View Help\n",
      "\n",
      "    > .help\n",
      "\n",
      "###View Database\n",
      "\n",
      "    > .database\n",
      "\n",
      "###View Schema\n",
      "\n",
      "    > .schema\n",
      "    \n",
      "###View Table\n",
      "\n",
      "    > .tables    "
     ]
    },
    {
     "cell_type": "markdown",
     "metadata": {
      "slideshow": {
       "slide_type": "slide"
      }
     },
     "source": [
      "### Executing SQL to Specified DB\n",
      "\n",
      "    > sqlite3 test.db \"select * from User;\"\n",
      "\n",
      "### Dump DB Content to html\uff1a\n",
      "\n",
      "    > sqlite3 -html test.db \"select * from User;\"\n",
      "\n",
      "### Dump Database to output.sql\n",
      "\n",
      "    > sqlite3 test.db \".dump\" \uff1e output.sql\n",
      "\n",
      "### Create a database with existing SQL\n",
      "\n",
      "    > sqlite3 test.db \uff1c output.sql"
     ]
    },
    {
     "cell_type": "markdown",
     "metadata": {
      "slideshow": {
       "slide_type": "slide"
      }
     },
     "source": [
      "##Sqlite3 & Python Integration"
     ]
    },
    {
     "cell_type": "code",
     "collapsed": false,
     "input": [
      "import sqlite3\n",
      "sqlite3.version"
     ],
     "language": "python",
     "metadata": {
      "slideshow": {
       "slide_type": "slide"
      }
     },
     "outputs": [
      {
       "metadata": {},
       "output_type": "pyout",
       "prompt_number": 1,
       "text": [
        "'2.6.0'"
       ]
      }
     ],
     "prompt_number": 1
    },
    {
     "cell_type": "markdown",
     "metadata": {
      "slideshow": {
       "slide_type": "slide"
      }
     },
     "source": [
      "#Database Jargon\n",
      "\n",
      "### Database Connection:\n",
      "#### A database server and its client software communicate with each other\n",
      "\n",
      "### Database Cursor:\n",
      "#### A database cursor is a control structure that enables traversal over the records in a database\n",
      "\n",
      "### Primary Key:\n",
      "#### A combination of columns which uniquely specify a row\n",
      "\n",
      "### Unique Key\n",
      "#### Uniquely identify each row of data values in a database table\n",
      "\n",
      "### Foreign Key\n",
      "#### A field in one table that uniquely identifies a row of another table"
     ]
    },
    {
     "cell_type": "code",
     "collapsed": false,
     "input": [
      "#Speicified DB Name\n",
      "dbname = 'test.db'"
     ],
     "language": "python",
     "metadata": {
      "slideshow": {
       "slide_type": "slide"
      }
     },
     "outputs": [],
     "prompt_number": 13
    },
    {
     "cell_type": "code",
     "collapsed": false,
     "input": [
      "import sqlite3 as lite\n",
      "import sys\n",
      "\n",
      "con = None\n",
      "\n",
      "try:\n",
      "    con = lite.connect(dbname) # connect to database\n",
      "    \n",
      "    cur = con.cursor() # create cursor   \n",
      "    cur.execute('SELECT SQLITE_VERSION()') # selece database version\n",
      "    \n",
      "    data = cur.fetchone() # fetch one data at a time\n",
      "    \n",
      "    print \"SQLite version: %s\" % data                \n",
      "    \n",
      "except lite.Error, e:\n",
      "    \n",
      "    print \"Error %s:\" % e.args[0]\n",
      "    sys.exit(1)\n",
      "    \n",
      "finally:\n",
      "    \n",
      "    if con:\n",
      "        con.close()"
     ],
     "language": "python",
     "metadata": {
      "slideshow": {
       "slide_type": "slide"
      }
     },
     "outputs": [
      {
       "output_type": "stream",
       "stream": "stdout",
       "text": [
        "SQLite version: 3.6.21\n"
       ]
      }
     ],
     "prompt_number": 14
    },
    {
     "cell_type": "code",
     "collapsed": false,
     "input": [
      "import sqlite3 as lite\n",
      "import sys\n",
      "\n",
      "con = lite.connect(dbname)\n",
      "\n",
      "with con:\n",
      "    \n",
      "    cur = con.cursor()\n",
      "    # Drop Table If Exisits\n",
      "    cur.execute(\"DROP TABLE IF EXISTS PhoneAddress\")    \n",
      "    cur.execute(\"CREATE TABLE PhoneAddress(phone CHAR(10) PRIMARY KEY, address TEXT, name TEXT unique, age INT NOT NULL)\")\n",
      "    cur.execute(\"INSERT INTO PhoneAddress VALUES('0912173381','United State','Jhon Doe',53)\")\n",
      "    cur.execute(\"INSERT INTO PhoneAddress VALUES('0928375018','Tokyo Japan','MuMu Cat',6)\")\n",
      "    cur.execute(\"INSERT INTO PhoneAddress VALUES('0957209108','Taipei','Richard',29)\")\n",
      "con.close()    "
     ],
     "language": "python",
     "metadata": {
      "slideshow": {
       "slide_type": "slide"
      }
     },
     "outputs": [],
     "prompt_number": 15
    },
    {
     "cell_type": "code",
     "collapsed": false,
     "input": [
      "import sqlite3 as lite\n",
      "import sys\n",
      "\n",
      "con = lite.connect(dbname)\n",
      "\n",
      "with con:\n",
      "    \n",
      "    cur = con.cursor()\n",
      "    # Read Meta Information\n",
      "    cur.execute(\"PRAGMA table_info(PhoneAddress)\")    \n",
      "    rows = cur.fetchall()\n",
      "    for row in rows:\n",
      "        print row\n",
      "    \n",
      "con.close()    "
     ],
     "language": "python",
     "metadata": {
      "slideshow": {
       "slide_type": "slide"
      }
     },
     "outputs": [
      {
       "output_type": "stream",
       "stream": "stdout",
       "text": [
        "(0, u'phone', u'CHAR(10)', 0, None, 1)\n",
        "(1, u'address', u'TEXT', 0, None, 0)\n",
        "(2, u'name', u'TEXT', 0, None, 0)\n",
        "(3, u'age', u'INT', 1, None, 0)\n"
       ]
      }
     ],
     "prompt_number": 16
    },
    {
     "cell_type": "markdown",
     "metadata": {
      "slideshow": {
       "slide_type": "slide"
      }
     },
     "source": [
      "### Access SQLite\n",
      "    > sqlite3 dbname\n",
      "\n",
      "### Get column and header information\n",
      "    sqlite> .mode column  \n",
      "    sqlite> .headers on\n",
      "    sqlite> SELECT * FROM PhoneAddress"
     ]
    },
    {
     "cell_type": "markdown",
     "metadata": {
      "slideshow": {
       "slide_type": "slide"
      }
     },
     "source": [
      "###SELECT statement \n",
      "#### is used to query the database. The result of a SELECT is zero or more rows of data where each row has a fixed number of columns."
     ]
    },
    {
     "cell_type": "code",
     "collapsed": false,
     "input": [
      "import sqlite3 as lite\n",
      "import sys\n",
      "\n",
      "\n",
      "con = lite.connect(dbname)\n",
      "\n",
      "with con:    \n",
      "    \n",
      "    cur = con.cursor()    \n",
      "    # Simple Query * Stands for projection of all columns\n",
      "    cur.execute(\"SELECT * FROM PhoneAddress\")\n",
      "\n",
      "    rows = cur.fetchall()\n",
      "\n",
      "    for row in rows:\n",
      "        print row"
     ],
     "language": "python",
     "metadata": {
      "slideshow": {
       "slide_type": "slide"
      }
     },
     "outputs": [
      {
       "output_type": "stream",
       "stream": "stdout",
       "text": [
        "(u'0912173381', u'United State', u'Jhon Doe', 53)\n",
        "(u'0928375018', u'Tokyo Japan', u'MuMu Cat', 6)\n",
        "(u'0957209108', u'Taipei', u'Richard', 29)\n"
       ]
      }
     ],
     "prompt_number": 17
    },
    {
     "cell_type": "code",
     "collapsed": false,
     "input": [
      "import sqlite3 as lite\n",
      "import sys\n",
      "\n",
      "\n",
      "con = lite.connect(dbname)\n",
      "\n",
      "with con:    \n",
      "    \n",
      "    cur = con.cursor()    \n",
      "    # Select with condition In\n",
      "    cur.execute(\"SELECT * FROM PhoneAddress where address in ('Taipei', 'Tokyo Japan')\")\n",
      "\n",
      "    rows = cur.fetchall()\n",
      "\n",
      "    for row in rows:\n",
      "        print row"
     ],
     "language": "python",
     "metadata": {
      "slideshow": {
       "slide_type": "slide"
      }
     },
     "outputs": [
      {
       "output_type": "stream",
       "stream": "stdout",
       "text": [
        "(u'0928375018', u'Tokyo Japan', u'MuMu Cat', 6)\n",
        "(u'0957209108', u'Taipei', u'Richard', 29)\n"
       ]
      }
     ],
     "prompt_number": 18
    },
    {
     "cell_type": "code",
     "collapsed": false,
     "input": [
      "import sqlite3 as lite\n",
      "import sys\n",
      "\n",
      "\n",
      "con = lite.connect(dbname)\n",
      "\n",
      "with con:    \n",
      "    \n",
      "    cur = con.cursor()    \n",
      "    # Select with condition Like\n",
      "    cur.execute(\"SELECT * FROM PhoneAddress where phone like '09%'\")\n",
      "\n",
      "    rows = cur.fetchall()\n",
      "\n",
      "    for row in rows:\n",
      "        print row"
     ],
     "language": "python",
     "metadata": {
      "slideshow": {
       "slide_type": "slide"
      }
     },
     "outputs": [
      {
       "output_type": "stream",
       "stream": "stdout",
       "text": [
        "(u'0912173381', u'United State', u'Jhon Doe', 53)\n",
        "(u'0928375018', u'Tokyo Japan', u'MuMu Cat', 6)\n",
        "(u'0957209108', u'Taipei', u'Richard', 29)\n"
       ]
      }
     ],
     "prompt_number": 19
    },
    {
     "cell_type": "code",
     "collapsed": false,
     "input": [
      "import sqlite3 as lite\n",
      "import sys\n",
      "\n",
      "\n",
      "con = lite.connect(dbname)\n",
      "\n",
      "with con:    \n",
      "    \n",
      "    cur = con.cursor()    \n",
      "    # Order By Column Age and Get First Item\n",
      "    cur.execute(\"SELECT name, address, age FROM PhoneAddress order by age limit 1\") # get user's name address and age with least age\n",
      "\n",
      "    rows = cur.fetchall()\n",
      "\n",
      "    for row in rows:\n",
      "        print row"
     ],
     "language": "python",
     "metadata": {
      "slideshow": {
       "slide_type": "slide"
      }
     },
     "outputs": [
      {
       "output_type": "stream",
       "stream": "stdout",
       "text": [
        "(u'MuMu Cat', u'Tokyo Japan', 6)\n"
       ]
      }
     ],
     "prompt_number": 20
    },
    {
     "cell_type": "code",
     "collapsed": false,
     "input": [
      "import sqlite3 as lite\n",
      "import sys\n",
      "\n",
      "\n",
      "con = lite.connect(dbname)\n",
      "\n",
      "with con:    \n",
      "    \n",
      "    cur = con.cursor()    \n",
      "    # Case-When Example\n",
      "    cur.execute(\"SELECT name, address, age, \"+\n",
      "                \" case when age >18 then 'Adults' else 'Children' end as type \"+\n",
      "                \" FROM PhoneAddress\") \n",
      "\n",
      "    rows = cur.fetchall()\n",
      "\n",
      "    for row in rows:\n",
      "        print row"
     ],
     "language": "python",
     "metadata": {
      "slideshow": {
       "slide_type": "slide"
      }
     },
     "outputs": [
      {
       "output_type": "stream",
       "stream": "stdout",
       "text": [
        "(u'Jhon Doe', u'United State', 53, u'Adults')\n",
        "(u'MuMu Cat', u'Tokyo Japan', 6, u'Children')\n",
        "(u'Richard', u'Taipei', 29, u'Adults')\n"
       ]
      }
     ],
     "prompt_number": 21
    },
    {
     "cell_type": "markdown",
     "metadata": {},
     "source": [
      "### EXPLAIN QUERY PLAN\n",
      "    sqlite> EXPLAIN QUERY PLAN SELECT * FROM PhoneAddress where phone like '0957209108'; \n",
      "    sqlite> EXPLAIN QUERY PLAN SELECT * FROM PhoneAddress where phone =  '0957209108' ;\n"
     ]
    },
    {
     "cell_type": "markdown",
     "metadata": {
      "slideshow": {
       "slide_type": "slide"
      }
     },
     "source": [
      "### INSERT Statement\n",
      "\n",
      "####\u3000Add new rows of data into a table in the database"
     ]
    },
    {
     "cell_type": "code",
     "collapsed": false,
     "input": [
      "import sqlite3 as lite\n",
      "import sys\n",
      "\n",
      "con = lite.connect(dbname)\n",
      "\n",
      "with con:\n",
      "    \n",
      "    cur = con.cursor()    \n",
      "    cur.execute(\"INSERT INTO PhoneAddress VALUES('0923111333','Mars','Bruno',30)\")\n",
      "    cur.execute(\"select * from PhoneAddress\")\n",
      "    rows = cur.fetchall()\n",
      "    for row in rows:\n",
      "        print row\n",
      "con.close() "
     ],
     "language": "python",
     "metadata": {
      "slideshow": {
       "slide_type": "slide"
      }
     },
     "outputs": [
      {
       "output_type": "stream",
       "stream": "stdout",
       "text": [
        "(u'0912173381', u'United State', u'Jhon Doe', 53)\n",
        "(u'0928375018', u'Tokyo Japan', u'MuMu Cat', 6)\n",
        "(u'0957209108', u'Taipei', u'Richard', 29)\n",
        "(u'0923111333', u'Mars', u'Bruno', 30)\n"
       ]
      }
     ],
     "prompt_number": 22
    },
    {
     "cell_type": "markdown",
     "metadata": {
      "slideshow": {
       "slide_type": "slide"
      }
     },
     "source": [
      "### DELETE Statement\n",
      "\n",
      "####    Delete the existing records from a table"
     ]
    },
    {
     "cell_type": "code",
     "collapsed": false,
     "input": [
      "import sqlite3 as lite\n",
      "import sys\n",
      "\n",
      "con = lite.connect(dbname)\n",
      "\n",
      "with con:\n",
      "    \n",
      "    cur = con.cursor()        \n",
      "    cur.execute(\"delete from PhoneAddress where address = 'Mars'\")\n",
      "    cur.execute(\"select * from PhoneAddress\")\n",
      "    rows = cur.fetchall()\n",
      "    for row in rows:\n",
      "        print row\n",
      "con.close() "
     ],
     "language": "python",
     "metadata": {
      "slideshow": {
       "slide_type": "slide"
      }
     },
     "outputs": [
      {
       "output_type": "stream",
       "stream": "stdout",
       "text": [
        "(u'0912173381', u'United State', u'Jhon Doe', 53)\n",
        "(u'0928375018', u'Tokyo Japan', u'MuMu Cat', 6)\n",
        "(u'0957209108', u'Taipei', u'Richard', 29)\n"
       ]
      }
     ],
     "prompt_number": 23
    },
    {
     "cell_type": "markdown",
     "metadata": {
      "slideshow": {
       "slide_type": "slide"
      }
     },
     "source": [
      "### UPDATE Statement\n",
      "\n",
      "#### Modify the existing records in a table"
     ]
    },
    {
     "cell_type": "code",
     "collapsed": false,
     "input": [
      "import sqlite3 as lite\n",
      "import sys\n",
      "\n",
      "\n",
      "Phone = 0928375018\n",
      "Age = 7 \n",
      "\n",
      "con = lite.connect(dbname)\n",
      "\n",
      "with con:\n",
      "\n",
      "    cur = con.cursor()    \n",
      "\n",
      "    cur.execute(\"UPDATE PhoneAddress SET age=? WHERE phone=?\", (Age, Phone))        \n",
      "    \n",
      "    cur.execute(\"select * from PhoneAddress where phone=?\", (Phone,)) \n",
      "    rows = cur.fetchall()\n",
      "\n",
      "    for row in rows:\n",
      "        print row"
     ],
     "language": "python",
     "metadata": {
      "slideshow": {
       "slide_type": "slide"
      }
     },
     "outputs": [
      {
       "ename": "SyntaxError",
       "evalue": "invalid token (<ipython-input-24-35d0cda3c5f3>, line 5)",
       "output_type": "pyerr",
       "traceback": [
        "\u001b[1;36m  File \u001b[1;32m\"<ipython-input-24-35d0cda3c5f3>\"\u001b[1;36m, line \u001b[1;32m5\u001b[0m\n\u001b[1;33m    Phone = 0928375018\u001b[0m\n\u001b[1;37m                     ^\u001b[0m\n\u001b[1;31mSyntaxError\u001b[0m\u001b[1;31m:\u001b[0m invalid token\n"
       ]
      }
     ],
     "prompt_number": 24
    },
    {
     "cell_type": "markdown",
     "metadata": {
      "slideshow": {
       "slide_type": "slide"
      }
     },
     "source": [
      "### executemany\n",
      "#### Eecute Many Insertion at Onc Time Execution"
     ]
    },
    {
     "cell_type": "code",
     "collapsed": false,
     "input": [
      "import sqlite3 as lite\n",
      "\n",
      "salary = (\n",
      "    (1 ,          'Paul'  ,      32 ,         'California',  20000),\n",
      "    (2 ,          'Allen' ,      25 ,         'Texas'     ,  15000),\n",
      "    (3 ,          'Teddy' ,      23 ,         'Norway'    ,  20000),\n",
      "    (4 ,          'Mark'  ,      25 ,         'Rich-Mond' ,  65000),\n",
      "    (5 ,          'David' ,      27 ,         'Texas'     ,  85000),\n",
      "    (6 ,          'Kim'   ,      22 ,         'South-Hall',  45000),\n",
      "    (7 ,          'James' ,      24 ,         'Houston'   ,  10000)\n",
      ")\n",
      "department = (\n",
      "(1,           'IT Billing'  ,1),\n",
      "(2,           'Engineerin'  ,2),\n",
      "(3,           'Finance'     ,7),\n",
      "(4,           'Finance'     ,5),\n",
      "(5,           'Finance'     ,6)\n",
      "\n",
      ")\n",
      "\n",
      "con = lite.connect(dbname)\n",
      "\n",
      "with con:\n",
      "    \n",
      "    cur = con.cursor()    \n",
      "    \n",
      "    cur.execute(\"DROP TABLE IF EXISTS Salary\")\n",
      "    cur.execute(\"DROP TABLE IF EXISTS Department\")\n",
      "    \n",
      "    cur.execute(\"CREATE TABLE Salary(ID INT, NAME TEXT, AGE INT, ADDRESS TEXT, SALARY INT, FOREIGN KEY(ID) REFERENCES QOO(EMP_ID))\")\n",
      "    cur.executemany(\"INSERT INTO Salary VALUES(?, ?, ?, ?, ?)\", salary)\n",
      "    \n",
      "    \n",
      "    cur.execute(\"CREATE TABLE Department(ID INT PRIMARY KEY, DEPT CHAR(50), EMP_ID INT)\")\n",
      "    cur.executemany(\"INSERT INTO Department VALUES(?, ?, ?)\", department)\n",
      "con.close()    "
     ],
     "language": "python",
     "metadata": {
      "slideshow": {
       "slide_type": "slide"
      }
     },
     "outputs": [],
     "prompt_number": 25
    },
    {
     "cell_type": "code",
     "collapsed": false,
     "input": [
      "import sqlite3 as lite\n",
      "\n",
      "salary = (\n",
      "    (1 ,          'Paul'  ,      32 ,         'California',  20000),\n",
      "    (2 ,          'Allen' ,      25 ,         'Texas'     ,  15000),\n",
      "    (3 ,          'Teddy' ,      23 ,         'Norway'    ,  20000),\n",
      "    (4 ,          'Mark'  ,      25 ,         'Rich-Mond' ,  65000),\n",
      "    (5 ,          'David' ,      27 ,         'Texas'     ,  85000),\n",
      "    (6 ,          'Kim'   ,      22 ,         'South-Hall',  45000),\n",
      "    (7 ,          'James' ,      24 ,         'Houston'   ,  10000)\n",
      ")\n",
      "department = (\n",
      "(1,           'IT Billing'  ,1),\n",
      "(2,           'Engineerin'  ,2),\n",
      "(3,           'Finance'     ,7),\n",
      "(3,           'Finance'     ,5),\n",
      "(3,           'Finance'     ,6)\n",
      "\n",
      ")\n",
      "\n",
      "con = lite.connect(dbname)\n",
      "\n",
      "with con:\n",
      "    \n",
      "    cur = con.cursor()    \n",
      "    \n",
      "    cur.execute(\"DROP TABLE IF EXISTS Salary\")\n",
      "    cur.execute(\"CREATE TABLE Salary(ID INT, NAME TEXT, AGE INT, ADDRESS TEXT, SALARY INT)\")\n",
      "    cur.executemany(\"INSERT INTO Salary VALUES(?, ?, ?, ?, ?)\", salary)\n",
      "    \n",
      "    cur.execute(\"DROP TABLE IF EXISTS Department\")\n",
      "    cur.execute(\"CREATE TABLE Department(ID INT, DEPT CHAR(50), EMP_ID INT)\")\n",
      "    cur.executemany(\"INSERT INTO Department VALUES(?, ?, ?)\", department)\n",
      "con.close()    "
     ],
     "language": "python",
     "metadata": {
      "slideshow": {
       "slide_type": "slide"
      }
     },
     "outputs": [],
     "prompt_number": 26
    },
    {
     "cell_type": "code",
     "collapsed": false,
     "input": [
      "import sqlite3 as lite\n",
      "import time\n",
      "\n",
      "\n",
      "dbname = 'test.db'\n",
      "con = lite.connect(dbname)\n",
      "\n",
      "items = tuple(range(1,1000000))\n",
      "with con:\n",
      "    \n",
      "    cur = con.cursor()    \n",
      "    \n",
      "    cur.execute(\"DROP TABLE IF EXISTS ptest\")\n",
      "    cur.execute(\"CREATE TABLE ptest(ID INT)\")\n",
      "    start = time.time()\n",
      "    for i in range(0,1000000):\n",
      "        cur.execute(\"INSERT INTO ptest VALUES(%s)\"%(i))\n",
      "    end = time.time()\n",
      "    print end -start\n",
      "    cur.execute(\"select count(1) from ptest\")\n",
      "    rows = cur.fetchone()\n",
      "    print rows\n",
      "\n",
      "con.close()    "
     ],
     "language": "python",
     "metadata": {
      "slideshow": {
       "slide_type": "slide"
      }
     },
     "outputs": [
      {
       "output_type": "stream",
       "stream": "stdout",
       "text": [
        "24.5280001163\n",
        "(1000000,)"
       ]
      },
      {
       "output_type": "stream",
       "stream": "stdout",
       "text": [
        "\n"
       ]
      }
     ],
     "prompt_number": 5
    },
    {
     "cell_type": "code",
     "collapsed": false,
     "input": [
      "import sqlite3 as lite\n",
      "import time\n",
      "\n",
      "con = lite.connect(dbname)\n",
      "\n",
      "with con:\n",
      "    \n",
      "    cur = con.cursor()    \n",
      "    \n",
      "    cur.execute(\"DROP TABLE IF EXISTS ptest\")\n",
      "    cur.execute(\"CREATE TABLE ptest(ID INT)\")\n",
      "    start = time.time()\n",
      "    cur.executemany(\"INSERT INTO ptest VALUES(?)\",((id_, ) for id_ in xrange(1000000)))\n",
      "    end = time.time()\n",
      "    print end -start\n",
      "    cur.execute(\"select count(1) from ptest\")\n",
      "    rows = cur.fetchone()\n",
      "    print rows\n",
      "\n",
      "con.close()    "
     ],
     "language": "python",
     "metadata": {
      "slideshow": {
       "slide_type": "slide"
      }
     },
     "outputs": [
      {
       "output_type": "stream",
       "stream": "stdout",
       "text": [
        "4.42600011826\n",
        "(1000000,)"
       ]
      },
      {
       "output_type": "stream",
       "stream": "stdout",
       "text": [
        "\n"
       ]
      }
     ],
     "prompt_number": 6
    },
    {
     "cell_type": "markdown",
     "metadata": {
      "slideshow": {
       "slide_type": "slide"
      }
     },
     "source": [
      "![](postgresql_query.png)"
     ]
    },
    {
     "cell_type": "markdown",
     "metadata": {
      "slideshow": {
       "slide_type": "slide"
      }
     },
     "source": [
      "### JOIN Operation\n",
      "#### Combines records from two or more tables in a database\n"
     ]
    },
    {
     "cell_type": "code",
     "collapsed": false,
     "input": [
      "import sqlite3 as lite\n",
      "import sys\n",
      "\n",
      "\n",
      "con = lite.connect(dbname)\n",
      "\n",
      "with con:\n",
      "\n",
      "    cur = con.cursor()    \n",
      "    # Inner Join Type 1\n",
      "    cur.execute(\"select * from Salary inner join Department on Salary.id = Department.id\") \n",
      "    rows = cur.fetchall()\n",
      "\n",
      "    for row in rows:\n",
      "        print row\n",
      "con.close()"
     ],
     "language": "python",
     "metadata": {
      "slideshow": {
       "slide_type": "slide"
      }
     },
     "outputs": [
      {
       "output_type": "stream",
       "stream": "stdout",
       "text": [
        "(1, u'Paul', 32, u'California', 20000, 1, u'IT Billing', 1)\n",
        "(2, u'Allen', 25, u'Texas', 15000, 2, u'Engineerin', 2)\n",
        "(3, u'Teddy', 23, u'Norway', 20000, 3, u'Finance', 7)\n",
        "(3, u'Teddy', 23, u'Norway', 20000, 3, u'Finance', 5)\n",
        "(3, u'Teddy', 23, u'Norway', 20000, 3, u'Finance', 6)\n"
       ]
      }
     ],
     "prompt_number": 29
    },
    {
     "cell_type": "code",
     "collapsed": false,
     "input": [
      "import sqlite3 as lite\n",
      "import sys\n",
      "\n",
      "\n",
      "con = lite.connect(dbname)\n",
      "\n",
      "with con:\n",
      "\n",
      "    cur = con.cursor()    \n",
      "    # Inner Join Type 2\n",
      "    cur.execute(\"select * from Salary,Department where Salary.id = Department.id\") \n",
      "    rows = cur.fetchall()\n",
      "\n",
      "    for row in rows:\n",
      "        print row\n",
      "con.close()"
     ],
     "language": "python",
     "metadata": {
      "slideshow": {
       "slide_type": "slide"
      }
     },
     "outputs": [
      {
       "output_type": "stream",
       "stream": "stdout",
       "text": [
        "(1, u'Paul', 32, u'California', 20000, 1, u'IT Billing', 1)\n",
        "(2, u'Allen', 25, u'Texas', 15000, 2, u'Engineerin', 2)\n",
        "(3, u'Teddy', 23, u'Norway', 20000, 3, u'Finance', 7)\n",
        "(3, u'Teddy', 23, u'Norway', 20000, 3, u'Finance', 5)\n",
        "(3, u'Teddy', 23, u'Norway', 20000, 3, u'Finance', 6)\n"
       ]
      }
     ],
     "prompt_number": 30
    },
    {
     "cell_type": "code",
     "collapsed": false,
     "input": [
      "import sqlite3 as lite\n",
      "import sys\n",
      "\n",
      "\n",
      "con = lite.connect(dbname)\n",
      "\n",
      "with con:\n",
      "\n",
      "    cur = con.cursor()    \n",
      "    # Sub-Query\n",
      "    cur.execute(\"SELECT * from Salary, ( SELECT id, dept  FROM   Department   WHERE id < 3) dpt\"+\n",
      "                \" WHERE Salary.id = dpt.id\") \n",
      "    rows = cur.fetchall()\n",
      "\n",
      "    for row in rows:\n",
      "        print row\n",
      "con.close()"
     ],
     "language": "python",
     "metadata": {
      "slideshow": {
       "slide_type": "slide"
      }
     },
     "outputs": [
      {
       "output_type": "stream",
       "stream": "stdout",
       "text": [
        "(1, u'Paul', 32, u'California', 20000, 1, u'IT Billing')\n",
        "(2, u'Allen', 25, u'Texas', 15000, 2, u'Engineerin')\n"
       ]
      }
     ],
     "prompt_number": 31
    },
    {
     "cell_type": "code",
     "collapsed": false,
     "input": [
      "import sqlite3 as lite\n",
      "import sys\n",
      "\n",
      "\n",
      "con = lite.connect(dbname)\n",
      "\n",
      "with con:\n",
      "\n",
      "    cur = con.cursor()    \n",
      "    # Left Join\n",
      "    cur.execute(\"select * from Salary LEFT join Department on Salary.id = Department.id \") \n",
      "    rows = cur.fetchall()\n",
      "\n",
      "    for row in rows:\n",
      "        print row\n",
      "con.close()"
     ],
     "language": "python",
     "metadata": {
      "slideshow": {
       "slide_type": "slide"
      }
     },
     "outputs": [
      {
       "output_type": "stream",
       "stream": "stdout",
       "text": [
        "(1, u'Paul', 32, u'California', 20000, 1, u'IT Billing', 1)\n",
        "(2, u'Allen', 25, u'Texas', 15000, 2, u'Engineerin', 2)\n",
        "(3, u'Teddy', 23, u'Norway', 20000, 3, u'Finance', 7)\n",
        "(3, u'Teddy', 23, u'Norway', 20000, 3, u'Finance', 5)\n",
        "(3, u'Teddy', 23, u'Norway', 20000, 3, u'Finance', 6)\n",
        "(4, u'Mark', 25, u'Rich-Mond', 65000, None, None, None)\n",
        "(5, u'David', 27, u'Texas', 85000, None, None, None)\n",
        "(6, u'Kim', 22, u'South-Hall', 45000, None, None, None)\n",
        "(7, u'James', 24, u'Houston', 10000, None, None, None)\n"
       ]
      }
     ],
     "prompt_number": 32
    },
    {
     "cell_type": "code",
     "collapsed": false,
     "input": [
      "import sqlite3 as lite\n",
      "import sys\n",
      "\n",
      "\n",
      "con = lite.connect(dbname)\n",
      "\n",
      "with con:\n",
      "\n",
      "    cur = con.cursor()    \n",
      "    # Cross Join Example\n",
      "    cur.execute(\"select * from Salary CROSS join Department on Salary.id = Department.id \") \n",
      "    rows = cur.fetchall()\n",
      "\n",
      "    for row in rows:\n",
      "        print row\n",
      "con.close()"
     ],
     "language": "python",
     "metadata": {
      "slideshow": {
       "slide_type": "slide"
      }
     },
     "outputs": [
      {
       "output_type": "stream",
       "stream": "stdout",
       "text": [
        "(1, u'Paul', 32, u'California', 20000, 1, u'IT Billing', 1)\n",
        "(2, u'Allen', 25, u'Texas', 15000, 2, u'Engineerin', 2)\n",
        "(3, u'Teddy', 23, u'Norway', 20000, 3, u'Finance', 7)\n",
        "(3, u'Teddy', 23, u'Norway', 20000, 3, u'Finance', 5)\n",
        "(3, u'Teddy', 23, u'Norway', 20000, 3, u'Finance', 6)\n"
       ]
      }
     ],
     "prompt_number": 33
    },
    {
     "cell_type": "code",
     "collapsed": false,
     "input": [
      "import sqlite3 as lite\n",
      "import sys\n",
      "\n",
      "\n",
      "con = lite.connect(dbname)\n",
      "\n",
      "with con:\n",
      "\n",
      "    cur = con.cursor()    \n",
      "    # Mimic Inner Join Using Left Join and Where Clause\n",
      "    cur.execute(\"select * from Salary LEFT join Department on Salary.id = Department.id where emp_id is not null\") \n",
      "    rows = cur.fetchall()\n",
      "\n",
      "    for row in rows:\n",
      "        print row\n",
      "con.close()"
     ],
     "language": "python",
     "metadata": {
      "slideshow": {
       "slide_type": "slide"
      }
     },
     "outputs": [
      {
       "output_type": "stream",
       "stream": "stdout",
       "text": [
        "(1, u'Paul', 32, u'California', 20000, 1, u'IT Billing', 1)\n",
        "(2, u'Allen', 25, u'Texas', 15000, 2, u'Engineerin', 2)\n",
        "(3, u'Teddy', 23, u'Norway', 20000, 3, u'Finance', 7)\n",
        "(3, u'Teddy', 23, u'Norway', 20000, 3, u'Finance', 5)\n",
        "(3, u'Teddy', 23, u'Norway', 20000, 3, u'Finance', 6)\n"
       ]
      }
     ],
     "prompt_number": 34
    },
    {
     "cell_type": "code",
     "collapsed": false,
     "input": [
      "import sqlite3 as lite\n",
      "import sys\n",
      "\n",
      "\n",
      "con = lite.connect(dbname)\n",
      "\n",
      "with con:\n",
      "\n",
      "    cur = con.cursor()    \n",
      "    # Get Maximum Salary and Minimum Salary\n",
      "    cur.execute(\"select max(salary), min(salary) from Salary \") \n",
      "    rows = cur.fetchall()\n",
      "\n",
      "    for row in rows:\n",
      "        print row\n",
      "con.close()"
     ],
     "language": "python",
     "metadata": {
      "slideshow": {
       "slide_type": "slide"
      }
     },
     "outputs": [
      {
       "output_type": "stream",
       "stream": "stdout",
       "text": [
        "(85000, 10000)\n"
       ]
      }
     ],
     "prompt_number": 35
    },
    {
     "cell_type": "code",
     "collapsed": false,
     "input": [
      "import sqlite3 as lite\n",
      "import sys\n",
      "\n",
      "\n",
      "con = lite.connect(dbname)\n",
      "\n",
      "with con:\n",
      "\n",
      "    cur = con.cursor()    \n",
      "    # Get Maximum Salary and Minimum Salary\n",
      "    cur.execute(\"select max(salary), min(salary) from Salary \") \n",
      "    rows = cur.fetchall()\n",
      "\n",
      "    for row in rows:\n",
      "        print row\n",
      "con.close()"
     ],
     "language": "python",
     "metadata": {
      "slideshow": {
       "slide_type": "slide"
      }
     },
     "outputs": [
      {
       "output_type": "stream",
       "stream": "stdout",
       "text": [
        "(85000, 10000)\n"
       ]
      }
     ],
     "prompt_number": 36
    },
    {
     "cell_type": "code",
     "collapsed": false,
     "input": [
      "import sqlite3 as lite\n",
      "import sys\n",
      "\n",
      "\n",
      "con = lite.connect(dbname)\n",
      "\n",
      "with con:\n",
      "\n",
      "    cur = con.cursor()    \n",
      "    # Get Distinct Department\n",
      "    cur.execute(\"select dept from  Department group by dept\") \n",
      "    rows = cur.fetchall()\n",
      "\n",
      "    for row in rows:\n",
      "        print row\n",
      "con.close()"
     ],
     "language": "python",
     "metadata": {
      "slideshow": {
       "slide_type": "slide"
      }
     },
     "outputs": [
      {
       "output_type": "stream",
       "stream": "stdout",
       "text": [
        "(u'Engineerin',)\n",
        "(u'Finance',)\n",
        "(u'IT Billing',)\n"
       ]
      }
     ],
     "prompt_number": 37
    },
    {
     "cell_type": "code",
     "collapsed": false,
     "input": [
      "import sqlite3 as lite\n",
      "import sys\n",
      "\n",
      "\n",
      "con = lite.connect(dbname)\n",
      "\n",
      "with con:\n",
      "\n",
      "    cur = con.cursor()    \n",
      "    # Get Distinct Department\n",
      "    cur.execute(\"select distinct dept from  Department \") \n",
      "    rows = cur.fetchall()\n",
      "\n",
      "    for row in rows:\n",
      "        print row\n",
      "con.close()"
     ],
     "language": "python",
     "metadata": {
      "slideshow": {
       "slide_type": "slide"
      }
     },
     "outputs": [
      {
       "output_type": "stream",
       "stream": "stdout",
       "text": [
        "(u'Engineerin',)\n",
        "(u'Finance',)\n",
        "(u'IT Billing',)\n"
       ]
      }
     ],
     "prompt_number": 38
    },
    {
     "cell_type": "markdown",
     "metadata": {
      "slideshow": {
       "slide_type": "slide"
      }
     },
     "source": [
      "### Group V.S. Distinct\n",
      "\n",
      "#### What are their differences?"
     ]
    },
    {
     "cell_type": "code",
     "collapsed": false,
     "input": [
      "import sqlite3 as lite\n",
      "import sys\n",
      "\n",
      "\n",
      "con = lite.connect(dbname)\n",
      "\n",
      "with con:\n",
      "\n",
      "    cur = con.cursor()    \n",
      "    # Get Maximum Salary and Minimum Salary\n",
      "    cur.execute(\"select dept ,max(salary), min(salary) from Salary inner join\" + \n",
      "                \" Department on Salary.id = Department.emp_id group by dept \") \n",
      "    rows = cur.fetchall()\n",
      "\n",
      "    for row in rows:\n",
      "        print row\n",
      "con.close()"
     ],
     "language": "python",
     "metadata": {
      "slideshow": {
       "slide_type": "slide"
      }
     },
     "outputs": [
      {
       "output_type": "stream",
       "stream": "stdout",
       "text": [
        "(u'Engineerin', 15000, 15000)\n",
        "(u'Finance', 85000, 10000)\n",
        "(u'IT Billing', 20000, 20000)\n"
       ]
      }
     ],
     "prompt_number": 39
    },
    {
     "cell_type": "code",
     "collapsed": false,
     "input": [
      "import sqlite3 as lite\n",
      "import sys\n",
      "\n",
      "\n",
      "con = lite.connect(dbname)\n",
      "\n",
      "with con:\n",
      "\n",
      "    cur = con.cursor()    \n",
      "    # Get Maximum Salary and Minimum Salary\n",
      "    cur.execute(\"select dept ,count(emp_id) from Salary inner join Department\"\n",
      "                +\" on Salary.id = Department.emp_id group by dept \") \n",
      "    rows = cur.fetchall()\n",
      "\n",
      "    for row in rows:\n",
      "        print row\n",
      "con.close()"
     ],
     "language": "python",
     "metadata": {
      "slideshow": {
       "slide_type": "slide"
      }
     },
     "outputs": [
      {
       "output_type": "stream",
       "stream": "stdout",
       "text": [
        "(u'Engineerin', 1)\n",
        "(u'Finance', 3)\n",
        "(u'IT Billing', 1)\n"
       ]
      }
     ],
     "prompt_number": 40
    },
    {
     "cell_type": "code",
     "collapsed": false,
     "input": [
      "import sqlite3 as lite\n",
      "import sys\n",
      "\n",
      "\n",
      "con = lite.connect(dbname)\n",
      "\n",
      "with con:\n",
      "\n",
      "    cur = con.cursor()    \n",
      "    # Get Maximum Salary and Minimum Salary\n",
      "    cur.execute(\"select dept ,avg(salary) from Salary inner join Department \"+\n",
      "                \" on Salary.id = Department.emp_id group by dept \") \n",
      "    rows = cur.fetchall()\n",
      "\n",
      "    for row in rows:\n",
      "        print row\n",
      "con.close()"
     ],
     "language": "python",
     "metadata": {
      "slideshow": {
       "slide_type": "slide"
      }
     },
     "outputs": [
      {
       "output_type": "stream",
       "stream": "stdout",
       "text": [
        "(u'Engineerin', 15000.0)\n",
        "(u'Finance', 46666.666666666664)\n",
        "(u'IT Billing', 20000.0)\n"
       ]
      }
     ],
     "prompt_number": 41
    },
    {
     "cell_type": "code",
     "collapsed": false,
     "input": [
      "import sqlite3 as lite\n",
      "import sys\n",
      "\n",
      "\n",
      "con = lite.connect(dbname)\n",
      "\n",
      "with con:\n",
      "\n",
      "    cur = con.cursor()    \n",
      "    # Get Maximum Salary and Minimum Salary\n",
      "    cur.execute(\"select dept ,avg(salary) from Salary inner join Department \"+\n",
      "                \"on Salary.id = Department.emp_id group by dept having avg(salary) > 30000\") \n",
      "    rows = cur.fetchall()\n",
      "\n",
      "    for row in rows:\n",
      "        print row\n",
      "con.close()"
     ],
     "language": "python",
     "metadata": {
      "slideshow": {
       "slide_type": "slide"
      }
     },
     "outputs": [
      {
       "output_type": "stream",
       "stream": "stdout",
       "text": [
        "(u'Finance', 46666.666666666664)\n"
       ]
      }
     ],
     "prompt_number": 42
    },
    {
     "cell_type": "markdown",
     "metadata": {
      "slideshow": {
       "slide_type": "slide"
      }
     },
     "source": [
      "### commit and rollback\n",
      "\n",
      "#### refers to the set of actions used to ensure that an application program either makes all changes to the resources represented by a single unit of recovery (UR), or makes no changes at all. "
     ]
    },
    {
     "cell_type": "code",
     "collapsed": false,
     "input": [
      "import sqlite3 as lite\n",
      "import sys\n",
      "\n",
      "Phone = '0928375018'\n",
      "Age = 9 \n",
      "\n",
      "con = lite.connect(dbname)\n",
      "\n",
      "with con:\n",
      "\n",
      "    cur = con.cursor()    \n",
      "\n",
      "    cur.execute(\"UPDATE PhoneAddress SET age=? WHERE phone=?\", (Age, Phone))        \n",
      "    #con.commit()\n",
      "    con.rollback()\n",
      "    \n",
      "    cur.execute(\"select * from PhoneAddress where phone=?\", (Phone,)) \n",
      "    rows = cur.fetchall()\n",
      "\n",
      "    for row in rows:\n",
      "        print row\n",
      "con.close()"
     ],
     "language": "python",
     "metadata": {
      "slideshow": {
       "slide_type": "slide"
      }
     },
     "outputs": [
      {
       "output_type": "stream",
       "stream": "stdout",
       "text": [
        "(u'0928375018', u'Tokyo Japan', u'MuMu Cat', 6)\n"
       ]
      }
     ],
     "prompt_number": 43
    },
    {
     "cell_type": "markdown",
     "metadata": {
      "slideshow": {
       "slide_type": "slide"
      }
     },
     "source": [
      "### SQL Injection\n",
      "\n",
      "#### code injection technique, used to attack data driven applications, in which malicious SQL statements are inserted into an entry field for execution (e.g. to dump the database contents to the attacker)"
     ]
    },
    {
     "cell_type": "code",
     "collapsed": false,
     "input": [
      "import sqlite3 as lite\n",
      "import sys\n",
      "\n",
      "def SelectData(phone):\n",
      "    con = lite.connect(dbname)\n",
      "    \n",
      "    with con:\n",
      "    \n",
      "        cur = con.cursor()    \n",
      "        \n",
      "        cur.execute(\"select * from PhoneAddress where phone=?\", (Phone,)) \n",
      "        rows = cur.fetchall()\n",
      "    \n",
      "        for row in rows:\n",
      "            print row\n",
      "    con.close()\n",
      "    \n",
      "SelectData('0928375018')\n",
      "    "
     ],
     "language": "python",
     "metadata": {
      "slideshow": {
       "slide_type": "slide"
      }
     },
     "outputs": [
      {
       "output_type": "stream",
       "stream": "stdout",
       "text": [
        "(u'0928375018', u'Tokyo Japan', u'MuMu Cat', 6)\n"
       ]
      }
     ],
     "prompt_number": 44
    },
    {
     "cell_type": "code",
     "collapsed": false,
     "input": [
      "import sqlite3 as lite\n",
      "import sys\n",
      "\n",
      "def SelectData(phone):\n",
      "    con = lite.connect(dbname)\n",
      "    \n",
      "    with con:\n",
      "    \n",
      "        cur = con.cursor()    \n",
      "        \n",
      "        cur.execute(\"select * from PhoneAddress where phone=?\", (Phone,)) \n",
      "        rows = cur.fetchall()\n",
      "    \n",
      "        for row in rows:\n",
      "            print row\n",
      "    con.close()\n",
      "    \n",
      "SelectData('0928375018 or 1=1')\n",
      "    "
     ],
     "language": "python",
     "metadata": {
      "slideshow": {
       "slide_type": "slide"
      }
     },
     "outputs": [
      {
       "output_type": "stream",
       "stream": "stdout",
       "text": [
        "(u'0928375018', u'Tokyo Japan', u'MuMu Cat', 6)\n"
       ]
      }
     ],
     "prompt_number": 45
    },
    {
     "cell_type": "code",
     "collapsed": false,
     "input": [
      "import sqlite3 as lite\n",
      "import sys\n",
      "\n",
      "def SelectData(PhoneNumber):\n",
      "    con = lite.connect(dbname)\n",
      "    \n",
      "    with con:\n",
      "    \n",
      "        cur = con.cursor()    \n",
      "        #cur.execute(\"select * from PhoneAddress where phone=?\", (PhoneNumber,))\n",
      "        print \"select * from PhoneAddress where phone=?\", (PhoneNumber,)\n",
      "        cur.execute(\"select * from PhoneAddress where phone= \" + PhoneNumber)        \n",
      "        rows = cur.fetchall()\n",
      "    \n",
      "        for row in rows:\n",
      "            print row\n",
      "    con.close()\n",
      "    \n",
      "    \n",
      "SelectData(\"\\'\\' or 1=1\")\n",
      "    "
     ],
     "language": "python",
     "metadata": {
      "slideshow": {
       "slide_type": "slide"
      }
     },
     "outputs": [
      {
       "output_type": "stream",
       "stream": "stdout",
       "text": [
        "select * from PhoneAddress where phone=? (\"'' or 1=1\",)\n",
        "(u'0912173381', u'United State', u'Jhon Doe', 53)\n",
        "(u'0928375018', u'Tokyo Japan', u'MuMu Cat', 6)\n",
        "(u'0957209108', u'Taipei', u'Richard', 29)\n",
        "(u'923111999', u'Hacker', u'Qoo', 0)\n"
       ]
      }
     ],
     "prompt_number": 9
    },
    {
     "cell_type": "code",
     "collapsed": false,
     "input": [
      "import sqlite3 as lite\n",
      "import sys\n",
      "\n",
      "def SelectData(PhoneNumber):\n",
      "    con = lite.connect(dbname)\n",
      "    \n",
      "    with con:\n",
      "    \n",
      "        cur = con.cursor()    \n",
      "        \n",
      "        cur.execute(\"select * from PhoneAddress where phone= \" + PhoneNumber)        \n",
      "        rows = cur.fetchall()\n",
      "    \n",
      "        for row in rows:\n",
      "            print row\n",
      "    con.close()\n",
      "    \n",
      "    \n",
      "SelectData(\"\\'\\' or 1=1; INSERT INTO PhoneAddress VALUES(0923111999,'Hacker','Qoo',0);\")\n",
      "    "
     ],
     "language": "python",
     "metadata": {
      "slideshow": {
       "slide_type": "slide"
      }
     },
     "outputs": [
      {
       "ename": "Warning",
       "evalue": "You can only execute one statement at a time.",
       "output_type": "pyerr",
       "traceback": [
        "\u001b[1;31m---------------------------------------------------------------------------\u001b[0m\n\u001b[1;31mWarning\u001b[0m                                   Traceback (most recent call last)",
        "\u001b[1;32m<ipython-input-47-827eccbf8011>\u001b[0m in \u001b[0;36m<module>\u001b[1;34m()\u001b[0m\n\u001b[0;32m     17\u001b[0m \u001b[1;33m\u001b[0m\u001b[0m\n\u001b[0;32m     18\u001b[0m \u001b[1;33m\u001b[0m\u001b[0m\n\u001b[1;32m---> 19\u001b[1;33m \u001b[0mSelectData\u001b[0m\u001b[1;33m(\u001b[0m\u001b[1;34m\"\\'\\' or 1=1; INSERT INTO PhoneAddress VALUES(0923111999,'Hacker','Qoo',0);\"\u001b[0m\u001b[1;33m)\u001b[0m\u001b[1;33m\u001b[0m\u001b[0m\n\u001b[0m\u001b[0;32m     20\u001b[0m \u001b[1;33m\u001b[0m\u001b[0m\n",
        "\u001b[1;32m<ipython-input-47-827eccbf8011>\u001b[0m in \u001b[0;36mSelectData\u001b[1;34m(PhoneNumber)\u001b[0m\n\u001b[0;32m      9\u001b[0m         \u001b[0mcur\u001b[0m \u001b[1;33m=\u001b[0m \u001b[0mcon\u001b[0m\u001b[1;33m.\u001b[0m\u001b[0mcursor\u001b[0m\u001b[1;33m(\u001b[0m\u001b[1;33m)\u001b[0m\u001b[1;33m\u001b[0m\u001b[0m\n\u001b[0;32m     10\u001b[0m \u001b[1;33m\u001b[0m\u001b[0m\n\u001b[1;32m---> 11\u001b[1;33m         \u001b[0mcur\u001b[0m\u001b[1;33m.\u001b[0m\u001b[0mexecute\u001b[0m\u001b[1;33m(\u001b[0m\u001b[1;34m\"select * from PhoneAddress where phone= \"\u001b[0m \u001b[1;33m+\u001b[0m \u001b[0mPhoneNumber\u001b[0m\u001b[1;33m)\u001b[0m\u001b[1;33m\u001b[0m\u001b[0m\n\u001b[0m\u001b[0;32m     12\u001b[0m         \u001b[0mrows\u001b[0m \u001b[1;33m=\u001b[0m \u001b[0mcur\u001b[0m\u001b[1;33m.\u001b[0m\u001b[0mfetchall\u001b[0m\u001b[1;33m(\u001b[0m\u001b[1;33m)\u001b[0m\u001b[1;33m\u001b[0m\u001b[0m\n\u001b[0;32m     13\u001b[0m \u001b[1;33m\u001b[0m\u001b[0m\n",
        "\u001b[1;31mWarning\u001b[0m: You can only execute one statement at a time."
       ]
      }
     ],
     "prompt_number": 47
    },
    {
     "cell_type": "code",
     "collapsed": false,
     "input": [
      "import sqlite3 as lite\n",
      "import sys\n",
      "\n",
      "def SelectData(PhoneNumber):\n",
      "    con = lite.connect(dbname)\n",
      "    \n",
      "    with con:\n",
      "    \n",
      "        cur = con.cursor()    \n",
      "        #using execute script\n",
      "        cur.execute(\"delete from PhoneAddress where phone = '0923111999'\") \n",
      "        cur.executescript(\"select * from PhoneAddress where phone= \" + PhoneNumber)        \n",
      "\n",
      "        cur.execute(\"select * from PhoneAddress\")        \n",
      "        rows = cur.fetchall()\n",
      "    \n",
      "        for row in rows:\n",
      "            print row            \n",
      "    con.close()\n",
      "    \n",
      "    \n",
      "SelectData(\"\\'\\' or 1=1; INSERT INTO PhoneAddress VALUES(0923111999,'Hacker','Qoo',0);\")\n",
      "    "
     ],
     "language": "python",
     "metadata": {
      "slideshow": {
       "slide_type": "slide"
      }
     },
     "outputs": [
      {
       "output_type": "stream",
       "stream": "stdout",
       "text": [
        "(u'0912173381', u'United State', u'Jhon Doe', 53)\n",
        "(u'0928375018', u'Tokyo Japan', u'MuMu Cat', 6)\n",
        "(u'0957209108', u'Taipei', u'Richard', 29)\n",
        "(u'923111999', u'Hacker', u'Qoo', 0)\n"
       ]
      }
     ],
     "prompt_number": 48
    },
    {
     "cell_type": "code",
     "collapsed": false,
     "input": [
      "import sqlite3 as lite\n",
      "import sys\n",
      "\n",
      "def SelectData(PhoneNumber):\n",
      "    con = lite.connect(dbname)\n",
      "    \n",
      "    with con:\n",
      "    \n",
      "        cur = con.cursor()    \n",
      "        \n",
      "        cur.executescript(\"select * from PhoneAddress \" )        \n",
      "        rows = cur.fetchall()\n",
      "    \n",
      "        for row in rows:\n",
      "            print row\n",
      "    con.close()\n",
      "    \n",
      "    \n",
      "SelectData(\"qoo\")\n",
      "    "
     ],
     "language": "python",
     "metadata": {
      "slideshow": {
       "slide_type": "slide"
      }
     },
     "outputs": [],
     "prompt_number": 49
    },
    {
     "cell_type": "markdown",
     "metadata": {
      "slideshow": {
       "slide_type": "slide"
      }
     },
     "source": [
      "### Hacking into system\n",
      "\n",
      "#### Get all username and password using SQL Injection"
     ]
    },
    {
     "cell_type": "code",
     "collapsed": false,
     "input": [
      "import sqlite3 as lite\n",
      "import sys\n",
      "\n",
      "con = lite.connect(dbname)\n",
      "\n",
      "with con:\n",
      "    \n",
      "    cur = con.cursor()    \n",
      "    cur.execute(\"DROP TABLE IF EXISTS User\") \n",
      "    cur.execute(\"CREATE TABLE User(username TEXT, password TEXT)\")\n",
      "    cur.execute(\"INSERT INTO User VALUES('Jhon Doe','1QWE#$!@#')\")\n",
      "con.close()    "
     ],
     "language": "python",
     "metadata": {
      "slideshow": {
       "slide_type": "slide"
      }
     },
     "outputs": [],
     "prompt_number": 50
    },
    {
     "cell_type": "code",
     "collapsed": false,
     "input": [
      "import sqlite3 as lite\n",
      "import sys\n",
      "\n",
      "def SelectData(UserName, PassWord):\n",
      "    con = lite.connect(dbname)\n",
      "    \n",
      "    with con:\n",
      "    \n",
      "        cur = con.cursor()    \n",
      "        \n",
      "        cur.execute(\"select * from User where username= \" + UserName + \" password = \" + PassWord)        \n",
      "        rows = cur.fetchall()\n",
      "    \n",
      "        for row in rows:\n",
      "            print row\n",
      "    con.close()\n",
      "    \n",
      "    \n",
      "SelectData(\"\\'\\' or 1=1 --;\", \"qoo\")\n",
      "    "
     ],
     "language": "python",
     "metadata": {
      "slideshow": {
       "slide_type": "slide"
      }
     },
     "outputs": [
      {
       "output_type": "stream",
       "stream": "stdout",
       "text": [
        "(u'Jhon Doe', u'1QWE#$!@#')\n"
       ]
      }
     ],
     "prompt_number": 51
    },
    {
     "cell_type": "code",
     "collapsed": false,
     "input": [],
     "language": "python",
     "metadata": {},
     "outputs": [],
     "prompt_number": 51
    }
   ],
   "metadata": {}
  }
 ]
}