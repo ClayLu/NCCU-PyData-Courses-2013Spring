{
 "metadata": {
  "name": ""
 },
 "nbformat": 3,
 "nbformat_minor": 0,
 "worksheets": [
  {
   "cells": [
    {
     "cell_type": "code",
     "collapsed": false,
     "input": [
      "%matplotlib inline"
     ],
     "language": "python",
     "metadata": {},
     "outputs": [],
     "prompt_number": 1
    },
    {
     "cell_type": "code",
     "collapsed": false,
     "input": [
      "import matplotlib.pylab as pylab\n",
      "pylab.rcParams['figure.figsize'] = 16, 12\n",
      "\n",
      "from matplotlib.font_manager import FontProperties\n",
      "cfont = FontProperties(fname=\"/usr/share/fonts/truetype/wqy/wqy-zenhei.ttc\", size = 14)"
     ],
     "language": "python",
     "metadata": {},
     "outputs": [],
     "prompt_number": 2
    },
    {
     "cell_type": "code",
     "collapsed": false,
     "input": [
      "from pymongo import MongoClient\n",
      "mongo_client = MongoClient()\n",
      "ptt_crawler_db = mongo_client.ptt_crawler_db\n",
      "ptt_article = ptt_crawler_db.ptt_article\n",
      "ptt_article_push = ptt_crawler_db.ptt_article_push"
     ],
     "language": "python",
     "metadata": {},
     "outputs": [],
     "prompt_number": 3
    },
    {
     "cell_type": "code",
     "collapsed": false,
     "input": [
      "import pandas as pd \n",
      "\n",
      "# articles_df = pd.DataFrame(list(ptt_article.find({})))\n",
      "articles_df = pd.DataFrame(list(ptt_article.find({\"Board\":{\"$in\":[\"Accounting\",'Physics']}})))"
     ],
     "language": "python",
     "metadata": {},
     "outputs": [],
     "prompt_number": 4
    },
    {
     "cell_type": "code",
     "collapsed": false,
     "input": [
      "print articles_df.shape\n",
      "articles_df.head(10)"
     ],
     "language": "python",
     "metadata": {},
     "outputs": [
      {
       "output_type": "stream",
       "stream": "stdout",
       "text": [
        "(37122, 9)\n"
       ]
      },
      {
       "html": [
        "<div style=\"max-height:1000px;max-width:1500px;overflow:auto;\">\n",
        "<table border=\"1\" class=\"dataframe\">\n",
        "  <thead>\n",
        "    <tr style=\"text-align: right;\">\n",
        "      <th></th>\n",
        "      <th>Board</th>\n",
        "      <th>_id</th>\n",
        "      <th>text</th>\n",
        "      <th>time</th>\n",
        "      <th>title</th>\n",
        "      <th>url</th>\n",
        "      <th>user</th>\n",
        "      <th>user_id</th>\n",
        "      <th>user_nickname</th>\n",
        "    </tr>\n",
        "  </thead>\n",
        "  <tbody>\n",
        "    <tr>\n",
        "      <th>0</th>\n",
        "      <td> Accounting</td>\n",
        "      <td> 52f223db74798d7e7bbe9965</td>\n",
        "      <td>   \\n102\u5e74\u8d85\u7d1a\u51fd\u6388CD\u7248\\n\\n\u9ad8\u6703(\u856d\u9756) \u6b32\u552e$2500 NT\\n\\n\u516c\u53f8\u6cd5(\u8463\u8b19...</td>\n",
        "      <td> Wed Feb  5 13:48:58 2014</td>\n",
        "      <td>             [\u51fa\u552e] 102\u5e74\u8d85\u7d1a\u51fd\u6388 \u9ad8\u6703\u3001\u516c\u53f8\u6cd5</td>\n",
        "      <td> http://www.ptt.cc/bbs/Accounting/M.1391579341....</td>\n",
        "      <td>           sunnykiller (\u5929\u7c5f\u4e4b\u8072)</td>\n",
        "      <td>  sunnykiller</td>\n",
        "      <td>        \u5929\u7c5f\u4e4b\u8072</td>\n",
        "    </tr>\n",
        "    <tr>\n",
        "      <th>1</th>\n",
        "      <td> Accounting</td>\n",
        "      <td> 52f223db74798d7e78be9965</td>\n",
        "      <td>   \\n\u5982\u6a19\u984c\\n\u5269\u4e0b\u4e00\u6b21\u6388\u6b0a\u5373\u53ef\\n\u8b1b\u7fa9\u6211\u6709\\n\u4f46\u662f\u7f3a\u7b46\u8a18\\n\u5982\u679c\u9858\u610f\u8ce3\u7b46\u8a18\u4e5fOK\\n\\n...</td>\n",
        "      <td> Wed Feb  5 14:44:15 2014</td>\n",
        "      <td>               [\u5fb5\u6c42]\u5f90\u9326\u83ef\u9ad8\u6703DVD or \u8b1b\u7fa9</td>\n",
        "      <td> http://www.ptt.cc/bbs/Accounting/M.1391582662....</td>\n",
        "      <td> JilSander (Doer brokenheart)</td>\n",
        "      <td>    JilSander</td>\n",
        "      <td>         Doe</td>\n",
        "    </tr>\n",
        "    <tr>\n",
        "      <th>2</th>\n",
        "      <td> Accounting</td>\n",
        "      <td> 52f223db74798d7e76be9965</td>\n",
        "      <td>   \\n\u203b \u5f15\u8ff0\u300aflora713 (pretty world)\u300b\u4e4b\u9298\u8a00\uff1a: 1. \u51fa\u552e\uff1a\u5fd7...</td>\n",
        "      <td> Wed Feb  5 16:47:30 2014</td>\n",
        "      <td> Re: [\u51fa\u552e/\u8d08\u9001] \u5fd7\u5149\u5c0a\u69ae\u512a\u60e0\u5238/ \u8d85\u7d1a\u51fd\u6388VIP\u63a8\u85a6\u79ae\u5238</td>\n",
        "      <td> http://www.ptt.cc/bbs/Accounting/M.1391590052....</td>\n",
        "      <td>            lphotoimpact (\u6953\u96ea)</td>\n",
        "      <td> lphotoimpact</td>\n",
        "      <td>          \u6953\u96ea</td>\n",
        "    </tr>\n",
        "    <tr>\n",
        "      <th>3</th>\n",
        "      <td> Accounting</td>\n",
        "      <td> 52f223dd74798d7e7abe9965</td>\n",
        "      <td>   \\n\\n     \u521d\u6703\\n     http://goods.ruten.com.tw/...</td>\n",
        "      <td> Wed Feb  5 14:57:59 2014</td>\n",
        "      <td>      [\u552e] \u521d\u7d1a\u6703\u8a08\u5b78.\u4e2d\u7d1a\u6703\u8a08\u5b78.\u6210\u672c\u6703\u8a08 DVD+\u8b1b\u7fa9</td>\n",
        "      <td> http://www.ptt.cc/bbs/Accounting/M.1391583483....</td>\n",
        "      <td>                  ap22 (\u65cb\u8f49\u74f6\u5b50)</td>\n",
        "      <td>         ap22</td>\n",
        "      <td>        \u65cb\u8f49\u74f6\u5b50</td>\n",
        "    </tr>\n",
        "    <tr>\n",
        "      <th>4</th>\n",
        "      <td>    Physics</td>\n",
        "      <td> 52f223e274798d7e76be9967</td>\n",
        "      <td>   \\n\u6628\u5929\u5728\uff34\uff25\uff24\u5f71\u7247\u4e2d\u770b\u5230\u4e00\u5247\u63a2\u8a0e\u591a\u7dad\u5ea6\u4e16\u754c\u7684\u7247\u5b50\uff0c\u89ba\u5f97\u5f88\u6709\u8da3\uff0c\\n\\n\\nhttp:/...</td>\n",
        "      <td> Mon Jan 27 07:29:37 2014</td>\n",
        "      <td>           [\u8acb\u76ca] \u770b\u5230\u4ee5\u591a\u7dad\u5ea6\u4e16\u754c\u70ba\u4e3b\u984c\u7684\uff34\uff25\uff24\u5f71\u7247</td>\n",
        "      <td> http://www.ptt.cc/bbs/Physics/M.1390778982.A.D...</td>\n",
        "      <td>             purestone (\u5929\u7a7a\u4e4b\u5b50)</td>\n",
        "      <td>    purestone</td>\n",
        "      <td>        \u5929\u7a7a\u4e4b\u5b50</td>\n",
        "    </tr>\n",
        "    <tr>\n",
        "      <th>5</th>\n",
        "      <td>    Physics</td>\n",
        "      <td> 52f223e474798d7e79be9966</td>\n",
        "      <td>   \\n\u5047\u8a2d\u4e00\u7b49\u901f\u5ea6\u5217\u8eca\\n\u5728\u5176\u4e2d\u73a9\u9059\u63a7\u98db\u6a5f  (\u64cd\u63a7\u4e0a\u5347)  \u53ea\u6709\u5782\u76f4\u5f80\u4e0a\u7684\u529b\\n\u90a3\u9ebc\u9059\u63a7...</td>\n",
        "      <td> Fri Jan 31 18:11:27 2014</td>\n",
        "      <td>                      [\u8acb\u76ca] \u79fb\u52d5\u5217\u8eca\u554f\u984c</td>\n",
        "      <td> http://www.ptt.cc/bbs/Physics/M.1391163090.A.C...</td>\n",
        "      <td>    common13139 (common13139)</td>\n",
        "      <td>  common13139</td>\n",
        "      <td> common13139</td>\n",
        "    </tr>\n",
        "    <tr>\n",
        "      <th>6</th>\n",
        "      <td>    Physics</td>\n",
        "      <td> 52f223e774798d7e78be996e</td>\n",
        "      <td>   \\n\\n\\n\u5169\u500bl=1 \u7684\u96fb\u5b50\\n\\n\u4e0d\u80fd\u7d50\u5408\u6210    \u4e0a\u6a19  -&gt; 3S\u55ce\\n\\n\u5c31\u662f...</td>\n",
        "      <td> Mon Feb  3 11:03:12 2014</td>\n",
        "      <td>      [\u554f\u984c] \u6709\u95dc\u539f\u5b50\u8ecc\u57df  \u5169\u500bl(\u5c0f\u5bebL)=1 \u7684\u96fb\u5b50</td>\n",
        "      <td> http://www.ptt.cc/bbs/Physics/M.1391396594.A.F...</td>\n",
        "      <td>                  scott414 ()</td>\n",
        "      <td>     scott414</td>\n",
        "      <td>            </td>\n",
        "    </tr>\n",
        "    <tr>\n",
        "      <th>7</th>\n",
        "      <td>    Physics</td>\n",
        "      <td> 52f223e974798d7e7bbe9966</td>\n",
        "      <td>   \\n1.\u7531\u67cf\u52aa\u7acb\u5c07\u51fa\u53e3\u6d41\u901f\u5beb\u6210 \u9ad8\u8655\u58d3\u529b\u7684\u51fd\u6578 V=f(P)\\n   V=[2(P/10...</td>\n",
        "      <td> Wed Jan 22 21:56:13 2014</td>\n",
        "      <td>     Re: [\u554f\u984c] \u7269\u8cea\u6240\u7522\u751f\u4e4b\u885d\u64ca\u61c9\u4ee5\u52d5\u91cf\u9084\u662f\u52d5\u80fd\u8a08\u7b97?</td>\n",
        "      <td> http://www.ptt.cc/bbs/Physics/M.1390398976.A.4...</td>\n",
        "      <td>              irrotation (\u975e\u65cb)</td>\n",
        "      <td>   irrotation</td>\n",
        "      <td>          \u975e\u65cb</td>\n",
        "    </tr>\n",
        "    <tr>\n",
        "      <th>8</th>\n",
        "      <td>    Physics</td>\n",
        "      <td> 52f223ef74798d7e7abe9967</td>\n",
        "      <td>   \\n\u6211\u5728paper\u4e0a\u770b\u5230gaussian white noise\u5b9a\u7fa9\u6210\\n1.E[X(t...</td>\n",
        "      <td> Sun Jan 26 01:59:02 2014</td>\n",
        "      <td>      [\u554f\u984c]\u6709\u95dcwhite  gaussian noise</td>\n",
        "      <td> http://www.ptt.cc/bbs/Physics/M.1390672744.A.4...</td>\n",
        "      <td>             nick65415 (\u963f\u92fc\u5148\u751f)</td>\n",
        "      <td>    nick65415</td>\n",
        "      <td>        \u963f\u92fc\u5148\u751f</td>\n",
        "    </tr>\n",
        "    <tr>\n",
        "      <th>9</th>\n",
        "      <td>    Physics</td>\n",
        "      <td> 52f223f174798d7e77be996f</td>\n",
        "      <td>   \\n- \u666e\u901a\u7269\u7406\u4f5c\u8005 Robert Resnick \u65bc\u524d\u5929 2014.01.29 \u901d\u4e16 ...</td>\n",
        "      <td> Sat Feb  1 06:16:07 2014</td>\n",
        "      <td> [\u66f8\u7c4d] \u9583\u96fb\u7248\u666e\u901a\u7269\u7406\u4f5c\u8005 Robert Resnick \u901d\u4e16</td>\n",
        "      <td> http://www.ptt.cc/bbs/Physics/M.1391206571.A.4...</td>\n",
        "      <td>              costello (\u91cd\u8fd4\u69ae\u5149)</td>\n",
        "      <td>     costello</td>\n",
        "      <td>        \u91cd\u8fd4\u69ae\u5149</td>\n",
        "    </tr>\n",
        "  </tbody>\n",
        "</table>\n",
        "<p>10 rows \u00d7 9 columns</p>\n",
        "</div>"
       ],
       "metadata": {},
       "output_type": "pyout",
       "prompt_number": 7,
       "text": [
        "        Board                       _id  \\\n",
        "0  Accounting  52f223db74798d7e7bbe9965   \n",
        "1  Accounting  52f223db74798d7e78be9965   \n",
        "2  Accounting  52f223db74798d7e76be9965   \n",
        "3  Accounting  52f223dd74798d7e7abe9965   \n",
        "4     Physics  52f223e274798d7e76be9967   \n",
        "5     Physics  52f223e474798d7e79be9966   \n",
        "6     Physics  52f223e774798d7e78be996e   \n",
        "7     Physics  52f223e974798d7e7bbe9966   \n",
        "8     Physics  52f223ef74798d7e7abe9967   \n",
        "9     Physics  52f223f174798d7e77be996f   \n",
        "\n",
        "                                                text  \\\n",
        "0    \\n102\u5e74\u8d85\u7d1a\u51fd\u6388CD\u7248\\n\\n\u9ad8\u6703(\u856d\u9756) \u6b32\u552e$2500 NT\\n\\n\u516c\u53f8\u6cd5(\u8463\u8b19...   \n",
        "1    \\n\u5982\u6a19\u984c\\n\u5269\u4e0b\u4e00\u6b21\u6388\u6b0a\u5373\u53ef\\n\u8b1b\u7fa9\u6211\u6709\\n\u4f46\u662f\u7f3a\u7b46\u8a18\\n\u5982\u679c\u9858\u610f\u8ce3\u7b46\u8a18\u4e5fOK\\n\\n...   \n",
        "2    \\n\u203b \u5f15\u8ff0\u300aflora713 (pretty world)\u300b\u4e4b\u9298\u8a00\uff1a: 1. \u51fa\u552e\uff1a\u5fd7...   \n",
        "3    \\n\\n     \u521d\u6703\\n     http://goods.ruten.com.tw/...   \n",
        "4    \\n\u6628\u5929\u5728\uff34\uff25\uff24\u5f71\u7247\u4e2d\u770b\u5230\u4e00\u5247\u63a2\u8a0e\u591a\u7dad\u5ea6\u4e16\u754c\u7684\u7247\u5b50\uff0c\u89ba\u5f97\u5f88\u6709\u8da3\uff0c\\n\\n\\nhttp:/...   \n",
        "5    \\n\u5047\u8a2d\u4e00\u7b49\u901f\u5ea6\u5217\u8eca\\n\u5728\u5176\u4e2d\u73a9\u9059\u63a7\u98db\u6a5f  (\u64cd\u63a7\u4e0a\u5347)  \u53ea\u6709\u5782\u76f4\u5f80\u4e0a\u7684\u529b\\n\u90a3\u9ebc\u9059\u63a7...   \n",
        "6    \\n\\n\\n\u5169\u500bl=1 \u7684\u96fb\u5b50\\n\\n\u4e0d\u80fd\u7d50\u5408\u6210    \u4e0a\u6a19  -> 3S\u55ce\\n\\n\u5c31\u662f...   \n",
        "7    \\n1.\u7531\u67cf\u52aa\u7acb\u5c07\u51fa\u53e3\u6d41\u901f\u5beb\u6210 \u9ad8\u8655\u58d3\u529b\u7684\u51fd\u6578 V=f(P)\\n   V=[2(P/10...   \n",
        "8    \\n\u6211\u5728paper\u4e0a\u770b\u5230gaussian white noise\u5b9a\u7fa9\u6210\\n1.E[X(t...   \n",
        "9    \\n- \u666e\u901a\u7269\u7406\u4f5c\u8005 Robert Resnick \u65bc\u524d\u5929 2014.01.29 \u901d\u4e16 ...   \n",
        "\n",
        "                       time                             title  \\\n",
        "0  Wed Feb  5 13:48:58 2014              [\u51fa\u552e] 102\u5e74\u8d85\u7d1a\u51fd\u6388 \u9ad8\u6703\u3001\u516c\u53f8\u6cd5   \n",
        "1  Wed Feb  5 14:44:15 2014                [\u5fb5\u6c42]\u5f90\u9326\u83ef\u9ad8\u6703DVD or \u8b1b\u7fa9   \n",
        "2  Wed Feb  5 16:47:30 2014  Re: [\u51fa\u552e/\u8d08\u9001] \u5fd7\u5149\u5c0a\u69ae\u512a\u60e0\u5238/ \u8d85\u7d1a\u51fd\u6388VIP\u63a8\u85a6\u79ae\u5238   \n",
        "3  Wed Feb  5 14:57:59 2014       [\u552e] \u521d\u7d1a\u6703\u8a08\u5b78.\u4e2d\u7d1a\u6703\u8a08\u5b78.\u6210\u672c\u6703\u8a08 DVD+\u8b1b\u7fa9   \n",
        "4  Mon Jan 27 07:29:37 2014            [\u8acb\u76ca] \u770b\u5230\u4ee5\u591a\u7dad\u5ea6\u4e16\u754c\u70ba\u4e3b\u984c\u7684\uff34\uff25\uff24\u5f71\u7247   \n",
        "5  Fri Jan 31 18:11:27 2014                       [\u8acb\u76ca] \u79fb\u52d5\u5217\u8eca\u554f\u984c   \n",
        "6  Mon Feb  3 11:03:12 2014       [\u554f\u984c] \u6709\u95dc\u539f\u5b50\u8ecc\u57df  \u5169\u500bl(\u5c0f\u5bebL)=1 \u7684\u96fb\u5b50   \n",
        "7  Wed Jan 22 21:56:13 2014      Re: [\u554f\u984c] \u7269\u8cea\u6240\u7522\u751f\u4e4b\u885d\u64ca\u61c9\u4ee5\u52d5\u91cf\u9084\u662f\u52d5\u80fd\u8a08\u7b97?   \n",
        "8  Sun Jan 26 01:59:02 2014       [\u554f\u984c]\u6709\u95dcwhite  gaussian noise   \n",
        "9  Sat Feb  1 06:16:07 2014  [\u66f8\u7c4d] \u9583\u96fb\u7248\u666e\u901a\u7269\u7406\u4f5c\u8005 Robert Resnick \u901d\u4e16   \n",
        "\n",
        "                                                 url  \\\n",
        "0  http://www.ptt.cc/bbs/Accounting/M.1391579341....   \n",
        "1  http://www.ptt.cc/bbs/Accounting/M.1391582662....   \n",
        "2  http://www.ptt.cc/bbs/Accounting/M.1391590052....   \n",
        "3  http://www.ptt.cc/bbs/Accounting/M.1391583483....   \n",
        "4  http://www.ptt.cc/bbs/Physics/M.1390778982.A.D...   \n",
        "5  http://www.ptt.cc/bbs/Physics/M.1391163090.A.C...   \n",
        "6  http://www.ptt.cc/bbs/Physics/M.1391396594.A.F...   \n",
        "7  http://www.ptt.cc/bbs/Physics/M.1390398976.A.4...   \n",
        "8  http://www.ptt.cc/bbs/Physics/M.1390672744.A.4...   \n",
        "9  http://www.ptt.cc/bbs/Physics/M.1391206571.A.4...   \n",
        "\n",
        "                           user       user_id user_nickname  \n",
        "0            sunnykiller (\u5929\u7c5f\u4e4b\u8072)   sunnykiller          \u5929\u7c5f\u4e4b\u8072  \n",
        "1  JilSander (Doer brokenheart)     JilSander           Doe  \n",
        "2             lphotoimpact (\u6953\u96ea)  lphotoimpact            \u6953\u96ea  \n",
        "3                   ap22 (\u65cb\u8f49\u74f6\u5b50)          ap22          \u65cb\u8f49\u74f6\u5b50  \n",
        "4              purestone (\u5929\u7a7a\u4e4b\u5b50)     purestone          \u5929\u7a7a\u4e4b\u5b50  \n",
        "5     common13139 (common13139)   common13139   common13139  \n",
        "6                   scott414 ()      scott414                \n",
        "7               irrotation (\u975e\u65cb)    irrotation            \u975e\u65cb  \n",
        "8              nick65415 (\u963f\u92fc\u5148\u751f)     nick65415          \u963f\u92fc\u5148\u751f  \n",
        "9               costello (\u91cd\u8fd4\u69ae\u5149)      costello          \u91cd\u8fd4\u69ae\u5149  \n",
        "\n",
        "[10 rows x 9 columns]"
       ]
      }
     ],
     "prompt_number": 7
    },
    {
     "cell_type": "code",
     "collapsed": false,
     "input": [
      "articles_df[\"title\"]"
     ],
     "language": "python",
     "metadata": {},
     "outputs": [
      {
       "metadata": {},
       "output_type": "pyout",
       "prompt_number": 8,
       "text": [
        "0                 [\u51fa\u552e] 102\u5e74\u8d85\u7d1a\u51fd\u6388 \u9ad8\u6703\u3001\u516c\u53f8\u6cd5\n",
        "1                   [\u5fb5\u6c42]\u5f90\u9326\u83ef\u9ad8\u6703DVD or \u8b1b\u7fa9\n",
        "2     Re: [\u51fa\u552e/\u8d08\u9001] \u5fd7\u5149\u5c0a\u69ae\u512a\u60e0\u5238/ \u8d85\u7d1a\u51fd\u6388VIP\u63a8\u85a6\u79ae\u5238\n",
        "3          [\u552e] \u521d\u7d1a\u6703\u8a08\u5b78.\u4e2d\u7d1a\u6703\u8a08\u5b78.\u6210\u672c\u6703\u8a08 DVD+\u8b1b\u7fa9\n",
        "4               [\u8acb\u76ca] \u770b\u5230\u4ee5\u591a\u7dad\u5ea6\u4e16\u754c\u70ba\u4e3b\u984c\u7684\uff34\uff25\uff24\u5f71\u7247\n",
        "5                          [\u8acb\u76ca] \u79fb\u52d5\u5217\u8eca\u554f\u984c\n",
        "6          [\u554f\u984c] \u6709\u95dc\u539f\u5b50\u8ecc\u57df  \u5169\u500bl(\u5c0f\u5bebL)=1 \u7684\u96fb\u5b50\n",
        "7         Re: [\u554f\u984c] \u7269\u8cea\u6240\u7522\u751f\u4e4b\u885d\u64ca\u61c9\u4ee5\u52d5\u91cf\u9084\u662f\u52d5\u80fd\u8a08\u7b97?\n",
        "8          [\u554f\u984c]\u6709\u95dcwhite  gaussian noise\n",
        "9     [\u66f8\u7c4d] \u9583\u96fb\u7248\u666e\u901a\u7269\u7406\u4f5c\u8005 Robert Resnick \u901d\u4e16\n",
        "10              [\u554f\u984c] \u64f4\u6563\u4fc2\u6578\u7684\u5fae\u7c92\u76f4\u5f91\u8a72\u7528\u54ea\u4e00\u7a2e\u76f4\u5f91?\n",
        "11               [\u8acb\u76ca] \u8a62\u554f\u5728\u53f0\u7063\u7814\u7a76\u55ae\u4f4dVLS\u6cd5\u9577Si\n",
        "12                     [\u9592\u804a] \u4eca\u5929\u7684\u7802\u77f3\u8eca\u885d\u7e3d\u7d71\u5e9c\n",
        "13                         [\u554f\u984c] \u95dc\u65bc\u8aa4\u5dee\u50b3\u905e\n",
        "14              [\u8acb\u76ca] \u8f2a\u80ce\u539f\u5730\u7a7a\u8f49\u5230\u958b\u59cb\u6efe\u52d5\u7684\u6469\u64e6\u529b\u8b8a\u5316\n",
        "...\n",
        "37107                   [\u552e] \u9ad8\u7b49\u6703\u8a08\u5b78 102.\u5deb\u6bd3\u742a.\u540d\u5e2b.\u6703\u8a08\u5e2b\u73ed\n",
        "37108                         [\u554f\u984c] \u8acb\u6559102\u5e74\u5730\u7279\u6210\u7ba1\u6703\u9078\u64c7\u984c\n",
        "37109                      [\u5fc3\u5f97] 102\u5e74\u90e8\u5206\u6703\u7814\u6240\u8003\u8a66\u5165\u5b78\u6578\u64da\u5206\u4eab\n",
        "37110                  [\u51fa\u552e] \u5fd7\u5149/\u5fd7\u8056/\u5b78\u5112/\u4fdd\u6210\u5206\u4eab\u5238 $10000\n",
        "37111                            [\u5fb5\u6c42]\u8b49\u4ea4\u6cd5\u3001\u5546\u6703\u6cd5DVD\u51fd\u6388\n",
        "37112                    [\u554f\u984c] \u8acb\u554f\u6797\u8559\u771f\u8001\u5e2b\u4e2d\u6703.\u9ad8\u6703 \u6700\u8fd1\u6709\u518d\u7248\u55ce\n",
        "37113                               [\u554f\u984c] \u5169\u984c\u5b58\u8ca8(\u521d\u6703)\n",
        "37114                              [\u554f\u984c] BOT\u4f01\u696d\u7a05\u52d9\u554f\u984c\n",
        "37115                          [\u554f\u984c] \u8acb\u554fP\u6240\u5c65\u6b77\u8868\u683c\u586b\u5beb\u5728\u54ea\u88e1\n",
        "37116                     [\u51fa\u552e]102\u5e74 \u5f35\u5efa\u662d-\u7a05\u52d9\u6cd5\u898f CD \u51fd\u6388\n",
        "37117    [\u552e\u66f8]Advanced Financial Accounting (IFRS)\n",
        "37118                                   [\u5fb5\u6c42] \u4e2d\u6703\u51fd\u6388\n",
        "37119                            [\u5fb5]\u9ad8\u9ede \u7a05\u52d9\u6cd5\u898f \u8a31\u78a7\u7389\u8001\u5e2b\n",
        "37120                            [\u51fa\u552e]\u9ad8\u9ede\u5468\u5f8b\u5e2b\u516c\u53f8\u6cd5/\u6298\u50f9\u5238\n",
        "37121                            [\u5fb5] \u738b\u4e0a\u9054\u653f\u5e9c\u6703\u8a08\u8ab2\u672c&\u984c\u5eab\n",
        "Name: title, Length: 37122, dtype: object"
       ]
      }
     ],
     "prompt_number": 8
    },
    {
     "cell_type": "code",
     "collapsed": false,
     "input": [
      "test = articles_df[\"title\"][0]\n",
      "print test"
     ],
     "language": "python",
     "metadata": {},
     "outputs": [
      {
       "output_type": "stream",
       "stream": "stdout",
       "text": [
        "[\u51fa\u552e] 102\u5e74\u8d85\u7d1a\u51fd\u6388 \u9ad8\u6703\u3001\u516c\u53f8\u6cd5\n"
       ]
      }
     ],
     "prompt_number": 9
    },
    {
     "cell_type": "code",
     "collapsed": false,
     "input": [
      "\n",
      "    \n",
      "print test\n",
      "# n = 3\n",
      "# len_text = len(test)\n",
      "# vec_size = len_text - n + 1\n",
      "\n",
      "# for k in range(len_text-n+1):\n",
      "#     print test[k:k+n]\n",
      "\n",
      "\n",
      "ngram = lambda text, n: (text[k:k+n] for k in range(len(text)-n+1))\n",
      "\n",
      "filtered_ngram = lambda text, n, filter_list=[]: (text[k:k+n] for k in range(len(text)-n+1) if not((text[k:k+n] in filter_list) and (len(text)>n)))\n",
      "# ngram = lambda text, n, filter_list=[]: [text[k:k+n] for k in range(len(text)-n+1) if not(text[k:k+n] in filter_list)]\n",
      "print ngram(test,2)\n",
      "\n",
      "\n",
      "# def ngram(text, n, filter_list=[]):\n",
      "#     print \"text = \",text\n",
      "#     print \"len(text) = \",len(text)\n",
      "#     for k in range(len(text)-n+1) :\n",
      "#         if not((text[k:k+n] in filter_list) and len(text)<n):\n",
      "            \n",
      "    \n",
      "\n",
      "\n",
      "# print \"\\n\".join(filtered_ngram(test,3))\n",
      "print \"\\n\".join(filtered_ngram(test,3, [u\"[\u51fa\u552e\"]))\n"
     ],
     "language": "python",
     "metadata": {},
     "outputs": [
      {
       "output_type": "stream",
       "stream": "stdout",
       "text": [
        "[\u51fa\u552e] 102\u5e74\u8d85\u7d1a\u51fd\u6388 \u9ad8\u6703\u3001\u516c\u53f8\u6cd5\n",
        "<generator object <genexpr> at 0x116246e0>\n",
        "\u51fa\u552e]\n",
        "\u552e] \n",
        "] 1\n",
        " 10\n",
        "102\n",
        "02\u5e74\n",
        "2\u5e74\u8d85\n",
        "\u5e74\u8d85\u7d1a\n",
        "\u8d85\u7d1a\u51fd\n",
        "\u7d1a\u51fd\u6388\n",
        "\u51fd\u6388 \n",
        "\u6388 \u9ad8\n",
        " \u9ad8\u6703\n",
        "\u9ad8\u6703\u3001\n",
        "\u6703\u3001\u516c\n",
        "\u3001\u516c\u53f8\n",
        "\u516c\u53f8\u6cd5\n"
       ]
      }
     ],
     "prompt_number": 10
    },
    {
     "cell_type": "code",
     "collapsed": false,
     "input": [
      "def tokenize(text):\n",
      "    if isinstance(text,(str,unicode)):\n",
      "        n = 2\n",
      "        return ngram(text,n)\n",
      "#         return [xx for xx in ngram(text,n) if len(xx.strip()) == n]\n",
      "    else:\n",
      "        return []\n",
      "\n",
      "print \"\\n\".join(tokenize(articles_df[\"title\"][0]))"
     ],
     "language": "python",
     "metadata": {},
     "outputs": [
      {
       "output_type": "stream",
       "stream": "stdout",
       "text": [
        "[\u51fa\n",
        "\u51fa\u552e\n",
        "\u552e]\n",
        "] \n",
        " 1\n",
        "10\n",
        "02\n",
        "2\u5e74\n",
        "\u5e74\u8d85\n",
        "\u8d85\u7d1a\n",
        "\u7d1a\u51fd\n",
        "\u51fd\u6388\n",
        "\u6388 \n",
        " \u9ad8\n",
        "\u9ad8\u6703\n",
        "\u6703\u3001\n",
        "\u3001\u516c\n",
        "\u516c\u53f8\n",
        "\u53f8\u6cd5\n"
       ]
      }
     ],
     "prompt_number": 79
    },
    {
     "cell_type": "code",
     "collapsed": false,
     "input": [
      "from sklearn.feature_extraction.text import CountVectorizer, TfidfVectorizer\n",
      "import numpy as np"
     ],
     "language": "python",
     "metadata": {},
     "outputs": [],
     "prompt_number": 80
    },
    {
     "cell_type": "code",
     "collapsed": false,
     "input": [
      "vec_count = CountVectorizer(tokenizer=tokenize,lowercase=False)\n",
      "vec_tfidf = TfidfVectorizer(tokenizer=tokenize,lowercase=False)"
     ],
     "language": "python",
     "metadata": {},
     "outputs": [],
     "prompt_number": 81
    },
    {
     "cell_type": "code",
     "collapsed": false,
     "input": [
      "print articles_df.shape\n",
      "boards_n_posts = articles_df.groupby(\"Board\").size()\n",
      "boards_n_posts"
     ],
     "language": "python",
     "metadata": {},
     "outputs": [
      {
       "output_type": "stream",
       "stream": "stdout",
       "text": [
        "(37122, 9)\n"
       ]
      },
      {
       "metadata": {},
       "output_type": "pyout",
       "prompt_number": 82,
       "text": [
        "Board\n",
        "Accounting    18786\n",
        "Physics       18336\n",
        "dtype: int64"
       ]
      }
     ],
     "prompt_number": 82
    },
    {
     "cell_type": "code",
     "collapsed": false,
     "input": [
      "boards_n_posts.index"
     ],
     "language": "python",
     "metadata": {},
     "outputs": [
      {
       "metadata": {},
       "output_type": "pyout",
       "prompt_number": 83,
       "text": [
        "Index([u'Accounting', u'Physics'], dtype='object')"
       ]
      }
     ],
     "prompt_number": 83
    },
    {
     "cell_type": "code",
     "collapsed": false,
     "input": [
      "\n",
      "boards = boards_n_posts.index\n",
      "boards"
     ],
     "language": "python",
     "metadata": {},
     "outputs": [
      {
       "metadata": {},
       "output_type": "pyout",
       "prompt_number": 84,
       "text": [
        "Index([u'Accounting', u'Physics'], dtype='object')"
       ]
      }
     ],
     "prompt_number": 84
    },
    {
     "cell_type": "code",
     "collapsed": false,
     "input": [
      "# articles_df[(articles_df[\"Board\"] == u'Physics') & (articles_df[\"user_id\"]==\"purestone\")].shape"
     ],
     "language": "python",
     "metadata": {},
     "outputs": [],
     "prompt_number": 85
    },
    {
     "cell_type": "code",
     "collapsed": false,
     "input": [
      "\n",
      "one_board = u'Accounting'\n",
      "one_uid = \"purestone\"\n",
      "\n",
      "\n",
      "class Text2Vec(dict):\n",
      "    def __init__(self, vec):\n",
      "        self[\"vec\"] = vec\n",
      "        \n",
      "    def fit(self, df_col):\n",
      "        self[\"sdtm\"] = self[\"vec\"].fit_transform(df_col)\n",
      "        \n",
      "    def sdtm_sum(self, axis=0):\n",
      "        assert len(self[\"sdtm\"].shape) >= axis\n",
      "        return self[\"sdtm\"].sum(axis=axis)\n",
      "    \n",
      "    def sdtm_mean(self, axis=0):\n",
      "        assert len(self[\"sdtm\"].shape) >= axis\n",
      "        return self[\"sdtm\"].sum(axis=axis)/float(self[\"sdtm\"].shape[axis])\n",
      "    \n",
      "    def summerize_word_count(self):\n",
      "        all_words = np.array(self[\"vec\"].get_feature_names())\n",
      "            \n",
      "        dt = np.dtype([('count', int), ('kws', \"<U%s\" % max(map(len,all_words))) ])\n",
      "        \n",
      "        self[\"word_count\"] = np.array(zip(self[\"sdtm\"].sum(axis=0).tolist()[0],all_words),dtype=dt)\n",
      "        \n",
      "        \n",
      "    \n",
      "    \n",
      "    def _get_top_k_words(self, top_k=None):\n",
      "        assert isinstance(top_k, int)\n",
      "        if top_k == 0:\n",
      "            return []\n",
      "            \n",
      "        else: \n",
      "                \n",
      "            #all_words = np.array(self[\"vec\"].get_feature_names())\n",
      "            #\n",
      "            #dt = np.dtype([('count', int), ('kws', \"<U%s\" % max(map(len,all_words))) ])\n",
      "            #\n",
      "            #word_counts = np.array(zip(self[\"sdtm\"].sum(axis=0).tolist()[0],all_words),dtype=dt)\n",
      "            \n",
      "            if not(\"word_count\" in self):\n",
      "                self.summerize_word_count()\n",
      "                    \n",
      "            if top_k > 0:\n",
      "                return np.sort(self[\"word_count\"],order=\"count\")[-top_k:][\"kws\"]\n",
      "                \n",
      "            else:\n",
      "                return np.sort(self[\"word_count\"],order=\"count\")[\"kws\"]\n",
      "                \n",
      "        \n",
      "    \n",
      "    def get_top_words(self, top_k=None, top_p=None):\n",
      "        assert isinstance(top_k, int) | isinstance(top_p, (int,float))\n",
      "        \n",
      "        if isinstance(top_p, (int,float)):\n",
      "            \n",
      "            _top_k = int(float(top_p)*self[\"sdtm\"].shape[0])\n",
      "            \n",
      "            print 'self[\"sdtm\"].shape[0] = ',self[\"sdtm\"].shape[0]\n",
      "            print \"top_p = \",top_p\n",
      "            print \"_top_k = \",_top_k\n",
      "            \n",
      "            return self._get_top_k_words(_top_k)\n",
      "            \n",
      "        \n",
      "        elif isinstance(top_k, int):\n",
      "            return self._get_top_k_words(top_k)\n",
      "        \n",
      "            \n",
      "            \n",
      "            \n",
      "                      \n",
      "        \n",
      "        \n",
      "        \n",
      "\n",
      "\n",
      "\n",
      "def vectorize_text(df=articles_df, colname=\"title\", query={\"Board\":one_board, \"user_id\":one_uid}, \n",
      "                   vect_gen=CountVectorizer, vect_gen_init_kwargs = {\"tokenizer\":tokenize,\"lowercase\":False}):    \n",
      "    \n",
      "    assert colname in df.columns\n",
      "    for c in query:\n",
      "        assert c in df.columns\n",
      "    \n",
      "    \n",
      "    text2vec = Text2Vec(vect_gen(**vect_gen_init_kwargs))\n",
      "    \n",
      "    query_conds = lambda :(df[i] == query[i] for i in query)\n",
      "    \n",
      "    qcs = query_conds()\n",
      "    \n",
      "    q_final = qcs.next()\n",
      "    \n",
      "    for q in qcs:\n",
      "        q_final = q_final & q\n",
      "    \n",
      "    q_df = df[q_final]\n",
      "    #print q_df.head()\n",
      "    \n",
      "    \n",
      "    text2vec.fit(q_df[colname])\n",
      "    \n",
      "    return text2vec\n",
      "        \n",
      "    \n",
      "    \n",
      "# print vectorize_text()[\"vec\"].get_feature_names()\n",
      "# vectorize_text(query={\"Board\":one_board})[\"sdtm\"]\n",
      "\n",
      "print \"\\n\".join(vectorize_text(query={\"Board\":one_board}).get_top_words(top_k=20))\n",
      "# print \"\\n\".join(vectorize_text(query={\"Board\":one_board}).get_top_words(top_p=0.1))\n",
      "\n",
      "# wc_matrix = vectorize_text(query={\"Board\":one_board}).get_top_words(top_k=20)\n",
      "# wc_matrix"
     ],
     "language": "python",
     "metadata": {},
     "outputs": [
      {
       "output_type": "stream",
       "stream": "stdout",
       "text": [
        "[\u51fa\n",
        " \u8acb\n",
        "\u552e]\n",
        "\u8a08\u5b78\n",
        "\u51fa\u552e\n",
        "\u6c42]\n",
        "\u4e2d\u6703\n",
        "\u8a08\u5e2b\n",
        "\u5fb5\u6c42\n",
        "10\n",
        "[\u5fb5\n",
        "e:\n",
        "Re\n",
        " [\n",
        ": \n",
        "\u6703\u8a08\n",
        "[\u554f\n",
        "\u984c]\n",
        "\u554f\u984c\n",
        "] \n"
       ]
      }
     ],
     "prompt_number": 86
    },
    {
     "cell_type": "code",
     "collapsed": false,
     "input": [
      "# print wc_matrix[wc_matrix[\"count\"] >= 2][\"kws\"].shape\n",
      "# print \"   \".join(wc_matrix[wc_matrix[\"count\"] >= 2][\"kws\"])\n"
     ],
     "language": "python",
     "metadata": {},
     "outputs": [],
     "prompt_number": 87
    },
    {
     "cell_type": "code",
     "collapsed": false,
     "input": [
      "test_t2v = vectorize_text(query={\"Board\":one_board})\n",
      "\n",
      "print test_t2v[\"sdtm\"].shape\n",
      "print test_t2v.get_top_words(top_k=20)\n",
      "wc_matrix = test_t2v[\"word_count\"]\n"
     ],
     "language": "python",
     "metadata": {},
     "outputs": [
      {
       "output_type": "stream",
       "stream": "stdout",
       "text": [
        "(18786, 30369)\n",
        "[u'[\\u51fa' u' \\u8acb' u'\\u552e]' u'\\u8a08\\u5b78' u'\\u51fa\\u552e'\n",
        " u'\\u6c42]' u'\\u4e2d\\u6703' u'\\u8a08\\u5e2b' u'\\u5fb5\\u6c42' u'10'\n",
        " u'[\\u5fb5' u'e:' u'Re' u' [' u': ' u'\\u6703\\u8a08' u'[\\u554f' u'\\u984c]'\n",
        " u'\\u554f\\u984c' u'] ']"
       ]
      },
      {
       "output_type": "stream",
       "stream": "stdout",
       "text": [
        "\n"
       ]
      }
     ],
     "prompt_number": 88
    },
    {
     "cell_type": "code",
     "collapsed": false,
     "input": [
      "filter_wc = test_t2v[\"word_count\"][test_t2v[\"word_count\"][\"count\"] > 2]\n",
      "filter_wc.shape"
     ],
     "language": "python",
     "metadata": {},
     "outputs": [
      {
       "metadata": {},
       "output_type": "pyout",
       "prompt_number": 89,
       "text": [
        "(10140,)"
       ]
      }
     ],
     "prompt_number": 89
    },
    {
     "cell_type": "code",
     "collapsed": false,
     "input": [
      "filter_wc.dtype.fields.keys()\n"
     ],
     "language": "python",
     "metadata": {},
     "outputs": [
      {
       "metadata": {},
       "output_type": "pyout",
       "prompt_number": 90,
       "text": [
        "['count', 'kws']"
       ]
      }
     ],
     "prompt_number": 90
    },
    {
     "cell_type": "code",
     "collapsed": false,
     "input": [
      "filter_wc_df = pd.DataFrame(map(pd.Series,zip(filter_wc[\"kws\"],filter_wc[\"count\"])))\n",
      "filter_wc_df.columns = [\"kws\",\"count\"]\n",
      "filter_wc_df = filter_wc_df.sort(\"count\",ascending=0)\n",
      "filter_wc_df = filter_wc_df.set_index(\"kws\")\n",
      "ax = filter_wc_df.head(20).plot(kind=\"bar\")\n",
      "ax.set_xticklabels(filter_wc_df.index, fontproperties=cfont)\n",
      "\n",
      "# ,fontproperties=cfont\n",
      "# filter_wc_df.head(20)"
     ],
     "language": "python",
     "metadata": {},
     "outputs": [
      {
       "metadata": {},
       "output_type": "pyout",
       "prompt_number": 91,
       "text": [
        "[<matplotlib.text.Text at 0x125d6610>,\n",
        " <matplotlib.text.Text at 0x128d3ad0>,\n",
        " <matplotlib.text.Text at 0x13adf510>,\n",
        " <matplotlib.text.Text at 0x12574f90>,\n",
        " <matplotlib.text.Text at 0x125f0e90>,\n",
        " <matplotlib.text.Text at 0x125f0710>,\n",
        " <matplotlib.text.Text at 0x125e9e10>,\n",
        " <matplotlib.text.Text at 0x13aefe50>,\n",
        " <matplotlib.text.Text at 0x13aef350>,\n",
        " <matplotlib.text.Text at 0x128cbb90>,\n",
        " <matplotlib.text.Text at 0x10adf1d0>,\n",
        " <matplotlib.text.Text at 0x10adf850>,\n",
        " <matplotlib.text.Text at 0x13afa890>,\n",
        " <matplotlib.text.Text at 0x13afa950>,\n",
        " <matplotlib.text.Text at 0x1252c610>,\n",
        " <matplotlib.text.Text at 0x1252c690>,\n",
        " <matplotlib.text.Text at 0x10afb090>,\n",
        " <matplotlib.text.Text at 0x12f1fa50>,\n",
        " <matplotlib.text.Text at 0x1252bed0>,\n",
        " <matplotlib.text.Text at 0x1252b7d0>]"
       ]
      },
      {
       "metadata": {},
       "output_type": "display_data",
       "png": "[encoded data removed]",
       "text": [
        "<matplotlib.figure.Figure at 0x12521cd0>"
       ]
      }
     ],
     "prompt_number": 91
    },
    {
     "cell_type": "code",
     "collapsed": false,
     "input": [],
     "language": "python",
     "metadata": {},
     "outputs": []
    },
    {
     "cell_type": "code",
     "collapsed": false,
     "input": [],
     "language": "python",
     "metadata": {},
     "outputs": []
    },
    {
     "cell_type": "code",
     "collapsed": false,
     "input": [
      "\n",
      "fig = pylab.figure()\n",
      "\n",
      "# axes = fig.get_axes()\n",
      "# print \"axes = \",axes\n",
      "\n",
      "axes1 = fig.add_axes([0.1, 0.1, 0.8, 0.8])\n",
      "\n",
      "\n",
      "x = np.linspace(0,1,101)\n",
      "\n",
      "axes1.plot(x,x**2,\"o-\")\n",
      "\n",
      "# axes = fig.get_axes()\n",
      "# print \"axes = \",axes\n",
      "\n",
      "\n",
      "\n"
     ],
     "language": "python",
     "metadata": {},
     "outputs": [
      {
       "metadata": {},
       "output_type": "pyout",
       "prompt_number": 40,
       "text": [
        "[<matplotlib.lines.Line2D at 0x127fbe50>]"
       ]
      },
      {
       "metadata": {},
       "output_type": "display_data",
       "png": "[encoded data removed]",
       "text": [
        "<matplotlib.figure.Figure at 0x109e24d0>"
       ]
      }
     ],
     "prompt_number": 40
    },
    {
     "cell_type": "code",
     "collapsed": false,
     "input": [],
     "language": "python",
     "metadata": {},
     "outputs": []
    },
    {
     "cell_type": "code",
     "collapsed": false,
     "input": [
      "one_board = boards[0]\n",
      "vec_count = CountVectorizer(tokenizer=tokenize,lowercase=False)\n",
      "data_count = vec_count.fit_transform(articles_df[\"title\"][articles_df[\"Board\"]==one_board])"
     ],
     "language": "python",
     "metadata": {},
     "outputs": [],
     "prompt_number": 40
    },
    {
     "cell_type": "code",
     "collapsed": false,
     "input": [
      "np.max(data_count.sum(axis=0)/float(boards_n_posts[one_board]))"
     ],
     "language": "python",
     "metadata": {},
     "outputs": [
      {
       "metadata": {},
       "output_type": "pyout",
       "prompt_number": 41,
       "text": [
        "0.59709358032577453"
       ]
      }
     ],
     "prompt_number": 41
    },
    {
     "cell_type": "code",
     "collapsed": false,
     "input": [
      "# dt = np.dtype([('count', int), ('idx', int) ])\n",
      "\n",
      "# all_words = vec_count.get_feature_names()\n",
      "# word_counts = np.array(zip(data_count.sum(axis=0).tolist()[0],range(len(all_words))),dtype=dt)\n",
      "# top_words = np.sort(word_counts,order=\"count\")[-40:][\"idx\"]"
     ],
     "language": "python",
     "metadata": {},
     "outputs": [],
     "prompt_number": 42
    },
    {
     "cell_type": "code",
     "collapsed": false,
     "input": [
      "\n",
      "all_words = np.array(vec_count.get_feature_names())\n",
      "\n",
      "dt = np.dtype([('count', int), ('kws', \"<U%s\" % max(map(len,all_words))) ])\n",
      "# dt\n",
      "\n",
      "word_counts = np.array(zip(data_count.sum(axis=0).tolist()[0],all_words),dtype=dt)\n",
      "# word_counts\n",
      "print len(np.sort(word_counts,order=\"count\")[-40:][\"kws\"])\n",
      "print \"\\n\".join(np.sort(word_counts,order=\"count\")[-40:][\"kws\"])"
     ],
     "language": "python",
     "metadata": {},
     "outputs": [
      {
       "output_type": "stream",
       "stream": "stdout",
       "text": [
        "40\n",
        "CPA\n",
        "\u66f8] \n",
        "] \u95dc\n",
        " \u95dc\u65bc\n",
        "\u4e8b\u52d9\u6240\n",
        "DVD\n",
        "] 9\n",
        "\u4e2d\u7d1a\u6703\n",
        " \u4e2d\u6703\n",
        "[\u552e\u66f8\n",
        "\u552e\u66f8]\n",
        "] \u4e2d\n",
        "\u7684\u554f\u984c\n",
        "] \u9ad8\n",
        "\u7d1a\u6703\u8a08\n",
        "100\n",
        "] 1\n",
        "\u6210\u7ba1\u6703\n",
        "101\n",
        "\u552e] \n",
        " 10\n",
        "...\n",
        "\u6c42] \n",
        "] \u6703\n",
        " \u8acb\u554f\n",
        " \u6703\u8a08\n",
        "\u6703\u8a08\u5b78\n",
        "\u51fa\u552e]\n",
        "[\u51fa\u552e\n",
        "] \u8acb\n",
        "\u5fb5\u6c42]\n",
        "[\u5fb5\u6c42\n",
        "\u6703\u8a08\u5e2b\n",
        " [\u554f\n",
        "e: \n",
        "Re:\n",
        ": [\n",
        "\u984c] \n",
        "\u554f\u984c]\n",
        "[\u554f\u984c"
       ]
      },
      {
       "output_type": "stream",
       "stream": "stdout",
       "text": [
        "\n"
       ]
      }
     ],
     "prompt_number": 43
    },
    {
     "cell_type": "code",
     "collapsed": false,
     "input": [
      "\n",
      "range(10)[-0:]\n"
     ],
     "language": "python",
     "metadata": {},
     "outputs": [
      {
       "metadata": {},
       "output_type": "pyout",
       "prompt_number": 44,
       "text": [
        "[0, 1, 2, 3, 4, 5, 6, 7, 8, 9]"
       ]
      }
     ],
     "prompt_number": 44
    },
    {
     "cell_type": "code",
     "collapsed": false,
     "input": [],
     "language": "python",
     "metadata": {},
     "outputs": [],
     "prompt_number": 44
    },
    {
     "cell_type": "code",
     "collapsed": false,
     "input": [],
     "language": "python",
     "metadata": {},
     "outputs": [],
     "prompt_number": 44
    },
    {
     "cell_type": "code",
     "collapsed": false,
     "input": [
      "# print zip([\"a\",\"b\"],[\"c\",\"d\"])\n",
      "print zip(\"ab\",\"cd\",\"ef\")"
     ],
     "language": "python",
     "metadata": {},
     "outputs": [
      {
       "output_type": "stream",
       "stream": "stdout",
       "text": [
        "[('a', 'c', 'e'), ('b', 'd', 'f')]\n"
       ]
      }
     ],
     "prompt_number": 45
    },
    {
     "cell_type": "code",
     "collapsed": false,
     "input": [],
     "language": "python",
     "metadata": {},
     "outputs": []
    },
    {
     "cell_type": "code",
     "collapsed": false,
     "input": [
      "data_count = vec_count.fit_transform(articles_df[\"title\"])"
     ],
     "language": "python",
     "metadata": {},
     "outputs": [],
     "prompt_number": 12
    },
    {
     "cell_type": "code",
     "collapsed": false,
     "input": [
      "type(data_count)"
     ],
     "language": "python",
     "metadata": {},
     "outputs": [
      {
       "metadata": {},
       "output_type": "pyout",
       "prompt_number": 20,
       "text": [
        "scipy.sparse.csc.csc_matrix"
       ]
      }
     ],
     "prompt_number": 20
    },
    {
     "cell_type": "code",
     "collapsed": false,
     "input": [
      "print data_count.toarray().shape\n",
      "print len(vec_count.get_feature_names())\n",
      "# print vec_count.get_feature_names()"
     ],
     "language": "python",
     "metadata": {},
     "outputs": [
      {
       "output_type": "stream",
       "stream": "stdout",
       "text": [
        "(37122, 55604)\n",
        "55604"
       ]
      },
      {
       "output_type": "stream",
       "stream": "stdout",
       "text": [
        "\n"
       ]
      }
     ],
     "prompt_number": 21
    },
    {
     "cell_type": "code",
     "collapsed": false,
     "input": [
      "# dtm_df = pd.SparseDataFrame([ pd.SparseSeries(data_count[i].toarray().ravel()) for i in np.arange(m.shape[0]) ])"
     ],
     "language": "python",
     "metadata": {},
     "outputs": []
    },
    {
     "cell_type": "code",
     "collapsed": false,
     "input": [
      "data_count.sum(axis=0)"
     ],
     "language": "python",
     "metadata": {},
     "outputs": [
      {
       "metadata": {},
       "output_type": "pyout",
       "prompt_number": 19,
       "text": [
        "matrix([[759,  12,  66, ...,   1,   1,   6]])"
       ]
      }
     ],
     "prompt_number": 19
    },
    {
     "cell_type": "code",
     "collapsed": false,
     "input": [
      "# import numpy as np \n",
      "# test = pd.SparseDataFrame([ pd.SparseSeries(data_count[i].toarray().ravel()) for i in np.arange(20) ])"
     ],
     "language": "python",
     "metadata": {},
     "outputs": [],
     "prompt_number": 39
    },
    {
     "cell_type": "code",
     "collapsed": false,
     "input": [],
     "language": "python",
     "metadata": {},
     "outputs": [
      {
       "metadata": {},
       "output_type": "pyout",
       "prompt_number": 30,
       "text": [
        "array([ 0,  1,  2,  3,  4,  5,  6,  7,  8,  9, 10, 11, 12, 13, 14, 15, 16,\n",
        "       17, 18])"
       ]
      }
     ],
     "prompt_number": 30
    },
    {
     "cell_type": "code",
     "collapsed": false,
     "input": [
      "dtm_df = pd.DataFrame(data_count.toarray())\n",
      "dtm_df.columns = vec_count.get_feature_names()\n",
      "dtm_df[\"board\"] = articles_df[\"Board\"]\n",
      "dtm_df.head()"
     ],
     "language": "python",
     "metadata": {},
     "outputs": [
      {
       "html": [
        "<div style=\"max-height:1000px;max-width:1500px;overflow:auto;\">\n",
        "<table border=\"1\" class=\"dataframe\">\n",
        "  <thead>\n",
        "    <tr style=\"text-align: right;\">\n",
        "      <th></th>\n",
        "      <th>  </th>\n",
        "      <th> !</th>\n",
        "      <th> \"</th>\n",
        "      <th> $</th>\n",
        "      <th> &amp;</th>\n",
        "      <th> '</th>\n",
        "      <th> (</th>\n",
        "      <th> )</th>\n",
        "      <th> *</th>\n",
        "      <th> +</th>\n",
        "      <th> ,</th>\n",
        "      <th> -</th>\n",
        "      <th> .</th>\n",
        "      <th> /</th>\n",
        "      <th> 0</th>\n",
        "      <th> 1</th>\n",
        "      <th> 2</th>\n",
        "      <th> 3</th>\n",
        "      <th> 4</th>\n",
        "      <th> 5</th>\n",
        "      <th></th>\n",
        "    </tr>\n",
        "  </thead>\n",
        "  <tbody>\n",
        "    <tr>\n",
        "      <th>0</th>\n",
        "      <td> 0</td>\n",
        "      <td> 0</td>\n",
        "      <td> 0</td>\n",
        "      <td> 0</td>\n",
        "      <td> 0</td>\n",
        "      <td> 0</td>\n",
        "      <td> 0</td>\n",
        "      <td> 0</td>\n",
        "      <td> 0</td>\n",
        "      <td> 0</td>\n",
        "      <td> 0</td>\n",
        "      <td> 0</td>\n",
        "      <td> 0</td>\n",
        "      <td> 0</td>\n",
        "      <td> 0</td>\n",
        "      <td> 1</td>\n",
        "      <td> 0</td>\n",
        "      <td> 0</td>\n",
        "      <td> 0</td>\n",
        "      <td> 0</td>\n",
        "      <td>...</td>\n",
        "    </tr>\n",
        "    <tr>\n",
        "      <th>1</th>\n",
        "      <td> 0</td>\n",
        "      <td> 0</td>\n",
        "      <td> 0</td>\n",
        "      <td> 0</td>\n",
        "      <td> 0</td>\n",
        "      <td> 0</td>\n",
        "      <td> 0</td>\n",
        "      <td> 0</td>\n",
        "      <td> 0</td>\n",
        "      <td> 0</td>\n",
        "      <td> 0</td>\n",
        "      <td> 0</td>\n",
        "      <td> 0</td>\n",
        "      <td> 0</td>\n",
        "      <td> 0</td>\n",
        "      <td> 0</td>\n",
        "      <td> 0</td>\n",
        "      <td> 0</td>\n",
        "      <td> 0</td>\n",
        "      <td> 0</td>\n",
        "      <td>...</td>\n",
        "    </tr>\n",
        "    <tr>\n",
        "      <th>2</th>\n",
        "      <td> 0</td>\n",
        "      <td> 0</td>\n",
        "      <td> 0</td>\n",
        "      <td> 0</td>\n",
        "      <td> 0</td>\n",
        "      <td> 0</td>\n",
        "      <td> 0</td>\n",
        "      <td> 0</td>\n",
        "      <td> 0</td>\n",
        "      <td> 0</td>\n",
        "      <td> 0</td>\n",
        "      <td> 0</td>\n",
        "      <td> 0</td>\n",
        "      <td> 0</td>\n",
        "      <td> 0</td>\n",
        "      <td> 0</td>\n",
        "      <td> 0</td>\n",
        "      <td> 0</td>\n",
        "      <td> 0</td>\n",
        "      <td> 0</td>\n",
        "      <td>...</td>\n",
        "    </tr>\n",
        "    <tr>\n",
        "      <th>3</th>\n",
        "      <td> 0</td>\n",
        "      <td> 0</td>\n",
        "      <td> 0</td>\n",
        "      <td> 0</td>\n",
        "      <td> 0</td>\n",
        "      <td> 0</td>\n",
        "      <td> 0</td>\n",
        "      <td> 0</td>\n",
        "      <td> 0</td>\n",
        "      <td> 0</td>\n",
        "      <td> 0</td>\n",
        "      <td> 0</td>\n",
        "      <td> 0</td>\n",
        "      <td> 0</td>\n",
        "      <td> 0</td>\n",
        "      <td> 0</td>\n",
        "      <td> 0</td>\n",
        "      <td> 0</td>\n",
        "      <td> 0</td>\n",
        "      <td> 0</td>\n",
        "      <td>...</td>\n",
        "    </tr>\n",
        "    <tr>\n",
        "      <th>4</th>\n",
        "      <td> 0</td>\n",
        "      <td> 0</td>\n",
        "      <td> 0</td>\n",
        "      <td> 0</td>\n",
        "      <td> 0</td>\n",
        "      <td> 0</td>\n",
        "      <td> 0</td>\n",
        "      <td> 0</td>\n",
        "      <td> 0</td>\n",
        "      <td> 0</td>\n",
        "      <td> 0</td>\n",
        "      <td> 0</td>\n",
        "      <td> 0</td>\n",
        "      <td> 0</td>\n",
        "      <td> 0</td>\n",
        "      <td> 0</td>\n",
        "      <td> 0</td>\n",
        "      <td> 0</td>\n",
        "      <td> 0</td>\n",
        "      <td> 0</td>\n",
        "      <td>...</td>\n",
        "    </tr>\n",
        "  </tbody>\n",
        "</table>\n",
        "<p>5 rows \u00d7 55605 columns</p>\n",
        "</div>"
       ],
       "metadata": {},
       "output_type": "pyout",
       "prompt_number": 14,
       "text": [
        "        !   \"   $   &   '   (   )   *   +   ,   -   .   /   0   1   2   3   4  \\\n",
        "0   0   0   0   0   0   0   0   0   0   0   0   0   0   0   0   1   0   0   0   \n",
        "1   0   0   0   0   0   0   0   0   0   0   0   0   0   0   0   0   0   0   0   \n",
        "2   0   0   0   0   0   0   0   0   0   0   0   0   0   0   0   0   0   0   0   \n",
        "3   0   0   0   0   0   0   0   0   0   0   0   0   0   0   0   0   0   0   0   \n",
        "4   0   0   0   0   0   0   0   0   0   0   0   0   0   0   0   0   0   0   0   \n",
        "\n",
        "    5      \n",
        "0   0 ...  \n",
        "1   0 ...  \n",
        "2   0 ...  \n",
        "3   0 ...  \n",
        "4   0 ...  \n",
        "\n",
        "[5 rows x 55605 columns]"
       ]
      }
     ],
     "prompt_number": 14
    },
    {
     "cell_type": "code",
     "collapsed": false,
     "input": [],
     "language": "python",
     "metadata": {},
     "outputs": [],
     "prompt_number": 15
    },
    {
     "cell_type": "code",
     "collapsed": false,
     "input": [],
     "language": "python",
     "metadata": {},
     "outputs": []
    }
   ],
   "metadata": {}
  }
 ]
}