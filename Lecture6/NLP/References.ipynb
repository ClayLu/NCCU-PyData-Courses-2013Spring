{
 "metadata": {
  "name": ""
 },
 "nbformat": 3,
 "nbformat_minor": 0,
 "worksheets": [
  {
   "cells": [
    {
     "cell_type": "markdown",
     "metadata": {},
     "source": [
      "# NLP Ref:"
     ]
    },
    {
     "cell_type": "markdown",
     "metadata": {},
     "source": [
      "-    ## [TextBlob](https://textblob.readthedocs.org/en/latest/index.html)\n",
      "-    ## [TextBlob Github](https://github.com/sloria/TextBlob)\n",
      "-    ## [SnowNLP Github](https://github.com/isnowfy/snownlp)\n",
      "-    ## [NLTK](http://nltk.org/index.html)\n",
      "-    ## [Jieba](https://github.com/fxsjy/jieba)\n",
      "\n",
      "-    #### [NLTK] http://blog.csdn.net/huyoo/article/details/12188573\n",
      "-    #### [re + NLTK] http://nltk.org/book/ch03.html \n",
      "\n",
      "-    ### [Regex] http://zh.wikipedia.org/wiki/%E6%AD%A3%E5%88%99%E8%A1%A8%E8%BE%BE%E5%BC%8F\n"
     ]
    },
    {
     "cell_type": "markdown",
     "metadata": {},
     "source": [
      "# Pandas Refs:\n",
      "\n",
      "-   ## [Time Series GroupBy](http://stackoverflow.com/questions/14301004/group-by-multiple-time-units-in-pandas-data-frame)\n"
     ]
    },
    {
     "cell_type": "code",
     "collapsed": false,
     "input": [],
     "language": "python",
     "metadata": {},
     "outputs": []
    }
   ],
   "metadata": {}
  }
 ]
}