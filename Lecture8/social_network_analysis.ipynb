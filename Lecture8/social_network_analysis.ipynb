{
 "metadata": {
  "name": ""
 },
 "nbformat": 3,
 "nbformat_minor": 0,
 "worksheets": [
  {
   "cells": [
    {
     "cell_type": "code",
     "collapsed": false,
     "input": [
      "%pylab inline"
     ],
     "language": "python",
     "metadata": {
      "slideshow": {
       "slide_type": "skip"
      }
     },
     "outputs": [
      {
       "output_type": "stream",
       "stream": "stdout",
       "text": [
        "Populating the interactive namespace from numpy and matplotlib\n"
       ]
      },
      {
       "output_type": "stream",
       "stream": "stderr",
       "text": [
        "WARNING: pylab import has clobbered these variables: ['f']\n",
        "`%pylab --no-import-all` prevents importing * from pylab and numpy\n"
       ]
      }
     ],
     "prompt_number": 27
    },
    {
     "cell_type": "markdown",
     "metadata": {
      "slideshow": {
       "slide_type": "slide"
      }
     },
     "source": [
      "# Social Network Analysis"
     ]
    },
    {
     "cell_type": "markdown",
     "metadata": {
      "slideshow": {
       "slide_type": "slide"
      }
     },
     "source": [
      "### Agenda\n",
      "+ What is Social Network?\n",
      "+ Why to Analyze Social Network?\n",
      "+ How to Analyze\n",
      "    * Social Network Connection (Oauth, Oauth2, OpenID)\n",
      "    * Facebook Analysis\n",
      "    * Twitter Analysis\n",
      "    * Linkedin Analysis"
     ]
    },
    {
     "cell_type": "markdown",
     "metadata": {
      "slideshow": {
       "slide_type": "slide"
      }
     },
     "source": [
      "### Social Network\n",
      "![](social-networking.png)"
     ]
    },
    {
     "cell_type": "markdown",
     "metadata": {
      "slideshow": {
       "slide_type": "slide"
      }
     },
     "source": [
      "###What is Social Network?\n",
      "Social network analysis (SNA) is the analysis of social networks. Social network analysis views social relationships in terms of network theory, consisting of nodes (representing individual actors within the network) and ties (which represent relationships between the individuals, such as friendship, kinship, organizations, sexual relationships, etc.)"
     ]
    },
    {
     "cell_type": "markdown",
     "metadata": {
      "slideshow": {
       "slide_type": "slide"
      }
     },
     "source": [
      "## Why Analyzing \n",
      "\n",
      "![](http://cdn.macado.com/assets/2010/03/peeping-tom.gif)"
     ]
    },
    {
     "cell_type": "markdown",
     "metadata": {
      "slideshow": {
       "slide_type": "slide"
      }
     },
     "source": [
      "### WHAT DO WE WANT TO KNOW?\n",
      "+ Who knows whom, and which people are common to their social networks?\n",
      "+ How frequently are particular people communicating with one another?\n",
      "+ Which social network connections generate the most value for a particular niche?\n",
      "+ How does geography affect your social connections in an online world?\n",
      "+ Who are the most influential/popular people in a social network?\n",
      "+ What are people chatting about (and is it valuable)?\n",
      "+ What are people interested in based upon the human language that they use in a digital world?"
     ]
    },
    {
     "cell_type": "markdown",
     "metadata": {
      "slideshow": {
       "slide_type": "slide"
      }
     },
     "source": [
      "## Link to social network analysis api\n",
      "\n",
      "+ OAuth Flow\n",
      "+ Oauth v.s. OAuth2\n",
      "+ OpenID"
     ]
    },
    {
     "cell_type": "markdown",
     "metadata": {
      "slideshow": {
       "slide_type": "slide"
      }
     },
     "source": [
      "### OAUTH FLOW\n",
      "\n",
      "#### Open standard for authorization. OAuth provides a method for clients to access server resources on behalf of a resource owner\n",
      "\n",
      "\n",
      "![](oauth.png)"
     ]
    },
    {
     "cell_type": "markdown",
     "metadata": {
      "slideshow": {
       "slide_type": "slide"
      }
     },
     "source": [
      "### DIFFERENCE BETWEEN OAUTH AND OAUTH2\n",
      "\n",
      "+ More OAuth Flows to allow better support for non-browser based applications\n",
      "+ OAuth 2.0 no longer requires client applications to have cryptography\n",
      "+ OAuth 2.0 signatures are much less complicated\n",
      "+ OAuth 2.0 Access tokens are \"short-lived\"\n",
      "+ OAuth 2.0 is meant to have a clean separation of roles between the server responsible for handling OAuth requests and the server handling user authorization"
     ]
    },
    {
     "cell_type": "markdown",
     "metadata": {
      "slideshow": {
       "slide_type": "slide"
      }
     },
     "source": [
      "### OPENID\n",
      "\n",
      "+ Open standard that allows users to be authenticated by certain co-operating sites\n",
      "\n",
      "![](openid.png)"
     ]
    },
    {
     "cell_type": "markdown",
     "metadata": {
      "slideshow": {
       "slide_type": "slide"
      }
     },
     "source": [
      "### Analysis fo Facebook\n",
      "![](fbp.png)"
     ]
    },
    {
     "cell_type": "markdown",
     "metadata": {
      "slideshow": {
       "slide_type": "slide"
      }
     },
     "source": [
      "### Analysis Procedure\n",
      "\n",
      "+ Ask Question\n",
      "+ Get Data From Social Network API (Using Urllib)\n",
      "+ Data Munging (Parsing JSON)\n",
      "+ Data Analysis (Aggregation, Network Analysis, Visualization)"
     ]
    },
    {
     "cell_type": "markdown",
     "metadata": {
      "slideshow": {
       "slide_type": "slide"
      }
     },
     "source": [
      "###Facebook Developer\n",
      "\n",
      "![](fb.png)"
     ]
    },
    {
     "cell_type": "code",
     "collapsed": false,
     "input": [
      "import urllib, json\n",
      "access_token = \"<your token>\"\n",
      "a = urllib.urlopen(\"https://graph.facebook.com/me?access_token=%s\"%(access_token))\n",
      "j = json.loads(a.read())\n",
      "print j[\"id\"]"
     ],
     "language": "python",
     "metadata": {
      "slideshow": {
       "slide_type": "slide"
      }
     },
     "outputs": [
      {
       "output_type": "stream",
       "stream": "stdout",
       "text": [
        "778224889\n"
       ]
      }
     ],
     "prompt_number": 7
    },
    {
     "cell_type": "markdown",
     "metadata": {
      "slideshow": {
       "slide_type": "slide"
      }
     },
     "source": [
      "### Questions:\n",
      "#### Who cares me the most?"
     ]
    },
    {
     "cell_type": "code",
     "collapsed": false,
     "input": [
      "a = urllib.urlopen(\"https://graph.facebook.com/me/posts?access_token=%s\"%(access_token))\n",
      "j = json.loads(a.read())\n",
      "data = j['data']\n",
      "dic = {}\n",
      "for i in range(0,len(data)):\n",
      "    if 'likes' in data[i]: \n",
      "        for likes in data[i]['likes']['data']:\n",
      "            if likes['name'] in dic:\n",
      "                dic[likes['name']]  =  dic[likes['name']] + 1\n",
      "            else:\n",
      "                dic[likes['name']]  = 1"
     ],
     "language": "python",
     "metadata": {
      "slideshow": {
       "slide_type": "slide"
      }
     },
     "outputs": [],
     "prompt_number": 2
    },
    {
     "cell_type": "code",
     "collapsed": false,
     "input": [
      "import operator\n",
      "sorted_x = sorted(dic.iteritems(), key=operator.itemgetter(1))\n",
      "sorted_x.reverse()\n",
      "for i in sorted_x[0:10]:\n",
      "    print i[0], i[1]"
     ],
     "language": "python",
     "metadata": {
      "slideshow": {
       "slide_type": "slide"
      }
     },
     "outputs": [
      {
       "output_type": "stream",
       "stream": "stdout",
       "text": [
        "Cherry Lin 6\n",
        "Chia Hsing Chiang 5\n",
        "Anderson Cheng 5\n",
        "Man-Kwan Shan 5\n",
        "Andy Kao 5\n",
        "Yu-Hsing Wu 5\n",
        "Linda Lin 4\n",
        "Chien-Hsun Chen 4\n",
        "\u9673\u5609\u8473 4\n",
        "Jack Hsu 4\n"
       ]
      }
     ],
     "prompt_number": 3
    },
    {
     "cell_type": "code",
     "collapsed": false,
     "input": [
      "mutual_friends = urllib.urlopen(\"https://graph.facebook.com/me/mutualfriends?access_token=%s\"%(access_token))\n",
      "friends_obj = json.loads(mutual_friends.read())\n",
      "print friends_obj['data'][0:5]"
     ],
     "language": "python",
     "metadata": {
      "slideshow": {
       "slide_type": "slide"
      }
     },
     "outputs": [
      {
       "output_type": "stream",
       "stream": "stdout",
       "text": [
        "[{u'name': u'John Chin', u'id': u'213091'}, {u'name': u'George Chang', u'id': u'348900117'}, {u'name': u'Yu-ching Lin', u'id': u'348900196'}, {u'name': u'Chung-Chiang Cheng', u'id': u'500828265'}, {u'name': u'Vera Huang', u'id': u'509547776'}]\n"
       ]
      }
     ],
     "prompt_number": 12
    },
    {
     "cell_type": "code",
     "collapsed": false,
     "input": [
      "import networkx as nx\n",
      "mutual_friends = {}\n",
      "\n",
      "for friend in friends_obj['data']:\n",
      "    r = urllib.urlopen(\"https://graph.facebook.com/%s/mutualfriends?access_token=%s\" % (friend['id'], access_token,) )     \n",
      "    response_data = json.loads(r.read())['data']\n",
      "    mutual_friends[friend['name']] = [ data['name'] for data in response_data ]\n",
      "    \n",
      "nxg = nx.Graph()\n",
      "[ nxg.add_edge('me', mf) for mf in mutual_friends ]\n",
      "[ nxg.add_edge(f1, f2)\n",
      "for f1 in mutual_friends\n",
      "for f2 in mutual_friends[f1] ]\n",
      "print nxg"
     ],
     "language": "python",
     "metadata": {
      "slideshow": {
       "slide_type": "slide"
      }
     },
     "outputs": [
      {
       "output_type": "stream",
       "stream": "stdout",
       "text": [
        "\n"
       ]
      }
     ],
     "prompt_number": 13
    },
    {
     "cell_type": "code",
     "collapsed": false,
     "input": [
      "print mutual_friends['Lee James']\n",
      "\n",
      "    #print i"
     ],
     "language": "python",
     "metadata": {
      "slideshow": {
       "slide_type": "slide"
      }
     },
     "outputs": [
      {
       "output_type": "stream",
       "stream": "stdout",
       "text": [
        "[u'Eric Lam', u'Brian Luan', u'Yulin Wen', u'\\u5f90\\u5b50\\u5ead', u'Ting-yu Wei', u'Darron Wang', u'Goofy Liao', u'Gary Kang', u'Cheryl Chuang', u'\\u8449\\u51cc\\u83ef', u'Jennifer Chang', u'Arthur Chuang', u'Veronica Victoria', u'Linda Lin', u'Yenhua Lin', u'Yao-Kun Chang', u'Yi Yi Lee', u'Seraph Kuo', u'David Chang', u'Wanjun Chu', u'Anita Lin', u'Hank Hsieh', u'Danny Chen', u'Tim Tseng', u'Peggy Lin', u'\\u5468\\u6015\\u751f', u'Jimmy Ko', u'Blade Lin', u'Kimi Shih', u'Alson Chang', u'\\u674e\\u5b89', u'Luke Lee', u'Pontes Wang', u'Maggie Lee', u'Arthur Chuang', u'Niki Lin', u'\\u694a\\u627f\\u6069', u'\\u67da\\u5b50', u'\\u856d\\u99ac\\u514b', u'Nina Chen', u'\\u5eab\\u67cf\\u8cc7\\u8a0a', u'\\u5f35\\u5c1a\\u5b87', u'KunSheng Chen', u'Sweetie Fu']\n"
       ]
      }
     ],
     "prompt_number": 14
    },
    {
     "cell_type": "markdown",
     "metadata": {
      "slideshow": {
       "slide_type": "slide"
      }
     },
     "source": [
      "### centrality\n",
      "of a vertex measures its relative importance within a graph. Applications include how influential a person is within a social network, how important a room is within a building (space syntax), and how well-used a road is within an urban network. "
     ]
    },
    {
     "cell_type": "markdown",
     "metadata": {
      "slideshow": {
       "slide_type": "slide"
      }
     },
     "source": [
      "### Betweenness centrality \n",
      "is a measure of a node's centrality in a network. It is equal to the number of shortest paths from all vertices to all others that pass through that node."
     ]
    },
    {
     "cell_type": "code",
     "collapsed": false,
     "input": [
      "from networkx import *\n",
      "\n",
      "# Compute Betweenness\n",
      "print(\"Betweenness\")\n",
      "b=betweenness_centrality(nxg)\n",
      "for v in nxg.nodes():  \n",
      "    print(\"%s %5.3f\"%(v,b[v]))"
     ],
     "language": "python",
     "metadata": {
      "slideshow": {
       "slide_type": "slide"
      }
     },
     "outputs": [
      {
       "output_type": "stream",
       "stream": "stdout",
       "text": [
        "Betweenness\n",
        "Vicki Chiu 0.001"
       ]
      },
      {
       "output_type": "stream",
       "stream": "stdout",
       "text": [
        "\n",
        "Pontes Wang 0.000\n",
        "KunSheng Chen 0.000\n",
        "Chung-Chiang Cheng 0.000\n",
        "\u5f90\u51e1\u8018 0.000\n",
        "Chao Ma 0.000\n",
        "Ariel Chen 0.000\n",
        "Echo Pan Pan 0.000\n",
        "Eric Chen 0.000\n",
        "Steve Chiu 0.000\n",
        "\u66fe\u5b50\u82b3 0.000\n",
        "Willy Kuo 0.002\n",
        "Chia-Chi Chang 0.007\n",
        "Pin-Yen Tsai 0.000\n",
        "\u9f94\u5fd7\u8c6a 0.000\n",
        "Hank Lai 0.000\n",
        "Maisir Mai 0.000\n",
        "Vera Huang 0.000\n",
        "Oliver Tsai 0.000\n",
        "Colin Lin 0.000\n",
        "\u6797\u5cfb\u53f3 0.000\n",
        "\u5f35\u5c1a\u5b87 0.000\n",
        "Reiny Song 0.000\n",
        "Hannah Chen 0.000\n",
        "Zoe Peng 0.000\n",
        "Svenja Hung 0.000\n",
        "Wick Gankanda 0.000\n",
        "Yao-Kun Chang 0.000\n",
        "Sky Tsai 0.000\n",
        "\u9673\u5609\u8473 0.000\n",
        "Evonne Ho 0.000\n",
        "Ya Fen Cheng 0.000\n",
        "Alson Chang 0.000\n",
        "Ryan Tu 0.000\n",
        "\u674e\u6615\u8fea 0.000\n",
        "Tzung-Ming Lin 0.000\n",
        "Elsie Hwang 0.001\n",
        "\u674e\u632f\u83ef 0.000\n",
        "Ellen Hsu 0.000\n",
        "Johnson Hsieh 0.000\n",
        "Chian Hsieh 0.001\n",
        "Hsiao-Fei Liu 0.000\n",
        "Chaoying Lin 0.000\n",
        "\u5eab\u67cf\u8cc7\u8a0a 0.000\n",
        "James Shen 0.000\n",
        "Aki Chang 0.000\n",
        "Phoebe Lin 0.000\n",
        "Yun Mou 0.000\n",
        "\u9673\u5a01\u4efb 0.000\n",
        "Ronny Wang 0.000\n",
        "\u4f55\u5b97\u7950 0.000\n",
        "Tse-Ching Ho 0.000\n",
        "\u9673\u4f73\u840d 0.000\n",
        "\u9673\u594e\u9298 0.005\n",
        "Roger Lo 0.000\n",
        "\u5289\u97cb\u5ef7 0.000\n",
        "Shinjou Fang 0.000\n",
        "\u7c21\u8cc7\u51f1 0.000\n",
        "me 0.891\n",
        "\u9673\u4f2f\u7147 0.000\n",
        "Wei-Ming Chao 0.001\n",
        "Mingshir Matt Lin 0.000\n",
        "Aelle Low 0.000\n",
        "Chien-Hsun Chen 0.000\n",
        "Wenchi Pan 0.000\n",
        "\u738b\u5c0f\u90c1 0.000\n",
        "\u4f55\u70b3\u5fb7 0.000\n",
        "Chun-Wei Hsu 0.000\n",
        "\u6797\u5609\u5b8f 0.000\n",
        "Jerry Tung 0.001\n",
        "Chih-En Chen 0.000\n",
        "Linhots Tsao 0.000\n",
        "Sunny Hu 0.000\n",
        "Chandler Liu 0.000\n",
        "Chia-Yi Yen 0.001\n",
        "Navi Wu 0.000\n",
        "Philip Zheng 0.000\n",
        "Arthur Chuang 0.000\n",
        "Jian-Da Huang 0.000\n",
        "\u8607\u5bb6\u8abc 0.000\n",
        "Wei-Lun Chang 0.000\n",
        "Joey Josphen Liu 0.000\n",
        "Chien-Ting Weng 0.000\n",
        "Anderson Cheng 0.001\n",
        "Smallmark Cheng 0.000\n",
        "Yi-chun Liu 0.000\n",
        "Joyce Liu 0.000\n",
        "Eason Kao 0.000\n",
        "\u6234\u7152\u73c9 0.000\n",
        "Gdwendolyn Chen 0.000\n",
        "Wen-Ching Chan 0.000\n",
        "YingChun Lin 0.000\n",
        "Wang Ching-Hui 0.000\n",
        "Jennifer Chang 0.000\n",
        "Chia-Chen Kuo 0.000\n",
        "Tony Wang 0.000\n",
        "Wu Wen Hsuan 0.000\n",
        "Katherine Chuang 0.000\n",
        "\u5f90\u5b50\u5ead 0.000\n",
        "Will Hu 0.000\n",
        "Neversay Chen 0.000\n",
        "\u675c\u5609\u96ef 0.000\n",
        "Sheng-Wei Kuan-Ta Chen 0.000\n",
        "Nina Chen 0.000\n",
        "Liang Bo Wang 0.000\n",
        "\u856d\u99ac\u514b 0.000\n",
        "ChiChi Tsai 0.000\n",
        "Casey Lee 0.001\n",
        "Jay Chen 0.000\n",
        "Seraph Kuo 0.000\n",
        "Brian Luan 0.003\n",
        "Vincent Lee 0.000\n",
        "Pei-min Yeh 0.000\n",
        "Jack Hsu 0.000\n",
        "\u694a\u8339\u7433 0.000\n",
        "Bruce Lee 0.000\n",
        "Bright Wang 0.000\n",
        "Kevinjay Chan 0.000\n",
        "Wise Huang 0.000\n",
        "Paul Mao 0.000\n",
        "Serena LI 0.000\n",
        "Kimi Shih 0.000\n",
        "\u6797\u5b8f\u8afa 0.001\n",
        "Lock Chou 0.000\n",
        "Gilbert Liou 0.000\n",
        "Tim Hsu 0.002\n",
        "Jia-Je Li 0.000\n",
        "Chen John Lin 0.000\n",
        "Leroy Yang 0.000\n",
        "Herng Lee 0.000\n",
        "Gary Kang 0.000\n",
        "Lawrence Chen 0.000\n",
        "\u5433\u69ae\u8f1d 0.000\n",
        "\u6797\u5cfb\u9038 0.000\n",
        "Vin Wu 0.000\n",
        "Danny Chen 0.001\n",
        "\u674e\u5b89 0.000\n",
        "PyCon TW 0.000\n",
        "John Chin 0.000\n",
        "Anita Tsai 0.000\n",
        "Cherry Lin 0.001\n",
        "Hui-Ching Wu 0.000\n",
        "Keil Yang 0.000\n",
        "High-Quality Milk 0.000\n",
        "\u6797\u6021\u5b89 0.000\n",
        "\u5433\u5c0f\u6770 0.000\n",
        "Shang-Wen Tsai 0.000\n",
        "Theo Tsai 0.000\n",
        "Mansun Kuo 0.000\n",
        "Hana Tai 0.000\n",
        "\u9673\u79c9\u798e 0.000\n",
        "Tsui-Chin Huang 0.000\n",
        "Ya Ting Chang 0.000\n",
        "Lanf Liu 0.000\n",
        "Maggie Lee 0.000\n",
        "Man-Kwan Shan 0.002\n",
        "Kungfuyaya Chao 0.000\n",
        "Hsieh-Chen Tsai 0.000\n",
        "Carole Chiang 0.000\n",
        "Peggy Lin 0.000\n",
        "\u674e\u5049\u8a8c 0.000\n",
        "Richard Peng 0.000\n",
        "David Chang 0.000\n",
        "Chucheng Lin 0.000\n",
        "Karen  Liao 0.000\n",
        "Yi-Chin Huang 0.000\n",
        "\u5f35\u5b87\u5d34 0.000\n",
        "Dean Tsai 0.000\n",
        "David Lin 0.000\n",
        "\u694a\u627f\u6069 0.000\n",
        "Chihyu Chang 0.000\n",
        "Johnny Chang 0.000\n",
        "Donna Hu 0.000\n",
        "Jen Ho Yang 0.000\n",
        "\u5468\u6015\u751f 0.000\n",
        "Sunny Lin 0.000\n",
        "Jabari  Hsu 0.000\n",
        "Kuan Hsien Wu 0.000\n",
        "\u9ad8\u5ee3\u7de9 0.000\n",
        "Nina Wang Chienyu 0.000\n",
        "\u6797\u5146\u967d 0.000\n",
        "Chia Hsing Chiang 0.000\n",
        "Anita Lin 0.000\n",
        "Ariel Lin 0.000\n",
        "Lee James 0.000\n",
        "Yenhua Lin 0.000\n",
        "Ting-yu Wei 0.000\n",
        "\u4ea4\u9ede 0.000\n",
        "George Chang 0.000\n",
        "Denny Wu 0.000\n",
        "Emma Ching-Hsing Lin 0.000\n",
        "Vincent Wang 0.000\n",
        "Yi-Lin Huang 0.000\n",
        "Yu-ching Lin 0.000\n",
        "\u7530\u5cb3\u8862 0.000\n",
        "Jui-Yang Chang 0.000\n",
        "Grace Yin 0.000\n",
        "\u95bb\u660e\u7965 0.000\n",
        "\u5468\u9f4a 0.000\n",
        "Tzu-Wei Lin 0.000\n",
        "Kenny Yao-Chuan Wu 0.001\n",
        "Elsa  Lee 0.000\n",
        "Ming Wen 0.000\n",
        "Pavel Michalov 0.000\n",
        "Chun-Chi Hsu 0.000\n",
        "Sherry White 0.000\n",
        "Shih-Bin Wu 0.000\n",
        "Chloris Kuo 0.000\n",
        "Jerry Liao 0.000\n",
        "Camille Shen 0.000\n",
        "Mitter Chiang 0.000\n",
        "Yu-Hsing Wu 0.000\n",
        "Ji Chen Zheng 0.000\n",
        "Uni Huang 0.000\n",
        "Nico Chen 0.000\n",
        "Sweetie Fu 0.000\n",
        "Yiling Chen 0.000\n",
        "Yulin Wen 0.000\n",
        "James Skiky Hsiao 0.000\n",
        "Angeline Hsu 0.000\n",
        "Yu-Chi Wu 0.000\n",
        "\u5442\u79c9\u6d0b 0.000\n",
        "Jeffrey Chen 0.000\n",
        "Ethan Lin 0.000\n",
        "\u59dc\u535a\u701a 0.000\n",
        "\u8a79\u6587\u8cd3 0.000\n",
        "Cher Shan Yee 0.000\n",
        "\u8a31\u929a\u929a 0.000\n",
        "Cloud Chen 0.000\n",
        "Tiger Hsieh 0.001\n",
        "Yu-Chun Wang 0.000\n",
        "\u9ec3\u79c9\u79d1 0.000\n",
        "\u5f35\u83e1\u5ead 0.000\n",
        "George Ho 0.000\n",
        "Charles Wei 0.000\n",
        "Sonia Ting 0.000\n",
        "Autumn Yuan 0.000\n",
        "\u5433\u67cf\u7ff0 0.000\n",
        "Lov Phi 0.000\n",
        "\u738b\u6d77\u5a01 0.001\n",
        "\u6e38\u5275\u5091 0.000\n",
        "Shiang Shiang 0.000\n",
        "Rex Chen 0.000\n",
        "Jubing Chen 0.000\n",
        "Hern\u00e1n Garron Le\u00f3n 0.000\n",
        "Yu-Shuen Tsai 0.000\n",
        "Tai-Wei Hwang 0.001\n",
        "Michelle Wang 0.000\n",
        "Cheng-Yu Lin 0.000\n",
        "Simon Jan 0.000\n",
        "\u9f94\u8000\u5149 0.001\n",
        "Orange Liu 0.000\n",
        "Eric Lam 0.000\n",
        "Li Hao Cho 0.000\n",
        "Hank Hsieh 0.000\n",
        "Huge Huang 0.001\n",
        "Lawrence Lee 0.000\n",
        "GB Black 0.000\n",
        "Nigel Shiu 0.000\n",
        "\u5289\u5c0f\u514b 0.000\n",
        "Hui Tsung Tseng 0.000\n",
        "Richard Lin 0.001\n",
        "Max Hsu 0.000\n",
        "Titan Jer-ming Lin 0.000\n",
        "Kenneth Lu 0.000\n",
        "\u6797\u6b23\u6021 0.000\n",
        "Zhi Yan Lin 0.000\n",
        "Hsiao-Yin Chou 0.000\n",
        "Evaleen Chen 0.000\n",
        "Daniel Hsu 0.000\n",
        "Jack Chan 0.000\n",
        "Chen Hsiang Ting 0.000\n",
        "Cookie Huang 0.000\n",
        "Chia-Yu Hsu 0.000\n",
        "\u5442\u660e\u6b23 0.001\n",
        "Ruby Chien 0.000\n",
        "Amy Y. Chen 0.000\n",
        "Cheng-Yi Yu 0.000\n",
        "Hsi-Chuan Chen 0.000\n",
        "Colin Su 0.000\n",
        "Bo-Wen Shih 0.000\n",
        "Fu-te Wong 0.000\n",
        "Wen-Ting Chen 0.000\n",
        "Yung-Ching Chang 0.000\n",
        "Tim Tseng 0.000\n",
        "Chun-Teh Chen 0.000\n",
        "\u5433\u5f26\u7ff0 0.000\n",
        "Jimmy Ko 0.000\n",
        "\u67da\u5b50 0.000\n",
        "Cherubim Chang 0.000\n",
        "Alex Su 0.000\n",
        "Cottonclaw Yang 0.000\n",
        "Ying-Shao Lin 0.000\n",
        "Andy Kao 0.000\n",
        "Nelson Pang 0.000\n",
        "Tetsu Wu 0.000\n",
        "Hung-Yen Chen 0.000\n",
        "Yi-Hsi Lee 0.000\n",
        "Lu Wei 0.001\n",
        "Polly Huang 0.000\n",
        "Chao-Wei Chen 0.000\n",
        "Darron Wang 0.000\n",
        "Cheryl Chuang 0.000\n",
        "Niki Lin 0.000\n",
        "Ahrimian Tseng 0.000\n",
        "Chung-Han Yang 0.000\n",
        "Yi-Wei Chia 0.000\n",
        "Darien Yang 0.000\n",
        "Liang  Sonia 0.000\n",
        "Yuanyu Tseng 0.000\n",
        "Wanjun Chu 0.000\n",
        "\u9673\u7fa9\u6f84 0.000\n",
        "Jason Chang 0.000\n",
        "\u9ece\u50b3\u8056 0.000\n",
        "\u8449\u51cc\u83ef 0.000\n",
        "Mathias Luik 0.000\n",
        "Blade Lin 0.000\n",
        "\u5433\u5efa\u826f 0.000\n",
        "Yuming Hsu 0.000\n",
        "\u9ec3\u5049\u5609 0.000\n",
        "\u5ed6\u661f\u51f1 0.000\n",
        "Nathan Hsu 0.000\n",
        "\u9ec3\u745e\u862d 0.000\n",
        "Bobby Lee 0.000\n",
        "Rynn Chen 0.000\n",
        "Yi Yi Lee 0.000\n",
        "Veronica Victoria 0.000\n",
        "Elly Lin 0.000\n",
        "\u5f6d\u5c0f\u958b 0.000\n",
        "Joseph Yang 0.000\n",
        "Momo Tseng 0.000\n",
        "\u674e\u54a6\u8cc4 0.000\n",
        "Linda Lin 0.000\n",
        "\u7c21\u4e8e\u51f1 0.000\n",
        "Luke Lee 0.000\n",
        "Wush Wu 0.001\n",
        "Goofy Liao 0.000\n",
        "Cheng-Te Li 0.001\n",
        "TingHao Chang 0.000\n",
        "Jeff Lin 0.000\n",
        "Franky Yu 0.000\n",
        "Tiffany Shu 0.000\n",
        "Chin-I Liaw 0.000\n"
       ]
      }
     ],
     "prompt_number": 15
    },
    {
     "cell_type": "markdown",
     "metadata": {
      "slideshow": {
       "slide_type": "slide"
      }
     },
     "source": [
      "### degree centrality \n",
      "which is defined as the number of links incident upon a node (i.e., the number of ties that a node has). The degree can be interpreted in terms of the immediate risk of a node for catching whatever is flowing through the network (such as a virus, or some information)."
     ]
    },
    {
     "cell_type": "code",
     "collapsed": false,
     "input": [
      "# Degree centrality\n",
      "print(\"Degree centrality\")\n",
      "d=degree_centrality(nxg)\n",
      "for v in nxg.nodes():\n",
      "    print(\"%s %5.3f\"%(v,d[v]))"
     ],
     "language": "python",
     "metadata": {
      "slideshow": {
       "slide_type": "slide"
      }
     },
     "outputs": [
      {
       "output_type": "stream",
       "stream": "stdout",
       "text": [
        "Degree centrality\n",
        "Vicki Chiu 0.050\n",
        "Pontes Wang 0.076\n",
        "KunSheng Chen 0.085\n",
        "Chung-Chiang Cheng 0.094\n",
        "\u5f90\u51e1\u8018 0.012\n",
        "Chao Ma 0.009\n",
        "Ariel Chen 0.096\n",
        "Echo Pan Pan 0.003\n",
        "Eric Chen 0.056\n",
        "Steve Chiu 0.035\n",
        "\u66fe\u5b50\u82b3 0.050\n",
        "Willy Kuo 0.088\n",
        "Chia-Chi Chang 0.149\n",
        "Pin-Yen Tsai 0.012\n",
        "\u9f94\u5fd7\u8c6a 0.050\n",
        "Hank Lai 0.050\n",
        "Maisir Mai 0.053\n",
        "Vera Huang 0.009\n",
        "Oliver Tsai 0.058\n",
        "Colin Lin 0.058\n",
        "\u6797\u5cfb\u53f3 0.032\n",
        "\u5f35\u5c1a\u5b87 0.149\n",
        "Reiny Song 0.009\n",
        "Hannah Chen 0.061\n",
        "Zoe Peng 0.009\n",
        "Svenja Hung 0.053\n",
        "Wick Gankanda 0.006\n",
        "Yao-Kun Chang 0.073\n",
        "Sky Tsai 0.035\n",
        "\u9673\u5609\u8473 0.035\n",
        "Evonne Ho 0.026\n",
        "Ya Fen Cheng 0.073\n",
        "Alson Chang 0.135\n",
        "Ryan Tu 0.044\n",
        "\u674e\u6615\u8fea 0.018\n",
        "Tzung-Ming Lin 0.099\n",
        "Elsie Hwang 0.085\n",
        "\u674e\u632f\u83ef 0.035\n",
        "Ellen Hsu 0.006\n",
        "Johnson Hsieh 0.032\n",
        "Chian Hsieh 0.105\n",
        "Hsiao-Fei Liu 0.018\n",
        "Chaoying Lin 0.009\n",
        "\u5eab\u67cf\u8cc7\u8a0a 0.079\n",
        "James Shen 0.032\n",
        "Aki Chang 0.023\n",
        "Phoebe Lin 0.029\n",
        "Yun Mou 0.012\n",
        "\u9673\u5a01\u4efb 0.117\n",
        "Ronny Wang 0.023\n",
        "\u4f55\u5b97\u7950 0.026\n",
        "Tse-Ching Ho 0.012\n",
        "\u9673\u4f73\u840d 0.003\n",
        "\u9673\u594e\u9298 0.129\n",
        "Roger Lo 0.053\n",
        "\u5289\u97cb\u5ef7 0.056\n",
        "Shinjou Fang 0.009\n",
        "\u7c21\u8cc7\u51f1 0.044\n",
        "me 1.000\n",
        "\u9673\u4f2f\u7147 0.079\n",
        "Wei-Ming Chao 0.091\n",
        "Mingshir Matt Lin 0.009\n",
        "Aelle Low 0.003\n",
        "Chien-Hsun Chen 0.041\n",
        "Wenchi Pan 0.044\n",
        "\u738b\u5c0f\u90c1 0.020\n",
        "\u4f55\u70b3\u5fb7 0.009\n",
        "Chun-Wei Hsu 0.047\n",
        "\u6797\u5609\u5b8f 0.041\n",
        "Jerry Tung 0.064\n",
        "Chih-En Chen 0.015\n",
        "Linhots Tsao 0.035\n",
        "Sunny Hu 0.003\n",
        "Chandler Liu 0.038\n",
        "Chia-Yi Yen 0.067\n",
        "Navi Wu 0.058\n",
        "Philip Zheng 0.023\n",
        "Arthur Chuang 0.108\n",
        "Jian-Da Huang 0.029\n",
        "\u8607\u5bb6\u8abc 0.041\n",
        "Wei-Lun Chang 0.029\n",
        "Joey Josphen Liu 0.026\n",
        "Chien-Ting Weng 0.041\n",
        "Anderson Cheng 0.091\n",
        "Smallmark Cheng 0.018\n",
        "Yi-chun Liu 0.020\n",
        "Joyce Liu 0.006\n",
        "Eason Kao 0.064\n",
        "\u6234\u7152\u73c9 0.032\n",
        "Gdwendolyn Chen 0.023\n",
        "Wen-Ching Chan 0.032\n",
        "YingChun Lin 0.003\n",
        "Wang Ching-Hui 0.023\n",
        "Jennifer Chang 0.149\n",
        "Chia-Chen Kuo 0.009\n",
        "Tony Wang 0.050\n",
        "Wu Wen Hsuan 0.015\n",
        "Katherine Chuang 0.020\n",
        "\u5f90\u5b50\u5ead 0.129\n",
        "Will Hu 0.067\n",
        "Neversay Chen 0.041\n",
        "\u675c\u5609\u96ef 0.003\n",
        "Sheng-Wei Kuan-Ta Chen 0.038\n",
        "Nina Chen 0.114\n",
        "Liang Bo Wang 0.056\n",
        "\u856d\u99ac\u514b 0.137\n",
        "ChiChi Tsai 0.026\n",
        "Casey Lee 0.079\n",
        "Jay Chen 0.041\n",
        "Seraph Kuo 0.082\n",
        "Brian Luan 0.161\n",
        "Vincent Lee 0.041\n",
        "Pei-min Yeh 0.047\n",
        "Jack Hsu 0.003\n",
        "\u694a\u8339\u7433 0.009\n",
        "Bruce Lee 0.009\n",
        "Bright Wang 0.023\n",
        "Kevinjay Chan 0.020\n",
        "Wise Huang 0.035\n",
        "Paul Mao 0.114\n",
        "Serena LI 0.023\n",
        "Kimi Shih 0.088\n",
        "\u6797\u5b8f\u8afa 0.053\n",
        "Lock Chou 0.053\n",
        "Gilbert Liou 0.029\n",
        "Tim Hsu 0.088\n",
        "Jia-Je Li 0.012\n",
        "Chen John Lin 0.029\n",
        "Leroy Yang 0.050\n",
        "Herng Lee 0.009\n",
        "Gary Kang 0.158\n",
        "Lawrence Chen 0.003\n",
        "\u5433\u69ae\u8f1d 0.035\n",
        "\u6797\u5cfb\u9038 0.003\n",
        "Vin Wu 0.026\n",
        "Danny Chen 0.132\n",
        "\u674e\u5b89 0.146\n",
        "PyCon TW 0.026\n",
        "John Chin 0.009\n",
        "Anita Tsai 0.006\n",
        "Cherry Lin 0.041\n",
        "Hui-Ching Wu 0.041\n",
        "Keil Yang 0.006\n",
        "High-Quality Milk 0.023\n",
        "\u6797\u6021\u5b89 0.032\n",
        "\u5433\u5c0f\u6770 0.009\n",
        "Shang-Wen Tsai 0.058\n",
        "Theo Tsai 0.056\n",
        "Mansun Kuo 0.018\n",
        "Hana Tai 0.023\n",
        "\u9673\u79c9\u798e 0.064\n",
        "Tsui-Chin Huang 0.018\n",
        "Ya Ting Chang 0.035\n",
        "Lanf Liu 0.032\n",
        "Maggie Lee 0.149\n",
        "Man-Kwan Shan 0.099\n",
        "Kungfuyaya Chao 0.053\n",
        "Hsieh-Chen Tsai 0.044\n",
        "Carole Chiang 0.056\n",
        "Peggy Lin 0.091\n",
        "\u674e\u5049\u8a8c 0.050\n",
        "Richard Peng 0.044\n",
        "David Chang 0.129\n",
        "Chucheng Lin 0.018\n",
        "Karen  Liao 0.006\n",
        "Yi-Chin Huang 0.073\n",
        "\u5f35\u5b87\u5d34 0.082\n",
        "Dean Tsai 0.044\n",
        "David Lin 0.038\n",
        "\u694a\u627f\u6069 0.076\n",
        "Chihyu Chang 0.061\n",
        "Johnny Chang 0.020\n",
        "Donna Hu 0.050\n",
        "Jen Ho Yang 0.032\n",
        "\u5468\u6015\u751f 0.085\n",
        "Sunny Lin 0.032\n",
        "Jabari  Hsu 0.023\n",
        "Kuan Hsien Wu 0.003\n",
        "\u9ad8\u5ee3\u7de9 0.015\n",
        "Nina Wang Chienyu 0.003\n",
        "\u6797\u5146\u967d 0.009\n",
        "Chia Hsing Chiang 0.012\n",
        "Anita Lin 0.099\n",
        "Ariel Lin 0.050\n",
        "Lee James 0.129\n",
        "Yenhua Lin 0.105\n",
        "Ting-yu Wei 0.091\n",
        "\u4ea4\u9ede 0.023\n",
        "George Chang 0.015\n",
        "Denny Wu 0.050\n",
        "Emma Ching-Hsing Lin 0.006\n",
        "Vincent Wang 0.023\n",
        "Yi-Lin Huang 0.029\n",
        "Yu-ching Lin 0.012\n",
        "\u7530\u5cb3\u8862 0.018\n",
        "Jui-Yang Chang 0.053\n",
        "Grace Yin 0.070\n",
        "\u95bb\u660e\u7965 0.047\n",
        "\u5468\u9f4a 0.006\n",
        "Tzu-Wei Lin 0.038\n",
        "Kenny Yao-Chuan Wu 0.096\n",
        "Elsa  Lee 0.035\n",
        "Ming Wen 0.009\n",
        "Pavel Michalov 0.003\n",
        "Chun-Chi Hsu 0.015\n",
        "Sherry White 0.006\n",
        "Shih-Bin Wu 0.076\n",
        "Chloris Kuo 0.032\n",
        "Jerry Liao 0.041\n",
        "Camille Shen 0.023\n",
        "Mitter Chiang 0.085\n",
        "Yu-Hsing Wu 0.053\n",
        "Ji Chen Zheng 0.026\n",
        "Uni Huang 0.023\n",
        "Nico Chen 0.038\n",
        "Sweetie Fu 0.085\n",
        "Yiling Chen 0.020\n",
        "Yulin Wen 0.135\n",
        "James Skiky Hsiao 0.012\n",
        "Angeline Hsu 0.061\n",
        "Yu-Chi Wu 0.073\n",
        "\u5442\u79c9\u6d0b 0.023\n",
        "Jeffrey Chen 0.044\n",
        "Ethan Lin 0.026\n",
        "\u59dc\u535a\u701a 0.006\n",
        "\u8a79\u6587\u8cd3 0.079\n",
        "Cher Shan Yee 0.012\n",
        "\u8a31\u929a\u929a 0.076\n",
        "Cloud Chen 0.032\n",
        "Tiger Hsieh 0.067\n",
        "Yu-Chun Wang 0.079\n",
        "\u9ec3\u79c9\u79d1 0.023\n",
        "\u5f35\u83e1\u5ead 0.012\n",
        "George Ho 0.020\n",
        "Charles Wei 0.073\n",
        "Sonia Ting 0.029\n",
        "Autumn Yuan 0.006\n",
        "\u5433\u67cf\u7ff0 0.047\n",
        "Lov Phi 0.015\n",
        "\u738b\u6d77\u5a01 0.056\n",
        "\u6e38\u5275\u5091 0.035\n",
        "Shiang Shiang 0.012\n",
        "Rex Chen 0.056\n",
        "Jubing Chen 0.064\n",
        "Hern\u00e1n Garron Le\u00f3n 0.009\n",
        "Yu-Shuen Tsai 0.032\n",
        "Tai-Wei Hwang 0.076\n",
        "Michelle Wang 0.050\n",
        "Cheng-Yu Lin 0.026\n",
        "Simon Jan 0.026\n",
        "\u9f94\u8000\u5149 0.076\n",
        "Orange Liu 0.029\n",
        "Eric Lam 0.099\n",
        "Li Hao Cho 0.073\n",
        "Hank Hsieh 0.105\n",
        "Huge Huang 0.070\n",
        "Lawrence Lee 0.038\n",
        "GB Black 0.015\n",
        "Nigel Shiu 0.023\n",
        "\u5289\u5c0f\u514b 0.038\n",
        "Hui Tsung Tseng 0.020\n",
        "Richard Lin 0.061\n",
        "Max Hsu 0.050\n",
        "Titan Jer-ming Lin 0.020\n",
        "Kenneth Lu 0.058\n",
        "\u6797\u6b23\u6021 0.012\n",
        "Zhi Yan Lin 0.061\n",
        "Hsiao-Yin Chou 0.047\n",
        "Evaleen Chen 0.018\n",
        "Daniel Hsu 0.009\n",
        "Jack Chan 0.067\n",
        "Chen Hsiang Ting 0.032\n",
        "Cookie Huang 0.029\n",
        "Chia-Yu Hsu 0.085\n",
        "\u5442\u660e\u6b23 0.105\n",
        "Ruby Chien 0.012\n",
        "Amy Y. Chen 0.047\n",
        "Cheng-Yi Yu 0.015\n",
        "Hsi-Chuan Chen 0.009\n",
        "Colin Su 0.032\n",
        "Bo-Wen Shih 0.012\n",
        "Fu-te Wong 0.012\n",
        "Wen-Ting Chen 0.020\n",
        "Yung-Ching Chang 0.085\n",
        "Tim Tseng 0.140\n",
        "Chun-Teh Chen 0.032\n",
        "\u5433\u5f26\u7ff0 0.038\n",
        "Jimmy Ko 0.149\n",
        "\u67da\u5b50 0.114\n",
        "Cherubim Chang 0.015\n",
        "Alex Su 0.015\n",
        "Cottonclaw Yang 0.061\n",
        "Ying-Shao Lin 0.023\n",
        "Andy Kao 0.053\n",
        "Nelson Pang 0.006\n",
        "Tetsu Wu 0.020\n",
        "Hung-Yen Chen 0.047\n",
        "Yi-Hsi Lee 0.029\n",
        "Lu Wei 0.085\n",
        "Polly Huang 0.091\n",
        "Chao-Wei Chen 0.018\n",
        "Darron Wang 0.155\n",
        "Cheryl Chuang 0.146\n",
        "Niki Lin 0.117\n",
        "Ahrimian Tseng 0.091\n",
        "Chung-Han Yang 0.006\n",
        "Yi-Wei Chia 0.032\n",
        "Darien Yang 0.032\n",
        "Liang  Sonia 0.044\n",
        "Yuanyu Tseng 0.018\n",
        "Wanjun Chu 0.079\n",
        "\u9673\u7fa9\u6f84 0.009\n",
        "Jason Chang 0.018\n",
        "\u9ece\u50b3\u8056 0.009\n",
        "\u8449\u51cc\u83ef 0.129\n",
        "Mathias Luik 0.012\n",
        "Blade Lin 0.111\n",
        "\u5433\u5efa\u826f 0.029\n",
        "Yuming Hsu 0.082\n",
        "\u9ec3\u5049\u5609 0.064\n",
        "\u5ed6\u661f\u51f1 0.035\n",
        "Nathan Hsu 0.018\n",
        "\u9ec3\u745e\u862d 0.041\n",
        "Bobby Lee 0.035\n",
        "Rynn Chen 0.023\n",
        "Yi Yi Lee 0.158\n",
        "Veronica Victoria 0.111\n",
        "Elly Lin 0.047\n",
        "\u5f6d\u5c0f\u958b 0.006\n",
        "Joseph Yang 0.015\n",
        "Momo Tseng 0.003\n",
        "\u674e\u54a6\u8cc4 0.047\n",
        "Linda Lin 0.129\n",
        "\u7c21\u4e8e\u51f1 0.012\n",
        "Luke Lee 0.114\n",
        "Wush Wu 0.088\n",
        "Goofy Liao 0.155\n",
        "Cheng-Te Li 0.111\n",
        "TingHao Chang 0.035\n",
        "Jeff Lin 0.044\n",
        "Franky Yu 0.035\n",
        "Tiffany Shu 0.003\n",
        "Chin-I Liaw 0.009\n"
       ]
      }
     ],
     "prompt_number": 16
    },
    {
     "cell_type": "markdown",
     "metadata": {
      "slideshow": {
       "slide_type": "slide"
      }
     },
     "source": [
      "### Closeness\n",
      "Closeness can be regarded as a measure of how long it will take to spread information from s to all other nodes sequentially"
     ]
    },
    {
     "cell_type": "code",
     "collapsed": false,
     "input": [
      "# Closeness centrality\n",
      "print(\"Closeness centrality\")\n",
      "c=closeness_centrality(nxg)\n",
      "for v in nxg.nodes():\n",
      "    print(\"%s %5.3f\"%(v,c[v]))"
     ],
     "language": "python",
     "metadata": {
      "slideshow": {
       "slide_type": "slide"
      }
     },
     "outputs": [
      {
       "output_type": "stream",
       "stream": "stdout",
       "text": [
        "Closeness centrality\n",
        "Vicki Chiu 0.513"
       ]
      },
      {
       "output_type": "stream",
       "stream": "stdout",
       "text": [
        "\n",
        "Pontes Wang 0.520\n",
        "KunSheng Chen 0.522\n",
        "Chung-Chiang Cheng 0.525\n",
        "\u5f90\u51e1\u8018 0.503\n",
        "Chao Ma 0.502\n",
        "Ariel Chen 0.525\n",
        "Echo Pan Pan 0.501\n",
        "Eric Chen 0.514\n",
        "Steve Chiu 0.509\n",
        "\u66fe\u5b50\u82b3 0.513\n",
        "Willy Kuo 0.523\n",
        "Chia-Chi Chang 0.540\n",
        "Pin-Yen Tsai 0.503\n",
        "\u9f94\u5fd7\u8c6a 0.513\n",
        "Hank Lai 0.513\n",
        "Maisir Mai 0.514\n",
        "Vera Huang 0.502\n",
        "Oliver Tsai 0.515\n",
        "Colin Lin 0.515\n",
        "\u6797\u5cfb\u53f3 0.508\n",
        "\u5f35\u5c1a\u5b87 0.540\n",
        "Reiny Song 0.502\n",
        "Hannah Chen 0.516\n",
        "Zoe Peng 0.502\n",
        "Svenja Hung 0.514\n",
        "Wick Gankanda 0.501\n",
        "Yao-Kun Chang 0.519\n",
        "Sky Tsai 0.509\n",
        "\u9673\u5609\u8473 0.509\n",
        "Evonne Ho 0.507\n",
        "Ya Fen Cheng 0.519\n",
        "Alson Chang 0.536\n",
        "Ryan Tu 0.511\n",
        "\u674e\u6615\u8fea 0.504\n",
        "Tzung-Ming Lin 0.526\n",
        "Elsie Hwang 0.522\n",
        "\u674e\u632f\u83ef 0.509\n",
        "Ellen Hsu 0.501\n",
        "Johnson Hsieh 0.508\n",
        "Chian Hsieh 0.528\n",
        "Hsiao-Fei Liu 0.504\n",
        "Chaoying Lin 0.502\n",
        "\u5eab\u67cf\u8cc7\u8a0a 0.521\n",
        "James Shen 0.508\n",
        "Aki Chang 0.506\n",
        "Phoebe Lin 0.507\n",
        "Yun Mou 0.503\n",
        "\u9673\u5a01\u4efb 0.531\n",
        "Ronny Wang 0.506\n",
        "\u4f55\u5b97\u7950 0.507\n",
        "Tse-Ching Ho 0.503\n",
        "\u9673\u4f73\u840d 0.501\n",
        "\u9673\u594e\u9298 0.534\n",
        "Roger Lo 0.514\n",
        "\u5289\u97cb\u5ef7 0.514\n",
        "Shinjou Fang 0.502\n",
        "\u7c21\u8cc7\u51f1 0.511\n",
        "me 1.000\n",
        "\u9673\u4f2f\u7147 0.521\n",
        "Wei-Ming Chao 0.524\n",
        "Mingshir Matt Lin 0.502\n",
        "Aelle Low 0.501\n",
        "Chien-Hsun Chen 0.510\n",
        "Wenchi Pan 0.511\n",
        "\u738b\u5c0f\u90c1 0.505\n",
        "\u4f55\u70b3\u5fb7 0.502\n",
        "Chun-Wei Hsu 0.512\n",
        "\u6797\u5609\u5b8f 0.510\n",
        "Jerry Tung 0.517\n",
        "Chih-En Chen 0.504\n",
        "Linhots Tsao 0.509\n",
        "Sunny Hu 0.501\n",
        "Chandler Liu 0.510\n",
        "Chia-Yi Yen 0.517\n",
        "Navi Wu 0.515\n",
        "Philip Zheng 0.506\n",
        "Arthur Chuang 0.527\n",
        "Jian-Da Huang 0.507\n",
        "\u8607\u5bb6\u8abc 0.510\n",
        "Wei-Lun Chang 0.507\n",
        "Joey Josphen Liu 0.507\n",
        "Chien-Ting Weng 0.510\n",
        "Anderson Cheng 0.524\n",
        "Smallmark Cheng 0.504\n",
        "Yi-chun Liu 0.505\n",
        "Joyce Liu 0.501\n",
        "Eason Kao 0.517\n",
        "\u6234\u7152\u73c9 0.508\n",
        "Gdwendolyn Chen 0.506\n",
        "Wen-Ching Chan 0.508\n",
        "YingChun Lin 0.501\n",
        "Wang Ching-Hui 0.506\n",
        "Jennifer Chang 0.540\n",
        "Chia-Chen Kuo 0.502\n",
        "Tony Wang 0.513\n",
        "Wu Wen Hsuan 0.504\n",
        "Katherine Chuang 0.505\n",
        "\u5f90\u5b50\u5ead 0.534\n",
        "Will Hu 0.517\n",
        "Neversay Chen 0.510\n",
        "\u675c\u5609\u96ef 0.501\n",
        "Sheng-Wei Kuan-Ta Chen 0.510\n",
        "Nina Chen 0.530\n",
        "Liang Bo Wang 0.514\n",
        "\u856d\u99ac\u514b 0.537\n",
        "ChiChi Tsai 0.507\n",
        "Casey Lee 0.521\n",
        "Jay Chen 0.510\n",
        "Seraph Kuo 0.521\n",
        "Brian Luan 0.544\n",
        "Vincent Lee 0.510\n",
        "Pei-min Yeh 0.512\n",
        "Jack Hsu 0.501\n",
        "\u694a\u8339\u7433 0.502\n",
        "Bruce Lee 0.502\n",
        "Bright Wang 0.506\n",
        "Kevinjay Chan 0.505\n",
        "Wise Huang 0.509\n",
        "Paul Mao 0.530\n",
        "Serena LI 0.506\n",
        "Kimi Shih 0.523\n",
        "\u6797\u5b8f\u8afa 0.514\n",
        "Lock Chou 0.514\n",
        "Gilbert Liou 0.507\n",
        "Tim Hsu 0.523\n",
        "Jia-Je Li 0.503\n",
        "Chen John Lin 0.507\n",
        "Leroy Yang 0.513\n",
        "Herng Lee 0.502\n",
        "Gary Kang 0.543\n",
        "Lawrence Chen 0.501\n",
        "\u5433\u69ae\u8f1d 0.509\n",
        "\u6797\u5cfb\u9038 0.501\n",
        "Vin Wu 0.507\n",
        "Danny Chen 0.535\n",
        "\u674e\u5b89 0.539\n",
        "PyCon TW 0.507\n",
        "John Chin 0.502\n",
        "Anita Tsai 0.501\n",
        "Cherry Lin 0.510\n",
        "Hui-Ching Wu 0.510\n",
        "Keil Yang 0.501\n",
        "High-Quality Milk 0.506\n",
        "\u6797\u6021\u5b89 0.508\n",
        "\u5433\u5c0f\u6770 0.502\n",
        "Shang-Wen Tsai 0.515\n",
        "Theo Tsai 0.514\n",
        "Mansun Kuo 0.504\n",
        "Hana Tai 0.506\n",
        "\u9673\u79c9\u798e 0.517\n",
        "Tsui-Chin Huang 0.504\n",
        "Ya Ting Chang 0.509\n",
        "Lanf Liu 0.508\n",
        "Maggie Lee 0.540\n",
        "Man-Kwan Shan 0.526\n",
        "Kungfuyaya Chao 0.514\n",
        "Hsieh-Chen Tsai 0.511\n",
        "Carole Chiang 0.514\n",
        "Peggy Lin 0.524\n",
        "\u674e\u5049\u8a8c 0.513\n",
        "Richard Peng 0.511\n",
        "David Chang 0.534\n",
        "Chucheng Lin 0.504\n",
        "Karen  Liao 0.501\n",
        "Yi-Chin Huang 0.519\n",
        "\u5f35\u5b87\u5d34 0.521\n",
        "Dean Tsai 0.511\n",
        "David Lin 0.510\n",
        "\u694a\u627f\u6069 0.520\n",
        "Chihyu Chang 0.516\n",
        "Johnny Chang 0.505\n",
        "Donna Hu 0.513\n",
        "Jen Ho Yang 0.508\n",
        "\u5468\u6015\u751f 0.522\n",
        "Sunny Lin 0.508\n",
        "Jabari  Hsu 0.506\n",
        "Kuan Hsien Wu 0.501\n",
        "\u9ad8\u5ee3\u7de9 0.504\n",
        "Nina Wang Chienyu 0.501\n",
        "\u6797\u5146\u967d 0.502\n",
        "Chia Hsing Chiang 0.503\n",
        "Anita Lin 0.526\n",
        "Ariel Lin 0.513\n",
        "Lee James 0.534\n",
        "Yenhua Lin 0.528\n",
        "Ting-yu Wei 0.524\n",
        "\u4ea4\u9ede 0.506\n",
        "George Chang 0.504\n",
        "Denny Wu 0.513\n",
        "Emma Ching-Hsing Lin 0.501\n",
        "Vincent Wang 0.506\n",
        "Yi-Lin Huang 0.507\n",
        "Yu-ching Lin 0.503\n",
        "\u7530\u5cb3\u8862 0.504\n",
        "Jui-Yang Chang 0.514\n",
        "Grace Yin 0.518\n",
        "\u95bb\u660e\u7965 0.512\n",
        "\u5468\u9f4a 0.501\n",
        "Tzu-Wei Lin 0.510\n",
        "Kenny Yao-Chuan Wu 0.525\n",
        "Elsa  Lee 0.509\n",
        "Ming Wen 0.502\n",
        "Pavel Michalov 0.501\n",
        "Chun-Chi Hsu 0.504\n",
        "Sherry White 0.501\n",
        "Shih-Bin Wu 0.520\n",
        "Chloris Kuo 0.508\n",
        "Jerry Liao 0.510\n",
        "Camille Shen 0.506\n",
        "Mitter Chiang 0.522\n",
        "Yu-Hsing Wu 0.514\n",
        "Ji Chen Zheng 0.507\n",
        "Uni Huang 0.506\n",
        "Nico Chen 0.510\n",
        "Sweetie Fu 0.522\n",
        "Yiling Chen 0.505\n",
        "Yulin Wen 0.536\n",
        "James Skiky Hsiao 0.503\n",
        "Angeline Hsu 0.516\n",
        "Yu-Chi Wu 0.519\n",
        "\u5442\u79c9\u6d0b 0.506\n",
        "Jeffrey Chen 0.511\n",
        "Ethan Lin 0.507\n",
        "\u59dc\u535a\u701a 0.501\n",
        "\u8a79\u6587\u8cd3 0.521\n",
        "Cher Shan Yee 0.503\n",
        "\u8a31\u929a\u929a 0.520\n",
        "Cloud Chen 0.508\n",
        "Tiger Hsieh 0.517\n",
        "Yu-Chun Wang 0.521\n",
        "\u9ec3\u79c9\u79d1 0.506\n",
        "\u5f35\u83e1\u5ead 0.503\n",
        "George Ho 0.505\n",
        "Charles Wei 0.519\n",
        "Sonia Ting 0.507\n",
        "Autumn Yuan 0.501\n",
        "\u5433\u67cf\u7ff0 0.512\n",
        "Lov Phi 0.504\n",
        "\u738b\u6d77\u5a01 0.514\n",
        "\u6e38\u5275\u5091 0.509\n",
        "Shiang Shiang 0.503\n",
        "Rex Chen 0.514\n",
        "Jubing Chen 0.517\n",
        "Hern\u00e1n Garron Le\u00f3n 0.502\n",
        "Yu-Shuen Tsai 0.508\n",
        "Tai-Wei Hwang 0.520\n",
        "Michelle Wang 0.513\n",
        "Cheng-Yu Lin 0.507\n",
        "Simon Jan 0.507\n",
        "\u9f94\u8000\u5149 0.520\n",
        "Orange Liu 0.507\n",
        "Eric Lam 0.526\n",
        "Li Hao Cho 0.519\n",
        "Hank Hsieh 0.528\n",
        "Huge Huang 0.518\n",
        "Lawrence Lee 0.510\n",
        "GB Black 0.504\n",
        "Nigel Shiu 0.506\n",
        "\u5289\u5c0f\u514b 0.510\n",
        "Hui Tsung Tseng 0.505\n",
        "Richard Lin 0.516\n",
        "Max Hsu 0.513\n",
        "Titan Jer-ming Lin 0.505\n",
        "Kenneth Lu 0.515\n",
        "\u6797\u6b23\u6021 0.503\n",
        "Zhi Yan Lin 0.516\n",
        "Hsiao-Yin Chou 0.512\n",
        "Evaleen Chen 0.504\n",
        "Daniel Hsu 0.502\n",
        "Jack Chan 0.517\n",
        "Chen Hsiang Ting 0.508\n",
        "Cookie Huang 0.507\n",
        "Chia-Yu Hsu 0.522\n",
        "\u5442\u660e\u6b23 0.528\n",
        "Ruby Chien 0.503\n",
        "Amy Y. Chen 0.512\n",
        "Cheng-Yi Yu 0.504\n",
        "Hsi-Chuan Chen 0.502\n",
        "Colin Su 0.508\n",
        "Bo-Wen Shih 0.503\n",
        "Fu-te Wong 0.503\n",
        "Wen-Ting Chen 0.505\n",
        "Yung-Ching Chang 0.522\n",
        "Tim Tseng 0.538\n",
        "Chun-Teh Chen 0.508\n",
        "\u5433\u5f26\u7ff0 0.510\n",
        "Jimmy Ko 0.540\n",
        "\u67da\u5b50 0.530\n",
        "Cherubim Chang 0.504\n",
        "Alex Su 0.504\n",
        "Cottonclaw Yang 0.516\n",
        "Ying-Shao Lin 0.506\n",
        "Andy Kao 0.514\n",
        "Nelson Pang 0.501\n",
        "Tetsu Wu 0.505\n",
        "Hung-Yen Chen 0.512\n",
        "Yi-Hsi Lee 0.507\n",
        "Lu Wei 0.522\n",
        "Polly Huang 0.524\n",
        "Chao-Wei Chen 0.504\n",
        "Darron Wang 0.542\n",
        "Cheryl Chuang 0.539\n",
        "Niki Lin 0.531\n",
        "Ahrimian Tseng 0.524\n",
        "Chung-Han Yang 0.501\n",
        "Yi-Wei Chia 0.508\n",
        "Darien Yang 0.508\n",
        "Liang  Sonia 0.511\n",
        "Yuanyu Tseng 0.504\n",
        "Wanjun Chu 0.521\n",
        "\u9673\u7fa9\u6f84 0.502\n",
        "Jason Chang 0.504\n",
        "\u9ece\u50b3\u8056 0.502\n",
        "\u8449\u51cc\u83ef 0.534\n",
        "Mathias Luik 0.503\n",
        "Blade Lin 0.529\n",
        "\u5433\u5efa\u826f 0.507\n",
        "Yuming Hsu 0.521\n",
        "\u9ec3\u5049\u5609 0.517\n",
        "\u5ed6\u661f\u51f1 0.509\n",
        "Nathan Hsu 0.504\n",
        "\u9ec3\u745e\u862d 0.510\n",
        "Bobby Lee 0.509\n",
        "Rynn Chen 0.506\n",
        "Yi Yi Lee 0.543\n",
        "Veronica Victoria 0.529\n",
        "Elly Lin 0.512\n",
        "\u5f6d\u5c0f\u958b 0.501\n",
        "Joseph Yang 0.504\n",
        "Momo Tseng 0.501\n",
        "\u674e\u54a6\u8cc4 0.512\n",
        "Linda Lin 0.534\n",
        "\u7c21\u4e8e\u51f1 0.503\n",
        "Luke Lee 0.530\n",
        "Wush Wu 0.523\n",
        "Goofy Liao 0.542\n",
        "Cheng-Te Li 0.529\n",
        "TingHao Chang 0.509\n",
        "Jeff Lin 0.511\n",
        "Franky Yu 0.509\n",
        "Tiffany Shu 0.501\n",
        "Chin-I Liaw 0.502\n"
       ]
      }
     ],
     "prompt_number": 17
    },
    {
     "cell_type": "markdown",
     "metadata": {
      "slideshow": {
       "slide_type": "slide"
      }
     },
     "source": [
      "### Questions:\n",
      "#### Which of my friends are closest?"
     ]
    },
    {
     "cell_type": "markdown",
     "metadata": {
      "slideshow": {
       "slide_type": "slide"
      }
     },
     "source": [
      "### Community Detection\n",
      "\n",
      "In the study of complex networks, a network is said to have community structure if the nodes of the network can be easily grouped into (potentially overlapping) sets of nodes such that each set of nodes is densely connected internally. "
     ]
    },
    {
     "cell_type": "code",
     "collapsed": false,
     "input": [
      "import community\n",
      "def find_partition(graph):\n",
      "\tg = graph\n",
      "\tpartition = community.best_partition(g)\n",
      "\treturn partition\n",
      "\n",
      "new_G = find_partition(nxg)"
     ],
     "language": "python",
     "metadata": {
      "slideshow": {
       "slide_type": "slide"
      }
     },
     "outputs": [],
     "prompt_number": 21
    },
    {
     "cell_type": "code",
     "collapsed": false,
     "input": [
      "from collections import defaultdict\n",
      "# Community Detection\n",
      "v = defaultdict(list)\n",
      "for key, value in sorted(new_G.iteritems()):\n",
      "    v[value].append(key)\n",
      "    \n",
      "for i in v:\n",
      "        print i, len(v[i])"
     ],
     "language": "python",
     "metadata": {
      "slideshow": {
       "slide_type": "slide"
      }
     },
     "outputs": [
      {
       "output_type": "stream",
       "stream": "stdout",
       "text": [
        "0 97\n",
        "1 54\n",
        "2 50\n",
        "3 35\n",
        "4 24\n",
        "5 30\n",
        "6 14\n",
        "7 12\n",
        "8 27\n"
       ]
      }
     ],
     "prompt_number": 27
    },
    {
     "cell_type": "code",
     "collapsed": false,
     "input": [
      "nx.write_graphml(nxg, \"friends.graphml\")"
     ],
     "language": "python",
     "metadata": {
      "slideshow": {
       "slide_type": "slide"
      }
     },
     "outputs": [],
     "prompt_number": 77
    },
    {
     "cell_type": "markdown",
     "metadata": {
      "slideshow": {
       "slide_type": "slide"
      }
     },
     "source": [
      "### Using Gephi\n",
      "\n",
      " Gephi, an open source graph visualization and manipulation software"
     ]
    },
    {
     "cell_type": "markdown",
     "metadata": {
      "slideshow": {
       "slide_type": "slide"
      }
     },
     "source": [
      "### Analysis of Twitter"
     ]
    },
    {
     "cell_type": "markdown",
     "metadata": {
      "slideshow": {
       "slide_type": "slide"
      }
     },
     "source": [
      "Twitter is an online social networking and microblogging service that enables users to send and read \"tweets\", which are text messages limited to 140 characters. \n",
      "\n",
      "![](twitter.png)"
     ]
    },
    {
     "cell_type": "markdown",
     "metadata": {
      "slideshow": {
       "slide_type": "slide"
      }
     },
     "source": [
      "### Analysis Procedure\n",
      "\n",
      "+ Ask Question\n",
      "+ Get Data From Social Network API (Using Urllib)\n",
      "+ Data Munging (Parsing JSON)\n",
      "+ Data Analysis (Transformation, Aggregation, Visualization)"
     ]
    },
    {
     "cell_type": "markdown",
     "metadata": {
      "slideshow": {
       "slide_type": "slide"
      }
     },
     "source": [
      "### Question:\n",
      "   #### What is the sentiment sore of Obama's talk?"
     ]
    },
    {
     "cell_type": "markdown",
     "metadata": {
      "slideshow": {
       "slide_type": "slide"
      }
     },
     "source": [
      "###\u3000Access Twitter Developer\n",
      "+ https://dev.twitter.com/\n",
      "\n",
      "![](tweet.png)"
     ]
    },
    {
     "cell_type": "code",
     "collapsed": false,
     "input": [
      "import oauth2 as oauth\n",
      "import urllib2 as urllib\n",
      "import json\n",
      "import ast, time"
     ],
     "language": "python",
     "metadata": {
      "slideshow": {
       "slide_type": "slide"
      }
     },
     "outputs": [],
     "prompt_number": 55
    },
    {
     "cell_type": "code",
     "collapsed": false,
     "input": [
      "# Given access_token, access_token_secret\n",
      "access_token_key = \"<access_token_key>\"\n",
      "access_token_secret = \"<access_token_secret>\"\n",
      "\n",
      "# Given coonsumer_key, consumer_secret\n",
      "consumer_key = \"<consumer_key>\"\n",
      "consumer_secret = \"<consumer_secret>\"\n",
      "\n",
      "access_token_key = \"1420010924-OZFds1T3L7H20mouccVrbev10yw1pGxMSuyIezF\"\n",
      "access_token_secret = \"lEcqRG9Y4eonCHsWMRwHWMXMxwj0QES9pKeE9dx6H3I\"\n",
      "\n",
      "consumer_key = \"OggPZogPPlOf9LFj6V8Q\"\n",
      "consumer_secret = \"TtIwnY0AekF94j3j3VrLNUJZAOaWApqSmS2qjnuGiw\"\n",
      "\n",
      "oauth_token    = oauth.Token(key=access_token_key, secret=access_token_secret)\n",
      "oauth_consumer = oauth.Consumer(key=consumer_key, secret=consumer_secret)\n",
      "\n",
      "signature_method_hmac_sha1 = oauth.SignatureMethod_HMAC_SHA1()\n",
      "\n"
     ],
     "language": "python",
     "metadata": {
      "slideshow": {
       "slide_type": "slide"
      }
     },
     "outputs": [],
     "prompt_number": 56
    },
    {
     "cell_type": "code",
     "collapsed": false,
     "input": [
      "http_method = \"GET\"\n",
      "\n",
      "http_handler  = urllib.HTTPHandler()\n",
      "https_handler = urllib.HTTPSHandler()\n",
      "\n",
      "def twitterreq(url, method, parameters):\n",
      "  req = oauth.Request.from_consumer_and_token(oauth_consumer,\n",
      "                                             token=oauth_token,\n",
      "                                             http_method=http_method,\n",
      "                                             http_url=url, \n",
      "                                             parameters=parameters)\n",
      "\n",
      "  req.sign_request(signature_method_hmac_sha1, oauth_consumer, oauth_token)\n",
      "\n",
      "  headers = req.to_header()\n",
      "\n",
      "  if http_method == \"POST\":\n",
      "    encoded_post_data = req.to_postdata()\n",
      "  else:\n",
      "    encoded_post_data = None\n",
      "    url = req.to_url()\n",
      "\n",
      "  opener = urllib.OpenerDirector()\n",
      "  opener.add_handler(http_handler)\n",
      "  opener.add_handler(https_handler)\n",
      "\n",
      "  response = opener.open(url, encoded_post_data)\n",
      "\n",
      "  return response"
     ],
     "language": "python",
     "metadata": {
      "slideshow": {
       "slide_type": "slide"
      }
     },
     "outputs": [],
     "prompt_number": 57
    },
    {
     "cell_type": "code",
     "collapsed": false,
     "input": [
      "# retrieve data from Yahoo Finance \n",
      "url = \"https://api.twitter.com/1.1/statuses/user_timeline.json?screen_name=BarackObama&count=20\"\n",
      "parameters = []\n",
      "response = twitterreq(url, \"GET\", parameters)\n",
      "f = open('obama.txt', 'w')\n",
      "\n",
      "for line in response:\n",
      "    f.write(line.strip())\n",
      "f.close()"
     ],
     "language": "python",
     "metadata": {
      "slideshow": {
       "slide_type": "slide"
      }
     },
     "outputs": [],
     "prompt_number": 68
    },
    {
     "cell_type": "markdown",
     "metadata": {
      "slideshow": {
       "slide_type": "slide"
      }
     },
     "source": [
      "### Sentiment Dictionary AFINN\n",
      "AFINN is a list of English words rated for valence with an integer\n",
      "between minus five (negative) and plus five (positive). The words have\n",
      "been manually labeled by Finn \u00c5rup Nielsen in 2009-2011. The file\n",
      "is tab-separated. There are two versions:\n",
      "\n",
      "AFINN-111: Newest version with 2477 words and phrases.\n",
      "\n",
      "AFINN-96: 1468 unique words and phrases on 1480 lines. Note that there\n",
      "are 1480 lines, as some words are listed twice. The word list in not\n",
      "entirely in alphabetic ordering.  \n",
      "\n",
      "An evaluation of the word list is available in:\n",
      "\n",
      "\n",
      "The list was used in: \n",
      "\n",
      "Lars Kai Hansen, Adam Arvidsson, Finn \u00c5rup Nielsen, Elanor Colleoni,\n",
      "Michael Etter, \"Good Friends, Bad News - Affect and Virality in\n",
      "Twitter\", The 2011 International Workshop on Social Computing,\n",
      "Network, and Services (SocialComNet 2011).\n",
      "\n",
      "\n",
      "This database of words is copyright protected and distributed under\n",
      "\"Open Database License (ODbL) v1.0\"\n",
      "http://www.opendatacommons.org/licenses/odbl/1.0/ or a similar\n",
      "copyleft license."
     ]
    },
    {
     "cell_type": "code",
     "collapsed": false,
     "input": [
      "import sys\n",
      "import json\n",
      "import re\n",
      "\n",
      "def getdict(filen):\n",
      "\tafinnfile = open(filen, 'r')\n",
      "\tscores = {}\n",
      "\tfor line in afinnfile.readlines():\n",
      "\t\tterm, score  = line.split(\"\\t\")  \n",
      "\t\tscores[term] = int(score)\n",
      "\tafinnfile.close()\n",
      "\treturn scores\n",
      "\n",
      "\n",
      "term_dict = getdict('AFINN-111.txt')\t\n",
      "tweet_file = open('obama.txt')\t\n",
      "\n",
      "ele = re.sub('false','0', tweet_file.read())\n",
      "ele = re.sub('null','0', ele)\n",
      "ele = re.sub('true','1', ele)\n",
      "\n",
      "dic = {}\n",
      "for line in eval(ele):\n",
      "    #print line\n",
      "    sum = 0\n",
      "    gettime =  time.strftime('%Y-%m-%d', time.strptime(line['created_at'],\"%a %b %d %H:%M:%S +0000 %Y\"))\n",
      "    if gettime not in dic:\n",
      "        dic[gettime] = 0    \n",
      "    if 'text' in line:\n",
      "        text_tokens = line['text'].encode('utf-8').split()\n",
      "        for text_rec in text_tokens:\n",
      "            if term_dict.has_key(text_rec.strip()):\n",
      "                sum = sum + term_dict[text_rec.strip()]\n",
      "\tdic[gettime] = dic[gettime] + sum\t\n",
      "tweet_file.close()\n",
      "\n",
      "print dic"
     ],
     "language": "python",
     "metadata": {
      "slideshow": {
       "slide_type": "slide"
      }
     },
     "outputs": [
      {
       "output_type": "stream",
       "stream": "stdout",
       "text": [
        "{'2014-03-12': 7, '2014-03-11': 3, '2014-03-10': 2}\n"
       ]
      }
     ],
     "prompt_number": 97
    },
    {
     "cell_type": "code",
     "collapsed": false,
     "input": [
      "# Sorting the Dictionary\n",
      "import operator\n",
      "sorted_x = sorted(dic.iteritems(), key=operator.itemgetter(1))\n",
      "for i in sorted_x[0:10]:\n",
      "    print i[0], i[1]"
     ],
     "language": "python",
     "metadata": {
      "slideshow": {
       "slide_type": "slide"
      }
     },
     "outputs": [
      {
       "output_type": "stream",
       "stream": "stdout",
       "text": [
        "2014-03-10 2\n",
        "2014-03-11 3\n",
        "2014-03-12 7\n"
       ]
      }
     ],
     "prompt_number": 99
    },
    {
     "cell_type": "code",
     "collapsed": false,
     "input": [
      "import matplotlib.pyplot as plt\n",
      "n_groups = len(sorted_x)\n",
      "index = np.arange(n_groups)\n",
      "\n",
      "plt.plot([i[1] for i in sorted_x])\n",
      "#plt.xtics([i[0] for i in sorted_x])\n",
      "plt.xticks(index + bar_width / 2, tuple(i[0] for i in sorted_x))\n",
      "plt.ylabel('Happiness of Obama')\n",
      "plt.show()"
     ],
     "language": "python",
     "metadata": {
      "slideshow": {
       "slide_type": "slide"
      }
     },
     "outputs": [
      {
       "metadata": {},
       "output_type": "display_data",
       "png": "[encoded data removed]",
       "text": [
        "<matplotlib.figure.Figure at 0x4e019d0>"
       ]
      }
     ],
     "prompt_number": 107
    },
    {
     "cell_type": "markdown",
     "metadata": {
      "slideshow": {
       "slide_type": "slide"
      }
     },
     "source": [
      "## Analysis of Linkedin"
     ]
    },
    {
     "cell_type": "markdown",
     "metadata": {
      "slideshow": {
       "slide_type": "slide"
      }
     },
     "source": [
      "LinkedIn is a business networking website for people in professional occupations\n",
      "\n",
      "![](linedin.png)"
     ]
    },
    {
     "cell_type": "markdown",
     "metadata": {
      "slideshow": {
       "slide_type": "slide"
      }
     },
     "source": [
      "### Analysis Procedure\n",
      "\n",
      "+ Ask Question\n",
      "+ Get Data From Social Network API (Using Urllib)\n",
      "+ Data Munging (Parsing XML)\n",
      "+ Data Analysis (Aggregation, Visualization)"
     ]
    },
    {
     "cell_type": "markdown",
     "metadata": {
      "slideshow": {
       "slide_type": "slide"
      }
     },
     "source": [
      "### Question:\n",
      "   #### The industry distribution of my linkedin connection?"
     ]
    },
    {
     "cell_type": "markdown",
     "metadata": {
      "slideshow": {
       "slide_type": "slide"
      }
     },
     "source": [
      "https://apigee.com/console/linkedin\n",
      "    \n",
      "![](apigee.png)"
     ]
    },
    {
     "cell_type": "code",
     "collapsed": false,
     "input": [
      "# Get Linkedin Token\n",
      "linkedin_token = \"AQWjJPuboqFNiavw6dxqm2wdGg_OUDHY_Xo9cFT4iiGrdO7BsMa3GD9NGdaZuUE5U0HJ9j2B1kJdTt0PMvCMysUn6xHC6dTGiXJxpRwBaxjaJDIhTKIZtsu95PqvT68qSXiyybBEh1xDziHsPAPMD1Ovi-TUPMkb1PRTUKqgc_Elz7SFWuk\""
     ],
     "language": "python",
     "metadata": {
      "slideshow": {
       "slide_type": "slide"
      }
     },
     "outputs": [],
     "prompt_number": 1
    },
    {
     "cell_type": "code",
     "collapsed": false,
     "input": [
      "# Rear Personal Profile\n",
      "import urllib\n",
      "people = urllib.urlopen(\"https://api.linkedin.com/v1/people/~?oauth2_access_token=%s\"%(linkedin_token))\n",
      "print people.read()"
     ],
     "language": "python",
     "metadata": {
      "slideshow": {
       "slide_type": "slide"
      }
     },
     "outputs": [
      {
       "output_type": "stream",
       "stream": "stdout",
       "text": [
        "<?xml version=\"1.0\" encoding=\"UTF-8\" standalone=\"yes\"?>\n",
        "<person>\n",
        "  <first-name>David</first-name>\n",
        "  <last-name>Chiu</last-name>\n",
        "  <headline>Cofounder, Chairman at NumerInfo</headline>\n",
        "  <site-standard-profile-request>\n",
        "    <url>http://www.linkedin.com/profile/view?id=191590587&amp;authType=name&amp;authToken=z58c&amp;trk=api*a3227641*s3301901*</url>\n",
        "  </site-standard-profile-request>\n",
        "</person>\n",
        "\n"
       ]
      }
     ],
     "prompt_number": 3
    },
    {
     "cell_type": "code",
     "collapsed": false,
     "input": [
      "import urllib\n",
      "import xml.etree.ElementTree as ET\n",
      "\n",
      "# Get Personal Connection\n",
      "connection = urllib.urlopen(\"https://api.linkedin.com/v1/people/~/connections?modified=new&oauth2_access_token=%s\"%(linkedin_token))\n",
      "\n",
      "# Save Personal Connection Into File\n",
      "f = open('tree.xml', 'w')\n",
      "f.write(connection.read())\n",
      "f.close()"
     ],
     "language": "python",
     "metadata": {
      "slideshow": {
       "slide_type": "slide"
      }
     },
     "outputs": [],
     "prompt_number": 10
    },
    {
     "cell_type": "code",
     "collapsed": false,
     "input": [
      "# Get Industry Into dictionary\n",
      "tree = ET.parse('tree.xml')\n",
      "dic = {}\n",
      "for atype in tree.findall('person'):    \n",
      "    for ele in atype.findall('industry'):\n",
      "        if ele.text in dic:\n",
      "            dic[ele.text] = dic[ele.text] + 1\n",
      "        else:\n",
      "            dic[ele.text] = 1"
     ],
     "language": "python",
     "metadata": {
      "slideshow": {
       "slide_type": "slide"
      }
     },
     "outputs": [],
     "prompt_number": 44
    },
    {
     "cell_type": "code",
     "collapsed": false,
     "input": [
      "# Sorting the Dictionary\n",
      "import operator\n",
      "sorted_x = sorted(dic.iteritems(), key=operator.itemgetter(1))\n",
      "sorted_x.reverse()\n",
      "for i in sorted_x[0:10]:\n",
      "    print i[0], i[1]"
     ],
     "language": "python",
     "metadata": {
      "slideshow": {
       "slide_type": "slide"
      }
     },
     "outputs": [
      {
       "output_type": "stream",
       "stream": "stdout",
       "text": [
        "Information Technology and Services 35\n",
        "Computer Software 31\n",
        "Human Resources 14\n",
        "Internet 12\n",
        "Staffing and Recruiting 9\n",
        "Research 7\n",
        "Marketing and Advertising 6\n",
        "Telecommunications 5\n",
        "Computer & Network Security 5\n",
        "Financial Services 4\n"
       ]
      }
     ],
     "prompt_number": 45
    },
    {
     "cell_type": "code",
     "collapsed": false,
     "input": [
      "import matplotlib.pyplot as plt\n",
      "import numpy as np\n",
      "\n",
      "n_groups = len(sorted_x[0:5])\n",
      "cnt_industry = tuple(i[1] for i in sorted_x[0:5])\n",
      "index = np.arange(n_groups)\n",
      "\n",
      "rects1 = plt.bar(index, cnt_industry, \n",
      "                 label='Count')\n",
      "\n",
      "plt.xlabel('Industry')\n",
      "plt.ylabel('Count')\n",
      "plt.title('Count by Industry')\n",
      "plt.xticks(index + bar_width / 2, tuple(i[0].split(' ')[0] for i in sorted_x[0:5]))\n",
      "plt.legend()\n",
      "\n",
      "plt.show()"
     ],
     "language": "python",
     "metadata": {
      "slideshow": {
       "slide_type": "slide"
      }
     },
     "outputs": [
      {
       "metadata": {},
       "output_type": "display_data",
       "png": "[encoded data removed]",
       "text": [
        "<matplotlib.figure.Figure at 0x54843b0>"
       ]
      }
     ],
     "prompt_number": 43
    },
    {
     "cell_type": "code",
     "collapsed": false,
     "input": [
      "import matplotlib.pyplot as plt\n",
      "\n",
      "\n",
      "labels = [i[0].split(' ')[0] for i in sorted_x]\n",
      "sizes = [i[1] for i in sorted_x]\n",
      "\n",
      "plt.pie(sizes, labels=labels, \n",
      "        autopct='%1.1f%%', shadow=True, startangle=90)\n",
      "\n",
      "plt.axis('equal')\n",
      "plt.show()"
     ],
     "language": "python",
     "metadata": {
      "slideshow": {
       "slide_type": "slide"
      }
     },
     "outputs": [
      {
       "metadata": {},
       "output_type": "display_data",
       "png": "[encoded data removed]",
       "text": [
        "<matplotlib.figure.Figure at 0x4b5f2d0>"
       ]
      }
     ],
     "prompt_number": 53
    }
   ],
   "metadata": {}
  }
 ]
}