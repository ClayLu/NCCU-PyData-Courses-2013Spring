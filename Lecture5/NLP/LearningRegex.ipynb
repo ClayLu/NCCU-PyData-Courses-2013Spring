{
 "metadata": {
  "name": ""
 },
 "nbformat": 3,
 "nbformat_minor": 0,
 "worksheets": [
  {
   "cells": [
    {
     "cell_type": "code",
     "collapsed": false,
     "input": [
      "import re"
     ],
     "language": "python",
     "metadata": {},
     "outputs": [],
     "prompt_number": 1
    },
    {
     "cell_type": "code",
     "collapsed": false,
     "input": [
      "print re.findall(r\"[0-9]\",\"1+2==3\")\n",
      "print re.findall(r\"[1-2]\",\"1+2==3\")\n",
      "print re.findall(r\"[a-c]\",\"Barbasa Liskov\")"
     ],
     "language": "python",
     "metadata": {},
     "outputs": [
      {
       "output_type": "stream",
       "stream": "stdout",
       "text": [
        "['1', '2', '3']\n",
        "['1', '2']\n",
        "['a', 'b', 'a', 'a']\n"
       ]
      }
     ],
     "prompt_number": 5
    },
    {
     "cell_type": "code",
     "collapsed": false,
     "input": [
      "print re.findall(r\"[0-9][0-9]\",\"July 28, 1821\")\n",
      "print re.findall(r\"[0-9][0-9]\",\"12345\")"
     ],
     "language": "python",
     "metadata": {},
     "outputs": [
      {
       "output_type": "stream",
       "stream": "stdout",
       "text": [
        "['28', '18', '21']\n",
        "['12', '34']\n"
       ]
      }
     ],
     "prompt_number": 7
    },
    {
     "cell_type": "code",
     "collapsed": false,
     "input": [
      "print re.findall(r\"[a-z][0-9]\",\"a1 2b cc3 44d\")"
     ],
     "language": "python",
     "metadata": {},
     "outputs": [
      {
       "output_type": "stream",
       "stream": "stdout",
       "text": [
        "['a1', 'c3']\n"
       ]
      }
     ],
     "prompt_number": 8
    },
    {
     "cell_type": "markdown",
     "metadata": {},
     "source": [
      "## Maximal Match"
     ]
    },
    {
     "cell_type": "code",
     "collapsed": false,
     "input": [
      "print re.findall(r\"[0-9]+\",\"13 from 1 in 1776\")\n",
      "print re.findall(r\"[0-9]\",\"13 from 1 in 1776\")"
     ],
     "language": "python",
     "metadata": {},
     "outputs": [
      {
       "output_type": "stream",
       "stream": "stdout",
       "text": [
        "['13', '1', '1776']\n",
        "['1', '3', '1', '1', '7', '7', '6']\n"
       ]
      }
     ],
     "prompt_number": 10
    },
    {
     "cell_type": "code",
     "collapsed": false,
     "input": [
      "print re.findall(r\"[0-9][ ][0-9]+\",\"a1 2b cc3 44d\")"
     ],
     "language": "python",
     "metadata": {},
     "outputs": [
      {
       "output_type": "stream",
       "stream": "stdout",
       "text": [
        "['1 2', '3 44']\n"
       ]
      }
     ],
     "prompt_number": 11
    },
    {
     "cell_type": "markdown",
     "metadata": {},
     "source": [
      "## Disjunction"
     ]
    },
    {
     "cell_type": "code",
     "collapsed": false,
     "input": [
      "print re.findall(r\"[a-z]+|[0-9]+\",\"Geoth 1749\")"
     ],
     "language": "python",
     "metadata": {},
     "outputs": [
      {
       "output_type": "stream",
       "stream": "stdout",
       "text": [
        "['eoth', '1749']\n"
       ]
      }
     ],
     "prompt_number": 12
    },
    {
     "cell_type": "markdown",
     "metadata": {},
     "source": [
      "## Optional ($\\ \\epsilon$ in FSM)"
     ]
    },
    {
     "cell_type": "code",
     "collapsed": false,
     "input": [
      "print re.findall(r\"-?[0-9]+\",\"1861-1941 R. Tagore\")"
     ],
     "language": "python",
     "metadata": {},
     "outputs": [
      {
       "output_type": "stream",
       "stream": "stdout",
       "text": [
        "['1861', '-1941']\n"
       ]
      }
     ],
     "prompt_number": 22
    },
    {
     "cell_type": "code",
     "collapsed": false,
     "input": [],
     "language": "python",
     "metadata": {},
     "outputs": []
    },
    {
     "cell_type": "markdown",
     "metadata": {},
     "source": [
      "## Quiz"
     ]
    },
    {
     "cell_type": "code",
     "collapsed": false,
     "input": [
      "import re\n",
      "\n",
      "regexp = r\"[a-z]+\\([ ]*[0-9]+[ ]*\\)\"\n",
      "\n",
      "# regexp matches:\n",
      "print re.findall(regexp,\"cos(0)\")\n",
      "print re.findall(regexp,\"cos(0)\") == [\"cos(0)\"]\n",
      "#>>> True\n",
      "\n",
      "print re.findall(regexp,\"sqrt(   2     )\") == [\"sqrt(   2     )\"]\n",
      "#>>> True\n",
      "\n",
      "\n",
      "# regexp does not match:\n",
      "\n",
      "print re.findall(regexp,\"cos     (0)\") != [\"cos     (0)\"]\n",
      "#>>> True\n",
      "\n",
      "print re.findall(regexp,\"sqrt(x)\") != [\"sqrt(x)\"]\n",
      "#>>> True"
     ],
     "language": "python",
     "metadata": {},
     "outputs": [
      {
       "output_type": "stream",
       "stream": "stdout",
       "text": [
        "['cos(0)']\n",
        "True\n",
        "True\n",
        "True\n",
        "True\n"
       ]
      }
     ],
     "prompt_number": 31
    },
    {
     "cell_type": "markdown",
     "metadata": {},
     "source": [
      "## ANY & NOT"
     ]
    },
    {
     "cell_type": "code",
     "collapsed": false,
     "input": [
      "print re.findall(r\"[0-9].[0-9]\",\"1a1 222 cc3\")"
     ],
     "language": "python",
     "metadata": {},
     "outputs": [
      {
       "output_type": "stream",
       "stream": "stdout",
       "text": [
        "['1a1', '222']\n"
       ]
      }
     ],
     "prompt_number": 32
    },
    {
     "cell_type": "code",
     "collapsed": false,
     "input": [
      "print re.findall(r\"[0-9][^ab]\",\"1a1 222 cc3\")"
     ],
     "language": "python",
     "metadata": {},
     "outputs": [
      {
       "output_type": "stream",
       "stream": "stdout",
       "text": [
        "['1 ', '22', '2 ']\n"
       ]
      }
     ],
     "prompt_number": 33
    },
    {
     "cell_type": "markdown",
     "metadata": {},
     "source": [
      "## (?: ... ) \u63d0\u51fa\u516c\u56e0\u5f0f\uff1a"
     ]
    },
    {
     "cell_type": "code",
     "collapsed": false,
     "input": [
      "print re.findall(r\"do+|re+|mi+\",\"mimi rere midore doo-wop\")"
     ],
     "language": "python",
     "metadata": {},
     "outputs": [
      {
       "output_type": "stream",
       "stream": "stdout",
       "text": [
        "['mi', 'mi', 're', 're', 'mi', 'do', 're', 'doo']\n"
       ]
      }
     ],
     "prompt_number": 34
    },
    {
     "cell_type": "code",
     "collapsed": false,
     "input": [
      "print re.findall(r\"(?:do|re|mi)+\",\"mimi rere midore doo-wop\")"
     ],
     "language": "python",
     "metadata": {},
     "outputs": [
      {
       "output_type": "stream",
       "stream": "stdout",
       "text": [
        "['mimi', 'rere', 'midore', 'do']\n"
       ]
      }
     ],
     "prompt_number": 35
    },
    {
     "cell_type": "markdown",
     "metadata": {},
     "source": [
      "# Quiz"
     ]
    },
    {
     "cell_type": "code",
     "collapsed": false,
     "input": [
      "import re\n",
      "\n",
      "regexp = r'\"(?:[^\\\\]|(?:\\\\.))*\"'\n",
      "\n",
      "# regexp matches:\n",
      "print re.findall(regexp,'\"I say, \\\\\"hello.\\\\\"\"')\n",
      "print re.findall(regexp,'\"I say, \\\\\"hello.\\\\\"\"') == ['\"I say, \\\\\"hello.\\\\\"\"']\n",
      "\n",
      "#>>> True\n",
      "\n",
      "\n",
      "# regexp does not match:\n",
      "\n",
      "print re.findall(regexp,'\"\\\\\"')\n",
      "print re.findall(regexp,'\"\\\\\"') != ['\"\\\\\"']\n",
      "#>>> True\n"
     ],
     "language": "python",
     "metadata": {},
     "outputs": [
      {
       "output_type": "stream",
       "stream": "stdout",
       "text": [
        "['\"I say, \\\\\"hello.\\\\\"\"']\n",
        "True\n",
        "[]\n",
        "True\n"
       ]
      }
     ],
     "prompt_number": 43
    },
    {
     "cell_type": "markdown",
     "metadata": {},
     "source": [
      "# FSM Simulator"
     ]
    },
    {
     "cell_type": "code",
     "collapsed": false,
     "input": [
      "# FSM Simulation\n",
      "\n",
      "edges = {(1, 'a') : 2,\n",
      "         (2, 'a') : 2,\n",
      "         (2, '1') : 3,\n",
      "         (3, '1') : 3}\n",
      "\n",
      "accepting = [3]\n",
      "\n",
      "def fsmsim(string, current, edges, accepting):\n",
      "    if string == \"\":\n",
      "        return current in accepting\n",
      "    else:\n",
      "        letter = string[0]\n",
      "        #print \"current = \",current\n",
      "        current_available_states = [one_item[1] for one_item in edges.keys() if one_item[0] == current]\n",
      "        #print \"current_available_states = \",current_available_states\n",
      "        \n",
      "        if letter in current_available_states:\n",
      "            next_current = edges[(current,letter)]\n",
      "            next_string = string[1:]\n",
      "            \n",
      "            return fsmsim(next_string,next_current,edges, accepting)\n",
      "            \n",
      "        else:\n",
      "            return False\n",
      "        \n",
      "        # QUIZ: You fill this out!\n",
      "        # Is there a valid edge?\n",
      "        # If so, take it.\n",
      "        # If not, return False.\n",
      "        # Hint: recursion.\n",
      "\n",
      "\n",
      "print fsmsim(\"aaa111\",1,edges,accepting)\n",
      "# >>> True"
     ],
     "language": "python",
     "metadata": {},
     "outputs": [
      {
       "output_type": "stream",
       "stream": "stdout",
       "text": [
        "True\n"
       ]
      }
     ],
     "prompt_number": 46
    },
    {
     "cell_type": "code",
     "collapsed": false,
     "input": [],
     "language": "python",
     "metadata": {},
     "outputs": []
    },
    {
     "cell_type": "code",
     "collapsed": false,
     "input": [
      "# FSM Interpretation\n",
      "\n",
      "# Define edges and accepting to encode r\"q*\". Name your start state 1.\n",
      "\n",
      "edges = {(1,\"q\"):1}\n",
      "accepting = [1]\n",
      "\n",
      "print fsmsim(\"\",1,edges,accepting)\n",
      "# >>> True\n",
      "\n",
      "print fsmsim(\"q\",1,edges,accepting)\n",
      "# >>> True\n",
      "\n",
      "print fsmsim(\"qq\",1,edges,accepting)\n",
      "# >>> True\n",
      "\n",
      "print fsmsim(\"p\",1,edges,accepting)\n",
      "# >>> False"
     ],
     "language": "python",
     "metadata": {},
     "outputs": [
      {
       "output_type": "stream",
       "stream": "stdout",
       "text": [
        "True\n",
        "True\n",
        "True\n",
        "False\n"
       ]
      }
     ],
     "prompt_number": 48
    },
    {
     "cell_type": "code",
     "collapsed": false,
     "input": [],
     "language": "python",
     "metadata": {},
     "outputs": []
    },
    {
     "cell_type": "code",
     "collapsed": false,
     "input": [
      "# FSM Interpretation\n",
      "\n",
      "# Define edges and accepting to encode r\"[a-b][c-d]?\". Name your start state 1.\n",
      "\n",
      "edges = {(1,\"a\"):2,\n",
      "         (1,\"b\"):2,\n",
      "         (2,\"c\"):2,\n",
      "         (2,\"d\"):2}\n",
      "\n",
      "accepting = [2]\n",
      "\n",
      "print fsmsim(\"a\",1,edges,accepting)\n",
      "# >>> True\n",
      "\n",
      "print fsmsim(\"b\",1,edges,accepting)\n",
      "# >>> True\n",
      "\n",
      "print fsmsim(\"ad\",1,edges,accepting)\n",
      "# >>> True\n",
      "\n",
      "print fsmsim(\"e\",1,edges,accepting)\n",
      "# >>> False"
     ],
     "language": "python",
     "metadata": {},
     "outputs": [
      {
       "output_type": "stream",
       "stream": "stdout",
       "text": [
        "True\n",
        "True\n",
        "True\n",
        "False\n"
       ]
      }
     ],
     "prompt_number": 49
    },
    {
     "cell_type": "code",
     "collapsed": false,
     "input": [],
     "language": "python",
     "metadata": {},
     "outputs": []
    },
    {
     "cell_type": "code",
     "collapsed": false,
     "input": [
      "# FSM Interpretation\n",
      "\n",
      "# Provide s1 and s2 that are both accepted, but s1 != s2.\n",
      "\n",
      "edges = {(1,'a') : 2,\n",
      "         (1,'b') : 3,\n",
      "         (2,'c') : 4,\n",
      "         (3,'d') : 5,\n",
      "         (5,'c') : 2,\n",
      "         (5,'f') : 6,\n",
      "         (5,'g') : 1}\n",
      "\n",
      "accepting = [6]\n",
      "\n",
      "\n",
      "\n",
      "s1 = \"bdf\"\n",
      "\n",
      "s2 = \"bdgbdf\"\n",
      "\n",
      "\n",
      "print fsmsim(s1,1,edges,accepting)\n",
      "# >>> True\n",
      "\n",
      "print fsmsim(s2,1,edges,accepting)\n",
      "# >>> True\n",
      "\n",
      "print s1 != s2\n",
      "# >>> True"
     ],
     "language": "python",
     "metadata": {},
     "outputs": [
      {
       "output_type": "stream",
       "stream": "stdout",
       "text": [
        "True\n",
        "True\n",
        "True\n"
       ]
      }
     ],
     "prompt_number": 50
    },
    {
     "cell_type": "code",
     "collapsed": false,
     "input": [],
     "language": "python",
     "metadata": {},
     "outputs": []
    },
    {
     "cell_type": "code",
     "collapsed": false,
     "input": [
      "# Suppose we want to recognize phone numbers with or without hyphens. The\n",
      "# regular expression you give should work for any number of groups of any (non-\n",
      "# empty) size, separated by 1 hyphen. Each group is [0-9]+.\n",
      "\n",
      "# Hint: Accept \"5\" but not \"-6\"\n",
      "\n",
      "import re\n",
      "\n",
      "regexp = r\"[0-9]+(?:\\-[0-9]+)*\"\n",
      "\n",
      "# regexp matches:\n",
      "\n",
      "print re.findall(regexp,\"123-4567\")\n",
      "print re.findall(regexp,\"123-4567\") == [\"123-4567\"]\n",
      "#>>> True\n",
      "\n",
      "print re.findall(regexp,\"1234567\") == [\"1234567\"]\n",
      "#>>> True\n",
      "\n",
      "print re.findall(regexp,\"08-78-88-88-88\")\n",
      "print re.findall(regexp,\"08-78-88-88-88\") == [\"08-78-88-88-88\"]\n",
      "#>>> True\n",
      "\n",
      "print re.findall(regexp,\"0878888888\") == [\"0878888888\"]\n",
      "#>>> True\n",
      "\n",
      "# regexp does not match:\n",
      "\n",
      "print re.findall(regexp,\"-6\") != [\"-6\"]\n",
      "#>>> True\n"
     ],
     "language": "python",
     "metadata": {},
     "outputs": [
      {
       "output_type": "stream",
       "stream": "stdout",
       "text": [
        "['123-4567']\n",
        "True\n",
        "True\n",
        "['08-78-88-88-88']\n",
        "True\n",
        "True\n",
        "True\n"
       ]
      }
     ],
     "prompt_number": 51
    },
    {
     "cell_type": "code",
     "collapsed": false,
     "input": [],
     "language": "python",
     "metadata": {},
     "outputs": []
    },
    {
     "cell_type": "code",
     "collapsed": false,
     "input": [],
     "language": "python",
     "metadata": {},
     "outputs": []
    },
    {
     "cell_type": "code",
     "collapsed": false,
     "input": [],
     "language": "python",
     "metadata": {},
     "outputs": []
    },
    {
     "cell_type": "code",
     "collapsed": false,
     "input": [],
     "language": "python",
     "metadata": {},
     "outputs": []
    },
    {
     "cell_type": "code",
     "collapsed": false,
     "input": [],
     "language": "python",
     "metadata": {},
     "outputs": []
    },
    {
     "cell_type": "code",
     "collapsed": false,
     "input": [],
     "language": "python",
     "metadata": {},
     "outputs": []
    },
    {
     "cell_type": "code",
     "collapsed": false,
     "input": [],
     "language": "python",
     "metadata": {},
     "outputs": []
    },
    {
     "cell_type": "code",
     "collapsed": false,
     "input": [],
     "language": "python",
     "metadata": {},
     "outputs": []
    },
    {
     "cell_type": "markdown",
     "metadata": {},
     "source": [
      "-# References:\n",
      "\n",
      "## Finite State Machine:\n",
      "\n",
      "-  ### https://wiki.python.org/moin/FiniteStateMachine\n",
      "-  ### [Draw] http://martin-thoma.com/how-to-draw-a-finite-state-machine/\n",
      "-  ### [Draw] http://www.texample.net/tikz/examples/feature/automata-and-petri-nets/\n",
      "-  ### [pygraphviz Example] https://github.com/pygraphviz/pygraphviz/blob/master/examples/star.py\n",
      "\n",
      "\n",
      "## Regex:\n",
      "\n",
      "-  ### http://www.python-course.eu/re.php\n",
      "\n",
      "## Others:\n",
      "\n",
      "-  ### http://nbviewer.ipython.org/gist/ellisonbg/3837783/TwitterNetworkX.ipynb\n",
      "-  ### http://nbipython.blogspot.tw/2012/11/ipython-notebook-examples.html\n",
      "-  ### https://github.com/pygraphviz/pygraphviz/blob/master/examples/simple.py"
     ]
    },
    {
     "cell_type": "markdown",
     "metadata": {},
     "source": [
      "# Using Regex with [tr](http://www.thegeekstuff.com/2012/12/linux-tr-command/)"
     ]
    },
    {
     "cell_type": "code",
     "collapsed": false,
     "input": [
      "!tr -sc 'A-Za-z' '\\n' < test.txt | head -n 40"
     ],
     "language": "python",
     "metadata": {},
     "outputs": [
      {
       "output_type": "stream",
       "stream": "stdout",
       "text": [
        "On\r\n",
        "a\r\n",
        "cool\r\n",
        "November\r\n",
        "afternoon\r\n",
        "in\r\n",
        "Fleming\r\n",
        "Island\r\n",
        "Florida\r\n",
        "Melissa\r\n",
        "Hawkinson\r\n",
        "then\r\n",
        "was\r\n",
        "driving\r\n",
        "her\r\n",
        "five\r\n",
        "year\r\n",
        "old\r\n",
        "twins\r\n",
        "home\r\n",
        "from\r\n",
        "school\r\n",
        "when\r\n",
        "she\r\n",
        "saw\r\n",
        "a\r\n",
        "sudden\r\n",
        "splash\r\n",
        "in\r\n",
        "Doctors\r\n",
        "Lake\r\n",
        "just\r\n",
        "ahead\r\n",
        "What\r\n",
        "was\r\n",
        "that\r\n",
        "she\r\n",
        "thought\r\n",
        "As\r\n",
        "she\r\n"
       ]
      }
     ],
     "prompt_number": 25
    },
    {
     "cell_type": "code",
     "collapsed": false,
     "input": [
      "!tr -sc 'A-Za-z' '\\n' < test.txt | sort | head -n 40"
     ],
     "language": "python",
     "metadata": {},
     "outputs": [
      {
       "output_type": "stream",
       "stream": "stdout",
       "text": [
        "a\r\n",
        "a\r\n",
        "a\r\n",
        "a\r\n",
        "a\r\n",
        "a\r\n",
        "a\r\n",
        "a\r\n",
        "a\r\n",
        "about\r\n",
        "about\r\n",
        "act\r\n",
        "afternoon\r\n",
        "Afterward\r\n",
        "ahead\r\n",
        "an\r\n",
        "and\r\n",
        "and\r\n",
        "and\r\n",
        "and\r\n",
        "and\r\n",
        "and\r\n",
        "and\r\n",
        "and\r\n",
        "and\r\n",
        "and\r\n",
        "and\r\n",
        "another\r\n",
        "answer\r\n",
        "apart\r\n",
        "are\r\n",
        "are\r\n",
        "Arizona\r\n",
        "around\r\n",
        "as\r\n",
        "As\r\n",
        "at\r\n",
        "away\r\n",
        "back\r\n",
        "be\r\n"
       ]
      }
     ],
     "prompt_number": 26
    },
    {
     "cell_type": "code",
     "collapsed": false,
     "input": [
      "!tr -sc 'A-Za-z' '\\n' < test.txt | sort | uniq -c | head -n 40"
     ],
     "language": "python",
     "metadata": {},
     "outputs": [
      {
       "output_type": "stream",
       "stream": "stdout",
       "text": [
        "      9 a\r\n",
        "      2 about\r\n",
        "      1 act\r\n",
        "      1 afternoon\r\n",
        "      1 Afterward\r\n",
        "      1 ahead\r\n",
        "      1 an\r\n",
        "     11 and\r\n",
        "      1 another\r\n",
        "      1 answer\r\n",
        "      1 apart\r\n",
        "      2 are\r\n",
        "      1 Arizona\r\n",
        "      1 around\r\n",
        "      1 as\r\n",
        "      1 As\r\n",
        "      1 at\r\n",
        "      1 away\r\n",
        "      1 back\r\n",
        "      2 be\r\n",
        "      1 blanket\r\n",
        "      1 boat\r\n",
        "      1 boots\r\n",
        "      1 born\r\n",
        "      2 boy\r\n",
        "      1 brain\r\n",
        "      1 brave\r\n",
        "      2 bravery\r\n",
        "      1 Bravery\r\n",
        "      1 brown\r\n",
        "      1 but\r\n",
        "      1 bystanders\r\n",
        "      1 Cameron\r\n",
        "      1 can\r\n",
        "      4 car\r\n",
        "      1 cold\r\n",
        "      1 complex\r\n",
        "      1 cool\r\n",
        "      1 could\r\n",
        "      1 couldn\r\n"
       ]
      }
     ],
     "prompt_number": 27
    },
    {
     "cell_type": "code",
     "collapsed": false,
     "input": [
      "!tr -sc 'A-Za-z' '\\n' < test.txt | sort | uniq -c | sort -n -r | head -n 40"
     ],
     "language": "python",
     "metadata": {},
     "outputs": [
      {
       "output_type": "stream",
       "stream": "stdout",
       "text": [
        "     18 the\r\n",
        "     11 and\r\n",
        "     10 to\r\n",
        "      9 she\r\n",
        "      9 a\r\n",
        "      6 Hawkinson\r\n",
        "      5 on\r\n",
        "      4 was\r\n",
        "      4 in\r\n",
        "      4 her\r\n",
        "      4 from\r\n",
        "      4 car\r\n",
        "      3 What\r\n",
        "      3 swam\r\n",
        "      3 She\r\n",
        "      3 or\r\n",
        "      3 it\r\n",
        "      3 is\r\n",
        "      3 his\r\n",
        "      2 with\r\n",
        "      2 water\r\n",
        "      2 toward\r\n",
        "      2 thought\r\n",
        "      2 them\r\n",
        "      2 The\r\n",
        "      2 that\r\n",
        "      2 shore\r\n",
        "      2 saw\r\n",
        "      2 s\r\n",
        "      2 quickly\r\n",
        "      2 open\r\n",
        "      2 off\r\n",
        "      2 Melissa\r\n",
        "      2 makes\r\n",
        "      2 It\r\n",
        "      2 into\r\n",
        "      2 home\r\n",
        "      2 him\r\n",
        "      2 going\r\n",
        "      2 five\r\n"
       ]
      }
     ],
     "prompt_number": 28
    },
    {
     "cell_type": "code",
     "collapsed": false,
     "input": [
      "!tr 'A-Z' 'a-z' < test.txt | tr -sc 'A-Za-z' '\\n' | sort | uniq -c | sort -n -r | head -n 40"
     ],
     "language": "python",
     "metadata": {},
     "outputs": [
      {
       "output_type": "stream",
       "stream": "stdout",
       "text": [
        "     20 the\r\n",
        "     12 she\r\n",
        "     11 and\r\n",
        "     10 to\r\n",
        "      9 a\r\n",
        "      6 on\r\n",
        "      6 hawkinson\r\n",
        "      5 it\r\n",
        "      4 was\r\n",
        "      4 in\r\n",
        "      4 her\r\n",
        "      4 from\r\n",
        "      4 car\r\n",
        "      3 what\r\n",
        "      3 swam\r\n",
        "      3 or\r\n",
        "      3 is\r\n",
        "      3 his\r\n",
        "      3 bravery\r\n",
        "      2 with\r\n",
        "      2 water\r\n",
        "      2 toward\r\n",
        "      2 thought\r\n",
        "      2 this\r\n",
        "      2 them\r\n",
        "      2 that\r\n",
        "      2 shore\r\n",
        "      2 saw\r\n",
        "      2 s\r\n",
        "      2 quickly\r\n",
        "      2 open\r\n",
        "      2 off\r\n",
        "      2 melissa\r\n",
        "      2 makes\r\n",
        "      2 into\r\n",
        "      2 home\r\n",
        "      2 him\r\n",
        "      2 going\r\n",
        "      2 for\r\n",
        "      2 five\r\n"
       ]
      }
     ],
     "prompt_number": 30
    },
    {
     "cell_type": "code",
     "collapsed": false,
     "input": [],
     "language": "python",
     "metadata": {},
     "outputs": []
    }
   ],
   "metadata": {}
  }
 ]
}