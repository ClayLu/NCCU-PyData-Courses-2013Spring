{
 "metadata": {
  "name": ""
 },
 "nbformat": 3,
 "nbformat_minor": 0,
 "worksheets": [
  {
   "cells": [
    {
     "cell_type": "code",
     "collapsed": false,
     "input": [
      "%matplotlib inline"
     ],
     "language": "python",
     "metadata": {
      "slideshow": {
       "slide_type": "skip"
      }
     },
     "outputs": [],
     "prompt_number": 3
    },
    {
     "cell_type": "code",
     "collapsed": false,
     "input": [
      "import matplotlib.pylab as pylab\n",
      "pylab.rcParams['figure.figsize'] = 16, 12\n",
      "\n",
      "from matplotlib.font_manager import FontProperties\n",
      "cfont = FontProperties(fname=\"/usr/share/fonts/truetype/wqy/wqy-zenhei.ttc\", size = 14)"
     ],
     "language": "python",
     "metadata": {
      "slideshow": {
       "slide_type": "skip"
      }
     },
     "outputs": [],
     "prompt_number": 4
    },
    {
     "cell_type": "markdown",
     "metadata": {
      "slideshow": {
       "slide_type": "slide"
      }
     },
     "source": [
      "# Introduction to NLP with Python"
     ]
    },
    {
     "cell_type": "markdown",
     "metadata": {},
     "source": [
      "## Chia-Chi Chang"
     ]
    },
    {
     "cell_type": "markdown",
     "metadata": {
      "slideshow": {
       "slide_type": "subslide"
      }
     },
     "source": [
      "# Outline:\n",
      "\n",
      "- ## What is NLP?\n",
      "- ## What is Language Modeling?\n",
      "- ## Hard Problems with NLP\n",
      "- ## Chinese NLP's Problems \n",
      "\n"
     ]
    },
    {
     "cell_type": "markdown",
     "metadata": {
      "slideshow": {
       "slide_type": "subslide"
      }
     },
     "source": [
      "# Courses in NLP:\n",
      "\n",
      "-  ## [Michael Collins Course in Coursera](https://www.coursera.org/course/nlangp) \n",
      "-  ## [Stanford NLP Course in Coursera](https://www.coursera.org/course/nlp)\n"
     ]
    },
    {
     "cell_type": "markdown",
     "metadata": {
      "slideshow": {
       "slide_type": "subslide"
      }
     },
     "source": [
      "# NLP & Language Modeling:\n",
      "\n",
      "![](https://coursera-course-photos.s3.amazonaws.com/c5/42ab154bbf6f76f51b74b8347deab5/iStock_000020359734_Small.jpg)\n",
      "\n",
      "-  ## [Michael Collins](http://www.cs.columbia.edu/~mcollins/)\n",
      "-  ## [Michael Collins Course in Columnbia](http://www.cs.columbia.edu/~cs4705/)\n",
      "-  ## [Introductio to NLP](http://www.cs.columbia.edu/~cs4705/lectures/newlec01.pdf)\n",
      "-  ## [Language Modeling](https://d396qusza40orc.cloudfront.net/nlangp/lectures%2Flm.pdf)\n"
     ]
    },
    {
     "cell_type": "markdown",
     "metadata": {
      "slideshow": {
       "slide_type": "subslide"
      }
     },
     "source": [
      "# [Example] Supervised NLP models workflow:\n",
      "\n",
      "## Ref: http://www.slideshare.net/ogrisel/nltk-scikit-learnpyconfr2010ogrisel\n",
      "\n",
      "![](supervised_nlp_nodel_flow.png)"
     ]
    },
    {
     "cell_type": "markdown",
     "metadata": {
      "slideshow": {
       "slide_type": "subslide"
      }
     },
     "source": [
      "# Why NLP is Hard ?"
     ]
    },
    {
     "cell_type": "markdown",
     "metadata": {
      "slideshow": {
       "slide_type": "slide"
      }
     },
     "source": [
      "# Hello Language Modeling ..."
     ]
    },
    {
     "cell_type": "markdown",
     "metadata": {
      "slideshow": {
       "slide_type": "subslide"
      }
     },
     "source": [
      "# Hello NGram Model & Counting Measure:"
     ]
    },
    {
     "cell_type": "markdown",
     "metadata": {},
     "source": [
      "-  ## Collecting Corpus"
     ]
    },
    {
     "cell_type": "markdown",
     "metadata": {
      "slideshow": {
       "slide_type": "subslide"
      }
     },
     "source": [
      "# Using PTT Corpus \n",
      "\n",
      "## Ref: [Lecture1 & Lecture2: PTT Web Crawler](http://talks.c3h3.org/Lecture2_WebCrawler.slides.html#/16)\n",
      "\n",
      "![](http://talks.c3h3.org/Lec2_slide_imgs/Web_Ptt_article.png)"
     ]
    },
    {
     "cell_type": "markdown",
     "metadata": {
      "slideshow": {
       "slide_type": "subslide"
      }
     },
     "source": [
      "# Articles in DB:\n",
      "\n",
      "![](ptt_corpus_prior.png)"
     ]
    },
    {
     "cell_type": "markdown",
     "metadata": {
      "slideshow": {
       "slide_type": "subslide"
      }
     },
     "source": [
      "# Loading Data From MongoDB"
     ]
    },
    {
     "cell_type": "code",
     "collapsed": false,
     "input": [
      "from pymongo import MongoClient\n",
      "mongo_client = MongoClient()\n",
      "ptt_crawler_db = mongo_client.ptt_crawler_db\n",
      "ptt_article = ptt_crawler_db.ptt_article\n",
      "ptt_article_push = ptt_crawler_db.ptt_article_push"
     ],
     "language": "python",
     "metadata": {
      "slideshow": {
       "slide_type": "-"
      }
     },
     "outputs": [],
     "prompt_number": 5
    },
    {
     "cell_type": "markdown",
     "metadata": {
      "slideshow": {
       "slide_type": "subslide"
      }
     },
     "source": [
      "# Using DataFrame"
     ]
    },
    {
     "cell_type": "code",
     "collapsed": false,
     "input": [
      "import pandas as pd \n",
      "\n",
      "# articles_df = pd.DataFrame(list(ptt_article.find({})))\n",
      "articles_df = pd.DataFrame(list(ptt_article.find({\"Board\":{\"$in\":[\"Accounting\",'Physics']}})))"
     ],
     "language": "python",
     "metadata": {},
     "outputs": [],
     "prompt_number": 6
    },
    {
     "cell_type": "code",
     "collapsed": false,
     "input": [
      "print articles_df.shape\n",
      "articles_df.head(10)"
     ],
     "language": "python",
     "metadata": {
      "slideshow": {
       "slide_type": "fragment"
      }
     },
     "outputs": [
      {
       "output_type": "stream",
       "stream": "stdout",
       "text": [
        "(37122, 9)\n"
       ]
      },
      {
       "html": [
        "<div style=\"max-height:1000px;max-width:1500px;overflow:auto;\">\n",
        "<table border=\"1\" class=\"dataframe\">\n",
        "  <thead>\n",
        "    <tr style=\"text-align: right;\">\n",
        "      <th></th>\n",
        "      <th>Board</th>\n",
        "      <th>_id</th>\n",
        "      <th>text</th>\n",
        "      <th>time</th>\n",
        "      <th>title</th>\n",
        "      <th>url</th>\n",
        "      <th>user</th>\n",
        "      <th>user_id</th>\n",
        "      <th>user_nickname</th>\n",
        "    </tr>\n",
        "  </thead>\n",
        "  <tbody>\n",
        "    <tr>\n",
        "      <th>0</th>\n",
        "      <td> Accounting</td>\n",
        "      <td> 52f223db74798d7e7bbe9965</td>\n",
        "      <td>   \\n102\u5e74\u8d85\u7d1a\u51fd\u6388CD\u7248\\n\\n\u9ad8\u6703(\u856d\u9756) \u6b32\u552e$2500 NT\\n\\n\u516c\u53f8\u6cd5(\u8463\u8b19...</td>\n",
        "      <td> Wed Feb  5 13:48:58 2014</td>\n",
        "      <td>             [\u51fa\u552e] 102\u5e74\u8d85\u7d1a\u51fd\u6388 \u9ad8\u6703\u3001\u516c\u53f8\u6cd5</td>\n",
        "      <td> http://www.ptt.cc/bbs/Accounting/M.1391579341....</td>\n",
        "      <td>           sunnykiller (\u5929\u7c5f\u4e4b\u8072)</td>\n",
        "      <td>  sunnykiller</td>\n",
        "      <td>        \u5929\u7c5f\u4e4b\u8072</td>\n",
        "    </tr>\n",
        "    <tr>\n",
        "      <th>1</th>\n",
        "      <td> Accounting</td>\n",
        "      <td> 52f223db74798d7e78be9965</td>\n",
        "      <td>   \\n\u5982\u6a19\u984c\\n\u5269\u4e0b\u4e00\u6b21\u6388\u6b0a\u5373\u53ef\\n\u8b1b\u7fa9\u6211\u6709\\n\u4f46\u662f\u7f3a\u7b46\u8a18\\n\u5982\u679c\u9858\u610f\u8ce3\u7b46\u8a18\u4e5fOK\\n\\n...</td>\n",
        "      <td> Wed Feb  5 14:44:15 2014</td>\n",
        "      <td>               [\u5fb5\u6c42]\u5f90\u9326\u83ef\u9ad8\u6703DVD or \u8b1b\u7fa9</td>\n",
        "      <td> http://www.ptt.cc/bbs/Accounting/M.1391582662....</td>\n",
        "      <td> JilSander (Doer brokenheart)</td>\n",
        "      <td>    JilSander</td>\n",
        "      <td>         Doe</td>\n",
        "    </tr>\n",
        "    <tr>\n",
        "      <th>2</th>\n",
        "      <td> Accounting</td>\n",
        "      <td> 52f223db74798d7e76be9965</td>\n",
        "      <td>   \\n\u203b \u5f15\u8ff0\u300aflora713 (pretty world)\u300b\u4e4b\u9298\u8a00\uff1a: 1. \u51fa\u552e\uff1a\u5fd7...</td>\n",
        "      <td> Wed Feb  5 16:47:30 2014</td>\n",
        "      <td> Re: [\u51fa\u552e/\u8d08\u9001] \u5fd7\u5149\u5c0a\u69ae\u512a\u60e0\u5238/ \u8d85\u7d1a\u51fd\u6388VIP\u63a8\u85a6\u79ae\u5238</td>\n",
        "      <td> http://www.ptt.cc/bbs/Accounting/M.1391590052....</td>\n",
        "      <td>            lphotoimpact (\u6953\u96ea)</td>\n",
        "      <td> lphotoimpact</td>\n",
        "      <td>          \u6953\u96ea</td>\n",
        "    </tr>\n",
        "    <tr>\n",
        "      <th>3</th>\n",
        "      <td> Accounting</td>\n",
        "      <td> 52f223dd74798d7e7abe9965</td>\n",
        "      <td>   \\n\\n     \u521d\u6703\\n     http://goods.ruten.com.tw/...</td>\n",
        "      <td> Wed Feb  5 14:57:59 2014</td>\n",
        "      <td>      [\u552e] \u521d\u7d1a\u6703\u8a08\u5b78.\u4e2d\u7d1a\u6703\u8a08\u5b78.\u6210\u672c\u6703\u8a08 DVD+\u8b1b\u7fa9</td>\n",
        "      <td> http://www.ptt.cc/bbs/Accounting/M.1391583483....</td>\n",
        "      <td>                  ap22 (\u65cb\u8f49\u74f6\u5b50)</td>\n",
        "      <td>         ap22</td>\n",
        "      <td>        \u65cb\u8f49\u74f6\u5b50</td>\n",
        "    </tr>\n",
        "    <tr>\n",
        "      <th>4</th>\n",
        "      <td>    Physics</td>\n",
        "      <td> 52f223e274798d7e76be9967</td>\n",
        "      <td>   \\n\u6628\u5929\u5728\uff34\uff25\uff24\u5f71\u7247\u4e2d\u770b\u5230\u4e00\u5247\u63a2\u8a0e\u591a\u7dad\u5ea6\u4e16\u754c\u7684\u7247\u5b50\uff0c\u89ba\u5f97\u5f88\u6709\u8da3\uff0c\\n\\n\\nhttp:/...</td>\n",
        "      <td> Mon Jan 27 07:29:37 2014</td>\n",
        "      <td>           [\u8acb\u76ca] \u770b\u5230\u4ee5\u591a\u7dad\u5ea6\u4e16\u754c\u70ba\u4e3b\u984c\u7684\uff34\uff25\uff24\u5f71\u7247</td>\n",
        "      <td> http://www.ptt.cc/bbs/Physics/M.1390778982.A.D...</td>\n",
        "      <td>             purestone (\u5929\u7a7a\u4e4b\u5b50)</td>\n",
        "      <td>    purestone</td>\n",
        "      <td>        \u5929\u7a7a\u4e4b\u5b50</td>\n",
        "    </tr>\n",
        "    <tr>\n",
        "      <th>5</th>\n",
        "      <td>    Physics</td>\n",
        "      <td> 52f223e474798d7e79be9966</td>\n",
        "      <td>   \\n\u5047\u8a2d\u4e00\u7b49\u901f\u5ea6\u5217\u8eca\\n\u5728\u5176\u4e2d\u73a9\u9059\u63a7\u98db\u6a5f  (\u64cd\u63a7\u4e0a\u5347)  \u53ea\u6709\u5782\u76f4\u5f80\u4e0a\u7684\u529b\\n\u90a3\u9ebc\u9059\u63a7...</td>\n",
        "      <td> Fri Jan 31 18:11:27 2014</td>\n",
        "      <td>                      [\u8acb\u76ca] \u79fb\u52d5\u5217\u8eca\u554f\u984c</td>\n",
        "      <td> http://www.ptt.cc/bbs/Physics/M.1391163090.A.C...</td>\n",
        "      <td>    common13139 (common13139)</td>\n",
        "      <td>  common13139</td>\n",
        "      <td> common13139</td>\n",
        "    </tr>\n",
        "    <tr>\n",
        "      <th>6</th>\n",
        "      <td>    Physics</td>\n",
        "      <td> 52f223e774798d7e78be996e</td>\n",
        "      <td>   \\n\\n\\n\u5169\u500bl=1 \u7684\u96fb\u5b50\\n\\n\u4e0d\u80fd\u7d50\u5408\u6210    \u4e0a\u6a19  -&gt; 3S\u55ce\\n\\n\u5c31\u662f...</td>\n",
        "      <td> Mon Feb  3 11:03:12 2014</td>\n",
        "      <td>      [\u554f\u984c] \u6709\u95dc\u539f\u5b50\u8ecc\u57df  \u5169\u500bl(\u5c0f\u5bebL)=1 \u7684\u96fb\u5b50</td>\n",
        "      <td> http://www.ptt.cc/bbs/Physics/M.1391396594.A.F...</td>\n",
        "      <td>                  scott414 ()</td>\n",
        "      <td>     scott414</td>\n",
        "      <td>            </td>\n",
        "    </tr>\n",
        "    <tr>\n",
        "      <th>7</th>\n",
        "      <td>    Physics</td>\n",
        "      <td> 52f223e974798d7e7bbe9966</td>\n",
        "      <td>   \\n1.\u7531\u67cf\u52aa\u7acb\u5c07\u51fa\u53e3\u6d41\u901f\u5beb\u6210 \u9ad8\u8655\u58d3\u529b\u7684\u51fd\u6578 V=f(P)\\n   V=[2(P/10...</td>\n",
        "      <td> Wed Jan 22 21:56:13 2014</td>\n",
        "      <td>     Re: [\u554f\u984c] \u7269\u8cea\u6240\u7522\u751f\u4e4b\u885d\u64ca\u61c9\u4ee5\u52d5\u91cf\u9084\u662f\u52d5\u80fd\u8a08\u7b97?</td>\n",
        "      <td> http://www.ptt.cc/bbs/Physics/M.1390398976.A.4...</td>\n",
        "      <td>              irrotation (\u975e\u65cb)</td>\n",
        "      <td>   irrotation</td>\n",
        "      <td>          \u975e\u65cb</td>\n",
        "    </tr>\n",
        "    <tr>\n",
        "      <th>8</th>\n",
        "      <td>    Physics</td>\n",
        "      <td> 52f223ef74798d7e7abe9967</td>\n",
        "      <td>   \\n\u6211\u5728paper\u4e0a\u770b\u5230gaussian white noise\u5b9a\u7fa9\u6210\\n1.E[X(t...</td>\n",
        "      <td> Sun Jan 26 01:59:02 2014</td>\n",
        "      <td>      [\u554f\u984c]\u6709\u95dcwhite  gaussian noise</td>\n",
        "      <td> http://www.ptt.cc/bbs/Physics/M.1390672744.A.4...</td>\n",
        "      <td>             nick65415 (\u963f\u92fc\u5148\u751f)</td>\n",
        "      <td>    nick65415</td>\n",
        "      <td>        \u963f\u92fc\u5148\u751f</td>\n",
        "    </tr>\n",
        "    <tr>\n",
        "      <th>9</th>\n",
        "      <td>    Physics</td>\n",
        "      <td> 52f223f174798d7e77be996f</td>\n",
        "      <td>   \\n- \u666e\u901a\u7269\u7406\u4f5c\u8005 Robert Resnick \u65bc\u524d\u5929 2014.01.29 \u901d\u4e16 ...</td>\n",
        "      <td> Sat Feb  1 06:16:07 2014</td>\n",
        "      <td> [\u66f8\u7c4d] \u9583\u96fb\u7248\u666e\u901a\u7269\u7406\u4f5c\u8005 Robert Resnick \u901d\u4e16</td>\n",
        "      <td> http://www.ptt.cc/bbs/Physics/M.1391206571.A.4...</td>\n",
        "      <td>              costello (\u91cd\u8fd4\u69ae\u5149)</td>\n",
        "      <td>     costello</td>\n",
        "      <td>        \u91cd\u8fd4\u69ae\u5149</td>\n",
        "    </tr>\n",
        "  </tbody>\n",
        "</table>\n",
        "<p>10 rows \u00d7 9 columns</p>\n",
        "</div>"
       ],
       "metadata": {},
       "output_type": "pyout",
       "prompt_number": 5,
       "text": [
        "        Board                       _id  \\\n",
        "0  Accounting  52f223db74798d7e7bbe9965   \n",
        "1  Accounting  52f223db74798d7e78be9965   \n",
        "2  Accounting  52f223db74798d7e76be9965   \n",
        "3  Accounting  52f223dd74798d7e7abe9965   \n",
        "4     Physics  52f223e274798d7e76be9967   \n",
        "5     Physics  52f223e474798d7e79be9966   \n",
        "6     Physics  52f223e774798d7e78be996e   \n",
        "7     Physics  52f223e974798d7e7bbe9966   \n",
        "8     Physics  52f223ef74798d7e7abe9967   \n",
        "9     Physics  52f223f174798d7e77be996f   \n",
        "\n",
        "                                                text  \\\n",
        "0    \\n102\u5e74\u8d85\u7d1a\u51fd\u6388CD\u7248\\n\\n\u9ad8\u6703(\u856d\u9756) \u6b32\u552e$2500 NT\\n\\n\u516c\u53f8\u6cd5(\u8463\u8b19...   \n",
        "1    \\n\u5982\u6a19\u984c\\n\u5269\u4e0b\u4e00\u6b21\u6388\u6b0a\u5373\u53ef\\n\u8b1b\u7fa9\u6211\u6709\\n\u4f46\u662f\u7f3a\u7b46\u8a18\\n\u5982\u679c\u9858\u610f\u8ce3\u7b46\u8a18\u4e5fOK\\n\\n...   \n",
        "2    \\n\u203b \u5f15\u8ff0\u300aflora713 (pretty world)\u300b\u4e4b\u9298\u8a00\uff1a: 1. \u51fa\u552e\uff1a\u5fd7...   \n",
        "3    \\n\\n     \u521d\u6703\\n     http://goods.ruten.com.tw/...   \n",
        "4    \\n\u6628\u5929\u5728\uff34\uff25\uff24\u5f71\u7247\u4e2d\u770b\u5230\u4e00\u5247\u63a2\u8a0e\u591a\u7dad\u5ea6\u4e16\u754c\u7684\u7247\u5b50\uff0c\u89ba\u5f97\u5f88\u6709\u8da3\uff0c\\n\\n\\nhttp:/...   \n",
        "5    \\n\u5047\u8a2d\u4e00\u7b49\u901f\u5ea6\u5217\u8eca\\n\u5728\u5176\u4e2d\u73a9\u9059\u63a7\u98db\u6a5f  (\u64cd\u63a7\u4e0a\u5347)  \u53ea\u6709\u5782\u76f4\u5f80\u4e0a\u7684\u529b\\n\u90a3\u9ebc\u9059\u63a7...   \n",
        "6    \\n\\n\\n\u5169\u500bl=1 \u7684\u96fb\u5b50\\n\\n\u4e0d\u80fd\u7d50\u5408\u6210    \u4e0a\u6a19  -> 3S\u55ce\\n\\n\u5c31\u662f...   \n",
        "7    \\n1.\u7531\u67cf\u52aa\u7acb\u5c07\u51fa\u53e3\u6d41\u901f\u5beb\u6210 \u9ad8\u8655\u58d3\u529b\u7684\u51fd\u6578 V=f(P)\\n   V=[2(P/10...   \n",
        "8    \\n\u6211\u5728paper\u4e0a\u770b\u5230gaussian white noise\u5b9a\u7fa9\u6210\\n1.E[X(t...   \n",
        "9    \\n- \u666e\u901a\u7269\u7406\u4f5c\u8005 Robert Resnick \u65bc\u524d\u5929 2014.01.29 \u901d\u4e16 ...   \n",
        "\n",
        "                       time                             title  \\\n",
        "0  Wed Feb  5 13:48:58 2014              [\u51fa\u552e] 102\u5e74\u8d85\u7d1a\u51fd\u6388 \u9ad8\u6703\u3001\u516c\u53f8\u6cd5   \n",
        "1  Wed Feb  5 14:44:15 2014                [\u5fb5\u6c42]\u5f90\u9326\u83ef\u9ad8\u6703DVD or \u8b1b\u7fa9   \n",
        "2  Wed Feb  5 16:47:30 2014  Re: [\u51fa\u552e/\u8d08\u9001] \u5fd7\u5149\u5c0a\u69ae\u512a\u60e0\u5238/ \u8d85\u7d1a\u51fd\u6388VIP\u63a8\u85a6\u79ae\u5238   \n",
        "3  Wed Feb  5 14:57:59 2014       [\u552e] \u521d\u7d1a\u6703\u8a08\u5b78.\u4e2d\u7d1a\u6703\u8a08\u5b78.\u6210\u672c\u6703\u8a08 DVD+\u8b1b\u7fa9   \n",
        "4  Mon Jan 27 07:29:37 2014            [\u8acb\u76ca] \u770b\u5230\u4ee5\u591a\u7dad\u5ea6\u4e16\u754c\u70ba\u4e3b\u984c\u7684\uff34\uff25\uff24\u5f71\u7247   \n",
        "5  Fri Jan 31 18:11:27 2014                       [\u8acb\u76ca] \u79fb\u52d5\u5217\u8eca\u554f\u984c   \n",
        "6  Mon Feb  3 11:03:12 2014       [\u554f\u984c] \u6709\u95dc\u539f\u5b50\u8ecc\u57df  \u5169\u500bl(\u5c0f\u5bebL)=1 \u7684\u96fb\u5b50   \n",
        "7  Wed Jan 22 21:56:13 2014      Re: [\u554f\u984c] \u7269\u8cea\u6240\u7522\u751f\u4e4b\u885d\u64ca\u61c9\u4ee5\u52d5\u91cf\u9084\u662f\u52d5\u80fd\u8a08\u7b97?   \n",
        "8  Sun Jan 26 01:59:02 2014       [\u554f\u984c]\u6709\u95dcwhite  gaussian noise   \n",
        "9  Sat Feb  1 06:16:07 2014  [\u66f8\u7c4d] \u9583\u96fb\u7248\u666e\u901a\u7269\u7406\u4f5c\u8005 Robert Resnick \u901d\u4e16   \n",
        "\n",
        "                                                 url  \\\n",
        "0  http://www.ptt.cc/bbs/Accounting/M.1391579341....   \n",
        "1  http://www.ptt.cc/bbs/Accounting/M.1391582662....   \n",
        "2  http://www.ptt.cc/bbs/Accounting/M.1391590052....   \n",
        "3  http://www.ptt.cc/bbs/Accounting/M.1391583483....   \n",
        "4  http://www.ptt.cc/bbs/Physics/M.1390778982.A.D...   \n",
        "5  http://www.ptt.cc/bbs/Physics/M.1391163090.A.C...   \n",
        "6  http://www.ptt.cc/bbs/Physics/M.1391396594.A.F...   \n",
        "7  http://www.ptt.cc/bbs/Physics/M.1390398976.A.4...   \n",
        "8  http://www.ptt.cc/bbs/Physics/M.1390672744.A.4...   \n",
        "9  http://www.ptt.cc/bbs/Physics/M.1391206571.A.4...   \n",
        "\n",
        "                           user       user_id user_nickname  \n",
        "0            sunnykiller (\u5929\u7c5f\u4e4b\u8072)   sunnykiller          \u5929\u7c5f\u4e4b\u8072  \n",
        "1  JilSander (Doer brokenheart)     JilSander           Doe  \n",
        "2             lphotoimpact (\u6953\u96ea)  lphotoimpact            \u6953\u96ea  \n",
        "3                   ap22 (\u65cb\u8f49\u74f6\u5b50)          ap22          \u65cb\u8f49\u74f6\u5b50  \n",
        "4              purestone (\u5929\u7a7a\u4e4b\u5b50)     purestone          \u5929\u7a7a\u4e4b\u5b50  \n",
        "5     common13139 (common13139)   common13139   common13139  \n",
        "6                   scott414 ()      scott414                \n",
        "7               irrotation (\u975e\u65cb)    irrotation            \u975e\u65cb  \n",
        "8              nick65415 (\u963f\u92fc\u5148\u751f)     nick65415          \u963f\u92fc\u5148\u751f  \n",
        "9               costello (\u91cd\u8fd4\u69ae\u5149)      costello          \u91cd\u8fd4\u69ae\u5149  \n",
        "\n",
        "[10 rows x 9 columns]"
       ]
      }
     ],
     "prompt_number": 5
    },
    {
     "cell_type": "markdown",
     "metadata": {
      "slideshow": {
       "slide_type": "subslide"
      }
     },
     "source": [
      "# Analysis Title Data ... "
     ]
    },
    {
     "cell_type": "code",
     "collapsed": false,
     "input": [
      "articles_df[\"title\"]"
     ],
     "language": "python",
     "metadata": {},
     "outputs": [
      {
       "metadata": {},
       "output_type": "pyout",
       "prompt_number": 5,
       "text": [
        "0                 [\u51fa\u552e] 102\u5e74\u8d85\u7d1a\u51fd\u6388 \u9ad8\u6703\u3001\u516c\u53f8\u6cd5\n",
        "1                   [\u5fb5\u6c42]\u5f90\u9326\u83ef\u9ad8\u6703DVD or \u8b1b\u7fa9\n",
        "2     Re: [\u51fa\u552e/\u8d08\u9001] \u5fd7\u5149\u5c0a\u69ae\u512a\u60e0\u5238/ \u8d85\u7d1a\u51fd\u6388VIP\u63a8\u85a6\u79ae\u5238\n",
        "3          [\u552e] \u521d\u7d1a\u6703\u8a08\u5b78.\u4e2d\u7d1a\u6703\u8a08\u5b78.\u6210\u672c\u6703\u8a08 DVD+\u8b1b\u7fa9\n",
        "4               [\u8acb\u76ca] \u770b\u5230\u4ee5\u591a\u7dad\u5ea6\u4e16\u754c\u70ba\u4e3b\u984c\u7684\uff34\uff25\uff24\u5f71\u7247\n",
        "5                          [\u8acb\u76ca] \u79fb\u52d5\u5217\u8eca\u554f\u984c\n",
        "6          [\u554f\u984c] \u6709\u95dc\u539f\u5b50\u8ecc\u57df  \u5169\u500bl(\u5c0f\u5bebL)=1 \u7684\u96fb\u5b50\n",
        "7         Re: [\u554f\u984c] \u7269\u8cea\u6240\u7522\u751f\u4e4b\u885d\u64ca\u61c9\u4ee5\u52d5\u91cf\u9084\u662f\u52d5\u80fd\u8a08\u7b97?\n",
        "8          [\u554f\u984c]\u6709\u95dcwhite  gaussian noise\n",
        "9     [\u66f8\u7c4d] \u9583\u96fb\u7248\u666e\u901a\u7269\u7406\u4f5c\u8005 Robert Resnick \u901d\u4e16\n",
        "10              [\u554f\u984c] \u64f4\u6563\u4fc2\u6578\u7684\u5fae\u7c92\u76f4\u5f91\u8a72\u7528\u54ea\u4e00\u7a2e\u76f4\u5f91?\n",
        "11               [\u8acb\u76ca] \u8a62\u554f\u5728\u53f0\u7063\u7814\u7a76\u55ae\u4f4dVLS\u6cd5\u9577Si\n",
        "12                     [\u9592\u804a] \u4eca\u5929\u7684\u7802\u77f3\u8eca\u885d\u7e3d\u7d71\u5e9c\n",
        "13                         [\u554f\u984c] \u95dc\u65bc\u8aa4\u5dee\u50b3\u905e\n",
        "14              [\u8acb\u76ca] \u8f2a\u80ce\u539f\u5730\u7a7a\u8f49\u5230\u958b\u59cb\u6efe\u52d5\u7684\u6469\u64e6\u529b\u8b8a\u5316\n",
        "...\n",
        "37107                   [\u552e] \u9ad8\u7b49\u6703\u8a08\u5b78 102.\u5deb\u6bd3\u742a.\u540d\u5e2b.\u6703\u8a08\u5e2b\u73ed\n",
        "37108                         [\u554f\u984c] \u8acb\u6559102\u5e74\u5730\u7279\u6210\u7ba1\u6703\u9078\u64c7\u984c\n",
        "37109                      [\u5fc3\u5f97] 102\u5e74\u90e8\u5206\u6703\u7814\u6240\u8003\u8a66\u5165\u5b78\u6578\u64da\u5206\u4eab\n",
        "37110                  [\u51fa\u552e] \u5fd7\u5149/\u5fd7\u8056/\u5b78\u5112/\u4fdd\u6210\u5206\u4eab\u5238 $10000\n",
        "37111                            [\u5fb5\u6c42]\u8b49\u4ea4\u6cd5\u3001\u5546\u6703\u6cd5DVD\u51fd\u6388\n",
        "37112                    [\u554f\u984c] \u8acb\u554f\u6797\u8559\u771f\u8001\u5e2b\u4e2d\u6703.\u9ad8\u6703 \u6700\u8fd1\u6709\u518d\u7248\u55ce\n",
        "37113                               [\u554f\u984c] \u5169\u984c\u5b58\u8ca8(\u521d\u6703)\n",
        "37114                              [\u554f\u984c] BOT\u4f01\u696d\u7a05\u52d9\u554f\u984c\n",
        "37115                          [\u554f\u984c] \u8acb\u554fP\u6240\u5c65\u6b77\u8868\u683c\u586b\u5beb\u5728\u54ea\u88e1\n",
        "37116                     [\u51fa\u552e]102\u5e74 \u5f35\u5efa\u662d-\u7a05\u52d9\u6cd5\u898f CD \u51fd\u6388\n",
        "37117    [\u552e\u66f8]Advanced Financial Accounting (IFRS)\n",
        "37118                                   [\u5fb5\u6c42] \u4e2d\u6703\u51fd\u6388\n",
        "37119                            [\u5fb5]\u9ad8\u9ede \u7a05\u52d9\u6cd5\u898f \u8a31\u78a7\u7389\u8001\u5e2b\n",
        "37120                            [\u51fa\u552e]\u9ad8\u9ede\u5468\u5f8b\u5e2b\u516c\u53f8\u6cd5/\u6298\u50f9\u5238\n",
        "37121                            [\u5fb5] \u738b\u4e0a\u9054\u653f\u5e9c\u6703\u8a08\u8ab2\u672c&\u984c\u5eab\n",
        "Name: title, Length: 37122, dtype: object"
       ]
      }
     ],
     "prompt_number": 5
    },
    {
     "cell_type": "markdown",
     "metadata": {
      "slideshow": {
       "slide_type": "subslide"
      }
     },
     "source": [
      "# Hello NGram Extractor:"
     ]
    },
    {
     "cell_type": "code",
     "collapsed": false,
     "input": [
      "test = articles_df[\"title\"][0]\n",
      "print test"
     ],
     "language": "python",
     "metadata": {
      "slideshow": {
       "slide_type": "-"
      }
     },
     "outputs": [
      {
       "output_type": "stream",
       "stream": "stdout",
       "text": [
        "[\u51fa\u552e] 102\u5e74\u8d85\u7d1a\u51fd\u6388 \u9ad8\u6703\u3001\u516c\u53f8\u6cd5\n"
       ]
      }
     ],
     "prompt_number": 32
    },
    {
     "cell_type": "code",
     "collapsed": false,
     "input": [
      "    \n",
      "print test\n",
      "# n = 3\n",
      "# len_text = len(test)\n",
      "# vec_size = len_text - n + 1\n",
      "\n",
      "# for k in range(len_text-n+1):\n",
      "#     print test[k:k+n]\n",
      "\n",
      "\n",
      "ngram_no_filter = lambda text, n: (text[k:k+n] for k in range(len(text)-n+1))\n",
      "\n",
      "ngram = lambda text, n, filter_list=[]: (text[k:k+n] for k in range(len(text)-n+1) if not(text[k:k+n] in filter_list))\n",
      "print ngram(test,2)\n",
      "\n",
      "# print \"\\n\".join(ngram(test,3))\n",
      "print \"\\n\".join(ngram(test,3, [u\"[\u51fa\u552e\"]))\n"
     ],
     "language": "python",
     "metadata": {
      "slideshow": {
       "slide_type": "-"
      }
     },
     "outputs": [
      {
       "output_type": "stream",
       "stream": "stdout",
       "text": [
        "[\u51fa\u552e] 102\u5e74\u8d85\u7d1a\u51fd\u6388 \u9ad8\u6703\u3001\u516c\u53f8\u6cd5\n",
        "[u'[\\u51fa\\u552e] 102\\u5e74\\u8d85\\u7d1a\\u51fd\\u6388 \\u9ad8\\u6703\\u3001\\u516c\\u53f8', u'\\u51fa\\u552e] 102\\u5e74\\u8d85\\u7d1a\\u51fd\\u6388 \\u9ad8\\u6703\\u3001\\u516c\\u53f8\\u6cd5']\n",
        "[\u51fa\u552e] 102\u5e74\u8d85\u7d1a\u51fd\u6388 \u9ad8\u6703\u3001\u516c\u53f8\n",
        "\u51fa\u552e] 102\u5e74\u8d85\u7d1a\u51fd\u6388 \u9ad8\u6703\u3001\u516c\u53f8\u6cd5\n",
        "[2, 2, 2, 1, 2, 2, 2, 2, 2, 2, 2, 2, 1, 2, 2, 2, 2, 2, 2, 2, 2, 2, 1, 2, 2, 2, 2, 2, 2, 2, 2, 1, 2, 2, 2, 2, 2, 2, 2, 2, 2, 1, 2, 2, 2, 2, 2, 2, 2, 2, 1, 2, 2, 2, 2, 2, 2, 2, 2, 2, 1, 2, 2, 2, 2, 2, 2, 2, 2, 1, 2, 2, 2, 2, 2, 2, 1, 1, 1, 0, 1, 1, 1, 1, 1, 1, 1, 1, 0, 1, 1, 1, 1, 1, 1, 2, 2, 2, 1, 2, 2, 2, 2, 2, 2, 2, 2, 1, 2, 2, 2, 2, 2, 2, 2, 2, 2, 1, 2, 2, 2, 2, 2, 2, 2, 2, 1, 2, 2, 2, 2, 2, 2, 2, 2, 2, 1, 2, 2, 2, 2, 2, 2, 2, 2, 1, 2, 2, 2, 2, 2, 2, 2, 2, 2, 1, 2, 2, 2, 2, 2, 2, 2, 2, 1, 2, 2, 2, 2, 2, 2, 2, 2, 2, 1, 2, 2, 2, 2, 2, 2, 2, 2, 1, 2, 2, 2, 2, 2, 2, 2, 2, 2, 1, 2, 2, 2, 2, 2, 2, 2, 2, 1, 2, 2, 2, 2, 2, 2, 2, 2, 2, 1, 2, 2, 2, 2, 2, 2, 2, 2, 1, 2, 2, 2, 2, 2, 2, 2, 2, 2, 1, 2, 2, 2, 2, 2, 2, 2, 2, 1, 2, 2, 2, 2, 2, 2, 1, 1, 1, 0, 1, 1, 1, 1, 1, 1, 1, 1, 0, 1, 1, 1, 1, 1, 1, 2, 2, 2, 1, 2, 2, 2, 2, 2, 2, 2, 2, 1, 2, 2, 2, 2, 2, 2, 2, 2, 2, 1, 2, 2, 2, 2, 2, 2, 2, 2, 1, 2, 2, 2, 2, 2, 2, 2, 2, 2, 1, 2, 2, 2, 2, 2, 2, 2, 2, 1, 2, 2, 2, 2, 2, 2, 2, 2, 2, 1, 2, 2, 2, 2, 2, 2, 2, 2, 1, 2, 2, 2, 2, 2, 2, 2, 2, 2, 1, 2, 2, 2, 2, 2, 2, 2, 2, 1, 2, 2, 2, 2, 2, 2]\n",
        "[\u51fa\n",
        "[\u552e\n",
        "[]\n",
        "[1\n",
        "[0\n",
        "[2\n",
        "[\u5e74\n",
        "[\u8d85\n",
        "[\u7d1a\n",
        "[\u51fd\n",
        "[\u6388\n",
        "[\u9ad8\n",
        "[\u6703\n",
        "[\u3001\n",
        "[\u516c\n",
        "[\u53f8\n",
        "[\u6cd5\n",
        "\u51fa\u51fa\n",
        "\u51fa\u552e\n",
        "\u51fa]\n",
        "\u51fa1\n",
        "\u51fa0\n",
        "\u51fa2\n",
        "\u51fa\u5e74\n",
        "\u51fa\u8d85\n",
        "\u51fa\u7d1a\n",
        "\u51fa\u51fd\n",
        "\u51fa\u6388\n",
        "\u51fa\u9ad8\n",
        "\u51fa\u6703\n",
        "\u51fa\u3001\n",
        "\u51fa\u516c\n",
        "\u51fa\u53f8\n",
        "\u51fa\u6cd5\n",
        "\u552e\u51fa\n",
        "\u552e\u552e\n",
        "\u552e]\n",
        "\u552e1\n",
        "\u552e0\n",
        "\u552e2\n",
        "\u552e\u5e74\n",
        "\u552e\u8d85\n",
        "\u552e\u7d1a\n",
        "\u552e\u51fd\n",
        "\u552e\u6388\n",
        "\u552e\u9ad8\n",
        "\u552e\u6703\n",
        "\u552e\u3001\n",
        "\u552e\u516c\n",
        "\u552e\u53f8\n",
        "\u552e\u6cd5\n",
        "]\u51fa\n",
        "]\u552e\n",
        "]]\n",
        "]1\n",
        "]0\n",
        "]2\n",
        "]\u5e74\n",
        "]\u8d85\n",
        "]\u7d1a\n",
        "]\u51fd\n",
        "]\u6388\n",
        "]\u9ad8\n",
        "]\u6703\n",
        "]\u3001\n",
        "]\u516c\n",
        "]\u53f8\n",
        "]\u6cd5\n",
        "1\u51fa\n",
        "1\u552e\n",
        "1]\n",
        "11\n",
        "10\n",
        "12\n",
        "1\u5e74\n",
        "1\u8d85\n",
        "1\u7d1a\n",
        "1\u51fd\n",
        "1\u6388\n",
        "1\u9ad8\n",
        "1\u6703\n",
        "1\u3001\n",
        "1\u516c\n",
        "1\u53f8\n",
        "1\u6cd5\n",
        "0\u51fa\n",
        "0\u552e\n",
        "0]\n",
        "01\n",
        "00\n",
        "02\n",
        "0\u5e74\n",
        "0\u8d85\n",
        "0\u7d1a\n",
        "0\u51fd\n",
        "0\u6388\n",
        "0\u9ad8\n",
        "0\u6703\n",
        "0\u3001\n",
        "0\u516c\n",
        "0\u53f8\n",
        "0\u6cd5\n",
        "2\u51fa\n",
        "2\u552e\n",
        "2]\n",
        "21\n",
        "20\n",
        "22\n",
        "2\u5e74\n",
        "2\u8d85\n",
        "2\u7d1a\n",
        "2\u51fd\n",
        "2\u6388\n",
        "2\u9ad8\n",
        "2\u6703\n",
        "2\u3001\n",
        "2\u516c\n",
        "2\u53f8\n",
        "2\u6cd5\n",
        "\u5e74\u51fa\n",
        "\u5e74\u552e\n",
        "\u5e74]\n",
        "\u5e741\n",
        "\u5e740\n",
        "\u5e742\n",
        "\u5e74\u5e74\n",
        "\u5e74\u8d85\n",
        "\u5e74\u7d1a\n",
        "\u5e74\u51fd\n",
        "\u5e74\u6388\n",
        "\u5e74\u9ad8\n",
        "\u5e74\u6703\n",
        "\u5e74\u3001\n",
        "\u5e74\u516c\n",
        "\u5e74\u53f8\n",
        "\u5e74\u6cd5\n",
        "\u8d85\u51fa\n",
        "\u8d85\u552e\n",
        "\u8d85]\n",
        "\u8d851\n",
        "\u8d850\n",
        "\u8d852\n",
        "\u8d85\u5e74\n",
        "\u8d85\u8d85\n",
        "\u8d85\u7d1a\n",
        "\u8d85\u51fd\n",
        "\u8d85\u6388\n",
        "\u8d85\u9ad8\n",
        "\u8d85\u6703\n",
        "\u8d85\u3001\n",
        "\u8d85\u516c\n",
        "\u8d85\u53f8\n",
        "\u8d85\u6cd5\n",
        "\u7d1a\u51fa\n",
        "\u7d1a\u552e\n",
        "\u7d1a]\n",
        "\u7d1a1\n",
        "\u7d1a0\n",
        "\u7d1a2\n",
        "\u7d1a\u5e74\n",
        "\u7d1a\u8d85\n",
        "\u7d1a\u7d1a\n",
        "\u7d1a\u51fd\n",
        "\u7d1a\u6388\n",
        "\u7d1a\u9ad8\n",
        "\u7d1a\u6703\n",
        "\u7d1a\u3001\n",
        "\u7d1a\u516c\n",
        "\u7d1a\u53f8\n",
        "\u7d1a\u6cd5\n",
        "\u51fd\u51fa\n",
        "\u51fd\u552e\n",
        "\u51fd]\n",
        "\u51fd1\n",
        "\u51fd0\n",
        "\u51fd2\n",
        "\u51fd\u5e74\n",
        "\u51fd\u8d85\n",
        "\u51fd\u7d1a\n",
        "\u51fd\u51fd\n",
        "\u51fd\u6388\n",
        "\u51fd\u9ad8\n",
        "\u51fd\u6703\n",
        "\u51fd\u3001\n",
        "\u51fd\u516c\n",
        "\u51fd\u53f8\n",
        "\u51fd\u6cd5\n",
        "\u6388\u51fa\n",
        "\u6388\u552e\n",
        "\u6388]\n",
        "\u63881\n",
        "\u63880\n",
        "\u63882\n",
        "\u6388\u5e74\n",
        "\u6388\u8d85\n",
        "\u6388\u7d1a\n",
        "\u6388\u51fd\n",
        "\u6388\u6388\n",
        "\u6388\u9ad8\n",
        "\u6388\u6703\n",
        "\u6388\u3001\n",
        "\u6388\u516c\n",
        "\u6388\u53f8\n",
        "\u6388\u6cd5\n",
        "\u9ad8\u51fa\n",
        "\u9ad8\u552e\n",
        "\u9ad8]\n",
        "\u9ad81\n",
        "\u9ad80\n",
        "\u9ad82\n",
        "\u9ad8\u5e74\n",
        "\u9ad8\u8d85\n",
        "\u9ad8\u7d1a\n",
        "\u9ad8\u51fd\n",
        "\u9ad8\u6388\n",
        "\u9ad8\u9ad8\n",
        "\u9ad8\u6703\n",
        "\u9ad8\u3001\n",
        "\u9ad8\u516c\n",
        "\u9ad8\u53f8\n",
        "\u9ad8\u6cd5\n",
        "\u6703\u51fa\n",
        "\u6703\u552e\n",
        "\u6703]\n",
        "\u67031\n",
        "\u67030\n",
        "\u67032\n",
        "\u6703\u5e74\n",
        "\u6703\u8d85\n",
        "\u6703\u7d1a\n",
        "\u6703\u51fd\n",
        "\u6703\u6388\n",
        "\u6703\u9ad8\n",
        "\u6703\u6703\n",
        "\u6703\u3001\n",
        "\u6703\u516c\n",
        "\u6703\u53f8\n",
        "\u6703\u6cd5\n",
        "\u3001\u51fa\n",
        "\u3001\u552e\n",
        "\u3001]\n",
        "\u30011\n",
        "\u30010\n",
        "\u30012\n",
        "\u3001\u5e74\n",
        "\u3001\u8d85\n",
        "\u3001\u7d1a\n",
        "\u3001\u51fd\n",
        "\u3001\u6388\n",
        "\u3001\u9ad8\n",
        "\u3001\u6703\n",
        "\u3001\u3001\n",
        "\u3001\u516c\n",
        "\u3001\u53f8\n",
        "\u3001\u6cd5\n",
        "\u516c\u51fa\n",
        "\u516c\u552e\n",
        "\u516c]\n",
        "\u516c1\n",
        "\u516c0\n",
        "\u516c2\n",
        "\u516c\u5e74\n",
        "\u516c\u8d85\n",
        "\u516c\u7d1a\n",
        "\u516c\u51fd\n",
        "\u516c\u6388\n",
        "\u516c\u9ad8\n",
        "\u516c\u6703\n",
        "\u516c\u3001\n",
        "\u516c\u516c\n",
        "\u516c\u53f8\n",
        "\u516c\u6cd5\n",
        "\u53f8\u51fa\n",
        "\u53f8\u552e\n",
        "\u53f8]\n",
        "\u53f81\n",
        "\u53f80\n",
        "\u53f82\n",
        "\u53f8\u5e74\n",
        "\u53f8\u8d85\n",
        "\u53f8\u7d1a\n",
        "\u53f8\u51fd\n",
        "\u53f8\u6388\n",
        "\u53f8\u9ad8\n",
        "\u53f8\u6703\n",
        "\u53f8\u3001\n",
        "\u53f8\u516c\n",
        "\u53f8\u53f8\n",
        "\u53f8\u6cd5\n"
       ]
      }
     ],
     "prompt_number": 33
    },
    {
     "cell_type": "markdown",
     "metadata": {
      "slideshow": {
       "slide_type": "subslide"
      }
     },
     "source": [
      "# Hello (my first) NGram Extractor:"
     ]
    },
    {
     "cell_type": "code",
     "collapsed": false,
     "input": [
      "import itertools\n",
      "\n",
      "def get_ngram(text, n=2, stripped = True):\n",
      "    \n",
      "#     print type(text)\n",
      "#     print \"text = \",text\n",
      "    \n",
      "    if isinstance(text,(str,unicode)):\n",
      "        len_text = len(text)\n",
      "        vec_size = len_text - n + 1\n",
      "        switch_list = []\n",
      "\n",
      "        for k in range(0,n):\n",
      "            switch_list.append(text[(0+k):(0+k+vec_size)])\n",
      "    \n",
      "        n_gram_list = zip(switch_list)\n",
      "        n_gram_list_joint = map(lambda xx:u\"\".join(xx),n_gram_list)\n",
      "        \n",
      "        if stripped:\n",
      "            n_gram_list_joint_stripped = [xx for xx in n_gram_list_joint if len(xx.strip()) == n]\n",
      "            return n_gram_list_joint_stripped\n",
      "        else:\n",
      "            return n_gram_list_joint\n",
      "    \n",
      "    else:\n",
      "        return []\n",
      "    \n",
      " \n",
      "        "
     ],
     "language": "python",
     "metadata": {
      "slideshow": {
       "slide_type": "-"
      }
     },
     "outputs": [],
     "prompt_number": 5
    },
    {
     "cell_type": "markdown",
     "metadata": {
      "slideshow": {
       "slide_type": "subslide"
      }
     },
     "source": [
      "# Using NGram Extractor as Tokenize:"
     ]
    },
    {
     "cell_type": "code",
     "collapsed": false,
     "input": [
      "def tokenize(text):\n",
      "    return list(get_ngram(text,n=1))\n",
      "\n",
      "print \"\\n\".join(tokenize(articles_df[\"title\"][3]))"
     ],
     "language": "python",
     "metadata": {},
     "outputs": [
      {
       "output_type": "stream",
       "stream": "stdout",
       "text": [
        "[\n",
        "\u552e\n",
        "]\n",
        "\u521d\n",
        "\u7d1a\n",
        "\u6703\n",
        "\u8a08\n",
        "\u5b78\n",
        ".\n",
        "\u4e2d\n",
        "\u7d1a\n",
        "\u6703\n",
        "\u8a08\n",
        "\u5b78\n",
        ".\n",
        "\u6210\n",
        "\u672c\n",
        "\u6703\n",
        "\u8a08\n",
        "D\n",
        "V\n",
        "D\n",
        "+\n",
        "\u8b1b\n",
        "\u7fa9\n"
       ]
      }
     ],
     "prompt_number": 6
    },
    {
     "cell_type": "markdown",
     "metadata": {
      "slideshow": {
       "slide_type": "subslide"
      }
     },
     "source": [
      "# Text Vectorizer in Scikit Learn:"
     ]
    },
    {
     "cell_type": "code",
     "collapsed": false,
     "input": [
      "from sklearn.feature_extraction.text import CountVectorizer, TfidfVectorizer"
     ],
     "language": "python",
     "metadata": {},
     "outputs": [],
     "prompt_number": 7
    },
    {
     "cell_type": "code",
     "collapsed": false,
     "input": [
      "vec_count = CountVectorizer(tokenizer=tokenize,lowercase=False)\n",
      "vec_tfidf = TfidfVectorizer(tokenizer=tokenize,lowercase=False)"
     ],
     "language": "python",
     "metadata": {},
     "outputs": [],
     "prompt_number": 8
    },
    {
     "cell_type": "markdown",
     "metadata": {},
     "source": [
      "## Reference:\n",
      "\n",
      "- ### [CountVectorizer](http://scikit-learn.org/stable/modules/generated/sklearn.feature_extraction.text.CountVectorizer.html)\n",
      "- ### [TfidfVectorizer](http://scikit-learn.org/stable/modules/generated/sklearn.feature_extraction.text.TfidfVectorizer.html)\n"
     ]
    },
    {
     "cell_type": "markdown",
     "metadata": {
      "slideshow": {
       "slide_type": "slide"
      }
     },
     "source": [
      "# Using CountVectorizer Extract Features"
     ]
    },
    {
     "cell_type": "code",
     "collapsed": false,
     "input": [
      "data_count = vec_count.fit_transform(articles_df[\"title\"])\n"
     ],
     "language": "python",
     "metadata": {},
     "outputs": [],
     "prompt_number": 9
    },
    {
     "cell_type": "code",
     "collapsed": false,
     "input": [
      "print data_count.toarray().shape\n",
      "print len(vec_count.get_feature_names())\n",
      "# print vec_count.get_feature_names()"
     ],
     "language": "python",
     "metadata": {},
     "outputs": [
      {
       "output_type": "stream",
       "stream": "stdout",
       "text": [
        "(37122, 2736)\n",
        "2736\n"
       ]
      }
     ],
     "prompt_number": 10
    },
    {
     "cell_type": "markdown",
     "metadata": {
      "slideshow": {
       "slide_type": "subslide"
      }
     },
     "source": [
      "# Get Document-Term Matrix (DTM):"
     ]
    },
    {
     "cell_type": "code",
     "collapsed": false,
     "input": [
      "dtm_df = pd.DataFrame(data_count.toarray())\n",
      "dtm_df.columns = vec_count.get_feature_names()\n",
      "dtm_df[\"board\"] = articles_df[\"Board\"]\n",
      "dtm_df.head()"
     ],
     "language": "python",
     "metadata": {},
     "outputs": [
      {
       "html": [
        "<div style=\"max-height:1000px;max-width:1500px;overflow:auto;\">\n",
        "<table border=\"1\" class=\"dataframe\">\n",
        "  <thead>\n",
        "    <tr style=\"text-align: right;\">\n",
        "      <th></th>\n",
        "      <th>!</th>\n",
        "      <th>\"</th>\n",
        "      <th>#</th>\n",
        "      <th>$</th>\n",
        "      <th>%</th>\n",
        "      <th>&amp;</th>\n",
        "      <th>'</th>\n",
        "      <th>(</th>\n",
        "      <th>)</th>\n",
        "      <th>*</th>\n",
        "      <th>+</th>\n",
        "      <th>,</th>\n",
        "      <th>-</th>\n",
        "      <th>.</th>\n",
        "      <th>/</th>\n",
        "      <th>0</th>\n",
        "      <th>1</th>\n",
        "      <th>2</th>\n",
        "      <th>3</th>\n",
        "      <th>4</th>\n",
        "      <th></th>\n",
        "    </tr>\n",
        "  </thead>\n",
        "  <tbody>\n",
        "    <tr>\n",
        "      <th>0</th>\n",
        "      <td> 0</td>\n",
        "      <td> 0</td>\n",
        "      <td> 0</td>\n",
        "      <td> 0</td>\n",
        "      <td> 0</td>\n",
        "      <td> 0</td>\n",
        "      <td> 0</td>\n",
        "      <td> 0</td>\n",
        "      <td> 0</td>\n",
        "      <td> 0</td>\n",
        "      <td> 0</td>\n",
        "      <td> 0</td>\n",
        "      <td> 0</td>\n",
        "      <td> 0</td>\n",
        "      <td> 0</td>\n",
        "      <td> 1</td>\n",
        "      <td> 1</td>\n",
        "      <td> 1</td>\n",
        "      <td> 0</td>\n",
        "      <td> 0</td>\n",
        "      <td>...</td>\n",
        "    </tr>\n",
        "    <tr>\n",
        "      <th>1</th>\n",
        "      <td> 0</td>\n",
        "      <td> 0</td>\n",
        "      <td> 0</td>\n",
        "      <td> 0</td>\n",
        "      <td> 0</td>\n",
        "      <td> 0</td>\n",
        "      <td> 0</td>\n",
        "      <td> 0</td>\n",
        "      <td> 0</td>\n",
        "      <td> 0</td>\n",
        "      <td> 0</td>\n",
        "      <td> 0</td>\n",
        "      <td> 0</td>\n",
        "      <td> 0</td>\n",
        "      <td> 0</td>\n",
        "      <td> 0</td>\n",
        "      <td> 0</td>\n",
        "      <td> 0</td>\n",
        "      <td> 0</td>\n",
        "      <td> 0</td>\n",
        "      <td>...</td>\n",
        "    </tr>\n",
        "    <tr>\n",
        "      <th>2</th>\n",
        "      <td> 0</td>\n",
        "      <td> 0</td>\n",
        "      <td> 0</td>\n",
        "      <td> 0</td>\n",
        "      <td> 0</td>\n",
        "      <td> 0</td>\n",
        "      <td> 0</td>\n",
        "      <td> 0</td>\n",
        "      <td> 0</td>\n",
        "      <td> 0</td>\n",
        "      <td> 0</td>\n",
        "      <td> 0</td>\n",
        "      <td> 0</td>\n",
        "      <td> 0</td>\n",
        "      <td> 2</td>\n",
        "      <td> 0</td>\n",
        "      <td> 0</td>\n",
        "      <td> 0</td>\n",
        "      <td> 0</td>\n",
        "      <td> 0</td>\n",
        "      <td>...</td>\n",
        "    </tr>\n",
        "    <tr>\n",
        "      <th>3</th>\n",
        "      <td> 0</td>\n",
        "      <td> 0</td>\n",
        "      <td> 0</td>\n",
        "      <td> 0</td>\n",
        "      <td> 0</td>\n",
        "      <td> 0</td>\n",
        "      <td> 0</td>\n",
        "      <td> 0</td>\n",
        "      <td> 0</td>\n",
        "      <td> 0</td>\n",
        "      <td> 1</td>\n",
        "      <td> 0</td>\n",
        "      <td> 0</td>\n",
        "      <td> 2</td>\n",
        "      <td> 0</td>\n",
        "      <td> 0</td>\n",
        "      <td> 0</td>\n",
        "      <td> 0</td>\n",
        "      <td> 0</td>\n",
        "      <td> 0</td>\n",
        "      <td>...</td>\n",
        "    </tr>\n",
        "    <tr>\n",
        "      <th>4</th>\n",
        "      <td> 0</td>\n",
        "      <td> 0</td>\n",
        "      <td> 0</td>\n",
        "      <td> 0</td>\n",
        "      <td> 0</td>\n",
        "      <td> 0</td>\n",
        "      <td> 0</td>\n",
        "      <td> 0</td>\n",
        "      <td> 0</td>\n",
        "      <td> 0</td>\n",
        "      <td> 0</td>\n",
        "      <td> 0</td>\n",
        "      <td> 0</td>\n",
        "      <td> 0</td>\n",
        "      <td> 0</td>\n",
        "      <td> 0</td>\n",
        "      <td> 0</td>\n",
        "      <td> 0</td>\n",
        "      <td> 0</td>\n",
        "      <td> 0</td>\n",
        "      <td>...</td>\n",
        "    </tr>\n",
        "  </tbody>\n",
        "</table>\n",
        "<p>5 rows \u00d7 2737 columns</p>\n",
        "</div>"
       ],
       "metadata": {},
       "output_type": "pyout",
       "prompt_number": 15,
       "text": [
        "   !  \"  #  $  %  &  '  (  )  *  +  ,  -  .  /  0  1  2  3  4    \n",
        "0  0  0  0  0  0  0  0  0  0  0  0  0  0  0  0  1  1  1  0  0 ...\n",
        "1  0  0  0  0  0  0  0  0  0  0  0  0  0  0  0  0  0  0  0  0 ...\n",
        "2  0  0  0  0  0  0  0  0  0  0  0  0  0  0  2  0  0  0  0  0 ...\n",
        "3  0  0  0  0  0  0  0  0  0  0  1  0  0  2  0  0  0  0  0  0 ...\n",
        "4  0  0  0  0  0  0  0  0  0  0  0  0  0  0  0  0  0  0  0  0 ...\n",
        "\n",
        "[5 rows x 2737 columns]"
       ]
      }
     ],
     "prompt_number": 15
    },
    {
     "cell_type": "markdown",
     "metadata": {
      "slideshow": {
       "slide_type": "subslide"
      }
     },
     "source": [
      "# GroupBy Counting N-Docs:"
     ]
    },
    {
     "cell_type": "code",
     "collapsed": false,
     "input": [
      "dtm_df.groupby(\"board\").size()"
     ],
     "language": "python",
     "metadata": {},
     "outputs": [
      {
       "metadata": {},
       "output_type": "pyout",
       "prompt_number": 16,
       "text": [
        "board\n",
        "Accounting    18786\n",
        "Physics       18336\n",
        "dtype: int64"
       ]
      }
     ],
     "prompt_number": 16
    },
    {
     "cell_type": "markdown",
     "metadata": {
      "slideshow": {
       "slide_type": "subslide"
      }
     },
     "source": [
      "# Using Conditional Mean as Features Filter:"
     ]
    },
    {
     "cell_type": "code",
     "collapsed": false,
     "input": [
      "groupby_board_mean = dtm_df.groupby(\"board\").mean()"
     ],
     "language": "python",
     "metadata": {},
     "outputs": [],
     "prompt_number": 17
    },
    {
     "cell_type": "code",
     "collapsed": false,
     "input": [
      "groupby_top_tfgroupby_board_mean"
     ],
     "language": "python",
     "metadata": {},
     "outputs": [
      {
       "html": [
        "<div style=\"max-height:1000px;max-width:1500px;overflow:auto;\">\n",
        "<table border=\"1\" class=\"dataframe\">\n",
        "  <thead>\n",
        "    <tr style=\"text-align: right;\">\n",
        "      <th></th>\n",
        "      <th>!</th>\n",
        "      <th>\"</th>\n",
        "      <th>#</th>\n",
        "      <th>$</th>\n",
        "      <th>%</th>\n",
        "      <th>&amp;</th>\n",
        "      <th>'</th>\n",
        "      <th>(</th>\n",
        "      <th>)</th>\n",
        "      <th>*</th>\n",
        "      <th>+</th>\n",
        "      <th>,</th>\n",
        "      <th>-</th>\n",
        "      <th>.</th>\n",
        "      <th>/</th>\n",
        "      <th>0</th>\n",
        "      <th>1</th>\n",
        "      <th>2</th>\n",
        "      <th>3</th>\n",
        "      <th>4</th>\n",
        "      <th></th>\n",
        "    </tr>\n",
        "    <tr>\n",
        "      <th>board</th>\n",
        "      <th></th>\n",
        "      <th></th>\n",
        "      <th></th>\n",
        "      <th></th>\n",
        "      <th></th>\n",
        "      <th></th>\n",
        "      <th></th>\n",
        "      <th></th>\n",
        "      <th></th>\n",
        "      <th></th>\n",
        "      <th></th>\n",
        "      <th></th>\n",
        "      <th></th>\n",
        "      <th></th>\n",
        "      <th></th>\n",
        "      <th></th>\n",
        "      <th></th>\n",
        "      <th></th>\n",
        "      <th></th>\n",
        "      <th></th>\n",
        "    </tr>\n",
        "  </thead>\n",
        "  <tbody>\n",
        "    <tr>\n",
        "      <th>Accounting</th>\n",
        "      <td> 0.015916</td>\n",
        "      <td> 0.011871</td>\n",
        "      <td> 0.000586</td>\n",
        "      <td> 0.000639</td>\n",
        "      <td> 0.000106</td>\n",
        "      <td> 0.013947</td>\n",
        "      <td> 0.000426</td>\n",
        "      <td> 0.076227</td>\n",
        "      <td> 0.074630</td>\n",
        "      <td> 0.000213</td>\n",
        "      <td> 0.012403</td>\n",
        "      <td> 0.008996</td>\n",
        "      <td> 0.06590</td>\n",
        "      <td> 0.121261</td>\n",
        "      <td> 0.048866</td>\n",
        "      <td> 0.187107</td>\n",
        "      <td> 0.211541</td>\n",
        "      <td> 0.074683</td>\n",
        "      <td> 0.025444</td>\n",
        "      <td> 0.021559</td>\n",
        "      <td>...</td>\n",
        "    </tr>\n",
        "    <tr>\n",
        "      <th>Physics</th>\n",
        "      <td> 0.011289</td>\n",
        "      <td> 0.028032</td>\n",
        "      <td> 0.000000</td>\n",
        "      <td> 0.000055</td>\n",
        "      <td> 0.000436</td>\n",
        "      <td> 0.005999</td>\n",
        "      <td> 0.004745</td>\n",
        "      <td> 0.034086</td>\n",
        "      <td> 0.033541</td>\n",
        "      <td> 0.001145</td>\n",
        "      <td> 0.003163</td>\n",
        "      <td> 0.013362</td>\n",
        "      <td> 0.04363</td>\n",
        "      <td> 0.090696</td>\n",
        "      <td> 0.009490</td>\n",
        "      <td> 0.022142</td>\n",
        "      <td> 0.020724</td>\n",
        "      <td> 0.020724</td>\n",
        "      <td> 0.007962</td>\n",
        "      <td> 0.003981</td>\n",
        "      <td>...</td>\n",
        "    </tr>\n",
        "  </tbody>\n",
        "</table>\n",
        "<p>2 rows \u00d7 2736 columns</p>\n",
        "</div>"
       ],
       "metadata": {},
       "output_type": "pyout",
       "prompt_number": 18,
       "text": [
        "                   !         \"         #         $         %         &  \\\n",
        "board                                                                    \n",
        "Accounting  0.015916  0.011871  0.000586  0.000639  0.000106  0.013947   \n",
        "Physics     0.011289  0.028032  0.000000  0.000055  0.000436  0.005999   \n",
        "\n",
        "                   '         (         )         *         +         ,  \\\n",
        "board                                                                    \n",
        "Accounting  0.000426  0.076227  0.074630  0.000213  0.012403  0.008996   \n",
        "Physics     0.004745  0.034086  0.033541  0.001145  0.003163  0.013362   \n",
        "\n",
        "                  -         .         /         0         1         2  \\\n",
        "board                                                                   \n",
        "Accounting  0.06590  0.121261  0.048866  0.187107  0.211541  0.074683   \n",
        "Physics     0.04363  0.090696  0.009490  0.022142  0.020724  0.020724   \n",
        "\n",
        "                   3         4      \n",
        "board                               \n",
        "Accounting  0.025444  0.021559 ...  \n",
        "Physics     0.007962  0.003981 ...  \n",
        "\n",
        "[2 rows x 2736 columns]"
       ]
      }
     ],
     "prompt_number": 18
    },
    {
     "cell_type": "markdown",
     "metadata": {
      "slideshow": {
       "slide_type": "subslide"
      }
     },
     "source": [
      "# Filter Out Top 10% Words:"
     ]
    },
    {
     "cell_type": "code",
     "collapsed": false,
     "input": [
      "import numpy as np \n",
      "print np.nonzero(groupby_board_mean.ix[\"Accounting\"] > 0.1)[0].shape\n",
      "print np.nonzero(groupby_board_mean.ix[\"Physics\"] > 0.1)[0].shape\n",
      "\n",
      "Top_Means = set(np.nonzero(groupby_board_mean.ix[\"Accounting\"] > 0.1)[0])\n",
      "Top_Means.update(set(np.nonzero(groupby_board_mean.ix[\"Physics\"] > 0.1)[0]))\n",
      "print \"Top_Means = \",Top_Means\n",
      "print \"len(Top_Means) = \",len(Top_Means)\n",
      "print \"groupby_tf.columns[list(Top_Means)] = \",groupby_board_mean.columns[list(Top_Means)]"
     ],
     "language": "python",
     "metadata": {},
     "outputs": [
      {
       "output_type": "stream",
       "stream": "stdout",
       "text": [
        "(27,)\n",
        "(25,)\n",
        "Top_Means =  set([2603, 394, 523, 13, 15, 16, 529, 1556, 791, 25, 30, 2465, 802, 1190, 170, 1195, 49, 693, 2559, 58, 955, 60, 1589, 67, 1350, 71, 76, 77, 80, 82, 2132, 1379, 356, 63, 875, 1645, 1652, 2516, 2175, 1661, 1919])\n",
        "len(Top_Means) =  41\n",
        "groupby_tf.columns[list(Top_Means)] =  Index([u'\u9ad8', u'\u529b', u'\u552e', u'.', u'0', u'1', u'\u554f', u'\u7269', u'\u5e2b', u':', u'?', u'\u95dc', u'\u5e74', u'\u66f8', u'\u4e2d', u'\u6703', u'R', u'\u5b78', u'\u984c', u'[', u'\u6210', u']', u'\u7406', u'e', u'\u6c42', u'i', u'n', u'o', u'r', u't', u'\u8a08', u'\u6cd5', u'\u51fa', u'a', u'\u5fb5', u'\u7684', u'\u76ca', u'\u96fb', u'\u8acb', u'\u76ee', u'\u8003'], dtype='object')\n"
       ]
      }
     ],
     "prompt_number": 19
    },
    {
     "cell_type": "code",
     "collapsed": false,
     "input": [
      "groupby_top_mean = groupby_board_mean[groupby_board_mean.columns[list(Top_Means)]]\n",
      "print groupby_top_mean.shape"
     ],
     "language": "python",
     "metadata": {},
     "outputs": [
      {
       "output_type": "stream",
       "stream": "stdout",
       "text": [
        "(2, 41)\n"
       ]
      }
     ],
     "prompt_number": 23
    },
    {
     "cell_type": "markdown",
     "metadata": {
      "slideshow": {
       "slide_type": "subslide"
      }
     },
     "source": [
      "# Some Visualization ..."
     ]
    },
    {
     "cell_type": "code",
     "collapsed": false,
     "input": [
      "n_top_words = groupby_top_mean.shape[1]\n",
      "n_top_words_ix = np.array(range(n_top_words))\n",
      "print \"n_top_words = \",n_top_words\n",
      "\n",
      "bar_width = 0.7\n",
      "\n",
      "fig, ax = pylab.subplots(3,1)\n",
      "\n",
      "ax[0].bar(n_top_words_ix,groupby_top_mean.ix[\"Accounting\"],bar_width,color='r',label=\"Accounting\")\n",
      "ax[0].set_xticks(n_top_words_ix + (bar_width/2))\n",
      "ax[0].set_xticklabels( groupby_top_mean.columns, fontproperties=cfont)\n",
      "\n",
      "ax[1].bar(n_top_words_ix,groupby_top_mean.ix[\"Physics\"],bar_width,color='y',label=\"Physics\")\n",
      "ax[1].set_xticks(n_top_words_ix + (bar_width/2))\n",
      "ax[1].set_xticklabels( groupby_top_mean.columns, fontproperties=cfont)\n",
      "\n",
      "\n",
      "bar_width = 0.3\n",
      "\n",
      "rects1 = ax[2].bar(n_top_words_ix,groupby_top_mean.ix[\"Accounting\"],bar_width,color='r',label=\"Accounting\")\n",
      "rects2 = ax[2].bar(n_top_words_ix+bar_width,groupby_top_mean.ix[\"Physics\"],bar_width,color='y',label=\"Physics\")\n",
      "ax[2].set_xticks(n_top_words_ix + bar_width)\n",
      "ax[2].set_xticklabels( groupby_top_mean.columns, fontproperties=cfont)\n",
      "ax[2].legend( (rects1[0], rects2[0]), ('Accounting', 'Physics') )\n",
      "\n"
     ],
     "language": "python",
     "metadata": {},
     "outputs": [
      {
       "output_type": "stream",
       "stream": "stdout",
       "text": [
        "n_top_words =  41\n"
       ]
      },
      {
       "metadata": {},
       "output_type": "pyout",
       "prompt_number": 24,
       "text": [
        "<matplotlib.legend.Legend at 0x12654c90>"
       ]
      },
      {
       "metadata": {},
       "output_type": "display_data",
       "png": "[encoded data removed]",
       "text": [
        "<matplotlib.figure.Figure at 0x125d51d0>"
       ]
      }
     ],
     "prompt_number": 24
    },
    {
     "cell_type": "markdown",
     "metadata": {
      "slideshow": {
       "slide_type": "slide"
      }
     },
     "source": [
      "# Using TfidfVectorizer Extract Features"
     ]
    },
    {
     "cell_type": "code",
     "collapsed": false,
     "input": [
      "data_tfidf = vec_tfidf.fit_transform(articles_df[\"title\"])"
     ],
     "language": "python",
     "metadata": {},
     "outputs": [],
     "prompt_number": 11
    },
    {
     "cell_type": "markdown",
     "metadata": {
      "slideshow": {
       "slide_type": "subslide"
      }
     },
     "source": [
      "# Get Document-Term Matrix (DTM):"
     ]
    },
    {
     "cell_type": "code",
     "collapsed": false,
     "input": [
      "dtm_df = pd.DataFrame(data_tfidf.toarray())\n",
      "dtm_df.columns = vec_tfidf.get_feature_names()\n",
      "dtm_df[\"board\"] = articles_df[\"Board\"]\n",
      "dtm_df.head(10)"
     ],
     "language": "python",
     "metadata": {},
     "outputs": [
      {
       "html": [
        "<div style=\"max-height:1000px;max-width:1500px;overflow:auto;\">\n",
        "<table border=\"1\" class=\"dataframe\">\n",
        "  <thead>\n",
        "    <tr style=\"text-align: right;\">\n",
        "      <th></th>\n",
        "      <th>!</th>\n",
        "      <th>\"</th>\n",
        "      <th>#</th>\n",
        "      <th>$</th>\n",
        "      <th>%</th>\n",
        "      <th>&amp;</th>\n",
        "      <th>'</th>\n",
        "      <th>(</th>\n",
        "      <th>)</th>\n",
        "      <th>*</th>\n",
        "      <th>+</th>\n",
        "      <th>,</th>\n",
        "      <th>-</th>\n",
        "      <th>.</th>\n",
        "      <th>/</th>\n",
        "      <th>0</th>\n",
        "      <th>1</th>\n",
        "      <th>2</th>\n",
        "      <th>3</th>\n",
        "      <th>4</th>\n",
        "      <th></th>\n",
        "    </tr>\n",
        "  </thead>\n",
        "  <tbody>\n",
        "    <tr>\n",
        "      <th>0</th>\n",
        "      <td> 0</td>\n",
        "      <td> 0</td>\n",
        "      <td> 0</td>\n",
        "      <td> 0</td>\n",
        "      <td> 0</td>\n",
        "      <td> 0</td>\n",
        "      <td> 0</td>\n",
        "      <td> 0.000000</td>\n",
        "      <td> 0.000000</td>\n",
        "      <td> 0</td>\n",
        "      <td> 0.000000</td>\n",
        "      <td> 0</td>\n",
        "      <td> 0</td>\n",
        "      <td> 0.000000</td>\n",
        "      <td> 0.000000</td>\n",
        "      <td> 0.210674</td>\n",
        "      <td> 0.205121</td>\n",
        "      <td> 0.245446</td>\n",
        "      <td> 0</td>\n",
        "      <td> 0</td>\n",
        "      <td>...</td>\n",
        "    </tr>\n",
        "    <tr>\n",
        "      <th>1</th>\n",
        "      <td> 0</td>\n",
        "      <td> 0</td>\n",
        "      <td> 0</td>\n",
        "      <td> 0</td>\n",
        "      <td> 0</td>\n",
        "      <td> 0</td>\n",
        "      <td> 0</td>\n",
        "      <td> 0.000000</td>\n",
        "      <td> 0.000000</td>\n",
        "      <td> 0</td>\n",
        "      <td> 0.000000</td>\n",
        "      <td> 0</td>\n",
        "      <td> 0</td>\n",
        "      <td> 0.000000</td>\n",
        "      <td> 0.000000</td>\n",
        "      <td> 0.000000</td>\n",
        "      <td> 0.000000</td>\n",
        "      <td> 0.000000</td>\n",
        "      <td> 0</td>\n",
        "      <td> 0</td>\n",
        "      <td>...</td>\n",
        "    </tr>\n",
        "    <tr>\n",
        "      <th>2</th>\n",
        "      <td> 0</td>\n",
        "      <td> 0</td>\n",
        "      <td> 0</td>\n",
        "      <td> 0</td>\n",
        "      <td> 0</td>\n",
        "      <td> 0</td>\n",
        "      <td> 0</td>\n",
        "      <td> 0.000000</td>\n",
        "      <td> 0.000000</td>\n",
        "      <td> 0</td>\n",
        "      <td> 0.000000</td>\n",
        "      <td> 0</td>\n",
        "      <td> 0</td>\n",
        "      <td> 0.000000</td>\n",
        "      <td> 0.318424</td>\n",
        "      <td> 0.000000</td>\n",
        "      <td> 0.000000</td>\n",
        "      <td> 0.000000</td>\n",
        "      <td> 0</td>\n",
        "      <td> 0</td>\n",
        "      <td>...</td>\n",
        "    </tr>\n",
        "    <tr>\n",
        "      <th>3</th>\n",
        "      <td> 0</td>\n",
        "      <td> 0</td>\n",
        "      <td> 0</td>\n",
        "      <td> 0</td>\n",
        "      <td> 0</td>\n",
        "      <td> 0</td>\n",
        "      <td> 0</td>\n",
        "      <td> 0.000000</td>\n",
        "      <td> 0.000000</td>\n",
        "      <td> 0</td>\n",
        "      <td> 0.241868</td>\n",
        "      <td> 0</td>\n",
        "      <td> 0</td>\n",
        "      <td> 0.348294</td>\n",
        "      <td> 0.000000</td>\n",
        "      <td> 0.000000</td>\n",
        "      <td> 0.000000</td>\n",
        "      <td> 0.000000</td>\n",
        "      <td> 0</td>\n",
        "      <td> 0</td>\n",
        "      <td>...</td>\n",
        "    </tr>\n",
        "    <tr>\n",
        "      <th>4</th>\n",
        "      <td> 0</td>\n",
        "      <td> 0</td>\n",
        "      <td> 0</td>\n",
        "      <td> 0</td>\n",
        "      <td> 0</td>\n",
        "      <td> 0</td>\n",
        "      <td> 0</td>\n",
        "      <td> 0.000000</td>\n",
        "      <td> 0.000000</td>\n",
        "      <td> 0</td>\n",
        "      <td> 0.000000</td>\n",
        "      <td> 0</td>\n",
        "      <td> 0</td>\n",
        "      <td> 0.000000</td>\n",
        "      <td> 0.000000</td>\n",
        "      <td> 0.000000</td>\n",
        "      <td> 0.000000</td>\n",
        "      <td> 0.000000</td>\n",
        "      <td> 0</td>\n",
        "      <td> 0</td>\n",
        "      <td>...</td>\n",
        "    </tr>\n",
        "    <tr>\n",
        "      <th>5</th>\n",
        "      <td> 0</td>\n",
        "      <td> 0</td>\n",
        "      <td> 0</td>\n",
        "      <td> 0</td>\n",
        "      <td> 0</td>\n",
        "      <td> 0</td>\n",
        "      <td> 0</td>\n",
        "      <td> 0.000000</td>\n",
        "      <td> 0.000000</td>\n",
        "      <td> 0</td>\n",
        "      <td> 0.000000</td>\n",
        "      <td> 0</td>\n",
        "      <td> 0</td>\n",
        "      <td> 0.000000</td>\n",
        "      <td> 0.000000</td>\n",
        "      <td> 0.000000</td>\n",
        "      <td> 0.000000</td>\n",
        "      <td> 0.000000</td>\n",
        "      <td> 0</td>\n",
        "      <td> 0</td>\n",
        "      <td>...</td>\n",
        "    </tr>\n",
        "    <tr>\n",
        "      <th>6</th>\n",
        "      <td> 0</td>\n",
        "      <td> 0</td>\n",
        "      <td> 0</td>\n",
        "      <td> 0</td>\n",
        "      <td> 0</td>\n",
        "      <td> 0</td>\n",
        "      <td> 0</td>\n",
        "      <td> 0.174134</td>\n",
        "      <td> 0.174939</td>\n",
        "      <td> 0</td>\n",
        "      <td> 0.000000</td>\n",
        "      <td> 0</td>\n",
        "      <td> 0</td>\n",
        "      <td> 0.000000</td>\n",
        "      <td> 0.000000</td>\n",
        "      <td> 0.000000</td>\n",
        "      <td> 0.154575</td>\n",
        "      <td> 0.000000</td>\n",
        "      <td> 0</td>\n",
        "      <td> 0</td>\n",
        "      <td>...</td>\n",
        "    </tr>\n",
        "    <tr>\n",
        "      <th>7</th>\n",
        "      <td> 0</td>\n",
        "      <td> 0</td>\n",
        "      <td> 0</td>\n",
        "      <td> 0</td>\n",
        "      <td> 0</td>\n",
        "      <td> 0</td>\n",
        "      <td> 0</td>\n",
        "      <td> 0.000000</td>\n",
        "      <td> 0.000000</td>\n",
        "      <td> 0</td>\n",
        "      <td> 0.000000</td>\n",
        "      <td> 0</td>\n",
        "      <td> 0</td>\n",
        "      <td> 0.000000</td>\n",
        "      <td> 0.000000</td>\n",
        "      <td> 0.000000</td>\n",
        "      <td> 0.000000</td>\n",
        "      <td> 0.000000</td>\n",
        "      <td> 0</td>\n",
        "      <td> 0</td>\n",
        "      <td>...</td>\n",
        "    </tr>\n",
        "    <tr>\n",
        "      <th>8</th>\n",
        "      <td> 0</td>\n",
        "      <td> 0</td>\n",
        "      <td> 0</td>\n",
        "      <td> 0</td>\n",
        "      <td> 0</td>\n",
        "      <td> 0</td>\n",
        "      <td> 0</td>\n",
        "      <td> 0.000000</td>\n",
        "      <td> 0.000000</td>\n",
        "      <td> 0</td>\n",
        "      <td> 0.000000</td>\n",
        "      <td> 0</td>\n",
        "      <td> 0</td>\n",
        "      <td> 0.000000</td>\n",
        "      <td> 0.000000</td>\n",
        "      <td> 0.000000</td>\n",
        "      <td> 0.000000</td>\n",
        "      <td> 0.000000</td>\n",
        "      <td> 0</td>\n",
        "      <td> 0</td>\n",
        "      <td>...</td>\n",
        "    </tr>\n",
        "    <tr>\n",
        "      <th>9</th>\n",
        "      <td> 0</td>\n",
        "      <td> 0</td>\n",
        "      <td> 0</td>\n",
        "      <td> 0</td>\n",
        "      <td> 0</td>\n",
        "      <td> 0</td>\n",
        "      <td> 0</td>\n",
        "      <td> 0.000000</td>\n",
        "      <td> 0.000000</td>\n",
        "      <td> 0</td>\n",
        "      <td> 0.000000</td>\n",
        "      <td> 0</td>\n",
        "      <td> 0</td>\n",
        "      <td> 0.000000</td>\n",
        "      <td> 0.000000</td>\n",
        "      <td> 0.000000</td>\n",
        "      <td> 0.000000</td>\n",
        "      <td> 0.000000</td>\n",
        "      <td> 0</td>\n",
        "      <td> 0</td>\n",
        "      <td>...</td>\n",
        "    </tr>\n",
        "  </tbody>\n",
        "</table>\n",
        "<p>10 rows \u00d7 2737 columns</p>\n",
        "</div>"
       ],
       "metadata": {},
       "output_type": "pyout",
       "prompt_number": 11,
       "text": [
        "   !  \"  #  $  %  &  '         (         )  *         +  ,  -         .  \\\n",
        "0  0  0  0  0  0  0  0  0.000000  0.000000  0  0.000000  0  0  0.000000   \n",
        "1  0  0  0  0  0  0  0  0.000000  0.000000  0  0.000000  0  0  0.000000   \n",
        "2  0  0  0  0  0  0  0  0.000000  0.000000  0  0.000000  0  0  0.000000   \n",
        "3  0  0  0  0  0  0  0  0.000000  0.000000  0  0.241868  0  0  0.348294   \n",
        "4  0  0  0  0  0  0  0  0.000000  0.000000  0  0.000000  0  0  0.000000   \n",
        "5  0  0  0  0  0  0  0  0.000000  0.000000  0  0.000000  0  0  0.000000   \n",
        "6  0  0  0  0  0  0  0  0.174134  0.174939  0  0.000000  0  0  0.000000   \n",
        "7  0  0  0  0  0  0  0  0.000000  0.000000  0  0.000000  0  0  0.000000   \n",
        "8  0  0  0  0  0  0  0  0.000000  0.000000  0  0.000000  0  0  0.000000   \n",
        "9  0  0  0  0  0  0  0  0.000000  0.000000  0  0.000000  0  0  0.000000   \n",
        "\n",
        "          /         0         1         2  3  4      \n",
        "0  0.000000  0.210674  0.205121  0.245446  0  0 ...  \n",
        "1  0.000000  0.000000  0.000000  0.000000  0  0 ...  \n",
        "2  0.318424  0.000000  0.000000  0.000000  0  0 ...  \n",
        "3  0.000000  0.000000  0.000000  0.000000  0  0 ...  \n",
        "4  0.000000  0.000000  0.000000  0.000000  0  0 ...  \n",
        "5  0.000000  0.000000  0.000000  0.000000  0  0 ...  \n",
        "6  0.000000  0.000000  0.154575  0.000000  0  0 ...  \n",
        "7  0.000000  0.000000  0.000000  0.000000  0  0 ...  \n",
        "8  0.000000  0.000000  0.000000  0.000000  0  0 ...  \n",
        "9  0.000000  0.000000  0.000000  0.000000  0  0 ...  \n",
        "\n",
        "[10 rows x 2737 columns]"
       ]
      }
     ],
     "prompt_number": 11
    },
    {
     "cell_type": "markdown",
     "metadata": {
      "slideshow": {
       "slide_type": "subslide"
      }
     },
     "source": [
      "# Compare with tfidf and count:"
     ]
    },
    {
     "cell_type": "code",
     "collapsed": false,
     "input": [
      "_dtm_df = pd.DataFrame(data_count.toarray())\n",
      "_dtm_df.columns = vec_count.get_feature_names()\n",
      "_dtm_df[\"board\"] = articles_df[\"Board\"]\n",
      "_dtm_df.head(10)"
     ],
     "language": "python",
     "metadata": {},
     "outputs": [
      {
       "html": [
        "<div style=\"max-height:1000px;max-width:1500px;overflow:auto;\">\n",
        "<table border=\"1\" class=\"dataframe\">\n",
        "  <thead>\n",
        "    <tr style=\"text-align: right;\">\n",
        "      <th></th>\n",
        "      <th>!</th>\n",
        "      <th>\"</th>\n",
        "      <th>#</th>\n",
        "      <th>$</th>\n",
        "      <th>%</th>\n",
        "      <th>&amp;</th>\n",
        "      <th>'</th>\n",
        "      <th>(</th>\n",
        "      <th>)</th>\n",
        "      <th>*</th>\n",
        "      <th>+</th>\n",
        "      <th>,</th>\n",
        "      <th>-</th>\n",
        "      <th>.</th>\n",
        "      <th>/</th>\n",
        "      <th>0</th>\n",
        "      <th>1</th>\n",
        "      <th>2</th>\n",
        "      <th>3</th>\n",
        "      <th>4</th>\n",
        "      <th></th>\n",
        "    </tr>\n",
        "  </thead>\n",
        "  <tbody>\n",
        "    <tr>\n",
        "      <th>0</th>\n",
        "      <td> 0</td>\n",
        "      <td> 0</td>\n",
        "      <td> 0</td>\n",
        "      <td> 0</td>\n",
        "      <td> 0</td>\n",
        "      <td> 0</td>\n",
        "      <td> 0</td>\n",
        "      <td> 0</td>\n",
        "      <td> 0</td>\n",
        "      <td> 0</td>\n",
        "      <td> 0</td>\n",
        "      <td> 0</td>\n",
        "      <td> 0</td>\n",
        "      <td> 0</td>\n",
        "      <td> 0</td>\n",
        "      <td> 1</td>\n",
        "      <td> 1</td>\n",
        "      <td> 1</td>\n",
        "      <td> 0</td>\n",
        "      <td> 0</td>\n",
        "      <td>...</td>\n",
        "    </tr>\n",
        "    <tr>\n",
        "      <th>1</th>\n",
        "      <td> 0</td>\n",
        "      <td> 0</td>\n",
        "      <td> 0</td>\n",
        "      <td> 0</td>\n",
        "      <td> 0</td>\n",
        "      <td> 0</td>\n",
        "      <td> 0</td>\n",
        "      <td> 0</td>\n",
        "      <td> 0</td>\n",
        "      <td> 0</td>\n",
        "      <td> 0</td>\n",
        "      <td> 0</td>\n",
        "      <td> 0</td>\n",
        "      <td> 0</td>\n",
        "      <td> 0</td>\n",
        "      <td> 0</td>\n",
        "      <td> 0</td>\n",
        "      <td> 0</td>\n",
        "      <td> 0</td>\n",
        "      <td> 0</td>\n",
        "      <td>...</td>\n",
        "    </tr>\n",
        "    <tr>\n",
        "      <th>2</th>\n",
        "      <td> 0</td>\n",
        "      <td> 0</td>\n",
        "      <td> 0</td>\n",
        "      <td> 0</td>\n",
        "      <td> 0</td>\n",
        "      <td> 0</td>\n",
        "      <td> 0</td>\n",
        "      <td> 0</td>\n",
        "      <td> 0</td>\n",
        "      <td> 0</td>\n",
        "      <td> 0</td>\n",
        "      <td> 0</td>\n",
        "      <td> 0</td>\n",
        "      <td> 0</td>\n",
        "      <td> 2</td>\n",
        "      <td> 0</td>\n",
        "      <td> 0</td>\n",
        "      <td> 0</td>\n",
        "      <td> 0</td>\n",
        "      <td> 0</td>\n",
        "      <td>...</td>\n",
        "    </tr>\n",
        "    <tr>\n",
        "      <th>3</th>\n",
        "      <td> 0</td>\n",
        "      <td> 0</td>\n",
        "      <td> 0</td>\n",
        "      <td> 0</td>\n",
        "      <td> 0</td>\n",
        "      <td> 0</td>\n",
        "      <td> 0</td>\n",
        "      <td> 0</td>\n",
        "      <td> 0</td>\n",
        "      <td> 0</td>\n",
        "      <td> 1</td>\n",
        "      <td> 0</td>\n",
        "      <td> 0</td>\n",
        "      <td> 2</td>\n",
        "      <td> 0</td>\n",
        "      <td> 0</td>\n",
        "      <td> 0</td>\n",
        "      <td> 0</td>\n",
        "      <td> 0</td>\n",
        "      <td> 0</td>\n",
        "      <td>...</td>\n",
        "    </tr>\n",
        "    <tr>\n",
        "      <th>4</th>\n",
        "      <td> 0</td>\n",
        "      <td> 0</td>\n",
        "      <td> 0</td>\n",
        "      <td> 0</td>\n",
        "      <td> 0</td>\n",
        "      <td> 0</td>\n",
        "      <td> 0</td>\n",
        "      <td> 0</td>\n",
        "      <td> 0</td>\n",
        "      <td> 0</td>\n",
        "      <td> 0</td>\n",
        "      <td> 0</td>\n",
        "      <td> 0</td>\n",
        "      <td> 0</td>\n",
        "      <td> 0</td>\n",
        "      <td> 0</td>\n",
        "      <td> 0</td>\n",
        "      <td> 0</td>\n",
        "      <td> 0</td>\n",
        "      <td> 0</td>\n",
        "      <td>...</td>\n",
        "    </tr>\n",
        "    <tr>\n",
        "      <th>5</th>\n",
        "      <td> 0</td>\n",
        "      <td> 0</td>\n",
        "      <td> 0</td>\n",
        "      <td> 0</td>\n",
        "      <td> 0</td>\n",
        "      <td> 0</td>\n",
        "      <td> 0</td>\n",
        "      <td> 0</td>\n",
        "      <td> 0</td>\n",
        "      <td> 0</td>\n",
        "      <td> 0</td>\n",
        "      <td> 0</td>\n",
        "      <td> 0</td>\n",
        "      <td> 0</td>\n",
        "      <td> 0</td>\n",
        "      <td> 0</td>\n",
        "      <td> 0</td>\n",
        "      <td> 0</td>\n",
        "      <td> 0</td>\n",
        "      <td> 0</td>\n",
        "      <td>...</td>\n",
        "    </tr>\n",
        "    <tr>\n",
        "      <th>6</th>\n",
        "      <td> 0</td>\n",
        "      <td> 0</td>\n",
        "      <td> 0</td>\n",
        "      <td> 0</td>\n",
        "      <td> 0</td>\n",
        "      <td> 0</td>\n",
        "      <td> 0</td>\n",
        "      <td> 1</td>\n",
        "      <td> 1</td>\n",
        "      <td> 0</td>\n",
        "      <td> 0</td>\n",
        "      <td> 0</td>\n",
        "      <td> 0</td>\n",
        "      <td> 0</td>\n",
        "      <td> 0</td>\n",
        "      <td> 0</td>\n",
        "      <td> 1</td>\n",
        "      <td> 0</td>\n",
        "      <td> 0</td>\n",
        "      <td> 0</td>\n",
        "      <td>...</td>\n",
        "    </tr>\n",
        "    <tr>\n",
        "      <th>7</th>\n",
        "      <td> 0</td>\n",
        "      <td> 0</td>\n",
        "      <td> 0</td>\n",
        "      <td> 0</td>\n",
        "      <td> 0</td>\n",
        "      <td> 0</td>\n",
        "      <td> 0</td>\n",
        "      <td> 0</td>\n",
        "      <td> 0</td>\n",
        "      <td> 0</td>\n",
        "      <td> 0</td>\n",
        "      <td> 0</td>\n",
        "      <td> 0</td>\n",
        "      <td> 0</td>\n",
        "      <td> 0</td>\n",
        "      <td> 0</td>\n",
        "      <td> 0</td>\n",
        "      <td> 0</td>\n",
        "      <td> 0</td>\n",
        "      <td> 0</td>\n",
        "      <td>...</td>\n",
        "    </tr>\n",
        "    <tr>\n",
        "      <th>8</th>\n",
        "      <td> 0</td>\n",
        "      <td> 0</td>\n",
        "      <td> 0</td>\n",
        "      <td> 0</td>\n",
        "      <td> 0</td>\n",
        "      <td> 0</td>\n",
        "      <td> 0</td>\n",
        "      <td> 0</td>\n",
        "      <td> 0</td>\n",
        "      <td> 0</td>\n",
        "      <td> 0</td>\n",
        "      <td> 0</td>\n",
        "      <td> 0</td>\n",
        "      <td> 0</td>\n",
        "      <td> 0</td>\n",
        "      <td> 0</td>\n",
        "      <td> 0</td>\n",
        "      <td> 0</td>\n",
        "      <td> 0</td>\n",
        "      <td> 0</td>\n",
        "      <td>...</td>\n",
        "    </tr>\n",
        "    <tr>\n",
        "      <th>9</th>\n",
        "      <td> 0</td>\n",
        "      <td> 0</td>\n",
        "      <td> 0</td>\n",
        "      <td> 0</td>\n",
        "      <td> 0</td>\n",
        "      <td> 0</td>\n",
        "      <td> 0</td>\n",
        "      <td> 0</td>\n",
        "      <td> 0</td>\n",
        "      <td> 0</td>\n",
        "      <td> 0</td>\n",
        "      <td> 0</td>\n",
        "      <td> 0</td>\n",
        "      <td> 0</td>\n",
        "      <td> 0</td>\n",
        "      <td> 0</td>\n",
        "      <td> 0</td>\n",
        "      <td> 0</td>\n",
        "      <td> 0</td>\n",
        "      <td> 0</td>\n",
        "      <td>...</td>\n",
        "    </tr>\n",
        "  </tbody>\n",
        "</table>\n",
        "<p>10 rows \u00d7 2737 columns</p>\n",
        "</div>"
       ],
       "metadata": {},
       "output_type": "pyout",
       "prompt_number": 16,
       "text": [
        "   !  \"  #  $  %  &  '  (  )  *  +  ,  -  .  /  0  1  2  3  4    \n",
        "0  0  0  0  0  0  0  0  0  0  0  0  0  0  0  0  1  1  1  0  0 ...\n",
        "1  0  0  0  0  0  0  0  0  0  0  0  0  0  0  0  0  0  0  0  0 ...\n",
        "2  0  0  0  0  0  0  0  0  0  0  0  0  0  0  2  0  0  0  0  0 ...\n",
        "3  0  0  0  0  0  0  0  0  0  0  1  0  0  2  0  0  0  0  0  0 ...\n",
        "4  0  0  0  0  0  0  0  0  0  0  0  0  0  0  0  0  0  0  0  0 ...\n",
        "5  0  0  0  0  0  0  0  0  0  0  0  0  0  0  0  0  0  0  0  0 ...\n",
        "6  0  0  0  0  0  0  0  1  1  0  0  0  0  0  0  0  1  0  0  0 ...\n",
        "7  0  0  0  0  0  0  0  0  0  0  0  0  0  0  0  0  0  0  0  0 ...\n",
        "8  0  0  0  0  0  0  0  0  0  0  0  0  0  0  0  0  0  0  0  0 ...\n",
        "9  0  0  0  0  0  0  0  0  0  0  0  0  0  0  0  0  0  0  0  0 ...\n",
        "\n",
        "[10 rows x 2737 columns]"
       ]
      }
     ],
     "prompt_number": 16
    },
    {
     "cell_type": "code",
     "collapsed": false,
     "input": [],
     "language": "python",
     "metadata": {},
     "outputs": []
    },
    {
     "cell_type": "markdown",
     "metadata": {
      "slideshow": {
       "slide_type": "subslide"
      }
     },
     "source": [
      "# Using Conditional Mean as Features Filter:"
     ]
    },
    {
     "cell_type": "code",
     "collapsed": false,
     "input": [
      "groupby_board_mean = dtm_df.groupby(\"board\").mean()"
     ],
     "language": "python",
     "metadata": {},
     "outputs": [],
     "prompt_number": 17
    },
    {
     "cell_type": "code",
     "collapsed": false,
     "input": [
      "groupby_board_mean"
     ],
     "language": "python",
     "metadata": {},
     "outputs": [
      {
       "html": [
        "<div style=\"max-height:1000px;max-width:1500px;overflow:auto;\">\n",
        "<table border=\"1\" class=\"dataframe\">\n",
        "  <thead>\n",
        "    <tr style=\"text-align: right;\">\n",
        "      <th></th>\n",
        "      <th>!</th>\n",
        "      <th>\"</th>\n",
        "      <th>#</th>\n",
        "      <th>$</th>\n",
        "      <th>%</th>\n",
        "      <th>&amp;</th>\n",
        "      <th>'</th>\n",
        "      <th>(</th>\n",
        "      <th>)</th>\n",
        "      <th>*</th>\n",
        "      <th>+</th>\n",
        "      <th>,</th>\n",
        "      <th>-</th>\n",
        "      <th>.</th>\n",
        "      <th>/</th>\n",
        "      <th>0</th>\n",
        "      <th>1</th>\n",
        "      <th>2</th>\n",
        "      <th>3</th>\n",
        "      <th>4</th>\n",
        "      <th></th>\n",
        "    </tr>\n",
        "    <tr>\n",
        "      <th>board</th>\n",
        "      <th></th>\n",
        "      <th></th>\n",
        "      <th></th>\n",
        "      <th></th>\n",
        "      <th></th>\n",
        "      <th></th>\n",
        "      <th></th>\n",
        "      <th></th>\n",
        "      <th></th>\n",
        "      <th></th>\n",
        "      <th></th>\n",
        "      <th></th>\n",
        "      <th></th>\n",
        "      <th></th>\n",
        "      <th></th>\n",
        "      <th></th>\n",
        "      <th></th>\n",
        "      <th></th>\n",
        "      <th></th>\n",
        "      <th></th>\n",
        "    </tr>\n",
        "  </thead>\n",
        "  <tbody>\n",
        "    <tr>\n",
        "      <th>Accounting</th>\n",
        "      <td> 0.004014</td>\n",
        "      <td> 0.002728</td>\n",
        "      <td> 0.000168</td>\n",
        "      <td> 0.000200</td>\n",
        "      <td> 0.000045</td>\n",
        "      <td> 0.003850</td>\n",
        "      <td> 0.000106</td>\n",
        "      <td> 0.014267</td>\n",
        "      <td> 0.014090</td>\n",
        "      <td> 0.000077</td>\n",
        "      <td> 0.003358</td>\n",
        "      <td> 0.002039</td>\n",
        "      <td> 0.013770</td>\n",
        "      <td> 0.021617</td>\n",
        "      <td> 0.010735</td>\n",
        "      <td> 0.034688</td>\n",
        "      <td> 0.038772</td>\n",
        "      <td> 0.016329</td>\n",
        "      <td> 0.006581</td>\n",
        "      <td> 0.005738</td>\n",
        "      <td>...</td>\n",
        "    </tr>\n",
        "    <tr>\n",
        "      <th>Physics</th>\n",
        "      <td> 0.002933</td>\n",
        "      <td> 0.006462</td>\n",
        "      <td> 0.000000</td>\n",
        "      <td> 0.000014</td>\n",
        "      <td> 0.000149</td>\n",
        "      <td> 0.001471</td>\n",
        "      <td> 0.001441</td>\n",
        "      <td> 0.006375</td>\n",
        "      <td> 0.006319</td>\n",
        "      <td> 0.000333</td>\n",
        "      <td> 0.000717</td>\n",
        "      <td> 0.003047</td>\n",
        "      <td> 0.009073</td>\n",
        "      <td> 0.017073</td>\n",
        "      <td> 0.001837</td>\n",
        "      <td> 0.003373</td>\n",
        "      <td> 0.003143</td>\n",
        "      <td> 0.003879</td>\n",
        "      <td> 0.001947</td>\n",
        "      <td> 0.001053</td>\n",
        "      <td>...</td>\n",
        "    </tr>\n",
        "  </tbody>\n",
        "</table>\n",
        "<p>2 rows \u00d7 2736 columns</p>\n",
        "</div>"
       ],
       "metadata": {},
       "output_type": "pyout",
       "prompt_number": 18,
       "text": [
        "                   !         \"         #         $         %         &  \\\n",
        "board                                                                    \n",
        "Accounting  0.004014  0.002728  0.000168  0.000200  0.000045  0.003850   \n",
        "Physics     0.002933  0.006462  0.000000  0.000014  0.000149  0.001471   \n",
        "\n",
        "                   '         (         )         *         +         ,  \\\n",
        "board                                                                    \n",
        "Accounting  0.000106  0.014267  0.014090  0.000077  0.003358  0.002039   \n",
        "Physics     0.001441  0.006375  0.006319  0.000333  0.000717  0.003047   \n",
        "\n",
        "                   -         .         /         0         1         2  \\\n",
        "board                                                                    \n",
        "Accounting  0.013770  0.021617  0.010735  0.034688  0.038772  0.016329   \n",
        "Physics     0.009073  0.017073  0.001837  0.003373  0.003143  0.003879   \n",
        "\n",
        "                   3         4      \n",
        "board                               \n",
        "Accounting  0.006581  0.005738 ...  \n",
        "Physics     0.001947  0.001053 ...  \n",
        "\n",
        "[2 rows x 2736 columns]"
       ]
      }
     ],
     "prompt_number": 18
    },
    {
     "cell_type": "markdown",
     "metadata": {
      "slideshow": {
       "slide_type": "subslide"
      }
     },
     "source": [
      "# Filter Out (tfidf.mean > 0.02) Words:"
     ]
    },
    {
     "cell_type": "code",
     "collapsed": false,
     "input": [
      "import numpy as np \n",
      "\n",
      "th = 0.02\n",
      "print np.nonzero(groupby_board_mean.ix[\"Accounting\"] > th)[0].shape\n",
      "print np.nonzero(groupby_board_mean.ix[\"Physics\"] > th)[0].shape\n",
      "\n",
      "Top_Means = set(np.nonzero(groupby_board_mean.ix[\"Accounting\"] > th)[0])\n",
      "Top_Means.update(set(np.nonzero(groupby_board_mean.ix[\"Physics\"] > th)[0]))\n",
      "print \"Top_Means = \",Top_Means\n",
      "print \"len(Top_Means) = \",len(Top_Means)\n",
      "print \"groupby_tf.columns[list(Top_Means)] = \",groupby_board_mean.columns[list(Top_Means)]"
     ],
     "language": "python",
     "metadata": {},
     "outputs": [
      {
       "output_type": "stream",
       "stream": "stdout",
       "text": [
        "(29,)\n",
        "(28,)\n",
        "Top_Means =  set([2603, 394, 523, 13, 15, 16, 529, 1556, 791, 24, 25, 156, 30, 2465, 802, 1190, 2388, 170, 1195, 2516, 49, 693, 2559, 58, 955, 60, 1589, 67, 1350, 71, 76, 77, 80, 82, 724, 1379, 356, 63, 875, 1645, 1661, 1652, 2132, 2175, 682, 1919])\n",
        "len(Top_Means) =  46\n",
        "groupby_tf.columns[list(Top_Means)] =  Index([u'\u9ad8', u'\u529b', u'\u552e', u'.', u'0', u'1', u'\u554f', u'\u7269', u'\u5e2b', u'9', u':', u'\u4e00', u'?', u'\u95dc', u'\u5e74', u'\u66f8', u'\u91cf', u'\u4e2d', u'\u6703', u'\u96fb', u'R', u'\u5b78', u'\u984c', u'[', u'\u6210', u']', u'\u7406', u'e', u'\u6c42', u'i', u'n', u'o', u'r', u't', u'\u5be9', u'\u6cd5', u'\u51fa', u'a', u'\u5fb5', u'\u7684', u'\u76ee', u'\u76ca', u'\u8a08', u'\u8acb', u'\u5b50', u'\u8003'], dtype='object')\n"
       ]
      }
     ],
     "prompt_number": 19
    },
    {
     "cell_type": "code",
     "collapsed": false,
     "input": [
      "groupby_top_mean = groupby_board_mean[groupby_board_mean.columns[list(Top_Means)]]\n",
      "print groupby_top_mean.shape"
     ],
     "language": "python",
     "metadata": {},
     "outputs": [
      {
       "output_type": "stream",
       "stream": "stdout",
       "text": [
        "(2, 46)\n"
       ]
      }
     ],
     "prompt_number": 20
    },
    {
     "cell_type": "markdown",
     "metadata": {
      "slideshow": {
       "slide_type": "subslide"
      }
     },
     "source": [
      "# Some Visualization ... "
     ]
    },
    {
     "cell_type": "code",
     "collapsed": false,
     "input": [
      "n_top_words = groupby_top_mean.shape[1]\n",
      "n_top_words_ix = np.array(range(n_top_words))\n",
      "print \"n_top_words = \",n_top_words\n",
      "\n",
      "bar_width = 0.7\n",
      "\n",
      "fig, ax = pylab.subplots(3,1)\n",
      "\n",
      "ax[0].bar(n_top_words_ix,groupby_top_mean.ix[\"Accounting\"],bar_width,color='r',label=\"Accounting\")\n",
      "ax[0].set_xticks(n_top_words_ix + (bar_width/2))\n",
      "ax[0].set_xticklabels( groupby_top_mean.columns, fontproperties=cfont)\n",
      "\n",
      "ax[1].bar(n_top_words_ix,groupby_top_mean.ix[\"Physics\"],bar_width,color='y',label=\"Physics\")\n",
      "ax[1].set_xticks(n_top_words_ix + (bar_width/2))\n",
      "ax[1].set_xticklabels( groupby_top_mean.columns, fontproperties=cfont)\n",
      "\n",
      "\n",
      "bar_width = 0.3\n",
      "\n",
      "rects1 = ax[2].bar(n_top_words_ix,groupby_top_mean.ix[\"Accounting\"],bar_width,color='r',label=\"Accounting\")\n",
      "rects2 = ax[2].bar(n_top_words_ix+bar_width,groupby_top_mean.ix[\"Physics\"],bar_width,color='y',label=\"Physics\")\n",
      "ax[2].set_xticks(n_top_words_ix + bar_width)\n",
      "ax[2].set_xticklabels( groupby_top_mean.columns, fontproperties=cfont)\n",
      "ax[2].legend( (rects1[0], rects2[0]), ('Accounting', 'Physics') )\n"
     ],
     "language": "python",
     "metadata": {},
     "outputs": [
      {
       "output_type": "stream",
       "stream": "stdout",
       "text": [
        "n_top_words =  46\n"
       ]
      },
      {
       "metadata": {},
       "output_type": "pyout",
       "prompt_number": 21,
       "text": [
        "<matplotlib.legend.Legend at 0x13d3dd10>"
       ]
      },
      {
       "metadata": {},
       "output_type": "display_data",
       "png": "[encoded data removed]",
       "text": [
        "<matplotlib.figure.Figure at 0x136b4fd0>"
       ]
      }
     ],
     "prompt_number": 21
    },
    {
     "cell_type": "markdown",
     "metadata": {
      "slideshow": {
       "slide_type": "slide"
      }
     },
     "source": [
      "# Hello Texts Classification ... "
     ]
    },
    {
     "cell_type": "code",
     "collapsed": false,
     "input": [
      "X_values = dtm_df.drop(\"board\",axis=1).values\n",
      "Y_values_W = dtm_df[\"board\"].values"
     ],
     "language": "python",
     "metadata": {},
     "outputs": [],
     "prompt_number": 12
    },
    {
     "cell_type": "code",
     "collapsed": false,
     "input": [
      "X_values, Y_values_W"
     ],
     "language": "python",
     "metadata": {},
     "outputs": [
      {
       "metadata": {},
       "output_type": "pyout",
       "prompt_number": 13,
       "text": [
        "(array([[ 0.,  0.,  0., ...,  0.,  0.,  0.],\n",
        "        [ 0.,  0.,  0., ...,  0.,  0.,  0.],\n",
        "        [ 0.,  0.,  0., ...,  0.,  0.,  0.],\n",
        "        ..., \n",
        "        [ 0.,  0.,  0., ...,  0.,  0.,  0.],\n",
        "        [ 0.,  0.,  0., ...,  0.,  0.,  0.],\n",
        "        [ 0.,  0.,  0., ...,  0.,  0.,  0.]]),\n",
        " array([u'Accounting', u'Accounting', u'Accounting', ..., u'Accounting',\n",
        "        u'Accounting', u'Accounting'], dtype=object))"
       ]
      }
     ],
     "prompt_number": 13
    },
    {
     "cell_type": "markdown",
     "metadata": {
      "slideshow": {
       "slide_type": "subslide"
      }
     },
     "source": [
      "# Label Encoding ... "
     ]
    },
    {
     "cell_type": "code",
     "collapsed": false,
     "input": [
      "from sklearn import preprocessing\n",
      "le = preprocessing.LabelEncoder()\n",
      "\n",
      "\n",
      "le.fit(list(set(Y_values_W)))\n",
      "Y_values = le.transform(Y_values_W) \n",
      "\n",
      "print \"Y_values = \",Y_values\n"
     ],
     "language": "python",
     "metadata": {},
     "outputs": [
      {
       "output_type": "stream",
       "stream": "stdout",
       "text": [
        "Y_values =  [0 0 0 ..., 0 0 0]\n"
       ]
      }
     ],
     "prompt_number": 14
    },
    {
     "cell_type": "markdown",
     "metadata": {
      "slideshow": {
       "slide_type": "subslide"
      }
     },
     "source": [
      "# Hello SVC ... "
     ]
    },
    {
     "cell_type": "code",
     "collapsed": false,
     "input": [
      "from sklearn import svm\n",
      "import numpy as np\n",
      "clf = svm.LinearSVC(C=10).fit(X_values, Y_values)\n",
      "pred_Y = clf.predict(X_values)\n",
      "print np.mean((Y_values - pred_Y)**2)\n",
      "print 1- np.mean((Y_values - pred_Y)**2)"
     ],
     "language": "python",
     "metadata": {},
     "outputs": [
      {
       "output_type": "stream",
       "stream": "stdout",
       "text": [
        "0.0102095792253\n",
        "0.989790420775\n"
       ]
      }
     ],
     "prompt_number": 15
    },
    {
     "cell_type": "markdown",
     "metadata": {
      "slideshow": {
       "slide_type": "subslide"
      }
     },
     "source": [
      "# Using only 10% as traing data ... "
     ]
    },
    {
     "cell_type": "code",
     "collapsed": false,
     "input": [
      "from sklearn import svm\n",
      "import numpy as np\n",
      "\n",
      "sample_ratio = 0.1\n",
      "print \"sample_ratio = \",sample_ratio\n",
      "sample_end_ix = int(Y_values.shape[0]*sample_ratio)\n",
      "print \"sample_end_ix = \",sample_end_ix\n",
      "\n",
      "clf = svm.LinearSVC(C=10).fit(X_values[:sample_end_ix,:], Y_values[:sample_end_ix])\n",
      "pred_Y = clf.predict(X_values)\n",
      "print \"np.mean((Y_values - pred_Y)**2) = \",np.mean((Y_values - pred_Y)**2)\n",
      "print 1-np.mean((Y_values - pred_Y)**2)"
     ],
     "language": "python",
     "metadata": {},
     "outputs": [
      {
       "output_type": "stream",
       "stream": "stdout",
       "text": [
        "sample_ratio =  0.1\n",
        "sample_end_ix =  3712\n",
        "np.mean((Y_values - pred_Y)**2) = "
       ]
      },
      {
       "output_type": "stream",
       "stream": "stdout",
       "text": [
        " 0.0577016324551\n",
        "0.942298367545\n"
       ]
      }
     ],
     "prompt_number": 38
    },
    {
     "cell_type": "markdown",
     "metadata": {
      "slideshow": {
       "slide_type": "subslide"
      }
     },
     "source": [
      "# Using only 5% as traing data ... "
     ]
    },
    {
     "cell_type": "code",
     "collapsed": false,
     "input": [
      "sample_ratio = 0.05\n",
      "print \"sample_ratio = \",sample_ratio\n",
      "sample_end_ix = int(Y_values.shape[0]*sample_ratio)\n",
      "print \"sample_end_ix = \",sample_end_ix\n",
      "\n",
      "clf = svm.LinearSVC(C=10).fit(X_values[:sample_end_ix,:], Y_values[:sample_end_ix])\n",
      "pred_Y = clf.predict(X_values)\n",
      "print \"np.mean((Y_values - pred_Y)**2) = \",np.mean((Y_values - pred_Y)**2)\n",
      "print 1-np.mean((Y_values - pred_Y)**2)"
     ],
     "language": "python",
     "metadata": {},
     "outputs": [
      {
       "output_type": "stream",
       "stream": "stdout",
       "text": [
        "sample_ratio =  0.05\n",
        "sample_end_ix =  1856\n",
        "np.mean((Y_values - pred_Y)**2) = "
       ]
      },
      {
       "output_type": "stream",
       "stream": "stdout",
       "text": [
        " 0.0814880663757\n",
        "0.918511933624\n"
       ]
      }
     ],
     "prompt_number": 37
    },
    {
     "cell_type": "markdown",
     "metadata": {
      "slideshow": {
       "slide_type": "subslide"
      }
     },
     "source": [
      "# Hello PCA ... "
     ]
    },
    {
     "cell_type": "code",
     "collapsed": false,
     "input": [
      "# from sklearn.decomposition import PCA\n",
      "# pca = PCA(n_components=2)\n",
      "# X_pca = pca.fit_transform(X_values)"
     ],
     "language": "python",
     "metadata": {},
     "outputs": [],
     "prompt_number": 16
    },
    {
     "cell_type": "code",
     "collapsed": false,
     "input": [
      "# from sklearn.decomposition import TruncatedSVD\n",
      "\n",
      "# svd = TruncatedSVD(n_components=2,n_iterations=2)\n",
      "# X_pca = svd.fit_transform(X_values)\n"
     ],
     "language": "python",
     "metadata": {},
     "outputs": [],
     "prompt_number": 17
    },
    {
     "cell_type": "code",
     "collapsed": false,
     "input": [
      "# from sklearn.decomposition import SparsePCA\n",
      "\n",
      "# spca = SparsePCA(n_components=2,alpha=1.0, max_iter=4,n_jobs=4)\n",
      "# X_pca = spca.fit_transform(X_values)\n"
     ],
     "language": "python",
     "metadata": {},
     "outputs": [],
     "prompt_number": 18
    },
    {
     "cell_type": "markdown",
     "metadata": {
      "slideshow": {
       "slide_type": "subslide"
      }
     },
     "source": [
      "## References \n",
      "\n",
      "- ### [LabelEncoder](http://scikit-learn.org/stable/modules/generated/sklearn.preprocessing.LabelEncoder.html)\n",
      "- ### [LinearSVC](http://scikit-learn.org/stable/modules/generated/sklearn.svm.LinearSVC.html)\n",
      "- ### [SVC Examples](http://scikit-learn.org/stable/auto_examples/svm/plot_iris.html)\n",
      "- ### [PCA & Kernel PCA](http://scikit-learn.org/stable/auto_examples/decomposition/plot_kernel_pca.html)\n",
      "\n",
      "- ### [SparsePCA](http://scikit-learn.org/stable/modules/generated/sklearn.decomposition.SparsePCA.html#sklearn.decomposition.SparsePCA)\n",
      "- ### [Dictionary Learning](http://scikit-learn.org/stable/modules/generated/sklearn.decomposition.DictionaryLearning.html#sklearn.decomposition.DictionaryLearning)\n"
     ]
    },
    {
     "cell_type": "markdown",
     "metadata": {
      "slideshow": {
       "slide_type": "slide"
      }
     },
     "source": [
      "# More Sharp Weapons:\n",
      "\n",
      "-  ## [jieba: Chinese Segmentation](https://github.com/fxsjy/jieba)\n",
      "-  ## [snowNLP: Chinese Segmentation & Sentiment Analysis](https://github.com/isnowfy/snownlp)\n",
      "-  ## [TextBlob: Text Segmentation & Sentiment Analysis](https://github.com/sloria/TextBlob)\n",
      "-  ## [gensim: Topic Modeling Tools](http://radimrehurek.com/gensim/)\n",
      "-  ## [NLTK: NLP Toolkits](http://radimrehurek.com/gensim/)"
     ]
    },
    {
     "cell_type": "markdown",
     "metadata": {
      "slideshow": {
       "slide_type": "slide"
      }
     },
     "source": [
      "# Hello Topic Modeling:"
     ]
    },
    {
     "cell_type": "code",
     "collapsed": false,
     "input": [
      "import jieba\n",
      "import nltk\n",
      "\n",
      "def tokenize(text):\n",
      "    if isinstance(text,(str,unicode)):\n",
      "#         return list(jieba.cut(nltk.clean_html(text)))\n",
      "        return list(jieba.cut(text))\n",
      "    else:\n",
      "        return []"
     ],
     "language": "python",
     "metadata": {},
     "outputs": [],
     "prompt_number": 23
    },
    {
     "cell_type": "code",
     "collapsed": false,
     "input": [
      "vec_tfidf = TfidfVectorizer(tokenizer=tokenize,lowercase=False)"
     ],
     "language": "python",
     "metadata": {},
     "outputs": [],
     "prompt_number": 24
    },
    {
     "cell_type": "code",
     "collapsed": false,
     "input": [
      "data_tfidf = vec_tfidf.fit_transform(articles_df[\"text\"])"
     ],
     "language": "python",
     "metadata": {},
     "outputs": [],
     "prompt_number": 25
    },
    {
     "cell_type": "code",
     "collapsed": false,
     "input": [
      "dtm_df = pd.DataFrame(data_tfidf.toarray())\n",
      "dtm_df.columns = vec_tfidf.get_feature_names()\n",
      "dtm_df[\"board\"] = articles_df[\"Board\"]\n",
      "dtm_df.head(10)"
     ],
     "language": "python",
     "metadata": {
      "slideshow": {
       "slide_type": "subslide"
      }
     },
     "outputs": [],
     "prompt_number": 4
    },
    {
     "cell_type": "code",
     "collapsed": false,
     "input": [],
     "language": "python",
     "metadata": {},
     "outputs": []
    },
    {
     "cell_type": "code",
     "collapsed": false,
     "input": [],
     "language": "python",
     "metadata": {},
     "outputs": []
    },
    {
     "cell_type": "code",
     "collapsed": false,
     "input": [],
     "language": "python",
     "metadata": {},
     "outputs": []
    },
    {
     "cell_type": "code",
     "collapsed": false,
     "input": [],
     "language": "python",
     "metadata": {},
     "outputs": []
    },
    {
     "cell_type": "code",
     "collapsed": false,
     "input": [
      "import pandas as pd\n",
      "import jieba\n",
      "from sklearn.feature_extraction.text import CountVectorizer, TfidfVectorizer\n",
      "from sklearn.cluster import DBSCAN\n",
      "import nltk\n",
      "\n",
      "import numpy as np\n",
      "\n",
      "def tokenize(text):\n",
      "    if isinstance(text,(str,unicode)):\n",
      "        return list(jieba.cut(nltk.clean_html(text)))\n",
      "    else:\n",
      "        return []\n",
      "\n",
      "def get_recommendation_results(article_df, column=\"description\", db_eps = 0.7, db_min_samples = 2):\n",
      "    vec = TfidfVectorizer(tokenizer=tokenize,lowercase=False)\n",
      "    data = vec.fit_transform(article_df[column])\n",
      "    db = DBSCAN(eps=db_eps, min_samples=db_min_samples).fit(data.toarray())\n",
      "    core_samples = db.core_sample_indices_\n",
      "    labels = db.labels_\n",
      "    result_dic = {}\n",
      "    result_dic[\"clusters_list\"] = [article_df[\"_id\"][labels == one_label].tolist() for one_label in set(labels[labels>=0])]\n",
      "    result_dic[\"core_samples\"] = core_samples\n",
      "    result_dic[\"labels\"] = labels\n",
      "    result_dic[\"model\"] = db\n",
      "    result_dic[\"dtm\"] = data\n",
      "    result_dic[\"vec\"] = vec\n",
      "    return result_dic\n",
      "\n",
      "def view_culster_keywords(article_ix, article_df, vec, dtm, min_tfidf = 0.03, sep = u\"     \", debug = False):\n",
      "    \n",
      "    if debug:\n",
      "        print \"article_ix = \",article_ix\n",
      "    \n",
      "    _dtm = dtm.toarray()\n",
      "    \n",
      "    key_words = np.apply_along_axis(np.mean,0,_dtm[article_ix,:])\n",
      "    \n",
      "    if debug:\n",
      "        print \"key_words = \",key_words\n",
      "\n",
      "    key_words_ix = np.nonzero(key_words > min_tfidf)[0]\n",
      "    \n",
      "    if debug:\n",
      "        print \"key_words_ix = \",key_words_ix\n",
      "    \n",
      "    return sep.join(np.array(vec.get_feature_names())[key_words_ix])"
     ],
     "language": "python",
     "metadata": {},
     "outputs": [],
     "prompt_number": 6
    },
    {
     "cell_type": "code",
     "collapsed": false,
     "input": [
      "results = get_recommendation_results(articles_df,column=\"title\", db_min_samples = 5)"
     ],
     "language": "python",
     "metadata": {},
     "outputs": [],
     "prompt_number": 42
    },
    {
     "cell_type": "code",
     "collapsed": false,
     "input": [
      "print len(results['clusters_list'])"
     ],
     "language": "python",
     "metadata": {},
     "outputs": [
      {
       "output_type": "stream",
       "stream": "stdout",
       "text": [
        "98\n"
       ]
      }
     ],
     "prompt_number": 43
    },
    {
     "cell_type": "code",
     "collapsed": false,
     "input": [],
     "language": "python",
     "metadata": {},
     "outputs": [],
     "prompt_number": 25
    },
    {
     "cell_type": "code",
     "collapsed": false,
     "input": [
      "articles_df[articles_df[\"_id\"].isin(results['clusters_list'][11])][\"title\"]"
     ],
     "language": "python",
     "metadata": {},
     "outputs": [
      {
       "metadata": {},
       "output_type": "pyout",
       "prompt_number": 55,
       "text": [
        "1257    Re: [\u554f\u984c] \u5982\u4f55\u5c07\u5657\u6d6a\u7684API\u7bc4\u4f8b\u7a0b\u5f0f\u767c\u4f48\u5230GAE\u4e0a\u9762?\n",
        "1265        [\u554f\u984c] \u5982\u4f55\u5c07\u5657\u6d6a\u7684API\u7bc4\u4f8b\u7a0b\u5f0f\u767c\u4f48\u5230GAE\u4e0a\u9762?\n",
        "1273    Re: [\u554f\u984c] \u5982\u4f55\u5c07\u5657\u6d6a\u7684API\u7bc4\u4f8b\u7a0b\u5f0f\u767c\u4f48\u5230GAE\u4e0a\u9762?\n",
        "1276    Re: [\u554f\u984c] \u5982\u4f55\u5c07\u5657\u6d6a\u7684API\u7bc4\u4f8b\u7a0b\u5f0f\u767c\u4f48\u5230GAE\u4e0a\u9762?\n",
        "1316    Re: [\u554f\u984c] \u5982\u4f55\u5c07\u5657\u6d6a\u7684API\u7bc4\u4f8b\u7a0b\u5f0f\u767c\u4f48\u5230GAE\u4e0a\u9762?\n",
        "1324    Re: [\u554f\u984c] \u5982\u4f55\u5c07\u5657\u6d6a\u7684API\u7bc4\u4f8b\u7a0b\u5f0f\u767c\u4f48\u5230GAE\u4e0a\u9762?\n",
        "Name: title, dtype: object"
       ]
      }
     ],
     "prompt_number": 55
    },
    {
     "cell_type": "code",
     "collapsed": false,
     "input": [],
     "language": "python",
     "metadata": {},
     "outputs": [],
     "prompt_number": 40
    },
    {
     "cell_type": "code",
     "collapsed": false,
     "input": [],
     "language": "python",
     "metadata": {},
     "outputs": [],
     "prompt_number": 9
    },
    {
     "cell_type": "code",
     "collapsed": false,
     "input": [],
     "language": "python",
     "metadata": {},
     "outputs": [],
     "prompt_number": 10
    },
    {
     "cell_type": "code",
     "collapsed": false,
     "input": [
      "def tokenize(text):\n",
      "    if isinstance(text,(str,unicode)):\n",
      "        return list(jieba.cut(nltk.clean_html(text)))\n",
      "    else:\n",
      "        return []"
     ],
     "language": "python",
     "metadata": {},
     "outputs": [],
     "prompt_number": 7
    },
    {
     "cell_type": "code",
     "collapsed": false,
     "input": [
      "vec = TfidfVectorizer(tokenizer=tokenize,lowercase=False)\n",
      "dtm_df = vec.fit_transform(articles_df[\"text\"])"
     ],
     "language": "python",
     "metadata": {},
     "outputs": [],
     "prompt_number": 12
    },
    {
     "cell_type": "code",
     "collapsed": false,
     "input": [],
     "language": "python",
     "metadata": {},
     "outputs": [],
     "prompt_number": 15
    },
    {
     "cell_type": "code",
     "collapsed": false,
     "input": [
      "print dtm_df.toarray().shape"
     ],
     "language": "python",
     "metadata": {},
     "outputs": [
      {
       "output_type": "stream",
       "stream": "stdout",
       "text": [
        "(3328, 37714)\n"
       ]
      }
     ],
     "prompt_number": 14
    },
    {
     "cell_type": "markdown",
     "metadata": {
      "slideshow": {
       "slide_type": "subslide"
      }
     },
     "source": [
      "# Using Conditional Mean as Features Filter:"
     ]
    },
    {
     "cell_type": "code",
     "collapsed": false,
     "input": [
      "vec_count = CountVectorizer(tokenizer=tokenize,lowercase=False)\n",
      "vec_tfidf = TfidfVectorizer(tokenizer=tokenize,lowercase=False)\n",
      "data_tfidf = vec_tfidf.fit_transform(articles_df[\"title\"])\n",
      "dtm_df = pd.DataFrame(data_tfidf.toarray())\n",
      "dtm_df.columns = vec_tfidf.get_feature_names()\n",
      "dtm_df[\"board\"] = articles_df[\"Board\"]\n",
      "dtm_df.head(10)\n",
      "groupby_board_mean = dtm_df.groupby(\"board\").mean()"
     ],
     "language": "python",
     "metadata": {},
     "outputs": [
      {
       "ename": "NameError",
       "evalue": "name 'dtm_df' is not defined",
       "output_type": "pyerr",
       "traceback": [
        "\u001b[1;31m---------------------------------------------------------------------------\u001b[0m\n\u001b[1;31mNameError\u001b[0m                                 Traceback (most recent call last)",
        "\u001b[1;32m<ipython-input-11-fbd071f9c4c2>\u001b[0m in \u001b[0;36m<module>\u001b[1;34m()\u001b[0m\n\u001b[1;32m----> 1\u001b[1;33m \u001b[0mgroupby_board_mean\u001b[0m \u001b[1;33m=\u001b[0m \u001b[0mdtm_df\u001b[0m\u001b[1;33m.\u001b[0m\u001b[0mgroupby\u001b[0m\u001b[1;33m(\u001b[0m\u001b[1;34m\"board\"\u001b[0m\u001b[1;33m)\u001b[0m\u001b[1;33m.\u001b[0m\u001b[0mmean\u001b[0m\u001b[1;33m(\u001b[0m\u001b[1;33m)\u001b[0m\u001b[1;33m\u001b[0m\u001b[0m\n\u001b[0m",
        "\u001b[1;31mNameError\u001b[0m: name 'dtm_df' is not defined"
       ]
      }
     ],
     "prompt_number": 11
    },
    {
     "cell_type": "code",
     "collapsed": false,
     "input": [],
     "language": "python",
     "metadata": {},
     "outputs": []
    },
    {
     "cell_type": "markdown",
     "metadata": {
      "slideshow": {
       "slide_type": "subslide"
      }
     },
     "source": [
      "# Filter Out (tfidf.mean > 0.02) Words:"
     ]
    },
    {
     "cell_type": "code",
     "collapsed": false,
     "input": [],
     "language": "python",
     "metadata": {},
     "outputs": [],
     "prompt_number": 10
    },
    {
     "cell_type": "markdown",
     "metadata": {},
     "source": [
      "## References \n",
      "\n",
      "- ### [ex1](http://matplotlib.org/examples/pylab_examples/barchart_demo.html)\n",
      "- ### [ex2](http://matplotlib.org/examples/api/barchart_demo.html)\n",
      "- ### [chinese in chart](http://nbviewer.ipython.org/github/c3h3/PyData-Notes/blob/master/visualization/QAs/Matplotlib_With_Chinese_Characters.ipynb)"
     ]
    }
   ],
   "metadata": {}
  }
 ]
}