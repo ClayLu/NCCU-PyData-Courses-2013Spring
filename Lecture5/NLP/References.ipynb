{
 "metadata": {
  "name": ""
 },
 "nbformat": 3,
 "nbformat_minor": 0,
 "worksheets": [
  {
   "cells": [
    {
     "cell_type": "markdown",
     "metadata": {},
     "source": [
      "# NLP Ref:"
     ]
    },
    {
     "cell_type": "markdown",
     "metadata": {},
     "source": [
      "-    ## [TextBlob](https://textblob.readthedocs.org/en/latest/index.html)\n",
      "-    ## [TextBlob Github](https://github.com/sloria/TextBlob)\n",
      "-    ## [SnowNLP Github](https://github.com/isnowfy/snownlp)\n",
      "-    ## [NLTK](http://nltk.org/index.html)\n",
      "-    ## [Jieba](https://github.com/fxsjy/jieba)\n",
      "\n",
      "-    #### [NLTK] http://blog.csdn.net/huyoo/article/details/12188573\n",
      "-    #### [re + NLTK] http://nltk.org/book/ch03.html "
     ]
    },
    {
     "cell_type": "code",
     "collapsed": false,
     "input": [],
     "language": "python",
     "metadata": {},
     "outputs": []
    }
   ],
   "metadata": {}
  }
 ]
}