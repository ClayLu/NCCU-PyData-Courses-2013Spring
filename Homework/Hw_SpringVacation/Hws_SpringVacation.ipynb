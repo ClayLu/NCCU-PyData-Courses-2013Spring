{
 "metadata": {
  "name": ""
 },
 "nbformat": 3,
 "nbformat_minor": 0,
 "worksheets": [
  {
   "cells": [
    {
     "cell_type": "markdown",
     "metadata": {
      "slideshow": {
       "slide_type": "slide"
      }
     },
     "source": [
      "# \u5bd2\u5047\u4f5c\u696d"
     ]
    },
    {
     "cell_type": "markdown",
     "metadata": {
      "slideshow": {
       "slide_type": "slide"
      }
     },
     "source": [
      "## Problem1: (\u53ef\u4ee5\u9078\u64c7\u4e00\u5230\u4e09\u4eba\u4e00\u7d44) \u5f9e\u751f\u6d3b\u9031\u908a\u7684\u9700\u6c42\u51fa\u767c\uff0c\u8a66\u8457\u60f3\u4e00\u500b\u9700\u8981\u5916\u90e8\u8cc7\u6599\u624d\u80fd\u5b8c\u6210\u7684\u7db2\u8def\u670d\u52d9\uff1f\n",
      "\n",
      "- ### \u5982\u679c\u7121\u6cd5\u5f9e\u9700\u6c42\u51fa\u767c\uff0c\u601d\u8003\u554f\u984c\u9700\u8981\u600e\u6a23\u7684\u8cc7\u6599 ... \u4e5f\u53ef\u4ee5\u8a66\u8457 ...\n",
      "- ### \u5f9e\u8cc7\u6599\u51fa\u767c ... \u627e\u500b\u81ea\u5df1\u6709\u8208\u8da3\u7684\u7db2\u7ad9\uff0c\u53d6\u5f97\u4ed6\u7684\u8cc7\u6599\uff0c\u518d\u60f3\u60f3\u9019\u4e9b\u8cc7\u6599\u53ef\u80fd\u6709\u54ea\u4e9b\u5176\u4ed6\u7684\u9700\u6c42\u8207\u670d\u52d9\n",
      "- ### \u8acb\u5927\u5bb6\u76e1\u53ef\u80fd\u7684\u4f7f\u7528 github \u4f86\u9032\u884c\u5c0f\u7d44\u5167\u7684\u6e9d\u901a\u8207\u7248\u63a7 ... "
     ]
    },
    {
     "cell_type": "markdown",
     "metadata": {
      "slideshow": {
       "slide_type": "slide"
      }
     },
     "source": [
      "## Problem2: \u8a66\u8457\u5beb\u4e00\u4e9b Crawler \u4f86\u53d6\u5f97\u8a72\u670d\u52d9\u6240\u9700\u4e4b\u5916\u90e8\u8cc7\u6599\uff1f\n",
      "\n",
      "- ### \u5982\u679c\u5728\u5beb\u4f5c crawler \u4e0a\u9047\u5230\u56f0\u96e3 ... \u53ef\u4ee5\u8a66\u8457 ...\n",
      "    1. ### \u5728\u8ad6\u58c7\u7248\u4e0a\u6c42\u6551 (\u6c42\u6551\u6642\u8acb\u9644\u4e0a\u5c08\u6848\u7684 github \u8def\u5f91)\n",
      "    2. ### \u53c3\u8003\u516d\u7d44\u7bc4\u4f8b\u4e2d\uff0c\u662f\u5426\u6709\u985e\u4f3c\u7684 case ... \u53e6\u5916\uff0c\u4e5f\u53ef\u4ee5\u53c3\u8003 Reference \u4e2d\u7684\u5f71\u7247\u8207 slides \u4f5c\u9032\u4e00\u6b65\u7684\u5b78\u7fd2 ...\n",
      "    2. ### \u5982\u679c\u771f\u7684\u8a66\u4e86\u5f88\u4e45\u90fd\u5f04\u4e0d\u51fa\u4f86\uff0c\u4e5f\u53ef\u4ee5\u5617\u8a66\u62ff\u7bc4\u4f8b\u4e2d\u7684\u516d\u7d44\u8cc7\u6599\uff0c\u60f3\u500b\u61c9\u7528\u4f86\u9032\u884c\u4e0b\u4e00\u6b65\u7684\u5206\u6790\n",
      "    \n"
     ]
    },
    {
     "cell_type": "markdown",
     "metadata": {
      "slideshow": {
       "slide_type": "subslide"
      }
     },
     "source": [
      "## Crawler Reference:\n",
      "\n",
      "- ## c3h3\n",
      "    * ### \u672c\u6b21\u8ab2\u7a0b Slides: http://talks.c3h3.org/Lecture2_WebCrawler.slides.html\n",
      "    * ### https://www.youtube.com/watch?v=P3Xm_JFmh04\n",
      "    * ### https://www.youtube.com/watch?v=P3Xm_JFmh04\n",
      "    * ### https://www.youtube.com/watch?v=Sr6JLjgX_30\n",
      "    * ### https://www.youtube.com/watch?v=MI_Qlc-mjy0\n",
      "    * ### http://www.slideshare.net/c3h3/20130325-mldm-monday-spide-r\n",
      "    \n",
      "- ## Ronny Wang\n",
      "    * ### https://www.youtube.com/watch?v=qmtgeaajcew\n",
      "    \n",
      "- ## EC Lee\n",
      "    * ### https://www.youtube.com/watch?v=ixEz4GpTP5g&list=PLM7HGQkDNOHsaFMMbABbMCdMy7oVdVxxg&index=1\n",
      "    \n",
      "- ## Yen +1\n",
      "    * ### https://www.youtube.com/watch?v=nfGsdWEZg1g\n",
      "    * ### http://www.openfoundry.org/tw/foss-promotion-on-campus/cat_view/35/736/711/739\n"
     ]
    },
    {
     "cell_type": "markdown",
     "metadata": {
      "slideshow": {
       "slide_type": "slide"
      }
     },
     "source": [
      "## Problem3: \u5efa\u7acb\u4e00\u500b DB \u4f86\u7ba1\u7406\u8207\u5b58\u53d6\u722c\u56de\u4f86\u7684\u8cc7\u6599\uff1f"
     ]
    },
    {
     "cell_type": "markdown",
     "metadata": {
      "slideshow": {
       "slide_type": "slide"
      }
     },
     "source": [
      "## Problem4: \u8a66\u8457\u4f7f\u7528 pandas \u4f5c\u4e00\u4e9b\u6558\u8ff0\u6027\u7d71\u8a08\uff0c\u8a66\u8457\u548c data \u4f5c\u4e00\u4e9b\u7c21\u55ae\u7684\u5c0d\u8a71\uff1f"
     ]
    },
    {
     "cell_type": "markdown",
     "metadata": {
      "slideshow": {
       "slide_type": "slide"
      }
     },
     "source": [
      "## Problem5: \u8a66\u8457\u4f7f\u7528 scikit-learn \u5411 data \u8a62\u554f\u4e00\u4e9b\u66f4\u6df1\u5165\u7684\u554f\u984c\uff1f"
     ]
    }
   ],
   "metadata": {}
  }
 ]
}