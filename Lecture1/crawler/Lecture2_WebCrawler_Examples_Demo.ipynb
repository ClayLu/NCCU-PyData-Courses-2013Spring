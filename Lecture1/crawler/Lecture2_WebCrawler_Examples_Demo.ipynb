{
 "metadata": {
  "name": ""
 },
 "nbformat": 3,
 "nbformat_minor": 0,
 "worksheets": [
  {
   "cells": [
    {
     "cell_type": "code",
     "collapsed": false,
     "input": [
      "%matplotlib inline"
     ],
     "language": "python",
     "metadata": {
      "slideshow": {
       "slide_type": "skip"
      }
     },
     "outputs": []
    },
    {
     "cell_type": "code",
     "collapsed": false,
     "input": [
      "import requests\n",
      "import pandas as pd"
     ],
     "language": "python",
     "metadata": {},
     "outputs": [],
     "prompt_number": 9
    },
    {
     "cell_type": "code",
     "collapsed": false,
     "input": [
      "res = requests.get(\"http://ecshweb.pchome.com.tw/search/v3.2/all/results?q=apple&page=1&price=-&sort=rnk/dc&subq=\")"
     ],
     "language": "python",
     "metadata": {},
     "outputs": [],
     "prompt_number": 3
    },
    {
     "cell_type": "code",
     "collapsed": false,
     "input": [
      "res_dict = eval(res.text)\n",
      "res_dict.keys()"
     ],
     "language": "python",
     "metadata": {},
     "outputs": [
      {
       "metadata": {},
       "output_type": "pyout",
       "prompt_number": 26,
       "text": [
        "['cateName', 'q', 'range', 'prods', 'subq', 'QTime', 'totalRows', 'token']"
       ]
      }
     ],
     "prompt_number": 26
    },
    {
     "cell_type": "code",
     "collapsed": false,
     "input": [
      "res_dict['prods']"
     ],
     "language": "python",
     "metadata": {},
     "outputs": [
      {
       "metadata": {},
       "output_type": "pyout",
       "prompt_number": 29,
       "text": [
        "[{'Id': 'DGAX84-A82081296',\n",
        "  'author': '',\n",
        "  'brand': '',\n",
        "  'cateId': 'DGAX84',\n",
        "  'describe': 'Apple i Pad mini 16G \\\\u914d\\\\u5099Retina\\\\u986f\\\\u793a\\\\u5668(\\\\u767d\\\\u8272)  ',\n",
        "  'name': 'Apple i Pad mini 16G  \\\\u914d\\\\u5099Retina\\\\u986f\\\\u793a\\\\u5668(\\\\u767d\\\\u8272)',\n",
        "  'picB': '\\\\/pic\\\\/v1\\\\/data\\\\/item\\\\/201312\\\\/D\\\\/G\\\\/A\\\\/X\\\\/8\\\\/4\\\\/DGAX84-A82081296000_52b3ec709da21',\n",
        "  'picS': '\\\\/pic\\\\/v1\\\\/data\\\\/item\\\\/201312\\\\/D\\\\/G\\\\/A\\\\/X\\\\/8\\\\/4\\\\/sDGAX84-A82081296000_52b2a1278b8fc',\n",
        "  'price': 12900,\n",
        "  'publishDate': ''},\n",
        " {'Id': 'DGAX88-A81841178',\n",
        "  'author': '',\n",
        "  'brand': '',\n",
        "  'cateId': 'DGAX88',\n",
        "  'describe': 'APPLE i Pad air 32G (\\\\u767d\\\\u8272)  ',\n",
        "  'name': 'APPLE i Pad air 32G (\\\\u767d\\\\u8272)',\n",
        "  'picB': '\\\\/pic\\\\/v1\\\\/data\\\\/item\\\\/201312\\\\/D\\\\/G\\\\/A\\\\/X\\\\/8\\\\/8\\\\/DGAX88-A81841178000_52a82807ed50c',\n",
        "  'picS': '\\\\/pic\\\\/v1\\\\/data\\\\/item\\\\/201312\\\\/D\\\\/G\\\\/A\\\\/X\\\\/8\\\\/8\\\\/sDGAX88-A81841178000_52ae8843b6cf0',\n",
        "  'price': 18800,\n",
        "  'publishDate': ''},\n",
        " {'Id': 'DGAX87-A81346734',\n",
        "  'author': '',\n",
        "  'brand': '',\n",
        "  'cateId': 'DGAX87',\n",
        "  'describe': 'APPLE i Pad air 16G (\\\\u767d\\\\u8272)  ',\n",
        "  'name': 'APPLE i Pad air 16G (\\\\u767d\\\\u8272)',\n",
        "  'picB': '\\\\/pic\\\\/v1\\\\/data\\\\/item\\\\/201311\\\\/D\\\\/G\\\\/A\\\\/X\\\\/8\\\\/7\\\\/DGAX87-A81346734000_528f3bd0ab94f',\n",
        "  'picS': '\\\\/pic\\\\/v1\\\\/data\\\\/item\\\\/201312\\\\/D\\\\/G\\\\/A\\\\/X\\\\/8\\\\/7\\\\/sDGAX87-A81346734000_52ae8a69cbb01',\n",
        "  'price': 15900,\n",
        "  'publishDate': ''},\n",
        " {'Id': 'DGALOL-A81875096',\n",
        "  'author': '',\n",
        "  'brand': '',\n",
        "  'cateId': 'DGALOL',\n",
        "  'describe': 'Apple iPhone 5s 16G',\n",
        "  'name': 'Apple iPhone 5s 16G',\n",
        "  'picB': '\\\\/pic\\\\/v1\\\\/data\\\\/item\\\\/201312\\\\/D\\\\/G\\\\/A\\\\/L\\\\/O\\\\/L\\\\/DGALOL-A81875096000_52a979a062ee9',\n",
        "  'picS': '\\\\/pic\\\\/v1\\\\/data\\\\/item\\\\/201312\\\\/D\\\\/G\\\\/A\\\\/L\\\\/O\\\\/L\\\\/sDGALOL-A81875096000_52a979a0763e7',\n",
        "  'price': 22500,\n",
        "  'publishDate': ''},\n",
        " {'Id': 'DGAX73-A67120787',\n",
        "  'author': '',\n",
        "  'brand': '',\n",
        "  'cateId': 'DGAX73',\n",
        "  'describe': '\\\\u9001HDMI or CAT.7\\\\u9ad8\\\\u901f\\\\u7db2\\\\u8def\\\\u7ddaApple TV(MD199TA\\\\/A)  ',\n",
        "  'name': 'Apple TV(MD199TA\\\\/A)',\n",
        "  'picB': '\\\\/pic\\\\/v1\\\\/data\\\\/item\\\\/201310\\\\/D\\\\/G\\\\/A\\\\/X\\\\/7\\\\/3\\\\/DGAX73-A67120787000_52648b0e2d334',\n",
        "  'picS': '\\\\/pic\\\\/v1\\\\/data\\\\/item\\\\/201208\\\\/D\\\\/G\\\\/A\\\\/X\\\\/7\\\\/3\\\\/sDGAX73-A67120787000_502392644a50c',\n",
        "  'price': 3690,\n",
        "  'publishDate': ''},\n",
        " {'Id': 'DGAX84-A82080552',\n",
        "  'author': '',\n",
        "  'brand': '',\n",
        "  'cateId': 'DGAX84',\n",
        "  'describe': 'Apple i Pad mini 16G \\\\u914d\\\\u5099Retina\\\\u986f\\\\u793a\\\\u5668(\\\\u9ed1\\\\u8272)  ',\n",
        "  'name': 'Apple i Pad mini 16G  \\\\u914d\\\\u5099Retina\\\\u986f\\\\u793a\\\\u5668(\\\\u9ed1\\\\u8272)',\n",
        "  'picB': '\\\\/pic\\\\/v1\\\\/data\\\\/item\\\\/201312\\\\/D\\\\/G\\\\/A\\\\/X\\\\/8\\\\/4\\\\/DGAX84-A82080552000_52b29cff56257',\n",
        "  'picS': '\\\\/pic\\\\/v1\\\\/data\\\\/item\\\\/201312\\\\/D\\\\/G\\\\/A\\\\/X\\\\/8\\\\/4\\\\/sDGAX84-A82080552000_52b29cff80df2',\n",
        "  'price': 12900,\n",
        "  'publishDate': ''},\n",
        " {'Id': 'DGAX89-A81347052',\n",
        "  'author': '',\n",
        "  'brand': '',\n",
        "  'cateId': 'DGAX89',\n",
        "  'describe': 'APPLE i Pad air 64G (\\\\u9ed1\\\\u8272)  ',\n",
        "  'name': 'APPLE i Pad air 64G (\\\\u9ed1\\\\u8272)',\n",
        "  'picB': '\\\\/pic\\\\/v1\\\\/data\\\\/item\\\\/201312\\\\/D\\\\/G\\\\/A\\\\/X\\\\/8\\\\/9\\\\/DGAX89-A81347052000_52ae8c1ab2388',\n",
        "  'picS': '\\\\/pic\\\\/v1\\\\/data\\\\/item\\\\/201312\\\\/D\\\\/G\\\\/A\\\\/X\\\\/8\\\\/9\\\\/sDGAX89-A81347052000_52ae8c1ac96a4',\n",
        "  'price': 21900,\n",
        "  'publishDate': ''},\n",
        " {'Id': 'DGALOL-A81449077',\n",
        "  'author': '',\n",
        "  'brand': '',\n",
        "  'cateId': 'DGALOL',\n",
        "  'describe': '\\\\u2605\\\\u5230\\\\u8ca8\\\\u4e0b\\\\u6bba!!!\\\\u2605Apple iPhone 5s (16G)',\n",
        "  'name': 'Apple iPhone 5s (16G)',\n",
        "  'picB': '\\\\/pic\\\\/v1\\\\/data\\\\/item\\\\/201311\\\\/D\\\\/G\\\\/A\\\\/L\\\\/O\\\\/L\\\\/DGALOL-A81449077000_529570a8a2119',\n",
        "  'picS': '\\\\/pic\\\\/v1\\\\/data\\\\/item\\\\/201311\\\\/D\\\\/G\\\\/A\\\\/L\\\\/O\\\\/L\\\\/sDGALOL-A81449077000_529570a8b4228',\n",
        "  'price': 21900,\n",
        "  'publishDate': ''},\n",
        " {'Id': 'DGALOL-A81326891',\n",
        "  'author': '',\n",
        "  'brand': '',\n",
        "  'cateId': 'DGALOL',\n",
        "  'describe': '\\\\u91d1\\\\u8272\\\\u5fae\\\\u91cf\\\\u5230\\\\u8ca8Apple iPhone 5s (16G)',\n",
        "  'name': 'Apple iPhone 5s (16G)',\n",
        "  'picB': '\\\\/pic\\\\/v1\\\\/data\\\\/item\\\\/201311\\\\/D\\\\/G\\\\/A\\\\/L\\\\/O\\\\/L\\\\/DGALOL-A81326891000_528ef578818ec',\n",
        "  'picS': '\\\\/pic\\\\/v1\\\\/data\\\\/item\\\\/201311\\\\/D\\\\/G\\\\/A\\\\/L\\\\/O\\\\/L\\\\/sDGALOL-A81326891000_528ef57899ff2',\n",
        "  'price': 22500,\n",
        "  'publishDate': ''},\n",
        " {'Id': 'DGBO8V-A82035482',\n",
        "  'author': '',\n",
        "  'brand': '',\n",
        "  'cateId': 'DGBO8V',\n",
        "  'describe': '\\\\u25e4\\\\u7f8e\\\\u570b\\\\u54c1\\\\u724c!!\\\\u65b0\\\\u54c1\\\\u4e0a\\\\u5e02!!\\\\u25e2\\\\u7f8e\\\\u570biPearl Apple iPad Air\\\\u56db\\\\u89d2\\\\u6298\\\\u758a\\\\u76ae\\\\u5957',\n",
        "  'name': '\\\\u7f8e\\\\u570biPearl Apple iPad Air\\\\u56db\\\\u89d2\\\\u6298\\\\u758a\\\\u76ae\\\\u5957',\n",
        "  'picB': '\\\\/pic\\\\/v1\\\\/data\\\\/item\\\\/201312\\\\/D\\\\/G\\\\/B\\\\/O\\\\/8\\\\/V\\\\/DGBO8V-A82035482000_52b15a82a6d8f',\n",
        "  'picS': '\\\\/pic\\\\/v1\\\\/data\\\\/item\\\\/201401\\\\/D\\\\/G\\\\/B\\\\/O\\\\/8\\\\/V\\\\/sDGBO8V-A82035482000_52c66ee514f2a',\n",
        "  'price': 990,\n",
        "  'publishDate': ''},\n",
        " {'Id': 'DGAX87-A81346743',\n",
        "  'author': '',\n",
        "  'brand': '',\n",
        "  'cateId': 'DGAX87',\n",
        "  'describe': 'APPLE i Pad air 16G (\\\\u9ed1\\\\u8272)  ',\n",
        "  'name': 'APPLE i Pad air 16G (\\\\u9ed1\\\\u8272)',\n",
        "  'picB': '\\\\/pic\\\\/v1\\\\/data\\\\/item\\\\/201312\\\\/D\\\\/G\\\\/A\\\\/X\\\\/8\\\\/7\\\\/DGAX87-A81346743000_52ae8a1c97058',\n",
        "  'picS': '\\\\/pic\\\\/v1\\\\/data\\\\/item\\\\/201312\\\\/D\\\\/G\\\\/A\\\\/X\\\\/8\\\\/7\\\\/sDGAX87-A81346743000_52ae8a1d3a3fe',\n",
        "  'price': 15900,\n",
        "  'publishDate': ''},\n",
        " {'Id': 'DGALOL-A81641426',\n",
        "  'author': '',\n",
        "  'brand': '',\n",
        "  'cateId': 'DGALOL',\n",
        "  'describe': '\\\\u2605\\\\u91d1\\\\u8272\\\\u73fe\\\\u8ca8\\\\u4f9b\\\\u61c9\\\\u4e2d\\\\u2605Apple iPhone 5s (16G)',\n",
        "  'name': 'Apple iPhone 5s (16G)',\n",
        "  'picB': '\\\\/pic\\\\/v1\\\\/data\\\\/item\\\\/201312\\\\/D\\\\/G\\\\/A\\\\/L\\\\/O\\\\/L\\\\/DGALOL-A81641426000_529ecc52b3272',\n",
        "  'picS': '\\\\/pic\\\\/v1\\\\/data\\\\/item\\\\/201312\\\\/D\\\\/G\\\\/A\\\\/L\\\\/O\\\\/L\\\\/sDGALOL-A81641426000_529ecc52bedf4',\n",
        "  'price': 23000,\n",
        "  'publishDate': ''},\n",
        " {'Id': 'DGAX88-A81841220',\n",
        "  'author': '',\n",
        "  'brand': '',\n",
        "  'cateId': 'DGAX88',\n",
        "  'describe': 'APPLE i Pad air 32G (\\\\u9ed1\\\\u8272)   ',\n",
        "  'name': 'APPLE i Pad air 32G (\\\\u9ed1\\\\u8272)',\n",
        "  'picB': '\\\\/pic\\\\/v1\\\\/data\\\\/item\\\\/201312\\\\/D\\\\/G\\\\/A\\\\/X\\\\/8\\\\/8\\\\/DGAX88-A81841220000_52ae820b4e5ce',\n",
        "  'picS': '\\\\/pic\\\\/v1\\\\/data\\\\/item\\\\/201312\\\\/D\\\\/G\\\\/A\\\\/X\\\\/8\\\\/8\\\\/sDGAX88-A81841220000_52ae820b6a706',\n",
        "  'price': 18800,\n",
        "  'publishDate': ''},\n",
        " {'Id': 'DGAX89-A82113850',\n",
        "  'author': '',\n",
        "  'brand': '',\n",
        "  'cateId': 'DGAX89',\n",
        "  'describe': 'APPLE i Pad air 64G WiFi+Cellular (\\\\u767d\\\\u8272)  ',\n",
        "  'name': 'APPLE i Pad air 64G WiFi+Cellular (\\\\u767d\\\\u8272)',\n",
        "  'picB': '\\\\/pic\\\\/v1\\\\/data\\\\/item\\\\/201312\\\\/D\\\\/G\\\\/A\\\\/X\\\\/8\\\\/9\\\\/DGAX89-A82113850000_52b3dadb1a277',\n",
        "  'picS': '\\\\/pic\\\\/v1\\\\/data\\\\/item\\\\/201312\\\\/D\\\\/G\\\\/A\\\\/X\\\\/8\\\\/9\\\\/sDGAX89-A82113850000_52b3dadba0302',\n",
        "  'price': 25900,\n",
        "  'publishDate': ''},\n",
        " {'Id': 'DGBO8W-A82016089',\n",
        "  'author': '',\n",
        "  'brand': '',\n",
        "  'cateId': 'DGBO8W',\n",
        "  'describe': '\\\\u5169\\\\u7528\\\\u6700\\\\u592f\\\\u2605\\\\u662f\\\\u76ae\\\\u5957\\\\u4e5f\\\\u662f\\\\u4fdd\\\\u8b77\\\\u6bbc',\n",
        "  'name': 'apple iPad Air \\\\u5169\\\\u7528\\\\u7d44\\\\u5408\\\\u4f11\\\\u7720\\\\u4fdd\\\\u8b77\\\\u5957',\n",
        "  'picB': '\\\\/pic\\\\/v1\\\\/data\\\\/item\\\\/201312\\\\/D\\\\/G\\\\/B\\\\/O\\\\/8\\\\/W\\\\/DGBO8W-A82016089000_52b10e89ac785',\n",
        "  'picS': '\\\\/pic\\\\/v1\\\\/data\\\\/item\\\\/201312\\\\/D\\\\/G\\\\/B\\\\/O\\\\/8\\\\/W\\\\/sDGBO8W-A82016089000_52b10e89cafd1',\n",
        "  'price': 588,\n",
        "  'publishDate': ''},\n",
        " {'Id': 'DGBO8W-A81873399',\n",
        "  'author': '',\n",
        "  'brand': '',\n",
        "  'cateId': 'DGBO8W',\n",
        "  'describe': ' for  iPad Air  \\\\u53ef\\\\u559a\\\\u9192  TAKASHI\\\\u624b\\\\u5de5\\\\u76ae\\\\u5957 ',\n",
        "  'name': 'TAKASHI JOY Apple iPad Air  \\\\u80cc\\\\u6bbc.\\\\u5074\\\\u6380\\\\u84cb \\\\u6298\\\\u758a\\\\u5f0f \\\\u624b\\\\u5de5\\\\u76ae\\\\u5957 ',\n",
        "  'picB': '\\\\/pic\\\\/v1\\\\/data\\\\/item\\\\/201312\\\\/D\\\\/G\\\\/B\\\\/O\\\\/8\\\\/W\\\\/DGBO8W-A81873399000_52b25b06ce2f8',\n",
        "  'picS': '\\\\/pic\\\\/v1\\\\/data\\\\/item\\\\/201312\\\\/D\\\\/G\\\\/B\\\\/O\\\\/8\\\\/W\\\\/sDGBO8W-A81873399000_52b25b070bd8c',\n",
        "  'price': 1680,\n",
        "  'publishDate': ''},\n",
        " {'Id': 'DGALOM-A80821788',\n",
        "  'author': '',\n",
        "  'brand': '',\n",
        "  'cateId': 'DGALOM',\n",
        "  'describe': 'Apple iPhone 5c (16G)',\n",
        "  'name': 'Apple iPhone 5c (16G)',\n",
        "  'picB': '\\\\/pic\\\\/v1\\\\/data\\\\/item\\\\/201311\\\\/D\\\\/G\\\\/A\\\\/L\\\\/O\\\\/M\\\\/DGALOM-A80821788000_527cc64e1b1f7',\n",
        "  'picS': '\\\\/pic\\\\/v1\\\\/data\\\\/item\\\\/201311\\\\/D\\\\/G\\\\/A\\\\/L\\\\/O\\\\/M\\\\/sDGALOM-A80821788000_527cc64e3125e',\n",
        "  'price': 16900,\n",
        "  'publishDate': ''},\n",
        " {'Id': 'DGBO8W-A81624809',\n",
        "  'author': '',\n",
        "  'brand': '',\n",
        "  'cateId': 'DGBO8W',\n",
        "  'describe': 'BASEUS \\\\u500d\\\\u601d APPLE iPad Air \\\\u667a\\\\u56ca\\\\u7cfb\\\\u5217 \\\\u78c1\\\\u6263\\\\u5438\\\\u9644\\\\u76ae\\\\u5957  ',\n",
        "  'name': 'BASEUS \\\\u500d\\\\u601d APPLE iPad Air \\\\u667a\\\\u56ca\\\\u7cfb\\\\u5217 \\\\u78c1\\\\u6263\\\\u5438\\\\u9644\\\\u76ae\\\\u5957',\n",
        "  'picB': '\\\\/pic\\\\/v1\\\\/data\\\\/item\\\\/201312\\\\/D\\\\/G\\\\/B\\\\/O\\\\/8\\\\/W\\\\/DGBO8W-A81624809000_529dc05ee4f0c',\n",
        "  'picS': '\\\\/pic\\\\/v1\\\\/data\\\\/item\\\\/201312\\\\/D\\\\/G\\\\/B\\\\/O\\\\/8\\\\/W\\\\/sDGBO8W-A81624809000_529dc0d9c82c3',\n",
        "  'price': 790,\n",
        "  'publishDate': ''},\n",
        " {'Id': 'DGAX87-A82113559',\n",
        "  'author': '',\n",
        "  'brand': '',\n",
        "  'cateId': 'DGAX88',\n",
        "  'describe': 'APPLE i Pad air 32G WiFi+Cellular (\\\\u767d\\\\u8272)  ',\n",
        "  'name': 'APPLE i Pad air 32G WiFi+Cellular (\\\\u767d\\\\u8272)',\n",
        "  'picB': '\\\\/pic\\\\/v1\\\\/data\\\\/item\\\\/201312\\\\/D\\\\/G\\\\/A\\\\/X\\\\/8\\\\/7\\\\/DGAX87-A82113559000_52b3da31c7c0e',\n",
        "  'picS': '\\\\/pic\\\\/v1\\\\/data\\\\/item\\\\/201312\\\\/D\\\\/G\\\\/A\\\\/X\\\\/8\\\\/7\\\\/sDGAX87-A82113559000_52b3da31ca70d',\n",
        "  'price': 22800,\n",
        "  'publishDate': ''},\n",
        " {'Id': 'DGBO3J-A76011241',\n",
        "  'author': '',\n",
        "  'brand': '',\n",
        "  'cateId': 'DGBO3J',\n",
        "  'describe': '\\\\u2605\\\\u901a\\\\u904eAPPLE\\\\u8a8d\\\\u8b49pqi\\\\u52c1\\\\u6c38 Apple Lightning \\\\u539f\\\\u5ee0\\\\u8a8d\\\\u8a3c\\\\u50b3\\\\u8f38\\\\u7dda  ',\n",
        "  'name': 'pqi\\\\u52c1\\\\u6c38 Apple Lightning \\\\u539f\\\\u5ee0\\\\u8a8d\\\\u8a3c\\\\u50b3\\\\u8f38\\\\u7dda',\n",
        "  'picB': '\\\\/pic\\\\/v1\\\\/data\\\\/item\\\\/201305\\\\/D\\\\/G\\\\/B\\\\/O\\\\/3\\\\/J\\\\/DGBO3J-A76011241000_518af7baa5ef9',\n",
        "  'picS': '\\\\/pic\\\\/v1\\\\/data\\\\/item\\\\/201305\\\\/D\\\\/G\\\\/B\\\\/O\\\\/3\\\\/J\\\\/sDGBO3J-A76011241000_518af7baa7a50',\n",
        "  'price': 499,\n",
        "  'publishDate': ''}]"
       ]
      }
     ],
     "prompt_number": 29
    },
    {
     "cell_type": "code",
     "collapsed": false,
     "input": [
      "import ujson"
     ],
     "language": "python",
     "metadata": {},
     "outputs": [],
     "prompt_number": 12
    },
    {
     "cell_type": "code",
     "collapsed": false,
     "input": [
      "res_df = pd.DataFrame(res_dict['prods'])\n",
      "res_df"
     ],
     "language": "python",
     "metadata": {},
     "outputs": [
      {
       "html": [
        "<div style=\"max-height:1000px;max-width:1500px;overflow:auto;\">\n",
        "<table border=\"1\" class=\"dataframe\">\n",
        "  <thead>\n",
        "    <tr style=\"text-align: right;\">\n",
        "      <th></th>\n",
        "      <th>Id</th>\n",
        "      <th>author</th>\n",
        "      <th>brand</th>\n",
        "      <th>cateId</th>\n",
        "      <th>describe</th>\n",
        "      <th>name</th>\n",
        "      <th>picB</th>\n",
        "      <th>picS</th>\n",
        "      <th>price</th>\n",
        "      <th>publishDate</th>\n",
        "    </tr>\n",
        "  </thead>\n",
        "  <tbody>\n",
        "    <tr>\n",
        "      <th>0 </th>\n",
        "      <td> DGAX84-A82081296</td>\n",
        "      <td> </td>\n",
        "      <td> </td>\n",
        "      <td> DGAX84</td>\n",
        "      <td> Apple i Pad mini 16G \\u914d\\u5099Retina\\u986f\\...</td>\n",
        "      <td> Apple i Pad mini 16G  \\u914d\\u5099Retina\\u986f...</td>\n",
        "      <td> \\/pic\\/v1\\/data\\/item\\/201312\\/D\\/G\\/A\\/X\\/8\\/...</td>\n",
        "      <td> \\/pic\\/v1\\/data\\/item\\/201312\\/D\\/G\\/A\\/X\\/8\\/...</td>\n",
        "      <td> 12900</td>\n",
        "      <td> </td>\n",
        "    </tr>\n",
        "    <tr>\n",
        "      <th>1 </th>\n",
        "      <td> DGAX88-A81841178</td>\n",
        "      <td> </td>\n",
        "      <td> </td>\n",
        "      <td> DGAX88</td>\n",
        "      <td>              APPLE i Pad air 32G (\\u767d\\u8272)  </td>\n",
        "      <td>                APPLE i Pad air 32G (\\u767d\\u8272)</td>\n",
        "      <td> \\/pic\\/v1\\/data\\/item\\/201312\\/D\\/G\\/A\\/X\\/8\\/...</td>\n",
        "      <td> \\/pic\\/v1\\/data\\/item\\/201312\\/D\\/G\\/A\\/X\\/8\\/...</td>\n",
        "      <td> 18800</td>\n",
        "      <td> </td>\n",
        "    </tr>\n",
        "    <tr>\n",
        "      <th>2 </th>\n",
        "      <td> DGAX87-A81346734</td>\n",
        "      <td> </td>\n",
        "      <td> </td>\n",
        "      <td> DGAX87</td>\n",
        "      <td>              APPLE i Pad air 16G (\\u767d\\u8272)  </td>\n",
        "      <td>                APPLE i Pad air 16G (\\u767d\\u8272)</td>\n",
        "      <td> \\/pic\\/v1\\/data\\/item\\/201311\\/D\\/G\\/A\\/X\\/8\\/...</td>\n",
        "      <td> \\/pic\\/v1\\/data\\/item\\/201312\\/D\\/G\\/A\\/X\\/8\\/...</td>\n",
        "      <td> 15900</td>\n",
        "      <td> </td>\n",
        "    </tr>\n",
        "    <tr>\n",
        "      <th>3 </th>\n",
        "      <td> DGALOL-A81875096</td>\n",
        "      <td> </td>\n",
        "      <td> </td>\n",
        "      <td> DGALOL</td>\n",
        "      <td>                               Apple iPhone 5s 16G</td>\n",
        "      <td>                               Apple iPhone 5s 16G</td>\n",
        "      <td> \\/pic\\/v1\\/data\\/item\\/201312\\/D\\/G\\/A\\/L\\/O\\/...</td>\n",
        "      <td> \\/pic\\/v1\\/data\\/item\\/201312\\/D\\/G\\/A\\/L\\/O\\/...</td>\n",
        "      <td> 22500</td>\n",
        "      <td> </td>\n",
        "    </tr>\n",
        "    <tr>\n",
        "      <th>4 </th>\n",
        "      <td> DGAX73-A67120787</td>\n",
        "      <td> </td>\n",
        "      <td> </td>\n",
        "      <td> DGAX73</td>\n",
        "      <td> \\u9001HDMI or CAT.7\\u9ad8\\u901f\\u7db2\\u8def\\u7...</td>\n",
        "      <td>                              Apple TV(MD199TA\\/A)</td>\n",
        "      <td> \\/pic\\/v1\\/data\\/item\\/201310\\/D\\/G\\/A\\/X\\/7\\/...</td>\n",
        "      <td> \\/pic\\/v1\\/data\\/item\\/201208\\/D\\/G\\/A\\/X\\/7\\/...</td>\n",
        "      <td>  3690</td>\n",
        "      <td> </td>\n",
        "    </tr>\n",
        "    <tr>\n",
        "      <th>5 </th>\n",
        "      <td> DGAX84-A82080552</td>\n",
        "      <td> </td>\n",
        "      <td> </td>\n",
        "      <td> DGAX84</td>\n",
        "      <td> Apple i Pad mini 16G \\u914d\\u5099Retina\\u986f\\...</td>\n",
        "      <td> Apple i Pad mini 16G  \\u914d\\u5099Retina\\u986f...</td>\n",
        "      <td> \\/pic\\/v1\\/data\\/item\\/201312\\/D\\/G\\/A\\/X\\/8\\/...</td>\n",
        "      <td> \\/pic\\/v1\\/data\\/item\\/201312\\/D\\/G\\/A\\/X\\/8\\/...</td>\n",
        "      <td> 12900</td>\n",
        "      <td> </td>\n",
        "    </tr>\n",
        "    <tr>\n",
        "      <th>6 </th>\n",
        "      <td> DGAX89-A81347052</td>\n",
        "      <td> </td>\n",
        "      <td> </td>\n",
        "      <td> DGAX89</td>\n",
        "      <td>              APPLE i Pad air 64G (\\u9ed1\\u8272)  </td>\n",
        "      <td>                APPLE i Pad air 64G (\\u9ed1\\u8272)</td>\n",
        "      <td> \\/pic\\/v1\\/data\\/item\\/201312\\/D\\/G\\/A\\/X\\/8\\/...</td>\n",
        "      <td> \\/pic\\/v1\\/data\\/item\\/201312\\/D\\/G\\/A\\/X\\/8\\/...</td>\n",
        "      <td> 21900</td>\n",
        "      <td> </td>\n",
        "    </tr>\n",
        "    <tr>\n",
        "      <th>7 </th>\n",
        "      <td> DGALOL-A81449077</td>\n",
        "      <td> </td>\n",
        "      <td> </td>\n",
        "      <td> DGALOL</td>\n",
        "      <td> \\u2605\\u5230\\u8ca8\\u4e0b\\u6bba!!!\\u2605Apple i...</td>\n",
        "      <td>                             Apple iPhone 5s (16G)</td>\n",
        "      <td> \\/pic\\/v1\\/data\\/item\\/201311\\/D\\/G\\/A\\/L\\/O\\/...</td>\n",
        "      <td> \\/pic\\/v1\\/data\\/item\\/201311\\/D\\/G\\/A\\/L\\/O\\/...</td>\n",
        "      <td> 21900</td>\n",
        "      <td> </td>\n",
        "    </tr>\n",
        "    <tr>\n",
        "      <th>8 </th>\n",
        "      <td> DGALOL-A81326891</td>\n",
        "      <td> </td>\n",
        "      <td> </td>\n",
        "      <td> DGALOL</td>\n",
        "      <td> \\u91d1\\u8272\\u5fae\\u91cf\\u5230\\u8ca8Apple iPho...</td>\n",
        "      <td>                             Apple iPhone 5s (16G)</td>\n",
        "      <td> \\/pic\\/v1\\/data\\/item\\/201311\\/D\\/G\\/A\\/L\\/O\\/...</td>\n",
        "      <td> \\/pic\\/v1\\/data\\/item\\/201311\\/D\\/G\\/A\\/L\\/O\\/...</td>\n",
        "      <td> 22500</td>\n",
        "      <td> </td>\n",
        "    </tr>\n",
        "    <tr>\n",
        "      <th>9 </th>\n",
        "      <td> DGBO8V-A82035482</td>\n",
        "      <td> </td>\n",
        "      <td> </td>\n",
        "      <td> DGBO8V</td>\n",
        "      <td> \\u25e4\\u7f8e\\u570b\\u54c1\\u724c!!\\u65b0\\u54c1\\u...</td>\n",
        "      <td> \\u7f8e\\u570biPearl Apple iPad Air\\u56db\\u89d2\\...</td>\n",
        "      <td> \\/pic\\/v1\\/data\\/item\\/201312\\/D\\/G\\/B\\/O\\/8\\/...</td>\n",
        "      <td> \\/pic\\/v1\\/data\\/item\\/201401\\/D\\/G\\/B\\/O\\/8\\/...</td>\n",
        "      <td>   990</td>\n",
        "      <td> </td>\n",
        "    </tr>\n",
        "    <tr>\n",
        "      <th>10</th>\n",
        "      <td> DGAX87-A81346743</td>\n",
        "      <td> </td>\n",
        "      <td> </td>\n",
        "      <td> DGAX87</td>\n",
        "      <td>              APPLE i Pad air 16G (\\u9ed1\\u8272)  </td>\n",
        "      <td>                APPLE i Pad air 16G (\\u9ed1\\u8272)</td>\n",
        "      <td> \\/pic\\/v1\\/data\\/item\\/201312\\/D\\/G\\/A\\/X\\/8\\/...</td>\n",
        "      <td> \\/pic\\/v1\\/data\\/item\\/201312\\/D\\/G\\/A\\/X\\/8\\/...</td>\n",
        "      <td> 15900</td>\n",
        "      <td> </td>\n",
        "    </tr>\n",
        "    <tr>\n",
        "      <th>11</th>\n",
        "      <td> DGALOL-A81641426</td>\n",
        "      <td> </td>\n",
        "      <td> </td>\n",
        "      <td> DGALOL</td>\n",
        "      <td> \\u2605\\u91d1\\u8272\\u73fe\\u8ca8\\u4f9b\\u61c9\\u4e...</td>\n",
        "      <td>                             Apple iPhone 5s (16G)</td>\n",
        "      <td> \\/pic\\/v1\\/data\\/item\\/201312\\/D\\/G\\/A\\/L\\/O\\/...</td>\n",
        "      <td> \\/pic\\/v1\\/data\\/item\\/201312\\/D\\/G\\/A\\/L\\/O\\/...</td>\n",
        "      <td> 23000</td>\n",
        "      <td> </td>\n",
        "    </tr>\n",
        "    <tr>\n",
        "      <th>12</th>\n",
        "      <td> DGAX88-A81841220</td>\n",
        "      <td> </td>\n",
        "      <td> </td>\n",
        "      <td> DGAX88</td>\n",
        "      <td>             APPLE i Pad air 32G (\\u9ed1\\u8272)   </td>\n",
        "      <td>                APPLE i Pad air 32G (\\u9ed1\\u8272)</td>\n",
        "      <td> \\/pic\\/v1\\/data\\/item\\/201312\\/D\\/G\\/A\\/X\\/8\\/...</td>\n",
        "      <td> \\/pic\\/v1\\/data\\/item\\/201312\\/D\\/G\\/A\\/X\\/8\\/...</td>\n",
        "      <td> 18800</td>\n",
        "      <td> </td>\n",
        "    </tr>\n",
        "    <tr>\n",
        "      <th>13</th>\n",
        "      <td> DGAX89-A82113850</td>\n",
        "      <td> </td>\n",
        "      <td> </td>\n",
        "      <td> DGAX89</td>\n",
        "      <td> APPLE i Pad air 64G WiFi+Cellular (\\u767d\\u827...</td>\n",
        "      <td>  APPLE i Pad air 64G WiFi+Cellular (\\u767d\\u8272)</td>\n",
        "      <td> \\/pic\\/v1\\/data\\/item\\/201312\\/D\\/G\\/A\\/X\\/8\\/...</td>\n",
        "      <td> \\/pic\\/v1\\/data\\/item\\/201312\\/D\\/G\\/A\\/X\\/8\\/...</td>\n",
        "      <td> 25900</td>\n",
        "      <td> </td>\n",
        "    </tr>\n",
        "    <tr>\n",
        "      <th>14</th>\n",
        "      <td> DGBO8W-A82016089</td>\n",
        "      <td> </td>\n",
        "      <td> </td>\n",
        "      <td> DGBO8W</td>\n",
        "      <td> \\u5169\\u7528\\u6700\\u592f\\u2605\\u662f\\u76ae\\u59...</td>\n",
        "      <td> apple iPad Air \\u5169\\u7528\\u7d44\\u5408\\u4f11\\...</td>\n",
        "      <td> \\/pic\\/v1\\/data\\/item\\/201312\\/D\\/G\\/B\\/O\\/8\\/...</td>\n",
        "      <td> \\/pic\\/v1\\/data\\/item\\/201312\\/D\\/G\\/B\\/O\\/8\\/...</td>\n",
        "      <td>   588</td>\n",
        "      <td> </td>\n",
        "    </tr>\n",
        "    <tr>\n",
        "      <th>15</th>\n",
        "      <td> DGBO8W-A81873399</td>\n",
        "      <td> </td>\n",
        "      <td> </td>\n",
        "      <td> DGBO8W</td>\n",
        "      <td>  for  iPad Air  \\u53ef\\u559a\\u9192  TAKASHI\\u6...</td>\n",
        "      <td> TAKASHI JOY Apple iPad Air  \\u80cc\\u6bbc.\\u507...</td>\n",
        "      <td> \\/pic\\/v1\\/data\\/item\\/201312\\/D\\/G\\/B\\/O\\/8\\/...</td>\n",
        "      <td> \\/pic\\/v1\\/data\\/item\\/201312\\/D\\/G\\/B\\/O\\/8\\/...</td>\n",
        "      <td>  1680</td>\n",
        "      <td> </td>\n",
        "    </tr>\n",
        "    <tr>\n",
        "      <th>16</th>\n",
        "      <td> DGALOM-A80821788</td>\n",
        "      <td> </td>\n",
        "      <td> </td>\n",
        "      <td> DGALOM</td>\n",
        "      <td>                             Apple iPhone 5c (16G)</td>\n",
        "      <td>                             Apple iPhone 5c (16G)</td>\n",
        "      <td> \\/pic\\/v1\\/data\\/item\\/201311\\/D\\/G\\/A\\/L\\/O\\/...</td>\n",
        "      <td> \\/pic\\/v1\\/data\\/item\\/201311\\/D\\/G\\/A\\/L\\/O\\/...</td>\n",
        "      <td> 16900</td>\n",
        "      <td> </td>\n",
        "    </tr>\n",
        "    <tr>\n",
        "      <th>17</th>\n",
        "      <td> DGBO8W-A81624809</td>\n",
        "      <td> </td>\n",
        "      <td> </td>\n",
        "      <td> DGBO8W</td>\n",
        "      <td> BASEUS \\u500d\\u601d APPLE iPad Air \\u667a\\u56c...</td>\n",
        "      <td> BASEUS \\u500d\\u601d APPLE iPad Air \\u667a\\u56c...</td>\n",
        "      <td> \\/pic\\/v1\\/data\\/item\\/201312\\/D\\/G\\/B\\/O\\/8\\/...</td>\n",
        "      <td> \\/pic\\/v1\\/data\\/item\\/201312\\/D\\/G\\/B\\/O\\/8\\/...</td>\n",
        "      <td>   790</td>\n",
        "      <td> </td>\n",
        "    </tr>\n",
        "    <tr>\n",
        "      <th>18</th>\n",
        "      <td> DGAX87-A82113559</td>\n",
        "      <td> </td>\n",
        "      <td> </td>\n",
        "      <td> DGAX88</td>\n",
        "      <td> APPLE i Pad air 32G WiFi+Cellular (\\u767d\\u827...</td>\n",
        "      <td>  APPLE i Pad air 32G WiFi+Cellular (\\u767d\\u8272)</td>\n",
        "      <td> \\/pic\\/v1\\/data\\/item\\/201312\\/D\\/G\\/A\\/X\\/8\\/...</td>\n",
        "      <td> \\/pic\\/v1\\/data\\/item\\/201312\\/D\\/G\\/A\\/X\\/8\\/...</td>\n",
        "      <td> 22800</td>\n",
        "      <td> </td>\n",
        "    </tr>\n",
        "    <tr>\n",
        "      <th>19</th>\n",
        "      <td> DGBO3J-A76011241</td>\n",
        "      <td> </td>\n",
        "      <td> </td>\n",
        "      <td> DGBO3J</td>\n",
        "      <td> \\u2605\\u901a\\u904eAPPLE\\u8a8d\\u8b49pqi\\u52c1\\u...</td>\n",
        "      <td> pqi\\u52c1\\u6c38 Apple Lightning \\u539f\\u5ee0\\u...</td>\n",
        "      <td> \\/pic\\/v1\\/data\\/item\\/201305\\/D\\/G\\/B\\/O\\/3\\/...</td>\n",
        "      <td> \\/pic\\/v1\\/data\\/item\\/201305\\/D\\/G\\/B\\/O\\/3\\/...</td>\n",
        "      <td>   499</td>\n",
        "      <td> </td>\n",
        "    </tr>\n",
        "  </tbody>\n",
        "</table>\n",
        "</div>"
       ],
       "metadata": {},
       "output_type": "pyout",
       "prompt_number": 31,
       "text": [
        "                  Id author brand  cateId  \\\n",
        "0   DGAX84-A82081296               DGAX84   \n",
        "1   DGAX88-A81841178               DGAX88   \n",
        "2   DGAX87-A81346734               DGAX87   \n",
        "3   DGALOL-A81875096               DGALOL   \n",
        "4   DGAX73-A67120787               DGAX73   \n",
        "5   DGAX84-A82080552               DGAX84   \n",
        "6   DGAX89-A81347052               DGAX89   \n",
        "7   DGALOL-A81449077               DGALOL   \n",
        "8   DGALOL-A81326891               DGALOL   \n",
        "9   DGBO8V-A82035482               DGBO8V   \n",
        "10  DGAX87-A81346743               DGAX87   \n",
        "11  DGALOL-A81641426               DGALOL   \n",
        "12  DGAX88-A81841220               DGAX88   \n",
        "13  DGAX89-A82113850               DGAX89   \n",
        "14  DGBO8W-A82016089               DGBO8W   \n",
        "15  DGBO8W-A81873399               DGBO8W   \n",
        "16  DGALOM-A80821788               DGALOM   \n",
        "17  DGBO8W-A81624809               DGBO8W   \n",
        "18  DGAX87-A82113559               DGAX88   \n",
        "19  DGBO3J-A76011241               DGBO3J   \n",
        "\n",
        "                                             describe  \\\n",
        "0   Apple i Pad mini 16G \\u914d\\u5099Retina\\u986f\\...   \n",
        "1                APPLE i Pad air 32G (\\u767d\\u8272)     \n",
        "2                APPLE i Pad air 16G (\\u767d\\u8272)     \n",
        "3                                 Apple iPhone 5s 16G   \n",
        "4   \\u9001HDMI or CAT.7\\u9ad8\\u901f\\u7db2\\u8def\\u7...   \n",
        "5   Apple i Pad mini 16G \\u914d\\u5099Retina\\u986f\\...   \n",
        "6                APPLE i Pad air 64G (\\u9ed1\\u8272)     \n",
        "7   \\u2605\\u5230\\u8ca8\\u4e0b\\u6bba!!!\\u2605Apple i...   \n",
        "8   \\u91d1\\u8272\\u5fae\\u91cf\\u5230\\u8ca8Apple iPho...   \n",
        "9   \\u25e4\\u7f8e\\u570b\\u54c1\\u724c!!\\u65b0\\u54c1\\u...   \n",
        "10               APPLE i Pad air 16G (\\u9ed1\\u8272)     \n",
        "11  \\u2605\\u91d1\\u8272\\u73fe\\u8ca8\\u4f9b\\u61c9\\u4e...   \n",
        "12              APPLE i Pad air 32G (\\u9ed1\\u8272)      \n",
        "13  APPLE i Pad air 64G WiFi+Cellular (\\u767d\\u827...   \n",
        "14  \\u5169\\u7528\\u6700\\u592f\\u2605\\u662f\\u76ae\\u59...   \n",
        "15   for  iPad Air  \\u53ef\\u559a\\u9192  TAKASHI\\u6...   \n",
        "16                              Apple iPhone 5c (16G)   \n",
        "17  BASEUS \\u500d\\u601d APPLE iPad Air \\u667a\\u56c...   \n",
        "18  APPLE i Pad air 32G WiFi+Cellular (\\u767d\\u827...   \n",
        "19  \\u2605\\u901a\\u904eAPPLE\\u8a8d\\u8b49pqi\\u52c1\\u...   \n",
        "\n",
        "                                                 name  \\\n",
        "0   Apple i Pad mini 16G  \\u914d\\u5099Retina\\u986f...   \n",
        "1                  APPLE i Pad air 32G (\\u767d\\u8272)   \n",
        "2                  APPLE i Pad air 16G (\\u767d\\u8272)   \n",
        "3                                 Apple iPhone 5s 16G   \n",
        "4                                Apple TV(MD199TA\\/A)   \n",
        "5   Apple i Pad mini 16G  \\u914d\\u5099Retina\\u986f...   \n",
        "6                  APPLE i Pad air 64G (\\u9ed1\\u8272)   \n",
        "7                               Apple iPhone 5s (16G)   \n",
        "8                               Apple iPhone 5s (16G)   \n",
        "9   \\u7f8e\\u570biPearl Apple iPad Air\\u56db\\u89d2\\...   \n",
        "10                 APPLE i Pad air 16G (\\u9ed1\\u8272)   \n",
        "11                              Apple iPhone 5s (16G)   \n",
        "12                 APPLE i Pad air 32G (\\u9ed1\\u8272)   \n",
        "13   APPLE i Pad air 64G WiFi+Cellular (\\u767d\\u8272)   \n",
        "14  apple iPad Air \\u5169\\u7528\\u7d44\\u5408\\u4f11\\...   \n",
        "15  TAKASHI JOY Apple iPad Air  \\u80cc\\u6bbc.\\u507...   \n",
        "16                              Apple iPhone 5c (16G)   \n",
        "17  BASEUS \\u500d\\u601d APPLE iPad Air \\u667a\\u56c...   \n",
        "18   APPLE i Pad air 32G WiFi+Cellular (\\u767d\\u8272)   \n",
        "19  pqi\\u52c1\\u6c38 Apple Lightning \\u539f\\u5ee0\\u...   \n",
        "\n",
        "                                                 picB  \\\n",
        "0   \\/pic\\/v1\\/data\\/item\\/201312\\/D\\/G\\/A\\/X\\/8\\/...   \n",
        "1   \\/pic\\/v1\\/data\\/item\\/201312\\/D\\/G\\/A\\/X\\/8\\/...   \n",
        "2   \\/pic\\/v1\\/data\\/item\\/201311\\/D\\/G\\/A\\/X\\/8\\/...   \n",
        "3   \\/pic\\/v1\\/data\\/item\\/201312\\/D\\/G\\/A\\/L\\/O\\/...   \n",
        "4   \\/pic\\/v1\\/data\\/item\\/201310\\/D\\/G\\/A\\/X\\/7\\/...   \n",
        "5   \\/pic\\/v1\\/data\\/item\\/201312\\/D\\/G\\/A\\/X\\/8\\/...   \n",
        "6   \\/pic\\/v1\\/data\\/item\\/201312\\/D\\/G\\/A\\/X\\/8\\/...   \n",
        "7   \\/pic\\/v1\\/data\\/item\\/201311\\/D\\/G\\/A\\/L\\/O\\/...   \n",
        "8   \\/pic\\/v1\\/data\\/item\\/201311\\/D\\/G\\/A\\/L\\/O\\/...   \n",
        "9   \\/pic\\/v1\\/data\\/item\\/201312\\/D\\/G\\/B\\/O\\/8\\/...   \n",
        "10  \\/pic\\/v1\\/data\\/item\\/201312\\/D\\/G\\/A\\/X\\/8\\/...   \n",
        "11  \\/pic\\/v1\\/data\\/item\\/201312\\/D\\/G\\/A\\/L\\/O\\/...   \n",
        "12  \\/pic\\/v1\\/data\\/item\\/201312\\/D\\/G\\/A\\/X\\/8\\/...   \n",
        "13  \\/pic\\/v1\\/data\\/item\\/201312\\/D\\/G\\/A\\/X\\/8\\/...   \n",
        "14  \\/pic\\/v1\\/data\\/item\\/201312\\/D\\/G\\/B\\/O\\/8\\/...   \n",
        "15  \\/pic\\/v1\\/data\\/item\\/201312\\/D\\/G\\/B\\/O\\/8\\/...   \n",
        "16  \\/pic\\/v1\\/data\\/item\\/201311\\/D\\/G\\/A\\/L\\/O\\/...   \n",
        "17  \\/pic\\/v1\\/data\\/item\\/201312\\/D\\/G\\/B\\/O\\/8\\/...   \n",
        "18  \\/pic\\/v1\\/data\\/item\\/201312\\/D\\/G\\/A\\/X\\/8\\/...   \n",
        "19  \\/pic\\/v1\\/data\\/item\\/201305\\/D\\/G\\/B\\/O\\/3\\/...   \n",
        "\n",
        "                                                 picS  price publishDate  \n",
        "0   \\/pic\\/v1\\/data\\/item\\/201312\\/D\\/G\\/A\\/X\\/8\\/...  12900              \n",
        "1   \\/pic\\/v1\\/data\\/item\\/201312\\/D\\/G\\/A\\/X\\/8\\/...  18800              \n",
        "2   \\/pic\\/v1\\/data\\/item\\/201312\\/D\\/G\\/A\\/X\\/8\\/...  15900              \n",
        "3   \\/pic\\/v1\\/data\\/item\\/201312\\/D\\/G\\/A\\/L\\/O\\/...  22500              \n",
        "4   \\/pic\\/v1\\/data\\/item\\/201208\\/D\\/G\\/A\\/X\\/7\\/...   3690              \n",
        "5   \\/pic\\/v1\\/data\\/item\\/201312\\/D\\/G\\/A\\/X\\/8\\/...  12900              \n",
        "6   \\/pic\\/v1\\/data\\/item\\/201312\\/D\\/G\\/A\\/X\\/8\\/...  21900              \n",
        "7   \\/pic\\/v1\\/data\\/item\\/201311\\/D\\/G\\/A\\/L\\/O\\/...  21900              \n",
        "8   \\/pic\\/v1\\/data\\/item\\/201311\\/D\\/G\\/A\\/L\\/O\\/...  22500              \n",
        "9   \\/pic\\/v1\\/data\\/item\\/201401\\/D\\/G\\/B\\/O\\/8\\/...    990              \n",
        "10  \\/pic\\/v1\\/data\\/item\\/201312\\/D\\/G\\/A\\/X\\/8\\/...  15900              \n",
        "11  \\/pic\\/v1\\/data\\/item\\/201312\\/D\\/G\\/A\\/L\\/O\\/...  23000              \n",
        "12  \\/pic\\/v1\\/data\\/item\\/201312\\/D\\/G\\/A\\/X\\/8\\/...  18800              \n",
        "13  \\/pic\\/v1\\/data\\/item\\/201312\\/D\\/G\\/A\\/X\\/8\\/...  25900              \n",
        "14  \\/pic\\/v1\\/data\\/item\\/201312\\/D\\/G\\/B\\/O\\/8\\/...    588              \n",
        "15  \\/pic\\/v1\\/data\\/item\\/201312\\/D\\/G\\/B\\/O\\/8\\/...   1680              \n",
        "16  \\/pic\\/v1\\/data\\/item\\/201311\\/D\\/G\\/A\\/L\\/O\\/...  16900              \n",
        "17  \\/pic\\/v1\\/data\\/item\\/201312\\/D\\/G\\/B\\/O\\/8\\/...    790              \n",
        "18  \\/pic\\/v1\\/data\\/item\\/201312\\/D\\/G\\/A\\/X\\/8\\/...  22800              \n",
        "19  \\/pic\\/v1\\/data\\/item\\/201305\\/D\\/G\\/B\\/O\\/3\\/...    499              "
       ]
      }
     ],
     "prompt_number": 31
    },
    {
     "cell_type": "code",
     "collapsed": false,
     "input": [
      "import sqlite3\n",
      "conn = sqlite3.connect('nccu_mldm_course.db')\n",
      "res_df.to_sql(\"pchome_q\",con = conqn,if_exists='replace')"
     ],
     "language": "python",
     "metadata": {},
     "outputs": [],
     "prompt_number": 34
    },
    {
     "cell_type": "code",
     "collapsed": false,
     "input": [
      "a =1 \n",
      "b=2"
     ],
     "language": "python",
     "metadata": {},
     "outputs": [],
     "prompt_number": 35
    },
    {
     "cell_type": "code",
     "collapsed": false,
     "input": [
      "\"%s / %s\" % (a,b)"
     ],
     "language": "python",
     "metadata": {},
     "outputs": [
      {
       "metadata": {},
       "output_type": "pyout",
       "prompt_number": 36,
       "text": [
        "'1 / 2'"
       ]
      }
     ],
     "prompt_number": 36
    },
    {
     "cell_type": "code",
     "collapsed": false,
     "input": [],
     "language": "python",
     "metadata": {},
     "outputs": []
    },
    {
     "cell_type": "code",
     "collapsed": false,
     "input": [],
     "language": "python",
     "metadata": {},
     "outputs": []
    },
    {
     "cell_type": "code",
     "collapsed": false,
     "input": [],
     "language": "python",
     "metadata": {},
     "outputs": []
    },
    {
     "cell_type": "markdown",
     "metadata": {
      "slideshow": {
       "slide_type": "slide"
      }
     },
     "source": [
      "# \u4e00\u4e9b\u5c0f\u7bc4\u4f8b"
     ]
    },
    {
     "cell_type": "markdown",
     "metadata": {
      "slideshow": {
       "slide_type": "subslide"
      }
     },
     "source": [
      "# [Example1] \u6293\u53d6\u80a1\u5e02\u4e3b\u529b\u9032\u51fa\u8868\uff1a\n",
      "\n",
      "[![Web_kimo_stock](Lec2_slide_imgs/Web_kimo_stock.png.png)](http://tw.stock.yahoo.com/d/s/major_2451.html)"
     ]
    },
    {
     "cell_type": "markdown",
     "metadata": {
      "slideshow": {
       "slide_type": "subslide"
      }
     },
     "source": [
      "# [Example1] \u6293\u53d6\u80a1\u5e02\u4e3b\u529b\u9032\u51fa\u8868\uff1a"
     ]
    },
    {
     "cell_type": "code",
     "collapsed": false,
     "input": [
      "import requests\n",
      "import pandas as pd\n",
      "import numpy as np"
     ],
     "language": "python",
     "metadata": {},
     "outputs": [],
     "prompt_number": 37
    },
    {
     "cell_type": "code",
     "collapsed": false,
     "input": [
      "stock_id = \"2330\"\n",
      "res = requests.get(\"http://tw.stock.yahoo.com/d/s/major_%s.html\" % stock_id)\n",
      "tables = pd.read_html(res.text)\n",
      "\n",
      "#for one_table in tables:\n",
      "#   print \"~~~~~~~~~~~~~~~~~~~~~~~~~~~~~~~~~~~~~~~~~~~~\"\n",
      "#   print one_table.values.shape\n",
      "#   print one_table\n",
      "\n",
      "tables[1]"
     ],
     "language": "python",
     "metadata": {},
     "outputs": [
      {
       "html": [
        "<div style=\"max-height:1000px;max-width:1500px;overflow:auto;\">\n",
        "<table border=\"1\" class=\"dataframe\">\n",
        "  <thead>\n",
        "    <tr style=\"text-align: right;\">\n",
        "      <th></th>\n",
        "      <th>0</th>\n",
        "    </tr>\n",
        "  </thead>\n",
        "  <tbody>\n",
        "    <tr>\n",
        "      <th>0</th>\n",
        "      <td> \u5609\u5be6\u8cc7\u8a0a\u3000\u7248\u6b0a\u6240\u6709 \u00a9 2014 SysJust Co., LTD. All Rights ...</td>\n",
        "    </tr>\n",
        "  </tbody>\n",
        "</table>\n",
        "</div>"
       ],
       "metadata": {},
       "output_type": "pyout",
       "prompt_number": 41,
       "text": [
        "                                                   0\n",
        "0  \u5609\u5be6\u8cc7\u8a0a\u3000\u7248\u6b0a\u6240\u6709 \u00a9 2014 SysJust Co., LTD. All Rights ..."
       ]
      }
     ],
     "prompt_number": 41
    },
    {
     "cell_type": "code",
     "collapsed": false,
     "input": [
      "tables[3]"
     ],
     "language": "python",
     "metadata": {
      "slideshow": {
       "slide_type": "subslide"
      }
     },
     "outputs": [
      {
       "html": [
        "<div style=\"max-height:1000px;max-width:1500px;overflow:auto;\">\n",
        "<table border=\"1\" class=\"dataframe\">\n",
        "  <thead>\n",
        "    <tr style=\"text-align: right;\">\n",
        "      <th></th>\n",
        "      <th>0</th>\n",
        "      <th>1</th>\n",
        "    </tr>\n",
        "  </thead>\n",
        "  <tbody>\n",
        "    <tr>\n",
        "      <th>0</th>\n",
        "      <td> \u80a1\u7968\u4ee3\u865f/\u540d\u7a31  \uff0d\uff0d\u7576\u65e5\u500b\u80a1\u80a1\u50f9\uff0d\uff0d  \uff0d\uff0d\u7576\u65e5\u500b\u80a1\u8d70\u52e2\uff0d\uff0d  \uff0d\uff0d\u500b\u80a1\u6210\u4ea4\u660e\u7d30\uff0d\uff0d  \uff0d...</td>\n",
        "      <td> \u80a1\u7968\u4ee3\u865f/\u540d\u7a31  \uff0d\uff0d\u7576\u65e5\u500b\u80a1\u80a1\u50f9\uff0d\uff0d  \uff0d\uff0d\u7576\u65e5\u500b\u80a1\u8d70\u52e2\uff0d\uff0d  \uff0d\uff0d\u500b\u80a1\u6210\u4ea4\u660e\u7d30\uff0d\uff0d  \uff0d...</td>\n",
        "    </tr>\n",
        "    <tr>\n",
        "      <th>1</th>\n",
        "      <td> \u80a1\u7968\u4ee3\u865f/\u540d\u7a31  \uff0d\uff0d\u7576\u65e5\u500b\u80a1\u80a1\u50f9\uff0d\uff0d  \uff0d\uff0d\u7576\u65e5\u500b\u80a1\u8d70\u52e2\uff0d\uff0d  \uff0d\uff0d\u500b\u80a1\u6210\u4ea4\u660e\u7d30\uff0d\uff0d  \uff0d...</td>\n",
        "      <td>                                              None</td>\n",
        "    </tr>\n",
        "  </tbody>\n",
        "</table>\n",
        "</div>"
       ],
       "metadata": {},
       "output_type": "pyout",
       "prompt_number": 42,
       "text": [
        "                                                   0  \\\n",
        "0  \u80a1\u7968\u4ee3\u865f/\u540d\u7a31  \uff0d\uff0d\u7576\u65e5\u500b\u80a1\u80a1\u50f9\uff0d\uff0d  \uff0d\uff0d\u7576\u65e5\u500b\u80a1\u8d70\u52e2\uff0d\uff0d  \uff0d\uff0d\u500b\u80a1\u6210\u4ea4\u660e\u7d30\uff0d\uff0d  \uff0d...   \n",
        "1  \u80a1\u7968\u4ee3\u865f/\u540d\u7a31  \uff0d\uff0d\u7576\u65e5\u500b\u80a1\u80a1\u50f9\uff0d\uff0d  \uff0d\uff0d\u7576\u65e5\u500b\u80a1\u8d70\u52e2\uff0d\uff0d  \uff0d\uff0d\u500b\u80a1\u6210\u4ea4\u660e\u7d30\uff0d\uff0d  \uff0d...   \n",
        "\n",
        "                                                   1  \n",
        "0  \u80a1\u7968\u4ee3\u865f/\u540d\u7a31  \uff0d\uff0d\u7576\u65e5\u500b\u80a1\u80a1\u50f9\uff0d\uff0d  \uff0d\uff0d\u7576\u65e5\u500b\u80a1\u8d70\u52e2\uff0d\uff0d  \uff0d\uff0d\u500b\u80a1\u6210\u4ea4\u660e\u7d30\uff0d\uff0d  \uff0d...  \n",
        "1                                               None  "
       ]
      }
     ],
     "prompt_number": 42
    },
    {
     "cell_type": "code",
     "collapsed": false,
     "input": [
      "tables[7]"
     ],
     "language": "python",
     "metadata": {},
     "outputs": [
      {
       "html": [
        "<div style=\"max-height:1000px;max-width:1500px;overflow:auto;\">\n",
        "<table border=\"1\" class=\"dataframe\">\n",
        "  <thead>\n",
        "    <tr style=\"text-align: right;\">\n",
        "      <th></th>\n",
        "      <th>0</th>\n",
        "    </tr>\n",
        "  </thead>\n",
        "  <tbody>\n",
        "    <tr>\n",
        "      <th>0</th>\n",
        "      <td> \u80a1\u7968\u4ee3\u865f/\u540d\u7a31  \uff0d\uff0d\u7576\u65e5\u500b\u80a1\u80a1\u50f9\uff0d\uff0d  \uff0d\uff0d\u7576\u65e5\u500b\u80a1\u8d70\u52e2\uff0d\uff0d  \uff0d\uff0d\u500b\u80a1\u6210\u4ea4\u660e\u7d30\uff0d\uff0d  \uff0d...</td>\n",
        "    </tr>\n",
        "  </tbody>\n",
        "</table>\n",
        "</div>"
       ],
       "metadata": {},
       "output_type": "pyout",
       "prompt_number": 43,
       "text": [
        "                                                   0\n",
        "0  \u80a1\u7968\u4ee3\u865f/\u540d\u7a31  \uff0d\uff0d\u7576\u65e5\u500b\u80a1\u80a1\u50f9\uff0d\uff0d  \uff0d\uff0d\u7576\u65e5\u500b\u80a1\u8d70\u52e2\uff0d\uff0d  \uff0d\uff0d\u500b\u80a1\u6210\u4ea4\u660e\u7d30\uff0d\uff0d  \uff0d..."
       ]
      }
     ],
     "prompt_number": 43
    },
    {
     "cell_type": "code",
     "collapsed": false,
     "input": [
      "data_table = [one_table for one_table in tables if one_table.values.shape==(16,8)][0]\n",
      "data_table"
     ],
     "language": "python",
     "metadata": {
      "slideshow": {
       "slide_type": "subslide"
      }
     },
     "outputs": [
      {
       "html": [
        "<div style=\"max-height:1000px;max-width:1500px;overflow:auto;\">\n",
        "<table border=\"1\" class=\"dataframe\">\n",
        "  <thead>\n",
        "    <tr style=\"text-align: right;\">\n",
        "      <th></th>\n",
        "      <th>0</th>\n",
        "      <th>1</th>\n",
        "      <th>2</th>\n",
        "      <th>3</th>\n",
        "      <th>4</th>\n",
        "      <th>5</th>\n",
        "      <th>6</th>\n",
        "      <th>7</th>\n",
        "    </tr>\n",
        "  </thead>\n",
        "  <tbody>\n",
        "    <tr>\n",
        "      <th>0 </th>\n",
        "      <td>  \u8cb7\u8d85\u5238\u5546</td>\n",
        "      <td>   NaN</td>\n",
        "      <td>  NaN</td>\n",
        "      <td>  NaN</td>\n",
        "      <td>  \u8ce3\u8d85\u5238\u5546</td>\n",
        "      <td>  NaN</td>\n",
        "      <td>  NaN</td>\n",
        "      <td>  NaN</td>\n",
        "    </tr>\n",
        "    <tr>\n",
        "      <th>1 </th>\n",
        "      <td>  \u82b1\u65d7\u74b0\u7403</td>\n",
        "      <td> 11180</td>\n",
        "      <td> 1838</td>\n",
        "      <td> 9342</td>\n",
        "      <td> \u6e2f\u5546\u9ea5\u683c\u91cc</td>\n",
        "      <td> 4174</td>\n",
        "      <td> 9237</td>\n",
        "      <td>-5063</td>\n",
        "    </tr>\n",
        "    <tr>\n",
        "      <th>2 </th>\n",
        "      <td>  \u51f1\u57fa\u8b49\u5238</td>\n",
        "      <td> 10825</td>\n",
        "      <td> 4279</td>\n",
        "      <td> 6546</td>\n",
        "      <td>  \u5bcc\u90a6\u8b49\u5238</td>\n",
        "      <td>  595</td>\n",
        "      <td> 3723</td>\n",
        "      <td>-3128</td>\n",
        "    </tr>\n",
        "    <tr>\n",
        "      <th>3 </th>\n",
        "      <td> \u6e2f\u5546\u5fb7\u610f\u5fd7</td>\n",
        "      <td>  6763</td>\n",
        "      <td>  653</td>\n",
        "      <td> 6110</td>\n",
        "      <td>    \u5143\u5bcc</td>\n",
        "      <td>  201</td>\n",
        "      <td> 2021</td>\n",
        "      <td>-1820</td>\n",
        "    </tr>\n",
        "    <tr>\n",
        "      <th>4 </th>\n",
        "      <td>  \u7f8e\u5546\u9ad8\u76db</td>\n",
        "      <td>  3031</td>\n",
        "      <td>  946</td>\n",
        "      <td> 2085</td>\n",
        "      <td>    \u7d71\u4e00</td>\n",
        "      <td>  218</td>\n",
        "      <td> 1629</td>\n",
        "      <td>-1411</td>\n",
        "    </tr>\n",
        "    <tr>\n",
        "      <th>5 </th>\n",
        "      <td> \u65b0\u52a0\u5761\u5546\u745e</td>\n",
        "      <td>  2250</td>\n",
        "      <td>  241</td>\n",
        "      <td> 2009</td>\n",
        "      <td>  \u7fa4\u76ca\u91d1\u9f0e</td>\n",
        "      <td>  512</td>\n",
        "      <td> 1846</td>\n",
        "      <td>-1334</td>\n",
        "    </tr>\n",
        "    <tr>\n",
        "      <th>6 </th>\n",
        "      <td>  \u5927\u548c\u570b\u6cf0</td>\n",
        "      <td>   620</td>\n",
        "      <td>  118</td>\n",
        "      <td>  502</td>\n",
        "      <td>  \u6469\u6839\u5927\u901a</td>\n",
        "      <td>    0</td>\n",
        "      <td> 1149</td>\n",
        "      <td>-1149</td>\n",
        "    </tr>\n",
        "    <tr>\n",
        "      <th>7 </th>\n",
        "      <td> \u53f0\u7063\u6469\u6839\u58eb</td>\n",
        "      <td>  1532</td>\n",
        "      <td> 1097</td>\n",
        "      <td>  435</td>\n",
        "      <td>  \u65e5\u76db\u8b49\u5238</td>\n",
        "      <td>  261</td>\n",
        "      <td> 1344</td>\n",
        "      <td>-1083</td>\n",
        "    </tr>\n",
        "    <tr>\n",
        "      <th>8 </th>\n",
        "      <td> \u9999\u6e2f\u4e0a\u6d77\u532f</td>\n",
        "      <td>   408</td>\n",
        "      <td>   35</td>\n",
        "      <td>  373</td>\n",
        "      <td> \u6c38\u8c50\u91d1\u8b49\u5238</td>\n",
        "      <td>  827</td>\n",
        "      <td> 1705</td>\n",
        "      <td> -878</td>\n",
        "    </tr>\n",
        "    <tr>\n",
        "      <th>9 </th>\n",
        "      <td>  \u5143\u5927\u5bf6\u4f86</td>\n",
        "      <td>  4426</td>\n",
        "      <td> 4101</td>\n",
        "      <td>  325</td>\n",
        "      <td>    \u4e9e\u6771</td>\n",
        "      <td>   26</td>\n",
        "      <td>  513</td>\n",
        "      <td> -487</td>\n",
        "    </tr>\n",
        "    <tr>\n",
        "      <th>10</th>\n",
        "      <td>    \u7f8e\u6797</td>\n",
        "      <td>  1392</td>\n",
        "      <td> 1177</td>\n",
        "      <td>  215</td>\n",
        "      <td>  \u83ef\u5357\u6c38\u660c</td>\n",
        "      <td>  286</td>\n",
        "      <td>  743</td>\n",
        "      <td> -457</td>\n",
        "    </tr>\n",
        "    <tr>\n",
        "      <th>11</th>\n",
        "      <td>  \u5eb7\u548c\u8b49\u5238</td>\n",
        "      <td>   443</td>\n",
        "      <td>  283</td>\n",
        "      <td>  160</td>\n",
        "      <td>  \u5146\u8c50\u8b49\u5238</td>\n",
        "      <td>  225</td>\n",
        "      <td>  639</td>\n",
        "      <td> -414</td>\n",
        "    </tr>\n",
        "    <tr>\n",
        "      <th>12</th>\n",
        "      <td> \u53f0\u7063\u5df4\u514b\u840a</td>\n",
        "      <td>    39</td>\n",
        "      <td>    0</td>\n",
        "      <td>   39</td>\n",
        "      <td> \u6e2f\u5546\u6cd5\u570b\u8208</td>\n",
        "      <td>   34</td>\n",
        "      <td>  384</td>\n",
        "      <td> -350</td>\n",
        "    </tr>\n",
        "    <tr>\n",
        "      <th>13</th>\n",
        "      <td>    \u842c\u901a</td>\n",
        "      <td>    31</td>\n",
        "      <td>    0</td>\n",
        "      <td>   31</td>\n",
        "      <td>   \u7b2c\u4e00\u91d1</td>\n",
        "      <td>  235</td>\n",
        "      <td>  537</td>\n",
        "      <td> -302</td>\n",
        "    </tr>\n",
        "    <tr>\n",
        "      <th>14</th>\n",
        "      <td>  \u745e\u58eb\u4fe1\u8cb8</td>\n",
        "      <td>  2886</td>\n",
        "      <td> 2855</td>\n",
        "      <td>   31</td>\n",
        "      <td>    \u81fa\u9280</td>\n",
        "      <td>  323</td>\n",
        "      <td>  617</td>\n",
        "      <td> -294</td>\n",
        "    </tr>\n",
        "    <tr>\n",
        "      <th>15</th>\n",
        "      <td>    \u6c38\u8208</td>\n",
        "      <td>    53</td>\n",
        "      <td>   24</td>\n",
        "      <td>   29</td>\n",
        "      <td> \u53f0\u7063\u6771\u65b9\u532f</td>\n",
        "      <td>  281</td>\n",
        "      <td>  553</td>\n",
        "      <td> -272</td>\n",
        "    </tr>\n",
        "  </tbody>\n",
        "</table>\n",
        "</div>"
       ],
       "metadata": {},
       "output_type": "pyout",
       "prompt_number": 44,
       "text": [
        "        0      1     2     3      4     5     6     7\n",
        "0    \u8cb7\u8d85\u5238\u5546    NaN   NaN   NaN   \u8ce3\u8d85\u5238\u5546   NaN   NaN   NaN\n",
        "1    \u82b1\u65d7\u74b0\u7403  11180  1838  9342  \u6e2f\u5546\u9ea5\u683c\u91cc  4174  9237 -5063\n",
        "2    \u51f1\u57fa\u8b49\u5238  10825  4279  6546   \u5bcc\u90a6\u8b49\u5238   595  3723 -3128\n",
        "3   \u6e2f\u5546\u5fb7\u610f\u5fd7   6763   653  6110     \u5143\u5bcc   201  2021 -1820\n",
        "4    \u7f8e\u5546\u9ad8\u76db   3031   946  2085     \u7d71\u4e00   218  1629 -1411\n",
        "5   \u65b0\u52a0\u5761\u5546\u745e   2250   241  2009   \u7fa4\u76ca\u91d1\u9f0e   512  1846 -1334\n",
        "6    \u5927\u548c\u570b\u6cf0    620   118   502   \u6469\u6839\u5927\u901a     0  1149 -1149\n",
        "7   \u53f0\u7063\u6469\u6839\u58eb   1532  1097   435   \u65e5\u76db\u8b49\u5238   261  1344 -1083\n",
        "8   \u9999\u6e2f\u4e0a\u6d77\u532f    408    35   373  \u6c38\u8c50\u91d1\u8b49\u5238   827  1705  -878\n",
        "9    \u5143\u5927\u5bf6\u4f86   4426  4101   325     \u4e9e\u6771    26   513  -487\n",
        "10     \u7f8e\u6797   1392  1177   215   \u83ef\u5357\u6c38\u660c   286   743  -457\n",
        "11   \u5eb7\u548c\u8b49\u5238    443   283   160   \u5146\u8c50\u8b49\u5238   225   639  -414\n",
        "12  \u53f0\u7063\u5df4\u514b\u840a     39     0    39  \u6e2f\u5546\u6cd5\u570b\u8208    34   384  -350\n",
        "13     \u842c\u901a     31     0    31    \u7b2c\u4e00\u91d1   235   537  -302\n",
        "14   \u745e\u58eb\u4fe1\u8cb8   2886  2855    31     \u81fa\u9280   323   617  -294\n",
        "15     \u6c38\u8208     53    24    29  \u53f0\u7063\u6771\u65b9\u532f   281   553  -272"
       ]
      }
     ],
     "prompt_number": 44
    },
    {
     "cell_type": "code",
     "collapsed": false,
     "input": [
      "date_table = [one_table for one_table in tables if one_table.values.shape==(1,3)][0]\n",
      "date_table"
     ],
     "language": "python",
     "metadata": {},
     "outputs": [
      {
       "html": [
        "<div style=\"max-height:1000px;max-width:1500px;overflow:auto;\">\n",
        "<table border=\"1\" class=\"dataframe\">\n",
        "  <thead>\n",
        "    <tr style=\"text-align: right;\">\n",
        "      <th></th>\n",
        "      <th>0</th>\n",
        "      <th>1</th>\n",
        "      <th>2</th>\n",
        "    </tr>\n",
        "  </thead>\n",
        "  <tbody>\n",
        "    <tr>\n",
        "      <th>0</th>\n",
        "      <td> \u8cc7\u6599\u65e5\u671f\uff1a103 /01 /17</td>\n",
        "      <td> \u500b \u80a1 \u7576 \u65e5 \u4e3b \u529b \u9032 \u51fa</td>\n",
        "      <td> \u55ae\u4f4d\uff1a\u5f35\u6578</td>\n",
        "    </tr>\n",
        "  </tbody>\n",
        "</table>\n",
        "</div>"
       ],
       "metadata": {},
       "output_type": "pyout",
       "prompt_number": 45,
       "text": [
        "                  0                1      2\n",
        "0  \u8cc7\u6599\u65e5\u671f\uff1a103 /01 /17  \u500b \u80a1 \u7576 \u65e5 \u4e3b \u529b \u9032 \u51fa  \u55ae\u4f4d\uff1a\u5f35\u6578"
       ]
      }
     ],
     "prompt_number": 45
    },
    {
     "cell_type": "code",
     "collapsed": false,
     "input": [
      "date_table[0].values.tolist()[0]"
     ],
     "language": "python",
     "metadata": {},
     "outputs": [
      {
       "metadata": {},
       "output_type": "pyout",
       "prompt_number": 53,
       "text": [
        "u'\\u8cc7\\u6599\\u65e5\\u671f\\uff1a103 /01 /17'"
       ]
      }
     ],
     "prompt_number": 53
    },
    {
     "cell_type": "code",
     "collapsed": false,
     "input": [
      "import datetime\n",
      "date_tuple = map(int,date_table[0].values.tolist()[0].split(u\"\uff1a\")[-1].split(\"/\"))\n",
      "print \"date_tuple = \",date_tuple\n",
      "date_tuple[0] = date_tuple[0] + 1911\n",
      "print \"date_tuple = \",date_tuple\n",
      "import datetime\n",
      "date_obj = datetime.date(*date_tuple)\n",
      "print \"date_obj = \",date_obj\n",
      "print date_obj.strftime(\"%Y-%m-%d\")\n",
      "date_str = date_obj.strftime(\"%Y-%m-%d\")"
     ],
     "language": "python",
     "metadata": {
      "slideshow": {
       "slide_type": "subslide"
      }
     },
     "outputs": [
      {
       "output_type": "stream",
       "stream": "stdout",
       "text": [
        "date_tuple =  [103, 1, 17]\n",
        "date_tuple =  [2014, 1, 17]\n",
        "date_obj =  2014-01-17\n",
        "2014-01-17\n"
       ]
      }
     ],
     "prompt_number": 46
    },
    {
     "cell_type": "code",
     "collapsed": false,
     "input": [
      "pre_df = np.r_[ data_table.values[1:,0:4], data_table.values[1:,4:]]\n",
      "print pre_df"
     ],
     "language": "python",
     "metadata": {
      "slideshow": {
       "slide_type": "subslide"
      }
     },
     "outputs": [
      {
       "output_type": "stream",
       "stream": "stdout",
       "text": [
        "[[u'\\u82b1\\u65d7\\u74b0\\u7403' 11180.0 1838.0 9342.0]\n",
        " [u'\\u51f1\\u57fa\\u8b49\\u5238' 10825.0 4279.0 6546.0]\n",
        " [u'\\u6e2f\\u5546\\u5fb7\\u610f\\u5fd7' 6763.0 653.0 6110.0]\n",
        " [u'\\u7f8e\\u5546\\u9ad8\\u76db' 3031.0 946.0 2085.0]\n",
        " [u'\\u65b0\\u52a0\\u5761\\u5546\\u745e' 2250.0 241.0 2009.0]\n",
        " [u'\\u5927\\u548c\\u570b\\u6cf0' 620.0 118.0 502.0]\n",
        " [u'\\u53f0\\u7063\\u6469\\u6839\\u58eb' 1532.0 1097.0 435.0]\n",
        " [u'\\u9999\\u6e2f\\u4e0a\\u6d77\\u532f' 408.0 35.0 373.0]\n",
        " [u'\\u5143\\u5927\\u5bf6\\u4f86' 4426.0 4101.0 325.0]\n",
        " [u'\\u7f8e\\u6797' 1392.0 1177.0 215.0]\n",
        " [u'\\u5eb7\\u548c\\u8b49\\u5238' 443.0 283.0 160.0]\n",
        " [u'\\u53f0\\u7063\\u5df4\\u514b\\u840a' 39.0 0.0 39.0]\n",
        " [u'\\u842c\\u901a' 31.0 0.0 31.0]\n",
        " [u'\\u745e\\u58eb\\u4fe1\\u8cb8' 2886.0 2855.0 31.0]\n",
        " [u'\\u6c38\\u8208' 53.0 24.0 29.0]\n",
        " [u'\\u6e2f\\u5546\\u9ea5\\u683c\\u91cc' 4174.0 9237.0 -5063.0]\n",
        " [u'\\u5bcc\\u90a6\\u8b49\\u5238' 595.0 3723.0 -3128.0]\n",
        " [u'\\u5143\\u5bcc' 201.0 2021.0 -1820.0]\n",
        " [u'\\u7d71\\u4e00' 218.0 1629.0 -1411.0]\n",
        " [u'\\u7fa4\\u76ca\\u91d1\\u9f0e' 512.0 1846.0 -1334.0]\n",
        " [u'\\u6469\\u6839\\u5927\\u901a' 0.0 1149.0 -1149.0]\n",
        " [u'\\u65e5\\u76db\\u8b49\\u5238' 261.0 1344.0 -1083.0]\n",
        " [u'\\u6c38\\u8c50\\u91d1\\u8b49\\u5238' 827.0 1705.0 -878.0]\n",
        " [u'\\u4e9e\\u6771' 26.0 513.0 -487.0]\n",
        " [u'\\u83ef\\u5357\\u6c38\\u660c' 286.0 743.0 -457.0]\n",
        " [u'\\u5146\\u8c50\\u8b49\\u5238' 225.0 639.0 -414.0]\n",
        " [u'\\u6e2f\\u5546\\u6cd5\\u570b\\u8208' 34.0 384.0 -350.0]\n",
        " [u'\\u7b2c\\u4e00\\u91d1' 235.0 537.0 -302.0]\n",
        " [u'\\u81fa\\u9280' 323.0 617.0 -294.0]\n",
        " [u'\\u53f0\\u7063\\u6771\\u65b9\\u532f' 281.0 553.0 -272.0]]\n"
       ]
      }
     ],
     "prompt_number": 47
    },
    {
     "cell_type": "code",
     "collapsed": false,
     "input": [
      "df = pd.DataFrame(pre_df)\n",
      "df.columns = [\"Name\",\"Buy\",\"Sell\",\"Net\"]\n",
      "df"
     ],
     "language": "python",
     "metadata": {
      "slideshow": {
       "slide_type": "subslide"
      }
     },
     "outputs": [
      {
       "html": [
        "<div style=\"max-height:1000px;max-width:1500px;overflow:auto;\">\n",
        "<table border=\"1\" class=\"dataframe\">\n",
        "  <thead>\n",
        "    <tr style=\"text-align: right;\">\n",
        "      <th></th>\n",
        "      <th>Name</th>\n",
        "      <th>Buy</th>\n",
        "      <th>Sell</th>\n",
        "      <th>Net</th>\n",
        "    </tr>\n",
        "  </thead>\n",
        "  <tbody>\n",
        "    <tr>\n",
        "      <th>0 </th>\n",
        "      <td>  \u82b1\u65d7\u74b0\u7403</td>\n",
        "      <td> 11180</td>\n",
        "      <td> 1838</td>\n",
        "      <td> 9342</td>\n",
        "    </tr>\n",
        "    <tr>\n",
        "      <th>1 </th>\n",
        "      <td>  \u51f1\u57fa\u8b49\u5238</td>\n",
        "      <td> 10825</td>\n",
        "      <td> 4279</td>\n",
        "      <td> 6546</td>\n",
        "    </tr>\n",
        "    <tr>\n",
        "      <th>2 </th>\n",
        "      <td> \u6e2f\u5546\u5fb7\u610f\u5fd7</td>\n",
        "      <td>  6763</td>\n",
        "      <td>  653</td>\n",
        "      <td> 6110</td>\n",
        "    </tr>\n",
        "    <tr>\n",
        "      <th>3 </th>\n",
        "      <td>  \u7f8e\u5546\u9ad8\u76db</td>\n",
        "      <td>  3031</td>\n",
        "      <td>  946</td>\n",
        "      <td> 2085</td>\n",
        "    </tr>\n",
        "    <tr>\n",
        "      <th>4 </th>\n",
        "      <td> \u65b0\u52a0\u5761\u5546\u745e</td>\n",
        "      <td>  2250</td>\n",
        "      <td>  241</td>\n",
        "      <td> 2009</td>\n",
        "    </tr>\n",
        "    <tr>\n",
        "      <th>5 </th>\n",
        "      <td>  \u5927\u548c\u570b\u6cf0</td>\n",
        "      <td>   620</td>\n",
        "      <td>  118</td>\n",
        "      <td>  502</td>\n",
        "    </tr>\n",
        "    <tr>\n",
        "      <th>6 </th>\n",
        "      <td> \u53f0\u7063\u6469\u6839\u58eb</td>\n",
        "      <td>  1532</td>\n",
        "      <td> 1097</td>\n",
        "      <td>  435</td>\n",
        "    </tr>\n",
        "    <tr>\n",
        "      <th>7 </th>\n",
        "      <td> \u9999\u6e2f\u4e0a\u6d77\u532f</td>\n",
        "      <td>   408</td>\n",
        "      <td>   35</td>\n",
        "      <td>  373</td>\n",
        "    </tr>\n",
        "    <tr>\n",
        "      <th>8 </th>\n",
        "      <td>  \u5143\u5927\u5bf6\u4f86</td>\n",
        "      <td>  4426</td>\n",
        "      <td> 4101</td>\n",
        "      <td>  325</td>\n",
        "    </tr>\n",
        "    <tr>\n",
        "      <th>9 </th>\n",
        "      <td>    \u7f8e\u6797</td>\n",
        "      <td>  1392</td>\n",
        "      <td> 1177</td>\n",
        "      <td>  215</td>\n",
        "    </tr>\n",
        "    <tr>\n",
        "      <th>10</th>\n",
        "      <td>  \u5eb7\u548c\u8b49\u5238</td>\n",
        "      <td>   443</td>\n",
        "      <td>  283</td>\n",
        "      <td>  160</td>\n",
        "    </tr>\n",
        "    <tr>\n",
        "      <th>11</th>\n",
        "      <td> \u53f0\u7063\u5df4\u514b\u840a</td>\n",
        "      <td>    39</td>\n",
        "      <td>    0</td>\n",
        "      <td>   39</td>\n",
        "    </tr>\n",
        "    <tr>\n",
        "      <th>12</th>\n",
        "      <td>    \u842c\u901a</td>\n",
        "      <td>    31</td>\n",
        "      <td>    0</td>\n",
        "      <td>   31</td>\n",
        "    </tr>\n",
        "    <tr>\n",
        "      <th>13</th>\n",
        "      <td>  \u745e\u58eb\u4fe1\u8cb8</td>\n",
        "      <td>  2886</td>\n",
        "      <td> 2855</td>\n",
        "      <td>   31</td>\n",
        "    </tr>\n",
        "    <tr>\n",
        "      <th>14</th>\n",
        "      <td>    \u6c38\u8208</td>\n",
        "      <td>    53</td>\n",
        "      <td>   24</td>\n",
        "      <td>   29</td>\n",
        "    </tr>\n",
        "    <tr>\n",
        "      <th>15</th>\n",
        "      <td> \u6e2f\u5546\u9ea5\u683c\u91cc</td>\n",
        "      <td>  4174</td>\n",
        "      <td> 9237</td>\n",
        "      <td>-5063</td>\n",
        "    </tr>\n",
        "    <tr>\n",
        "      <th>16</th>\n",
        "      <td>  \u5bcc\u90a6\u8b49\u5238</td>\n",
        "      <td>   595</td>\n",
        "      <td> 3723</td>\n",
        "      <td>-3128</td>\n",
        "    </tr>\n",
        "    <tr>\n",
        "      <th>17</th>\n",
        "      <td>    \u5143\u5bcc</td>\n",
        "      <td>   201</td>\n",
        "      <td> 2021</td>\n",
        "      <td>-1820</td>\n",
        "    </tr>\n",
        "    <tr>\n",
        "      <th>18</th>\n",
        "      <td>    \u7d71\u4e00</td>\n",
        "      <td>   218</td>\n",
        "      <td> 1629</td>\n",
        "      <td>-1411</td>\n",
        "    </tr>\n",
        "    <tr>\n",
        "      <th>19</th>\n",
        "      <td>  \u7fa4\u76ca\u91d1\u9f0e</td>\n",
        "      <td>   512</td>\n",
        "      <td> 1846</td>\n",
        "      <td>-1334</td>\n",
        "    </tr>\n",
        "    <tr>\n",
        "      <th>20</th>\n",
        "      <td>  \u6469\u6839\u5927\u901a</td>\n",
        "      <td>     0</td>\n",
        "      <td> 1149</td>\n",
        "      <td>-1149</td>\n",
        "    </tr>\n",
        "    <tr>\n",
        "      <th>21</th>\n",
        "      <td>  \u65e5\u76db\u8b49\u5238</td>\n",
        "      <td>   261</td>\n",
        "      <td> 1344</td>\n",
        "      <td>-1083</td>\n",
        "    </tr>\n",
        "    <tr>\n",
        "      <th>22</th>\n",
        "      <td> \u6c38\u8c50\u91d1\u8b49\u5238</td>\n",
        "      <td>   827</td>\n",
        "      <td> 1705</td>\n",
        "      <td> -878</td>\n",
        "    </tr>\n",
        "    <tr>\n",
        "      <th>23</th>\n",
        "      <td>    \u4e9e\u6771</td>\n",
        "      <td>    26</td>\n",
        "      <td>  513</td>\n",
        "      <td> -487</td>\n",
        "    </tr>\n",
        "    <tr>\n",
        "      <th>24</th>\n",
        "      <td>  \u83ef\u5357\u6c38\u660c</td>\n",
        "      <td>   286</td>\n",
        "      <td>  743</td>\n",
        "      <td> -457</td>\n",
        "    </tr>\n",
        "    <tr>\n",
        "      <th>25</th>\n",
        "      <td>  \u5146\u8c50\u8b49\u5238</td>\n",
        "      <td>   225</td>\n",
        "      <td>  639</td>\n",
        "      <td> -414</td>\n",
        "    </tr>\n",
        "    <tr>\n",
        "      <th>26</th>\n",
        "      <td> \u6e2f\u5546\u6cd5\u570b\u8208</td>\n",
        "      <td>    34</td>\n",
        "      <td>  384</td>\n",
        "      <td> -350</td>\n",
        "    </tr>\n",
        "    <tr>\n",
        "      <th>27</th>\n",
        "      <td>   \u7b2c\u4e00\u91d1</td>\n",
        "      <td>   235</td>\n",
        "      <td>  537</td>\n",
        "      <td> -302</td>\n",
        "    </tr>\n",
        "    <tr>\n",
        "      <th>28</th>\n",
        "      <td>    \u81fa\u9280</td>\n",
        "      <td>   323</td>\n",
        "      <td>  617</td>\n",
        "      <td> -294</td>\n",
        "    </tr>\n",
        "    <tr>\n",
        "      <th>29</th>\n",
        "      <td> \u53f0\u7063\u6771\u65b9\u532f</td>\n",
        "      <td>   281</td>\n",
        "      <td>  553</td>\n",
        "      <td> -272</td>\n",
        "    </tr>\n",
        "  </tbody>\n",
        "</table>\n",
        "</div>"
       ],
       "metadata": {},
       "output_type": "pyout",
       "prompt_number": 61,
       "text": [
        "     Name    Buy  Sell   Net\n",
        "0    \u82b1\u65d7\u74b0\u7403  11180  1838  9342\n",
        "1    \u51f1\u57fa\u8b49\u5238  10825  4279  6546\n",
        "2   \u6e2f\u5546\u5fb7\u610f\u5fd7   6763   653  6110\n",
        "3    \u7f8e\u5546\u9ad8\u76db   3031   946  2085\n",
        "4   \u65b0\u52a0\u5761\u5546\u745e   2250   241  2009\n",
        "5    \u5927\u548c\u570b\u6cf0    620   118   502\n",
        "6   \u53f0\u7063\u6469\u6839\u58eb   1532  1097   435\n",
        "7   \u9999\u6e2f\u4e0a\u6d77\u532f    408    35   373\n",
        "8    \u5143\u5927\u5bf6\u4f86   4426  4101   325\n",
        "9      \u7f8e\u6797   1392  1177   215\n",
        "10   \u5eb7\u548c\u8b49\u5238    443   283   160\n",
        "11  \u53f0\u7063\u5df4\u514b\u840a     39     0    39\n",
        "12     \u842c\u901a     31     0    31\n",
        "13   \u745e\u58eb\u4fe1\u8cb8   2886  2855    31\n",
        "14     \u6c38\u8208     53    24    29\n",
        "15  \u6e2f\u5546\u9ea5\u683c\u91cc   4174  9237 -5063\n",
        "16   \u5bcc\u90a6\u8b49\u5238    595  3723 -3128\n",
        "17     \u5143\u5bcc    201  2021 -1820\n",
        "18     \u7d71\u4e00    218  1629 -1411\n",
        "19   \u7fa4\u76ca\u91d1\u9f0e    512  1846 -1334\n",
        "20   \u6469\u6839\u5927\u901a      0  1149 -1149\n",
        "21   \u65e5\u76db\u8b49\u5238    261  1344 -1083\n",
        "22  \u6c38\u8c50\u91d1\u8b49\u5238    827  1705  -878\n",
        "23     \u4e9e\u6771     26   513  -487\n",
        "24   \u83ef\u5357\u6c38\u660c    286   743  -457\n",
        "25   \u5146\u8c50\u8b49\u5238    225   639  -414\n",
        "26  \u6e2f\u5546\u6cd5\u570b\u8208     34   384  -350\n",
        "27    \u7b2c\u4e00\u91d1    235   537  -302\n",
        "28     \u81fa\u9280    323   617  -294\n",
        "29  \u53f0\u7063\u6771\u65b9\u532f    281   553  -272"
       ]
      }
     ],
     "prompt_number": 61
    },
    {
     "cell_type": "code",
     "collapsed": false,
     "input": [
      "df[\"Date\"] = df[\"Name\"].map(lambda xx: date_obj)\n",
      "df[\"Stock_id\"] = df[\"Name\"].map(lambda xx: stock_id)\n",
      "df = df.reindex(columns=[\"Date\",\"Stock_id\",\"Name\",\"Buy\",\"Sell\",\"Net\"])\n",
      "df"
     ],
     "language": "python",
     "metadata": {
      "slideshow": {
       "slide_type": "subslide"
      }
     },
     "outputs": [
      {
       "html": [
        "<div style=\"max-height:1000px;max-width:1500px;overflow:auto;\">\n",
        "<table border=\"1\" class=\"dataframe\">\n",
        "  <thead>\n",
        "    <tr style=\"text-align: right;\">\n",
        "      <th></th>\n",
        "      <th>Date</th>\n",
        "      <th>Stock_id</th>\n",
        "      <th>Name</th>\n",
        "      <th>Buy</th>\n",
        "      <th>Sell</th>\n",
        "      <th>Net</th>\n",
        "    </tr>\n",
        "  </thead>\n",
        "  <tbody>\n",
        "    <tr>\n",
        "      <th>0 </th>\n",
        "      <td> 2014-01-17</td>\n",
        "      <td> 2330</td>\n",
        "      <td>  \u82b1\u65d7\u74b0\u7403</td>\n",
        "      <td> 11180</td>\n",
        "      <td> 1838</td>\n",
        "      <td> 9342</td>\n",
        "    </tr>\n",
        "    <tr>\n",
        "      <th>1 </th>\n",
        "      <td> 2014-01-17</td>\n",
        "      <td> 2330</td>\n",
        "      <td>  \u51f1\u57fa\u8b49\u5238</td>\n",
        "      <td> 10825</td>\n",
        "      <td> 4279</td>\n",
        "      <td> 6546</td>\n",
        "    </tr>\n",
        "    <tr>\n",
        "      <th>2 </th>\n",
        "      <td> 2014-01-17</td>\n",
        "      <td> 2330</td>\n",
        "      <td> \u6e2f\u5546\u5fb7\u610f\u5fd7</td>\n",
        "      <td>  6763</td>\n",
        "      <td>  653</td>\n",
        "      <td> 6110</td>\n",
        "    </tr>\n",
        "    <tr>\n",
        "      <th>3 </th>\n",
        "      <td> 2014-01-17</td>\n",
        "      <td> 2330</td>\n",
        "      <td>  \u7f8e\u5546\u9ad8\u76db</td>\n",
        "      <td>  3031</td>\n",
        "      <td>  946</td>\n",
        "      <td> 2085</td>\n",
        "    </tr>\n",
        "    <tr>\n",
        "      <th>4 </th>\n",
        "      <td> 2014-01-17</td>\n",
        "      <td> 2330</td>\n",
        "      <td> \u65b0\u52a0\u5761\u5546\u745e</td>\n",
        "      <td>  2250</td>\n",
        "      <td>  241</td>\n",
        "      <td> 2009</td>\n",
        "    </tr>\n",
        "    <tr>\n",
        "      <th>5 </th>\n",
        "      <td> 2014-01-17</td>\n",
        "      <td> 2330</td>\n",
        "      <td>  \u5927\u548c\u570b\u6cf0</td>\n",
        "      <td>   620</td>\n",
        "      <td>  118</td>\n",
        "      <td>  502</td>\n",
        "    </tr>\n",
        "    <tr>\n",
        "      <th>6 </th>\n",
        "      <td> 2014-01-17</td>\n",
        "      <td> 2330</td>\n",
        "      <td> \u53f0\u7063\u6469\u6839\u58eb</td>\n",
        "      <td>  1532</td>\n",
        "      <td> 1097</td>\n",
        "      <td>  435</td>\n",
        "    </tr>\n",
        "    <tr>\n",
        "      <th>7 </th>\n",
        "      <td> 2014-01-17</td>\n",
        "      <td> 2330</td>\n",
        "      <td> \u9999\u6e2f\u4e0a\u6d77\u532f</td>\n",
        "      <td>   408</td>\n",
        "      <td>   35</td>\n",
        "      <td>  373</td>\n",
        "    </tr>\n",
        "    <tr>\n",
        "      <th>8 </th>\n",
        "      <td> 2014-01-17</td>\n",
        "      <td> 2330</td>\n",
        "      <td>  \u5143\u5927\u5bf6\u4f86</td>\n",
        "      <td>  4426</td>\n",
        "      <td> 4101</td>\n",
        "      <td>  325</td>\n",
        "    </tr>\n",
        "    <tr>\n",
        "      <th>9 </th>\n",
        "      <td> 2014-01-17</td>\n",
        "      <td> 2330</td>\n",
        "      <td>    \u7f8e\u6797</td>\n",
        "      <td>  1392</td>\n",
        "      <td> 1177</td>\n",
        "      <td>  215</td>\n",
        "    </tr>\n",
        "    <tr>\n",
        "      <th>10</th>\n",
        "      <td> 2014-01-17</td>\n",
        "      <td> 2330</td>\n",
        "      <td>  \u5eb7\u548c\u8b49\u5238</td>\n",
        "      <td>   443</td>\n",
        "      <td>  283</td>\n",
        "      <td>  160</td>\n",
        "    </tr>\n",
        "    <tr>\n",
        "      <th>11</th>\n",
        "      <td> 2014-01-17</td>\n",
        "      <td> 2330</td>\n",
        "      <td> \u53f0\u7063\u5df4\u514b\u840a</td>\n",
        "      <td>    39</td>\n",
        "      <td>    0</td>\n",
        "      <td>   39</td>\n",
        "    </tr>\n",
        "    <tr>\n",
        "      <th>12</th>\n",
        "      <td> 2014-01-17</td>\n",
        "      <td> 2330</td>\n",
        "      <td>    \u842c\u901a</td>\n",
        "      <td>    31</td>\n",
        "      <td>    0</td>\n",
        "      <td>   31</td>\n",
        "    </tr>\n",
        "    <tr>\n",
        "      <th>13</th>\n",
        "      <td> 2014-01-17</td>\n",
        "      <td> 2330</td>\n",
        "      <td>  \u745e\u58eb\u4fe1\u8cb8</td>\n",
        "      <td>  2886</td>\n",
        "      <td> 2855</td>\n",
        "      <td>   31</td>\n",
        "    </tr>\n",
        "    <tr>\n",
        "      <th>14</th>\n",
        "      <td> 2014-01-17</td>\n",
        "      <td> 2330</td>\n",
        "      <td>    \u6c38\u8208</td>\n",
        "      <td>    53</td>\n",
        "      <td>   24</td>\n",
        "      <td>   29</td>\n",
        "    </tr>\n",
        "    <tr>\n",
        "      <th>15</th>\n",
        "      <td> 2014-01-17</td>\n",
        "      <td> 2330</td>\n",
        "      <td> \u6e2f\u5546\u9ea5\u683c\u91cc</td>\n",
        "      <td>  4174</td>\n",
        "      <td> 9237</td>\n",
        "      <td>-5063</td>\n",
        "    </tr>\n",
        "    <tr>\n",
        "      <th>16</th>\n",
        "      <td> 2014-01-17</td>\n",
        "      <td> 2330</td>\n",
        "      <td>  \u5bcc\u90a6\u8b49\u5238</td>\n",
        "      <td>   595</td>\n",
        "      <td> 3723</td>\n",
        "      <td>-3128</td>\n",
        "    </tr>\n",
        "    <tr>\n",
        "      <th>17</th>\n",
        "      <td> 2014-01-17</td>\n",
        "      <td> 2330</td>\n",
        "      <td>    \u5143\u5bcc</td>\n",
        "      <td>   201</td>\n",
        "      <td> 2021</td>\n",
        "      <td>-1820</td>\n",
        "    </tr>\n",
        "    <tr>\n",
        "      <th>18</th>\n",
        "      <td> 2014-01-17</td>\n",
        "      <td> 2330</td>\n",
        "      <td>    \u7d71\u4e00</td>\n",
        "      <td>   218</td>\n",
        "      <td> 1629</td>\n",
        "      <td>-1411</td>\n",
        "    </tr>\n",
        "    <tr>\n",
        "      <th>19</th>\n",
        "      <td> 2014-01-17</td>\n",
        "      <td> 2330</td>\n",
        "      <td>  \u7fa4\u76ca\u91d1\u9f0e</td>\n",
        "      <td>   512</td>\n",
        "      <td> 1846</td>\n",
        "      <td>-1334</td>\n",
        "    </tr>\n",
        "    <tr>\n",
        "      <th>20</th>\n",
        "      <td> 2014-01-17</td>\n",
        "      <td> 2330</td>\n",
        "      <td>  \u6469\u6839\u5927\u901a</td>\n",
        "      <td>     0</td>\n",
        "      <td> 1149</td>\n",
        "      <td>-1149</td>\n",
        "    </tr>\n",
        "    <tr>\n",
        "      <th>21</th>\n",
        "      <td> 2014-01-17</td>\n",
        "      <td> 2330</td>\n",
        "      <td>  \u65e5\u76db\u8b49\u5238</td>\n",
        "      <td>   261</td>\n",
        "      <td> 1344</td>\n",
        "      <td>-1083</td>\n",
        "    </tr>\n",
        "    <tr>\n",
        "      <th>22</th>\n",
        "      <td> 2014-01-17</td>\n",
        "      <td> 2330</td>\n",
        "      <td> \u6c38\u8c50\u91d1\u8b49\u5238</td>\n",
        "      <td>   827</td>\n",
        "      <td> 1705</td>\n",
        "      <td> -878</td>\n",
        "    </tr>\n",
        "    <tr>\n",
        "      <th>23</th>\n",
        "      <td> 2014-01-17</td>\n",
        "      <td> 2330</td>\n",
        "      <td>    \u4e9e\u6771</td>\n",
        "      <td>    26</td>\n",
        "      <td>  513</td>\n",
        "      <td> -487</td>\n",
        "    </tr>\n",
        "    <tr>\n",
        "      <th>24</th>\n",
        "      <td> 2014-01-17</td>\n",
        "      <td> 2330</td>\n",
        "      <td>  \u83ef\u5357\u6c38\u660c</td>\n",
        "      <td>   286</td>\n",
        "      <td>  743</td>\n",
        "      <td> -457</td>\n",
        "    </tr>\n",
        "    <tr>\n",
        "      <th>25</th>\n",
        "      <td> 2014-01-17</td>\n",
        "      <td> 2330</td>\n",
        "      <td>  \u5146\u8c50\u8b49\u5238</td>\n",
        "      <td>   225</td>\n",
        "      <td>  639</td>\n",
        "      <td> -414</td>\n",
        "    </tr>\n",
        "    <tr>\n",
        "      <th>26</th>\n",
        "      <td> 2014-01-17</td>\n",
        "      <td> 2330</td>\n",
        "      <td> \u6e2f\u5546\u6cd5\u570b\u8208</td>\n",
        "      <td>    34</td>\n",
        "      <td>  384</td>\n",
        "      <td> -350</td>\n",
        "    </tr>\n",
        "    <tr>\n",
        "      <th>27</th>\n",
        "      <td> 2014-01-17</td>\n",
        "      <td> 2330</td>\n",
        "      <td>   \u7b2c\u4e00\u91d1</td>\n",
        "      <td>   235</td>\n",
        "      <td>  537</td>\n",
        "      <td> -302</td>\n",
        "    </tr>\n",
        "    <tr>\n",
        "      <th>28</th>\n",
        "      <td> 2014-01-17</td>\n",
        "      <td> 2330</td>\n",
        "      <td>    \u81fa\u9280</td>\n",
        "      <td>   323</td>\n",
        "      <td>  617</td>\n",
        "      <td> -294</td>\n",
        "    </tr>\n",
        "    <tr>\n",
        "      <th>29</th>\n",
        "      <td> 2014-01-17</td>\n",
        "      <td> 2330</td>\n",
        "      <td> \u53f0\u7063\u6771\u65b9\u532f</td>\n",
        "      <td>   281</td>\n",
        "      <td>  553</td>\n",
        "      <td> -272</td>\n",
        "    </tr>\n",
        "  </tbody>\n",
        "</table>\n",
        "</div>"
       ],
       "metadata": {},
       "output_type": "pyout",
       "prompt_number": 67,
       "text": [
        "          Date Stock_id   Name    Buy  Sell   Net\n",
        "0   2014-01-17     2330   \u82b1\u65d7\u74b0\u7403  11180  1838  9342\n",
        "1   2014-01-17     2330   \u51f1\u57fa\u8b49\u5238  10825  4279  6546\n",
        "2   2014-01-17     2330  \u6e2f\u5546\u5fb7\u610f\u5fd7   6763   653  6110\n",
        "3   2014-01-17     2330   \u7f8e\u5546\u9ad8\u76db   3031   946  2085\n",
        "4   2014-01-17     2330  \u65b0\u52a0\u5761\u5546\u745e   2250   241  2009\n",
        "5   2014-01-17     2330   \u5927\u548c\u570b\u6cf0    620   118   502\n",
        "6   2014-01-17     2330  \u53f0\u7063\u6469\u6839\u58eb   1532  1097   435\n",
        "7   2014-01-17     2330  \u9999\u6e2f\u4e0a\u6d77\u532f    408    35   373\n",
        "8   2014-01-17     2330   \u5143\u5927\u5bf6\u4f86   4426  4101   325\n",
        "9   2014-01-17     2330     \u7f8e\u6797   1392  1177   215\n",
        "10  2014-01-17     2330   \u5eb7\u548c\u8b49\u5238    443   283   160\n",
        "11  2014-01-17     2330  \u53f0\u7063\u5df4\u514b\u840a     39     0    39\n",
        "12  2014-01-17     2330     \u842c\u901a     31     0    31\n",
        "13  2014-01-17     2330   \u745e\u58eb\u4fe1\u8cb8   2886  2855    31\n",
        "14  2014-01-17     2330     \u6c38\u8208     53    24    29\n",
        "15  2014-01-17     2330  \u6e2f\u5546\u9ea5\u683c\u91cc   4174  9237 -5063\n",
        "16  2014-01-17     2330   \u5bcc\u90a6\u8b49\u5238    595  3723 -3128\n",
        "17  2014-01-17     2330     \u5143\u5bcc    201  2021 -1820\n",
        "18  2014-01-17     2330     \u7d71\u4e00    218  1629 -1411\n",
        "19  2014-01-17     2330   \u7fa4\u76ca\u91d1\u9f0e    512  1846 -1334\n",
        "20  2014-01-17     2330   \u6469\u6839\u5927\u901a      0  1149 -1149\n",
        "21  2014-01-17     2330   \u65e5\u76db\u8b49\u5238    261  1344 -1083\n",
        "22  2014-01-17     2330  \u6c38\u8c50\u91d1\u8b49\u5238    827  1705  -878\n",
        "23  2014-01-17     2330     \u4e9e\u6771     26   513  -487\n",
        "24  2014-01-17     2330   \u83ef\u5357\u6c38\u660c    286   743  -457\n",
        "25  2014-01-17     2330   \u5146\u8c50\u8b49\u5238    225   639  -414\n",
        "26  2014-01-17     2330  \u6e2f\u5546\u6cd5\u570b\u8208     34   384  -350\n",
        "27  2014-01-17     2330    \u7b2c\u4e00\u91d1    235   537  -302\n",
        "28  2014-01-17     2330     \u81fa\u9280    323   617  -294\n",
        "29  2014-01-17     2330  \u53f0\u7063\u6771\u65b9\u532f    281   553  -272"
       ]
      }
     ],
     "prompt_number": 67
    },
    {
     "cell_type": "code",
     "collapsed": false,
     "input": [
      "def get_stock_major_info(stock_id):\n",
      "    \n",
      "    # Original df\n",
      "    res = requests.get(\"http://tw.stock.yahoo.com/d/s/major_%s.html\" % str(stock_id))\n",
      "    tables = pd.read_html(res.text)\n",
      "    data_table = [one_table for one_table in tables if one_table.values.shape==(16,8)][0]\n",
      "    pre_df = np.r_[ data_table.values[1:,0:4], data_table.values[1:,4:]]\n",
      "    df = pd.DataFrame(pre_df)\n",
      "    df.columns = [\"Name\",\"Buy\",\"Sell\",\"Net\"]\n",
      "    \n",
      "    # df with Date and Stock_id\n",
      "    date_table = [one_table for one_table in tables if one_table.values.shape==(1,3)][0]\n",
      "    date_tuple = map(int,date_table[0].values.tolist()[0].split(u\"\uff1a\")[-1].split(\"/\"))\n",
      "    date_tuple[0] = date_tuple[0] + 1911\n",
      "    import datetime\n",
      "    date_obj = datetime.date(*date_tuple)\n",
      "    df[\"Date\"] = df[\"Name\"].map(lambda xx: date_obj)\n",
      "    df[\"Stock_id\"] = df[\"Name\"].map(lambda xx: stock_id)\n",
      "    \n",
      "    df = df.reindex(columns=[\"Date\",\"Stock_id\",\"Name\",\"Buy\",\"Sell\",\"Net\"])\n",
      "    \n",
      "    return df \n",
      "\n",
      "stock_major_df = get_stock_major_info(1201)\n",
      "stock_major_df"
     ],
     "language": "python",
     "metadata": {
      "slideshow": {
       "slide_type": "subslide"
      }
     },
     "outputs": [
      {
       "html": [
        "<div style=\"max-height:1000px;max-width:1500px;overflow:auto;\">\n",
        "<table border=\"1\" class=\"dataframe\">\n",
        "  <thead>\n",
        "    <tr style=\"text-align: right;\">\n",
        "      <th></th>\n",
        "      <th>Date</th>\n",
        "      <th>Stock_id</th>\n",
        "      <th>Name</th>\n",
        "      <th>Buy</th>\n",
        "      <th>Sell</th>\n",
        "      <th>Net</th>\n",
        "    </tr>\n",
        "  </thead>\n",
        "  <tbody>\n",
        "    <tr>\n",
        "      <th>0 </th>\n",
        "      <td> 2014-01-17</td>\n",
        "      <td> 1201</td>\n",
        "      <td>  \u6c38\u8c50\u91d1\u8b49\u5238</td>\n",
        "      <td> 211</td>\n",
        "      <td>   5</td>\n",
        "      <td> 206</td>\n",
        "    </tr>\n",
        "    <tr>\n",
        "      <th>1 </th>\n",
        "      <td> 2014-01-17</td>\n",
        "      <td> 1201</td>\n",
        "      <td>  \u65b0\u52a0\u5761\u5546\u745e</td>\n",
        "      <td>  77</td>\n",
        "      <td>   0</td>\n",
        "      <td>  77</td>\n",
        "    </tr>\n",
        "    <tr>\n",
        "      <th>2 </th>\n",
        "      <td> 2014-01-17</td>\n",
        "      <td> 1201</td>\n",
        "      <td>     \u5143\u5bcc</td>\n",
        "      <td>  24</td>\n",
        "      <td>   2</td>\n",
        "      <td>  22</td>\n",
        "    </tr>\n",
        "    <tr>\n",
        "      <th>3 </th>\n",
        "      <td> 2014-01-17</td>\n",
        "      <td> 1201</td>\n",
        "      <td>     \u5408\u5eab</td>\n",
        "      <td>  25</td>\n",
        "      <td>   8</td>\n",
        "      <td>  17</td>\n",
        "    </tr>\n",
        "    <tr>\n",
        "      <th>4 </th>\n",
        "      <td> 2014-01-17</td>\n",
        "      <td> 1201</td>\n",
        "      <td>   \u7389\u5c71\u8b49\u5238</td>\n",
        "      <td>  21</td>\n",
        "      <td>   4</td>\n",
        "      <td>  17</td>\n",
        "    </tr>\n",
        "    <tr>\n",
        "      <th>5 </th>\n",
        "      <td> 2014-01-17</td>\n",
        "      <td> 1201</td>\n",
        "      <td>   \u5bcc\u90a6\u8b49\u5238</td>\n",
        "      <td>  25</td>\n",
        "      <td>   8</td>\n",
        "      <td>  17</td>\n",
        "    </tr>\n",
        "    <tr>\n",
        "      <th>6 </th>\n",
        "      <td> 2014-01-17</td>\n",
        "      <td> 1201</td>\n",
        "      <td>   \u83ef\u5357\u6c38\u660c</td>\n",
        "      <td>   9</td>\n",
        "      <td>   0</td>\n",
        "      <td>   9</td>\n",
        "    </tr>\n",
        "    <tr>\n",
        "      <th>7 </th>\n",
        "      <td> 2014-01-17</td>\n",
        "      <td> 1201</td>\n",
        "      <td>   \u5bcc\u661f\u8b49\u5238</td>\n",
        "      <td>   5</td>\n",
        "      <td>   0</td>\n",
        "      <td>   5</td>\n",
        "    </tr>\n",
        "    <tr>\n",
        "      <th>8 </th>\n",
        "      <td> 2014-01-17</td>\n",
        "      <td> 1201</td>\n",
        "      <td> (\u725b\u725b\u725b)\u4e9e</td>\n",
        "      <td>   3</td>\n",
        "      <td>   0</td>\n",
        "      <td>   3</td>\n",
        "    </tr>\n",
        "    <tr>\n",
        "      <th>9 </th>\n",
        "      <td> 2014-01-17</td>\n",
        "      <td> 1201</td>\n",
        "      <td>   \u5927\u6176\u8b49\u5238</td>\n",
        "      <td>   2</td>\n",
        "      <td>   0</td>\n",
        "      <td>   2</td>\n",
        "    </tr>\n",
        "    <tr>\n",
        "      <th>10</th>\n",
        "      <td> 2014-01-17</td>\n",
        "      <td> 1201</td>\n",
        "      <td>     \u5b89\u6cf0</td>\n",
        "      <td>   2</td>\n",
        "      <td>   0</td>\n",
        "      <td>   2</td>\n",
        "    </tr>\n",
        "    <tr>\n",
        "      <th>11</th>\n",
        "      <td> 2014-01-17</td>\n",
        "      <td> 1201</td>\n",
        "      <td>   \u6e23\u6253\u5546\u9280</td>\n",
        "      <td>   2</td>\n",
        "      <td>   0</td>\n",
        "      <td>   2</td>\n",
        "    </tr>\n",
        "    <tr>\n",
        "      <th>12</th>\n",
        "      <td> 2014-01-17</td>\n",
        "      <td> 1201</td>\n",
        "      <td>   \u53f0\u4e2d\u5546\u9280</td>\n",
        "      <td>   1</td>\n",
        "      <td>   0</td>\n",
        "      <td>   1</td>\n",
        "    </tr>\n",
        "    <tr>\n",
        "      <th>13</th>\n",
        "      <td> 2014-01-17</td>\n",
        "      <td> 1201</td>\n",
        "      <td>   \u4e2d\u4fe1\u9280\u8b49</td>\n",
        "      <td>   1</td>\n",
        "      <td>   0</td>\n",
        "      <td>   1</td>\n",
        "    </tr>\n",
        "    <tr>\n",
        "      <th>14</th>\n",
        "      <td> 2014-01-17</td>\n",
        "      <td> 1201</td>\n",
        "      <td>   \u570b\u6cf0\u8b49\u5238</td>\n",
        "      <td>   1</td>\n",
        "      <td>   0</td>\n",
        "      <td>   1</td>\n",
        "    </tr>\n",
        "    <tr>\n",
        "      <th>15</th>\n",
        "      <td> 2014-01-17</td>\n",
        "      <td> 1201</td>\n",
        "      <td>    \u7b2c\u4e00\u91d1</td>\n",
        "      <td>   3</td>\n",
        "      <td> 109</td>\n",
        "      <td>-106</td>\n",
        "    </tr>\n",
        "    <tr>\n",
        "      <th>16</th>\n",
        "      <td> 2014-01-17</td>\n",
        "      <td> 1201</td>\n",
        "      <td>   \u51f1\u57fa\u8b49\u5238</td>\n",
        "      <td>  39</td>\n",
        "      <td> 127</td>\n",
        "      <td> -88</td>\n",
        "    </tr>\n",
        "    <tr>\n",
        "      <th>17</th>\n",
        "      <td> 2014-01-17</td>\n",
        "      <td> 1201</td>\n",
        "      <td>     \u7d71\u4e00</td>\n",
        "      <td>   1</td>\n",
        "      <td>  43</td>\n",
        "      <td> -42</td>\n",
        "    </tr>\n",
        "    <tr>\n",
        "      <th>18</th>\n",
        "      <td> 2014-01-17</td>\n",
        "      <td> 1201</td>\n",
        "      <td>   \u5146\u8c50\u8b49\u5238</td>\n",
        "      <td>   4</td>\n",
        "      <td>  34</td>\n",
        "      <td> -30</td>\n",
        "    </tr>\n",
        "    <tr>\n",
        "      <th>19</th>\n",
        "      <td> 2014-01-17</td>\n",
        "      <td> 1201</td>\n",
        "      <td>     \u5149\u548c</td>\n",
        "      <td>   0</td>\n",
        "      <td>  11</td>\n",
        "      <td> -11</td>\n",
        "    </tr>\n",
        "    <tr>\n",
        "      <th>20</th>\n",
        "      <td> 2014-01-17</td>\n",
        "      <td> 1201</td>\n",
        "      <td>   \u7f8e\u5546\u9ad8\u76db</td>\n",
        "      <td>   0</td>\n",
        "      <td>  11</td>\n",
        "      <td> -11</td>\n",
        "    </tr>\n",
        "    <tr>\n",
        "      <th>21</th>\n",
        "      <td> 2014-01-17</td>\n",
        "      <td> 1201</td>\n",
        "      <td>  \u53f0\u7063\u6469\u6839\u58eb</td>\n",
        "      <td>   0</td>\n",
        "      <td>  10</td>\n",
        "      <td> -10</td>\n",
        "    </tr>\n",
        "    <tr>\n",
        "      <th>22</th>\n",
        "      <td> 2014-01-17</td>\n",
        "      <td> 1201</td>\n",
        "      <td>   \u745e\u58eb\u4fe1\u8cb8</td>\n",
        "      <td>   0</td>\n",
        "      <td>  10</td>\n",
        "      <td> -10</td>\n",
        "    </tr>\n",
        "    <tr>\n",
        "      <th>23</th>\n",
        "      <td> 2014-01-17</td>\n",
        "      <td> 1201</td>\n",
        "      <td>   \u5143\u5927\u5bf6\u4f86</td>\n",
        "      <td>  34</td>\n",
        "      <td>  38</td>\n",
        "      <td>  -4</td>\n",
        "    </tr>\n",
        "    <tr>\n",
        "      <th>24</th>\n",
        "      <td> 2014-01-17</td>\n",
        "      <td> 1201</td>\n",
        "      <td>   \u7fa4\u76ca\u91d1\u9f0e</td>\n",
        "      <td>  11</td>\n",
        "      <td>  14</td>\n",
        "      <td>  -3</td>\n",
        "    </tr>\n",
        "    <tr>\n",
        "      <th>25</th>\n",
        "      <td> 2014-01-17</td>\n",
        "      <td> 1201</td>\n",
        "      <td>   \u65e5\u76db\u8b49\u5238</td>\n",
        "      <td>  30</td>\n",
        "      <td>  33</td>\n",
        "      <td>  -3</td>\n",
        "    </tr>\n",
        "    <tr>\n",
        "      <th>26</th>\n",
        "      <td> 2014-01-17</td>\n",
        "      <td> 1201</td>\n",
        "      <td>  \u6e2f\u5546\u5fb7\u610f\u5fd7</td>\n",
        "      <td>   0</td>\n",
        "      <td>   3</td>\n",
        "      <td>  -3</td>\n",
        "    </tr>\n",
        "    <tr>\n",
        "      <th>27</th>\n",
        "      <td> 2014-01-17</td>\n",
        "      <td> 1201</td>\n",
        "      <td>     \u5f70\u9280</td>\n",
        "      <td>   0</td>\n",
        "      <td>   1</td>\n",
        "      <td>  -1</td>\n",
        "    </tr>\n",
        "    <tr>\n",
        "      <th>28</th>\n",
        "      <td> 2014-01-17</td>\n",
        "      <td> 1201</td>\n",
        "      <td>     \u571f\u9280</td>\n",
        "      <td>   0</td>\n",
        "      <td>   0</td>\n",
        "      <td>   0</td>\n",
        "    </tr>\n",
        "    <tr>\n",
        "      <th>29</th>\n",
        "      <td> 2014-01-17</td>\n",
        "      <td> 1201</td>\n",
        "      <td>  \u53f0\u7063\u6771\u65b9\u532f</td>\n",
        "      <td>   0</td>\n",
        "      <td>   0</td>\n",
        "      <td>   0</td>\n",
        "    </tr>\n",
        "  </tbody>\n",
        "</table>\n",
        "</div>"
       ],
       "metadata": {},
       "output_type": "pyout",
       "prompt_number": 71,
       "text": [
        "          Date  Stock_id    Name  Buy Sell  Net\n",
        "0   2014-01-17      1201   \u6c38\u8c50\u91d1\u8b49\u5238  211    5  206\n",
        "1   2014-01-17      1201   \u65b0\u52a0\u5761\u5546\u745e   77    0   77\n",
        "2   2014-01-17      1201      \u5143\u5bcc   24    2   22\n",
        "3   2014-01-17      1201      \u5408\u5eab   25    8   17\n",
        "4   2014-01-17      1201    \u7389\u5c71\u8b49\u5238   21    4   17\n",
        "5   2014-01-17      1201    \u5bcc\u90a6\u8b49\u5238   25    8   17\n",
        "6   2014-01-17      1201    \u83ef\u5357\u6c38\u660c    9    0    9\n",
        "7   2014-01-17      1201    \u5bcc\u661f\u8b49\u5238    5    0    5\n",
        "8   2014-01-17      1201  (\u725b\u725b\u725b)\u4e9e    3    0    3\n",
        "9   2014-01-17      1201    \u5927\u6176\u8b49\u5238    2    0    2\n",
        "10  2014-01-17      1201      \u5b89\u6cf0    2    0    2\n",
        "11  2014-01-17      1201    \u6e23\u6253\u5546\u9280    2    0    2\n",
        "12  2014-01-17      1201    \u53f0\u4e2d\u5546\u9280    1    0    1\n",
        "13  2014-01-17      1201    \u4e2d\u4fe1\u9280\u8b49    1    0    1\n",
        "14  2014-01-17      1201    \u570b\u6cf0\u8b49\u5238    1    0    1\n",
        "15  2014-01-17      1201     \u7b2c\u4e00\u91d1    3  109 -106\n",
        "16  2014-01-17      1201    \u51f1\u57fa\u8b49\u5238   39  127  -88\n",
        "17  2014-01-17      1201      \u7d71\u4e00    1   43  -42\n",
        "18  2014-01-17      1201    \u5146\u8c50\u8b49\u5238    4   34  -30\n",
        "19  2014-01-17      1201      \u5149\u548c    0   11  -11\n",
        "20  2014-01-17      1201    \u7f8e\u5546\u9ad8\u76db    0   11  -11\n",
        "21  2014-01-17      1201   \u53f0\u7063\u6469\u6839\u58eb    0   10  -10\n",
        "22  2014-01-17      1201    \u745e\u58eb\u4fe1\u8cb8    0   10  -10\n",
        "23  2014-01-17      1201    \u5143\u5927\u5bf6\u4f86   34   38   -4\n",
        "24  2014-01-17      1201    \u7fa4\u76ca\u91d1\u9f0e   11   14   -3\n",
        "25  2014-01-17      1201    \u65e5\u76db\u8b49\u5238   30   33   -3\n",
        "26  2014-01-17      1201   \u6e2f\u5546\u5fb7\u610f\u5fd7    0    3   -3\n",
        "27  2014-01-17      1201      \u5f70\u9280    0    1   -1\n",
        "28  2014-01-17      1201      \u571f\u9280    0    0    0\n",
        "29  2014-01-17      1201   \u53f0\u7063\u6771\u65b9\u532f    0    0    0"
       ]
      }
     ],
     "prompt_number": 71
    },
    {
     "cell_type": "markdown",
     "metadata": {
      "slideshow": {
       "slide_type": "subslide"
      }
     },
     "source": [
      "# [Example 1] \u5b78\u7fd2\u76ee\u6a19\uff1a\n",
      "\n",
      "- ## [Connector] \u4f7f\u7528 GET method \u9023\u7dda\n",
      "- ## [Parser] \u4f7f\u7528 pandas.read_html \u8b80\u53d6 table\n",
      "- ## [Data Center] \u4f7f\u7528 pandas.to_csv \u5c07\u8cc7\u6599\u5beb\u5165 csv \u6a94\u6848"
     ]
    },
    {
     "cell_type": "markdown",
     "metadata": {
      "slideshow": {
       "slide_type": "fragment"
      }
     },
     "source": [
      "# [Example1] \u4f7f\u7528\u6280\u8853\uff1a\n",
      "\n",
      "- ## [Connector] requests.get\n",
      "- ## [Parser] pandas.read_html / numpy "
     ]
    },
    {
     "cell_type": "markdown",
     "metadata": {
      "slideshow": {
       "slide_type": "subslide"
      }
     },
     "source": [
      "# [Example 1] Homeworks\uff1a\n",
      "\n",
      "- ## [Data Science] \u60f3\u60f3\u8cc7\u6599\u53ef\u4ee5\u5982\u4f55\u4f7f\u7528\uff1f \u8981\u554f\u8cc7\u6599\u54ea\u4e9b\u554f\u984c\u5462\uff1f\n",
      "- ## [Data Science] \u8981\u5982\u4f55\u56de\u7b54\u524d\u8ff0\u7684\u554f\u984c\u5462\uff1f \u9700\u8981\u54ea\u4e9b\u6750\u6599\uff1f \u53ef\u80fd\u9700\u8981\u54ea\u4e9b\u6280\u8853\uff1f\n",
      "- ## [Connector] \u7df4\u7fd2\u4f7f\u7528 GET method \u9023\u7dda\u5176\u4ed6\u7db2\u7ad9\uff0c\u6709\u6c92\u6709\u9047\u5230\u4ec0\u9ebc\u554f\u984c\u5462\uff1f\n",
      "- ## [Parser] \u4f7f\u7528 pandas.read_html \u8b80\u53d6 table\n",
      "- ## [Data Center] \u7df4\u7fd2\u4f7f\u7528 pandas.read_csv or csv \u5c07\u5beb\u51fa\u7684 csv \u6a94\u6848\u8b80\u5165 Python"
     ]
    },
    {
     "cell_type": "markdown",
     "metadata": {
      "slideshow": {
       "slide_type": "slide"
      }
     },
     "source": [
      "# [Example 2] \u6293\u80a1\u7968\u4ee3\u78bc\uff1a\n",
      "\n",
      "[![Web_mops_t51sb01](Lec2_slide_imgs/Web_mops_t51sb01.png)](http://mops.twse.com.tw/mops/web/t51sb01)"
     ]
    },
    {
     "cell_type": "markdown",
     "metadata": {
      "slideshow": {
       "slide_type": "subslide"
      }
     },
     "source": [
      "# [Example 2 ] \u89e3\u6cd5\u3127 PageParser\uff1a"
     ]
    },
    {
     "cell_type": "code",
     "collapsed": false,
     "input": [
      "import requests\n",
      "import pandas as pd\n",
      "import numpy as np"
     ],
     "language": "python",
     "metadata": {
      "slideshow": {
       "slide_type": "-"
      }
     },
     "outputs": [],
     "prompt_number": 72
    },
    {
     "cell_type": "code",
     "collapsed": false,
     "input": [
      "req_data = {\n",
      "\t\"encodeURIComponent\":1,\n",
      "\t\"step\":1,\n",
      "\t\"firstin\":1,\n",
      "\t\"TYPEK\":\"sii\",\n",
      "\t\"code\":\"\"\n",
      "}\n",
      "\n",
      "res = requests.post(\"http://mops.twse.com.tw/mops/web/ajax_t51sb01\",data = req_data)\n",
      "tables = pd.read_html(res.text)\n"
     ],
     "language": "python",
     "metadata": {},
     "outputs": [],
     "prompt_number": 73
    },
    {
     "cell_type": "code",
     "collapsed": false,
     "input": [
      "len(tables)"
     ],
     "language": "python",
     "metadata": {
      "slideshow": {
       "slide_type": "-"
      }
     },
     "outputs": [
      {
       "html": [
        "<div style=\"max-height:1000px;max-width:1500px;overflow:auto;\">\n",
        "<table border=\"1\" class=\"dataframe\">\n",
        "  <thead>\n",
        "    <tr style=\"text-align: right;\">\n",
        "      <th></th>\n",
        "      <th>0</th>\n",
        "    </tr>\n",
        "  </thead>\n",
        "  <tbody>\n",
        "    <tr>\n",
        "      <th>0</th>\n",
        "      <td> \u00e5\u0090\u0088\u00e8\u00a8\u0088\u00ef\u00bc\u009a\u00e5\u0085",
        "\u00b1 867 \u00e5\u00ae\u00b6</td>\n",
        "    </tr>\n",
        "  </tbody>\n",
        "</table>\n",
        "</div>"
       ],
       "metadata": {},
       "output_type": "pyout",
       "prompt_number": 77,
       "text": [
        "                      0\n",
        "0  \u00e5\u0090\u0088\u00e8\u00a8\u0088\u00ef\u00bc\u009a\u00e5\u0085",
        "\u00b1 867 \u00e5\u00ae\u00b6"
       ]
      }
     ],
     "prompt_number": 77
    },
    {
     "cell_type": "code",
     "collapsed": false,
     "input": [
      "dirty_df = [ tab_df for tab_df in tables if len(tab_df.values[:,0])>1][0]\n",
      "dirty_df\n",
      "\n",
      "print \"dirty_df.values.shape = \",dirty_df.values.shape\n",
      "print \"dirty_df.values[:,0] = \",dirty_df.values[:,0].tolist()"
     ],
     "language": "python",
     "metadata": {
      "slideshow": {
       "slide_type": "subslide"
      }
     },
     "outputs": [
      {
       "output_type": "stream",
       "stream": "stdout",
       "text": [
        "dirty_df.values.shape =  (925, 28)\n",
        "dirty_df.values[:,0] =  [nan, 1101.0, 1102.0, 1103.0, 1104.0, 1108.0, 1109.0, 1110.0, 1201.0, 1203.0, 1210.0, 1213.0, 1215.0, 1216.0, 1217.0, 1218.0, nan, 1219.0, 1220.0, 1225.0, 1227.0, 1229.0, 1231.0, 1232.0, 1233.0, 1234.0, 1235.0, 1236.0, 1262.0, 1301.0, 1303.0, 1304.0, nan, 1305.0, 1307.0, 1308.0, 1309.0, 1310.0, 1312.0, 1313.0, 1314.0, 1315.0, 1316.0, 1319.0, 1321.0, 1323.0, 1324.0, 1325.0, nan, 1326.0, 1337.0, 1338.0, 1339.0, 1340.0, 1402.0, 1409.0, 1410.0, 1413.0, 1414.0, 1416.0, 1417.0, 1418.0, 1419.0, 1423.0, nan, 1432.0, 1434.0, 1435.0, 1436.0, 1437.0, 1438.0, 1439.0, 1440.0, 1441.0, 1442.0, 1443.0, 1444.0, 1445.0, 1446.0, 1447.0, nan, 1449.0, 1451.0, 1452.0, 1453.0, 1454.0, 1455.0, 1456.0, 1457.0, 1459.0, 1460.0, 1463.0, 1464.0, 1465.0, 1466.0, 1467.0, nan, 1468.0, 1469.0, 1470.0, 1471.0, 1472.0, 1473.0, 1474.0, 1475.0, 1476.0, 1477.0, 1503.0, 1504.0, 1506.0, 1507.0, 1512.0, nan, 1513.0, 1514.0, 1515.0, 1516.0, 1517.0, 1519.0, 1521.0, 1522.0, 1524.0, 1525.0, 1526.0, 1527.0, 1528.0, 1529.0, 1530.0, nan, 1531.0, 1532.0, 1533.0, 1535.0, 1536.0, 1537.0, 1538.0, 1539.0, 1540.0, 1541.0, 1560.0, 1582.0, 1583.0, 1589.0, 1590.0, nan, 1603.0, 1604.0, 1605.0, 1608.0, 1609.0, 1611.0, 1612.0, 1613.0, 1614.0, 1615.0, 1616.0, 1617.0, 1618.0, 1626.0, 1701.0, nan, 1702.0, 1704.0, 1707.0, 1708.0, 1709.0, 1710.0, 1711.0, 1712.0, 1713.0, 1714.0, 1715.0, 1717.0, 1718.0, 1720.0, 1721.0, nan, 1722.0, 1723.0, 1724.0, 1725.0, 1726.0, 1727.0, 1729.0, 1730.0, 1731.0, 1732.0, 1733.0, 1734.0, 1735.0, 1736.0, 1737.0, nan, 1762.0, 1773.0, 1783.0, 1786.0, 1789.0, 1802.0, 1805.0, 1806.0, 1808.0, 1809.0, 1810.0, 1817.0, 1902.0, 1903.0, 1904.0, nan, 1905.0, 1906.0, 1907.0, 1909.0, 2002.0, 2006.0, 2007.0, 2008.0, 2009.0, 2010.0, 2012.0, 2013.0, 2014.0, 2015.0, 2017.0, nan, 2020.0, 2022.0, 2023.0, 2024.0, 2025.0, 2027.0, 2028.0, 2029.0, 2030.0, 2031.0, 2032.0, 2033.0, 2034.0, 2038.0, 2049.0, nan, 2059.0, 2062.0, 2101.0, 2102.0, 2103.0, 2104.0, 2105.0, 2106.0, 2107.0, 2108.0, 2109.0, 2114.0, 2115.0, 2201.0, 2204.0, nan, 2206.0, 2207.0, 2208.0, 2227.0, 2228.0, 2231.0, 2301.0, 2302.0, 2303.0, 2305.0, 2308.0, 2311.0, 2312.0, 2313.0, 2314.0, nan, 2316.0, 2317.0, 2321.0, 2323.0, 2324.0, 2325.0, 2327.0, 2328.0, 2329.0, 2330.0, 2331.0, 2332.0, 2337.0, 2338.0, 2340.0, nan, 2342.0, 2344.0, 2345.0, 2347.0, 2348.0, 2349.0, 2351.0, 2352.0, 2353.0, 2354.0, 2355.0, 2356.0, 2357.0, 2358.0, 2359.0, nan, 2360.0, 2361.0, 2362.0, 2363.0, 2364.0, 2365.0, 2367.0, 2368.0, 2369.0, 2371.0, 2373.0, 2374.0, 2375.0, 2376.0, 2377.0, nan, 2379.0, 2380.0, 2382.0, 2383.0, 2384.0, 2385.0, 2387.0, 2388.0, 2390.0, 2392.0, 2393.0, 2395.0, 2397.0, 2399.0, 2401.0, nan, 2402.0, 2404.0, 2405.0, 2406.0, 2408.0, 2409.0, 2412.0, 2413.0, 2414.0, 2415.0, 2417.0, 2419.0, 2420.0, 2421.0, 2423.0, nan, 2424.0, 2425.0, 2426.0, 2427.0, 2428.0, 2429.0, 2430.0, 2431.0, 2433.0, 2434.0, 2436.0, 2437.0, 2438.0, 2439.0, 2440.0, nan, 2441.0, 2442.0, 2443.0, 2444.0, 2448.0, 2449.0, 2450.0, 2451.0, 2453.0, 2454.0, 2455.0, 2456.0, 2457.0, 2458.0, 2459.0, nan, 2460.0, 2461.0, 2462.0, 2464.0, 2465.0, 2466.0, 2467.0, 2468.0, 2471.0, 2472.0, 2474.0, 2475.0, 2476.0, 2477.0, 2478.0, nan, 2480.0, 2481.0, 2482.0, 2483.0, 2484.0, 2485.0, 2486.0, 2488.0, 2489.0, 2491.0, 2492.0, 2493.0, 2495.0, 2496.0, 2497.0, nan, 2498.0, 2499.0, 2501.0, 2504.0, 2505.0, 2506.0, 2509.0, 2511.0, 2514.0, 2515.0, 2516.0, 2520.0, 2524.0, 2527.0, 2528.0, nan, 2530.0, 2534.0, 2535.0, 2536.0, 2537.0, 2538.0, 2539.0, 2540.0, 2542.0, 2543.0, 2545.0, 2546.0, 2547.0, 2548.0, 2597.0, nan, 2601.0, 2603.0, 2605.0, 2606.0, 2607.0, 2608.0, 2609.0, 2610.0, 2611.0, 2612.0, 2613.0, 2614.0, 2615.0, 2616.0, 2617.0, nan, 2618.0, 2637.0, 2642.0, 2701.0, 2702.0, 2704.0, 2705.0, 2706.0, 2707.0, 2712.0, 2722.0, 2723.0, 2727.0, 2731.0, 2801.0, nan, 2809.0, 2812.0, 2816.0, 2820.0, 2823.0, 2832.0, 2833.0, 2834.0, 2836.0, 2837.0, 2838.0, 2841.0, 2845.0, 2847.0, 2849.0, nan, 2850.0, 2851.0, 2852.0, 2855.0, 2856.0, 2867.0, 2880.0, 2881.0, 2882.0, 2883.0, 2884.0, 2885.0, 2886.0, 2887.0, 2888.0, nan, 2889.0, 2890.0, 2891.0, 2892.0, 2901.0, 2903.0, 2904.0, 2905.0, 2906.0, 2908.0, 2910.0, 2911.0, 2912.0, 2913.0, 2915.0, nan, 2923.0, 2929.0, 3002.0, 3003.0, 3004.0, 3005.0, 3006.0, 3008.0, 3010.0, 3011.0, 3013.0, 3014.0, 3015.0, 3016.0, 3017.0, nan, 3018.0, 3019.0, 3021.0, 3022.0, 3023.0, 3024.0, 3025.0, 3026.0, 3027.0, 3028.0, 3029.0, 3030.0, 3031.0, 3032.0, 3033.0, nan, 3034.0, 3035.0, 3036.0, 3037.0, 3038.0, 3040.0, 3041.0, 3042.0, 3043.0, 3044.0, 3045.0, 3046.0, 3047.0, 3048.0, 3049.0, nan, 3050.0, 3051.0, 3052.0, 3054.0, 3055.0, 3056.0, 3057.0, 3058.0, 3059.0, 3060.0, 3061.0, 3062.0, 3090.0, 3094.0, 3130.0, nan, 3149.0, 3164.0, 3167.0, 3189.0, 3209.0, 3229.0, 3231.0, 3257.0, 3296.0, 3305.0, 3308.0, 3311.0, 3312.0, 3315.0, 3338.0, nan, 3356.0, 3376.0, 3380.0, 3383.0, 3406.0, 3419.0, 3432.0, 3443.0, 3450.0, 3454.0, 3474.0, 3481.0, 3494.0, 3501.0, 3504.0, nan, 3514.0, 3515.0, 3518.0, 3519.0, 3532.0, 3533.0, 3535.0, 3536.0, 3545.0, 3550.0, 3557.0, 3559.0, 3561.0, 3573.0, 3576.0, nan, 3579.0, 3583.0, 3584.0, 3588.0, 3591.0, 3593.0, 3596.0, 3598.0, 3605.0, 3607.0, 3617.0, 3622.0, 3638.0, 3645.0, 3653.0, nan, 3665.0, 3669.0, 3673.0, 3679.0, 3682.0, 3686.0, 3694.0, 3698.0, 3701.0, 3702.0, 3703.0, 3704.0, 3705.0, 3706.0, 4104.0, nan, 4106.0, 4108.0, 4119.0, 4133.0, 4137.0, 4141.0, 4142.0, 4144.0, 4164.0, 4306.0, 4414.0, 4426.0, 4526.0, 4532.0, 4536.0, nan, 4722.0, 4725.0, 4733.0, 4737.0, 4746.0, 4755.0, 4904.0, 4906.0, 4915.0, 4916.0, 4919.0, 4930.0, 4934.0, 4935.0, 4938.0, nan, 4942.0, 4952.0, 4956.0, 4958.0, 4960.0, 4976.0, 4977.0, 4984.0, 4994.0, 4999.0, 5007.0, 5203.0, 5215.0, 5225.0, 5234.0, nan, 5243.0, 5259.0, 5264.0, 5269.0, 5280.0, 5305.0, 5388.0, 5434.0, 5469.0, 5471.0, 5484.0, 5515.0, 5521.0, 5522.0, 5525.0, nan, 5531.0, 5533.0, 5534.0, 5538.0, 5607.0, 5608.0, 5706.0, 5871.0, 5880.0, 5906.0, 5907.0, 6005.0, 6108.0, 6112.0, 6115.0, nan, 6116.0, 6117.0, 6120.0, 6128.0, 6131.0, 6133.0, 6136.0, 6139.0, 6141.0, 6142.0, 6145.0, 6152.0, 6153.0, 6155.0, 6164.0, nan, 6165.0, 6166.0, 6168.0, 6172.0, 6176.0, 6177.0, 6183.0, 6184.0, 6189.0, 6191.0, 6192.0, 6196.0, 6197.0, 6201.0, 6202.0, nan, 6205.0, 6206.0, 6209.0, 6213.0, 6214.0, 6215.0, 6216.0, 6224.0, 6225.0, 6226.0, 6230.0, 6235.0, 6239.0, 6243.0, 6251.0, nan, 6257.0, 6269.0, 6271.0, 6277.0, 6278.0, 6281.0, 6282.0, 6283.0, 6285.0, 6286.0, 6289.0, 6405.0, 6412.0, 6415.0, 6504.0, nan, 6505.0, 6605.0, 6702.0, 8011.0, 8016.0, 8021.0, 8033.0, 8039.0, 8046.0, 8070.0, 8072.0, 8078.0, 8081.0, 8101.0, 8103.0, nan, 8105.0, 8110.0, 8112.0, 8114.0, 8131.0, 8163.0, 8201.0, 8210.0, 8213.0, 8215.0, 8249.0, 8261.0, 8271.0, 8374.0, 8404.0, nan, 8411.0, 8422.0, 8427.0, 8429.0, 8926.0, 8940.0, 910069.0, 9103.0, 910322.0, 910482.0, 9105.0, 9106.0, 910708.0, 910801.0, 910861.0, nan, 910948.0, 9110.0, 911201.0, 911608.0, 911609.0, 911610.0, 911611.0, 911612.0, 911616.0, 911619.0, 911622.0, 911626.0, 911868.0, 912000.0, 912398.0, nan, 9136.0, 913889.0, 9157.0, 9188.0, 9802.0, 9902.0, 9904.0, 9905.0, 9906.0, 9907.0, 9908.0, 9910.0, 9911.0, 9912.0, 9914.0, nan, 9917.0, 9918.0, 9919.0, 9921.0, 9924.0, 9925.0, 9926.0, 9927.0, 9928.0, 9929.0, 9930.0, 9931.0, 9933.0, 9934.0, 9935.0, nan, 9937.0, 9938.0, 9939.0, 9940.0, 9941.0, 9942.0, 9943.0, 9944.0, 9945.0, 9946.0, 9955.0, 9958.0]\n"
       ]
      }
     ],
     "prompt_number": 78
    },
    {
     "cell_type": "code",
     "collapsed": false,
     "input": [
      "Stock_IDs = [ str(int(xx)) for xx in dirty_df.values[:,0].tolist() if xx>0] \n",
      "print len(Stock_IDs)\n",
      "print Stock_IDs"
     ],
     "language": "python",
     "metadata": {
      "slideshow": {
       "slide_type": "subslide"
      }
     },
     "outputs": [
      {
       "output_type": "stream",
       "stream": "stdout",
       "text": [
        "867\n",
        "['1101', '1102', '1103', '1104', '1108', '1109', '1110', '1201', '1203', '1210', '1213', '1215', '1216', '1217', '1218', '1219', '1220', '1225', '1227', '1229', '1231', '1232', '1233', '1234', '1235', '1236', '1262', '1301', '1303', '1304', '1305', '1307', '1308', '1309', '1310', '1312', '1313', '1314', '1315', '1316', '1319', '1321', '1323', '1324', '1325', '1326', '1337', '1338', '1339', '1340', '1402', '1409', '1410', '1413', '1414', '1416', '1417', '1418', '1419', '1423', '1432', '1434', '1435', '1436', '1437', '1438', '1439', '1440', '1441', '1442', '1443', '1444', '1445', '1446', '1447', '1449', '1451', '1452', '1453', '1454', '1455', '1456', '1457', '1459', '1460', '1463', '1464', '1465', '1466', '1467', '1468', '1469', '1470', '1471', '1472', '1473', '1474', '1475', '1476', '1477', '1503', '1504', '1506', '1507', '1512', '1513', '1514', '1515', '1516', '1517', '1519', '1521', '1522', '1524', '1525', '1526', '1527', '1528', '1529', '1530', '1531', '1532', '1533', '1535', '1536', '1537', '1538', '1539', '1540', '1541', '1560', '1582', '1583', '1589', '1590', '1603', '1604', '1605', '1608', '1609', '1611', '1612', '1613', '1614', '1615', '1616', '1617', '1618', '1626', '1701', '1702', '1704', '1707', '1708', '1709', '1710', '1711', '1712', '1713', '1714', '1715', '1717', '1718', '1720', '1721', '1722', '1723', '1724', '1725', '1726', '1727', '1729', '1730', '1731', '1732', '1733', '1734', '1735', '1736', '1737', '1762', '1773', '1783', '1786', '1789', '1802', '1805', '1806', '1808', '1809', '1810', '1817', '1902', '1903', '1904', '1905', '1906', '1907', '1909', '2002', '2006', '2007', '2008', '2009', '2010', '2012', '2013', '2014', '2015', '2017', '2020', '2022', '2023', '2024', '2025', '2027', '2028', '2029', '2030', '2031', '2032', '2033', '2034', '2038', '2049', '2059', '2062', '2101', '2102', '2103', '2104', '2105', '2106', '2107', '2108', '2109', '2114', '2115', '2201', '2204', '2206', '2207', '2208', '2227', '2228', '2231', '2301', '2302', '2303', '2305', '2308', '2311', '2312', '2313', '2314', '2316', '2317', '2321', '2323', '2324', '2325', '2327', '2328', '2329', '2330', '2331', '2332', '2337', '2338', '2340', '2342', '2344', '2345', '2347', '2348', '2349', '2351', '2352', '2353', '2354', '2355', '2356', '2357', '2358', '2359', '2360', '2361', '2362', '2363', '2364', '2365', '2367', '2368', '2369', '2371', '2373', '2374', '2375', '2376', '2377', '2379', '2380', '2382', '2383', '2384', '2385', '2387', '2388', '2390', '2392', '2393', '2395', '2397', '2399', '2401', '2402', '2404', '2405', '2406', '2408', '2409', '2412', '2413', '2414', '2415', '2417', '2419', '2420', '2421', '2423', '2424', '2425', '2426', '2427', '2428', '2429', '2430', '2431', '2433', '2434', '2436', '2437', '2438', '2439', '2440', '2441', '2442', '2443', '2444', '2448', '2449', '2450', '2451', '2453', '2454', '2455', '2456', '2457', '2458', '2459', '2460', '2461', '2462', '2464', '2465', '2466', '2467', '2468', '2471', '2472', '2474', '2475', '2476', '2477', '2478', '2480', '2481', '2482', '2483', '2484', '2485', '2486', '2488', '2489', '2491', '2492', '2493', '2495', '2496', '2497', '2498', '2499', '2501', '2504', '2505', '2506', '2509', '2511', '2514', '2515', '2516', '2520', '2524', '2527', '2528', '2530', '2534', '2535', '2536', '2537', '2538', '2539', '2540', '2542', '2543', '2545', '2546', '2547', '2548', '2597', '2601', '2603', '2605', '2606', '2607', '2608', '2609', '2610', '2611', '2612', '2613', '2614', '2615', '2616', '2617', '2618', '2637', '2642', '2701', '2702', '2704', '2705', '2706', '2707', '2712', '2722', '2723', '2727', '2731', '2801', '2809', '2812', '2816', '2820', '2823', '2832', '2833', '2834', '2836', '2837', '2838', '2841', '2845', '2847', '2849', '2850', '2851', '2852', '2855', '2856', '2867', '2880', '2881', '2882', '2883', '2884', '2885', '2886', '2887', '2888', '2889', '2890', '2891', '2892', '2901', '2903', '2904', '2905', '2906', '2908', '2910', '2911', '2912', '2913', '2915', '2923', '2929', '3002', '3003', '3004', '3005', '3006', '3008', '3010', '3011', '3013', '3014', '3015', '3016', '3017', '3018', '3019', '3021', '3022', '3023', '3024', '3025', '3026', '3027', '3028', '3029', '3030', '3031', '3032', '3033', '3034', '3035', '3036', '3037', '3038', '3040', '3041', '3042', '3043', '3044', '3045', '3046', '3047', '3048', '3049', '3050', '3051', '3052', '3054', '3055', '3056', '3057', '3058', '3059', '3060', '3061', '3062', '3090', '3094', '3130', '3149', '3164', '3167', '3189', '3209', '3229', '3231', '3257', '3296', '3305', '3308', '3311', '3312', '3315', '3338', '3356', '3376', '3380', '3383', '3406', '3419', '3432', '3443', '3450', '3454', '3474', '3481', '3494', '3501', '3504', '3514', '3515', '3518', '3519', '3532', '3533', '3535', '3536', '3545', '3550', '3557', '3559', '3561', '3573', '3576', '3579', '3583', '3584', '3588', '3591', '3593', '3596', '3598', '3605', '3607', '3617', '3622', '3638', '3645', '3653', '3665', '3669', '3673', '3679', '3682', '3686', '3694', '3698', '3701', '3702', '3703', '3704', '3705', '3706', '4104', '4106', '4108', '4119', '4133', '4137', '4141', '4142', '4144', '4164', '4306', '4414', '4426', '4526', '4532', '4536', '4722', '4725', '4733', '4737', '4746', '4755', '4904', '4906', '4915', '4916', '4919', '4930', '4934', '4935', '4938', '4942', '4952', '4956', '4958', '4960', '4976', '4977', '4984', '4994', '4999', '5007', '5203', '5215', '5225', '5234', '5243', '5259', '5264', '5269', '5280', '5305', '5388', '5434', '5469', '5471', '5484', '5515', '5521', '5522', '5525', '5531', '5533', '5534', '5538', '5607', '5608', '5706', '5871', '5880', '5906', '5907', '6005', '6108', '6112', '6115', '6116', '6117', '6120', '6128', '6131', '6133', '6136', '6139', '6141', '6142', '6145', '6152', '6153', '6155', '6164', '6165', '6166', '6168', '6172', '6176', '6177', '6183', '6184', '6189', '6191', '6192', '6196', '6197', '6201', '6202', '6205', '6206', '6209', '6213', '6214', '6215', '6216', '6224', '6225', '6226', '6230', '6235', '6239', '6243', '6251', '6257', '6269', '6271', '6277', '6278', '6281', '6282', '6283', '6285', '6286', '6289', '6405', '6412', '6415', '6504', '6505', '6605', '6702', '8011', '8016', '8021', '8033', '8039', '8046', '8070', '8072', '8078', '8081', '8101', '8103', '8105', '8110', '8112', '8114', '8131', '8163', '8201', '8210', '8213', '8215', '8249', '8261', '8271', '8374', '8404', '8411', '8422', '8427', '8429', '8926', '8940', '910069', '9103', '910322', '910482', '9105', '9106', '910708', '910801', '910861', '910948', '9110', '911201', '911608', '911609', '911610', '911611', '911612', '911616', '911619', '911622', '911626', '911868', '912000', '912398', '9136', '913889', '9157', '9188', '9802', '9902', '9904', '9905', '9906', '9907', '9908', '9910', '9911', '9912', '9914', '9917', '9918', '9919', '9921', '9924', '9925', '9926', '9927', '9928', '9929', '9930', '9931', '9933', '9934', '9935', '9937', '9938', '9939', '9940', '9941', '9942', '9943', '9944', '9945', '9946', '9955', '9958']\n"
       ]
      }
     ],
     "prompt_number": 79
    },
    {
     "cell_type": "code",
     "collapsed": false,
     "input": [
      "total_df = get_stock_major_info(Stock_IDs[0])\n",
      "for one_stock_id in Stock_IDs[1:50]:\n",
      "    try:\n",
      "        new_df = get_stock_major_info(one_stock_id)\n",
      "        total_df = total_df.append(new_df)\n",
      "    except Exception as e:\n",
      "        print \"~~~~~~~~~~~~~~~~~~~~\"\n",
      "        print \"Error in %s\" % one_stock_id \n",
      "        print e\n",
      "        print \"~~~~~~~~~~~~~~~~~~~~\"\n",
      "        \n",
      "print total_df.shape    \n"
     ],
     "language": "python",
     "metadata": {
      "slideshow": {
       "slide_type": "subslide"
      }
     },
     "outputs": [
      {
       "output_type": "stream",
       "stream": "stdout",
       "text": [
        "(1500, 6)\n"
       ]
      }
     ],
     "prompt_number": 80
    },
    {
     "cell_type": "code",
     "collapsed": false,
     "input": [
      "total_df.head(20)"
     ],
     "language": "python",
     "metadata": {
      "slideshow": {
       "slide_type": "subslide"
      }
     },
     "outputs": [
      {
       "html": [
        "<div style=\"max-height:1000px;max-width:1500px;overflow:auto;\">\n",
        "<table border=\"1\" class=\"dataframe\">\n",
        "  <thead>\n",
        "    <tr style=\"text-align: right;\">\n",
        "      <th></th>\n",
        "      <th>Date</th>\n",
        "      <th>Stock_id</th>\n",
        "      <th>Name</th>\n",
        "      <th>Buy</th>\n",
        "      <th>Sell</th>\n",
        "      <th>Net</th>\n",
        "    </tr>\n",
        "  </thead>\n",
        "  <tbody>\n",
        "    <tr>\n",
        "      <th>0 </th>\n",
        "      <td> 2014-01-17</td>\n",
        "      <td> 1101</td>\n",
        "      <td>   \u5143\u5927\u5bf6\u4f86</td>\n",
        "      <td> 1558</td>\n",
        "      <td>  487</td>\n",
        "      <td> 1071</td>\n",
        "    </tr>\n",
        "    <tr>\n",
        "      <th>1 </th>\n",
        "      <td> 2014-01-17</td>\n",
        "      <td> 1101</td>\n",
        "      <td>   \u5b8f\u9060\u8b49\u5238</td>\n",
        "      <td> 1004</td>\n",
        "      <td>    0</td>\n",
        "      <td> 1004</td>\n",
        "    </tr>\n",
        "    <tr>\n",
        "      <th>2 </th>\n",
        "      <td> 2014-01-17</td>\n",
        "      <td> 1101</td>\n",
        "      <td>   \u5927\u548c\u570b\u6cf0</td>\n",
        "      <td> 1000</td>\n",
        "      <td>    0</td>\n",
        "      <td> 1000</td>\n",
        "    </tr>\n",
        "    <tr>\n",
        "      <th>3 </th>\n",
        "      <td> 2014-01-17</td>\n",
        "      <td> 1101</td>\n",
        "      <td>   \u4e2d\u4fe1\u9280\u8b49</td>\n",
        "      <td> 1000</td>\n",
        "      <td>   16</td>\n",
        "      <td>  984</td>\n",
        "    </tr>\n",
        "    <tr>\n",
        "      <th>4 </th>\n",
        "      <td> 2014-01-17</td>\n",
        "      <td> 1101</td>\n",
        "      <td>   \u83ef\u5357\u6c38\u660c</td>\n",
        "      <td>  961</td>\n",
        "      <td>    5</td>\n",
        "      <td>  956</td>\n",
        "    </tr>\n",
        "    <tr>\n",
        "      <th>5 </th>\n",
        "      <td> 2014-01-17</td>\n",
        "      <td> 1101</td>\n",
        "      <td>     \u6c38\u8208</td>\n",
        "      <td>  805</td>\n",
        "      <td>    0</td>\n",
        "      <td>  805</td>\n",
        "    </tr>\n",
        "    <tr>\n",
        "      <th>6 </th>\n",
        "      <td> 2014-01-17</td>\n",
        "      <td> 1101</td>\n",
        "      <td>   \u5146\u8c50\u8b49\u5238</td>\n",
        "      <td>  766</td>\n",
        "      <td>   14</td>\n",
        "      <td>  752</td>\n",
        "    </tr>\n",
        "    <tr>\n",
        "      <th>7 </th>\n",
        "      <td> 2014-01-17</td>\n",
        "      <td> 1101</td>\n",
        "      <td>   \u570b\u6cf0\u8b49\u5238</td>\n",
        "      <td>  691</td>\n",
        "      <td>    0</td>\n",
        "      <td>  691</td>\n",
        "    </tr>\n",
        "    <tr>\n",
        "      <th>8 </th>\n",
        "      <td> 2014-01-17</td>\n",
        "      <td> 1101</td>\n",
        "      <td>   \u65e5\u76db\u8b49\u5238</td>\n",
        "      <td>  649</td>\n",
        "      <td>   68</td>\n",
        "      <td>  581</td>\n",
        "    </tr>\n",
        "    <tr>\n",
        "      <th>9 </th>\n",
        "      <td> 2014-01-17</td>\n",
        "      <td> 1101</td>\n",
        "      <td>     \u7d71\u4e00</td>\n",
        "      <td>  641</td>\n",
        "      <td>   78</td>\n",
        "      <td>  563</td>\n",
        "    </tr>\n",
        "    <tr>\n",
        "      <th>10</th>\n",
        "      <td> 2014-01-17</td>\n",
        "      <td> 1101</td>\n",
        "      <td>   \u6e2f\u5546\u91ce\u6751</td>\n",
        "      <td>  318</td>\n",
        "      <td>    0</td>\n",
        "      <td>  318</td>\n",
        "    </tr>\n",
        "    <tr>\n",
        "      <th>11</th>\n",
        "      <td> 2014-01-17</td>\n",
        "      <td> 1101</td>\n",
        "      <td>   \u7389\u5c71\u8b49\u5238</td>\n",
        "      <td>  283</td>\n",
        "      <td>   21</td>\n",
        "      <td>  262</td>\n",
        "    </tr>\n",
        "    <tr>\n",
        "      <th>12</th>\n",
        "      <td> 2014-01-17</td>\n",
        "      <td> 1101</td>\n",
        "      <td>  \u6e2f\u5546\u6cd5\u570b\u8208</td>\n",
        "      <td>  317</td>\n",
        "      <td>   89</td>\n",
        "      <td>  228</td>\n",
        "    </tr>\n",
        "    <tr>\n",
        "      <th>13</th>\n",
        "      <td> 2014-01-17</td>\n",
        "      <td> 1101</td>\n",
        "      <td> (\u725b\u725b\u725b)\u4e9e</td>\n",
        "      <td>  100</td>\n",
        "      <td>    0</td>\n",
        "      <td>  100</td>\n",
        "    </tr>\n",
        "    <tr>\n",
        "      <th>14</th>\n",
        "      <td> 2014-01-17</td>\n",
        "      <td> 1101</td>\n",
        "      <td>     \u4e9e\u6771</td>\n",
        "      <td>   92</td>\n",
        "      <td>    5</td>\n",
        "      <td>   87</td>\n",
        "    </tr>\n",
        "    <tr>\n",
        "      <th>15</th>\n",
        "      <td> 2014-01-17</td>\n",
        "      <td> 1101</td>\n",
        "      <td>    \u7b2c\u4e00\u91d1</td>\n",
        "      <td>  485</td>\n",
        "      <td> 2561</td>\n",
        "      <td>-2076</td>\n",
        "    </tr>\n",
        "    <tr>\n",
        "      <th>16</th>\n",
        "      <td> 2014-01-17</td>\n",
        "      <td> 1101</td>\n",
        "      <td>   \u7f8e\u5546\u9ad8\u76db</td>\n",
        "      <td>   33</td>\n",
        "      <td> 1412</td>\n",
        "      <td>-1379</td>\n",
        "    </tr>\n",
        "    <tr>\n",
        "      <th>17</th>\n",
        "      <td> 2014-01-17</td>\n",
        "      <td> 1101</td>\n",
        "      <td>  \u53f0\u7063\u6469\u6839\u58eb</td>\n",
        "      <td> 2941</td>\n",
        "      <td> 4126</td>\n",
        "      <td>-1185</td>\n",
        "    </tr>\n",
        "    <tr>\n",
        "      <th>18</th>\n",
        "      <td> 2014-01-17</td>\n",
        "      <td> 1101</td>\n",
        "      <td>  \u65b0\u52a0\u5761\u5546\u745e</td>\n",
        "      <td>  231</td>\n",
        "      <td> 1295</td>\n",
        "      <td>-1064</td>\n",
        "    </tr>\n",
        "    <tr>\n",
        "      <th>19</th>\n",
        "      <td> 2014-01-17</td>\n",
        "      <td> 1101</td>\n",
        "      <td>  \u6e2f\u5546\u9ea5\u683c\u91cc</td>\n",
        "      <td>  102</td>\n",
        "      <td>  684</td>\n",
        "      <td> -582</td>\n",
        "    </tr>\n",
        "  </tbody>\n",
        "</table>\n",
        "</div>"
       ],
       "metadata": {},
       "output_type": "pyout",
       "prompt_number": 82,
       "text": [
        "          Date Stock_id    Name   Buy  Sell   Net\n",
        "0   2014-01-17     1101    \u5143\u5927\u5bf6\u4f86  1558   487  1071\n",
        "1   2014-01-17     1101    \u5b8f\u9060\u8b49\u5238  1004     0  1004\n",
        "2   2014-01-17     1101    \u5927\u548c\u570b\u6cf0  1000     0  1000\n",
        "3   2014-01-17     1101    \u4e2d\u4fe1\u9280\u8b49  1000    16   984\n",
        "4   2014-01-17     1101    \u83ef\u5357\u6c38\u660c   961     5   956\n",
        "5   2014-01-17     1101      \u6c38\u8208   805     0   805\n",
        "6   2014-01-17     1101    \u5146\u8c50\u8b49\u5238   766    14   752\n",
        "7   2014-01-17     1101    \u570b\u6cf0\u8b49\u5238   691     0   691\n",
        "8   2014-01-17     1101    \u65e5\u76db\u8b49\u5238   649    68   581\n",
        "9   2014-01-17     1101      \u7d71\u4e00   641    78   563\n",
        "10  2014-01-17     1101    \u6e2f\u5546\u91ce\u6751   318     0   318\n",
        "11  2014-01-17     1101    \u7389\u5c71\u8b49\u5238   283    21   262\n",
        "12  2014-01-17     1101   \u6e2f\u5546\u6cd5\u570b\u8208   317    89   228\n",
        "13  2014-01-17     1101  (\u725b\u725b\u725b)\u4e9e   100     0   100\n",
        "14  2014-01-17     1101      \u4e9e\u6771    92     5    87\n",
        "15  2014-01-17     1101     \u7b2c\u4e00\u91d1   485  2561 -2076\n",
        "16  2014-01-17     1101    \u7f8e\u5546\u9ad8\u76db    33  1412 -1379\n",
        "17  2014-01-17     1101   \u53f0\u7063\u6469\u6839\u58eb  2941  4126 -1185\n",
        "18  2014-01-17     1101   \u65b0\u52a0\u5761\u5546\u745e   231  1295 -1064\n",
        "19  2014-01-17     1101   \u6e2f\u5546\u9ea5\u683c\u91cc   102   684  -582"
       ]
      }
     ],
     "prompt_number": 82
    },
    {
     "cell_type": "code",
     "collapsed": false,
     "input": [
      "total_df.to_csv(\"stock_major_info.csv\",encoding=\"utf8\",index=None)\n",
      "total_df.groupby(\"Name\")[\"Buy\",\"Sell\",\"Net\"].sum().sort(\"Buy\",ascending=False).head(20)"
     ],
     "language": "python",
     "metadata": {
      "slideshow": {
       "slide_type": "subslide"
      }
     },
     "outputs": [
      {
       "html": [
        "<div style=\"max-height:1000px;max-width:1500px;overflow:auto;\">\n",
        "<table border=\"1\" class=\"dataframe\">\n",
        "  <thead>\n",
        "    <tr style=\"text-align: right;\">\n",
        "      <th></th>\n",
        "      <th>Buy</th>\n",
        "      <th>Sell</th>\n",
        "      <th>Net</th>\n",
        "    </tr>\n",
        "    <tr>\n",
        "      <th>Name</th>\n",
        "      <th></th>\n",
        "      <th></th>\n",
        "      <th></th>\n",
        "    </tr>\n",
        "  </thead>\n",
        "  <tbody>\n",
        "    <tr>\n",
        "      <th>\u5143\u5927\u5bf6\u4f86</th>\n",
        "      <td> 10799</td>\n",
        "      <td> 8530</td>\n",
        "      <td> 2269</td>\n",
        "    </tr>\n",
        "    <tr>\n",
        "      <th>\u51f1\u57fa\u8b49\u5238</th>\n",
        "      <td>  7205</td>\n",
        "      <td> 7375</td>\n",
        "      <td> -170</td>\n",
        "    </tr>\n",
        "    <tr>\n",
        "      <th>\u83ef\u5357\u6c38\u660c</th>\n",
        "      <td>  5980</td>\n",
        "      <td> 3662</td>\n",
        "      <td> 2318</td>\n",
        "    </tr>\n",
        "    <tr>\n",
        "      <th>\u5bcc\u90a6\u8b49\u5238</th>\n",
        "      <td>  4087</td>\n",
        "      <td> 2700</td>\n",
        "      <td> 1387</td>\n",
        "    </tr>\n",
        "    <tr>\n",
        "      <th>\u6c38\u8c50\u91d1\u8b49\u5238</th>\n",
        "      <td>  3761</td>\n",
        "      <td> 3382</td>\n",
        "      <td>  379</td>\n",
        "    </tr>\n",
        "    <tr>\n",
        "      <th>\u53f0\u7063\u6469\u6839\u58eb</th>\n",
        "      <td>  3487</td>\n",
        "      <td> 6213</td>\n",
        "      <td>-2726</td>\n",
        "    </tr>\n",
        "    <tr>\n",
        "      <th>\u5143\u5bcc</th>\n",
        "      <td>  3291</td>\n",
        "      <td> 4116</td>\n",
        "      <td> -825</td>\n",
        "    </tr>\n",
        "    <tr>\n",
        "      <th>\u5146\u8c50\u8b49\u5238</th>\n",
        "      <td>  2829</td>\n",
        "      <td> 1239</td>\n",
        "      <td> 1590</td>\n",
        "    </tr>\n",
        "    <tr>\n",
        "      <th>\u745e\u58eb\u4fe1\u8cb8</th>\n",
        "      <td>  2753</td>\n",
        "      <td> 5081</td>\n",
        "      <td>-2328</td>\n",
        "    </tr>\n",
        "    <tr>\n",
        "      <th>\u7fa4\u76ca\u91d1\u9f0e</th>\n",
        "      <td>  2691</td>\n",
        "      <td> 2854</td>\n",
        "      <td> -163</td>\n",
        "    </tr>\n",
        "    <tr>\n",
        "      <th>\u7d71\u4e00</th>\n",
        "      <td>  2184</td>\n",
        "      <td> 1615</td>\n",
        "      <td>  569</td>\n",
        "    </tr>\n",
        "    <tr>\n",
        "      <th>\u81fa\u9280</th>\n",
        "      <td>  2173</td>\n",
        "      <td>  354</td>\n",
        "      <td> 1819</td>\n",
        "    </tr>\n",
        "    <tr>\n",
        "      <th>\u65e5\u76db\u8b49\u5238</th>\n",
        "      <td>  2092</td>\n",
        "      <td> 1594</td>\n",
        "      <td>  498</td>\n",
        "    </tr>\n",
        "    <tr>\n",
        "      <th>\u570b\u7968\u8b49\u5238</th>\n",
        "      <td>  2066</td>\n",
        "      <td> 1519</td>\n",
        "      <td>  547</td>\n",
        "    </tr>\n",
        "    <tr>\n",
        "      <th>\u7b2c\u4e00\u91d1</th>\n",
        "      <td>  1604</td>\n",
        "      <td> 5006</td>\n",
        "      <td>-3402</td>\n",
        "    </tr>\n",
        "    <tr>\n",
        "      <th>\u5b8f\u9060\u8b49\u5238</th>\n",
        "      <td>  1321</td>\n",
        "      <td>  215</td>\n",
        "      <td> 1106</td>\n",
        "    </tr>\n",
        "    <tr>\n",
        "      <th>\u570b\u6cf0\u8b49\u5238</th>\n",
        "      <td>  1273</td>\n",
        "      <td>  636</td>\n",
        "      <td>  637</td>\n",
        "    </tr>\n",
        "    <tr>\n",
        "      <th>\u5927\u548c\u570b\u6cf0</th>\n",
        "      <td>  1268</td>\n",
        "      <td>  280</td>\n",
        "      <td>  988</td>\n",
        "    </tr>\n",
        "    <tr>\n",
        "      <th>\u7f8e\u5546\u9ad8\u76db</th>\n",
        "      <td>  1233</td>\n",
        "      <td> 3007</td>\n",
        "      <td>-1774</td>\n",
        "    </tr>\n",
        "    <tr>\n",
        "      <th>\u7389\u5c71\u8b49\u5238</th>\n",
        "      <td>  1207</td>\n",
        "      <td>  470</td>\n",
        "      <td>  737</td>\n",
        "    </tr>\n",
        "  </tbody>\n",
        "</table>\n",
        "</div>"
       ],
       "metadata": {},
       "output_type": "pyout",
       "prompt_number": 83,
       "text": [
        "         Buy  Sell   Net\n",
        "Name                    \n",
        "\u5143\u5927\u5bf6\u4f86   10799  8530  2269\n",
        "\u51f1\u57fa\u8b49\u5238    7205  7375  -170\n",
        "\u83ef\u5357\u6c38\u660c    5980  3662  2318\n",
        "\u5bcc\u90a6\u8b49\u5238    4087  2700  1387\n",
        "\u6c38\u8c50\u91d1\u8b49\u5238   3761  3382   379\n",
        "\u53f0\u7063\u6469\u6839\u58eb   3487  6213 -2726\n",
        "\u5143\u5bcc      3291  4116  -825\n",
        "\u5146\u8c50\u8b49\u5238    2829  1239  1590\n",
        "\u745e\u58eb\u4fe1\u8cb8    2753  5081 -2328\n",
        "\u7fa4\u76ca\u91d1\u9f0e    2691  2854  -163\n",
        "\u7d71\u4e00      2184  1615   569\n",
        "\u81fa\u9280      2173   354  1819\n",
        "\u65e5\u76db\u8b49\u5238    2092  1594   498\n",
        "\u570b\u7968\u8b49\u5238    2066  1519   547\n",
        "\u7b2c\u4e00\u91d1     1604  5006 -3402\n",
        "\u5b8f\u9060\u8b49\u5238    1321   215  1106\n",
        "\u570b\u6cf0\u8b49\u5238    1273   636   637\n",
        "\u5927\u548c\u570b\u6cf0    1268   280   988\n",
        "\u7f8e\u5546\u9ad8\u76db    1233  3007 -1774\n",
        "\u7389\u5c71\u8b49\u5238    1207   470   737"
       ]
      }
     ],
     "prompt_number": 83
    },
    {
     "cell_type": "markdown",
     "metadata": {
      "slideshow": {
       "slide_type": "subslide"
      }
     },
     "source": [
      "# \u5c07\u8cc7\u6599\u5beb\u5165 sqlite\uff1a"
     ]
    },
    {
     "cell_type": "code",
     "collapsed": false,
     "input": [
      "import sqlite3\n",
      "conn = sqlite3.connect('nccu_mldm_course.db')\n",
      "total_df.to_sql(name = \"stock_major\", con=conn, if_exists=\"replace\")"
     ],
     "language": "python",
     "metadata": {},
     "outputs": [],
     "prompt_number": 85
    },
    {
     "cell_type": "markdown",
     "metadata": {
      "slideshow": {
       "slide_type": "subslide"
      }
     },
     "source": [
      "# [Example 2] \u89e3\u6cd5\u3127 \u5b78\u7fd2\u76ee\u6a19\uff1a\n",
      "\n",
      "- ## [Connector] \u4f7f\u7528 POST method \u9023\u7dda\n",
      "- ## [Parser] \u4f7f\u7528 pandas.read_html \u8b80\u53d6 table\n",
      "- ## [Data Center] Hello sqlite3!"
     ]
    },
    {
     "cell_type": "markdown",
     "metadata": {
      "slideshow": {
       "slide_type": "fragment"
      }
     },
     "source": [
      "# [Example 2 ] \u89e3\u6cd5\u3127 PageParser \u4f7f\u7528\u6280\u8853\uff1a\n",
      "\n",
      "- ## [Connector] requests.post\n",
      "- ## [Parser] pandas.read_html / numpy.array.tolist()\n",
      "- ## [Data Center] DataFrame.to_csv / sqlite3 / DataFrame.to_sql\n",
      "- ## [Analysis] DataFrame.groupby / sum / sort"
     ]
    },
    {
     "cell_type": "markdown",
     "metadata": {
      "slideshow": {
       "slide_type": "subslide"
      }
     },
     "source": [
      "# [Example 2] Exercise\uff1a\n",
      "\n",
      "- ## [Data Science] \u60f3\u60f3\u8cc7\u6599\u53ef\u4ee5\u5982\u4f55\u4f7f\u7528\uff1f \u8981\u554f\u8cc7\u6599\u54ea\u4e9b\u554f\u984c\u5462\uff1f\n",
      "- ## [Data Science] \u8981\u5982\u4f55\u56de\u7b54\u524d\u8ff0\u7684\u554f\u984c\u5462\uff1f \u9700\u8981\u54ea\u4e9b\u6750\u6599\uff1f \u53ef\u80fd\u9700\u8981\u54ea\u4e9b\u6280\u8853\uff1f\n",
      "- ## [Data Center] \u7df4\u7fd2\u5728 sqlite3 \u4e2d\u4e0b\u9054 SQL \u6307\u4ee4\u4f5c\u7c21\u55ae\u7684 GroupBy and Data Aggregation"
     ]
    },
    {
     "cell_type": "markdown",
     "metadata": {
      "slideshow": {
       "slide_type": "subslide"
      }
     },
     "source": [
      "# [Example 2] \u89e3\u6cd5\u4e8c CSV File Download\uff1a"
     ]
    },
    {
     "cell_type": "code",
     "collapsed": false,
     "input": [
      "import requests\n",
      "import pandas as pd\n",
      "import numpy as np\n",
      "import datetime\n",
      "from pyquery import PyQuery"
     ],
     "language": "python",
     "metadata": {},
     "outputs": []
    },
    {
     "cell_type": "code",
     "collapsed": false,
     "input": [
      "now_time = datetime.datetime.now()\n",
      "dw_filename = now_time.strftime(\"t51sb01_%Y%m%d_%H%M%S565.csv\")"
     ],
     "language": "python",
     "metadata": {},
     "outputs": []
    },
    {
     "cell_type": "code",
     "collapsed": false,
     "input": [
      "req_data = {\n",
      "\t\"encodeURIComponent\":1,\n",
      "\t\"step\":1,\n",
      "\t\"firstin\":1,\n",
      "\t\"TYPEK\":\"sii\",\n",
      "\t\"code\":\"\"\n",
      "}\n",
      "\n",
      "\n",
      "res1 = requests.post(\"http://mops.twse.com.tw/mops/web/ajax_t51sb01\",data = req_data)"
     ],
     "language": "python",
     "metadata": {},
     "outputs": []
    },
    {
     "cell_type": "code",
     "collapsed": false,
     "input": [
      "S = PyQuery(res1.text)\n",
      "dw_filename = S('input[name=\"filename\"]').map(lambda :PyQuery(this).val())[0]\n",
      "print \"dw_filename = \",dw_filename"
     ],
     "language": "python",
     "metadata": {
      "slideshow": {
       "slide_type": "subslide"
      }
     },
     "outputs": []
    },
    {
     "cell_type": "code",
     "collapsed": false,
     "input": [
      "req_data = {\n",
      "\"firstin\":\"true\",\n",
      "\"step\":\"10\",\n",
      "\"filename\":dw_filename #\"t51sb01_20140113_040331565.csv\"\n",
      "}\n",
      "\n",
      "\n",
      "r = requests.post(\"http://mops.twse.com.tw/server-java/t105sb02\",data = req_data)\n",
      "r.encoding = \"big5\"\n",
      "print r.encoding"
     ],
     "language": "python",
     "metadata": {
      "slideshow": {
       "slide_type": "subslide"
      }
     },
     "outputs": []
    },
    {
     "cell_type": "code",
     "collapsed": false,
     "input": [
      "print r.text"
     ],
     "language": "python",
     "metadata": {
      "slideshow": {
       "slide_type": "subslide"
      }
     },
     "outputs": []
    },
    {
     "cell_type": "markdown",
     "metadata": {
      "slideshow": {
       "slide_type": "subslide"
      }
     },
     "source": [
      "# Saving requests output as a File:"
     ]
    },
    {
     "cell_type": "code",
     "collapsed": false,
     "input": [
      "# with open(\"stock_ids.csv\", 'wb') as f:\n",
      "#     for chunk in r.iter_content(chunk_size=1024): \n",
      "#         if chunk: # filter out keep-alive new chunks\n",
      "#             f.write(chunk)\n",
      "#             f.flush()\n",
      "\n",
      "f = open(\"stock_ids.csv\", 'wb')\n",
      "for chunk in r.iter_content(chunk_size=512 * 1024): \n",
      "    if chunk: # filter out keep-alive new chunks\n",
      "        f.write(chunk)\n",
      "f.close()"
     ],
     "language": "python",
     "metadata": {},
     "outputs": []
    },
    {
     "cell_type": "markdown",
     "metadata": {
      "slideshow": {
       "slide_type": "subslide"
      }
     },
     "source": [
      "# \u932f\u4f4d\u5143\u5147:"
     ]
    },
    {
     "cell_type": "code",
     "collapsed": false,
     "input": [
      "r.text.split(\"\\n\")[0]\n",
      "csv_data_list = map(lambda xx:xx.split(\",\"),r.text.split(\"\\n\"))\n",
      "len(csv_data_list)\n",
      "#map(len,csv_data_list)\n",
      "print csv_data_list[13][12]\n",
      "print csv_data_list[14][12]"
     ],
     "language": "python",
     "metadata": {},
     "outputs": []
    },
    {
     "cell_type": "markdown",
     "metadata": {
      "slideshow": {
       "slide_type": "subslide"
      }
     },
     "source": [
      "# \u6709\u807d\u8aaa\u53f0\u7063\u653f\u5e9c\u7684 CSV \u90fd\u8ddf\u5225\u4eba\u9577\u7684\u4e0d\u592a\u4e00\u6a23 ..."
     ]
    },
    {
     "cell_type": "code",
     "collapsed": false,
     "input": [
      "from StringIO import StringIO\n",
      "test_df = pd.read_csv(StringIO(r.text))"
     ],
     "language": "python",
     "metadata": {},
     "outputs": []
    },
    {
     "cell_type": "markdown",
     "metadata": {
      "slideshow": {
       "slide_type": "subslide"
      }
     },
     "source": [
      "# [Example 2] \u89e3\u6cd5\u4e8c CSV File Download \u4f7f\u7528\u6280\u8853\uff1a\n",
      "\n",
      "- ## [Connector] requests.post\n",
      "- ## [Parser] pyquery.PyQuery\n",
      "\n",
      "# [Exercise]\n",
      "\n",
      "- ## \u63a5\u7e8c\u8655\u7406\u6536\u5230\u7684 CSV \u5b57\u4e32\uff0c\u5c07\u5b57\u4e32\u8f49\u6210 dataframe\uff0c\u4e26\u5b58\u6a94\n"
     ]
    },
    {
     "cell_type": "markdown",
     "metadata": {
      "slideshow": {
       "slide_type": "slide"
      }
     },
     "source": [
      "# [Example 3] \u6293\u76f8\u7c3f\uff1a\n",
      "\n",
      "[![Web_isuphoto](Lec2_slide_imgs/Web_isuphoto.png)](http://pi.isuphoto.org/uei)"
     ]
    },
    {
     "cell_type": "markdown",
     "metadata": {
      "slideshow": {
       "slide_type": "subslide"
      }
     },
     "source": [
      "# [Example 3] \u63a2\u7d22 API \u898f\u5247\uff1a\n",
      "\n",
      "- ## \u5f9e Network \u9023\u7dda\u4e2d\u5c0b\u627e\uff1a\n",
      "    * ### http://pi.isuphoto.org/api/user/uei?callback=jQuery17204146709479391575_1389762662770&page=0&_=1389762662792\n",
      "    * ### \u898f\u5247 /api/user/{{USER}}?callback=jQuery17204146709479391575_1389762662770&page={{Page_N}}&_=1389762662792\n",
      "    \n",
      "\n",
      "- ## \u5f9e Source Code \u4e2d\u5c0b\u627e\uff1a\n",
      "    * ### http://pi.isuphoto.org/api/user/uei?page=0\n",
      "    * ### \u898f\u5247 /api/user/{{USER}}?page={{Page_N}}"
     ]
    },
    {
     "cell_type": "markdown",
     "metadata": {
      "slideshow": {
       "slide_type": "subslide"
      }
     },
     "source": [
      "# [Example 3] \u6293\u76f8\u7c3f\uff1a"
     ]
    },
    {
     "cell_type": "code",
     "collapsed": false,
     "input": [
      "import requests"
     ],
     "language": "python",
     "metadata": {},
     "outputs": []
    },
    {
     "cell_type": "code",
     "collapsed": false,
     "input": [
      "r = requests.get(\"http://pi.isuphoto.org/api/user/uei?page=0\")\n",
      "print r.text"
     ],
     "language": "python",
     "metadata": {},
     "outputs": []
    },
    {
     "cell_type": "markdown",
     "metadata": {
      "slideshow": {
       "slide_type": "subslide"
      }
     },
     "source": [
      "# \u88dc\u5145\uff1a JSON V.S. JSONP\n",
      "\n",
      "![](Lec2_slide_imgs/jsonp_pic3.png)\n"
     ]
    },
    {
     "cell_type": "markdown",
     "metadata": {
      "slideshow": {
       "slide_type": "subslide"
      }
     },
     "source": [
      "# \u88dc\u5145\uff1a JSON V.S. JSONP\n",
      "\n",
      "![](Lec2_slide_imgs/jsonp_pic1.png)\n"
     ]
    },
    {
     "cell_type": "markdown",
     "metadata": {
      "slideshow": {
       "slide_type": "subslide"
      }
     },
     "source": [
      "# \u88dc\u5145\uff1a JSON V.S. JSONP\n",
      "\n",
      "![](Lec2_slide_imgs/jsonp_pic2.png)\n"
     ]
    },
    {
     "cell_type": "markdown",
     "metadata": {
      "slideshow": {
       "slide_type": "subslide"
      }
     },
     "source": [
      "# [Example 3] \u4f7f\u7528 re \u6a21\u7d44 parse jsonp\uff1a"
     ]
    },
    {
     "cell_type": "code",
     "collapsed": false,
     "input": [
      "import re"
     ],
     "language": "python",
     "metadata": {},
     "outputs": []
    },
    {
     "cell_type": "code",
     "collapsed": false,
     "input": [
      "re_search_result = re.search(r\"(?P<jsonp_fn>[^(]*)\\((?P<json_data>\\[[^]]+\\])\\)\",r.text)"
     ],
     "language": "python",
     "metadata": {},
     "outputs": []
    },
    {
     "cell_type": "code",
     "collapsed": false,
     "input": [
      "print dir(re_search_result)"
     ],
     "language": "python",
     "metadata": {},
     "outputs": []
    },
    {
     "cell_type": "code",
     "collapsed": false,
     "input": [
      "re_search_result.groupdict()"
     ],
     "language": "python",
     "metadata": {
      "slideshow": {
       "slide_type": "subslide"
      }
     },
     "outputs": []
    },
    {
     "cell_type": "markdown",
     "metadata": {
      "slideshow": {
       "slide_type": "subslide"
      }
     },
     "source": [
      "# \u62ff\u5230 json_data"
     ]
    },
    {
     "cell_type": "code",
     "collapsed": false,
     "input": [
      "json_data_str = re_search_result.groupdict()[\"json_data\"]\n",
      "json_data = eval(json_data_str)\n",
      "json_data[:3]"
     ],
     "language": "python",
     "metadata": {
      "slideshow": {
       "slide_type": "-"
      }
     },
     "outputs": []
    },
    {
     "cell_type": "markdown",
     "metadata": {
      "slideshow": {
       "slide_type": "subslide"
      }
     },
     "source": [
      "# \u585e\u9032 MongoDB"
     ]
    },
    {
     "cell_type": "code",
     "collapsed": false,
     "input": [
      "from pymongo import MongoClient\n",
      "mongo_client = MongoClient()\n",
      "nccu_mldm_course_db = mongo_client.nccu_mldm_course_db\n",
      "isuphoto_col = nccu_mldm_course_db.isuphoto_col"
     ],
     "language": "python",
     "metadata": {},
     "outputs": []
    },
    {
     "cell_type": "code",
     "collapsed": false,
     "input": [
      "isuphoto_col.drop()\n",
      "isuphoto_col.insert(json_data)"
     ],
     "language": "python",
     "metadata": {},
     "outputs": []
    },
    {
     "cell_type": "markdown",
     "metadata": {
      "slideshow": {
       "slide_type": "subslide"
      }
     },
     "source": [
      "# \u67e5\u8a62 MongoDB"
     ]
    },
    {
     "cell_type": "code",
     "collapsed": false,
     "input": [
      "list(isuphoto_col.find())[:3]"
     ],
     "language": "python",
     "metadata": {},
     "outputs": []
    },
    {
     "cell_type": "markdown",
     "metadata": {
      "slideshow": {
       "slide_type": "subslide"
      }
     },
     "source": [
      "# \u4f7f\u7528 read_json \u8f49\u6210 DataFrame"
     ]
    },
    {
     "cell_type": "code",
     "collapsed": false,
     "input": [
      "import ujson\n",
      "json_data_df = pd.read_json(ujson.dumps(json_data))\n",
      "json_data_df"
     ],
     "language": "python",
     "metadata": {
      "slideshow": {
       "slide_type": "-"
      }
     },
     "outputs": []
    },
    {
     "cell_type": "markdown",
     "metadata": {
      "slideshow": {
       "slide_type": "subslide"
      }
     },
     "source": [
      "# \u4f7f\u7528 read_json \u8f49\u6210 DataFrame"
     ]
    },
    {
     "cell_type": "code",
     "collapsed": false,
     "input": [
      "from pyquery import PyQuery\n",
      "json_data_df[\"pic\"] = json_data_df[\"pic\"].apply(lambda xx:PyQuery(xx)(\"img\").attr(\"src\"))\n",
      "json_data_df[\"coll\"] = json_data_df[\"coll\"].apply(lambda xx:PyQuery(xx).text())\n",
      "json_data_df[\"loc\"] = json_data_df[\"loc\"].apply(lambda xx:PyQuery(xx)(\"a\").attr(\"href\") if len(xx)>0 else xx)\n",
      "#json_data_df[\"cc_class\"] = json_data_df[\"cc\"].apply(lambda xx:PyQuery(xx)(\"i\").attr(\"class\"))\n",
      "json_data_df"
     ],
     "language": "python",
     "metadata": {
      "slideshow": {
       "slide_type": "-"
      }
     },
     "outputs": []
    },
    {
     "cell_type": "markdown",
     "metadata": {
      "slideshow": {
       "slide_type": "subslide"
      }
     },
     "source": [
      "# Put Them Together\uff1a"
     ]
    },
    {
     "cell_type": "code",
     "collapsed": false,
     "input": [
      "isuphoto_col.drop()\n",
      "isuphoto_api_url_gen = lambda user_id, page_n: \"http://pi.isuphoto.org/api/user/%s?page=%s\" % (str(user_id),int(page_n))\n",
      "\n",
      "page_count = 0\n",
      "cont_connect = True\n",
      "while cont_connect:\n",
      "    try:\n",
      "        web_url = isuphoto_api_url_gen(\"uei\",page_count)\n",
      "        r = requests.get(web_url)\n",
      "        re_search_result = re.search(r\"(?P<jsonp_fn>[^(]*)\\((?P<json_data>\\[[^]]+\\])\\)\",r.text)\n",
      "        if re_search_result != None:\n",
      "            json_data_str = re_search_result.groupdict()[\"json_data\"]\n",
      "            json_data = eval(json_data_str)\n",
      "            isuphoto_col.insert(json_data)\n",
      "            page_count = page_count + 1\n",
      "            print \"[HAS_DATA]\",web_url\n",
      "        else:\n",
      "            cont_connect = False\n",
      "            print \"[No_DATA]\",web_url\n",
      "    except:\n",
      "        cont_connect = False\n",
      "        \n",
      "    \n"
     ],
     "language": "python",
     "metadata": {},
     "outputs": []
    },
    {
     "cell_type": "markdown",
     "metadata": {
      "slideshow": {
       "slide_type": "subslide"
      }
     },
     "source": [
      "# \u6293\u6293\u770b\u5176\u4ed6\u4f5c\u8005\uff1a"
     ]
    },
    {
     "cell_type": "code",
     "collapsed": false,
     "input": [
      "page_count = 0\n",
      "cont_connect = True\n",
      "\n",
      "while cont_connect:\n",
      "    try:\n",
      "        web_url = isuphoto_api_url_gen(\"toomore\",page_count)\n",
      "        r = requests.get(web_url)\n",
      "        re_search_result = re.search(r\"(?P<jsonp_fn>[^(]*)\\((?P<json_data>\\[[^]]+\\])\\)\",r.text)\n",
      "        if re_search_result != None:\n",
      "            json_data_str = re_search_result.groupdict()[\"json_data\"]\n",
      "            json_data = eval(json_data_str)\n",
      "            isuphoto_col.insert(json_data)\n",
      "            page_count = page_count + 1\n",
      "            print \"[HAS_DATA]\",web_url\n",
      "        else:\n",
      "            cont_connect = False\n",
      "            print \"[No_DATA]\",web_url\n",
      "    except:\n",
      "        cont_connect = False\n"
     ],
     "language": "python",
     "metadata": {},
     "outputs": []
    },
    {
     "cell_type": "markdown",
     "metadata": {
      "slideshow": {
       "slide_type": "subslide"
      }
     },
     "source": [
      "# [Example 3] \u5b78\u7fd2\u76ee\u6a19\uff1a\n",
      "\n",
      "- ## [Connector] \u4f7f\u7528 POST method \u9023\u7dda\n",
      "- ## [Parser] \u4f7f\u7528 regx \u89e3\u6790\u5b57\u4e32 / \u4f7f\u7528 PyQuery \u89e3\u6790 XML or HTML\n",
      "- ## [Data Center] Hello MongoDB!\n",
      "\n"
     ]
    },
    {
     "cell_type": "markdown",
     "metadata": {
      "slideshow": {
       "slide_type": "fragment"
      }
     },
     "source": [
      "# [Example 3] \u4f7f\u7528\u6280\u8853\uff1a\n",
      "\n",
      "- ## [Connector] requests.post\n",
      "- ## [Parser] pyquery.PyQuery / re.search / eval / ujson / DataFrame\n",
      "- ## [Data Center] pymongo\n",
      "\n"
     ]
    },
    {
     "cell_type": "markdown",
     "metadata": {
      "slideshow": {
       "slide_type": "subslide"
      }
     },
     "source": [
      "# [Example 3] Homeworks\uff1a\n",
      "\n",
      "- ## [Data Science] \u60f3\u60f3\u8cc7\u6599\u53ef\u4ee5\u5982\u4f55\u4f7f\u7528\uff1f \u8981\u554f\u8cc7\u6599\u54ea\u4e9b\u554f\u984c\u5462\uff1f\n",
      "- ## [Data Science] \u8981\u5982\u4f55\u56de\u7b54\u524d\u8ff0\u7684\u554f\u984c\u5462\uff1f \u9700\u8981\u54ea\u4e9b\u6750\u6599\uff1f \u53ef\u80fd\u9700\u8981\u54ea\u4e9b\u6280\u8853\uff1f\n",
      "- ## [Parser] [PCHome \u591a\u898f\u683c\u5546\u54c1\u9801](http://shopping.pchome.com.tw/DGALKS-A75900522)\n",
      "    * ## \u8acb\u4f7f\u7528 re \u6a21\u7d44\uff0c\u6293\u51fa\u4e0d\u540c\u984f\u8272\u7684\uff1a\u5eab\u5b58\u6578\u91cf\uff0c\u76f8\u7247\u7db2\u5740 ... \n",
      "- ## [Parser & Data Center] \u7df4\u7fd2\u5728 MongoDB \u4e2d, \u4f5c Cleaning Data \u7684\u52d5\u4f5c \n",
      "- ## [Data Center] \u7df4\u7fd2\u5728 MongoDB \u4e2d\u4f5c Data Aggregation & MapReducce\n",
      "\n"
     ]
    },
    {
     "cell_type": "markdown",
     "metadata": {
      "slideshow": {
       "slide_type": "slide"
      }
     },
     "source": [
      "# [Example 4] \u6293\u671f\u8ca8\u4ea4\u6613\u6240\u8cc7\u6599\uff1a\n",
      "\n",
      "[![](Lec2_slide_imgs/Web_Taifex.png)](http://www.taifex.com.tw/eng/eng3/eng3_2.asp)"
     ]
    },
    {
     "cell_type": "code",
     "collapsed": false,
     "input": [
      "import requests\n",
      "r = requests.get(\"http://www.taifex.com.tw/eng/eng3/eng3_2dl.asp?COMMODITY_ID=all&DATA_DATE=2013/03/01&DATA_DATE1=2013/03/05\")"
     ],
     "language": "python",
     "metadata": {
      "slideshow": {
       "slide_type": "subslide"
      }
     },
     "outputs": []
    },
    {
     "cell_type": "code",
     "collapsed": false,
     "input": [
      "r.history"
     ],
     "language": "python",
     "metadata": {
      "slideshow": {
       "slide_type": "fragment"
      }
     },
     "outputs": []
    },
    {
     "cell_type": "code",
     "collapsed": false,
     "input": [
      "f = open(\"taifex_future_data.csv\", 'wb')\n",
      "for chunk in r.iter_content(chunk_size=512 * 1024): \n",
      "    if chunk: # filter out keep-alive new chunks\n",
      "        f.write(chunk)\n",
      "f.close()"
     ],
     "language": "python",
     "metadata": {
      "slideshow": {
       "slide_type": "fragment"
      }
     },
     "outputs": []
    },
    {
     "cell_type": "code",
     "collapsed": false,
     "input": [
      "r.text"
     ],
     "language": "python",
     "metadata": {
      "slideshow": {
       "slide_type": "subslide"
      }
     },
     "outputs": []
    },
    {
     "cell_type": "code",
     "collapsed": false,
     "input": [
      "from StringIO import StringIO\n",
      "taifex_future_data = pd.read_csv(StringIO(r.text))\n",
      "taifex_future_data.head()"
     ],
     "language": "python",
     "metadata": {
      "slideshow": {
       "slide_type": "subslide"
      }
     },
     "outputs": []
    },
    {
     "cell_type": "markdown",
     "metadata": {
      "slideshow": {
       "slide_type": "subslide"
      }
     },
     "source": [
      "# [Example 4] \u5b78\u7fd2\u76ee\u6a19\uff1a\n",
      "\n",
      "- ## [Connector] \u4f7f\u7528 POST method \u9023\u7dda (\u9700\u8981 Cookie \u4e26\u5177\u6709 redirect \u7684\u7db2\u9801)\n",
      "- ## [Parser] pandas.read_csv\n",
      "\n"
     ]
    },
    {
     "cell_type": "markdown",
     "metadata": {
      "slideshow": {
       "slide_type": "fragment"
      }
     },
     "source": [
      "# [Example 4] \u4f7f\u7528\u6280\u8853\uff1a\n",
      "\n",
      "- ## [Connector] requests.post\n",
      "- ## [Parser] pandas.read_csv\n",
      "\n",
      "\n"
     ]
    },
    {
     "cell_type": "markdown",
     "metadata": {
      "slideshow": {
       "slide_type": "subslide"
      }
     },
     "source": [
      "# [Example 4] Exercise\uff1a\n",
      "\n",
      "- ## [Data Science] \u60f3\u60f3\u8cc7\u6599\u53ef\u4ee5\u5982\u4f55\u4f7f\u7528\uff1f \u8981\u554f\u8cc7\u6599\u54ea\u4e9b\u554f\u984c\u5462\uff1f\n",
      "- ## [Data Science] \u8981\u5982\u4f55\u56de\u7b54\u524d\u8ff0\u7684\u554f\u984c\u5462\uff1f \u9700\u8981\u54ea\u4e9b\u6750\u6599\uff1f \u53ef\u80fd\u9700\u8981\u54ea\u4e9b\u6280\u8853\uff1f\n",
      "- ## [Connector] \u8acb\u4f7f\u7528 urllib, urllib2 \u8a66\u8457\u9023\u7dda\u540c\u4e00\u500b\u7db2\u9801\uff0c\u770b\u770b\u662f\u5426\u80fd\u53d6\u5f97\u8cc7\u6599\uff1f\n",
      "- ## [Parser] Cleaning Data before saving them to DB\n",
      "- ## [Data Center] \u5c07 Data \u5b58\u5165 DB\uff0c\u7df4\u7fd2\u8b80\u53d6\u8207\u5206\u6790"
     ]
    },
    {
     "cell_type": "markdown",
     "metadata": {
      "slideshow": {
       "slide_type": "slide"
      }
     },
     "source": [
      "# [Example 5] \u5167\u653f\u90e8\u5be6\u50f9\u767b\u9304\uff1a\n",
      "\n",
      "[![](Lec2_slide_imgs/Web_lvr_land.png)](http://lvr.land.moi.gov.tw/N11/homePage.action)"
     ]
    },
    {
     "cell_type": "code",
     "collapsed": false,
     "input": [
      "import requests\n",
      "from pyquery import PyQuery\n",
      "s = requests.Session()"
     ],
     "language": "python",
     "metadata": {
      "slideshow": {
       "slide_type": "subslide"
      }
     },
     "outputs": []
    },
    {
     "cell_type": "code",
     "collapsed": false,
     "input": [
      "res1 = s.get(\"http://lvr.land.moi.gov.tw/N11/homePage.action\")"
     ],
     "language": "python",
     "metadata": {},
     "outputs": []
    },
    {
     "cell_type": "markdown",
     "metadata": {
      "slideshow": {
       "slide_type": "subslide"
      }
     },
     "source": [
      "# \u5f8c\u53f0\u767b\u5165 ... \n",
      "\n",
      "![](Lec2_slide_imgs/Web_login.png)"
     ]
    },
    {
     "cell_type": "code",
     "collapsed": false,
     "input": [
      "res2 = s.get(\"http://lvr.land.moi.gov.tw/N11/ImageNumberN13?\")"
     ],
     "language": "python",
     "metadata": {
      "slideshow": {
       "slide_type": "subslide"
      }
     },
     "outputs": []
    },
    {
     "cell_type": "code",
     "collapsed": false,
     "input": [
      "res2.text"
     ],
     "language": "python",
     "metadata": {},
     "outputs": []
    },
    {
     "cell_type": "code",
     "collapsed": false,
     "input": [
      "f = open(\"login_img.jpg\", 'wb')\n",
      "for chunk in res2.iter_content(chunk_size=512 * 1024): \n",
      "    if chunk: # filter out keep-alive new chunks\n",
      "        f.write(chunk)\n",
      "f.close()"
     ],
     "language": "python",
     "metadata": {
      "slideshow": {
       "slide_type": "subslide"
      }
     },
     "outputs": []
    },
    {
     "cell_type": "code",
     "collapsed": false,
     "input": [
      "# import matplotlib.pyplot as plt\n",
      "# img = plt.imread(\"login_img.jpg\")\n",
      "# plt.imshow(img)\n",
      "\n",
      "from IPython.core.display import Image\n",
      "Image(\"login_img.jpg\")"
     ],
     "language": "python",
     "metadata": {
      "slideshow": {
       "slide_type": "fragment"
      }
     },
     "outputs": []
    },
    {
     "cell_type": "code",
     "collapsed": false,
     "input": [
      "login_password = 9945"
     ],
     "language": "python",
     "metadata": {
      "slideshow": {
       "slide_type": "fragment"
      }
     },
     "outputs": []
    },
    {
     "cell_type": "markdown",
     "metadata": {
      "slideshow": {
       "slide_type": "subslide"
      }
     },
     "source": [
      "# \u767b\u5165\u53c3\u6578\n",
      "\n",
      "![](Lec2_slide_imgs/Web_login2.png)"
     ]
    },
    {
     "cell_type": "code",
     "collapsed": false,
     "input": [
      "S = PyQuery(res1.text)\n",
      "post_data = dict(S(\"form input\").map(lambda :(PyQuery(this).attr(\"name\"),PyQuery(this).attr(\"value\"))))\n",
      "post_data"
     ],
     "language": "python",
     "metadata": {
      "slideshow": {
       "slide_type": "subslide"
      }
     },
     "outputs": []
    },
    {
     "cell_type": "code",
     "collapsed": false,
     "input": [
      "post_data.update({\"command\":\"login\",\n",
      "                  \"rand_code\":login_password})\n",
      "post_data"
     ],
     "language": "python",
     "metadata": {
      "slideshow": {
       "slide_type": "fragment"
      }
     },
     "outputs": []
    },
    {
     "cell_type": "code",
     "collapsed": false,
     "input": [
      "res3 = s.post(\"http://lvr.land.moi.gov.tw/N11/login.action\",data = post_data)"
     ],
     "language": "python",
     "metadata": {
      "slideshow": {
       "slide_type": "subslide"
      }
     },
     "outputs": []
    },
    {
     "cell_type": "code",
     "collapsed": false,
     "input": [
      "res3.request.headers"
     ],
     "language": "python",
     "metadata": {},
     "outputs": []
    },
    {
     "cell_type": "markdown",
     "metadata": {
      "slideshow": {
       "slide_type": "subslide"
      }
     },
     "source": [
      "# setToken"
     ]
    },
    {
     "cell_type": "code",
     "collapsed": false,
     "input": [
      "res4 = s.post(\"http://lvr.land.moi.gov.tw/N11/pro/setToken.jsp\")"
     ],
     "language": "python",
     "metadata": {
      "slideshow": {
       "slide_type": "-"
      }
     },
     "outputs": []
    },
    {
     "cell_type": "code",
     "collapsed": false,
     "input": [
      "SS = PyQuery(res4.text)"
     ],
     "language": "python",
     "metadata": {},
     "outputs": []
    },
    {
     "cell_type": "code",
     "collapsed": false,
     "input": [
      "web_tocken = SS(\"input[name='token']\").attr(\"value\")\n",
      "web_tocken"
     ],
     "language": "python",
     "metadata": {},
     "outputs": []
    },
    {
     "cell_type": "markdown",
     "metadata": {
      "slideshow": {
       "slide_type": "subslide"
      }
     },
     "source": [
      "# set query_post_data"
     ]
    },
    {
     "cell_type": "code",
     "collapsed": false,
     "input": [
      "query_post_data = {\"type\":\"UXJ5ZGF0YQ==\",\n",
      "\"Qry_city\":\"QQ==\",\n",
      "\"Qry_area_office\":\"QTAy\",\n",
      "\"Qry_paytype\":\"MQ==\",\n",
      "\"Qry_build\":\"\",\n",
      "\"Qry_price_s\":\"\",\n",
      "\"Qry_price_e\":\"\",\n",
      "\"Qry_unit_price_s\":\"\",\n",
      "\"Qry_unit_price_e\":\"\",\n",
      "\"Qry_p_yyy_s\":\"MTAx\",\n",
      "\"Qry_p_yyy_e\":\"MTAy\",\n",
      "\"Qry_season_s\":\"MQ==\",\n",
      "\"Qry_season_e\":\"MTE=\",\n",
      "\"Qry_doorno\":\"\",\n",
      "\"Qry_area_s\":\"\",\n",
      "\"Qry_area_e\":\"\",\n",
      "\"Qry_order\":\"UUEwOCZkZXNj\",\n",
      "\"Qry_unit\":\"Mg==\",\n",
      "\"Qry_area_srh\":\"\",\n",
      "\"Qry_buildyear_s\":\"\",\n",
      "\"Qry_buildyear_e\":\"\",\n",
      "\"Qry_origin\":\"P\",\n",
      "\"Qry_avg\":\"off\",\n",
      "\"struts.token.name\":\"token\",\n",
      "\"token\":web_tocken}"
     ],
     "language": "python",
     "metadata": {
      "slideshow": {
       "slide_type": "-"
      }
     },
     "outputs": []
    },
    {
     "cell_type": "markdown",
     "metadata": {
      "slideshow": {
       "slide_type": "subslide"
      }
     },
     "source": [
      "# send query_post_data to get data"
     ]
    },
    {
     "cell_type": "code",
     "collapsed": false,
     "input": [
      "res5 = s.post(\"http://lvr.land.moi.gov.tw/N11/QryClass_land.action\",data = query_post_data)"
     ],
     "language": "python",
     "metadata": {
      "slideshow": {
       "slide_type": "-"
      }
     },
     "outputs": []
    },
    {
     "cell_type": "code",
     "collapsed": false,
     "input": [
      "print res5.text"
     ],
     "language": "python",
     "metadata": {},
     "outputs": []
    },
    {
     "cell_type": "markdown",
     "metadata": {
      "slideshow": {
       "slide_type": "subslide"
      }
     },
     "source": [
      "# Extract Data ... "
     ]
    },
    {
     "cell_type": "code",
     "collapsed": false,
     "input": [
      "SSS = PyQuery(res5.text)"
     ],
     "language": "python",
     "metadata": {},
     "outputs": []
    },
    {
     "cell_type": "code",
     "collapsed": false,
     "input": [
      "for one_row_data in PyQuery(SSS(\"tr.nowrap[id]\")[5])(\"td\").map(lambda :PyQuery(this).text() if len(PyQuery(this)(\"img\")) == 0 else  PyQuery(this)(\"img\").attr(\"title\")):\n",
      "    print one_row_data\n"
     ],
     "language": "python",
     "metadata": {},
     "outputs": []
    },
    {
     "cell_type": "markdown",
     "metadata": {
      "slideshow": {
       "slide_type": "subslide"
      }
     },
     "source": [
      "# Structurize Data ... "
     ]
    },
    {
     "cell_type": "code",
     "collapsed": false,
     "input": [
      "import pandas as pd\n",
      "Raw_Data_List = [list(PyQuery(xx)(\"td\").map(lambda :PyQuery(this).text() if len(PyQuery(this)(\"img\")) == 0 else  PyQuery(this)(\"img\").attr(\"title\"))) for xx in SSS(\"tr.nowrap[id]\")]\n",
      "Raw_Data_df = pd.DataFrame(Raw_Data_List)\n",
      "Raw_Data_df.columns = [\"Address\",\"Date\",\"TotalPrice\",\"Area\",\"UniPrice\",\"TradingNumber\",\"Type\",\"Layout\"]\n",
      "Raw_Data_df.head()"
     ],
     "language": "python",
     "metadata": {},
     "outputs": []
    },
    {
     "cell_type": "markdown",
     "metadata": {
      "slideshow": {
       "slide_type": "subslide"
      }
     },
     "source": [
      "# [Example 5] \u5b78\u7fd2\u76ee\u6a19\uff1a\n",
      "\n",
      "- ## [Connector] \u4f7f\u7528 Session \u4f5c\u9023\u7e8c\u9023\u7dda\n",
      "- ## [Parser] PyQuery / DataFrame\n",
      "\n"
     ]
    },
    {
     "cell_type": "markdown",
     "metadata": {
      "slideshow": {
       "slide_type": "fragment"
      }
     },
     "source": [
      "# [Example 5] \u4f7f\u7528\u6280\u8853\uff1a\n",
      "\n",
      "- ## [Connector] requests.Session\n",
      "- ## [Parser] pandas.read_csv / DataFrame\n",
      "\n",
      "\n"
     ]
    },
    {
     "cell_type": "markdown",
     "metadata": {
      "slideshow": {
       "slide_type": "subslide"
      }
     },
     "source": [
      "# [Example 5] Exercise\uff1a\n",
      "\n",
      "- ## [Data Science] \u60f3\u60f3\u8cc7\u6599\u53ef\u4ee5\u5982\u4f55\u4f7f\u7528\uff1f \u8981\u554f\u8cc7\u6599\u54ea\u4e9b\u554f\u984c\u5462\uff1f\n",
      "- ## [Data Science] \u8981\u5982\u4f55\u56de\u7b54\u524d\u8ff0\u7684\u554f\u984c\u5462\uff1f \u9700\u8981\u54ea\u4e9b\u6750\u6599\uff1f \u53ef\u80fd\u9700\u8981\u54ea\u4e9b\u6280\u8853\uff1f\n",
      "\n",
      "- ## [Connector] \u627e\u51fa query \u7684\u53c3\u6578\uff0c\u5404\u7e23\u5e02\u7684\u4ee3\u78bc\uff0c\u4ee5\u53ca\u5404\u9109\u93ae\u5e02\u7684\u4ee3\u78bc\n",
      "- ## [Connector] \u8acb\u4f7f\u7528 urllib, urllib2 \u8a66\u8457\u9023\u7dda\u540c\u4e00\u500b\u7db2\u9801\uff0c\u770b\u770b\u662f\u5426\u4f5c\u5230\u540c\u6a23\u7684\u4e8b\uff1f\n",
      "\n",
      "\n",
      "- ## [Parser] Cleaning Data before saving them to DB\n",
      "- ## [Data Center] \u5c07 Data \u5b58\u5165 DB\uff0c\u7df4\u7fd2\u8b80\u53d6\u8207\u5206\u6790\n"
     ]
    },
    {
     "cell_type": "markdown",
     "metadata": {
      "slideshow": {
       "slide_type": "slide"
      }
     },
     "source": [
      "# [Example 6] PTT\uff1a\n",
      "\n",
      "[![Web_ppt](Lec2_slide_imgs/Web_ppt.png)](http://www.ptt.cc/bbs/R_Language/index.html)"
     ]
    },
    {
     "cell_type": "code",
     "collapsed": false,
     "input": [
      "import requests\n",
      "from pyquery import PyQuery"
     ],
     "language": "python",
     "metadata": {
      "slideshow": {
       "slide_type": "subslide"
      }
     },
     "outputs": [],
     "prompt_number": 1
    },
    {
     "cell_type": "code",
     "collapsed": false,
     "input": [
      "gen_ptt_board_page_url = lambda b_name: \"http://www.ptt.cc/bbs/%s/index.html\" % b_name"
     ],
     "language": "python",
     "metadata": {},
     "outputs": [],
     "prompt_number": 2
    },
    {
     "cell_type": "code",
     "collapsed": false,
     "input": [
      "board_name = \"R_Language\"\n",
      "r_lang_url = gen_ptt_board_page_url(board_name)\n",
      "print r_lang_url"
     ],
     "language": "python",
     "metadata": {},
     "outputs": [
      {
       "output_type": "stream",
       "stream": "stdout",
       "text": [
        "http://www.ptt.cc/bbs/R_Language/index.html\n"
       ]
      }
     ],
     "prompt_number": 3
    },
    {
     "cell_type": "code",
     "collapsed": false,
     "input": [
      "res = requests.get(r_lang_url)\n",
      "S = PyQuery(res.text)"
     ],
     "language": "python",
     "metadata": {},
     "outputs": [],
     "prompt_number": 4
    },
    {
     "cell_type": "code",
     "collapsed": false,
     "input": [
      "_article_urls = S(\".title a\").map(lambda :PyQuery(this).attr(\"href\"))\n",
      "article_urls = [\"http://www.ptt.cc%s\" % one_url for one_url in _article_urls if one_url.startswith(\"/bbs\")]\n",
      "article_urls"
     ],
     "language": "python",
     "metadata": {
      "slideshow": {
       "slide_type": "subslide"
      }
     },
     "outputs": [
      {
       "metadata": {},
       "output_type": "pyout",
       "prompt_number": 5,
       "text": [
        "['http://www.ptt.cc/bbs/R_Language/M.1387781010.A.680.html',\n",
        " 'http://www.ptt.cc/bbs/R_Language/M.1387793585.A.187.html',\n",
        " 'http://www.ptt.cc/bbs/R_Language/M.1387988371.A.FD5.html',\n",
        " 'http://www.ptt.cc/bbs/R_Language/M.1388142988.A.746.html',\n",
        " 'http://www.ptt.cc/bbs/R_Language/M.1388382237.A.B00.html',\n",
        " 'http://www.ptt.cc/bbs/R_Language/M.1388655477.A.EDD.html',\n",
        " 'http://www.ptt.cc/bbs/R_Language/M.1388719391.A.D63.html',\n",
        " 'http://www.ptt.cc/bbs/R_Language/M.1388852438.A.F48.html',\n",
        " 'http://www.ptt.cc/bbs/R_Language/M.1388912370.A.3F6.html',\n",
        " 'http://www.ptt.cc/bbs/R_Language/M.1389115716.A.13B.html',\n",
        " 'http://www.ptt.cc/bbs/R_Language/M.1389168791.A.616.html',\n",
        " 'http://www.ptt.cc/bbs/R_Language/M.1389240616.A.9B0.html',\n",
        " 'http://www.ptt.cc/bbs/R_Language/M.1389243906.A.806.html',\n",
        " 'http://www.ptt.cc/bbs/R_Language/M.1389669116.A.B3E.html',\n",
        " 'http://www.ptt.cc/bbs/R_Language/M.1389687087.A.A77.html',\n",
        " 'http://www.ptt.cc/bbs/R_Language/M.1389689591.A.3BF.html',\n",
        " 'http://www.ptt.cc/bbs/R_Language/M.1389693018.A.3B2.html',\n",
        " 'http://www.ptt.cc/bbs/R_Language/M.1389756087.A.AD2.html',\n",
        " 'http://www.ptt.cc/bbs/R_Language/M.1389803360.A.B7B.html']"
       ]
      }
     ],
     "prompt_number": 5
    },
    {
     "cell_type": "code",
     "collapsed": false,
     "input": [
      "def get_ptt_article_url_lists(one_ptt_url):\n",
      "    res = requests.get(one_ptt_url)\n",
      "    S = PyQuery(res.text)\n",
      "    _article_urls = S(\".title a\").map(lambda :PyQuery(this).attr(\"href\"))\n",
      "    article_urls = [\"http://www.ptt.cc%s\" % one_url for one_url in _article_urls if one_url.startswith(\"/bbs\")]\n",
      "    return article_urls\n",
      "\n",
      "get_ptt_article_url_lists(\"http://www.ptt.cc/bbs/BuyTogether/index.html\")"
     ],
     "language": "python",
     "metadata": {
      "slideshow": {
       "slide_type": "subslide"
      }
     },
     "outputs": [
      {
       "metadata": {},
       "output_type": "pyout",
       "prompt_number": 6,
       "text": [
        "['http://www.ptt.cc/bbs/BuyTogether/M.1389981044.A.BC4.html',\n",
        " 'http://www.ptt.cc/bbs/BuyTogether/M.1389982574.A.421.html',\n",
        " 'http://www.ptt.cc/bbs/BuyTogether/M.1389983120.A.07F.html',\n",
        " 'http://www.ptt.cc/bbs/BuyTogether/M.1389983874.A.D49.html',\n",
        " 'http://www.ptt.cc/bbs/BuyTogether/M.1389984390.A.C1A.html',\n",
        " 'http://www.ptt.cc/bbs/BuyTogether/M.1389984415.A.7CD.html',\n",
        " 'http://www.ptt.cc/bbs/BuyTogether/M.1389985593.A.523.html',\n",
        " 'http://www.ptt.cc/bbs/BuyTogether/M.1389988676.A.6C5.html',\n",
        " 'http://www.ptt.cc/bbs/BuyTogether/M.1389991272.A.530.html']"
       ]
      }
     ],
     "prompt_number": 6
    },
    {
     "cell_type": "code",
     "collapsed": false,
     "input": [
      "PyQuery(S(\"div.btn-group.pull-right > a\")[1]).attr(\"href\").split(\"index\")[1].split(\".\")[0]"
     ],
     "language": "python",
     "metadata": {
      "slideshow": {
       "slide_type": "subslide"
      }
     },
     "outputs": [
      {
       "metadata": {},
       "output_type": "pyout",
       "prompt_number": 7,
       "text": [
        "'14'"
       ]
      }
     ],
     "prompt_number": 7
    },
    {
     "cell_type": "code",
     "collapsed": false,
     "input": [
      "def get_max_pages(one_ptt_board_url):\n",
      "    res = requests.get(one_ptt_board_url)\n",
      "    S = PyQuery(res.text)\n",
      "    return int(PyQuery(S(\"div.btn-group.pull-right > a\")[1]).attr(\"href\").split(\"index\")[1].split(\".\")[0])\n",
      "\n",
      "get_max_pages(\"http://www.ptt.cc/bbs/StarCraft/index.html\")\n"
     ],
     "language": "python",
     "metadata": {},
     "outputs": [
      {
       "metadata": {},
       "output_type": "pyout",
       "prompt_number": 8,
       "text": [
        "930"
       ]
      }
     ],
     "prompt_number": 8
    },
    {
     "cell_type": "code",
     "collapsed": false,
     "input": [
      "def get_all_pages_url(one_ptt_board_url):\n",
      "    max_n = get_max_pages(one_ptt_board_url)\n",
      "    url_head = one_ptt_board_url.split(\"index\")[0]\n",
      "    all_urls = [ url_head + \"index%s.html\" % ii for ii in [\"\"] + range(max_n)]\n",
      "    return all_urls\n",
      "    \n",
      "get_all_pages_url(\"http://www.ptt.cc/bbs/R_Language/index.html\")\n"
     ],
     "language": "python",
     "metadata": {
      "slideshow": {
       "slide_type": "subslide"
      }
     },
     "outputs": [
      {
       "metadata": {},
       "output_type": "pyout",
       "prompt_number": 9,
       "text": [
        "['http://www.ptt.cc/bbs/R_Language/index.html',\n",
        " 'http://www.ptt.cc/bbs/R_Language/index0.html',\n",
        " 'http://www.ptt.cc/bbs/R_Language/index1.html',\n",
        " 'http://www.ptt.cc/bbs/R_Language/index2.html',\n",
        " 'http://www.ptt.cc/bbs/R_Language/index3.html',\n",
        " 'http://www.ptt.cc/bbs/R_Language/index4.html',\n",
        " 'http://www.ptt.cc/bbs/R_Language/index5.html',\n",
        " 'http://www.ptt.cc/bbs/R_Language/index6.html',\n",
        " 'http://www.ptt.cc/bbs/R_Language/index7.html',\n",
        " 'http://www.ptt.cc/bbs/R_Language/index8.html',\n",
        " 'http://www.ptt.cc/bbs/R_Language/index9.html',\n",
        " 'http://www.ptt.cc/bbs/R_Language/index10.html',\n",
        " 'http://www.ptt.cc/bbs/R_Language/index11.html',\n",
        " 'http://www.ptt.cc/bbs/R_Language/index12.html',\n",
        " 'http://www.ptt.cc/bbs/R_Language/index13.html']"
       ]
      }
     ],
     "prompt_number": 9
    },
    {
     "cell_type": "markdown",
     "metadata": {
      "slideshow": {
       "slide_type": "subslide"
      }
     },
     "source": [
      "# \u89e3\u6790\u6587\u7ae0\n",
      "![](Lec2_slide_imgs/Web_Ptt_article.png)"
     ]
    },
    {
     "cell_type": "code",
     "collapsed": false,
     "input": [
      "one_article_url = article_urls[2]\n",
      "one_article_res = requests.get(one_article_url)\n",
      "SS = PyQuery(one_article_res.text)\n",
      "one_article_data = {}"
     ],
     "language": "python",
     "metadata": {
      "slideshow": {
       "slide_type": "subslide"
      }
     },
     "outputs": [],
     "prompt_number": 10
    },
    {
     "cell_type": "code",
     "collapsed": false,
     "input": [
      "one_article_data[\"Board\"] = SS(\".article-metaline-right > .article-meta-value\").text()\n",
      "one_article_data.update(dict(zip([\"Author\",\"Title\",\"Time\"],SS(\".article-metaline > .article-meta-value\").map(lambda :PyQuery(this).text()))))\n",
      "one_article_data"
     ],
     "language": "python",
     "metadata": {},
     "outputs": [
      {
       "metadata": {},
       "output_type": "pyout",
       "prompt_number": 11,
       "text": [
        "{'Author': 'tai34 (tai)',\n",
        " 'Board': 'R_Language',\n",
        " 'Time': 'Thu Dec 26 00:19:28 2013',\n",
        " 'Title': u'[\\u554f\\u984c] gam \\u8dd1\\u51fa\\u932f\\u8aa4\\u8a0a\\u606f'}"
       ]
      }
     ],
     "prompt_number": 11
    },
    {
     "cell_type": "code",
     "collapsed": false,
     "input": [
      "SS(\"#main-content > div.article-metaline\").remove()"
     ],
     "language": "python",
     "metadata": {},
     "outputs": [
      {
       "metadata": {},
       "output_type": "pyout",
       "prompt_number": 21,
       "text": [
        "[<div.article-metaline>, <div.article-metaline>, <div.article-metaline>]"
       ]
      }
     ],
     "prompt_number": 21
    },
    {
     "cell_type": "code",
     "collapsed": false,
     "input": [
      "SS(\"#main-content > div.article-metaline-right\").remove()"
     ],
     "language": "python",
     "metadata": {},
     "outputs": [
      {
       "metadata": {},
       "output_type": "pyout",
       "prompt_number": 22,
       "text": [
        "[<div.article-metaline-right>]"
       ]
      }
     ],
     "prompt_number": 22
    },
    {
     "cell_type": "code",
     "collapsed": false,
     "input": [
      "SS(\"#main-content\").contents()"
     ],
     "language": "python",
     "metadata": {
      "slideshow": {
       "slide_type": "subslide"
      }
     },
     "outputs": [
      {
       "metadata": {},
       "output_type": "pyout",
       "prompt_number": 23,
       "text": [
        "['  \\n[\\xe8\\xbb\\x9f\\xe9\\xab\\x94\\xe7\\x86\\x9f\\xe6\\x82\\x89\\xe5\\xba\\xa6]:\\n\\xe6\\x96\\xb0\\xe6\\x89\\x8b(\\xe6\\xb2\\x92\\xe5\\xaf\\xab\\xe9\\x81\\x8e\\xe7\\xa8\\x8b\\xe5\\xbc\\x8f\\xef\\xbc\\x8cR \\xe6\\x98\\xaf\\xe6\\x88\\x91\\xe7\\x9a\\x84\\xe7\\xac\\xac\\xe4\\xb8\\x80\\xe6\\xac\\xa1)\\n\\n[\\xe5\\x95\\x8f\\xe9\\xa1\\x8c\\xe6\\x95\\x98\\xe8\\xbf\\xb0]:\\n\\xe6\\x88\\x91\\xe6\\x83\\xb3\\xe5\\x88\\xa9\\xe7\\x94\\xa8 gam \\xe8\\xb7\\x91\\xe6\\x88\\x91\\xe7\\x9a\\x84\\xe8\\xb3\\x87\\xe6\\x96\\x99\\xe4\\xb8\\xa6\\xe5\\xbb\\xba\\xe7\\xab\\x8b model\\xef\\xbc\\x8c\\xe6\\x88\\x91\\xe7\\x9a\\x84\\xe8\\xb3\\x87\\xe6\\x96\\x99\\xe6\\x9c\\x897\\xe5\\x80\\x8b\\xe8\\xae\\x8a\\xe6\\x95\\xb8\\xef\\xbc\\x8cgam\\xe5\\x85\\xa7\\xe7\\x9a\\x84\\xe9\\x81\\xb8\\xe9\\xa0\\x85\\xe7\\x9a\\x86\\xe7\\x94\\xa8\\xe9\\xa0\\x90\\xe8\\xa8\\xad\\xe5\\x80\\xbc\\xe3\\x80\\x82\\n\\xe4\\xbd\\x86\\xe6\\x98\\xaf\\xe5\\x87\\xba\\xe7\\x8f\\xbe\\xe4\\xbb\\xa5\\xe4\\xb8\\x8b\\xe9\\x8c\\xaf\\xe8\\xaa\\xa4:\\n\\nError in smooth.construct.tp.smooth.spec(object, dk$data, dk$knots) :\\n  A term has fewer unique covariate combinations than specified maximum\\ndegrees of freedom\\nError in predict(model.bm, Data[, expl_var_names, drop = FALSE], on_0_1000 =\\nTRUE) :\\n  error in evaluating the argument \\'object\\' in selecting a method for\\nfunction \\'predict\\': Error: object \\'model.bm\\' not found\\n\\n\\xe9\\x82\\x84\\xe6\\x9c\\x89\\n\\nError in checkAtAssignment(\"BIOMOD.stored.array\", \"val\", \"NULL\") :\\n  assignment of an object of class \\xe2\\x80\\x9cNULL\\xe2\\x80\\x9d is not valid for @\\xe2\\x80\\x98val\\xe2\\x80\\x99 in an\\nobject of class \\xe2\\x80\\x9cBIOMOD.stored.array\\xe2\\x80\\x9d; is(value, \"array\") is not TRUE\\n\\n\\xe8\\xab\\x8b\\xe5\\x95\\x8f\\xe6\\x98\\xaf\\xe5\\x87\\xba\\xe7\\x8f\\xbe\\xe4\\xba\\x86\\xe7\\x94\\x9a\\xe9\\xba\\xbc\\xe9\\x8c\\xaf\\xe8\\xaa\\xa4? \\xe6\\x88\\x91\\xe8\\xa9\\xb2\\xe5\\xa6\\x82\\xe4\\xbd\\x95\\xe4\\xbf\\xae\\xe6\\xad\\xa3\\xe6\\x88\\x91\\xe7\\x9a\\x84\\xe8\\xb3\\x87\\xe6\\x96\\x99?\\n\\n\\xe8\\xac\\x9d\\xe8\\xac\\x9d\\xe5\\x90\\x84\\xe4\\xbd\\x8d <(_ _)>\\n\\n--\\n', <Element span at 0x2fdecb0>, '\\xe2\\x97\\x86 From: 1.175.124.134\\n', <Element span at 0x2fded70>, <Element div at 0x2fdedd0>, <Element div at 0x2fdee30>, <Element div at 0x2fdee90>, <Element div at 0x2fdeef0>, <Element div at 0x2fdef50>, <Element div at 0x2fdefb0>, <Element div at 0x2fdf050>, <Element div at 0x2fdf0b0>, <Element div at 0x2fdf110>]"
       ]
      }
     ],
     "prompt_number": 23
    },
    {
     "cell_type": "code",
     "collapsed": false,
     "input": [
      "import lxml"
     ],
     "language": "python",
     "metadata": {
      "slideshow": {
       "slide_type": "subslide"
      }
     },
     "outputs": [],
     "prompt_number": 12
    },
    {
     "cell_type": "code",
     "collapsed": false,
     "input": [
      "one_article_data[\"text\"] = \"\".join(map(lambda xx:PyQuery(xx).text() if isinstance(xx,lxml.html.HtmlElement) else xx,\n",
      "                                       SS(\"#main-content\").contents()))\n",
      "one_article_data[\"url\"] = one_article_res.url\n",
      "print one_article_data[\"text\"]"
     ],
     "language": "python",
     "metadata": {},
     "outputs": [
      {
       "output_type": "stream",
       "stream": "stdout",
       "text": [
        "  \n",
        "[\u8edf\u9ad4\u719f\u6089\u5ea6]:\n",
        "\u65b0\u624b(\u6c92\u5beb\u904e\u7a0b\u5f0f\uff0cR \u662f\u6211\u7684\u7b2c\u4e00\u6b21)\n",
        "\n",
        "[\u554f\u984c\u6558\u8ff0]:\n",
        "\u6211\u60f3\u5229\u7528 gam \u8dd1\u6211\u7684\u8cc7\u6599\u4e26\u5efa\u7acb model\uff0c\u6211\u7684\u8cc7\u6599\u67097\u500b\u8b8a\u6578\uff0cgam\u5167\u7684\u9078\u9805\u7686\u7528\u9810\u8a2d\u503c\u3002\n",
        "\u4f46\u662f\u51fa\u73fe\u4ee5\u4e0b\u932f\u8aa4:\n",
        "\n",
        "Error in smooth.construct.tp.smooth.spec(object, dk$data, dk$knots) :\n",
        "  A term has fewer unique covariate combinations than specified maximum\n",
        "degrees of freedom\n",
        "Error in predict(model.bm, Data[, expl_var_names, drop = FALSE], on_0_1000 =\n",
        "TRUE) :\n",
        "  error in evaluating the argument 'object' in selecting a method for\n",
        "function 'predict': Error: object 'model.bm' not found\n",
        "\n",
        "\u9084\u6709\n",
        "\n",
        "Error in checkAtAssignment(\"BIOMOD.stored.array\", \"val\", \"NULL\") :\n",
        "  assignment of an object of class \u201cNULL\u201d is not valid for @\u2018val\u2019 in an\n",
        "object of class \u201cBIOMOD.stored.array\u201d; is(value, \"array\") is not TRUE\n",
        "\n",
        "\u8acb\u554f\u662f\u51fa\u73fe\u4e86\u751a\u9ebc\u932f\u8aa4? \u6211\u8a72\u5982\u4f55\u4fee\u6b63\u6211\u7684\u8cc7\u6599?\n",
        "\n",
        "\u8b1d\u8b1d\u5404\u4f4d <(_ _)>\n",
        "\n",
        "--\n",
        "\u203b \u767c\u4fe1\u7ad9: \u6279\u8e22\u8e22\u5be6\u696d\u574a(ptt.cc)\u25c6 From: 1.175.124.134\n",
        "\u203b \u7de8\u8f2f: tai34           \u4f86\u81ea: 1.175.124.134        (12/26 01:08)\u63a8 ccwang002 :\u4ed6\u8aaa\u6709\u4e9b\u8b8a\u6578\u627e\u4e0d\u5230\uff0c\u6240\u4ee5\u80fd\u4e0d\u80fd\u63d0\u4f9b\u6bd4\u8f03\u5b8c\u6574\u7684\u7a0b\u5f0f\u78bc\uff1f 12/26 02:45\u2192 diplazium :\u4f60\u61c9\u8a72\u6709\u4e9b\u8b8a\u6578\u7684unique\u503c\u5c11\u65bc10-1=9\u500b(\u9810\u8a2d\u53c3\u6578k=10) 12/26 10:52\u2192 diplazium :\u7b2c\u4e8c\u500b\u554f\u984c\u6211\u5c31\u4e0d\u77e5\u9053\u4e86 12/26 10:53\u63a8 xiaoing :\u662f\u5426\u8981\u8003\u616es()\u51fd\u6578\u88e1\u9762\u7684k\u503c? 12/26 14:27\u2192 tai34 :\u6211\u767c\u73fe\u6211\u7684\u5176\u4e2d\u4e00\u500b\u8b8a\u6578\u503c\u53ea\u67099\u9805\uff0c\u6539\u4e86\u8a72\u8b8a\u6578\u7684 k \u503c\u5c31\u53ef\u4ee5 12/26 17:16\u2192 tai34 :\u7528\u4e86! \u8b1d\u8b1d c\u5927\u3001d\u5927\u3001\u4ee5\u53ca x \u5927! \u7136\u5f8c\u8981\u7e7c\u7e8c\u8655\u7406\u4e0b\u4e00\u500b\u932f\u8aa4 12/26 17:17\u2192 tai34 :\u4e86.... 12/26 17:18\u2192 tai34 :\u8acb\u554f\u600e\u9ebc\u6c7a\u5b9a k \u503c\u662f\u591a\u5c11\u554a? \u662f\u81ea\u7531\u5ea6\u55ce? 12/27 16:17\u63a8 xiaoing :\u6211\u4e5f\u8ddf\u6a13\u4e0a\u6709\u76f8\u540c\u7684\u56f0\u60d1\uff0c\u61c7\u6c42\u9ad8\u624b\u89e3\u7b54\uff01\uff01\uff01 12/27 17:29\n"
       ]
      }
     ],
     "prompt_number": 25
    },
    {
     "cell_type": "code",
     "collapsed": false,
     "input": [
      "one_article_data"
     ],
     "language": "python",
     "metadata": {
      "slideshow": {
       "slide_type": "subslide"
      }
     },
     "outputs": [
      {
       "metadata": {},
       "output_type": "pyout",
       "prompt_number": 26,
       "text": [
        "{'Author': 'tai34 (tai)',\n",
        " 'Board': 'R_Language',\n",
        " 'Time': 'Thu Dec 26 00:19:28 2013',\n",
        " 'Title': u'[\\u554f\\u984c] gam \\u8dd1\\u51fa\\u932f\\u8aa4\\u8a0a\\u606f',\n",
        " 'text': u'  \\n[\\u8edf\\u9ad4\\u719f\\u6089\\u5ea6]:\\n\\u65b0\\u624b(\\u6c92\\u5beb\\u904e\\u7a0b\\u5f0f\\uff0cR \\u662f\\u6211\\u7684\\u7b2c\\u4e00\\u6b21)\\n\\n[\\u554f\\u984c\\u6558\\u8ff0]:\\n\\u6211\\u60f3\\u5229\\u7528 gam \\u8dd1\\u6211\\u7684\\u8cc7\\u6599\\u4e26\\u5efa\\u7acb model\\uff0c\\u6211\\u7684\\u8cc7\\u6599\\u67097\\u500b\\u8b8a\\u6578\\uff0cgam\\u5167\\u7684\\u9078\\u9805\\u7686\\u7528\\u9810\\u8a2d\\u503c\\u3002\\n\\u4f46\\u662f\\u51fa\\u73fe\\u4ee5\\u4e0b\\u932f\\u8aa4:\\n\\nError in smooth.construct.tp.smooth.spec(object, dk$data, dk$knots) :\\n  A term has fewer unique covariate combinations than specified maximum\\ndegrees of freedom\\nError in predict(model.bm, Data[, expl_var_names, drop = FALSE], on_0_1000 =\\nTRUE) :\\n  error in evaluating the argument \\'object\\' in selecting a method for\\nfunction \\'predict\\': Error: object \\'model.bm\\' not found\\n\\n\\u9084\\u6709\\n\\nError in checkAtAssignment(\"BIOMOD.stored.array\", \"val\", \"NULL\") :\\n  assignment of an object of class \\u201cNULL\\u201d is not valid for @\\u2018val\\u2019 in an\\nobject of class \\u201cBIOMOD.stored.array\\u201d; is(value, \"array\") is not TRUE\\n\\n\\u8acb\\u554f\\u662f\\u51fa\\u73fe\\u4e86\\u751a\\u9ebc\\u932f\\u8aa4? \\u6211\\u8a72\\u5982\\u4f55\\u4fee\\u6b63\\u6211\\u7684\\u8cc7\\u6599?\\n\\n\\u8b1d\\u8b1d\\u5404\\u4f4d <(_ _)>\\n\\n--\\n\\u203b \\u767c\\u4fe1\\u7ad9: \\u6279\\u8e22\\u8e22\\u5be6\\u696d\\u574a(ptt.cc)\\u25c6 From: 1.175.124.134\\n\\u203b \\u7de8\\u8f2f: tai34           \\u4f86\\u81ea: 1.175.124.134        (12/26 01:08)\\u63a8 ccwang002 :\\u4ed6\\u8aaa\\u6709\\u4e9b\\u8b8a\\u6578\\u627e\\u4e0d\\u5230\\uff0c\\u6240\\u4ee5\\u80fd\\u4e0d\\u80fd\\u63d0\\u4f9b\\u6bd4\\u8f03\\u5b8c\\u6574\\u7684\\u7a0b\\u5f0f\\u78bc\\uff1f 12/26 02:45\\u2192 diplazium :\\u4f60\\u61c9\\u8a72\\u6709\\u4e9b\\u8b8a\\u6578\\u7684unique\\u503c\\u5c11\\u65bc10-1=9\\u500b(\\u9810\\u8a2d\\u53c3\\u6578k=10) 12/26 10:52\\u2192 diplazium :\\u7b2c\\u4e8c\\u500b\\u554f\\u984c\\u6211\\u5c31\\u4e0d\\u77e5\\u9053\\u4e86 12/26 10:53\\u63a8 xiaoing :\\u662f\\u5426\\u8981\\u8003\\u616es()\\u51fd\\u6578\\u88e1\\u9762\\u7684k\\u503c? 12/26 14:27\\u2192 tai34 :\\u6211\\u767c\\u73fe\\u6211\\u7684\\u5176\\u4e2d\\u4e00\\u500b\\u8b8a\\u6578\\u503c\\u53ea\\u67099\\u9805\\uff0c\\u6539\\u4e86\\u8a72\\u8b8a\\u6578\\u7684 k \\u503c\\u5c31\\u53ef\\u4ee5 12/26 17:16\\u2192 tai34 :\\u7528\\u4e86! \\u8b1d\\u8b1d c\\u5927\\u3001d\\u5927\\u3001\\u4ee5\\u53ca x \\u5927! \\u7136\\u5f8c\\u8981\\u7e7c\\u7e8c\\u8655\\u7406\\u4e0b\\u4e00\\u500b\\u932f\\u8aa4 12/26 17:17\\u2192 tai34 :\\u4e86.... 12/26 17:18\\u2192 tai34 :\\u8acb\\u554f\\u600e\\u9ebc\\u6c7a\\u5b9a k \\u503c\\u662f\\u591a\\u5c11\\u554a? \\u662f\\u81ea\\u7531\\u5ea6\\u55ce? 12/27 16:17\\u63a8 xiaoing :\\u6211\\u4e5f\\u8ddf\\u6a13\\u4e0a\\u6709\\u76f8\\u540c\\u7684\\u56f0\\u60d1\\uff0c\\u61c7\\u6c42\\u9ad8\\u624b\\u89e3\\u7b54\\uff01\\uff01\\uff01 12/27 17:29',\n",
        " 'url': u'http://www.ptt.cc/bbs/R_Language/M.1387988371.A.FD5.html'}"
       ]
      }
     ],
     "prompt_number": 26
    },
    {
     "cell_type": "code",
     "collapsed": false,
     "input": [
      "#one_article_url = article_urls[2]\n",
      "def get_one_article_meta_data(one_article_url):\n",
      "    one_article_res = requests.get(one_article_url)\n",
      "    SS = PyQuery(one_article_res.text)\n",
      "    one_article_data = {}\n",
      "    one_article_data[\"Board\"] = SS(\".article-metaline-right > .article-meta-value\").text()\n",
      "    one_article_data.update(dict(zip([\"Author\",\"Title\",\"Time\"],SS(\".article-metaline > .article-meta-value\").map(lambda :PyQuery(this).text()))))\n",
      "    SS(\"#main-content > div.article-metaline\").remove()\n",
      "    SS(\"#main-content > div.article-metaline-right\").remove()\n",
      "    one_article_data[\"text\"] = \"\".join(map(lambda xx:PyQuery(xx).text() if isinstance(xx,lxml.html.HtmlElement) else xx,\n",
      "                                           SS(\"#main-content\").contents()))\n",
      "    one_article_data[\"url\"] = one_article_res.url\n",
      "    return one_article_data\n",
      "\n",
      "get_one_article_meta_data(article_urls[3])"
     ],
     "language": "python",
     "metadata": {
      "slideshow": {
       "slide_type": "subslide"
      }
     },
     "outputs": [
      {
       "metadata": {},
       "output_type": "pyout",
       "prompt_number": 13,
       "text": [
        "{'Author': 'tai34 (tai)',\n",
        " 'Board': 'R_Language',\n",
        " 'Time': 'Fri Dec 27 19:16:25 2013',\n",
        " 'Title': u'Re: [\\u554f\\u984c] gam \\u8dd1\\u51fa\\u932f\\u8aa4\\u8a0a\\u606f',\n",
        " 'text': u'  \\n\\u5c0f\\u5f1f\\u89e3\\u6c7a\\u554f\\u984c\\u4e86! (\\u5176\\u5be6\\u5c31\\u662f\\u81ea\\u5df1\\u7c97\\u5fc3\\u7684 k \\u503c\\u6253\\u932f\\u4e86...\\n\\n\\u53e6\\u958b\\u6587\\u7ae0\\u4f86\\u56de\\u8986 xiaoing \\u5927\\u7684\\u554f\\u984c\\uff0c\\n\\n\\u4f46\\u662f\\u6211\\u5c0d\\u65bc\\u7d71\\u8a08\\u4e26\\u4e0d\\u662f\\u975e\\u5e38\\u4e86\\u89e3\\uff0c\\u4e5f\\u4e0d\\u6703\\u5f88\\u591a\\u5c08\\u6709\\u540d\\u8a5e\\uff0c\\n\\n\\u53ea\\u6703\\u7528\\u4e00\\u4e9b\\u6bd4\\u8f03\\u7c21\\u55ae\\u7684\\u8a71\\uff0c\\u5982\\u679c\\u932f\\u8aa4\\u9084\\u9ebb\\u7169\\u8acb\\u5927\\u5bb6\\u6307\\u51fa\\u4f86\\u3002\\n\\n\\n\\u6b63\\u984c:\\n\\n\\u9019\\u88e1\\u6307\\u7684 k \\u503c\\u662f\\u6211\\u4e0a\\u7bc7\\u554f\\u984c\\u7684 k \\u503c\\u3002\\n\\n(\\u56e0\\u70ba\\u4ed6\\u597d\\u50cf\\u6709\\u5169\\u500b...\\u6211\\u4e5f\\u4e0d\\u592a\\u61c2\\uff0c\\u6211\\u53ea\\u77e5\\u9053\\u8b8a\\u6578\\u7684 k \\u503c\\u600e\\u9ebc\\u8a2d\\u3002)\\n\\n\\u4e5f\\u5c31\\u662f gam(y ~ x1 + x2 + s(x3,k=8), data=data) \\u88e1\\u9762\\u7684 k \\u503c\\n\\n\\u7c21\\u55ae\\u7684\\u8aaa\\u5c31\\u662f\\u81ea\\u7531\\u5ea6 (N-1) ##N=sample size\\n\\n\\u6211\\u6240\\u7528\\u7684 pakage \\u88e1\\u7684 k = 10 (default)\\n\\n\\u6240\\u4ee5\\u9664\\u975e\\u4f60\\u7684\\u8cc7\\u6599\\u5167\\u7684\\u6578\\u503c\\u5c11\\u65bc 10 \\u7a2e\\uff0c\\u5426\\u5247\\u4e0d\\u7528\\u7279\\u5225\\u53bb\\u8abf\\u4ed6\\u3002\\n\\n\\u610f\\u6307\\u5982\\u679c\\u4f60\\u7684\\u5176\\u4e2d\\u4e00\\u7684\\u8b8a\\u6578 (ex: x3) \\u70ba\\u985e\\u5225\\u8b8a\\u6578\\uff0c\\u53ea\\u6709 1 \\u5230 9\\n\\n\\u9019\\u6a23\\u4f60\\u7684\\u6578\\u503c\\u7a2e\\u985e\\u53ea\\u6709 9 \\u7a2e\\uff0c\\u6240\\u4ee5 k \\u5fc5\\u9808\\u8981\\u8abf\\u6210 8 (\\u56e0\\u70ba 9-1 = 8)\\n\\n\\u7d50\\u675f\\n\\n\\u597d\\u50cf\\u6c92\\u8aaa\\u5230\\u751a\\u9ebc... \\u5e0c\\u671b\\u6709\\u89e3\\u6c7a\\u5230 xiaoing \\u5927 \\u7684\\u7591\\u554f\\n\\n--\\n\\u203b \\u767c\\u4fe1\\u7ad9: \\u6279\\u8e22\\u8e22\\u5be6\\u696d\\u574a(ptt.cc)\\u25c6 From: 218.164.10.112\\n\\u63a8 xiaoing :\\u611f\\u8b1d\\u56de\\u5fa9,\\u6211\\u76ee\\u524d\\u525b\\u5b8c\\u6210\\u4e00\\u4efdgam\\u7684\\u4f5c\\u696d,\\u53c8\\u8981\\u958b\\u59cb\\u57f7\\u53e6\\u4e00\\u4efdgam 12/30 17:15\\u2192 xiaoing :\\u5c0d\\u65bc\"k\"\\u503c\\u9084\\u662f\\u6c92\\u6709\\u5b8c\\u5168\\u4e86\\u89e3,\\u6709\\u6642\\u5019\\u4e0d\\u8abf\\u6574k\\u503c\\u7121\\u6cd5\\u57f7\\u884c\\u6307\\u4ee4, 12/30 17:16\\u2192 xiaoing :\\u4e5f\\u662f\\u8a2dk=N-1\\u7a0b\\u5f0f\\u53ef\\u9806\\u5229\\u57f7\\u884c 12/30 17:17\\u2192 xiaoing :\\u4f46\\u5176\\u4e2d\\u7684\\u610f\\u7fa9\\u5c1a\\u672a\\u5b8c\\u5168\\u53c3\\u900f 12/30 17:18',\n",
        " 'url': u'http://www.ptt.cc/bbs/R_Language/M.1388142988.A.746.html'}"
       ]
      }
     ],
     "prompt_number": 13
    },
    {
     "cell_type": "markdown",
     "metadata": {
      "slideshow": {
       "slide_type": "subslide"
      }
     },
     "source": [
      "# \u653e\u9032 MongoDB"
     ]
    },
    {
     "cell_type": "code",
     "collapsed": false,
     "input": [
      "from pymongo import MongoClient\n",
      "mongo_client = MongoClient()\n",
      "nccu_mldm_course_db = mongo_client.nccu_mldm_course_db\n",
      "ptt_article_col = nccu_mldm_course_db.ptt_article_col"
     ],
     "language": "python",
     "metadata": {},
     "outputs": [],
     "prompt_number": 14
    },
    {
     "cell_type": "code",
     "collapsed": false,
     "input": [
      "# ptt_article_col.drop()\n",
      "#ptt_article_col.insert(one_article_data)\n"
     ],
     "language": "python",
     "metadata": {},
     "outputs": [],
     "prompt_number": 15
    },
    {
     "cell_type": "code",
     "collapsed": false,
     "input": [
      "list(ptt_article_col.find())"
     ],
     "language": "python",
     "metadata": {},
     "outputs": [
      {
       "metadata": {},
       "output_type": "pyout",
       "prompt_number": 33,
       "text": [
        "[]"
       ]
      }
     ],
     "prompt_number": 33
    },
    {
     "cell_type": "markdown",
     "metadata": {
      "slideshow": {
       "slide_type": "subslide"
      }
     },
     "source": [
      "# \u722c\u6587 ..."
     ]
    },
    {
     "cell_type": "code",
     "collapsed": false,
     "input": [
      "def save_all_ariticles_to_db(board_name, Start=None, End=None):\n",
      "    board_url = gen_ptt_board_page_url(board_name)\n",
      "    all_article_pages_list = get_all_pages_url(board_url)\n",
      "    \n",
      "    if isinstance(End,int):\n",
      "        if End < len(all_article_pages_list):\n",
      "            all_article_pages_list = all_article_pages_list[:End]\n",
      "    \n",
      "    if isinstance(Start,int):\n",
      "        if Start < len(all_article_pages_list):\n",
      "            all_article_pages_list = all_article_pages_list[Start:]\n",
      "\n",
      "    for one_page in all_article_pages_list:\n",
      "        article_urls_list = get_ptt_article_url_lists(one_page)\n",
      "        results = map(get_one_article_meta_data,article_urls_list)\n",
      "        if len(results) > 0:\n",
      "            ptt_article_col.insert(results)\n",
      "            print \"[Page %s] HAS DATA\" % one_page\n",
      "        else:\n",
      "            print \"[Page %s] HAS NO DATA\" % one_page\n",
      "    \n",
      "# ptt_article_col.drop()\n",
      "# save_all_ariticles_to_db(\"R_Language\")\n",
      "# save_all_ariticles_to_db(\"BuyTogether\",End=60)\n",
      "# save_all_ariticles_to_db(\"LOL\",End=60)\n",
      "# save_all_ariticles_to_db(\"Python\",End=60)\n",
      "# save_all_ariticles_to_db(\"Hate\",End=60)\n",
      "# save_all_ariticles_to_db(\"C_and_CPP\",End=60)\n",
      "# save_all_ariticles_to_db(\"StarCraft\",End=60)\n",
      "# save_all_ariticles_to_db(\"Food\",End=60)\n",
      "# save_all_ariticles_to_db(\"job\",End=60)\n",
      "# save_all_ariticles_to_db(\"Soft_Job\",End=60)\n",
      "# save_all_ariticles_to_db(\"StudyGroup\",End=60)\n",
      "# save_all_ariticles_to_db(\"Boy-Girl\",End=60)\n",
      "save_all_ariticles_to_db(\"Math\",End=60)\n",
      "\n"
     ],
     "language": "python",
     "metadata": {},
     "outputs": [
      {
       "output_type": "stream",
       "stream": "stdout",
       "text": [
        "[Page http://www.ptt.cc/bbs/Math/index.html] HAS DATA\n",
        "[Page http://www.ptt.cc/bbs/Math/index0.html] HAS DATA"
       ]
      },
      {
       "output_type": "stream",
       "stream": "stdout",
       "text": [
        "\n",
        "[Page http://www.ptt.cc/bbs/Math/index1.html] HAS DATA"
       ]
      },
      {
       "output_type": "stream",
       "stream": "stdout",
       "text": [
        "\n",
        "[Page http://www.ptt.cc/bbs/Math/index2.html] HAS DATA"
       ]
      },
      {
       "output_type": "stream",
       "stream": "stdout",
       "text": [
        "\n",
        "[Page http://www.ptt.cc/bbs/Math/index3.html] HAS DATA"
       ]
      },
      {
       "output_type": "stream",
       "stream": "stdout",
       "text": [
        "\n",
        "[Page http://www.ptt.cc/bbs/Math/index4.html] HAS DATA"
       ]
      },
      {
       "output_type": "stream",
       "stream": "stdout",
       "text": [
        "\n",
        "[Page http://www.ptt.cc/bbs/Math/index5.html] HAS DATA"
       ]
      },
      {
       "output_type": "stream",
       "stream": "stdout",
       "text": [
        "\n",
        "[Page http://www.ptt.cc/bbs/Math/index6.html] HAS DATA"
       ]
      },
      {
       "output_type": "stream",
       "stream": "stdout",
       "text": [
        "\n",
        "[Page http://www.ptt.cc/bbs/Math/index7.html] HAS DATA"
       ]
      },
      {
       "output_type": "stream",
       "stream": "stdout",
       "text": [
        "\n",
        "[Page http://www.ptt.cc/bbs/Math/index8.html] HAS DATA"
       ]
      },
      {
       "output_type": "stream",
       "stream": "stdout",
       "text": [
        "\n",
        "[Page http://www.ptt.cc/bbs/Math/index9.html] HAS DATA"
       ]
      },
      {
       "output_type": "stream",
       "stream": "stdout",
       "text": [
        "\n",
        "[Page http://www.ptt.cc/bbs/Math/index10.html] HAS DATA"
       ]
      },
      {
       "output_type": "stream",
       "stream": "stdout",
       "text": [
        "\n",
        "[Page http://www.ptt.cc/bbs/Math/index11.html] HAS DATA"
       ]
      },
      {
       "output_type": "stream",
       "stream": "stdout",
       "text": [
        "\n",
        "[Page http://www.ptt.cc/bbs/Math/index12.html] HAS DATA"
       ]
      },
      {
       "output_type": "stream",
       "stream": "stdout",
       "text": [
        "\n",
        "[Page http://www.ptt.cc/bbs/Math/index13.html] HAS DATA"
       ]
      },
      {
       "output_type": "stream",
       "stream": "stdout",
       "text": [
        "\n",
        "[Page http://www.ptt.cc/bbs/Math/index14.html] HAS DATA"
       ]
      },
      {
       "output_type": "stream",
       "stream": "stdout",
       "text": [
        "\n",
        "[Page http://www.ptt.cc/bbs/Math/index15.html] HAS DATA"
       ]
      },
      {
       "output_type": "stream",
       "stream": "stdout",
       "text": [
        "\n",
        "[Page http://www.ptt.cc/bbs/Math/index16.html] HAS DATA"
       ]
      },
      {
       "output_type": "stream",
       "stream": "stdout",
       "text": [
        "\n",
        "[Page http://www.ptt.cc/bbs/Math/index17.html] HAS DATA"
       ]
      },
      {
       "output_type": "stream",
       "stream": "stdout",
       "text": [
        "\n",
        "[Page http://www.ptt.cc/bbs/Math/index18.html] HAS DATA"
       ]
      },
      {
       "output_type": "stream",
       "stream": "stdout",
       "text": [
        "\n",
        "[Page http://www.ptt.cc/bbs/Math/index19.html] HAS DATA"
       ]
      },
      {
       "output_type": "stream",
       "stream": "stdout",
       "text": [
        "\n",
        "[Page http://www.ptt.cc/bbs/Math/index20.html] HAS DATA"
       ]
      },
      {
       "output_type": "stream",
       "stream": "stdout",
       "text": [
        "\n",
        "[Page http://www.ptt.cc/bbs/Math/index21.html] HAS DATA"
       ]
      },
      {
       "output_type": "stream",
       "stream": "stdout",
       "text": [
        "\n",
        "[Page http://www.ptt.cc/bbs/Math/index22.html] HAS DATA"
       ]
      },
      {
       "output_type": "stream",
       "stream": "stdout",
       "text": [
        "\n",
        "[Page http://www.ptt.cc/bbs/Math/index23.html] HAS DATA"
       ]
      },
      {
       "output_type": "stream",
       "stream": "stdout",
       "text": [
        "\n",
        "[Page http://www.ptt.cc/bbs/Math/index24.html] HAS DATA"
       ]
      },
      {
       "output_type": "stream",
       "stream": "stdout",
       "text": [
        "\n",
        "[Page http://www.ptt.cc/bbs/Math/index25.html] HAS DATA"
       ]
      },
      {
       "output_type": "stream",
       "stream": "stdout",
       "text": [
        "\n",
        "[Page http://www.ptt.cc/bbs/Math/index26.html] HAS DATA"
       ]
      },
      {
       "output_type": "stream",
       "stream": "stdout",
       "text": [
        "\n",
        "[Page http://www.ptt.cc/bbs/Math/index27.html] HAS DATA"
       ]
      },
      {
       "output_type": "stream",
       "stream": "stdout",
       "text": [
        "\n",
        "[Page http://www.ptt.cc/bbs/Math/index28.html] HAS DATA"
       ]
      },
      {
       "output_type": "stream",
       "stream": "stdout",
       "text": [
        "\n",
        "[Page http://www.ptt.cc/bbs/Math/index29.html] HAS DATA"
       ]
      },
      {
       "output_type": "stream",
       "stream": "stdout",
       "text": [
        "\n",
        "[Page http://www.ptt.cc/bbs/Math/index30.html] HAS DATA"
       ]
      },
      {
       "output_type": "stream",
       "stream": "stdout",
       "text": [
        "\n",
        "[Page http://www.ptt.cc/bbs/Math/index31.html] HAS DATA"
       ]
      },
      {
       "output_type": "stream",
       "stream": "stdout",
       "text": [
        "\n",
        "[Page http://www.ptt.cc/bbs/Math/index32.html] HAS DATA"
       ]
      },
      {
       "output_type": "stream",
       "stream": "stdout",
       "text": [
        "\n",
        "[Page http://www.ptt.cc/bbs/Math/index33.html] HAS DATA"
       ]
      },
      {
       "output_type": "stream",
       "stream": "stdout",
       "text": [
        "\n",
        "[Page http://www.ptt.cc/bbs/Math/index34.html] HAS DATA"
       ]
      },
      {
       "output_type": "stream",
       "stream": "stdout",
       "text": [
        "\n",
        "[Page http://www.ptt.cc/bbs/Math/index35.html] HAS DATA"
       ]
      },
      {
       "output_type": "stream",
       "stream": "stdout",
       "text": [
        "\n",
        "[Page http://www.ptt.cc/bbs/Math/index36.html] HAS DATA"
       ]
      },
      {
       "output_type": "stream",
       "stream": "stdout",
       "text": [
        "\n",
        "[Page http://www.ptt.cc/bbs/Math/index37.html] HAS DATA"
       ]
      },
      {
       "output_type": "stream",
       "stream": "stdout",
       "text": [
        "\n",
        "[Page http://www.ptt.cc/bbs/Math/index38.html] HAS DATA"
       ]
      },
      {
       "output_type": "stream",
       "stream": "stdout",
       "text": [
        "\n",
        "[Page http://www.ptt.cc/bbs/Math/index39.html] HAS DATA"
       ]
      },
      {
       "output_type": "stream",
       "stream": "stdout",
       "text": [
        "\n",
        "[Page http://www.ptt.cc/bbs/Math/index40.html] HAS DATA"
       ]
      },
      {
       "output_type": "stream",
       "stream": "stdout",
       "text": [
        "\n",
        "[Page http://www.ptt.cc/bbs/Math/index41.html] HAS DATA"
       ]
      },
      {
       "output_type": "stream",
       "stream": "stdout",
       "text": [
        "\n",
        "[Page http://www.ptt.cc/bbs/Math/index42.html] HAS DATA"
       ]
      },
      {
       "output_type": "stream",
       "stream": "stdout",
       "text": [
        "\n",
        "[Page http://www.ptt.cc/bbs/Math/index43.html] HAS DATA"
       ]
      },
      {
       "output_type": "stream",
       "stream": "stdout",
       "text": [
        "\n",
        "[Page http://www.ptt.cc/bbs/Math/index44.html] HAS DATA"
       ]
      },
      {
       "output_type": "stream",
       "stream": "stdout",
       "text": [
        "\n",
        "[Page http://www.ptt.cc/bbs/Math/index45.html] HAS DATA"
       ]
      },
      {
       "output_type": "stream",
       "stream": "stdout",
       "text": [
        "\n",
        "[Page http://www.ptt.cc/bbs/Math/index46.html] HAS DATA"
       ]
      },
      {
       "output_type": "stream",
       "stream": "stdout",
       "text": [
        "\n",
        "[Page http://www.ptt.cc/bbs/Math/index47.html] HAS DATA"
       ]
      },
      {
       "output_type": "stream",
       "stream": "stdout",
       "text": [
        "\n",
        "[Page http://www.ptt.cc/bbs/Math/index48.html] HAS DATA"
       ]
      },
      {
       "output_type": "stream",
       "stream": "stdout",
       "text": [
        "\n",
        "[Page http://www.ptt.cc/bbs/Math/index49.html] HAS DATA"
       ]
      },
      {
       "output_type": "stream",
       "stream": "stdout",
       "text": [
        "\n",
        "[Page http://www.ptt.cc/bbs/Math/index50.html] HAS DATA"
       ]
      },
      {
       "output_type": "stream",
       "stream": "stdout",
       "text": [
        "\n",
        "[Page http://www.ptt.cc/bbs/Math/index51.html] HAS DATA"
       ]
      },
      {
       "output_type": "stream",
       "stream": "stdout",
       "text": [
        "\n",
        "[Page http://www.ptt.cc/bbs/Math/index52.html] HAS DATA"
       ]
      },
      {
       "output_type": "stream",
       "stream": "stdout",
       "text": [
        "\n",
        "[Page http://www.ptt.cc/bbs/Math/index53.html] HAS DATA"
       ]
      },
      {
       "output_type": "stream",
       "stream": "stdout",
       "text": [
        "\n",
        "[Page http://www.ptt.cc/bbs/Math/index54.html] HAS DATA"
       ]
      },
      {
       "output_type": "stream",
       "stream": "stdout",
       "text": [
        "\n",
        "[Page http://www.ptt.cc/bbs/Math/index55.html] HAS DATA"
       ]
      },
      {
       "output_type": "stream",
       "stream": "stdout",
       "text": [
        "\n",
        "[Page http://www.ptt.cc/bbs/Math/index56.html] HAS DATA"
       ]
      },
      {
       "output_type": "stream",
       "stream": "stdout",
       "text": [
        "\n",
        "[Page http://www.ptt.cc/bbs/Math/index57.html] HAS DATA"
       ]
      },
      {
       "output_type": "stream",
       "stream": "stdout",
       "text": [
        "\n",
        "[Page http://www.ptt.cc/bbs/Math/index58.html] HAS DATA"
       ]
      },
      {
       "output_type": "stream",
       "stream": "stdout",
       "text": [
        "\n"
       ]
      }
     ],
     "prompt_number": 16
    },
    {
     "cell_type": "code",
     "collapsed": false,
     "input": [
      "list(ptt_article_col.find())"
     ],
     "language": "python",
     "metadata": {
      "slideshow": {
       "slide_type": "subslide"
      }
     },
     "outputs": []
    },
    {
     "cell_type": "markdown",
     "metadata": {
      "slideshow": {
       "slide_type": "subslide"
      }
     },
     "source": [
      "# \u532f\u51fa JSON \u6a94\u6848"
     ]
    },
    {
     "cell_type": "code",
     "collapsed": false,
     "input": [
      "!mongoexport --db nccu_mldm_course_db --collection ptt_article_col --out ptt_articles.json"
     ],
     "language": "python",
     "metadata": {},
     "outputs": []
    },
    {
     "cell_type": "markdown",
     "metadata": {
      "slideshow": {
       "slide_type": "subslide"
      }
     },
     "source": [
      "# [Example 6] \u5b78\u7fd2\u76ee\u6a19\uff1a\n",
      "\n",
      "- ## [Connector] \u9801\u9762\u5206\u985e\u89c0\u5bdf\uff0c\u518d\u9ede\u958b\u9023\u7d50\u7684\u5be6\u4f5c\n",
      "- ## [Parser] PyQuery\n",
      "- ## [Data Center] MongoDB / mongoexport\n",
      "\n"
     ]
    },
    {
     "cell_type": "markdown",
     "metadata": {
      "slideshow": {
       "slide_type": "fragment"
      }
     },
     "source": [
      "# [Example 6] \u4f7f\u7528\u6280\u8853\uff1a\n",
      "\n",
      "- ## [Connector] requests.get\n",
      "- ## [Parser] PyQuery\n",
      "- ## [Data Center] MongoDB / mongoexport\n",
      "\n"
     ]
    },
    {
     "cell_type": "markdown",
     "metadata": {
      "slideshow": {
       "slide_type": "subslide"
      }
     },
     "source": [
      "# [Example 6] Exercise\uff1a\n",
      "\n",
      "- ## [Data Science] \u60f3\u60f3\u8cc7\u6599\u53ef\u4ee5\u5982\u4f55\u4f7f\u7528\uff1f \u8981\u554f\u8cc7\u6599\u54ea\u4e9b\u554f\u984c\u5462\uff1f\n",
      "- ## [Data Science] \u8981\u5982\u4f55\u56de\u7b54\u524d\u8ff0\u7684\u554f\u984c\u5462\uff1f \u9700\u8981\u54ea\u4e9b\u6750\u6599\uff1f \u53ef\u80fd\u9700\u8981\u54ea\u4e9b\u6280\u8853\uff1f\n",
      "\n",
      "- ## [Connector] \u9023\u7dda Navi \u9801\u9762\uff0c\u4e26 parse \u5b83\u5011 !\n",
      "- ## [Parser] \u8a66\u8457\u7df4\u7fd2\u4f7f\u7528 regx \u628a\u63a8\u6587 pattern \u6293\u51fa\u4f86\uff01\n",
      "- ## [Parser] \u5728\u62bd\u53d6\u6587\u7ae0\u5167\u6587\u6642\uff0c\u5c07\u63a8\u6587\u90e8\u4efd\u53e6\u5b58\u4e00\u4efd\uff01\n",
      "- ## [Data Center] \u7df4\u7fd2\u5728 MongoDB \u4e2d\u4f5c aggregation \u548c\u7d71\u8a08\n"
     ]
    },
    {
     "cell_type": "markdown",
     "metadata": {
      "slideshow": {
       "slide_type": "slide"
      }
     },
     "source": [
      "# Reference:\n",
      "\n",
      "- ## c3h3\n",
      "    * ### https://www.youtube.com/watch?v=P3Xm_JFmh04\n",
      "    * ### https://www.youtube.com/watch?v=Sr6JLjgX_30\n",
      "    * ### https://www.youtube.com/watch?v=MI_Qlc-mjy0\n",
      "    * ### http://www.slideshare.net/c3h3/20130325-mldm-monday-spide-r\n",
      "    \n",
      "- ## Ronny Wang\n",
      "    * ### https://www.youtube.com/watch?v=qmtgeaajcew\n",
      "    \n",
      "- ## EC Lee\n",
      "    * ### https://www.youtube.com/watch?v=ixEz4GpTP5g&list=PLM7HGQkDNOHsaFMMbABbMCdMy7oVdVxxg&index=1\n",
      "    \n",
      "- ## Yen +1\n",
      "    * ### https://www.youtube.com/watch?v=nfGsdWEZg1g\n",
      "    * ### http://www.openfoundry.org/tw/foss-promotion-on-campus/cat_view/35/736/711/739\n",
      "\n"
     ]
    },
    {
     "cell_type": "markdown",
     "metadata": {
      "slideshow": {
       "slide_type": "subslide"
      }
     },
     "source": [
      "# [Homework] \n",
      "\n",
      "- ## \u8acb\u5927\u5bb6\u601d\u8003\u4e00\u4e0b\uff0c\u5728\u751f\u6d3b\u4e2d\u6709\u6c92\u6709\u4ec0\u9ebc\u554f\u984c\uff0c\u662f\u9700\u8981\u722c\u8cc7\u6599\u4f86\u89e3\u6c7a\u7684\uff1f\n",
      "- ## \u8acb\u8a66\u8457\u722c\u884c\u90a3\u500b\u7db2\u7ad9\uff0c\u6e05\u7406\u8cc7\u6599\uff0c\u4e26\u5b58\u5165 DB"
     ]
    },
    {
     "cell_type": "markdown",
     "metadata": {
      "slideshow": {
       "slide_type": "subslide"
      }
     },
     "source": [
      "# [Homework] \n",
      "\n",
      "- ## \u5982\u679c\u5927\u5bb6\u60f3\u4e0d\u5230\u7684\u8a71\uff0c\u53ef\u4ee5\u8a66\u8457\u5f9e\u4e0b\u65b9\u7db2\u7ad9\u60f3\u60f3 ...\n",
      "    * ### [icook] http://icook.tw/\n",
      "    * ### [pixnet] http://www.pixnet.net/\n",
      "    * ### [Lativ] http://www.lativ.com.tw/\n",
      "    * ### [\u6771\u4eac\u8457\u8863] http://www.mayuki.com.tw/\n",
      "    * ### [\u624b\u6a5f\u738b] http://www.sogi.com.tw/\n",
      "    * ### [Mobile01] http://www.mobile01.com/\n",
      "    * ### [\u860b\u679c\u65e5\u5831] http://www.appledaily.com.tw/\n",
      "    * ### [\u81ea\u7531\u6642\u5831] http://www.libertytimes.com.tw/\n",
      "    * ### [\u58f9\u9031\u520a] http://tw.next.nextmedia.com/\n",
      "    * ### [eprice] http://www.eprice.com.tw/\n",
      "    * ### [\u9732\u5929] http://www.ruten.com.tw/\n",
      "    * ### [\u54c1\u8cfc] http://www.pingle.com.tw/\n",
      "    * ### [YAHOO \u62cd\u8ce3] http://tw.bid.yahoo.com/\n",
      "    * ### [YAHOO \u8cfc\u7269] http://tw.buy.yahoo.com/\n",
      "    * ### [PCHOME \u5546\u5e97\u8857] http://www.pcstore.com.tw/\n",
      "    * ### [\u535a\u5ba2\u4f86] http://www.books.com.tw/\n",
      "    * ### [\u5bcc\u90a6 MoMo] http://www.momoshop.com.tw/main/Main.jsp\n",
      "    * ### [\u5168\u570b\u96fb\u5b50] http://www.elifemall.com.tw/\n",
      "    * ### [\u9806\u767c3C] http://www.sunfar.com.tw/ecsunfar/\n",
      "    * ### [\u5f69\u86793C] http://tw.mall.yahoo.com/store/honyu3c\n",
      "    * ### [\u795e\u8166\u570b\u969b] http://www.senao.com.tw/product.php\n",
      "    * ### [\u53f0\u7063\u5927\u54e5\u5927] http://telecom.taiwanmobile.com/emyfone/action/phone.do?utm_medium=rateplan&method=list&utm_source=twm_header&utm_campaign=aq&flowType=NP&fromSessionCheck=true#.UtemgZDtnAQ\n",
      "    * ### [agoda] http://www.agoda.com/zh-tw?setcookienew=1\n",
      "    * ### [ebay] http://www.ebay.com/\n",
      "    * ### [\u6dd8\u5bf6] http://tw.taobao.com/\n",
      "    * ### [\u4e00\u6dd8] http://www.etao.com/?tbpm=20140116\n",
      "    * ### [\u5929\u8c93] http://www.tmall.com/\n",
      "    * ### [\u4eac\u6771] http://www.jd.com/\n",
      "    \n",
      "    \n",
      "    \n",
      "    \n",
      "    "
     ]
    },
    {
     "cell_type": "markdown",
     "metadata": {
      "slideshow": {
       "slide_type": "subslide"
      }
     },
     "source": [
      "# \u611f\u8b1d\u5927\u5bb6!"
     ]
    }
   ],
   "metadata": {}
  }
 ]
}