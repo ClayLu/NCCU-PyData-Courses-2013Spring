{
 "metadata": {
  "name": ""
 },
 "nbformat": 3,
 "nbformat_minor": 0,
 "worksheets": [
  {
   "cells": [
    {
     "cell_type": "code",
     "collapsed": false,
     "input": [
      "%matplotlib inline"
     ],
     "language": "python",
     "metadata": {
      "slideshow": {
       "slide_type": "skip"
      }
     },
     "outputs": []
    },
    {
     "cell_type": "markdown",
     "metadata": {
      "slideshow": {
       "slide_type": "slide"
      }
     },
     "source": [
      "# \u4e00\u4e9b\u5c0f\u7bc4\u4f8b"
     ]
    },
    {
     "cell_type": "markdown",
     "metadata": {
      "slideshow": {
       "slide_type": "subslide"
      }
     },
     "source": [
      "# [Example1] \u6293\u53d6\u80a1\u5e02\u4e3b\u529b\u9032\u51fa\u8868\uff1a\n",
      "\n",
      "[![Web_kimo_stock](Lec2_slide_imgs/Web_kimo_stock.png.png)](http://tw.stock.yahoo.com/d/s/major_2451.html)"
     ]
    },
    {
     "cell_type": "markdown",
     "metadata": {
      "slideshow": {
       "slide_type": "subslide"
      }
     },
     "source": [
      "# [Example1] \u6293\u53d6\u80a1\u5e02\u4e3b\u529b\u9032\u51fa\u8868\uff1a"
     ]
    },
    {
     "cell_type": "code",
     "collapsed": false,
     "input": [
      "import requests\n",
      "import pandas as pd\n",
      "import numpy as np"
     ],
     "language": "python",
     "metadata": {},
     "outputs": []
    },
    {
     "cell_type": "code",
     "collapsed": false,
     "input": [
      "stock_id = \"2330\"\n",
      "res = requests.get(\"http://tw.stock.yahoo.com/d/s/major_%s.html\" % stock_id)\n",
      "tables = pd.read_html(res.text)\n",
      "\n",
      "#for one_table in tables:\n",
      "#   print \"~~~~~~~~~~~~~~~~~~~~~~~~~~~~~~~~~~~~~~~~~~~~\"\n",
      "#   print one_table.values.shape\n",
      "#   print one_table\n",
      "\n",
      "tables[4]"
     ],
     "language": "python",
     "metadata": {},
     "outputs": []
    },
    {
     "cell_type": "code",
     "collapsed": false,
     "input": [
      "tables[3]"
     ],
     "language": "python",
     "metadata": {
      "slideshow": {
       "slide_type": "subslide"
      }
     },
     "outputs": []
    },
    {
     "cell_type": "code",
     "collapsed": false,
     "input": [
      "tables[7]"
     ],
     "language": "python",
     "metadata": {},
     "outputs": []
    },
    {
     "cell_type": "code",
     "collapsed": false,
     "input": [
      "data_table = [one_table for one_table in tables if one_table.values.shape==(16,8)][0]\n",
      "data_table"
     ],
     "language": "python",
     "metadata": {
      "slideshow": {
       "slide_type": "subslide"
      }
     },
     "outputs": []
    },
    {
     "cell_type": "code",
     "collapsed": false,
     "input": [
      "date_table = [one_table for one_table in tables if one_table.values.shape==(1,3)][0]\n",
      "date_table"
     ],
     "language": "python",
     "metadata": {},
     "outputs": []
    },
    {
     "cell_type": "code",
     "collapsed": false,
     "input": [
      "import datetime\n",
      "date_tuple = map(int,date_table[0].values.tolist()[0].split(u\"\uff1a\")[-1].split(\"/\"))\n",
      "print \"date_tuple = \",date_tuple\n",
      "date_tuple[0] = date_tuple[0] + 1911\n",
      "print \"date_tuple = \",date_tuple\n",
      "import datetime\n",
      "date_obj = datetime.date(*date_tuple)\n",
      "print \"date_obj = \",date_obj\n",
      "print date_obj.strftime(\"%Y-%m-%d\")\n",
      "date_str = date_obj.strftime(\"%Y-%m-%d\")"
     ],
     "language": "python",
     "metadata": {
      "slideshow": {
       "slide_type": "subslide"
      }
     },
     "outputs": []
    },
    {
     "cell_type": "code",
     "collapsed": false,
     "input": [
      "pre_df = np.r_[ data_table.values[1:,0:4], data_table.values[1:,4:]]\n",
      "print pre_df"
     ],
     "language": "python",
     "metadata": {
      "slideshow": {
       "slide_type": "subslide"
      }
     },
     "outputs": []
    },
    {
     "cell_type": "code",
     "collapsed": false,
     "input": [
      "df = pd.DataFrame(pre_df)\n",
      "df.columns = [\"Name\",\"Buy\",\"Sell\",\"Net\"]\n",
      "df"
     ],
     "language": "python",
     "metadata": {
      "slideshow": {
       "slide_type": "subslide"
      }
     },
     "outputs": []
    },
    {
     "cell_type": "code",
     "collapsed": false,
     "input": [
      "df[\"Date\"] = df[\"Name\"].map(lambda xx: date_obj)\n",
      "df[\"Stock_id\"] = df[\"Name\"].map(lambda xx: stock_id)\n",
      "df.reindex(columns=[\"Date\",\"Stock_id\",\"Name\",\"Buy\",\"Sell\",\"Net\"])\n"
     ],
     "language": "python",
     "metadata": {
      "slideshow": {
       "slide_type": "subslide"
      }
     },
     "outputs": []
    },
    {
     "cell_type": "code",
     "collapsed": false,
     "input": [
      "def get_stock_major_info(stock_id):\n",
      "    \n",
      "    # Original df\n",
      "    res = requests.get(\"http://tw.stock.yahoo.com/d/s/major_%s.html\" % str(stock_id))\n",
      "    tables = pd.read_html(res.text)\n",
      "    data_table = [one_table for one_table in tables if one_table.values.shape==(16,8)][0]\n",
      "    pre_df = np.r_[ data_table.values[1:,0:4], data_table.values[1:,4:]]\n",
      "    df = pd.DataFrame(pre_df)\n",
      "    df.columns = [\"Name\",\"Buy\",\"Sell\",\"Net\"]\n",
      "    \n",
      "    # df with Date and Stock_id\n",
      "    date_table = [one_table for one_table in tables if one_table.values.shape==(1,3)][0]\n",
      "    date_tuple = map(int,date_table[0].values.tolist()[0].split(u\"\uff1a\")[-1].split(\"/\"))\n",
      "    date_tuple[0] = date_tuple[0] + 1911\n",
      "    import datetime\n",
      "    date_obj = datetime.date(*date_tuple)\n",
      "    df[\"Date\"] = df[\"Name\"].map(lambda xx: date_obj)\n",
      "    df[\"Stock_id\"] = df[\"Name\"].map(lambda xx: stock_id)\n",
      "    \n",
      "    df = df.reindex(columns=[\"Date\",\"Stock_id\",\"Name\",\"Buy\",\"Sell\",\"Net\"])\n",
      "    \n",
      "    return df \n",
      "\n",
      "stock_major_df = get_stock_major_info(2330)\n",
      "stock_major_df"
     ],
     "language": "python",
     "metadata": {
      "slideshow": {
       "slide_type": "subslide"
      }
     },
     "outputs": []
    },
    {
     "cell_type": "markdown",
     "metadata": {
      "slideshow": {
       "slide_type": "subslide"
      }
     },
     "source": [
      "# [Example 1] \u5b78\u7fd2\u76ee\u6a19\uff1a\n",
      "\n",
      "- ## [Connector] \u4f7f\u7528 GET method \u9023\u7dda\n",
      "- ## [Parser] \u4f7f\u7528 pandas.read_html \u8b80\u53d6 table\n",
      "- ## [Data Center] \u4f7f\u7528 pandas.to_csv \u5c07\u8cc7\u6599\u5beb\u5165 csv \u6a94\u6848"
     ]
    },
    {
     "cell_type": "markdown",
     "metadata": {
      "slideshow": {
       "slide_type": "fragment"
      }
     },
     "source": [
      "# [Example1] \u4f7f\u7528\u6280\u8853\uff1a\n",
      "\n",
      "- ## [Connector] requests.get\n",
      "- ## [Parser] pandas.read_html / numpy "
     ]
    },
    {
     "cell_type": "markdown",
     "metadata": {
      "slideshow": {
       "slide_type": "subslide"
      }
     },
     "source": [
      "# [Example 1] Homeworks\uff1a\n",
      "\n",
      "- ## [Data Science] \u60f3\u60f3\u8cc7\u6599\u53ef\u4ee5\u5982\u4f55\u4f7f\u7528\uff1f \u8981\u554f\u8cc7\u6599\u54ea\u4e9b\u554f\u984c\u5462\uff1f\n",
      "- ## [Data Science] \u8981\u5982\u4f55\u56de\u7b54\u524d\u8ff0\u7684\u554f\u984c\u5462\uff1f \u9700\u8981\u54ea\u4e9b\u6750\u6599\uff1f \u53ef\u80fd\u9700\u8981\u54ea\u4e9b\u6280\u8853\uff1f\n",
      "- ## [Connector] \u7df4\u7fd2\u4f7f\u7528 GET method \u9023\u7dda\u5176\u4ed6\u7db2\u7ad9\uff0c\u6709\u6c92\u6709\u9047\u5230\u4ec0\u9ebc\u554f\u984c\u5462\uff1f\n",
      "- ## [Parser] \u4f7f\u7528 pandas.read_html \u8b80\u53d6 table\n",
      "- ## [Data Center] \u7df4\u7fd2\u4f7f\u7528 pandas.read_csv or csv \u5c07\u5beb\u51fa\u7684 csv \u6a94\u6848\u8b80\u5165 Python"
     ]
    },
    {
     "cell_type": "markdown",
     "metadata": {
      "slideshow": {
       "slide_type": "slide"
      }
     },
     "source": [
      "# [Example 2] \u6293\u80a1\u7968\u4ee3\u78bc\uff1a\n",
      "\n",
      "[![Web_mops_t51sb01](Lec2_slide_imgs/Web_mops_t51sb01.png)](http://mops.twse.com.tw/mops/web/t51sb01)"
     ]
    },
    {
     "cell_type": "markdown",
     "metadata": {
      "slideshow": {
       "slide_type": "subslide"
      }
     },
     "source": [
      "# [Example 2 ] \u89e3\u6cd5\u3127 PageParser\uff1a"
     ]
    },
    {
     "cell_type": "code",
     "collapsed": false,
     "input": [
      "import requests\n",
      "import pandas as pd\n",
      "import numpy as np"
     ],
     "language": "python",
     "metadata": {
      "slideshow": {
       "slide_type": "-"
      }
     },
     "outputs": []
    },
    {
     "cell_type": "code",
     "collapsed": false,
     "input": [
      "req_data = {\n",
      "\t\"encodeURIComponent\":1,\n",
      "\t\"step\":1,\n",
      "\t\"firstin\":1,\n",
      "\t\"TYPEK\":\"sii\",\n",
      "\t\"code\":\"\"\n",
      "}\n",
      "\n",
      "res = requests.post(\"http://mops.twse.com.tw/mops/web/ajax_t51sb01\",data = req_data)\n",
      "tables = pd.read_html(res.text)\n"
     ],
     "language": "python",
     "metadata": {},
     "outputs": []
    },
    {
     "cell_type": "code",
     "collapsed": false,
     "input": [
      "len(tables)"
     ],
     "language": "python",
     "metadata": {
      "slideshow": {
       "slide_type": "-"
      }
     },
     "outputs": []
    },
    {
     "cell_type": "code",
     "collapsed": false,
     "input": [
      "dirty_df = [ tab_df for tab_df in tables if len(tab_df.values[:,0])>1][0]\n",
      "# dirty_df\n",
      "\n",
      "print \"dirty_df.values.shape = \",dirty_df.values.shape\n",
      "print \"dirty_df.values[:,0] = \",dirty_df.values[:,0].tolist()"
     ],
     "language": "python",
     "metadata": {
      "slideshow": {
       "slide_type": "subslide"
      }
     },
     "outputs": []
    },
    {
     "cell_type": "code",
     "collapsed": false,
     "input": [
      "Stock_IDs = [ str(int(xx)) for xx in dirty_df.values[:,0].tolist() if xx>0] \n",
      "print len(Stock_IDs)\n",
      "print Stock_IDs"
     ],
     "language": "python",
     "metadata": {
      "slideshow": {
       "slide_type": "subslide"
      }
     },
     "outputs": []
    },
    {
     "cell_type": "code",
     "collapsed": false,
     "input": [
      "total_df = get_stock_major_info(Stock_IDs[0])\n",
      "for one_stock_id in Stock_IDs[1:50]:\n",
      "    try:\n",
      "        new_df = get_stock_major_info(one_stock_id)\n",
      "        total_df = total_df.append(new_df)\n",
      "    except Exception as e:\n",
      "        print \"~~~~~~~~~~~~~~~~~~~~\"\n",
      "        print \"Error in %s\" % one_stock_id \n",
      "        print e\n",
      "        print \"~~~~~~~~~~~~~~~~~~~~\"\n",
      "        \n",
      "print total_df.shape    \n"
     ],
     "language": "python",
     "metadata": {
      "slideshow": {
       "slide_type": "subslide"
      }
     },
     "outputs": []
    },
    {
     "cell_type": "code",
     "collapsed": false,
     "input": [
      "total_df.head()"
     ],
     "language": "python",
     "metadata": {
      "slideshow": {
       "slide_type": "subslide"
      }
     },
     "outputs": []
    },
    {
     "cell_type": "code",
     "collapsed": false,
     "input": [
      "total_df.to_csv(\"stock_major_info.csv\",encoding=\"utf8\",index=None)\n",
      "total_df.groupby(\"Name\")[\"Buy\",\"Sell\",\"Net\"].sum().sort(\"Buy\",ascending=False).head(20)"
     ],
     "language": "python",
     "metadata": {
      "slideshow": {
       "slide_type": "subslide"
      }
     },
     "outputs": []
    },
    {
     "cell_type": "markdown",
     "metadata": {
      "slideshow": {
       "slide_type": "subslide"
      }
     },
     "source": [
      "# \u5c07\u8cc7\u6599\u5beb\u5165 sqlite\uff1a"
     ]
    },
    {
     "cell_type": "code",
     "collapsed": false,
     "input": [
      "import sqlite3\n",
      "conn = sqlite3.connect('nccu_mldm_course.db')\n",
      "total_df.to_sql(name = \"stock_major\", con=conn, if_exists=\"replace\")"
     ],
     "language": "python",
     "metadata": {},
     "outputs": []
    },
    {
     "cell_type": "markdown",
     "metadata": {
      "slideshow": {
       "slide_type": "subslide"
      }
     },
     "source": [
      "# [Example 2] \u89e3\u6cd5\u3127 \u5b78\u7fd2\u76ee\u6a19\uff1a\n",
      "\n",
      "- ## [Connector] \u4f7f\u7528 POST method \u9023\u7dda\n",
      "- ## [Parser] \u4f7f\u7528 pandas.read_html \u8b80\u53d6 table\n",
      "- ## [Data Center] Hello sqlite3!"
     ]
    },
    {
     "cell_type": "markdown",
     "metadata": {
      "slideshow": {
       "slide_type": "fragment"
      }
     },
     "source": [
      "# [Example 2 ] \u89e3\u6cd5\u3127 PageParser \u4f7f\u7528\u6280\u8853\uff1a\n",
      "\n",
      "- ## [Connector] requests.post\n",
      "- ## [Parser] pandas.read_html / numpy.array.tolist()\n",
      "- ## [Data Center] DataFrame.to_csv / sqlite3 / DataFrame.to_sql\n",
      "- ## [Analysis] DataFrame.groupby / sum / sort"
     ]
    },
    {
     "cell_type": "markdown",
     "metadata": {
      "slideshow": {
       "slide_type": "subslide"
      }
     },
     "source": [
      "# [Example 2] Exercise\uff1a\n",
      "\n",
      "- ## [Data Science] \u60f3\u60f3\u8cc7\u6599\u53ef\u4ee5\u5982\u4f55\u4f7f\u7528\uff1f \u8981\u554f\u8cc7\u6599\u54ea\u4e9b\u554f\u984c\u5462\uff1f\n",
      "- ## [Data Science] \u8981\u5982\u4f55\u56de\u7b54\u524d\u8ff0\u7684\u554f\u984c\u5462\uff1f \u9700\u8981\u54ea\u4e9b\u6750\u6599\uff1f \u53ef\u80fd\u9700\u8981\u54ea\u4e9b\u6280\u8853\uff1f\n",
      "- ## [Data Center] \u7df4\u7fd2\u5728 sqlite3 \u4e2d\u4e0b\u9054 SQL \u6307\u4ee4\u4f5c\u7c21\u55ae\u7684 GroupBy and Data Aggregation"
     ]
    },
    {
     "cell_type": "markdown",
     "metadata": {
      "slideshow": {
       "slide_type": "subslide"
      }
     },
     "source": [
      "# [Example 2] \u89e3\u6cd5\u4e8c CSV File Download\uff1a"
     ]
    },
    {
     "cell_type": "code",
     "collapsed": false,
     "input": [
      "import requests\n",
      "import pandas as pd\n",
      "import numpy as np\n",
      "import datetime\n",
      "from pyquery import PyQuery"
     ],
     "language": "python",
     "metadata": {},
     "outputs": []
    },
    {
     "cell_type": "code",
     "collapsed": false,
     "input": [
      "now_time = datetime.datetime.now()\n",
      "dw_filename = now_time.strftime(\"t51sb01_%Y%m%d_%H%M%S565.csv\")"
     ],
     "language": "python",
     "metadata": {},
     "outputs": []
    },
    {
     "cell_type": "code",
     "collapsed": false,
     "input": [
      "req_data = {\n",
      "\t\"encodeURIComponent\":1,\n",
      "\t\"step\":1,\n",
      "\t\"firstin\":1,\n",
      "\t\"TYPEK\":\"sii\",\n",
      "\t\"code\":\"\"\n",
      "}\n",
      "\n",
      "\n",
      "res1 = requests.post(\"http://mops.twse.com.tw/mops/web/ajax_t51sb01\",data = req_data)"
     ],
     "language": "python",
     "metadata": {},
     "outputs": []
    },
    {
     "cell_type": "code",
     "collapsed": false,
     "input": [
      "S = PyQuery(res1.text)\n",
      "dw_filename = S('input[name=\"filename\"]').map(lambda :PyQuery(this).val())[0]\n",
      "print \"dw_filename = \",dw_filename"
     ],
     "language": "python",
     "metadata": {
      "slideshow": {
       "slide_type": "subslide"
      }
     },
     "outputs": []
    },
    {
     "cell_type": "code",
     "collapsed": false,
     "input": [
      "req_data = {\n",
      "\"firstin\":\"true\",\n",
      "\"step\":\"10\",\n",
      "\"filename\":dw_filename #\"t51sb01_20140113_040331565.csv\"\n",
      "}\n",
      "\n",
      "\n",
      "r = requests.post(\"http://mops.twse.com.tw/server-java/t105sb02\",data = req_data)\n",
      "r.encoding = \"big5\"\n",
      "print r.encoding"
     ],
     "language": "python",
     "metadata": {
      "slideshow": {
       "slide_type": "subslide"
      }
     },
     "outputs": []
    },
    {
     "cell_type": "code",
     "collapsed": false,
     "input": [
      "print r.text"
     ],
     "language": "python",
     "metadata": {
      "slideshow": {
       "slide_type": "subslide"
      }
     },
     "outputs": []
    },
    {
     "cell_type": "markdown",
     "metadata": {
      "slideshow": {
       "slide_type": "subslide"
      }
     },
     "source": [
      "# Saving requests output as a File:"
     ]
    },
    {
     "cell_type": "code",
     "collapsed": false,
     "input": [
      "# with open(\"stock_ids.csv\", 'wb') as f:\n",
      "#     for chunk in r.iter_content(chunk_size=1024): \n",
      "#         if chunk: # filter out keep-alive new chunks\n",
      "#             f.write(chunk)\n",
      "#             f.flush()\n",
      "\n",
      "f = open(\"stock_ids.csv\", 'wb')\n",
      "for chunk in r.iter_content(chunk_size=512 * 1024): \n",
      "    if chunk: # filter out keep-alive new chunks\n",
      "        f.write(chunk)\n",
      "f.close()"
     ],
     "language": "python",
     "metadata": {},
     "outputs": []
    },
    {
     "cell_type": "markdown",
     "metadata": {
      "slideshow": {
       "slide_type": "subslide"
      }
     },
     "source": [
      "# \u932f\u4f4d\u5143\u5147:"
     ]
    },
    {
     "cell_type": "code",
     "collapsed": false,
     "input": [
      "r.text.split(\"\\n\")[0]\n",
      "csv_data_list = map(lambda xx:xx.split(\",\"),r.text.split(\"\\n\"))\n",
      "len(csv_data_list)\n",
      "#map(len,csv_data_list)\n",
      "print csv_data_list[13][12]\n",
      "print csv_data_list[14][12]"
     ],
     "language": "python",
     "metadata": {},
     "outputs": []
    },
    {
     "cell_type": "markdown",
     "metadata": {
      "slideshow": {
       "slide_type": "subslide"
      }
     },
     "source": [
      "# \u6709\u807d\u8aaa\u53f0\u7063\u653f\u5e9c\u7684 CSV \u90fd\u8ddf\u5225\u4eba\u9577\u7684\u4e0d\u592a\u4e00\u6a23 ..."
     ]
    },
    {
     "cell_type": "code",
     "collapsed": false,
     "input": [
      "from StringIO import StringIO\n",
      "test_df = pd.read_csv(StringIO(r.text))"
     ],
     "language": "python",
     "metadata": {},
     "outputs": []
    },
    {
     "cell_type": "markdown",
     "metadata": {
      "slideshow": {
       "slide_type": "subslide"
      }
     },
     "source": [
      "# [Example 2] \u89e3\u6cd5\u4e8c CSV File Download \u4f7f\u7528\u6280\u8853\uff1a\n",
      "\n",
      "- ## [Connector] requests.post\n",
      "- ## [Parser] pyquery.PyQuery\n",
      "\n",
      "# [Exercise]\n",
      "\n",
      "- ## \u63a5\u7e8c\u8655\u7406\u6536\u5230\u7684 CSV \u5b57\u4e32\uff0c\u5c07\u5b57\u4e32\u8f49\u6210 dataframe\uff0c\u4e26\u5b58\u6a94\n"
     ]
    },
    {
     "cell_type": "markdown",
     "metadata": {
      "slideshow": {
       "slide_type": "slide"
      }
     },
     "source": [
      "# [Example 3] \u6293\u76f8\u7c3f\uff1a\n",
      "\n",
      "[![Web_isuphoto](Lec2_slide_imgs/Web_isuphoto.png)](http://pi.isuphoto.org/uei)"
     ]
    },
    {
     "cell_type": "markdown",
     "metadata": {
      "slideshow": {
       "slide_type": "subslide"
      }
     },
     "source": [
      "# [Example 3] \u63a2\u7d22 API \u898f\u5247\uff1a\n",
      "\n",
      "- ## \u5f9e Network \u9023\u7dda\u4e2d\u5c0b\u627e\uff1a\n",
      "    * ### http://pi.isuphoto.org/api/user/uei?callback=jQuery17204146709479391575_1389762662770&page=0&_=1389762662792\n",
      "    * ### \u898f\u5247 /api/user/{{USER}}?callback=jQuery17204146709479391575_1389762662770&page={{Page_N}}&_=1389762662792\n",
      "    \n",
      "\n",
      "- ## \u5f9e Source Code \u4e2d\u5c0b\u627e\uff1a\n",
      "    * ### http://pi.isuphoto.org/api/user/uei?page=0\n",
      "    * ### \u898f\u5247 /api/user/{{USER}}?page={{Page_N}}"
     ]
    },
    {
     "cell_type": "markdown",
     "metadata": {
      "slideshow": {
       "slide_type": "subslide"
      }
     },
     "source": [
      "# [Example 3] \u6293\u76f8\u7c3f\uff1a"
     ]
    },
    {
     "cell_type": "code",
     "collapsed": false,
     "input": [
      "import requests"
     ],
     "language": "python",
     "metadata": {},
     "outputs": []
    },
    {
     "cell_type": "code",
     "collapsed": false,
     "input": [
      "r = requests.get(\"http://pi.isuphoto.org/api/user/uei?page=0\")\n",
      "print r.text"
     ],
     "language": "python",
     "metadata": {},
     "outputs": []
    },
    {
     "cell_type": "markdown",
     "metadata": {
      "slideshow": {
       "slide_type": "subslide"
      }
     },
     "source": [
      "# \u88dc\u5145\uff1a JSON V.S. JSONP\n",
      "\n",
      "![](Lec2_slide_imgs/jsonp_pic3.png)\n"
     ]
    },
    {
     "cell_type": "markdown",
     "metadata": {
      "slideshow": {
       "slide_type": "subslide"
      }
     },
     "source": [
      "# \u88dc\u5145\uff1a JSON V.S. JSONP\n",
      "\n",
      "![](Lec2_slide_imgs/jsonp_pic1.png)\n"
     ]
    },
    {
     "cell_type": "markdown",
     "metadata": {
      "slideshow": {
       "slide_type": "subslide"
      }
     },
     "source": [
      "# \u88dc\u5145\uff1a JSON V.S. JSONP\n",
      "\n",
      "![](Lec2_slide_imgs/jsonp_pic2.png)\n"
     ]
    },
    {
     "cell_type": "markdown",
     "metadata": {
      "slideshow": {
       "slide_type": "subslide"
      }
     },
     "source": [
      "# [Example 3] \u4f7f\u7528 re \u6a21\u7d44 parse jsonp\uff1a"
     ]
    },
    {
     "cell_type": "code",
     "collapsed": false,
     "input": [
      "import re"
     ],
     "language": "python",
     "metadata": {},
     "outputs": []
    },
    {
     "cell_type": "code",
     "collapsed": false,
     "input": [
      "re_search_result = re.search(r\"(?P<jsonp_fn>[^(]*)\\((?P<json_data>\\[[^]]+\\])\\)\",r.text)"
     ],
     "language": "python",
     "metadata": {},
     "outputs": []
    },
    {
     "cell_type": "code",
     "collapsed": false,
     "input": [
      "print dir(re_search_result)"
     ],
     "language": "python",
     "metadata": {},
     "outputs": []
    },
    {
     "cell_type": "code",
     "collapsed": false,
     "input": [
      "re_search_result.groupdict()"
     ],
     "language": "python",
     "metadata": {
      "slideshow": {
       "slide_type": "subslide"
      }
     },
     "outputs": []
    },
    {
     "cell_type": "markdown",
     "metadata": {
      "slideshow": {
       "slide_type": "subslide"
      }
     },
     "source": [
      "# \u62ff\u5230 json_data"
     ]
    },
    {
     "cell_type": "code",
     "collapsed": false,
     "input": [
      "json_data_str = re_search_result.groupdict()[\"json_data\"]\n",
      "json_data = eval(json_data_str)\n",
      "json_data[:3]"
     ],
     "language": "python",
     "metadata": {
      "slideshow": {
       "slide_type": "-"
      }
     },
     "outputs": []
    },
    {
     "cell_type": "markdown",
     "metadata": {
      "slideshow": {
       "slide_type": "subslide"
      }
     },
     "source": [
      "# \u585e\u9032 MongoDB"
     ]
    },
    {
     "cell_type": "code",
     "collapsed": false,
     "input": [
      "from pymongo import MongoClient\n",
      "mongo_client = MongoClient()\n",
      "nccu_mldm_course_db = mongo_client.nccu_mldm_course_db\n",
      "isuphoto_col = nccu_mldm_course_db.isuphoto_col"
     ],
     "language": "python",
     "metadata": {},
     "outputs": []
    },
    {
     "cell_type": "code",
     "collapsed": false,
     "input": [
      "isuphoto_col.drop()\n",
      "isuphoto_col.insert(json_data)"
     ],
     "language": "python",
     "metadata": {},
     "outputs": []
    },
    {
     "cell_type": "markdown",
     "metadata": {
      "slideshow": {
       "slide_type": "subslide"
      }
     },
     "source": [
      "# \u67e5\u8a62 MongoDB"
     ]
    },
    {
     "cell_type": "code",
     "collapsed": false,
     "input": [
      "list(isuphoto_col.find())[:3]"
     ],
     "language": "python",
     "metadata": {},
     "outputs": []
    },
    {
     "cell_type": "markdown",
     "metadata": {
      "slideshow": {
       "slide_type": "subslide"
      }
     },
     "source": [
      "# \u4f7f\u7528 read_json \u8f49\u6210 DataFrame"
     ]
    },
    {
     "cell_type": "code",
     "collapsed": false,
     "input": [
      "import ujson\n",
      "json_data_df = pd.read_json(ujson.dumps(json_data))\n",
      "json_data_df"
     ],
     "language": "python",
     "metadata": {
      "slideshow": {
       "slide_type": "-"
      }
     },
     "outputs": []
    },
    {
     "cell_type": "markdown",
     "metadata": {
      "slideshow": {
       "slide_type": "subslide"
      }
     },
     "source": [
      "# \u4f7f\u7528 read_json \u8f49\u6210 DataFrame"
     ]
    },
    {
     "cell_type": "code",
     "collapsed": false,
     "input": [
      "from pyquery import PyQuery\n",
      "json_data_df[\"pic\"] = json_data_df[\"pic\"].apply(lambda xx:PyQuery(xx)(\"img\").attr(\"src\"))\n",
      "json_data_df[\"coll\"] = json_data_df[\"coll\"].apply(lambda xx:PyQuery(xx).text())\n",
      "json_data_df[\"loc\"] = json_data_df[\"loc\"].apply(lambda xx:PyQuery(xx)(\"a\").attr(\"href\") if len(xx)>0 else xx)\n",
      "#json_data_df[\"cc_class\"] = json_data_df[\"cc\"].apply(lambda xx:PyQuery(xx)(\"i\").attr(\"class\"))\n",
      "json_data_df"
     ],
     "language": "python",
     "metadata": {
      "slideshow": {
       "slide_type": "-"
      }
     },
     "outputs": []
    },
    {
     "cell_type": "markdown",
     "metadata": {
      "slideshow": {
       "slide_type": "subslide"
      }
     },
     "source": [
      "# Put Them Together\uff1a"
     ]
    },
    {
     "cell_type": "code",
     "collapsed": false,
     "input": [
      "isuphoto_col.drop()\n",
      "isuphoto_api_url_gen = lambda user_id, page_n: \"http://pi.isuphoto.org/api/user/%s?page=%s\" % (str(user_id),int(page_n))\n",
      "\n",
      "page_count = 0\n",
      "cont_connect = True\n",
      "while cont_connect:\n",
      "    try:\n",
      "        web_url = isuphoto_api_url_gen(\"uei\",page_count)\n",
      "        r = requests.get(web_url)\n",
      "        re_search_result = re.search(r\"(?P<jsonp_fn>[^(]*)\\((?P<json_data>\\[[^]]+\\])\\)\",r.text)\n",
      "        if re_search_result != None:\n",
      "            json_data_str = re_search_result.groupdict()[\"json_data\"]\n",
      "            json_data = eval(json_data_str)\n",
      "            isuphoto_col.insert(json_data)\n",
      "            page_count = page_count + 1\n",
      "            print \"[HAS_DATA]\",web_url\n",
      "        else:\n",
      "            cont_connect = False\n",
      "            print \"[No_DATA]\",web_url\n",
      "    except:\n",
      "        cont_connect = False\n",
      "        \n",
      "    \n"
     ],
     "language": "python",
     "metadata": {},
     "outputs": []
    },
    {
     "cell_type": "markdown",
     "metadata": {
      "slideshow": {
       "slide_type": "subslide"
      }
     },
     "source": [
      "# \u6293\u6293\u770b\u5176\u4ed6\u4f5c\u8005\uff1a"
     ]
    },
    {
     "cell_type": "code",
     "collapsed": false,
     "input": [
      "page_count = 0\n",
      "cont_connect = True\n",
      "\n",
      "while cont_connect:\n",
      "    try:\n",
      "        web_url = isuphoto_api_url_gen(\"toomore\",page_count)\n",
      "        r = requests.get(web_url)\n",
      "        re_search_result = re.search(r\"(?P<jsonp_fn>[^(]*)\\((?P<json_data>\\[[^]]+\\])\\)\",r.text)\n",
      "        if re_search_result != None:\n",
      "            json_data_str = re_search_result.groupdict()[\"json_data\"]\n",
      "            json_data = eval(json_data_str)\n",
      "            isuphoto_col.insert(json_data)\n",
      "            page_count = page_count + 1\n",
      "            print \"[HAS_DATA]\",web_url\n",
      "        else:\n",
      "            cont_connect = False\n",
      "            print \"[No_DATA]\",web_url\n",
      "    except:\n",
      "        cont_connect = False\n"
     ],
     "language": "python",
     "metadata": {},
     "outputs": []
    },
    {
     "cell_type": "markdown",
     "metadata": {
      "slideshow": {
       "slide_type": "subslide"
      }
     },
     "source": [
      "# [Example 3] \u5b78\u7fd2\u76ee\u6a19\uff1a\n",
      "\n",
      "- ## [Connector] \u4f7f\u7528 POST method \u9023\u7dda\n",
      "- ## [Parser] \u4f7f\u7528 regx \u89e3\u6790\u5b57\u4e32 / \u4f7f\u7528 PyQuery \u89e3\u6790 XML or HTML\n",
      "- ## [Data Center] Hello MongoDB!\n",
      "\n"
     ]
    },
    {
     "cell_type": "markdown",
     "metadata": {
      "slideshow": {
       "slide_type": "fragment"
      }
     },
     "source": [
      "# [Example 3] \u4f7f\u7528\u6280\u8853\uff1a\n",
      "\n",
      "- ## [Connector] requests.post\n",
      "- ## [Parser] pyquery.PyQuery / re.search / eval / ujson / DataFrame\n",
      "- ## [Data Center] pymongo\n",
      "\n"
     ]
    },
    {
     "cell_type": "markdown",
     "metadata": {
      "slideshow": {
       "slide_type": "subslide"
      }
     },
     "source": [
      "# [Example 3] Homeworks\uff1a\n",
      "\n",
      "- ## [Data Science] \u60f3\u60f3\u8cc7\u6599\u53ef\u4ee5\u5982\u4f55\u4f7f\u7528\uff1f \u8981\u554f\u8cc7\u6599\u54ea\u4e9b\u554f\u984c\u5462\uff1f\n",
      "- ## [Data Science] \u8981\u5982\u4f55\u56de\u7b54\u524d\u8ff0\u7684\u554f\u984c\u5462\uff1f \u9700\u8981\u54ea\u4e9b\u6750\u6599\uff1f \u53ef\u80fd\u9700\u8981\u54ea\u4e9b\u6280\u8853\uff1f\n",
      "- ## [Parser] [PCHome \u591a\u898f\u683c\u5546\u54c1\u9801](http://shopping.pchome.com.tw/DGALKS-A75900522)\n",
      "    * ## \u8acb\u4f7f\u7528 re \u6a21\u7d44\uff0c\u6293\u51fa\u4e0d\u540c\u984f\u8272\u7684\uff1a\u5eab\u5b58\u6578\u91cf\uff0c\u76f8\u7247\u7db2\u5740 ... \n",
      "- ## [Parser & Data Center] \u7df4\u7fd2\u5728 MongoDB \u4e2d, \u4f5c Cleaning Data \u7684\u52d5\u4f5c \n",
      "- ## [Data Center] \u7df4\u7fd2\u5728 MongoDB \u4e2d\u4f5c Data Aggregation & MapReducce\n",
      "\n"
     ]
    },
    {
     "cell_type": "markdown",
     "metadata": {
      "slideshow": {
       "slide_type": "slide"
      }
     },
     "source": [
      "# [Example 4] \u6293\u671f\u8ca8\u4ea4\u6613\u6240\u8cc7\u6599\uff1a\n",
      "\n",
      "[![](Lec2_slide_imgs/Web_Taifex.png)](http://www.taifex.com.tw/eng/eng3/eng3_2.asp)"
     ]
    },
    {
     "cell_type": "code",
     "collapsed": false,
     "input": [
      "import requests\n",
      "r = requests.get(\"http://www.taifex.com.tw/eng/eng3/eng3_2dl.asp?COMMODITY_ID=all&DATA_DATE=2013/03/01&DATA_DATE1=2013/03/05\")"
     ],
     "language": "python",
     "metadata": {
      "slideshow": {
       "slide_type": "subslide"
      }
     },
     "outputs": []
    },
    {
     "cell_type": "code",
     "collapsed": false,
     "input": [
      "r.history"
     ],
     "language": "python",
     "metadata": {
      "slideshow": {
       "slide_type": "fragment"
      }
     },
     "outputs": []
    },
    {
     "cell_type": "code",
     "collapsed": false,
     "input": [
      "f = open(\"taifex_future_data.csv\", 'wb')\n",
      "for chunk in r.iter_content(chunk_size=512 * 1024): \n",
      "    if chunk: # filter out keep-alive new chunks\n",
      "        f.write(chunk)\n",
      "f.close()"
     ],
     "language": "python",
     "metadata": {
      "slideshow": {
       "slide_type": "fragment"
      }
     },
     "outputs": []
    },
    {
     "cell_type": "code",
     "collapsed": false,
     "input": [
      "r.text"
     ],
     "language": "python",
     "metadata": {
      "slideshow": {
       "slide_type": "subslide"
      }
     },
     "outputs": []
    },
    {
     "cell_type": "code",
     "collapsed": false,
     "input": [
      "from StringIO import StringIO\n",
      "taifex_future_data = pd.read_csv(StringIO(r.text))\n",
      "taifex_future_data.head()"
     ],
     "language": "python",
     "metadata": {
      "slideshow": {
       "slide_type": "subslide"
      }
     },
     "outputs": []
    },
    {
     "cell_type": "markdown",
     "metadata": {
      "slideshow": {
       "slide_type": "subslide"
      }
     },
     "source": [
      "# [Example 4] \u5b78\u7fd2\u76ee\u6a19\uff1a\n",
      "\n",
      "- ## [Connector] \u4f7f\u7528 POST method \u9023\u7dda (\u9700\u8981 Cookie \u4e26\u5177\u6709 redirect \u7684\u7db2\u9801)\n",
      "- ## [Parser] pandas.read_csv\n",
      "\n"
     ]
    },
    {
     "cell_type": "markdown",
     "metadata": {
      "slideshow": {
       "slide_type": "fragment"
      }
     },
     "source": [
      "# [Example 4] \u4f7f\u7528\u6280\u8853\uff1a\n",
      "\n",
      "- ## [Connector] requests.post\n",
      "- ## [Parser] pandas.read_csv\n",
      "\n",
      "\n"
     ]
    },
    {
     "cell_type": "markdown",
     "metadata": {
      "slideshow": {
       "slide_type": "subslide"
      }
     },
     "source": [
      "# [Example 4] Exercise\uff1a\n",
      "\n",
      "- ## [Data Science] \u60f3\u60f3\u8cc7\u6599\u53ef\u4ee5\u5982\u4f55\u4f7f\u7528\uff1f \u8981\u554f\u8cc7\u6599\u54ea\u4e9b\u554f\u984c\u5462\uff1f\n",
      "- ## [Data Science] \u8981\u5982\u4f55\u56de\u7b54\u524d\u8ff0\u7684\u554f\u984c\u5462\uff1f \u9700\u8981\u54ea\u4e9b\u6750\u6599\uff1f \u53ef\u80fd\u9700\u8981\u54ea\u4e9b\u6280\u8853\uff1f\n",
      "- ## [Connector] \u8acb\u4f7f\u7528 urllib, urllib2 \u8a66\u8457\u9023\u7dda\u540c\u4e00\u500b\u7db2\u9801\uff0c\u770b\u770b\u662f\u5426\u80fd\u53d6\u5f97\u8cc7\u6599\uff1f\n",
      "- ## [Parser] Cleaning Data before saving them to DB\n",
      "- ## [Data Center] \u5c07 Data \u5b58\u5165 DB\uff0c\u7df4\u7fd2\u8b80\u53d6\u8207\u5206\u6790"
     ]
    },
    {
     "cell_type": "markdown",
     "metadata": {
      "slideshow": {
       "slide_type": "slide"
      }
     },
     "source": [
      "# [Example 5] \u5167\u653f\u90e8\u5be6\u50f9\u767b\u9304\uff1a\n",
      "\n",
      "[![](Lec2_slide_imgs/Web_lvr_land.png)](http://lvr.land.moi.gov.tw/N11/homePage.action)"
     ]
    },
    {
     "cell_type": "code",
     "collapsed": false,
     "input": [
      "import requests\n",
      "from pyquery import PyQuery\n",
      "s = requests.Session()"
     ],
     "language": "python",
     "metadata": {
      "slideshow": {
       "slide_type": "subslide"
      }
     },
     "outputs": []
    },
    {
     "cell_type": "code",
     "collapsed": false,
     "input": [
      "res1 = s.get(\"http://lvr.land.moi.gov.tw/N11/homePage.action\")"
     ],
     "language": "python",
     "metadata": {},
     "outputs": []
    },
    {
     "cell_type": "markdown",
     "metadata": {
      "slideshow": {
       "slide_type": "subslide"
      }
     },
     "source": [
      "# \u5f8c\u53f0\u767b\u5165 ... \n",
      "\n",
      "![](Lec2_slide_imgs/Web_login.png)"
     ]
    },
    {
     "cell_type": "code",
     "collapsed": false,
     "input": [
      "res2 = s.get(\"http://lvr.land.moi.gov.tw/N11/ImageNumberN13?\")"
     ],
     "language": "python",
     "metadata": {
      "slideshow": {
       "slide_type": "subslide"
      }
     },
     "outputs": []
    },
    {
     "cell_type": "code",
     "collapsed": false,
     "input": [
      "res2.text"
     ],
     "language": "python",
     "metadata": {},
     "outputs": []
    },
    {
     "cell_type": "code",
     "collapsed": false,
     "input": [
      "f = open(\"login_img.jpg\", 'wb')\n",
      "for chunk in res2.iter_content(chunk_size=512 * 1024): \n",
      "    if chunk: # filter out keep-alive new chunks\n",
      "        f.write(chunk)\n",
      "f.close()"
     ],
     "language": "python",
     "metadata": {
      "slideshow": {
       "slide_type": "subslide"
      }
     },
     "outputs": []
    },
    {
     "cell_type": "code",
     "collapsed": false,
     "input": [
      "# import matplotlib.pyplot as plt\n",
      "# img = plt.imread(\"login_img.jpg\")\n",
      "# plt.imshow(img)\n",
      "\n",
      "from IPython.core.display import Image\n",
      "Image(\"login_img.jpg\")"
     ],
     "language": "python",
     "metadata": {
      "slideshow": {
       "slide_type": "fragment"
      }
     },
     "outputs": []
    },
    {
     "cell_type": "code",
     "collapsed": false,
     "input": [
      "login_password = 9945"
     ],
     "language": "python",
     "metadata": {
      "slideshow": {
       "slide_type": "fragment"
      }
     },
     "outputs": []
    },
    {
     "cell_type": "markdown",
     "metadata": {
      "slideshow": {
       "slide_type": "subslide"
      }
     },
     "source": [
      "# \u767b\u5165\u53c3\u6578\n",
      "\n",
      "![](Lec2_slide_imgs/Web_login2.png)"
     ]
    },
    {
     "cell_type": "code",
     "collapsed": false,
     "input": [
      "S = PyQuery(res1.text)\n",
      "post_data = dict(S(\"form input\").map(lambda :(PyQuery(this).attr(\"name\"),PyQuery(this).attr(\"value\"))))\n",
      "post_data"
     ],
     "language": "python",
     "metadata": {
      "slideshow": {
       "slide_type": "subslide"
      }
     },
     "outputs": []
    },
    {
     "cell_type": "code",
     "collapsed": false,
     "input": [
      "post_data.update({\"command\":\"login\",\n",
      "                  \"rand_code\":login_password})\n",
      "post_data"
     ],
     "language": "python",
     "metadata": {
      "slideshow": {
       "slide_type": "fragment"
      }
     },
     "outputs": []
    },
    {
     "cell_type": "code",
     "collapsed": false,
     "input": [
      "res3 = s.post(\"http://lvr.land.moi.gov.tw/N11/login.action\",data = post_data)"
     ],
     "language": "python",
     "metadata": {
      "slideshow": {
       "slide_type": "subslide"
      }
     },
     "outputs": []
    },
    {
     "cell_type": "code",
     "collapsed": false,
     "input": [
      "res3.request.headers"
     ],
     "language": "python",
     "metadata": {},
     "outputs": []
    },
    {
     "cell_type": "markdown",
     "metadata": {
      "slideshow": {
       "slide_type": "subslide"
      }
     },
     "source": [
      "# setToken"
     ]
    },
    {
     "cell_type": "code",
     "collapsed": false,
     "input": [
      "res4 = s.post(\"http://lvr.land.moi.gov.tw/N11/pro/setToken.jsp\")"
     ],
     "language": "python",
     "metadata": {
      "slideshow": {
       "slide_type": "-"
      }
     },
     "outputs": []
    },
    {
     "cell_type": "code",
     "collapsed": false,
     "input": [
      "SS = PyQuery(res4.text)"
     ],
     "language": "python",
     "metadata": {},
     "outputs": []
    },
    {
     "cell_type": "code",
     "collapsed": false,
     "input": [
      "web_tocken = SS(\"input[name='token']\").attr(\"value\")\n",
      "web_tocken"
     ],
     "language": "python",
     "metadata": {},
     "outputs": []
    },
    {
     "cell_type": "markdown",
     "metadata": {
      "slideshow": {
       "slide_type": "subslide"
      }
     },
     "source": [
      "# set query_post_data"
     ]
    },
    {
     "cell_type": "code",
     "collapsed": false,
     "input": [
      "query_post_data = {\"type\":\"UXJ5ZGF0YQ==\",\n",
      "\"Qry_city\":\"QQ==\",\n",
      "\"Qry_area_office\":\"QTAy\",\n",
      "\"Qry_paytype\":\"MQ==\",\n",
      "\"Qry_build\":\"\",\n",
      "\"Qry_price_s\":\"\",\n",
      "\"Qry_price_e\":\"\",\n",
      "\"Qry_unit_price_s\":\"\",\n",
      "\"Qry_unit_price_e\":\"\",\n",
      "\"Qry_p_yyy_s\":\"MTAx\",\n",
      "\"Qry_p_yyy_e\":\"MTAy\",\n",
      "\"Qry_season_s\":\"MQ==\",\n",
      "\"Qry_season_e\":\"MTE=\",\n",
      "\"Qry_doorno\":\"\",\n",
      "\"Qry_area_s\":\"\",\n",
      "\"Qry_area_e\":\"\",\n",
      "\"Qry_order\":\"UUEwOCZkZXNj\",\n",
      "\"Qry_unit\":\"Mg==\",\n",
      "\"Qry_area_srh\":\"\",\n",
      "\"Qry_buildyear_s\":\"\",\n",
      "\"Qry_buildyear_e\":\"\",\n",
      "\"Qry_origin\":\"P\",\n",
      "\"Qry_avg\":\"off\",\n",
      "\"struts.token.name\":\"token\",\n",
      "\"token\":web_tocken}"
     ],
     "language": "python",
     "metadata": {
      "slideshow": {
       "slide_type": "-"
      }
     },
     "outputs": []
    },
    {
     "cell_type": "markdown",
     "metadata": {
      "slideshow": {
       "slide_type": "subslide"
      }
     },
     "source": [
      "# send query_post_data to get data"
     ]
    },
    {
     "cell_type": "code",
     "collapsed": false,
     "input": [
      "res5 = s.post(\"http://lvr.land.moi.gov.tw/N11/QryClass_land.action\",data = query_post_data)"
     ],
     "language": "python",
     "metadata": {
      "slideshow": {
       "slide_type": "-"
      }
     },
     "outputs": []
    },
    {
     "cell_type": "code",
     "collapsed": false,
     "input": [
      "print res5.text"
     ],
     "language": "python",
     "metadata": {},
     "outputs": []
    },
    {
     "cell_type": "markdown",
     "metadata": {
      "slideshow": {
       "slide_type": "subslide"
      }
     },
     "source": [
      "# Extract Data ... "
     ]
    },
    {
     "cell_type": "code",
     "collapsed": false,
     "input": [
      "SSS = PyQuery(res5.text)"
     ],
     "language": "python",
     "metadata": {},
     "outputs": []
    },
    {
     "cell_type": "code",
     "collapsed": false,
     "input": [
      "for one_row_data in PyQuery(SSS(\"tr.nowrap[id]\")[5])(\"td\").map(lambda :PyQuery(this).text() if len(PyQuery(this)(\"img\")) == 0 else  PyQuery(this)(\"img\").attr(\"title\")):\n",
      "    print one_row_data\n"
     ],
     "language": "python",
     "metadata": {},
     "outputs": []
    },
    {
     "cell_type": "markdown",
     "metadata": {
      "slideshow": {
       "slide_type": "subslide"
      }
     },
     "source": [
      "# Structurize Data ... "
     ]
    },
    {
     "cell_type": "code",
     "collapsed": false,
     "input": [
      "import pandas as pd\n",
      "Raw_Data_List = [list(PyQuery(xx)(\"td\").map(lambda :PyQuery(this).text() if len(PyQuery(this)(\"img\")) == 0 else  PyQuery(this)(\"img\").attr(\"title\"))) for xx in SSS(\"tr.nowrap[id]\")]\n",
      "Raw_Data_df = pd.DataFrame(Raw_Data_List)\n",
      "Raw_Data_df.columns = [\"Address\",\"Date\",\"TotalPrice\",\"Area\",\"UniPrice\",\"TradingNumber\",\"Type\",\"Layout\"]\n",
      "Raw_Data_df.head()"
     ],
     "language": "python",
     "metadata": {},
     "outputs": []
    },
    {
     "cell_type": "markdown",
     "metadata": {
      "slideshow": {
       "slide_type": "subslide"
      }
     },
     "source": [
      "# [Example 5] \u5b78\u7fd2\u76ee\u6a19\uff1a\n",
      "\n",
      "- ## [Connector] \u4f7f\u7528 Session \u4f5c\u9023\u7e8c\u9023\u7dda\n",
      "- ## [Parser] PyQuery / DataFrame\n",
      "\n"
     ]
    },
    {
     "cell_type": "markdown",
     "metadata": {
      "slideshow": {
       "slide_type": "fragment"
      }
     },
     "source": [
      "# [Example 5] \u4f7f\u7528\u6280\u8853\uff1a\n",
      "\n",
      "- ## [Connector] requests.Session\n",
      "- ## [Parser] pandas.read_csv / DataFrame\n",
      "\n",
      "\n"
     ]
    },
    {
     "cell_type": "markdown",
     "metadata": {
      "slideshow": {
       "slide_type": "subslide"
      }
     },
     "source": [
      "# [Example 5] Exercise\uff1a\n",
      "\n",
      "- ## [Data Science] \u60f3\u60f3\u8cc7\u6599\u53ef\u4ee5\u5982\u4f55\u4f7f\u7528\uff1f \u8981\u554f\u8cc7\u6599\u54ea\u4e9b\u554f\u984c\u5462\uff1f\n",
      "- ## [Data Science] \u8981\u5982\u4f55\u56de\u7b54\u524d\u8ff0\u7684\u554f\u984c\u5462\uff1f \u9700\u8981\u54ea\u4e9b\u6750\u6599\uff1f \u53ef\u80fd\u9700\u8981\u54ea\u4e9b\u6280\u8853\uff1f\n",
      "\n",
      "- ## [Connector] \u627e\u51fa query \u7684\u53c3\u6578\uff0c\u5404\u7e23\u5e02\u7684\u4ee3\u78bc\uff0c\u4ee5\u53ca\u5404\u9109\u93ae\u5e02\u7684\u4ee3\u78bc\n",
      "- ## [Connector] \u8acb\u4f7f\u7528 urllib, urllib2 \u8a66\u8457\u9023\u7dda\u540c\u4e00\u500b\u7db2\u9801\uff0c\u770b\u770b\u662f\u5426\u4f5c\u5230\u540c\u6a23\u7684\u4e8b\uff1f\n",
      "\n",
      "\n",
      "- ## [Parser] Cleaning Data before saving them to DB\n",
      "- ## [Data Center] \u5c07 Data \u5b58\u5165 DB\uff0c\u7df4\u7fd2\u8b80\u53d6\u8207\u5206\u6790\n"
     ]
    },
    {
     "cell_type": "markdown",
     "metadata": {
      "slideshow": {
       "slide_type": "slide"
      }
     },
     "source": [
      "# [Example 6] PTT\uff1a\n",
      "\n",
      "[![Web_ppt](Lec2_slide_imgs/Web_ppt.png)](http://www.ptt.cc/bbs/R_Language/index.html)"
     ]
    },
    {
     "cell_type": "code",
     "collapsed": false,
     "input": [
      "import requests\n",
      "from pyquery import PyQuery"
     ],
     "language": "python",
     "metadata": {
      "slideshow": {
       "slide_type": "subslide"
      }
     },
     "outputs": []
    },
    {
     "cell_type": "code",
     "collapsed": false,
     "input": [
      "gen_ptt_board_page_url = lambda b_name: \"http://www.ptt.cc/bbs/%s/index.html\" % b_name"
     ],
     "language": "python",
     "metadata": {},
     "outputs": []
    },
    {
     "cell_type": "code",
     "collapsed": false,
     "input": [
      "board_name = \"R_Language\"\n",
      "r_lang_url = gen_ptt_board_page_url(board_name)\n",
      "print r_lang_url"
     ],
     "language": "python",
     "metadata": {},
     "outputs": []
    },
    {
     "cell_type": "code",
     "collapsed": false,
     "input": [
      "res = requests.get(r_lang_url)\n",
      "S = PyQuery(res.text)"
     ],
     "language": "python",
     "metadata": {},
     "outputs": []
    },
    {
     "cell_type": "code",
     "collapsed": false,
     "input": [
      "_article_urls = S(\".title a\").map(lambda :PyQuery(this).attr(\"href\"))\n",
      "article_urls = [\"http://www.ptt.cc%s\" % one_url for one_url in _article_urls if one_url.startswith(\"/bbs\")]\n",
      "article_urls"
     ],
     "language": "python",
     "metadata": {
      "slideshow": {
       "slide_type": "subslide"
      }
     },
     "outputs": []
    },
    {
     "cell_type": "code",
     "collapsed": false,
     "input": [
      "def get_ptt_article_url_lists(one_ptt_url):\n",
      "    res = requests.get(one_ptt_url)\n",
      "    S = PyQuery(res.text)\n",
      "    _article_urls = S(\".title a\").map(lambda :PyQuery(this).attr(\"href\"))\n",
      "    article_urls = [\"http://www.ptt.cc%s\" % one_url for one_url in _article_urls if one_url.startswith(\"/bbs\")]\n",
      "    return article_urls\n",
      "\n",
      "get_ptt_article_url_lists(\"http://www.ptt.cc/bbs/BuyTogether/index.html\")"
     ],
     "language": "python",
     "metadata": {
      "slideshow": {
       "slide_type": "subslide"
      }
     },
     "outputs": []
    },
    {
     "cell_type": "code",
     "collapsed": false,
     "input": [
      "PyQuery(S(\"div.btn-group.pull-right > a\")[1]).attr(\"href\").split(\"index\")[1].split(\".\")[0]"
     ],
     "language": "python",
     "metadata": {
      "slideshow": {
       "slide_type": "subslide"
      }
     },
     "outputs": []
    },
    {
     "cell_type": "code",
     "collapsed": false,
     "input": [
      "def get_max_pages(one_ptt_board_url):\n",
      "    res = requests.get(one_ptt_board_url)\n",
      "    S = PyQuery(res.text)\n",
      "    return int(PyQuery(S(\"div.btn-group.pull-right > a\")[1]).attr(\"href\").split(\"index\")[1].split(\".\")[0])\n",
      "\n",
      "get_max_pages(\"http://www.ptt.cc/bbs/BuyTogether/index.html\")\n"
     ],
     "language": "python",
     "metadata": {},
     "outputs": []
    },
    {
     "cell_type": "code",
     "collapsed": false,
     "input": [
      "def get_all_pages_url(one_ptt_board_url):\n",
      "    max_n = get_max_pages(one_ptt_board_url)\n",
      "    url_head = one_ptt_board_url.split(\"index\")[0]\n",
      "    all_urls = [ url_head + \"index%s.html\" % ii for ii in [\"\"] + range(max_n)]\n",
      "    return all_urls\n",
      "    \n",
      "get_all_pages_url(\"http://www.ptt.cc/bbs/R_Language/index.html\")\n"
     ],
     "language": "python",
     "metadata": {
      "slideshow": {
       "slide_type": "subslide"
      }
     },
     "outputs": []
    },
    {
     "cell_type": "markdown",
     "metadata": {
      "slideshow": {
       "slide_type": "subslide"
      }
     },
     "source": [
      "# \u89e3\u6790\u6587\u7ae0\n",
      "![](Lec2_slide_imgs/Web_Ptt_article.png)"
     ]
    },
    {
     "cell_type": "code",
     "collapsed": false,
     "input": [
      "one_article_url = article_urls[2]\n",
      "one_article_res = requests.get(one_article_url)\n",
      "SS = PyQuery(one_article_res.text)\n",
      "one_article_data = {}"
     ],
     "language": "python",
     "metadata": {
      "slideshow": {
       "slide_type": "subslide"
      }
     },
     "outputs": []
    },
    {
     "cell_type": "code",
     "collapsed": false,
     "input": [
      "one_article_data[\"Board\"] = SS(\".article-metaline-right > .article-meta-value\").text()\n",
      "one_article_data.update(dict(zip([\"Author\",\"Title\",\"Time\"],SS(\".article-metaline > .article-meta-value\").map(lambda :PyQuery(this).text()))))\n",
      "one_article_data"
     ],
     "language": "python",
     "metadata": {},
     "outputs": []
    },
    {
     "cell_type": "code",
     "collapsed": false,
     "input": [
      "SS(\"#main-content > div.article-metaline\").remove()"
     ],
     "language": "python",
     "metadata": {},
     "outputs": []
    },
    {
     "cell_type": "code",
     "collapsed": false,
     "input": [
      "SS(\"#main-content > div.article-metaline-right\").remove()"
     ],
     "language": "python",
     "metadata": {},
     "outputs": []
    },
    {
     "cell_type": "code",
     "collapsed": false,
     "input": [
      "SS(\"#main-content\").contents()"
     ],
     "language": "python",
     "metadata": {
      "slideshow": {
       "slide_type": "subslide"
      }
     },
     "outputs": []
    },
    {
     "cell_type": "code",
     "collapsed": false,
     "input": [
      "import lxml"
     ],
     "language": "python",
     "metadata": {
      "slideshow": {
       "slide_type": "subslide"
      }
     },
     "outputs": []
    },
    {
     "cell_type": "code",
     "collapsed": false,
     "input": [
      "one_article_data[\"text\"] = \"\".join(map(lambda xx:PyQuery(xx).text() if isinstance(xx,lxml.html.HtmlElement) else xx,\n",
      "                                       SS(\"#main-content\").contents()))\n",
      "one_article_data[\"url\"] = one_article_res.url\n",
      "print one_article_data[\"text\"]"
     ],
     "language": "python",
     "metadata": {},
     "outputs": []
    },
    {
     "cell_type": "code",
     "collapsed": false,
     "input": [
      "one_article_data"
     ],
     "language": "python",
     "metadata": {
      "slideshow": {
       "slide_type": "subslide"
      }
     },
     "outputs": []
    },
    {
     "cell_type": "code",
     "collapsed": false,
     "input": [
      "#one_article_url = article_urls[2]\n",
      "def get_one_article_meta_data(one_article_url):\n",
      "    one_article_res = requests.get(one_article_url)\n",
      "    SS = PyQuery(one_article_res.text)\n",
      "    one_article_data = {}\n",
      "    one_article_data[\"Board\"] = SS(\".article-metaline-right > .article-meta-value\").text()\n",
      "    one_article_data.update(dict(zip([\"Author\",\"Title\",\"Time\"],SS(\".article-metaline > .article-meta-value\").map(lambda :PyQuery(this).text()))))\n",
      "    SS(\"#main-content > div.article-metaline\").remove()\n",
      "    SS(\"#main-content > div.article-metaline-right\").remove()\n",
      "    one_article_data[\"text\"] = \"\".join(map(lambda xx:PyQuery(xx).text() if isinstance(xx,lxml.html.HtmlElement) else xx,\n",
      "                                           SS(\"#main-content\").contents()))\n",
      "    one_article_data[\"url\"] = one_article_res.url\n",
      "    return one_article_data\n",
      "\n",
      "get_one_article_meta_data(article_urls[3])"
     ],
     "language": "python",
     "metadata": {
      "slideshow": {
       "slide_type": "subslide"
      }
     },
     "outputs": []
    },
    {
     "cell_type": "markdown",
     "metadata": {
      "slideshow": {
       "slide_type": "subslide"
      }
     },
     "source": [
      "# \u653e\u9032 MongoDB"
     ]
    },
    {
     "cell_type": "code",
     "collapsed": false,
     "input": [
      "from pymongo import MongoClient\n",
      "mongo_client = MongoClient()\n",
      "nccu_mldm_course_db = mongo_client.nccu_mldm_course_db\n",
      "ptt_article_col = nccu_mldm_course_db.ptt_article_col"
     ],
     "language": "python",
     "metadata": {},
     "outputs": []
    },
    {
     "cell_type": "code",
     "collapsed": false,
     "input": [
      "ptt_article_col.drop()\n",
      "ptt_article_col.insert(one_article_data)\n"
     ],
     "language": "python",
     "metadata": {},
     "outputs": []
    },
    {
     "cell_type": "code",
     "collapsed": false,
     "input": [
      "list(ptt_article_col.find())"
     ],
     "language": "python",
     "metadata": {},
     "outputs": []
    },
    {
     "cell_type": "markdown",
     "metadata": {
      "slideshow": {
       "slide_type": "subslide"
      }
     },
     "source": [
      "# \u722c\u6587 ..."
     ]
    },
    {
     "cell_type": "code",
     "collapsed": false,
     "input": [
      "def save_all_ariticles_to_db(board_name, Limit = None):\n",
      "    board_url = gen_ptt_board_page_url(board_name)\n",
      "    all_article_pages_list = get_all_pages_url(board_url)\n",
      "    \n",
      "    if isinstance(Limit,int):\n",
      "        if Limit < len(all_article_pages_list):\n",
      "            all_article_pages_list = all_article_pages_list[:Limit]\n",
      "    \n",
      "    for one_page in all_article_pages_list:\n",
      "        article_urls_list = get_ptt_article_url_lists(one_page)\n",
      "        results = map(get_one_article_meta_data,article_urls_list)\n",
      "        if len(results) > 0:\n",
      "            ptt_article_col.insert(results)\n",
      "        \n",
      "    \n",
      "# ptt_article_col.drop()\n",
      "# save_all_ariticles_to_db(\"R_Language\")\n",
      "# save_all_ariticles_to_db(\"BuyTogether\", Limit=30)"
     ],
     "language": "python",
     "metadata": {},
     "outputs": []
    },
    {
     "cell_type": "code",
     "collapsed": false,
     "input": [
      "list(ptt_article_col.find())"
     ],
     "language": "python",
     "metadata": {
      "slideshow": {
       "slide_type": "subslide"
      }
     },
     "outputs": []
    },
    {
     "cell_type": "markdown",
     "metadata": {
      "slideshow": {
       "slide_type": "subslide"
      }
     },
     "source": [
      "# \u532f\u51fa JSON \u6a94\u6848"
     ]
    },
    {
     "cell_type": "code",
     "collapsed": false,
     "input": [
      "!mongoexport --db nccu_mldm_course_db --collection ptt_article_col --out ptt_articles.json"
     ],
     "language": "python",
     "metadata": {},
     "outputs": []
    },
    {
     "cell_type": "markdown",
     "metadata": {
      "slideshow": {
       "slide_type": "subslide"
      }
     },
     "source": [
      "# [Example 6] \u5b78\u7fd2\u76ee\u6a19\uff1a\n",
      "\n",
      "- ## [Connector] \u9801\u9762\u5206\u985e\u89c0\u5bdf\uff0c\u518d\u9ede\u958b\u9023\u7d50\u7684\u5be6\u4f5c\n",
      "- ## [Parser] PyQuery\n",
      "- ## [Data Center] MongoDB / mongoexport\n",
      "\n"
     ]
    },
    {
     "cell_type": "markdown",
     "metadata": {
      "slideshow": {
       "slide_type": "fragment"
      }
     },
     "source": [
      "# [Example 6] \u4f7f\u7528\u6280\u8853\uff1a\n",
      "\n",
      "- ## [Connector] requests.get\n",
      "- ## [Parser] PyQuery\n",
      "- ## [Data Center] MongoDB / mongoexport\n",
      "\n"
     ]
    },
    {
     "cell_type": "markdown",
     "metadata": {
      "slideshow": {
       "slide_type": "subslide"
      }
     },
     "source": [
      "# [Example 6] Exercise\uff1a\n",
      "\n",
      "- ## [Data Science] \u60f3\u60f3\u8cc7\u6599\u53ef\u4ee5\u5982\u4f55\u4f7f\u7528\uff1f \u8981\u554f\u8cc7\u6599\u54ea\u4e9b\u554f\u984c\u5462\uff1f\n",
      "- ## [Data Science] \u8981\u5982\u4f55\u56de\u7b54\u524d\u8ff0\u7684\u554f\u984c\u5462\uff1f \u9700\u8981\u54ea\u4e9b\u6750\u6599\uff1f \u53ef\u80fd\u9700\u8981\u54ea\u4e9b\u6280\u8853\uff1f\n",
      "\n",
      "- ## [Connector] \u9023\u7dda Navi \u9801\u9762\uff0c\u4e26 parse \u5b83\u5011 !\n",
      "- ## [Parser] \u8a66\u8457\u7df4\u7fd2\u4f7f\u7528 regx \u628a\u63a8\u6587 pattern \u6293\u51fa\u4f86\uff01\n",
      "- ## [Parser] \u5728\u62bd\u53d6\u6587\u7ae0\u5167\u6587\u6642\uff0c\u5c07\u63a8\u6587\u90e8\u4efd\u53e6\u5b58\u4e00\u4efd\uff01\n",
      "- ## [Data Center] \u7df4\u7fd2\u5728 MongoDB \u4e2d\u4f5c aggregation \u548c\u7d71\u8a08\n"
     ]
    },
    {
     "cell_type": "markdown",
     "metadata": {
      "slideshow": {
       "slide_type": "slide"
      }
     },
     "source": [
      "# Reference:\n",
      "\n",
      "- ## c3h3\n",
      "    * ### https://www.youtube.com/watch?v=P3Xm_JFmh04\n",
      "    * ### https://www.youtube.com/watch?v=Sr6JLjgX_30\n",
      "    * ### https://www.youtube.com/watch?v=MI_Qlc-mjy0\n",
      "    * ### http://www.slideshare.net/c3h3/20130325-mldm-monday-spide-r\n",
      "    \n",
      "- ## Ronny Wang\n",
      "    * ### https://www.youtube.com/watch?v=qmtgeaajcew\n",
      "    \n",
      "- ## EC Lee\n",
      "    * ### https://www.youtube.com/watch?v=ixEz4GpTP5g&list=PLM7HGQkDNOHsaFMMbABbMCdMy7oVdVxxg&index=1\n",
      "    \n",
      "- ## Yen +1\n",
      "    * ### https://www.youtube.com/watch?v=nfGsdWEZg1g\n",
      "    * ### http://www.openfoundry.org/tw/foss-promotion-on-campus/cat_view/35/736/711/739\n",
      "\n"
     ]
    },
    {
     "cell_type": "markdown",
     "metadata": {
      "slideshow": {
       "slide_type": "subslide"
      }
     },
     "source": [
      "# [Homework] \n",
      "\n",
      "- ## \u8acb\u5927\u5bb6\u601d\u8003\u4e00\u4e0b\uff0c\u5728\u751f\u6d3b\u4e2d\u6709\u6c92\u6709\u4ec0\u9ebc\u554f\u984c\uff0c\u662f\u9700\u8981\u722c\u8cc7\u6599\u4f86\u89e3\u6c7a\u7684\uff1f\n",
      "- ## \u8acb\u8a66\u8457\u722c\u884c\u90a3\u500b\u7db2\u7ad9\uff0c\u6e05\u7406\u8cc7\u6599\uff0c\u4e26\u5b58\u5165 DB"
     ]
    },
    {
     "cell_type": "markdown",
     "metadata": {
      "slideshow": {
       "slide_type": "subslide"
      }
     },
     "source": [
      "# [Homework] \n",
      "\n",
      "- ## \u5982\u679c\u5927\u5bb6\u60f3\u4e0d\u5230\u7684\u8a71\uff0c\u53ef\u4ee5\u8a66\u8457\u5f9e\u4e0b\u65b9\u7db2\u7ad9\u60f3\u60f3 ...\n",
      "    * ### [icook] http://icook.tw/\n",
      "    * ### [pixnet] http://www.pixnet.net/\n",
      "    * ### [Lativ] http://www.lativ.com.tw/\n",
      "    * ### [\u6771\u4eac\u8457\u8863] http://www.mayuki.com.tw/\n",
      "    * ### [\u624b\u6a5f\u738b] http://www.sogi.com.tw/\n",
      "    * ### [Mobile01] http://www.mobile01.com/\n",
      "    * ### [\u860b\u679c\u65e5\u5831] http://www.appledaily.com.tw/\n",
      "    * ### [\u81ea\u7531\u6642\u5831] http://www.libertytimes.com.tw/\n",
      "    * ### [\u58f9\u9031\u520a] http://tw.next.nextmedia.com/\n",
      "    * ### [eprice] http://www.eprice.com.tw/\n",
      "    * ### [\u9732\u5929] http://www.ruten.com.tw/\n",
      "    * ### [\u54c1\u8cfc] http://www.pingle.com.tw/\n",
      "    * ### [YAHOO \u62cd\u8ce3] http://tw.bid.yahoo.com/\n",
      "    * ### [YAHOO \u8cfc\u7269] http://tw.buy.yahoo.com/\n",
      "    * ### [PCHOME \u5546\u5e97\u8857] http://www.pcstore.com.tw/\n",
      "    * ### [\u535a\u5ba2\u4f86] http://www.books.com.tw/\n",
      "    * ### [\u5bcc\u90a6 MoMo] http://www.momoshop.com.tw/main/Main.jsp\n",
      "    * ### [\u5168\u570b\u96fb\u5b50] http://www.elifemall.com.tw/\n",
      "    * ### [\u9806\u767c3C] http://www.sunfar.com.tw/ecsunfar/\n",
      "    * ### [\u5f69\u86793C] http://tw.mall.yahoo.com/store/honyu3c\n",
      "    * ### [\u795e\u8166\u570b\u969b] http://www.senao.com.tw/product.php\n",
      "    * ### [\u53f0\u7063\u5927\u54e5\u5927] http://telecom.taiwanmobile.com/emyfone/action/phone.do?utm_medium=rateplan&method=list&utm_source=twm_header&utm_campaign=aq&flowType=NP&fromSessionCheck=true#.UtemgZDtnAQ\n",
      "    * ### [agoda] http://www.agoda.com/zh-tw?setcookienew=1\n",
      "    * ### [ebay] http://www.ebay.com/\n",
      "    * ### [\u6dd8\u5bf6] http://tw.taobao.com/\n",
      "    * ### [\u4e00\u6dd8] http://www.etao.com/?tbpm=20140116\n",
      "    * ### [\u5929\u8c93] http://www.tmall.com/\n",
      "    * ### [\u4eac\u6771] http://www.jd.com/\n",
      "    \n",
      "    \n",
      "    \n",
      "    \n",
      "    "
     ]
    },
    {
     "cell_type": "markdown",
     "metadata": {
      "slideshow": {
       "slide_type": "subslide"
      }
     },
     "source": [
      "# \u611f\u8b1d\u5927\u5bb6!"
     ]
    }
   ],
   "metadata": {}
  }
 ]
}