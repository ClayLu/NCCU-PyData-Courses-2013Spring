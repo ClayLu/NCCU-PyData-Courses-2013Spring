{
 "metadata": {
  "name": ""
 },
 "nbformat": 3,
 "nbformat_minor": 0,
 "worksheets": [
  {
   "cells": [
    {
     "cell_type": "markdown",
     "metadata": {
      "slideshow": {
       "slide_type": "slide"
      }
     },
     "source": [
      "Lecture 2: Web Crawler \n",
      "======================="
     ]
    },
    {
     "cell_type": "markdown",
     "metadata": {
      "slideshow": {
       "slide_type": "-"
      }
     },
     "source": [
      "Chia-Chi (c3h3.tw@gmail.com)\n",
      "----------------------------"
     ]
    },
    {
     "cell_type": "markdown",
     "metadata": {
      "slideshow": {
       "slide_type": "slide"
      }
     },
     "source": [
      "# Outline\n",
      "\n",
      "- ## spideR \u5beb\u4f5c\u7684\u9810\u5099\u77e5\u8b58\n",
      "- ## spideR \u7684\u4e00\u4e9b\u5c0f\u7bc4\u4f8b\n",
      "- ## spideR \u7684\u67b6\u69cb\n",
      "- ## spideR \u7684\u5beb\u4f5c\u6d41\u7a0b\n",
      "- ## spideR \u7684\u4e00\u4e9b\u5c0f\u6280\u5de7"
     ]
    },
    {
     "cell_type": "markdown",
     "metadata": {
      "slideshow": {
       "slide_type": "slide"
      }
     },
     "source": [
      "# \u672c\u6b21\u6f14\u8b1b\u9069\u5408\u521d\u5b78\u8005\n",
      "# \u8acb\u5404\u4f4d\u9ad8\u624b\u5011\u5fcd\u8010\u4e00\u4e0b\u56c9\uff01"
     ]
    },
    {
     "cell_type": "markdown",
     "metadata": {
      "slideshow": {
       "slide_type": "slide"
      }
     },
     "source": [
      "# \u9810\u5099\u77e5\u8b58"
     ]
    },
    {
     "cell_type": "markdown",
     "metadata": {
      "slideshow": {
       "slide_type": "subslide"
      }
     },
     "source": [
      "# spideR \u5beb\u4f5c\u7684\u9810\u5099\u77e5\u8b58\n",
      "\n",
      "- ## \u4ec0\u9ebc\u662f\u7db2\u7ad9\uff1f\n",
      "- ## \u7db2\u7ad9\u7684\u7d50\u69cb\uff1f\n",
      "- ## \u7db2\u5740\u7684\u7955\u5bc6\uff1f\n",
      "- ## \u7db2\u7ad9\u8cc7\u6599\u7684\u7a2e\u985e\uff1f\n",
      "- ## \u5206\u6790\u7684\u5de5\u5177\n"
     ]
    },
    {
     "cell_type": "markdown",
     "metadata": {
      "slideshow": {
       "slide_type": "slide"
      }
     },
     "source": [
      "# \u4ec0\u9ebc\u662f\u7db2\u7ad9?"
     ]
    },
    {
     "cell_type": "markdown",
     "metadata": {
      "slideshow": {
       "slide_type": "slide"
      }
     },
     "source": [
      "# \u4e00\u822c\u4eba\u773c\u4e2d\u7684\u7db2\u7ad9 ... \n"
     ]
    },
    {
     "cell_type": "markdown",
     "metadata": {
      "slideshow": {
       "slide_type": "slide"
      }
     },
     "source": [
      "# \u4e00\u822c\u4eba\u773c\u4e2d\u7684\u7db2\u7ad9\n",
      "\n",
      "[![Web_isuphoto](Lec2_slide_imgs/Web_isuphoto.png)](http://pi.isuphoto.org/uei)"
     ]
    },
    {
     "cell_type": "markdown",
     "metadata": {
      "slideshow": {
       "slide_type": "slide"
      }
     },
     "source": [
      "# \u4e00\u822c\u4eba\u773c\u4e2d\u7684\u7db2\u7ad9\n",
      "\n",
      "[![Web_pchome_search](Lec2_slide_imgs/Web_pchome_search.png)](http://ecshweb.pchome.com.tw/search/v3.2/?q=sony)"
     ]
    },
    {
     "cell_type": "markdown",
     "metadata": {
      "slideshow": {
       "slide_type": "slide"
      }
     },
     "source": [
      "# \u4e00\u822c\u4eba\u773c\u4e2d\u7684\u7db2\u7ad9\n",
      "\n",
      "[![Web_kimo_stock](Lec2_slide_imgs/Web_kimo_stock.png.png)](http://tw.stock.yahoo.com/d/s/major_2451.html)"
     ]
    },
    {
     "cell_type": "markdown",
     "metadata": {
      "slideshow": {
       "slide_type": "slide"
      }
     },
     "source": [
      "# \u4e00\u822c\u4eba\u773c\u4e2d\u7684\u7db2\u7ad9\n",
      "\n",
      "[![Web_mops_t51sb01](Lec2_slide_imgs/Web_mops_t51sb01.png)](http://mops.twse.com.tw/mops/web/t51sb01)"
     ]
    },
    {
     "cell_type": "markdown",
     "metadata": {
      "slideshow": {
       "slide_type": "slide"
      }
     },
     "source": [
      "# \u4e00\u822c\u4eba\u773c\u4e2d\u7684\u7db2\u7ad9\n",
      "\n",
      "[![Web_ppt](Lec2_slide_imgs/Web_ppt.png)](http://www.ptt.cc/bbs/R_Language/index.html)"
     ]
    },
    {
     "cell_type": "markdown",
     "metadata": {
      "slideshow": {
       "slide_type": "slide"
      }
     },
     "source": [
      "# \u8a2d\u8a08\u5e2b\u773c\u4e2d\u7684\u7db2\u7ad9 ...\n"
     ]
    },
    {
     "cell_type": "markdown",
     "metadata": {
      "slideshow": {
       "slide_type": "slide"
      }
     },
     "source": [
      "# \u5de5\u7a0b\u5e2b\u773c\u4e2d\u7684\u7db2\u7ad9 ...\n"
     ]
    },
    {
     "cell_type": "markdown",
     "metadata": {
      "slideshow": {
       "slide_type": "slide"
      }
     },
     "source": [
      "# spideR \u773c\u4e2d\u7684\u7db2\u7ad9 ???\n",
      "\n",
      "![spideR](Lec2_slide_imgs/spiderman.jpg)\n"
     ]
    },
    {
     "cell_type": "markdown",
     "metadata": {
      "slideshow": {
       "slide_type": "subslide"
      }
     },
     "source": []
    },
    {
     "cell_type": "code",
     "collapsed": false,
     "input": [],
     "language": "python",
     "metadata": {},
     "outputs": []
    }
   ],
   "metadata": {}
  }
 ]
}