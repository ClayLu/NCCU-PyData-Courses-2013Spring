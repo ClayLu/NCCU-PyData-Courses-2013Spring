{
 "metadata": {
  "name": ""
 },
 "nbformat": 3,
 "nbformat_minor": 0,
 "worksheets": [
  {
   "cells": [
    {
     "cell_type": "markdown",
     "metadata": {
      "slideshow": {
       "slide_type": "slide"
      }
     },
     "source": [
      "Lecture 2: Web Crawler\n",
      "======================="
     ]
    },
    {
     "cell_type": "markdown",
     "metadata": {
      "slideshow": {
       "slide_type": "-"
      }
     },
     "source": [
      "Chia-Chi (c3h3.tw@gmail.com)\n",
      "----------------------------"
     ]
    },
    {
     "cell_type": "markdown",
     "metadata": {
      "slideshow": {
       "slide_type": "slide"
      }
     },
     "source": [
      "# Outline\n",
      "\n",
      "- ## Crawler \u5beb\u4f5c\u7684\u9810\u5099\u77e5\u8b58\n",
      "- ## Crawler \u7684\u4e00\u4e9b\u5c0f\u7bc4\u4f8b\n",
      "- ## Crawler \u7684\u67b6\u69cb\n",
      "- ## Crawler \u7684\u5beb\u4f5c\u6d41\u7a0b\n",
      "- ## Crawler \u7684\u4e00\u4e9b\u5c0f\u6280\u5de7"
     ]
    },
    {
     "cell_type": "markdown",
     "metadata": {
      "slideshow": {
       "slide_type": "slide"
      }
     },
     "source": [
      "# \u9810\u5099\u77e5\u8b58"
     ]
    },
    {
     "cell_type": "markdown",
     "metadata": {
      "slideshow": {
       "slide_type": "subslide"
      }
     },
     "source": [
      "# Crawler \u5beb\u4f5c\u7684\u9810\u5099\u77e5\u8b58\n",
      "\n",
      "- ## \u4ec0\u9ebc\u662f\u7db2\u7ad9\uff1f\n",
      "- ## \u7db2\u7ad9\u7684\u7d50\u69cb\uff1f\n",
      "- ## \u7db2\u5740\u7684\u7955\u5bc6\uff1f\n",
      "- ## \u7db2\u7ad9\u8cc7\u6599\u7684\u7a2e\u985e\uff1f\n",
      "- ## \u5206\u6790\u7684\u5de5\u5177\n"
     ]
    },
    {
     "cell_type": "markdown",
     "metadata": {
      "slideshow": {
       "slide_type": "slide"
      }
     },
     "source": [
      "# \u4ec0\u9ebc\u662f\u7db2\u7ad9?"
     ]
    },
    {
     "cell_type": "markdown",
     "metadata": {
      "slideshow": {
       "slide_type": "slide"
      }
     },
     "source": [
      "# \u4e00\u822c\u4eba\u773c\u4e2d\u7684\u7db2\u7ad9 ... \n"
     ]
    },
    {
     "cell_type": "markdown",
     "metadata": {
      "slideshow": {
       "slide_type": "subslide"
      }
     },
     "source": [
      "# \u4e00\u822c\u4eba\u773c\u4e2d\u7684\u7db2\u7ad9\n",
      "\n",
      "[![Web_isuphoto](Lec2_slide_imgs/Web_isuphoto.png)](http://pi.isuphoto.org/uei)"
     ]
    },
    {
     "cell_type": "markdown",
     "metadata": {
      "slideshow": {
       "slide_type": "subslide"
      }
     },
     "source": [
      "# \u4e00\u822c\u4eba\u773c\u4e2d\u7684\u7db2\u7ad9\n",
      "\n",
      "[![Web_pchome_search](Lec2_slide_imgs/Web_pchome_search.png)](http://ecshweb.pchome.com.tw/search/v3.2/?q=sony)"
     ]
    },
    {
     "cell_type": "markdown",
     "metadata": {
      "slideshow": {
       "slide_type": "subslide"
      }
     },
     "source": [
      "# \u4e00\u822c\u4eba\u773c\u4e2d\u7684\u7db2\u7ad9\n",
      "\n",
      "[![Web_kimo_stock](Lec2_slide_imgs/Web_kimo_stock.png.png)](http://tw.stock.yahoo.com/d/s/major_2451.html)"
     ]
    },
    {
     "cell_type": "markdown",
     "metadata": {
      "slideshow": {
       "slide_type": "subslide"
      }
     },
     "source": [
      "# \u4e00\u822c\u4eba\u773c\u4e2d\u7684\u7db2\u7ad9\n",
      "\n",
      "[![Web_mops_t51sb01](Lec2_slide_imgs/Web_mops_t51sb01.png)](http://mops.twse.com.tw/mops/web/t51sb01)"
     ]
    },
    {
     "cell_type": "markdown",
     "metadata": {
      "slideshow": {
       "slide_type": "subslide"
      }
     },
     "source": [
      "# \u4e00\u822c\u4eba\u773c\u4e2d\u7684\u7db2\u7ad9\n",
      "\n",
      "[![Web_ppt](Lec2_slide_imgs/Web_ppt.png)](http://www.ptt.cc/bbs/R_Language/index.html)"
     ]
    },
    {
     "cell_type": "markdown",
     "metadata": {
      "slideshow": {
       "slide_type": "slide"
      }
     },
     "source": [
      "# \u5de5\u7a0b\u5e2b\u773c\u4e2d\u7684\u7db2\u7ad9 ...\n"
     ]
    },
    {
     "cell_type": "markdown",
     "metadata": {
      "slideshow": {
       "slide_type": "subslide"
      }
     },
     "source": [
      "# \u5de5\u7a0b\u5e2b\u773c\u4e2d\u7684\u7db2\u7ad9\n",
      "\n",
      "![](Lec2_slide_imgs/Web_backend1.png)"
     ]
    },
    {
     "cell_type": "markdown",
     "metadata": {
      "slideshow": {
       "slide_type": "subslide"
      }
     },
     "source": [
      "# \u5de5\u7a0b\u5e2b\u773c\u4e2d\u7684\u7db2\u7ad9\n",
      "\n",
      "![](Lec2_slide_imgs/Web_backend2.png)"
     ]
    },
    {
     "cell_type": "markdown",
     "metadata": {
      "slideshow": {
       "slide_type": "subslide"
      }
     },
     "source": [
      "# \u5de5\u7a0b\u5e2b\u773c\u4e2d\u7684\u7db2\u7ad9\n",
      "\n",
      "![](Lec2_slide_imgs/Web_backend3.png)"
     ]
    },
    {
     "cell_type": "markdown",
     "metadata": {
      "slideshow": {
       "slide_type": "subslide"
      }
     },
     "source": [
      "# \u5de5\u7a0b\u5e2b\u773c\u4e2d\u7684\u7db2\u7ad9\n",
      "\n",
      "![](Lec2_slide_imgs/Web_backend4.png)"
     ]
    },
    {
     "cell_type": "markdown",
     "metadata": {
      "slideshow": {
       "slide_type": "subslide"
      }
     },
     "source": [
      "# \u5de5\u7a0b\u5e2b\u773c\u4e2d\u7684\u7db2\u7ad9\n",
      "\n",
      "![](Lec2_slide_imgs/Web_backend5.png)"
     ]
    },
    {
     "cell_type": "markdown",
     "metadata": {
      "slideshow": {
       "slide_type": "slide"
      }
     },
     "source": [
      "# Crawler \u773c\u4e2d\u7684\u7db2\u7ad9 ... ?\n",
      "\n",
      "![spideR](Lec2_slide_imgs/spiderman.jpg)\n"
     ]
    },
    {
     "cell_type": "markdown",
     "metadata": {
      "slideshow": {
       "slide_type": "slide"
      }
     },
     "source": [
      "# \u7db2\u7ad9\u7684\u7d50\u69cb?\n"
     ]
    },
    {
     "cell_type": "markdown",
     "metadata": {
      "slideshow": {
       "slide_type": "subslide"
      }
     },
     "source": [
      "# \u7db2\u7ad9\u7d50\u69cb\u7684\u5206\u985e\n",
      "\n",
      "- ## \u524d\u7aef V.S. \u5f8c\u7aef\n",
      "- ## Model + View + Controler (MVC)\n",
      "- ## Static (Page Render) V.S. Dynamic (Ajax)\n",
      "\n"
     ]
    },
    {
     "cell_type": "markdown",
     "metadata": {
      "slideshow": {
       "slide_type": "subslide"
      }
     },
     "source": [
      "# [\u7db2\u7ad9\u7d50\u69cb] Ajax V.S. Page Render\n",
      "\n",
      "![](Lec2_slide_imgs/ajax-fig1_small.png)"
     ]
    },
    {
     "cell_type": "markdown",
     "metadata": {
      "slideshow": {
       "slide_type": "subslide"
      }
     },
     "source": [
      "# [\u7db2\u7ad9\u7d50\u69cb] Ajax V.S. Page Render\n",
      "\n",
      "- ## PageRender \u7bc4\u4f8b\uff1a http://www.ptt.cc/bbs/R_Language/index.html\n",
      "- ## Ajax \u7bc4\u4f8b1\uff1a http://pi.isuphoto.org/uei \n",
      "- ## Ajax \u7bc4\u4f8b1 Data\uff1a http://pi.isuphoto.org/api/user/uei?page=0\n",
      "- ## Ajax \u7bc4\u4f8b2\uff1a http://ecshweb.pchome.com.tw/search/v3.2/?q=sony\n",
      "- ## [Hw1] Ajax \u7bc4\u4f8b2 Data ?"
     ]
    },
    {
     "cell_type": "markdown",
     "metadata": {
      "slideshow": {
       "slide_type": "subslide"
      }
     },
     "source": [
      "# [\u7db2\u7ad9\u7d50\u69cb] Model + View + Controler (\u5f8c\u7aef MVC)\n",
      "\n",
      "![](Lec2_slide_imgs/mvc-diagram.png)"
     ]
    },
    {
     "cell_type": "markdown",
     "metadata": {
      "slideshow": {
       "slide_type": "subslide"
      }
     },
     "source": [
      "# [\u7db2\u7ad9\u7d50\u69cb] Model + View + Controler (\u524d\u7aef MVC)\n",
      "\n",
      "![](Lec2_slide_imgs/concepts-controller.png)"
     ]
    },
    {
     "cell_type": "markdown",
     "metadata": {
      "slideshow": {
       "slide_type": "slide"
      }
     },
     "source": [
      "# \u7db2\u5740\u7684\u7955\u5bc6\uff1f"
     ]
    },
    {
     "cell_type": "markdown",
     "metadata": {
      "slideshow": {
       "slide_type": "subslide"
      }
     },
     "source": [
      "# \u7db2\u5740\u7684\u7955\u5bc6 --- \u53c3\u6578\u7bc7\n",
      "\n",
      "- # URL?var_1=val_1&var_2=val_2... \n",
      "- ## \u5176\u5be6\uff0c\u5c31\u50cf\u547c\u53eb\u51fd\u6578\u4e00\u6a23\n",
      "- ## \u76f8\u95dc\u8a0a\u606f\u53ef\u5728 form \u4e2d\u6216 JS code \u4e2d\u627e\u5230\n",
      "- ## [Ex1] http://finance.yahoo.com/q/hp?s=%5ETWII&a=06&b=2&c=1997&d=02&e=24&f=2013&g=d\n",
      "- ## [Ex2] http://www.taifex.com.tw/eng/eng3/eng3_2dl.asp?COMMODITY_ID=all&DATA_DATE=2012/11/01&DATA_DATE1=2012/11/15\n"
     ]
    },
    {
     "cell_type": "markdown",
     "metadata": {
      "slideshow": {
       "slide_type": "subslide"
      }
     },
     "source": [
      "# \u7db2\u5740\u7684\u7955\u5bc6 --- \u7db2\u5740\u898f\u5247\u7bc7\n",
      "\n",
      "- ## \u6709\u4e9b\u7db2\u5740\u6703\u628a\u8a0a\u606f\u85cf\u5728 URL \u4e2d\n",
      "- ## \u7136\u5f8c\uff0c\u518d\u7531\u5f8c\u7aef\u7684 URL Dispatcher \u89e3\u6790\n",
      "- ## [Ex1] http://tw.stock.yahoo.com/d/s/major_2451.html\n",
      "- ## [Ex1 Rule] major_StockID.html\n"
     ]
    },
    {
     "cell_type": "markdown",
     "metadata": {
      "slideshow": {
       "slide_type": "slide"
      }
     },
     "source": [
      "# \u7db2\u7ad9\u8cc7\u6599\u7684\u7a2e\u985e\uff1f"
     ]
    },
    {
     "cell_type": "markdown",
     "metadata": {
      "slideshow": {
       "slide_type": "subslide"
      }
     },
     "source": [
      "# \u7db2\u7ad9\u8cc7\u6599\u5e38\u898b\u985e\u578b\uff1a\n",
      "\n",
      "- ## Page (HTML)\n",
      "    * ### http://shopping.pchome.com.tw/?m=item&f=exhibit&IT_NO=DGBJ50-A81412134&SR_NO=DGBJ50\n",
      "- ## Data (JSON/XML...) \n",
      "    * ### http://pi.isuphoto.org/api/user/uei?page=0\n",
      "- ## File\n",
      "    * ### http://www.taifex.com.tw/chinese/3/3_1_5.asp\n",
      "\n"
     ]
    },
    {
     "cell_type": "markdown",
     "metadata": {
      "slideshow": {
       "slide_type": "slide"
      }
     },
     "source": [
      "# \u5e38\u7528\u7684\u5de5\u5177"
     ]
    },
    {
     "cell_type": "markdown",
     "metadata": {
      "slideshow": {
       "slide_type": "subslide"
      }
     },
     "source": [
      "# [Live Demo] \u5e38\u7528\u7684\u5de5\u5177\uff1a\n",
      "\n",
      "- ## Google Chrome Developer Tools\n",
      "- ## Firefox\n",
      "    * ### Firebug\n",
      "    * ### Hackbar\n",
      "    * ### Cookie Manager+\n",
      "- ## cURL\n",
      "- ## Wireshark\n"
     ]
    },
    {
     "cell_type": "markdown",
     "metadata": {
      "slideshow": {
       "slide_type": "slide"
      }
     },
     "source": [
      "# \u4e00\u4e9b\u5c0f\u7bc4\u4f8b"
     ]
    },
    {
     "cell_type": "markdown",
     "metadata": {
      "slideshow": {
       "slide_type": "subslide"
      }
     },
     "source": [
      "# [Example1] \u6293\u53d6\u80a1\u5e02\u4e3b\u529b\u9032\u51fa\u8868\uff1a\n",
      "\n",
      "[![Web_kimo_stock](Lec2_slide_imgs/Web_kimo_stock.png.png)](http://tw.stock.yahoo.com/d/s/major_2451.html)"
     ]
    },
    {
     "cell_type": "markdown",
     "metadata": {
      "slideshow": {
       "slide_type": "subslide"
      }
     },
     "source": [
      "# [Example1] \u6293\u53d6\u80a1\u5e02\u4e3b\u529b\u9032\u51fa\u8868\uff1a"
     ]
    },
    {
     "cell_type": "code",
     "collapsed": false,
     "input": [
      "import requests\n",
      "import pandas as pd\n",
      "import numpy as np"
     ],
     "language": "python",
     "metadata": {},
     "outputs": [],
     "prompt_number": 1
    },
    {
     "cell_type": "code",
     "collapsed": false,
     "input": [
      "res = requests.get(\"http://tw.stock.yahoo.com/d/s/major_2451.html\")\n",
      "tables = pd.read_html(res.text)\n",
      "\n",
      "data_table = [one_table for one_table in tables if one_table.values.shape==(16,8)][0]\n",
      "\n",
      "#print tables[6]\n",
      "print data_table"
     ],
     "language": "python",
     "metadata": {},
     "outputs": [
      {
       "output_type": "stream",
       "stream": "stdout",
       "text": [
        "        0    1   2    3      4    5    6   7\n",
        "0    \u8cb7\u8d85\u5238\u5546  NaN NaN  NaN   \u8ce3\u8d85\u5238\u5546  NaN  NaN NaN\n",
        "1      \u81fa\u9280  357   7  350   \u7f8e\u5546\u9ad8\u76db    5   96 -91\n",
        "2      \u7d71\u4e00   29   9   20     \u7f8e\u6797    4   61 -57\n",
        "3   \u53f0\u7063\u6469\u6839\u58eb   24   9   15   \u745e\u58eb\u4fe1\u8cb8    0   56 -56\n",
        "4    \u82b1\u65d7\u74b0\u7403    7   0    7  \u6e2f\u5546\u6cd5\u570b\u8208    0   47 -47\n",
        "5    \u65e5\u76db\u8b49\u5238   14   7    7   \u5143\u5927\u5bf6\u4f86  103  131 -28\n",
        "6    \u6e2f\u5546\u91ce\u6751    5   0    5   \u51f1\u57fa\u8b49\u5238   17   44 -27\n",
        "7      \u4e9e\u6771    5   0    5   \u946b\u8c50\u8b49\u5238    0   18 -18\n",
        "8      \u5143\u5bcc   11   6    5   \u5146\u8c50\u8b49\u5238    2   15 -13\n",
        "9    \u5927\u6176\u8b49\u5238    4   1    3   \u967d\u4fe1\u8b49\u5238    0   12 -12\n",
        "10     \u5408\u5eab    2   0    2  \u6e2f\u5546\u5fb7\u610f\u5fd7    1    9  -8\n",
        "11   \u7389\u5c71\u8b49\u5238   13  11    2   \u83ef\u5357\u6c38\u660c    4   11  -7\n",
        "12    \u7b2c\u4e00\u91d1    3   2    1     \u9ad8\u6a4b    0    6  -6\n",
        "13   \u4e2d\u4fe1\u9280\u8b49    1   0    1   \u7fa4\u76ca\u91d1\u9f0e   13   19  -6\n",
        "14     \u65e5\u8302    0   0    0   \u5eb7\u548c\u8b49\u5238    1    6  -5\n",
        "15   \u81f4\u548c\u8b49\u5238    0   0    0  \u6c38\u8c50\u91d1\u8b49\u5238    6   11  -5\n"
       ]
      }
     ],
     "prompt_number": 24
    },
    {
     "cell_type": "code",
     "collapsed": false,
     "input": [
      "pre_df = np.r_[ data_table.values[1:,0:4], data_table.values[1:,4:]]\n",
      "print pre_df"
     ],
     "language": "python",
     "metadata": {},
     "outputs": [
      {
       "output_type": "stream",
       "stream": "stdout",
       "text": [
        "[[u'\\u81fa\\u9280' 357.0 7.0 350.0]\n",
        " [u'\\u7d71\\u4e00' 29.0 9.0 20.0]\n",
        " [u'\\u53f0\\u7063\\u6469\\u6839\\u58eb' 24.0 9.0 15.0]\n",
        " [u'\\u82b1\\u65d7\\u74b0\\u7403' 7.0 0.0 7.0]\n",
        " [u'\\u65e5\\u76db\\u8b49\\u5238' 14.0 7.0 7.0]\n",
        " [u'\\u6e2f\\u5546\\u91ce\\u6751' 5.0 0.0 5.0]\n",
        " [u'\\u4e9e\\u6771' 5.0 0.0 5.0]\n",
        " [u'\\u5143\\u5bcc' 11.0 6.0 5.0]\n",
        " [u'\\u5927\\u6176\\u8b49\\u5238' 4.0 1.0 3.0]\n",
        " [u'\\u5408\\u5eab' 2.0 0.0 2.0]\n",
        " [u'\\u7389\\u5c71\\u8b49\\u5238' 13.0 11.0 2.0]\n",
        " [u'\\u7b2c\\u4e00\\u91d1' 3.0 2.0 1.0]\n",
        " [u'\\u4e2d\\u4fe1\\u9280\\u8b49' 1.0 0.0 1.0]\n",
        " [u'\\u65e5\\u8302' 0.0 0.0 0.0]\n",
        " [u'\\u81f4\\u548c\\u8b49\\u5238' 0.0 0.0 0.0]\n",
        " [u'\\u7f8e\\u5546\\u9ad8\\u76db' 5.0 96.0 -91.0]\n",
        " [u'\\u7f8e\\u6797' 4.0 61.0 -57.0]\n",
        " [u'\\u745e\\u58eb\\u4fe1\\u8cb8' 0.0 56.0 -56.0]\n",
        " [u'\\u6e2f\\u5546\\u6cd5\\u570b\\u8208' 0.0 47.0 -47.0]\n",
        " [u'\\u5143\\u5927\\u5bf6\\u4f86' 103.0 131.0 -28.0]\n",
        " [u'\\u51f1\\u57fa\\u8b49\\u5238' 17.0 44.0 -27.0]\n",
        " [u'\\u946b\\u8c50\\u8b49\\u5238' 0.0 18.0 -18.0]\n",
        " [u'\\u5146\\u8c50\\u8b49\\u5238' 2.0 15.0 -13.0]\n",
        " [u'\\u967d\\u4fe1\\u8b49\\u5238' 0.0 12.0 -12.0]\n",
        " [u'\\u6e2f\\u5546\\u5fb7\\u610f\\u5fd7' 1.0 9.0 -8.0]\n",
        " [u'\\u83ef\\u5357\\u6c38\\u660c' 4.0 11.0 -7.0]\n",
        " [u'\\u9ad8\\u6a4b' 0.0 6.0 -6.0]\n",
        " [u'\\u7fa4\\u76ca\\u91d1\\u9f0e' 13.0 19.0 -6.0]\n",
        " [u'\\u5eb7\\u548c\\u8b49\\u5238' 1.0 6.0 -5.0]\n",
        " [u'\\u6c38\\u8c50\\u91d1\\u8b49\\u5238' 6.0 11.0 -5.0]]\n"
       ]
      }
     ],
     "prompt_number": 25
    },
    {
     "cell_type": "code",
     "collapsed": false,
     "input": [
      "df = pd.DataFrame(pre_df)\n",
      "df.columns = [\"Name\",\"Buy\",\"Sell\",\"Net\"]\n",
      "df"
     ],
     "language": "python",
     "metadata": {},
     "outputs": [
      {
       "html": [
        "<div style=\"max-height:1000px;max-width:1500px;overflow:auto;\">\n",
        "<table border=\"1\" class=\"dataframe\">\n",
        "  <thead>\n",
        "    <tr style=\"text-align: right;\">\n",
        "      <th></th>\n",
        "      <th>Name</th>\n",
        "      <th>Buy</th>\n",
        "      <th>Sell</th>\n",
        "      <th>Net</th>\n",
        "    </tr>\n",
        "  </thead>\n",
        "  <tbody>\n",
        "    <tr>\n",
        "      <th>0 </th>\n",
        "      <td>    \u81fa\u9280</td>\n",
        "      <td> 357</td>\n",
        "      <td>   7</td>\n",
        "      <td> 350</td>\n",
        "    </tr>\n",
        "    <tr>\n",
        "      <th>1 </th>\n",
        "      <td>    \u7d71\u4e00</td>\n",
        "      <td>  29</td>\n",
        "      <td>   9</td>\n",
        "      <td>  20</td>\n",
        "    </tr>\n",
        "    <tr>\n",
        "      <th>2 </th>\n",
        "      <td> \u53f0\u7063\u6469\u6839\u58eb</td>\n",
        "      <td>  24</td>\n",
        "      <td>   9</td>\n",
        "      <td>  15</td>\n",
        "    </tr>\n",
        "    <tr>\n",
        "      <th>3 </th>\n",
        "      <td>  \u82b1\u65d7\u74b0\u7403</td>\n",
        "      <td>   7</td>\n",
        "      <td>   0</td>\n",
        "      <td>   7</td>\n",
        "    </tr>\n",
        "    <tr>\n",
        "      <th>4 </th>\n",
        "      <td>  \u65e5\u76db\u8b49\u5238</td>\n",
        "      <td>  14</td>\n",
        "      <td>   7</td>\n",
        "      <td>   7</td>\n",
        "    </tr>\n",
        "    <tr>\n",
        "      <th>5 </th>\n",
        "      <td>  \u6e2f\u5546\u91ce\u6751</td>\n",
        "      <td>   5</td>\n",
        "      <td>   0</td>\n",
        "      <td>   5</td>\n",
        "    </tr>\n",
        "    <tr>\n",
        "      <th>6 </th>\n",
        "      <td>    \u4e9e\u6771</td>\n",
        "      <td>   5</td>\n",
        "      <td>   0</td>\n",
        "      <td>   5</td>\n",
        "    </tr>\n",
        "    <tr>\n",
        "      <th>7 </th>\n",
        "      <td>    \u5143\u5bcc</td>\n",
        "      <td>  11</td>\n",
        "      <td>   6</td>\n",
        "      <td>   5</td>\n",
        "    </tr>\n",
        "    <tr>\n",
        "      <th>8 </th>\n",
        "      <td>  \u5927\u6176\u8b49\u5238</td>\n",
        "      <td>   4</td>\n",
        "      <td>   1</td>\n",
        "      <td>   3</td>\n",
        "    </tr>\n",
        "    <tr>\n",
        "      <th>9 </th>\n",
        "      <td>    \u5408\u5eab</td>\n",
        "      <td>   2</td>\n",
        "      <td>   0</td>\n",
        "      <td>   2</td>\n",
        "    </tr>\n",
        "    <tr>\n",
        "      <th>10</th>\n",
        "      <td>  \u7389\u5c71\u8b49\u5238</td>\n",
        "      <td>  13</td>\n",
        "      <td>  11</td>\n",
        "      <td>   2</td>\n",
        "    </tr>\n",
        "    <tr>\n",
        "      <th>11</th>\n",
        "      <td>   \u7b2c\u4e00\u91d1</td>\n",
        "      <td>   3</td>\n",
        "      <td>   2</td>\n",
        "      <td>   1</td>\n",
        "    </tr>\n",
        "    <tr>\n",
        "      <th>12</th>\n",
        "      <td>  \u4e2d\u4fe1\u9280\u8b49</td>\n",
        "      <td>   1</td>\n",
        "      <td>   0</td>\n",
        "      <td>   1</td>\n",
        "    </tr>\n",
        "    <tr>\n",
        "      <th>13</th>\n",
        "      <td>    \u65e5\u8302</td>\n",
        "      <td>   0</td>\n",
        "      <td>   0</td>\n",
        "      <td>   0</td>\n",
        "    </tr>\n",
        "    <tr>\n",
        "      <th>14</th>\n",
        "      <td>  \u81f4\u548c\u8b49\u5238</td>\n",
        "      <td>   0</td>\n",
        "      <td>   0</td>\n",
        "      <td>   0</td>\n",
        "    </tr>\n",
        "    <tr>\n",
        "      <th>15</th>\n",
        "      <td>  \u7f8e\u5546\u9ad8\u76db</td>\n",
        "      <td>   5</td>\n",
        "      <td>  96</td>\n",
        "      <td> -91</td>\n",
        "    </tr>\n",
        "    <tr>\n",
        "      <th>16</th>\n",
        "      <td>    \u7f8e\u6797</td>\n",
        "      <td>   4</td>\n",
        "      <td>  61</td>\n",
        "      <td> -57</td>\n",
        "    </tr>\n",
        "    <tr>\n",
        "      <th>17</th>\n",
        "      <td>  \u745e\u58eb\u4fe1\u8cb8</td>\n",
        "      <td>   0</td>\n",
        "      <td>  56</td>\n",
        "      <td> -56</td>\n",
        "    </tr>\n",
        "    <tr>\n",
        "      <th>18</th>\n",
        "      <td> \u6e2f\u5546\u6cd5\u570b\u8208</td>\n",
        "      <td>   0</td>\n",
        "      <td>  47</td>\n",
        "      <td> -47</td>\n",
        "    </tr>\n",
        "    <tr>\n",
        "      <th>19</th>\n",
        "      <td>  \u5143\u5927\u5bf6\u4f86</td>\n",
        "      <td> 103</td>\n",
        "      <td> 131</td>\n",
        "      <td> -28</td>\n",
        "    </tr>\n",
        "    <tr>\n",
        "      <th>20</th>\n",
        "      <td>  \u51f1\u57fa\u8b49\u5238</td>\n",
        "      <td>  17</td>\n",
        "      <td>  44</td>\n",
        "      <td> -27</td>\n",
        "    </tr>\n",
        "    <tr>\n",
        "      <th>21</th>\n",
        "      <td>  \u946b\u8c50\u8b49\u5238</td>\n",
        "      <td>   0</td>\n",
        "      <td>  18</td>\n",
        "      <td> -18</td>\n",
        "    </tr>\n",
        "    <tr>\n",
        "      <th>22</th>\n",
        "      <td>  \u5146\u8c50\u8b49\u5238</td>\n",
        "      <td>   2</td>\n",
        "      <td>  15</td>\n",
        "      <td> -13</td>\n",
        "    </tr>\n",
        "    <tr>\n",
        "      <th>23</th>\n",
        "      <td>  \u967d\u4fe1\u8b49\u5238</td>\n",
        "      <td>   0</td>\n",
        "      <td>  12</td>\n",
        "      <td> -12</td>\n",
        "    </tr>\n",
        "    <tr>\n",
        "      <th>24</th>\n",
        "      <td> \u6e2f\u5546\u5fb7\u610f\u5fd7</td>\n",
        "      <td>   1</td>\n",
        "      <td>   9</td>\n",
        "      <td>  -8</td>\n",
        "    </tr>\n",
        "    <tr>\n",
        "      <th>25</th>\n",
        "      <td>  \u83ef\u5357\u6c38\u660c</td>\n",
        "      <td>   4</td>\n",
        "      <td>  11</td>\n",
        "      <td>  -7</td>\n",
        "    </tr>\n",
        "    <tr>\n",
        "      <th>26</th>\n",
        "      <td>    \u9ad8\u6a4b</td>\n",
        "      <td>   0</td>\n",
        "      <td>   6</td>\n",
        "      <td>  -6</td>\n",
        "    </tr>\n",
        "    <tr>\n",
        "      <th>27</th>\n",
        "      <td>  \u7fa4\u76ca\u91d1\u9f0e</td>\n",
        "      <td>  13</td>\n",
        "      <td>  19</td>\n",
        "      <td>  -6</td>\n",
        "    </tr>\n",
        "    <tr>\n",
        "      <th>28</th>\n",
        "      <td>  \u5eb7\u548c\u8b49\u5238</td>\n",
        "      <td>   1</td>\n",
        "      <td>   6</td>\n",
        "      <td>  -5</td>\n",
        "    </tr>\n",
        "    <tr>\n",
        "      <th>29</th>\n",
        "      <td> \u6c38\u8c50\u91d1\u8b49\u5238</td>\n",
        "      <td>   6</td>\n",
        "      <td>  11</td>\n",
        "      <td>  -5</td>\n",
        "    </tr>\n",
        "  </tbody>\n",
        "</table>\n",
        "</div>"
       ],
       "metadata": {},
       "output_type": "pyout",
       "prompt_number": 26,
       "text": [
        "     Name  Buy Sell  Net\n",
        "0      \u81fa\u9280  357    7  350\n",
        "1      \u7d71\u4e00   29    9   20\n",
        "2   \u53f0\u7063\u6469\u6839\u58eb   24    9   15\n",
        "3    \u82b1\u65d7\u74b0\u7403    7    0    7\n",
        "4    \u65e5\u76db\u8b49\u5238   14    7    7\n",
        "5    \u6e2f\u5546\u91ce\u6751    5    0    5\n",
        "6      \u4e9e\u6771    5    0    5\n",
        "7      \u5143\u5bcc   11    6    5\n",
        "8    \u5927\u6176\u8b49\u5238    4    1    3\n",
        "9      \u5408\u5eab    2    0    2\n",
        "10   \u7389\u5c71\u8b49\u5238   13   11    2\n",
        "11    \u7b2c\u4e00\u91d1    3    2    1\n",
        "12   \u4e2d\u4fe1\u9280\u8b49    1    0    1\n",
        "13     \u65e5\u8302    0    0    0\n",
        "14   \u81f4\u548c\u8b49\u5238    0    0    0\n",
        "15   \u7f8e\u5546\u9ad8\u76db    5   96  -91\n",
        "16     \u7f8e\u6797    4   61  -57\n",
        "17   \u745e\u58eb\u4fe1\u8cb8    0   56  -56\n",
        "18  \u6e2f\u5546\u6cd5\u570b\u8208    0   47  -47\n",
        "19   \u5143\u5927\u5bf6\u4f86  103  131  -28\n",
        "20   \u51f1\u57fa\u8b49\u5238   17   44  -27\n",
        "21   \u946b\u8c50\u8b49\u5238    0   18  -18\n",
        "22   \u5146\u8c50\u8b49\u5238    2   15  -13\n",
        "23   \u967d\u4fe1\u8b49\u5238    0   12  -12\n",
        "24  \u6e2f\u5546\u5fb7\u610f\u5fd7    1    9   -8\n",
        "25   \u83ef\u5357\u6c38\u660c    4   11   -7\n",
        "26     \u9ad8\u6a4b    0    6   -6\n",
        "27   \u7fa4\u76ca\u91d1\u9f0e   13   19   -6\n",
        "28   \u5eb7\u548c\u8b49\u5238    1    6   -5\n",
        "29  \u6c38\u8c50\u91d1\u8b49\u5238    6   11   -5"
       ]
      }
     ],
     "prompt_number": 26
    },
    {
     "cell_type": "code",
     "collapsed": false,
     "input": [
      "def get_stock_major_info(stock_id):\n",
      "    res = requests.get(\"http://tw.stock.yahoo.com/d/s/major_%s.html\" % str(stock_id))\n",
      "    tables = pd.read_html(res.text)\n",
      "    data_table = [one_table for one_table in tables if one_table.values.shape==(16,8)][0]\n",
      "    pre_df = np.r_[ data_table.values[1:,0:4], data_table.values[1:,4:]]\n",
      "    df = pd.DataFrame(pre_df)\n",
      "    df.columns = [\"Name\",\"Buy\",\"Sell\",\"Net\"]\n",
      "    return df \n",
      "\n",
      "stock_major_2330_df = get_stock_major_info(2498)\n",
      "stock_major_2330_df"
     ],
     "language": "python",
     "metadata": {
      "slideshow": {
       "slide_type": "subslide"
      }
     },
     "outputs": [
      {
       "html": [
        "<div style=\"max-height:1000px;max-width:1500px;overflow:auto;\">\n",
        "<table border=\"1\" class=\"dataframe\">\n",
        "  <thead>\n",
        "    <tr style=\"text-align: right;\">\n",
        "      <th></th>\n",
        "      <th>Name</th>\n",
        "      <th>Buy</th>\n",
        "      <th>Sell</th>\n",
        "      <th>Net</th>\n",
        "    </tr>\n",
        "  </thead>\n",
        "  <tbody>\n",
        "    <tr>\n",
        "      <th>0 </th>\n",
        "      <td>  \u5143\u5927\u5bf6\u4f86</td>\n",
        "      <td> 1337</td>\n",
        "      <td> 1096</td>\n",
        "      <td> 241</td>\n",
        "    </tr>\n",
        "    <tr>\n",
        "      <th>1 </th>\n",
        "      <td> \u6c38\u8c50\u91d1\u8b49\u5238</td>\n",
        "      <td>  584</td>\n",
        "      <td>  411</td>\n",
        "      <td> 173</td>\n",
        "    </tr>\n",
        "    <tr>\n",
        "      <th>2 </th>\n",
        "      <td>  \u5146\u8c50\u8b49\u5238</td>\n",
        "      <td>  349</td>\n",
        "      <td>  197</td>\n",
        "      <td> 152</td>\n",
        "    </tr>\n",
        "    <tr>\n",
        "      <th>3 </th>\n",
        "      <td>  \u83ef\u5357\u6c38\u660c</td>\n",
        "      <td>  400</td>\n",
        "      <td>  297</td>\n",
        "      <td> 103</td>\n",
        "    </tr>\n",
        "    <tr>\n",
        "      <th>4 </th>\n",
        "      <td>  \u5bcc\u90a6\u8b49\u5238</td>\n",
        "      <td>  521</td>\n",
        "      <td>  435</td>\n",
        "      <td>  86</td>\n",
        "    </tr>\n",
        "    <tr>\n",
        "      <th>5 </th>\n",
        "      <td>    \u5143\u5bcc</td>\n",
        "      <td>  325</td>\n",
        "      <td>  243</td>\n",
        "      <td>  82</td>\n",
        "    </tr>\n",
        "    <tr>\n",
        "      <th>6 </th>\n",
        "      <td>  \u51f1\u57fa\u8b49\u5238</td>\n",
        "      <td>  631</td>\n",
        "      <td>  554</td>\n",
        "      <td>  77</td>\n",
        "    </tr>\n",
        "    <tr>\n",
        "      <th>7 </th>\n",
        "      <td>  \u5927\u773e\u8b49\u5238</td>\n",
        "      <td>  107</td>\n",
        "      <td>   35</td>\n",
        "      <td>  72</td>\n",
        "    </tr>\n",
        "    <tr>\n",
        "      <th>8 </th>\n",
        "      <td>  \u5eb7\u548c\u8b49\u5238</td>\n",
        "      <td>  158</td>\n",
        "      <td>   87</td>\n",
        "      <td>  71</td>\n",
        "    </tr>\n",
        "    <tr>\n",
        "      <th>9 </th>\n",
        "      <td>    \u7f8e\u6797</td>\n",
        "      <td>  124</td>\n",
        "      <td>   60</td>\n",
        "      <td>  64</td>\n",
        "    </tr>\n",
        "    <tr>\n",
        "      <th>10</th>\n",
        "      <td>  \u7389\u5c71\u8b49\u5238</td>\n",
        "      <td>  221</td>\n",
        "      <td>  173</td>\n",
        "      <td>  48</td>\n",
        "    </tr>\n",
        "    <tr>\n",
        "      <th>11</th>\n",
        "      <td>  \u7fa4\u76ca\u91d1\u9f0e</td>\n",
        "      <td>  389</td>\n",
        "      <td>  343</td>\n",
        "      <td>  46</td>\n",
        "    </tr>\n",
        "    <tr>\n",
        "      <th>12</th>\n",
        "      <td>  \u65e5\u76db\u8b49\u5238</td>\n",
        "      <td>  555</td>\n",
        "      <td>  523</td>\n",
        "      <td>  32</td>\n",
        "    </tr>\n",
        "    <tr>\n",
        "      <th>13</th>\n",
        "      <td>    \u5b89\u6cf0</td>\n",
        "      <td>   30</td>\n",
        "      <td>    3</td>\n",
        "      <td>  27</td>\n",
        "    </tr>\n",
        "    <tr>\n",
        "      <th>14</th>\n",
        "      <td>  \u65b0\u5149\u8b49\u5238</td>\n",
        "      <td>  102</td>\n",
        "      <td>   75</td>\n",
        "      <td>  27</td>\n",
        "    </tr>\n",
        "    <tr>\n",
        "      <th>15</th>\n",
        "      <td>  \u7f8e\u5546\u9ad8\u76db</td>\n",
        "      <td>   34</td>\n",
        "      <td>  490</td>\n",
        "      <td>-456</td>\n",
        "    </tr>\n",
        "    <tr>\n",
        "      <th>16</th>\n",
        "      <td>  \u745e\u58eb\u4fe1\u8cb8</td>\n",
        "      <td>   14</td>\n",
        "      <td>  313</td>\n",
        "      <td>-299</td>\n",
        "    </tr>\n",
        "    <tr>\n",
        "      <th>17</th>\n",
        "      <td> \u6e2f\u5546\u5fb7\u610f\u5fd7</td>\n",
        "      <td>    5</td>\n",
        "      <td>  185</td>\n",
        "      <td>-180</td>\n",
        "    </tr>\n",
        "    <tr>\n",
        "      <th>18</th>\n",
        "      <td> \u6e2f\u5546\u9ea5\u683c\u91cc</td>\n",
        "      <td>  180</td>\n",
        "      <td>  313</td>\n",
        "      <td>-133</td>\n",
        "    </tr>\n",
        "    <tr>\n",
        "      <th>19</th>\n",
        "      <td> \u65b0\u52a0\u5761\u5546\u745e</td>\n",
        "      <td>    0</td>\n",
        "      <td>  131</td>\n",
        "      <td>-131</td>\n",
        "    </tr>\n",
        "    <tr>\n",
        "      <th>20</th>\n",
        "      <td>  \u6469\u6839\u5927\u901a</td>\n",
        "      <td>   45</td>\n",
        "      <td>  136</td>\n",
        "      <td> -91</td>\n",
        "    </tr>\n",
        "    <tr>\n",
        "      <th>21</th>\n",
        "      <td>    \u7d71\u4e00</td>\n",
        "      <td>  249</td>\n",
        "      <td>  322</td>\n",
        "      <td> -73</td>\n",
        "    </tr>\n",
        "    <tr>\n",
        "      <th>22</th>\n",
        "      <td>  \u570b\u6cf0\u8b49\u5238</td>\n",
        "      <td>   66</td>\n",
        "      <td>   85</td>\n",
        "      <td> -19</td>\n",
        "    </tr>\n",
        "    <tr>\n",
        "      <th>23</th>\n",
        "      <td>  \u967d\u4fe1\u8b49\u5238</td>\n",
        "      <td>    3</td>\n",
        "      <td>   21</td>\n",
        "      <td> -18</td>\n",
        "    </tr>\n",
        "    <tr>\n",
        "      <th>24</th>\n",
        "      <td>  \u5fb7\u4fe1\u8b49\u5238</td>\n",
        "      <td>    4</td>\n",
        "      <td>   11</td>\n",
        "      <td>  -7</td>\n",
        "    </tr>\n",
        "    <tr>\n",
        "      <th>25</th>\n",
        "      <td>  \u81f4\u548c\u8b49\u5238</td>\n",
        "      <td>   29</td>\n",
        "      <td>   35</td>\n",
        "      <td>  -6</td>\n",
        "    </tr>\n",
        "    <tr>\n",
        "      <th>26</th>\n",
        "      <td>  \u806f\u90a6\u5546\u9280</td>\n",
        "      <td>    5</td>\n",
        "      <td>    9</td>\n",
        "      <td>  -4</td>\n",
        "    </tr>\n",
        "    <tr>\n",
        "      <th>27</th>\n",
        "      <td>  \u4e2d\u4fe1\u9280\u8b49</td>\n",
        "      <td>   21</td>\n",
        "      <td>   24</td>\n",
        "      <td>  -3</td>\n",
        "    </tr>\n",
        "    <tr>\n",
        "      <th>28</th>\n",
        "      <td>   \u65b0\u767e\u738b</td>\n",
        "      <td>    6</td>\n",
        "      <td>    8</td>\n",
        "      <td>  -2</td>\n",
        "    </tr>\n",
        "    <tr>\n",
        "      <th>29</th>\n",
        "      <td>  \u5bcc\u9686\u8b49\u5238</td>\n",
        "      <td>    0</td>\n",
        "      <td>    0</td>\n",
        "      <td>   0</td>\n",
        "    </tr>\n",
        "  </tbody>\n",
        "</table>\n",
        "</div>"
       ],
       "metadata": {},
       "output_type": "pyout",
       "prompt_number": 28,
       "text": [
        "     Name   Buy  Sell  Net\n",
        "0    \u5143\u5927\u5bf6\u4f86  1337  1096  241\n",
        "1   \u6c38\u8c50\u91d1\u8b49\u5238   584   411  173\n",
        "2    \u5146\u8c50\u8b49\u5238   349   197  152\n",
        "3    \u83ef\u5357\u6c38\u660c   400   297  103\n",
        "4    \u5bcc\u90a6\u8b49\u5238   521   435   86\n",
        "5      \u5143\u5bcc   325   243   82\n",
        "6    \u51f1\u57fa\u8b49\u5238   631   554   77\n",
        "7    \u5927\u773e\u8b49\u5238   107    35   72\n",
        "8    \u5eb7\u548c\u8b49\u5238   158    87   71\n",
        "9      \u7f8e\u6797   124    60   64\n",
        "10   \u7389\u5c71\u8b49\u5238   221   173   48\n",
        "11   \u7fa4\u76ca\u91d1\u9f0e   389   343   46\n",
        "12   \u65e5\u76db\u8b49\u5238   555   523   32\n",
        "13     \u5b89\u6cf0    30     3   27\n",
        "14   \u65b0\u5149\u8b49\u5238   102    75   27\n",
        "15   \u7f8e\u5546\u9ad8\u76db    34   490 -456\n",
        "16   \u745e\u58eb\u4fe1\u8cb8    14   313 -299\n",
        "17  \u6e2f\u5546\u5fb7\u610f\u5fd7     5   185 -180\n",
        "18  \u6e2f\u5546\u9ea5\u683c\u91cc   180   313 -133\n",
        "19  \u65b0\u52a0\u5761\u5546\u745e     0   131 -131\n",
        "20   \u6469\u6839\u5927\u901a    45   136  -91\n",
        "21     \u7d71\u4e00   249   322  -73\n",
        "22   \u570b\u6cf0\u8b49\u5238    66    85  -19\n",
        "23   \u967d\u4fe1\u8b49\u5238     3    21  -18\n",
        "24   \u5fb7\u4fe1\u8b49\u5238     4    11   -7\n",
        "25   \u81f4\u548c\u8b49\u5238    29    35   -6\n",
        "26   \u806f\u90a6\u5546\u9280     5     9   -4\n",
        "27   \u4e2d\u4fe1\u9280\u8b49    21    24   -3\n",
        "28    \u65b0\u767e\u738b     6     8   -2\n",
        "29   \u5bcc\u9686\u8b49\u5238     0     0    0"
       ]
      }
     ],
     "prompt_number": 28
    },
    {
     "cell_type": "markdown",
     "metadata": {
      "slideshow": {
       "slide_type": "subslide"
      }
     },
     "source": [
      "# [Example1] \u4f7f\u7528\u6280\u8853\uff1a\n",
      "\n",
      "- ## [Connector] requests.get\n",
      "- ## [Parser] pandas.read_html / numpy"
     ]
    },
    {
     "cell_type": "markdown",
     "metadata": {
      "slideshow": {
       "slide_type": "slide"
      }
     },
     "source": [
      "# [Example 2] \u6293\u80a1\u7968\u4ee3\u78bc\uff1a\n",
      "\n",
      "[![Web_mops_t51sb01](Lec2_slide_imgs/Web_mops_t51sb01.png)](http://mops.twse.com.tw/mops/web/t51sb01)"
     ]
    },
    {
     "cell_type": "markdown",
     "metadata": {
      "slideshow": {
       "slide_type": "slide"
      }
     },
     "source": [
      "# [Example 2] \u89e3\u6cd5\u4e00 PageParser\uff1a"
     ]
    },
    {
     "cell_type": "code",
     "collapsed": false,
     "input": [
      "import requests\n",
      "import pandas as pd\n",
      "import numpy as np"
     ],
     "language": "python",
     "metadata": {},
     "outputs": [],
     "prompt_number": 30
    },
    {
     "cell_type": "code",
     "collapsed": false,
     "input": [
      "req_data = {\n",
      "\t\"encodeURIComponent\":1,\n",
      "\t\"step\":1,\n",
      "\t\"firstin\":1,\n",
      "\t\"TYPEK\":\"sii\",\n",
      "\t\"code\":\"\"\n",
      "}\n",
      "\n",
      "res = requests.post(\"http://mops.twse.com.tw/mops/web/ajax_t51sb01\",data = req_data)\n",
      "tables = pd.read_html(res.text)\n"
     ],
     "language": "python",
     "metadata": {},
     "outputs": [],
     "prompt_number": 31
    },
    {
     "cell_type": "code",
     "collapsed": false,
     "input": [
      "dirty_df = tables[1]\n",
      "print \"dirty_df.values.shape = \",dirty_df.values.shape\n",
      "print \"dirty_df.values[:,1] = \",dirty_df.values[:,0]"
     ],
     "language": "python",
     "metadata": {},
     "outputs": [
      {
       "output_type": "stream",
       "stream": "stdout",
       "text": [
        "dirty_df.values.shape =  (924, 28)\n",
        "dirty_df.values[:,1] =  [nan 1101.0 1102.0 1103.0 1104.0 1108.0 1109.0 1110.0 1201.0 1203.0 1210.0\n",
        " 1213.0 1215.0 1216.0 1217.0 1218.0 nan 1219.0 1220.0 1225.0 1227.0 1229.0\n",
        " 1231.0 1232.0 1233.0 1234.0 1235.0 1236.0 1301.0 1303.0 1304.0 1305.0 nan\n",
        " 1307.0 1308.0 1309.0 1310.0 1312.0 1313.0 1314.0 1315.0 1316.0 1319.0\n",
        " 1321.0 1323.0 1324.0 1325.0 1326.0 nan 1337.0 1338.0 1339.0 1402.0 1409.0\n",
        " 1410.0 1413.0 1414.0 1416.0 1417.0 1418.0 1419.0 1423.0 1432.0 1434.0 nan\n",
        " 1435.0 1436.0 1437.0 1438.0 1439.0 1440.0 1441.0 1442.0 1443.0 1444.0\n",
        " 1445.0 1446.0 1447.0 1449.0 1451.0 nan 1452.0 1453.0 1454.0 1455.0 1456.0\n",
        " 1457.0 1459.0 1460.0 1463.0 1464.0 1465.0 1466.0 1467.0 1468.0 1469.0 nan\n",
        " 1470.0 1471.0 1472.0 1473.0 1474.0 1475.0 1476.0 1477.0 1503.0 1504.0\n",
        " 1506.0 1507.0 1512.0 1513.0 1514.0 nan 1515.0 1516.0 1517.0 1519.0 1521.0\n",
        " 1522.0 1524.0 1525.0 1526.0 1527.0 1528.0 1529.0 1530.0 1531.0 1532.0 nan\n",
        " 1533.0 1535.0 1536.0 1537.0 1538.0 1539.0 1540.0 1541.0 1560.0 1582.0\n",
        " 1583.0 1589.0 1590.0 1603.0 1604.0 nan 1605.0 1608.0 1609.0 1611.0 1612.0\n",
        " 1613.0 1614.0 1615.0 1616.0 1617.0 1618.0 1626.0 1701.0 1702.0 1704.0 nan\n",
        " 1707.0 1708.0 1709.0 1710.0 1711.0 1712.0 1713.0 1714.0 1715.0 1717.0\n",
        " 1718.0 1720.0 1721.0 1722.0 1723.0 nan 1724.0 1725.0 1726.0 1727.0 1729.0\n",
        " 1730.0 1731.0 1732.0 1733.0 1734.0 1735.0 1736.0 1737.0 1762.0 1773.0 nan\n",
        " 1783.0 1786.0 1789.0 1802.0 1805.0 1806.0 1808.0 1809.0 1810.0 1817.0\n",
        " 1902.0 1903.0 1904.0 1905.0 1906.0 nan 1907.0 1909.0 2002.0 2006.0 2007.0\n",
        " 2008.0 2009.0 2010.0 2012.0 2013.0 2014.0 2015.0 2017.0 2020.0 2022.0 nan\n",
        " 2023.0 2024.0 2025.0 2027.0 2028.0 2029.0 2030.0 2031.0 2032.0 2033.0\n",
        " 2034.0 2038.0 2049.0 2059.0 2062.0 nan 2101.0 2102.0 2103.0 2104.0 2105.0\n",
        " 2106.0 2107.0 2108.0 2109.0 2114.0 2115.0 2201.0 2204.0 2206.0 2207.0 nan\n",
        " 2208.0 2227.0 2228.0 2231.0 2301.0 2302.0 2303.0 2305.0 2308.0 2311.0\n",
        " 2312.0 2313.0 2314.0 2316.0 2317.0 nan 2321.0 2323.0 2324.0 2325.0 2327.0\n",
        " 2328.0 2329.0 2330.0 2331.0 2332.0 2337.0 2338.0 2340.0 2342.0 2344.0 nan\n",
        " 2345.0 2347.0 2348.0 2349.0 2351.0 2352.0 2353.0 2354.0 2355.0 2356.0\n",
        " 2357.0 2358.0 2359.0 2360.0 2361.0 nan 2362.0 2363.0 2364.0 2365.0 2367.0\n",
        " 2368.0 2369.0 2371.0 2373.0 2374.0 2375.0 2376.0 2377.0 2379.0 2380.0 nan\n",
        " 2382.0 2383.0 2384.0 2385.0 2387.0 2388.0 2390.0 2392.0 2393.0 2395.0\n",
        " 2397.0 2399.0 2401.0 2402.0 2404.0 nan 2405.0 2406.0 2408.0 2409.0 2412.0\n",
        " 2413.0 2414.0 2415.0 2417.0 2419.0 2420.0 2421.0 2423.0 2424.0 2425.0 nan\n",
        " 2426.0 2427.0 2428.0 2429.0 2430.0 2431.0 2433.0 2434.0 2436.0 2437.0\n",
        " 2438.0 2439.0 2440.0 2441.0 2442.0 nan 2443.0 2444.0 2448.0 2449.0 2450.0\n",
        " 2451.0 2453.0 2454.0 2455.0 2456.0 2457.0 2458.0 2459.0 2460.0 2461.0 nan\n",
        " 2462.0 2464.0 2465.0 2466.0 2467.0 2468.0 2471.0 2472.0 2474.0 2475.0\n",
        " 2476.0 2477.0 2478.0 2480.0 2481.0 nan 2482.0 2483.0 2484.0 2485.0 2486.0\n",
        " 2488.0 2489.0 2491.0 2492.0 2493.0 2495.0 2496.0 2497.0 2498.0 2499.0 nan\n",
        " 2501.0 2504.0 2505.0 2506.0 2509.0 2511.0 2514.0 2515.0 2516.0 2520.0\n",
        " 2524.0 2527.0 2528.0 2530.0 2534.0 nan 2535.0 2536.0 2537.0 2538.0 2539.0\n",
        " 2540.0 2542.0 2543.0 2545.0 2546.0 2547.0 2548.0 2597.0 2601.0 2603.0 nan\n",
        " 2605.0 2606.0 2607.0 2608.0 2609.0 2610.0 2611.0 2612.0 2613.0 2614.0\n",
        " 2615.0 2616.0 2617.0 2618.0 2637.0 nan 2642.0 2701.0 2702.0 2704.0 2705.0\n",
        " 2706.0 2707.0 2712.0 2722.0 2723.0 2727.0 2731.0 2801.0 2809.0 2812.0 nan\n",
        " 2816.0 2820.0 2823.0 2832.0 2833.0 2834.0 2836.0 2837.0 2838.0 2841.0\n",
        " 2845.0 2847.0 2849.0 2850.0 2851.0 nan 2852.0 2855.0 2856.0 2867.0 2880.0\n",
        " 2881.0 2882.0 2883.0 2884.0 2885.0 2886.0 2887.0 2888.0 2889.0 2890.0 nan\n",
        " 2891.0 2892.0 2901.0 2903.0 2904.0 2905.0 2906.0 2908.0 2910.0 2911.0\n",
        " 2912.0 2913.0 2915.0 2923.0 2929.0 nan 3002.0 3003.0 3004.0 3005.0 3006.0\n",
        " 3008.0 3010.0 3011.0 3013.0 3014.0 3015.0 3016.0 3017.0 3018.0 3019.0 nan\n",
        " 3021.0 3022.0 3023.0 3024.0 3025.0 3026.0 3027.0 3028.0 3029.0 3030.0\n",
        " 3031.0 3032.0 3033.0 3034.0 3035.0 nan 3036.0 3037.0 3038.0 3040.0 3041.0\n",
        " 3042.0 3043.0 3044.0 3045.0 3046.0 3047.0 3048.0 3049.0 3050.0 3051.0 nan\n",
        " 3052.0 3054.0 3055.0 3056.0 3057.0 3058.0 3059.0 3060.0 3061.0 3062.0\n",
        " 3090.0 3094.0 3130.0 3149.0 3164.0 nan 3167.0 3189.0 3209.0 3229.0 3231.0\n",
        " 3257.0 3296.0 3305.0 3308.0 3311.0 3312.0 3315.0 3338.0 3356.0 3376.0 nan\n",
        " 3380.0 3383.0 3406.0 3419.0 3432.0 3443.0 3450.0 3454.0 3474.0 3481.0\n",
        " 3494.0 3501.0 3504.0 3514.0 3515.0 nan 3518.0 3519.0 3532.0 3533.0 3535.0\n",
        " 3536.0 3545.0 3550.0 3557.0 3559.0 3561.0 3573.0 3576.0 3579.0 3583.0 nan\n",
        " 3584.0 3588.0 3591.0 3593.0 3596.0 3598.0 3605.0 3607.0 3617.0 3622.0\n",
        " 3638.0 3645.0 3653.0 3665.0 3669.0 nan 3673.0 3679.0 3682.0 3686.0 3694.0\n",
        " 3697.0 3698.0 3701.0 3702.0 3703.0 3704.0 3705.0 3706.0 4104.0 4106.0 nan\n",
        " 4108.0 4119.0 4133.0 4137.0 4141.0 4142.0 4144.0 4164.0 4306.0 4414.0\n",
        " 4426.0 4526.0 4532.0 4536.0 4722.0 nan 4725.0 4733.0 4737.0 4746.0 4755.0\n",
        " 4904.0 4906.0 4915.0 4916.0 4919.0 4930.0 4934.0 4935.0 4938.0 4942.0 nan\n",
        " 4952.0 4956.0 4958.0 4960.0 4976.0 4977.0 4984.0 4994.0 4999.0 5007.0\n",
        " 5203.0 5215.0 5225.0 5234.0 5243.0 nan 5259.0 5264.0 5269.0 5280.0 5305.0\n",
        " 5388.0 5434.0 5469.0 5471.0 5484.0 5515.0 5521.0 5522.0 5525.0 5531.0 nan\n",
        " 5533.0 5534.0 5538.0 5607.0 5608.0 5706.0 5871.0 5880.0 5906.0 5907.0\n",
        " 6005.0 6108.0 6112.0 6115.0 6116.0 nan 6117.0 6120.0 6128.0 6131.0 6133.0\n",
        " 6136.0 6139.0 6141.0 6142.0 6145.0 6152.0 6153.0 6155.0 6164.0 6165.0 nan\n",
        " 6166.0 6168.0 6172.0 6176.0 6177.0 6183.0 6184.0 6189.0 6191.0 6192.0\n",
        " 6196.0 6197.0 6201.0 6202.0 6205.0 nan 6206.0 6209.0 6213.0 6214.0 6215.0\n",
        " 6216.0 6224.0 6225.0 6226.0 6230.0 6235.0 6239.0 6243.0 6251.0 6257.0 nan\n",
        " 6269.0 6271.0 6277.0 6278.0 6281.0 6282.0 6283.0 6285.0 6286.0 6289.0\n",
        " 6405.0 6412.0 6415.0 6504.0 6505.0 nan 6605.0 6702.0 8011.0 8016.0 8021.0\n",
        " 8033.0 8039.0 8046.0 8070.0 8072.0 8078.0 8081.0 8101.0 8103.0 8105.0 nan\n",
        " 8110.0 8112.0 8114.0 8131.0 8163.0 8201.0 8210.0 8213.0 8215.0 8249.0\n",
        " 8261.0 8271.0 8374.0 8404.0 8411.0 nan 8422.0 8427.0 8429.0 8926.0 8940.0\n",
        " 910069.0 9103.0 910322.0 910482.0 9105.0 9106.0 910708.0 910801.0 910861.0\n",
        " 910948.0 nan 9110.0 911201.0 911608.0 911609.0 911610.0 911611.0 911612.0\n",
        " 911616.0 911619.0 911622.0 911626.0 911868.0 912000.0 912398.0 9136.0 nan\n",
        " 913889.0 9157.0 9188.0 9802.0 9902.0 9904.0 9905.0 9906.0 9907.0 9908.0\n",
        " 9910.0 9911.0 9912.0 9914.0 9917.0 nan 9918.0 9919.0 9921.0 9924.0 9925.0\n",
        " 9926.0 9927.0 9928.0 9929.0 9930.0 9931.0 9933.0 9934.0 9935.0 9937.0 nan\n",
        " 9938.0 9939.0 9940.0 9941.0 9942.0 9943.0 9944.0 9945.0 9946.0 9955.0\n",
        " 9958.0]\n"
       ]
      }
     ],
     "prompt_number": 35
    },
    {
     "cell_type": "code",
     "collapsed": false,
     "input": [],
     "language": "python",
     "metadata": {},
     "outputs": [],
     "prompt_number": 34
    },
    {
     "cell_type": "code",
     "collapsed": false,
     "input": [
      "dirty_df.columns"
     ],
     "language": "python",
     "metadata": {},
     "outputs": [
      {
       "metadata": {},
       "output_type": "pyout",
       "prompt_number": 30,
       "text": [
        "Int64Index([0, 1, 2, 3, 4, 5, 6, 7, 8, 9, 10, 11, 12, 13, 14, 15, 16, 17, 18, 19, 20, 21, 22, 23, 24, 25, 26, 27], dtype=int64)"
       ]
      }
     ],
     "prompt_number": 30
    },
    {
     "cell_type": "code",
     "collapsed": false,
     "input": [
      "req_data = {\n",
      "\"firstin\":\"true\",\n",
      "\"step\":\"10\",\n",
      "\"filename\":\"t51sb01_20140113_040331565.csv\"\n",
      "}\n",
      "\n",
      "\n",
      "r = requests.post(\"http://mops.twse.com.tw/server-java/t105sb02\",data = req_data)"
     ],
     "language": "python",
     "metadata": {},
     "outputs": []
    }
   ],
   "metadata": {}
  }
 ]
}