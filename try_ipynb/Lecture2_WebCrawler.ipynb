{
 "metadata": {
  "name": ""
 },
 "nbformat": 3,
 "nbformat_minor": 0,
 "worksheets": [
  {
   "cells": [
    {
     "cell_type": "markdown",
     "metadata": {
      "slideshow": {
       "slide_type": "slide"
      }
     },
     "source": [
      "Lecture 2: Web Crawler\n",
      "======================="
     ]
    },
    {
     "cell_type": "markdown",
     "metadata": {
      "slideshow": {
       "slide_type": "-"
      }
     },
     "source": [
      "Chia-Chi (c3h3.tw@gmail.com)\n",
      "----------------------------"
     ]
    },
    {
     "cell_type": "markdown",
     "metadata": {
      "slideshow": {
       "slide_type": "slide"
      }
     },
     "source": [
      "# Outline\n",
      "\n",
      "- ## spideR \u5beb\u4f5c\u7684\u9810\u5099\u77e5\u8b58\n",
      "- ## spideR \u7684\u4e00\u4e9b\u5c0f\u7bc4\u4f8b\n",
      "- ## spideR \u7684\u67b6\u69cb\n",
      "- ## spideR \u7684\u5beb\u4f5c\u6d41\u7a0b\n",
      "- ## spideR \u7684\u4e00\u4e9b\u5c0f\u6280\u5de7"
     ]
    },
    {
     "cell_type": "markdown",
     "metadata": {
      "slideshow": {
       "slide_type": "slide"
      }
     },
     "source": [
      "# \u672c\u6b21\u6f14\u8b1b\u9069\u5408\u521d\u5b78\u8005\n",
      "# \u8acb\u5404\u4f4d\u9ad8\u624b\u5011\u5fcd\u8010\u4e00\u4e0b\u56c9\uff01"
     ]
    },
    {
     "cell_type": "markdown",
     "metadata": {
      "slideshow": {
       "slide_type": "slide"
      }
     },
     "source": [
      "# \u9810\u5099\u77e5\u8b58"
     ]
    },
    {
     "cell_type": "markdown",
     "metadata": {
      "slideshow": {
       "slide_type": "subslide"
      }
     },
     "source": [
      "# spideR \u5beb\u4f5c\u7684\u9810\u5099\u77e5\u8b58\n",
      "\n",
      "- ## \u4ec0\u9ebc\u662f\u7db2\u7ad9\uff1f\n",
      "- ## \u7db2\u7ad9\u7684\u7d50\u69cb\uff1f\n",
      "- ## \u7db2\u5740\u7684\u7955\u5bc6\uff1f\n",
      "- ## \u7db2\u7ad9\u8cc7\u6599\u7684\u7a2e\u985e\uff1f\n",
      "- ## \u5206\u6790\u7684\u5de5\u5177\n"
     ]
    },
    {
     "cell_type": "markdown",
     "metadata": {
      "slideshow": {
       "slide_type": "subslide"
      }
     },
     "source": [
      "# \u4ec0\u9ebc\u662f\u7db2\u7ad9?"
     ]
    },
    {
     "cell_type": "markdown",
     "metadata": {
      "slideshow": {
       "slide_type": "subslide"
      }
     },
     "source": [
      "# \u4e00\u822c\u4eba\u773c\u4e2d\u7684\u7db2\u7ad9 ... \n"
     ]
    },
    {
     "cell_type": "markdown",
     "metadata": {
      "slideshow": {
       "slide_type": "subslide"
      }
     },
     "source": [
      "# \u4e00\u822c\u4eba\u773c\u4e2d\u7684\u7db2\u7ad9\n",
      "\n",
      "[![Web_isuphoto](Lec2_slide_imgs/Web_isuphoto.png)](http://pi.isuphoto.org/uei)"
     ]
    },
    {
     "cell_type": "markdown",
     "metadata": {
      "slideshow": {
       "slide_type": "subslide"
      }
     },
     "source": [
      "# \u4e00\u822c\u4eba\u773c\u4e2d\u7684\u7db2\u7ad9\n",
      "\n",
      "[![Web_pchome_search](Lec2_slide_imgs/Web_pchome_search.png)](http://ecshweb.pchome.com.tw/search/v3.2/?q=sony)"
     ]
    },
    {
     "cell_type": "markdown",
     "metadata": {
      "slideshow": {
       "slide_type": "subslide"
      }
     },
     "source": [
      "# \u4e00\u822c\u4eba\u773c\u4e2d\u7684\u7db2\u7ad9\n",
      "\n",
      "[![Web_kimo_stock](Lec2_slide_imgs/Web_kimo_stock.png.png)](http://tw.stock.yahoo.com/d/s/major_2451.html)"
     ]
    },
    {
     "cell_type": "markdown",
     "metadata": {
      "slideshow": {
       "slide_type": "subslide"
      }
     },
     "source": [
      "# \u4e00\u822c\u4eba\u773c\u4e2d\u7684\u7db2\u7ad9\n",
      "\n",
      "[![Web_mops_t51sb01](Lec2_slide_imgs/Web_mops_t51sb01.png)](http://mops.twse.com.tw/mops/web/t51sb01)"
     ]
    },
    {
     "cell_type": "markdown",
     "metadata": {
      "slideshow": {
       "slide_type": "subslide"
      }
     },
     "source": [
      "# \u4e00\u822c\u4eba\u773c\u4e2d\u7684\u7db2\u7ad9\n",
      "\n",
      "[![Web_ppt](Lec2_slide_imgs/Web_ppt.png)](http://www.ptt.cc/bbs/R_Language/index.html)"
     ]
    },
    {
     "cell_type": "markdown",
     "metadata": {
      "slideshow": {
       "slide_type": "subslide"
      }
     },
     "source": [
      "# \u5de5\u7a0b\u5e2b\u773c\u4e2d\u7684\u7db2\u7ad9 ...\n"
     ]
    },
    {
     "cell_type": "markdown",
     "metadata": {
      "slideshow": {
       "slide_type": "subslide"
      }
     },
     "source": [
      "# \u5de5\u7a0b\u5e2b\u773c\u4e2d\u7684\u7db2\u7ad9\n",
      "\n",
      "![](Lec2_slide_imgs/Web_backend1.png)"
     ]
    },
    {
     "cell_type": "markdown",
     "metadata": {
      "slideshow": {
       "slide_type": "subslide"
      }
     },
     "source": [
      "# \u5de5\u7a0b\u5e2b\u773c\u4e2d\u7684\u7db2\u7ad9\n",
      "\n",
      "![](Lec2_slide_imgs/Web_backend2.png)"
     ]
    },
    {
     "cell_type": "markdown",
     "metadata": {
      "slideshow": {
       "slide_type": "subslide"
      }
     },
     "source": [
      "# \u5de5\u7a0b\u5e2b\u773c\u4e2d\u7684\u7db2\u7ad9\n",
      "\n",
      "![](Lec2_slide_imgs/Web_backend3.png)"
     ]
    },
    {
     "cell_type": "markdown",
     "metadata": {
      "slideshow": {
       "slide_type": "subslide"
      }
     },
     "source": [
      "# \u5de5\u7a0b\u5e2b\u773c\u4e2d\u7684\u7db2\u7ad9\n",
      "\n",
      "![](Lec2_slide_imgs/Web_backend4.png)"
     ]
    },
    {
     "cell_type": "markdown",
     "metadata": {
      "slideshow": {
       "slide_type": "subslide"
      }
     },
     "source": [
      "# \u5de5\u7a0b\u5e2b\u773c\u4e2d\u7684\u7db2\u7ad9\n",
      "\n",
      "![](Lec2_slide_imgs/Web_backend5.png)"
     ]
    },
    {
     "cell_type": "markdown",
     "metadata": {
      "slideshow": {
       "slide_type": "subslide"
      }
     },
     "source": [
      "# spideR \u773c\u4e2d\u7684\u7db2\u7ad9 ... ?\n",
      "\n",
      "![spideR](Lec2_slide_imgs/spiderman.jpg)\n"
     ]
    },
    {
     "cell_type": "markdown",
     "metadata": {
      "slideshow": {
       "slide_type": "subslide"
      }
     },
     "source": [
      "# \u7db2\u7ad9\u7684\u7d50\u69cb?\n"
     ]
    },
    {
     "cell_type": "markdown",
     "metadata": {
      "slideshow": {
       "slide_type": "subslide"
      }
     },
     "source": [
      "# \u7db2\u7ad9\u7d50\u69cb\u7684\u5206\u985e\n",
      "\n",
      "- ## \u524d\u7aef V.S. \u5f8c\u7aef\n",
      "- ## Model + View + Controler (MVC)\n",
      "- ## Static (Page Render) V.S. Dynamic (Ajax)\n",
      "\n"
     ]
    },
    {
     "cell_type": "markdown",
     "metadata": {
      "slideshow": {
       "slide_type": "subslide"
      }
     },
     "source": [
      "# [\u7db2\u7ad9\u7d50\u69cb] Ajax V.S. Page Render\n",
      "\n",
      "![](Lec2_slide_imgs/ajax-fig1_small.png)"
     ]
    },
    {
     "cell_type": "markdown",
     "metadata": {
      "slideshow": {
       "slide_type": "subslide"
      }
     },
     "source": [
      "# [\u7db2\u7ad9\u7d50\u69cb] Ajax V.S. Page Render\n",
      "\n",
      "- ## PageRender \u7bc4\u4f8b\uff1a http://www.ptt.cc/bbs/R_Language/index.html\n",
      "- ## Ajax \u7bc4\u4f8b1\uff1a http://pi.isuphoto.org/uei \n",
      "- ## Ajax \u7bc4\u4f8b1 Data\uff1a http://pi.isuphoto.org/api/user/uei?page=0\n",
      "- ## Ajax \u7bc4\u4f8b2\uff1a http://ecshweb.pchome.com.tw/search/v3.2/?q=sony\n",
      "- ## [Hw1] Ajax \u7bc4\u4f8b2 Data ?"
     ]
    },
    {
     "cell_type": "markdown",
     "metadata": {
      "slideshow": {
       "slide_type": "subslide"
      }
     },
     "source": [
      "# [\u7db2\u7ad9\u7d50\u69cb] Model + View + Controler (\u5f8c\u7aef MVC)\n",
      "\n",
      "![](Lec2_slide_imgs/mvc-diagram.png)"
     ]
    },
    {
     "cell_type": "markdown",
     "metadata": {
      "slideshow": {
       "slide_type": "subslide"
      }
     },
     "source": [
      "# [\u7db2\u7ad9\u7d50\u69cb] Model + View + Controler (\u524d\u7aef MVC)\n",
      "\n",
      "![](Lec2_slide_imgs/concepts-controller.png)"
     ]
    },
    {
     "cell_type": "markdown",
     "metadata": {
      "slideshow": {
       "slide_type": "slide"
      }
     },
     "source": [
      "# \u7db2\u5740\u7684\u7955\u5bc6\uff1f"
     ]
    },
    {
     "cell_type": "markdown",
     "metadata": {
      "slideshow": {
       "slide_type": "subslide"
      }
     },
     "source": [
      "# \u7db2\u5740\u7684\u7955\u5bc6 --- \u53c3\u6578\u7bc7\n",
      "\n",
      "- # URL?var_1=val_1&var_2=val_2... \n",
      "- ## \u5176\u5be6\uff0c\u5c31\u50cf\u547c\u53eb\u51fd\u6578\u4e00\u6a23\n",
      "- ## \u76f8\u95dc\u8a0a\u606f\u53ef\u5728 form \u4e2d\u6216 JS code \u4e2d\u627e\u5230\n",
      "- ## [Ex1] http://finance.yahoo.com/q/hp?s=%5ETWII&a=06&b=2&c=1997&d=02&e=24&f=2013&g=d\n",
      "- ## [Ex2] http://www.taifex.com.tw/eng/eng3/eng3_2dl.asp?COMMODITY_ID=all&DATA_DATE=2012/11/01&DATA_DATE1=2012/11/15\n"
     ]
    },
    {
     "cell_type": "markdown",
     "metadata": {
      "slideshow": {
       "slide_type": "subslide"
      }
     },
     "source": [
      "# \u7db2\u5740\u7684\u7955\u5bc6 --- \u7db2\u5740\u898f\u5247\u7bc7\n",
      "\n",
      "- ## \u6709\u4e9b\u7db2\u5740\u6703\u628a\u8a0a\u606f\u85cf\u5728 URL \u4e2d\n",
      "- ## \u7136\u5f8c\uff0c\u518d\u7531\u5f8c\u7aef\u7684 URL Dispatcher \u89e3\u6790\n",
      "- ## [Ex1] http://tw.stock.yahoo.com/d/s/major_2451.html\n",
      "- ## [Ex1 Rule] major_StockID.html\n"
     ]
    },
    {
     "cell_type": "markdown",
     "metadata": {
      "slideshow": {
       "slide_type": "slide"
      }
     },
     "source": [
      "# \u7db2\u7ad9\u8cc7\u6599\u7684\u7a2e\u985e\uff1f"
     ]
    },
    {
     "cell_type": "markdown",
     "metadata": {
      "slideshow": {
       "slide_type": "subslide"
      }
     },
     "source": [
      "# \u7db2\u7ad9\u8cc7\u6599\u5e38\u898b\u985e\u578b\uff1a\n",
      "\n",
      "- ## Page (HTML)\n",
      "    * ### http://shopping.pchome.com.tw/?m=item&f=exhibit&IT_NO=DGBJ50-A81412134&SR_NO=DGBJ50\n",
      "- ## Data (JSON/XML...) \n",
      "    * ### http://pi.isuphoto.org/api/user/uei?page=0\n",
      "- ## File\n",
      "    * ### http://www.taifex.com.tw/chinese/3/3_1_5.asp\n",
      "\n"
     ]
    },
    {
     "cell_type": "markdown",
     "metadata": {
      "slideshow": {
       "slide_type": "subslide"
      }
     },
     "source": [
      "# \u5e38\u7528\u7684\u5de5\u5177"
     ]
    },
    {
     "cell_type": "markdown",
     "metadata": {
      "slideshow": {
       "slide_type": "subslide"
      }
     },
     "source": [
      "# [Live Demo] \u5e38\u7528\u7684\u5de5\u5177\uff1a\n",
      "\n",
      "- ## Google Chrome Developer Tools\n",
      "- ## Firefox\n",
      "    * ### Firebug\n",
      "    * ### Hackbar\n",
      "    * ### Cookie Manager+\n",
      "- ## cURL\n",
      "- ## Wireshark\n"
     ]
    },
    {
     "cell_type": "markdown",
     "metadata": {
      "slideshow": {
       "slide_type": "slide"
      }
     },
     "source": [
      "# \u4e00\u4e9b\u5c0f\u7bc4\u4f8b"
     ]
    },
    {
     "cell_type": "markdown",
     "metadata": {
      "slideshow": {
       "slide_type": "subslide"
      }
     },
     "source": [
      "# [Example1] \u6293\u53d6\u80a1\u5e02\u4e3b\u529b\u9032\u51fa\u8868\uff1a\n",
      "\n",
      "[![Web_kimo_stock](Lec2_slide_imgs/Web_kimo_stock.png.png)](http://tw.stock.yahoo.com/d/s/major_2451.html)"
     ]
    },
    {
     "cell_type": "markdown",
     "metadata": {
      "slideshow": {
       "slide_type": "subslide"
      }
     },
     "source": [
      "# [Example1] \u6293\u53d6\u80a1\u5e02\u4e3b\u529b\u9032\u51fa\u8868\uff1a"
     ]
    },
    {
     "cell_type": "code",
     "collapsed": false,
     "input": [
      "import requests\n",
      "import pandas as pd\n",
      "import numpy as np"
     ],
     "language": "python",
     "metadata": {},
     "outputs": [],
     "prompt_number": 13
    },
    {
     "cell_type": "code",
     "collapsed": false,
     "input": [
      "res = requests.get(\"http://tw.stock.yahoo.com/d/s/major_2451.html\")\n",
      "tables = pd.read_html(res.text)\n",
      "print tables[6]"
     ],
     "language": "python",
     "metadata": {},
     "outputs": [
      {
       "output_type": "stream",
       "stream": "stdout",
       "text": [
        "enc_params =  \n",
        "        0    1   2    3      4    5    6   7\n",
        "0    \u8cb7\u8d85\u5238\u5546  NaN NaN  NaN   \u8ce3\u8d85\u5238\u5546  NaN  NaN NaN\n",
        "1      \u81fa\u9280  357   7  350   \u7f8e\u5546\u9ad8\u76db    5   96 -91\n",
        "2      \u7d71\u4e00   29   9   20     \u7f8e\u6797    4   61 -57\n",
        "3   \u53f0\u7063\u6469\u6839\u58eb   24   9   15   \u745e\u58eb\u4fe1\u8cb8    0   56 -56\n",
        "4    \u82b1\u65d7\u74b0\u7403    7   0    7  \u6e2f\u5546\u6cd5\u570b\u8208    0   47 -47\n",
        "5    \u65e5\u76db\u8b49\u5238   14   7    7   \u5143\u5927\u5bf6\u4f86  103  131 -28\n",
        "6    \u6e2f\u5546\u91ce\u6751    5   0    5   \u51f1\u57fa\u8b49\u5238   17   44 -27\n",
        "7      \u4e9e\u6771    5   0    5   \u946b\u8c50\u8b49\u5238    0   18 -18\n",
        "8      \u5143\u5bcc   11   6    5   \u5146\u8c50\u8b49\u5238    2   15 -13\n",
        "9    \u5927\u6176\u8b49\u5238    4   1    3   \u967d\u4fe1\u8b49\u5238    0   12 -12\n",
        "10     \u5408\u5eab    2   0    2  \u6e2f\u5546\u5fb7\u610f\u5fd7    1    9  -8\n",
        "11   \u7389\u5c71\u8b49\u5238   13  11    2   \u83ef\u5357\u6c38\u660c    4   11  -7\n",
        "12    \u7b2c\u4e00\u91d1    3   2    1     \u9ad8\u6a4b    0    6  -6\n",
        "13   \u4e2d\u4fe1\u9280\u8b49    1   0    1   \u7fa4\u76ca\u91d1\u9f0e   13   19  -6\n",
        "14     \u65e5\u8302    0   0    0   \u5eb7\u548c\u8b49\u5238    1    6  -5\n",
        "15   \u81f4\u548c\u8b49\u5238    0   0    0  \u6c38\u8c50\u91d1\u8b49\u5238    6   11  -5"
       ]
      },
      {
       "output_type": "stream",
       "stream": "stdout",
       "text": [
        "\n"
       ]
      }
     ],
     "prompt_number": 8
    },
    {
     "cell_type": "code",
     "collapsed": false,
     "input": [
      "pre_df = np.r_[ tables[6].values[1:,0:4], tables[6].values[1:,4:]]\n",
      "print pre_df"
     ],
     "language": "python",
     "metadata": {},
     "outputs": [
      {
       "output_type": "stream",
       "stream": "stdout",
       "text": [
        "[[u'\\u81fa\\u9280' 357.0 7.0 350.0]\n",
        " [u'\\u7d71\\u4e00' 29.0 9.0 20.0]\n",
        " [u'\\u53f0\\u7063\\u6469\\u6839\\u58eb' 24.0 9.0 15.0]\n",
        " [u'\\u82b1\\u65d7\\u74b0\\u7403' 7.0 0.0 7.0]\n",
        " [u'\\u65e5\\u76db\\u8b49\\u5238' 14.0 7.0 7.0]\n",
        " [u'\\u6e2f\\u5546\\u91ce\\u6751' 5.0 0.0 5.0]\n",
        " [u'\\u4e9e\\u6771' 5.0 0.0 5.0]\n",
        " [u'\\u5143\\u5bcc' 11.0 6.0 5.0]\n",
        " [u'\\u5927\\u6176\\u8b49\\u5238' 4.0 1.0 3.0]\n",
        " [u'\\u5408\\u5eab' 2.0 0.0 2.0]\n",
        " [u'\\u7389\\u5c71\\u8b49\\u5238' 13.0 11.0 2.0]\n",
        " [u'\\u7b2c\\u4e00\\u91d1' 3.0 2.0 1.0]\n",
        " [u'\\u4e2d\\u4fe1\\u9280\\u8b49' 1.0 0.0 1.0]\n",
        " [u'\\u65e5\\u8302' 0.0 0.0 0.0]\n",
        " [u'\\u81f4\\u548c\\u8b49\\u5238' 0.0 0.0 0.0]\n",
        " [u'\\u7f8e\\u5546\\u9ad8\\u76db' 5.0 96.0 -91.0]\n",
        " [u'\\u7f8e\\u6797' 4.0 61.0 -57.0]\n",
        " [u'\\u745e\\u58eb\\u4fe1\\u8cb8' 0.0 56.0 -56.0]\n",
        " [u'\\u6e2f\\u5546\\u6cd5\\u570b\\u8208' 0.0 47.0 -47.0]\n",
        " [u'\\u5143\\u5927\\u5bf6\\u4f86' 103.0 131.0 -28.0]\n",
        " [u'\\u51f1\\u57fa\\u8b49\\u5238' 17.0 44.0 -27.0]\n",
        " [u'\\u946b\\u8c50\\u8b49\\u5238' 0.0 18.0 -18.0]\n",
        " [u'\\u5146\\u8c50\\u8b49\\u5238' 2.0 15.0 -13.0]\n",
        " [u'\\u967d\\u4fe1\\u8b49\\u5238' 0.0 12.0 -12.0]\n",
        " [u'\\u6e2f\\u5546\\u5fb7\\u610f\\u5fd7' 1.0 9.0 -8.0]\n",
        " [u'\\u83ef\\u5357\\u6c38\\u660c' 4.0 11.0 -7.0]\n",
        " [u'\\u9ad8\\u6a4b' 0.0 6.0 -6.0]\n",
        " [u'\\u7fa4\\u76ca\\u91d1\\u9f0e' 13.0 19.0 -6.0]\n",
        " [u'\\u5eb7\\u548c\\u8b49\\u5238' 1.0 6.0 -5.0]\n",
        " [u'\\u6c38\\u8c50\\u91d1\\u8b49\\u5238' 6.0 11.0 -5.0]]\n"
       ]
      }
     ],
     "prompt_number": 16
    },
    {
     "cell_type": "code",
     "collapsed": false,
     "input": [
      "df = pd.DataFrame(pre_df)\n",
      "df.columns = [\"Name\",\"Buy\",\"Sell\",\"Net\"]\n",
      "print df"
     ],
     "language": "python",
     "metadata": {},
     "outputs": [
      {
       "output_type": "stream",
       "stream": "stdout",
       "text": [
        "     Name  Buy Sell  Net\n",
        "0      \u81fa\u9280  357    7  350\n",
        "1      \u7d71\u4e00   29    9   20\n",
        "2   \u53f0\u7063\u6469\u6839\u58eb   24    9   15\n",
        "3    \u82b1\u65d7\u74b0\u7403    7    0    7\n",
        "4    \u65e5\u76db\u8b49\u5238   14    7    7\n",
        "5    \u6e2f\u5546\u91ce\u6751    5    0    5\n",
        "6      \u4e9e\u6771    5    0    5\n",
        "7      \u5143\u5bcc   11    6    5\n",
        "8    \u5927\u6176\u8b49\u5238    4    1    3\n",
        "9      \u5408\u5eab    2    0    2\n",
        "10   \u7389\u5c71\u8b49\u5238   13   11    2\n",
        "11    \u7b2c\u4e00\u91d1    3    2    1\n",
        "12   \u4e2d\u4fe1\u9280\u8b49    1    0    1\n",
        "13     \u65e5\u8302    0    0    0\n",
        "14   \u81f4\u548c\u8b49\u5238    0    0    0\n",
        "15   \u7f8e\u5546\u9ad8\u76db    5   96  -91\n",
        "16     \u7f8e\u6797    4   61  -57\n",
        "17   \u745e\u58eb\u4fe1\u8cb8    0   56  -56\n",
        "18  \u6e2f\u5546\u6cd5\u570b\u8208    0   47  -47\n",
        "19   \u5143\u5927\u5bf6\u4f86  103  131  -28\n",
        "20   \u51f1\u57fa\u8b49\u5238   17   44  -27\n",
        "21   \u946b\u8c50\u8b49\u5238    0   18  -18\n",
        "22   \u5146\u8c50\u8b49\u5238    2   15  -13\n",
        "23   \u967d\u4fe1\u8b49\u5238    0   12  -12\n",
        "24  \u6e2f\u5546\u5fb7\u610f\u5fd7    1    9   -8\n",
        "25   \u83ef\u5357\u6c38\u660c    4   11   -7\n",
        "26     \u9ad8\u6a4b    0    6   -6\n",
        "27   \u7fa4\u76ca\u91d1\u9f0e   13   19   -6\n",
        "28   \u5eb7\u548c\u8b49\u5238    1    6   -5\n",
        "29  \u6c38\u8c50\u91d1\u8b49\u5238    6   11   -5\n"
       ]
      }
     ],
     "prompt_number": 20
    },
    {
     "cell_type": "code",
     "collapsed": false,
     "input": [
      "def get_stock_major_info(stock_id):\n",
      "    res = requests.get(\"http://tw.stock.yahoo.com/d/s/major_%s.html\" % str(stock_id))\n",
      "    tables = pd.read_html(res.text)\n",
      "    pre_df = np.r_[ tables[6].values[1:,0:4], tables[6].values[1:,4:]]\n",
      "    df = pd.DataFrame(pre_df)\n",
      "    df.columns = [\"Name\",\"Buy\",\"Sell\",\"Net\"]\n",
      "    return df \n",
      "\n",
      "print get_stock_major_info(2330)"
     ],
     "language": "python",
     "metadata": {},
     "outputs": [
      {
       "output_type": "stream",
       "stream": "stdout",
       "text": [
        "enc_params =  \n",
        "     Name   Buy  Sell   Net\n",
        "0    \u570b\u6cf0\u8b49\u5238  4227    10  4217\n",
        "1      \u7d71\u4e00  3087   344  2743\n",
        "2    \u5927\u548c\u570b\u6cf0  1500     0  1500\n",
        "3    \u65e5\u76db\u8b49\u5238  1590   277  1313\n",
        "4      \u7f8e\u6797  2300  1258  1042\n",
        "5    \u5bcc\u90a6\u8b49\u5238  1304   280  1024\n",
        "6    \u5143\u5927\u5bf6\u4f86  2178  1157  1021\n",
        "7    \u570b\u7968\u8b49\u5238   827    40   787\n",
        "8    \u7389\u5c71\u8b49\u5238   620    28   592\n",
        "9      \u81fa\u9280   565    47   518\n",
        "10   \u7fa4\u76ca\u91d1\u9f0e   648   176   472\n",
        "11   \u83ef\u5357\u6c38\u660c   921   505   416\n",
        "12   \u5146\u8c50\u8b49\u5238  1093   698   395\n",
        "13   \u51f1\u57fa\u8b49\u5238  2456  2193   263\n",
        "14   \u65b0\u5149\u8b49\u5238   501   272   229\n",
        "15   \u7f8e\u5546\u9ad8\u76db    95  6564 -6469\n",
        "16   \u745e\u58eb\u4fe1\u8cb8   584  3950 -3366\n",
        "17  \u53f0\u7063\u6469\u6839\u58eb   487  3388 -2901\n",
        "18   \u82b1\u65d7\u74b0\u7403  1501  3409 -1908\n",
        "19   \u6469\u6839\u5927\u901a  1936  3154 -1218\n",
        "20  \u65b0\u52a0\u5761\u5546\u745e    20   867  -847\n",
        "21  \u9999\u6e2f\u4e0a\u6d77\u532f     0   508  -508\n",
        "22  \u6e2f\u5546\u9ea5\u683c\u91cc  2653  3150  -497\n",
        "23  \u6e2f\u5546\u6cd5\u570b\u8208   148   442  -294\n",
        "24  \u6e2f\u5546\u5fb7\u610f\u5fd7   396   538  -142\n",
        "25   \u53f0\u7063\u4f01\u9280    39   163  -124\n",
        "26     \u4e9e\u6771    31   105   -74\n",
        "27   \u53f0\u7063\u5de5\u9280    26    62   -36\n",
        "28   \u5eb7\u548c\u8b49\u5238    83   116   -33\n",
        "29     \u5f70\u9280    29    49   -20"
       ]
      },
      {
       "output_type": "stream",
       "stream": "stdout",
       "text": [
        "\n"
       ]
      }
     ],
     "prompt_number": 29
    },
    {
     "cell_type": "markdown",
     "metadata": {
      "slideshow": {
       "slide_type": "subslide"
      }
     },
     "source": [
      "# [Example1] \u4f7f\u7528\u6280\u8853\uff1a\n",
      "\n",
      "- ## [Connector] requests.get\n",
      "- ## [Parser&Cleaner] pandas.read_html / numpy"
     ]
    },
    {
     "cell_type": "markdown",
     "metadata": {
      "slideshow": {
       "slide_type": "slide"
      }
     },
     "source": [
      "# [Example 2] \u6293\u80a1\u7968\u4ee3\u78bc\uff1a\n",
      "\n",
      "[![Web_mops_t51sb01](Lec2_slide_imgs/Web_mops_t51sb01.png)](http://mops.twse.com.tw/mops/web/t51sb01)"
     ]
    },
    {
     "cell_type": "code",
     "collapsed": false,
     "input": [],
     "language": "python",
     "metadata": {},
     "outputs": []
    }
   ],
   "metadata": {}
  }
 ]
}