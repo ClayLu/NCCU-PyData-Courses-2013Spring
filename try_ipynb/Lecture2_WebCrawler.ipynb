{
 "metadata": {
  "name": ""
 },
 "nbformat": 3,
 "nbformat_minor": 0,
 "worksheets": [
  {
   "cells": [
    {
     "cell_type": "markdown",
     "metadata": {
      "slideshow": {
       "slide_type": "slide"
      }
     },
     "source": [
      "Lecture 2: Web Crawler\n",
      "======================="
     ]
    },
    {
     "cell_type": "markdown",
     "metadata": {
      "slideshow": {
       "slide_type": "-"
      }
     },
     "source": [
      "Chia-Chi (c3h3.tw@gmail.com)\n",
      "----------------------------"
     ]
    },
    {
     "cell_type": "markdown",
     "metadata": {
      "slideshow": {
       "slide_type": "slide"
      }
     },
     "source": [
      "# Outline\n",
      "\n",
      "- ## spideR \u5beb\u4f5c\u7684\u9810\u5099\u77e5\u8b58\n",
      "- ## spideR \u7684\u4e00\u4e9b\u5c0f\u7bc4\u4f8b\n",
      "- ## spideR \u7684\u67b6\u69cb\n",
      "- ## spideR \u7684\u5beb\u4f5c\u6d41\u7a0b\n",
      "- ## spideR \u7684\u4e00\u4e9b\u5c0f\u6280\u5de7"
     ]
    },
    {
     "cell_type": "markdown",
     "metadata": {
      "slideshow": {
       "slide_type": "slide"
      }
     },
     "source": [
      "# \u672c\u6b21\u6f14\u8b1b\u9069\u5408\u521d\u5b78\u8005\n",
      "# \u8acb\u5404\u4f4d\u9ad8\u624b\u5011\u5fcd\u8010\u4e00\u4e0b\u56c9\uff01"
     ]
    },
    {
     "cell_type": "markdown",
     "metadata": {
      "slideshow": {
       "slide_type": "slide"
      }
     },
     "source": [
      "# \u9810\u5099\u77e5\u8b58"
     ]
    },
    {
     "cell_type": "markdown",
     "metadata": {
      "slideshow": {
       "slide_type": "subslide"
      }
     },
     "source": [
      "# spideR \u5beb\u4f5c\u7684\u9810\u5099\u77e5\u8b58\n",
      "\n",
      "- ## \u4ec0\u9ebc\u662f\u7db2\u7ad9\uff1f\n",
      "- ## \u7db2\u7ad9\u7684\u7d50\u69cb\uff1f\n",
      "- ## \u7db2\u5740\u7684\u7955\u5bc6\uff1f\n",
      "- ## \u7db2\u7ad9\u8cc7\u6599\u7684\u7a2e\u985e\uff1f\n",
      "- ## \u5206\u6790\u7684\u5de5\u5177\n"
     ]
    },
    {
     "cell_type": "markdown",
     "metadata": {
      "slideshow": {
       "slide_type": "subslide"
      }
     },
     "source": [
      "# \u4ec0\u9ebc\u662f\u7db2\u7ad9?"
     ]
    },
    {
     "cell_type": "markdown",
     "metadata": {
      "slideshow": {
       "slide_type": "subslide"
      }
     },
     "source": [
      "# \u4e00\u822c\u4eba\u773c\u4e2d\u7684\u7db2\u7ad9 ... \n"
     ]
    },
    {
     "cell_type": "markdown",
     "metadata": {
      "slideshow": {
       "slide_type": "subslide"
      }
     },
     "source": [
      "# \u4e00\u822c\u4eba\u773c\u4e2d\u7684\u7db2\u7ad9\n",
      "\n",
      "[![Web_isuphoto](Lec2_slide_imgs/Web_isuphoto.png)](http://pi.isuphoto.org/uei)"
     ]
    },
    {
     "cell_type": "markdown",
     "metadata": {
      "slideshow": {
       "slide_type": "subslide"
      }
     },
     "source": [
      "# \u4e00\u822c\u4eba\u773c\u4e2d\u7684\u7db2\u7ad9\n",
      "\n",
      "[![Web_pchome_search](Lec2_slide_imgs/Web_pchome_search.png)](http://ecshweb.pchome.com.tw/search/v3.2/?q=sony)"
     ]
    },
    {
     "cell_type": "markdown",
     "metadata": {
      "slideshow": {
       "slide_type": "subslide"
      }
     },
     "source": [
      "# \u4e00\u822c\u4eba\u773c\u4e2d\u7684\u7db2\u7ad9\n",
      "\n",
      "[![Web_kimo_stock](Lec2_slide_imgs/Web_kimo_stock.png.png)](http://tw.stock.yahoo.com/d/s/major_2451.html)"
     ]
    },
    {
     "cell_type": "markdown",
     "metadata": {
      "slideshow": {
       "slide_type": "subslide"
      }
     },
     "source": [
      "# \u4e00\u822c\u4eba\u773c\u4e2d\u7684\u7db2\u7ad9\n",
      "\n",
      "[![Web_mops_t51sb01](Lec2_slide_imgs/Web_mops_t51sb01.png)](http://mops.twse.com.tw/mops/web/t51sb01)"
     ]
    },
    {
     "cell_type": "markdown",
     "metadata": {
      "slideshow": {
       "slide_type": "subslide"
      }
     },
     "source": [
      "# \u4e00\u822c\u4eba\u773c\u4e2d\u7684\u7db2\u7ad9\n",
      "\n",
      "[![Web_ppt](Lec2_slide_imgs/Web_ppt.png)](http://www.ptt.cc/bbs/R_Language/index.html)"
     ]
    },
    {
     "cell_type": "markdown",
     "metadata": {
      "slideshow": {
       "slide_type": "subslide"
      }
     },
     "source": [
      "# \u5de5\u7a0b\u5e2b\u773c\u4e2d\u7684\u7db2\u7ad9 ...\n"
     ]
    },
    {
     "cell_type": "markdown",
     "metadata": {
      "slideshow": {
       "slide_type": "subslide"
      }
     },
     "source": [
      "# \u5de5\u7a0b\u5e2b\u773c\u4e2d\u7684\u7db2\u7ad9\n",
      "\n",
      "![](Lec2_slide_imgs/Web_backend1.png)"
     ]
    },
    {
     "cell_type": "markdown",
     "metadata": {
      "slideshow": {
       "slide_type": "subslide"
      }
     },
     "source": [
      "# \u5de5\u7a0b\u5e2b\u773c\u4e2d\u7684\u7db2\u7ad9\n",
      "\n",
      "![](Lec2_slide_imgs/Web_backend2.png)"
     ]
    },
    {
     "cell_type": "markdown",
     "metadata": {
      "slideshow": {
       "slide_type": "subslide"
      }
     },
     "source": [
      "# \u5de5\u7a0b\u5e2b\u773c\u4e2d\u7684\u7db2\u7ad9\n",
      "\n",
      "![](Lec2_slide_imgs/Web_backend3.png)"
     ]
    },
    {
     "cell_type": "markdown",
     "metadata": {
      "slideshow": {
       "slide_type": "subslide"
      }
     },
     "source": [
      "# \u5de5\u7a0b\u5e2b\u773c\u4e2d\u7684\u7db2\u7ad9\n",
      "\n",
      "![](Lec2_slide_imgs/Web_backend4.png)"
     ]
    },
    {
     "cell_type": "markdown",
     "metadata": {
      "slideshow": {
       "slide_type": "subslide"
      }
     },
     "source": [
      "# \u5de5\u7a0b\u5e2b\u773c\u4e2d\u7684\u7db2\u7ad9\n",
      "\n",
      "![](Lec2_slide_imgs/Web_backend5.png)"
     ]
    },
    {
     "cell_type": "markdown",
     "metadata": {
      "slideshow": {
       "slide_type": "subslide"
      }
     },
     "source": [
      "# spideR \u773c\u4e2d\u7684\u7db2\u7ad9 ... ?\n",
      "\n",
      "![spideR](Lec2_slide_imgs/spiderman.jpg)\n"
     ]
    },
    {
     "cell_type": "markdown",
     "metadata": {
      "slideshow": {
       "slide_type": "subslide"
      }
     },
     "source": [
      "# \u7db2\u7ad9\u7684\u7d50\u69cb?\n"
     ]
    },
    {
     "cell_type": "markdown",
     "metadata": {
      "slideshow": {
       "slide_type": "subslide"
      }
     },
     "source": [
      "# \u7db2\u7ad9\u7d50\u69cb\u7684\u5206\u985e\n",
      "\n",
      "- ## \u524d\u7aef V.S. \u5f8c\u7aef\n",
      "- ## Model + View + Controler (MVC)\n",
      "- ## Static (Page Render) V.S. Dynamic (Ajax)\n",
      "\n"
     ]
    },
    {
     "cell_type": "markdown",
     "metadata": {
      "slideshow": {
       "slide_type": "subslide"
      }
     },
     "source": [
      "# [\u7db2\u7ad9\u7d50\u69cb] Ajax V.S. Page Render\n",
      "\n",
      "![](Lec2_slide_imgs/ajax-fig1_small.png)"
     ]
    },
    {
     "cell_type": "markdown",
     "metadata": {
      "slideshow": {
       "slide_type": "subslide"
      }
     },
     "source": [
      "# [\u7db2\u7ad9\u7d50\u69cb] Ajax V.S. Page Render\n",
      "\n",
      "- ## PageRender \u7bc4\u4f8b\uff1a http://www.ptt.cc/bbs/R_Language/index.html\n",
      "- ## Ajax \u7bc4\u4f8b1\uff1a http://pi.isuphoto.org/uei \n",
      "- ## Ajax \u7bc4\u4f8b1 Data\uff1a http://pi.isuphoto.org/api/user/uei?page=0\n",
      "- ## Ajax \u7bc4\u4f8b2\uff1a http://ecshweb.pchome.com.tw/search/v3.2/?q=sony\n",
      "- ## [Hw1] Ajax \u7bc4\u4f8b2 Data ?"
     ]
    },
    {
     "cell_type": "markdown",
     "metadata": {
      "slideshow": {
       "slide_type": "subslide"
      }
     },
     "source": [
      "# [\u7db2\u7ad9\u7d50\u69cb] Model + View + Controler (\u5f8c\u7aef MVC)\n",
      "\n",
      "![](Lec2_slide_imgs/mvc-diagram.png)"
     ]
    },
    {
     "cell_type": "markdown",
     "metadata": {
      "slideshow": {
       "slide_type": "subslide"
      }
     },
     "source": [
      "# [\u7db2\u7ad9\u7d50\u69cb] Model + View + Controler (\u524d\u7aef MVC)\n",
      "\n",
      "![](Lec2_slide_imgs/concepts-controller.png)"
     ]
    },
    {
     "cell_type": "markdown",
     "metadata": {
      "slideshow": {
       "slide_type": "slide"
      }
     },
     "source": [
      "# \u7db2\u5740\u7684\u7955\u5bc6\uff1f"
     ]
    },
    {
     "cell_type": "markdown",
     "metadata": {
      "slideshow": {
       "slide_type": "subslide"
      }
     },
     "source": [
      "# \u7db2\u5740\u7684\u7955\u5bc6 --- \u53c3\u6578\u7bc7\n",
      "\n",
      "- # URL?var_1=val_1&var_2=val_2... \n",
      "- ## \u5176\u5be6\uff0c\u5c31\u50cf\u547c\u53eb\u51fd\u6578\u4e00\u6a23\n",
      "- ## \u76f8\u95dc\u8a0a\u606f\u53ef\u5728 form \u4e2d\u6216 JS code \u4e2d\u627e\u5230\n",
      "- ## [Ex1] http://finance.yahoo.com/q/hp?s=%5ETWII&a=06&b=2&c=1997&d=02&e=24&f=2013&g=d\n",
      "- ## [Ex2] http://www.taifex.com.tw/eng/eng3/eng3_2dl.asp?COMMODITY_ID=all&DATA_DATE=2012/11/01&DATA_DATE1=2012/11/15\n"
     ]
    },
    {
     "cell_type": "markdown",
     "metadata": {
      "slideshow": {
       "slide_type": "subslide"
      }
     },
     "source": [
      "# \u7db2\u5740\u7684\u7955\u5bc6 --- \u7db2\u5740\u898f\u5247\u7bc7\n",
      "\n",
      "- ## \u6709\u4e9b\u7db2\u5740\u6703\u628a\u8a0a\u606f\u85cf\u5728 URL \u4e2d\n",
      "- ## \u7136\u5f8c\uff0c\u518d\u7531\u5f8c\u7aef\u7684 URL Dispatcher \u89e3\u6790\n",
      "- ## [Ex1] http://tw.stock.yahoo.com/d/s/major_2451.html\n",
      "- ## [Ex1 Rule] major_StockID.html\n"
     ]
    },
    {
     "cell_type": "markdown",
     "metadata": {
      "slideshow": {
       "slide_type": "slide"
      }
     },
     "source": [
      "# \u7db2\u7ad9\u8cc7\u6599\u7684\u7a2e\u985e\uff1f"
     ]
    },
    {
     "cell_type": "markdown",
     "metadata": {
      "slideshow": {
       "slide_type": "subslide"
      }
     },
     "source": [
      "# \u7db2\u7ad9\u8cc7\u6599\u5e38\u898b\u985e\u578b\uff1a\n",
      "\n",
      "- ## Page (HTML)\n",
      "- ## Data (JSON/XML...) \n",
      "- ## File\n",
      "\n"
     ]
    },
    {
     "cell_type": "code",
     "collapsed": false,
     "input": [],
     "language": "python",
     "metadata": {},
     "outputs": []
    }
   ],
   "metadata": {}
  }
 ]
}