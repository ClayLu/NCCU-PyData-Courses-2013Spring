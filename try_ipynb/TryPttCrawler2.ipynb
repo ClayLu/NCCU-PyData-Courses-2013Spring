{
 "metadata": {
  "name": ""
 },
 "nbformat": 3,
 "nbformat_minor": 0,
 "worksheets": [
  {
   "cells": [
    {
     "cell_type": "code",
     "collapsed": false,
     "input": [
      "import requests"
     ],
     "language": "python",
     "metadata": {},
     "outputs": [],
     "prompt_number": 1
    },
    {
     "cell_type": "code",
     "collapsed": false,
     "input": [
      "from pyquery import PyQuery"
     ],
     "language": "python",
     "metadata": {},
     "outputs": [],
     "prompt_number": 2
    },
    {
     "cell_type": "code",
     "collapsed": false,
     "input": [
      "r = requests.get(\"http://www.ptt.cc/bbs/BuyTogether/M.1389332194.A.1E7.html\")"
     ],
     "language": "python",
     "metadata": {},
     "outputs": [
      {
       "output_type": "stream",
       "stream": "stdout",
       "text": [
        "enc_params =  \n"
       ]
      }
     ],
     "prompt_number": 3
    },
    {
     "cell_type": "code",
     "collapsed": false,
     "input": [
      "S = PyQuery(r.text)"
     ],
     "language": "python",
     "metadata": {},
     "outputs": [],
     "prompt_number": 4
    },
    {
     "cell_type": "code",
     "collapsed": false,
     "input": [
      "S"
     ],
     "language": "python",
     "metadata": {},
     "outputs": [
      {
       "metadata": {},
       "output_type": "pyout",
       "prompt_number": 5,
       "text": [
        "[<html>]"
       ]
      }
     ],
     "prompt_number": 5
    },
    {
     "cell_type": "code",
     "collapsed": false,
     "input": [
      "S(\"#main-content > div\").remove()"
     ],
     "language": "python",
     "metadata": {},
     "outputs": [
      {
       "metadata": {},
       "output_type": "pyout",
       "prompt_number": 7,
       "text": [
        "[<div.article-metaline>, <div.article-metaline-right>, <div.article-metaline>, <div.article-metaline>, <div.richcontent>, <div.richcontent>, <div.push>, <div.push>]"
       ]
      }
     ],
     "prompt_number": 7
    },
    {
     "cell_type": "code",
     "collapsed": false,
     "input": [
      "S(\"#main-content > *\").map(lambda :PyQuery(this).text())"
     ],
     "language": "python",
     "metadata": {},
     "outputs": [
      {
       "metadata": {},
       "output_type": "pyout",
       "prompt_number": 22,
       "text": [
        "['\\xe2\\x97\\x86\\xe7\\xa2\\xba\\xe5\\xae\\x9a\\xe8\\x83\\xbd\\xe6\\x96\\xbc1/13(\\xe4\\xb8\\x80) 20:00\\xe5\\x89\\x8d\\xe5\\xae\\x8c\\xe6\\x88\\x90\\xe8\\xbd\\x89\\xe5\\xb8\\xb3\\xe5\\x86\\x8d\\xe8\\xb7\\x9f\\xe5\\x9c\\x98!!', 'http://chaoliumenshibu.taobao.com/', '\\xe2\\x97\\x86\\xe4\\xb8\\x8d\\xe6\\x94\\xb6\\xe6\\x98\\x93\\xe7\\xa2\\x8e\\xe5\\x93\\x81\\xe3\\x80\\x81\\xe6\\x94\\xb6\\xe7\\xb4\\x8d\\xe7\\x9b\\x92\\xe3\\x80\\x81\\xe2\\x97\\x8b\\xe5\\xa4\\xa9\\xe7\\x99\\xbc\\xe8\\xb2\\xa8\\xe3\\x80\\x81\\xe9\\xa0\\x90\\xe5\\x94\\xae\\xe3\\x80\\x81\\xe9\\x81\\x95\\xe5\\x8f\\x8d\\xe7\\x89\\x88\\xe8\\xa6\\x8f\\xe2\\x80\\xa6\\xe7\\xad\\x89\\xe7\\x89\\xa9\\xe5\\x93\\x81', '\\xef\\xbc\\x9c\\xe5\\x9b\\xa0\\xe7\\x82\\xba\\xe5\\x93\\x81\\xe9\\xa0\\x85\\xe5\\xbe\\x88\\xe5\\xa4\\x9a\\xef\\xbc\\x8c\\xe8\\x8b\\xa5\\xe4\\xb8\\x8d\\xe6\\x94\\xb6\\xe7\\x9a\\x84\\xe6\\x9c\\x83\\xe5\\x84\\x98\\xe9\\x87\\x8f\\xe4\\xba\\x8b\\xe5\\x85\\x88\\xe5\\x91\\x8a\\xe7\\x9f\\xa5\\xef\\xbc\\x9e', '\\xe2\\x97\\x86\\xe4\\xb8\\x8d\\xe6\\x94\\xb6\\xe9\\x9c\\x80\\xe8\\xa6\\x81\\xe6\\xb0\\xa3\\xe6\\xb3\\xa1\\xe5\\xa2\\x8a\\xe5\\x8c\\x85\\xe8\\xa3\\x9d\\xe7\\x9a\\x84\\xe7\\x89\\xa9\\xe5\\x93\\x81', '\\xef\\xbc\\x9c\\xe8\\xab\\x8b\\xe5\\x9c\\x98\\xe5\\x93\\xa1\\xe8\\x87\\xaa\\xe8\\xa1\\x8c\\xe5\\x88\\xa4\\xe6\\x96\\xb7\\xef\\xbc\\x8c\\xe8\\x8b\\xa5\\xe5\\xaf\\x84\\xe9\\x80\\x81\\xe6\\x9c\\x89\\xe6\\xaf\\x80\\xe6\\x90\\x8d\\xe4\\xb8\\xbb\\xe8\\xb3\\xbc\\xe4\\xb8\\x8d\\xe8\\xb2\\xa0\\xe8\\xb2\\xac\\xef\\xbc\\x9e', '\\xe2\\x97\\x86\\xe4\\xb8\\xbb\\xe8\\xb3\\xbc\\xe6\\x89\\x8b\\xe9\\x82\\x8a\\xe6\\x9c\\x80\\xe5\\xa4\\xa7\\xe5\\xbf\\xab\\xe9\\x81\\x9e\\xe8\\xa2\\x8b\\xe7\\x82\\xba35*40cm\\xef\\xbc\\x8c\\xe5\\x8f\\xaa\\xe6\\x94\\xb6\\xe8\\xbc\\x83\\xe5\\xb0\\x8f\\xe3\\x80\\x81\\xe5\\xb0\\x91\\xe6\\x88\\x96\\xe6\\x98\\xaf\\xe5\\x8f\\xaf\\xe4\\xbb\\xa5\\xe6\\x8a\\x98\\xe7\\x9a\\x84\\xe7\\x89\\xa9\\xe5\\x93\\x81', '\\xef\\xbc\\x9c\\xe6\\xaf\\x9b\\xe6\\xb0\\x88\\xe6\\x96\\x99\\xe6\\x88\\x96\\xe4\\xbf\\x9d\\xe6\\xba\\xab\\xe8\\xa2\\x8b\\xe5\\x9b\\xa0\\xe7\\x82\\xba\\xe6\\xaf\\x94\\xe8\\xbc\\x83\\xe5\\x8e\\x9a\\xef\\xbc\\x8c\\xe8\\xb2\\xb7\\xe5\\xa4\\x9a\\xe4\\xbb\\xb6\\xe6\\x9c\\x83\\xe8\\xa3\\x9d\\xe4\\xb8\\x8d\\xe4\\xb8\\x8b\\xef\\xbc\\x9e', '\\xef\\xbc\\x9c\\xe7\\x9b\\xb4\\xe5\\xaf\\x84(\\xe9\\x9b\\x86\\xe8\\xb2\\xa8\\xe5\\x88\\x86\\xe5\\xaf\\x84)\\xe4\\xb8\\x8d\\xe5\\x9c\\xa8\\xe6\\xad\\xa4\\xe9\\x99\\x90\\xef\\xbc\\x8c\\xe6\\x89\\x80\\xe4\\xbb\\xa5\\xe5\\xbb\\xba\\xe8\\xad\\xb0\\xe8\\xb2\\xb7\\xe5\\xa4\\xa7\\xe5\\x8c\\x85\\xe5\\x8c\\x85\\xe7\\x9a\\x84\\xe6\\x88\\x96\\xe5\\xa4\\x9a\\xe7\\x9a\\x84\\xe6\\x8e\\xa1\\xe7\\x9b\\xb4\\xe5\\xaf\\x84\\xef\\xbc\\x9e', '\\xe2\\x97\\x86\\xe4\\xbb\\x8b\\xe6\\x84\\x8f\\xe5\\x8c\\x85\\xe5\\x8c\\x85\\xe8\\xa2\\xab\\xe6\\x8a\\x98\\xe6\\x88\\x96\\xe5\\xa3\\x93\\xe7\\x9a\\x84\\xe8\\xab\\x8b\\xe5\\x8b\\xbf\\xe8\\xb7\\x9f\\xe5\\x9c\\x98', '\\xe2\\x97\\x86\\xe6\\x97\\xa5\\xe9\\x9b\\x9c\\xe5\\x8c\\x85\\xe5\\x8f\\xaf\\xe8\\x83\\xbd\\xe6\\x9c\\x83\\xe6\\x9c\\x89\\xe5\\xb0\\x8f\\xe7\\x91\\x95\\xe7\\x96\\xb5\\xef\\xbc\\x8c\\xe8\\x83\\xbd\\xe6\\x8e\\xa5\\xe5\\x8f\\x97\\xe5\\x86\\x8d\\xe8\\xb7\\x9f\\xe5\\x9c\\x98', '\\xe2\\x97\\x86\\xe8\\xb3\\xa3\\xe5\\xae\\xb6\\xe8\\xb7\\x91\\xe8\\xb2\\xa8\\xe9\\x80\\x9f\\xe5\\xba\\xa6\\xe5\\xbe\\x88\\xe5\\xbf\\xab\\xef\\xbc\\x8c\\xe5\\xbb\\xba\\xe8\\xad\\xb0\\xe5\\xa1\\xab\\xe5\\xaf\\xab\\xe5\\x80\\x99\\xe8\\xa3\\x9c\\xe6\\xac\\xbe', '\\xef\\xbc\\x9c\\xe5\\xb0\\xa4\\xe5\\x85\\xb6\\xe6\\x98\\xaf\\xe5\\xba\\xab\\xe5\\xad\\x98\\xe9\\x87\\x8f\\xe5\\xb0\\x91\\xe7\\x9a\\x84\\xef\\xbc\\x8c10\\xe5\\xb9\\xbe\\xe5\\x80\\x8b\\xe5\\xb7\\xa6\\xe5\\x8f\\xb3\\xef\\xbc\\x9e', '\\xe2\\x80\\xbb', '(\\xe9\\x83\\xa8\\xe5\\x88\\x86\\xe5\\x95\\x86\\xe5\\x93\\x81\\xe9\\x99\\xa4\\xe5\\xa4\\x96)', '\\xe2\\x80\\xbb', '\\xe2\\x80\\xbb', '\\xe2\\x98\\x85', '(\\xe4\\xbb\\xa5\\xe4\\xb8\\xbb\\xe8\\xb3\\xbc\\xe6\\x8c\\x87\\xe5\\xae\\x9a\\xe7\\x9a\\x84\\xe7\\x82\\xba\\xe4\\xb8\\xbb)', '\\xe2\\x98\\x85', '(\\xe5\\xa4\\x9a\\xe9\\x80\\x80\\xe5\\xb0\\x91\\xe8\\xa3\\x9c)', '\\xe3\\x80\\x90\\xe6\\x9c\\x80\\xe8\\xbf\\x91\\xe5\\x8c\\xaf\\xe7\\x8e\\x87\\xe6\\xbc\\xb2\\xe5\\xbe\\x88\\xe5\\xa4\\x9a\\xef\\xbc\\x8c\\xe4\\xbb\\x8b\\xe6\\x84\\x8f\\xe8\\x80\\x85\\xe8\\xab\\x8b\\xe5\\x8b\\xbf\\xe8\\xb7\\x9f\\xe5\\x9c\\x98\\xe3\\x80\\x91', '\\xef\\xbc\\x9c\\xe5\\x88\\x86\\xe5\\x85\\xa9\\xe6\\xac\\xa1\\xe5\\x8c\\xaf\\xe6\\xac\\xbe\\xe7\\xb5\\xa6\\xe4\\xbb\\xa3\\xe8\\xb2\\xb7\\xef\\xbc\\x8c\\xe5\\x8c\\xaf\\xe7\\x8e\\x87\\xe6\\x9c\\x83\\xe6\\x9c\\x89\\xe5\\x85\\xa9\\xe5\\x80\\x8b\\xef\\xbc\\x9e', '\\xef\\xbc\\x9c\\xe7\\xac\\xac\\xe4\\xb8\\x80\\xe9\\x9a\\x8e\\xe6\\xae\\xb5\\xef\\xbc\\x9a\\xe8\\xb3\\xa3\\xe5\\xae\\xb6\\xef\\xbc\\x9b\\xe7\\xac\\xac\\xe4\\xba\\x8c\\xe9\\x9a\\x8e\\xe6\\xae\\xb5\\xef\\xbc\\x9a\\xe9\\x9b\\x86\\xe8\\xb2\\xa8\\xef\\xbc\\x9e', '\\xe2\\x98\\x85', '(\\xe4\\xbb\\xa5\\xe4\\xb8\\xbb\\xe8\\xb3\\xbc\\xe6\\x8c\\x87\\xe5\\xae\\x9a\\xe7\\x9a\\x84\\xe7\\x82\\xba\\xe4\\xb8\\xbb)', '\\xef\\xbc\\x9c\\xe6\\x8e\\xa1\\xe7\\x9b\\xb4\\xe5\\xaf\\x84(\\xe9\\x9b\\x86\\xe8\\xb2\\xa8\\xe5\\x88\\x86\\xe5\\xaf\\x84)\\xe6\\x9c\\x83\\xe9\\x81\\xb8\\xe6\\x93\\x87\\xe6\\xb0\\xb8\\xe8\\xa1\\xa1\\xef\\xbc\\x8cEZ(\\xe4\\xb8\\xbb\\xe8\\xb3\\xbc\\xe5\\x88\\x86\\xe5\\xaf\\x84)\\xe8\\xa6\\x96\\xe6\\x83\\x85\\xe6\\xb3\\x81\\xe8\\x80\\x8c\\xe5\\xae\\x9a\\xef\\xbc\\x9e', '\\xe2\\x98\\x85', '(\\xe8\\xa6\\x96\\xe6\\x83\\x85\\xe6\\xb3\\x81\\xe8\\x80\\x8c\\xe5\\xae\\x9a)', '\\xe2\\x98\\x85', '(\\xe8\\xa6\\x96\\xe6\\x83\\x85\\xe6\\xb3\\x81\\xe8\\x80\\x8c\\xe5\\xae\\x9a)', '\\xe2\\x98\\x85', '(G\\xe5\\x96\\xae+\\xe6\\x8e\\xa8\\xe6\\x96\\x87)', '\\xe2\\x98\\x85', '(\\xe4\\xba\\x8b\\xe5\\x85\\x88\\xe4\\xbb\\x98\\xe6\\xac\\xbe)', '\\xe2\\x98\\x85', '\\xe2\\x98\\x85', '(\\xe8\\x8b\\xa5\\xe7\\x94\\xa2\\xe7\\x94\\x9f\\xe9\\x80\\x80\\xe6\\xac\\xbe\\xef\\xbc\\x8c\\xe9\\x9d\\x9e\\xe4\\xb8\\x8a\\xe8\\xbf\\xb0\\xe5\\xb8\\xb3\\xe6\\x88\\xb6\\xe8\\x80\\x85\\xe5\\xb0\\x87\\xe6\\x89\\xa3\\xe9\\x99\\xa4\\xe8\\xb7\\xa8\\xe8\\xa1\\x8c\\xe6\\x89\\x8b\\xe7\\xba\\x8c\\xe8\\xb2\\xbb\\xe5\\xbe\\x8c\\xe9\\x80\\x80\\xe4\\xb9\\x8b)', '(\\xe7\\xa2\\xba\\xe5\\xae\\x9a\\xe8\\xb7\\x9f\\xe5\\x9c\\x98\\xe8\\xab\\x8b\\xe6\\x8c\\x89y\\xe5\\x9b\\x9e\\xe8\\xa6\\x86\\xe6\\x96\\x87\\xe7\\xab\\xa0\\xe5\\xbe\\x8c\\xef\\xbc\\x8c\\xe5\\x86\\x8d\\xe9\\x81\\xb8m\\xe5\\x8f\\xaf\\xe5\\x9b\\x9e\\xe4\\xbf\\xa1\\xe5\\x88\\xb0\\xe4\\xb8\\xbb\\xe8\\xb3\\xbc\\xe4\\xbf\\xa1\\xe7\\xae\\xb1\\xef\\xbc\\x8c\\xe5\\x8b\\xbf\\xe7\\x9b\\xb4\\xe6\\x8e\\xa5\\xe5\\x9b\\x9e\\xe8\\xa6\\x86\\xe5\\x88\\xb0\\xe7\\x89\\x88\\xe4\\xb8\\x8a)', '(\\xe4\\xbb\\xa5\\xe8\\xb3\\xbc\\xe8\\xb2\\xb7\\xe9\\x87\\x8d\\xe9\\x87\\x8f\\xe4\\xb9\\x8b\\xe6\\xaf\\x94\\xe4\\xbe\\x8b\\xe5\\x88\\x86\\xe6\\x93\\x94)', '(\\xe5\\xa4\\x9a\\xe9\\x80\\x80\\xe5\\xb0\\x91\\xe8\\xa3\\x9c)', '(\\xe5\\xa4\\x9a\\xe9\\x80\\x80\\xe5\\xb0\\x91\\xe8\\xa3\\x9c)', '\\xe3\\x80\\x8a\\xe9\\x87\\x91\\xe9\\xa1\\x8d\\xe4\\xbd\\x8e\\xe6\\x96\\xbc\\xe6\\x89\\x8b\\xe7\\xba\\x8c\\xe8\\xb2\\xbb\\xef\\xbc\\x8c\\xe7\\x9b\\xb4\\xe6\\x8e\\xa5\\xe6\\x8a\\x957-11\\xe6\\x8d\\x90\\xe6\\xac\\xbe\\xe7\\xae\\xb1\\xe3\\x80\\x8b', '(\\xe4\\xb8\\x8d\\xe6\\x8e\\xa5\\xe5\\x8f\\x97\\xe9\\x80\\x80\\xe6\\x8f\\x9b\\xe8\\xb2\\xa8)', '\\xe3\\x80\\x90\\xe7\\x99\\xbc\\xe9\\x8c\\xaf\\xe3\\x80\\x81\\xe6\\x8b\\x8d\\xe9\\x8c\\xaf\\xe3\\x80\\x81\\xe9\\x81\\xad\\xe6\\xb5\\xb7\\xe9\\x97\\x9c\\xe6\\xb2\\x92\\xe6\\x94\\xb6\\xe3\\x80\\x91', '\\xe3\\x80\\x90\\xe9\\x87\\x8d\\xe5\\xa4\\xa7\\xe7\\x91\\x95\\xe7\\x96\\xb5\\xe3\\x80\\x81\\xe5\\xb0\\x91\\xe7\\x99\\xbc\\xe6\\x88\\x96\\xe4\\xb8\\x9f\\xe4\\xbb\\xb6\\xe3\\x80\\x91', '\\xe3\\x80\\x8a\\xe7\\x91\\x95\\xe7\\x96\\xb5\\xe9\\x83\\xa8\\xe5\\x88\\x86\\xe4\\xbb\\xa5\\xe8\\xb3\\xa3\\xe5\\xae\\xb6\\xe8\\xaa\\x8d\\xe5\\xae\\x9a\\xe7\\x82\\xba\\xe4\\xb8\\xbb\\xe3\\x80\\x8b\\xef\\xbc\\x9c\\xe8\\xb3\\xa3\\xe5\\xae\\xb6\\xe5\\x88\\xa9\\xe6\\xbd\\xa4\\xe5\\xbe\\xae\\xe8\\x96\\x84\\xef\\xbc\\x8c\\xe5\\xb0\\x8f\\xe7\\x91\\x95\\xe7\\x96\\xb5\\xe4\\xb8\\x8d\\xe4\\xba\\x88\\xe8\\x99\\x95\\xe7\\x90\\x86\\xef\\xbc\\x9e', '\\xe3\\x80\\x90\\xe8\\xa2\\xab\\xe8\\xaa\\xb2\\xe7\\xa8\\x85\\xe3\\x80\\x91', '\\xe8\\xa8\\xbb\\xef\\xbc\\x9aA.\\xe8\\x8b\\xa5\\xe6\\x94\\xb6\\xe5\\x88\\xb0\\xe5\\xbe\\x8c\\xe6\\x9c\\x89\\xe7\\x91\\x95\\xe7\\x96\\xb5\\xef\\xbc\\x8c\\xe5\\x9b\\x9e\\xe5\\xa0\\xb1\\xe6\\x99\\x82\\xe8\\xab\\x8b\\xe9\\x99\\x84\\xe4\\xb8\\x8a\\xe7\\x85\\xa7\\xe7\\x89\\x87', 'B.\\xe7\\x9b\\xb4\\xe5\\xaf\\x84\\xe8\\x80\\x85\\xef\\xbc\\x9a\\xe8\\xa2\\xab\\xe8\\xaa\\xb2\\xe7\\xa8\\x85\\xe8\\x87\\xaa\\xe8\\xa1\\x8c\\xe8\\xb2\\xa0\\xe6\\x93\\x94\\xef\\xbc\\x9b\\xe6\\x8b\\x86\\xe7\\xae\\xb1\\xe6\\x99\\x82\\xe5\\x8b\\x99\\xe5\\xbf\\x85\\xe9\\x8c\\x84\\xe5\\xbd\\xb1\\xef\\xbc\\x8c\\xe9\\x81\\xbf\\xe5\\x85\\x8d\\xe6\\x9c\\x89\\xe5\\x95\\x8f\\xe9\\xa1\\x8c\\xe6\\x99\\x82\\xe7\\x84\\xa1\\xe6\\xb3\\x95\\xe8\\xad\\x89\\xe6\\x98\\x8e', '\\xe8\\xab\\x8b\\xe6\\x96\\xbc\\xe7\\xb0\\xbd\\xe6\\x94\\xb6\\xe5\\xbe\\x8c24\\xe5\\xb0\\x8f\\xe6\\x99\\x82\\xe5\\x85\\xa7\\xe5\\x9b\\x9e\\xe5\\xa0\\xb1\\xe7\\x91\\x95\\xe7\\x96\\xb5', '\\xe7\\xa2\\xba\\xe5\\xae\\x9a\\xe8\\xb7\\x9f\\xe5\\x9c\\x98\\xe4\\xba\\x86\\xe5\\x97\\x8e\\xef\\xbc\\x9f\\xe8\\xab\\x8b\\xe5\\x9b\\x9e\"G\\xe5\\x96\\xae\"+\"\\xe6\\x8e\\xa8\\xe6\\x96\\x87\"\\xe7\\xb5\\xa6\\xe4\\xbd\\xa0\\xe7\\x9a\\x84\\xe4\\xb8\\xbb\\xe8\\xb3\\xbc\\xe5\\x94\\xb7\\xef\\xbc\\x81', '\\xe2\\x80\\xbbG\\xe5\\x96\\xae\\xef\\xbc\\x9a', 'http://0rz.tw/fnmva', '\\xe2\\x97\\x86\\xe4\\xb8\\x80\\xe5\\x96\\xae\\xe4\\xbb\\xb6\\xe6\\x95\\xb8\\xe9\\x99\\x9010\\xe5\\x80\\x8b\\xe4\\xbb\\xa5\\xe5\\x85\\xa7', '\\xe2\\x97\\x86\\xe4\\xb8\\x8d\\xe8\\x83\\xbd\\xe6\\x8e\\xa8\\xe6\\x96\\x87\\xe8\\x80\\x85\\xe8\\xab\\x8b\\xe7\\xab\\x99\\xe5\\x85\\xa7\\xe4\\xbf\\xa1\\xe5\\x91\\x8a\\xe7\\x9f\\xa5', '\\xe2\\x80\\xbb\\xe5\\xa1\\xab\\xe5\\x96\\xae\\xe6\\xa0\\xbc\\xe5\\xbc\\x8f\\xe6\\xb3\\xa8\\xe6\\x84\\x8f\\xe4\\xba\\x8b\\xe9\\xa0\\x85', '\\xef\\xbc\\x9c\\xe9\\xbb\\x9e\\xe9\\x81\\xb8\\xe5\\x9c\\x96\\xe7\\x89\\x87\\xe5\\x8d\\xb3\\xe5\\x8f\\xaf\\xe6\\x94\\xbe\\xe5\\xa4\\xa7\\xef\\xbc\\x9e', 'http://imgur.com/Q9Z8BWI', 'http://imgur.com/vLLU0qi', '(\\xe6\\xa0\\xbc\\xe5\\xbc\\x8f\\xe8\\xab\\x8b\\xe5\\xa1\\xab\\xe5\\xaf\\xab\\xe6\\xad\\xa3\\xe7\\xa2\\xba\\xef\\xbc\\x8c\\xe5\\x90\\xa6\\xe5\\x89\\x87\\xe5\\x8f\\xaf\\xe8\\x83\\xbd\\xe4\\xb8\\x8d\\xe6\\x94\\xb6\\xe5\\x96\\xae\\xef\\xbc\\x81)', '\\xe2\\x80\\xbb \\xe7\\x99\\xbc\\xe4\\xbf\\xa1\\xe7\\xab\\x99: \\xe6\\x89\\xb9\\xe8\\xb8\\xa2\\xe8\\xb8\\xa2\\xe5\\xaf\\xa6\\xe6\\xa5\\xad\\xe5\\x9d\\x8a(ptt.cc)', '\\xe2\\x80\\xbb \\xe7\\xb7\\xa8\\xe8\\xbc\\xaf: janessa         \\xe4\\xbe\\x86\\xe8\\x87\\xaa: 210.64.213.80        (01/10 13:42)']"
       ]
      }
     ],
     "prompt_number": 22
    },
    {
     "cell_type": "code",
     "collapsed": false,
     "input": [
      "print \"\\n\".join(S(\"#main-content > span\").map(lambda :PyQuery(this).text()))\n",
      "\n",
      "\n"
     ],
     "language": "python",
     "metadata": {},
     "outputs": [
      {
       "output_type": "stream",
       "stream": "stdout",
       "text": [
        "\u25c6\u78ba\u5b9a\u80fd\u65bc1/13(\u4e00) 20:00\u524d\u5b8c\u6210\u8f49\u5e33\u518d\u8ddf\u5718!!\n",
        "\u25c6\u4e0d\u6536\u6613\u788e\u54c1\u3001\u6536\u7d0d\u76d2\u3001\u25cb\u5929\u767c\u8ca8\u3001\u9810\u552e\u3001\u9055\u53cd\u7248\u898f\u2026\u7b49\u7269\u54c1\n",
        "\uff1c\u56e0\u70ba\u54c1\u9805\u5f88\u591a\uff0c\u82e5\u4e0d\u6536\u7684\u6703\u5118\u91cf\u4e8b\u5148\u544a\u77e5\uff1e\n",
        "\u25c6\u4e0d\u6536\u9700\u8981\u6c23\u6ce1\u588a\u5305\u88dd\u7684\u7269\u54c1\n",
        "\uff1c\u8acb\u5718\u54e1\u81ea\u884c\u5224\u65b7\uff0c\u82e5\u5bc4\u9001\u6709\u6bc0\u640d\u4e3b\u8cfc\u4e0d\u8ca0\u8cac\uff1e\n",
        "\u25c6\u4e3b\u8cfc\u624b\u908a\u6700\u5927\u5feb\u905e\u888b\u70ba35*40cm\uff0c\u53ea\u6536\u8f03\u5c0f\u3001\u5c11\u6216\u662f\u53ef\u4ee5\u6298\u7684\u7269\u54c1\n",
        "\uff1c\u6bdb\u6c08\u6599\u6216\u4fdd\u6eab\u888b\u56e0\u70ba\u6bd4\u8f03\u539a\uff0c\u8cb7\u591a\u4ef6\u6703\u88dd\u4e0d\u4e0b\uff1e\n",
        "\uff1c\u76f4\u5bc4(\u96c6\u8ca8\u5206\u5bc4)\u4e0d\u5728\u6b64\u9650\uff0c\u6240\u4ee5\u5efa\u8b70\u8cb7\u5927\u5305\u5305\u7684\u6216\u591a\u7684\u63a1\u76f4\u5bc4\uff1e\n",
        "\u25c6\u4ecb\u610f\u5305\u5305\u88ab\u6298\u6216\u58d3\u7684\u8acb\u52ff\u8ddf\u5718\n",
        "\u25c6\u65e5\u96dc\u5305\u53ef\u80fd\u6703\u6709\u5c0f\u7455\u75b5\uff0c\u80fd\u63a5\u53d7\u518d\u8ddf\u5718\n",
        "\u25c6\u8ce3\u5bb6\u8dd1\u8ca8\u901f\u5ea6\u5f88\u5feb\uff0c\u5efa\u8b70\u586b\u5beb\u5019\u88dc\u6b3e\n",
        "\uff1c\u5c24\u5176\u662f\u5eab\u5b58\u91cf\u5c11\u7684\uff0c10\u5e7e\u500b\u5de6\u53f3\uff1e\n",
        "\u203b\n",
        "(\u90e8\u5206\u5546\u54c1\u9664\u5916)\n",
        "\u203b\n",
        "\u203b\n",
        "\u2605\n",
        "(\u4ee5\u4e3b\u8cfc\u6307\u5b9a\u7684\u70ba\u4e3b)\n",
        "\u2605\n",
        "(\u591a\u9000\u5c11\u88dc)\n",
        "\u3010\u6700\u8fd1\u532f\u7387\u6f32\u5f88\u591a\uff0c\u4ecb\u610f\u8005\u8acb\u52ff\u8ddf\u5718\u3011\n",
        "\uff1c\u5206\u5169\u6b21\u532f\u6b3e\u7d66\u4ee3\u8cb7\uff0c\u532f\u7387\u6703\u6709\u5169\u500b\uff1e\n",
        "\uff1c\u7b2c\u4e00\u968e\u6bb5\uff1a\u8ce3\u5bb6\uff1b\u7b2c\u4e8c\u968e\u6bb5\uff1a\u96c6\u8ca8\uff1e\n",
        "\u2605\n",
        "(\u4ee5\u4e3b\u8cfc\u6307\u5b9a\u7684\u70ba\u4e3b)\n",
        "\uff1c\u63a1\u76f4\u5bc4(\u96c6\u8ca8\u5206\u5bc4)\u6703\u9078\u64c7\u6c38\u8861\uff0cEZ(\u4e3b\u8cfc\u5206\u5bc4)\u8996\u60c5\u6cc1\u800c\u5b9a\uff1e\n",
        "\u2605\n",
        "(\u8996\u60c5\u6cc1\u800c\u5b9a)\n",
        "\u2605\n",
        "(\u8996\u60c5\u6cc1\u800c\u5b9a)\n",
        "\u2605\n",
        "(G\u55ae+\u63a8\u6587)\n",
        "\u2605\n",
        "(\u4e8b\u5148\u4ed8\u6b3e)\n",
        "\u2605\n",
        "\u2605\n",
        "(\u82e5\u7522\u751f\u9000\u6b3e\uff0c\u975e\u4e0a\u8ff0\u5e33\u6236\u8005\u5c07\u6263\u9664\u8de8\u884c\u624b\u7e8c\u8cbb\u5f8c\u9000\u4e4b)\n",
        "(\u78ba\u5b9a\u8ddf\u5718\u8acb\u6309y\u56de\u8986\u6587\u7ae0\u5f8c\uff0c\u518d\u9078m\u53ef\u56de\u4fe1\u5230\u4e3b\u8cfc\u4fe1\u7bb1\uff0c\u52ff\u76f4\u63a5\u56de\u8986\u5230\u7248\u4e0a)\n",
        "(\u4ee5\u8cfc\u8cb7\u91cd\u91cf\u4e4b\u6bd4\u4f8b\u5206\u64d4)\n",
        "(\u591a\u9000\u5c11\u88dc)\n",
        "(\u591a\u9000\u5c11\u88dc)\n",
        "\u300a\u91d1\u984d\u4f4e\u65bc\u624b\u7e8c\u8cbb\uff0c\u76f4\u63a5\u62957-11\u6350\u6b3e\u7bb1\u300b\n",
        "(\u4e0d\u63a5\u53d7\u9000\u63db\u8ca8)\n",
        "\u3010\u767c\u932f\u3001\u62cd\u932f\u3001\u906d\u6d77\u95dc\u6c92\u6536\u3011\n",
        "\u3010\u91cd\u5927\u7455\u75b5\u3001\u5c11\u767c\u6216\u4e1f\u4ef6\u3011\n",
        "\u300a\u7455\u75b5\u90e8\u5206\u4ee5\u8ce3\u5bb6\u8a8d\u5b9a\u70ba\u4e3b\u300b\uff1c\u8ce3\u5bb6\u5229\u6f64\u5fae\u8584\uff0c\u5c0f\u7455\u75b5\u4e0d\u4e88\u8655\u7406\uff1e\n",
        "\u3010\u88ab\u8ab2\u7a05\u3011\n",
        "\u8a3b\uff1aA.\u82e5\u6536\u5230\u5f8c\u6709\u7455\u75b5\uff0c\u56de\u5831\u6642\u8acb\u9644\u4e0a\u7167\u7247\n",
        "B.\u76f4\u5bc4\u8005\uff1a\u88ab\u8ab2\u7a05\u81ea\u884c\u8ca0\u64d4\uff1b\u62c6\u7bb1\u6642\u52d9\u5fc5\u9304\u5f71\uff0c\u907f\u514d\u6709\u554f\u984c\u6642\u7121\u6cd5\u8b49\u660e\n",
        "\u8acb\u65bc\u7c3d\u6536\u5f8c24\u5c0f\u6642\u5167\u56de\u5831\u7455\u75b5\n",
        "\u78ba\u5b9a\u8ddf\u5718\u4e86\u55ce\uff1f\u8acb\u56de\"G\u55ae\"+\"\u63a8\u6587\"\u7d66\u4f60\u7684\u4e3b\u8cfc\u5537\uff01\n",
        "\u203bG\u55ae\uff1a\n",
        "\u25c6\u4e00\u55ae\u4ef6\u6578\u965010\u500b\u4ee5\u5167\n",
        "\u25c6\u4e0d\u80fd\u63a8\u6587\u8005\u8acb\u7ad9\u5167\u4fe1\u544a\u77e5\n",
        "\u203b\u586b\u55ae\u683c\u5f0f\u6ce8\u610f\u4e8b\u9805\n",
        "\uff1c\u9ede\u9078\u5716\u7247\u5373\u53ef\u653e\u5927\uff1e\n",
        "(\u683c\u5f0f\u8acb\u586b\u5beb\u6b63\u78ba\uff0c\u5426\u5247\u53ef\u80fd\u4e0d\u6536\u55ae\uff01)\n",
        "\u203b \u767c\u4fe1\u7ad9: \u6279\u8e22\u8e22\u5be6\u696d\u574a(ptt.cc)\n",
        "\u203b \u7de8\u8f2f: janessa         \u4f86\u81ea: 210.64.213.80        (01/10 13:42)\n"
       ]
      }
     ],
     "prompt_number": 23
    },
    {
     "cell_type": "code",
     "collapsed": false,
     "input": [
      "print S(\"#main-content\").text()"
     ],
     "language": "python",
     "metadata": {},
     "outputs": [
      {
       "output_type": "stream",
       "stream": "stdout",
       "text": [
        "\u25c6\u78ba\u5b9a\u80fd\u65bc1/13(\u4e00) 20:00\u524d\u5b8c\u6210\u8f49\u5e33\u518d\u8ddf\u5718!! (1)\u8cfc\u8cb7\u7269\u54c1\u4ecb\u7d39\u3001\u7db2\u5740\uff1a http://chaoliumenshibu.taobao.com/ \u25c6\u4e0d\u6536\u6613\u788e\u54c1\u3001\u6536\u7d0d\u76d2\u3001\u25cb\u5929\u767c\u8ca8\u3001\u9810\u552e\u3001\u9055\u53cd\u7248\u898f\u2026\u7b49\u7269\u54c1 \uff1c\u56e0\u70ba\u54c1\u9805\u5f88\u591a\uff0c\u82e5\u4e0d\u6536\u7684\u6703\u5118\u91cf\u4e8b\u5148\u544a\u77e5\uff1e \u25c6\u4e0d\u6536\u9700\u8981\u6c23\u6ce1\u588a\u5305\u88dd\u7684\u7269\u54c1 \uff1c\u8acb\u5718\u54e1\u81ea\u884c\u5224\u65b7\uff0c\u82e5\u5bc4\u9001\u6709\u6bc0\u640d\u4e3b\u8cfc\u4e0d\u8ca0\u8cac\uff1e \u25c6\u4e3b\u8cfc\u624b\u908a\u6700\u5927\u5feb\u905e\u888b\u70ba35*40cm\uff0c\u53ea\u6536\u8f03\u5c0f\u3001\u5c11\u6216\u662f\u53ef\u4ee5\u6298\u7684\u7269\u54c1 \uff1c\u6bdb\u6c08\u6599\u6216\u4fdd\u6eab\u888b\u56e0\u70ba\u6bd4\u8f03\u539a\uff0c\u8cb7\u591a\u4ef6\u6703\u88dd\u4e0d\u4e0b\uff1e \uff1c\u76f4\u5bc4(\u96c6\u8ca8\u5206\u5bc4)\u4e0d\u5728\u6b64\u9650\uff0c\u6240\u4ee5\u5efa\u8b70\u8cb7\u5927\u5305\u5305\u7684\u6216\u591a\u7684\u63a1\u76f4\u5bc4\uff1e \u25c6\u4ecb\u610f\u5305\u5305\u88ab\u6298\u6216\u58d3\u7684\u8acb\u52ff\u8ddf\u5718 \u25c6\u65e5\u96dc\u5305\u53ef\u80fd\u6703\u6709\u5c0f\u7455\u75b5\uff0c\u80fd\u63a5\u53d7\u518d\u8ddf\u5718 \u25c6\u8ce3\u5bb6\u8dd1\u8ca8\u901f\u5ea6\u5f88\u5feb\uff0c\u5efa\u8b70\u586b\u5beb\u5019\u88dc\u6b3e \uff1c\u5c24\u5176\u662f\u5eab\u5b58\u91cf\u5c11\u7684\uff0c10\u5e7e\u500b\u5de6\u53f3\uff1e \u203b \u6279    \u50f9\uff1a\u5e97\u8216VIP 8\u6298 (\u90e8\u5206\u5546\u54c1\u9664\u5916) \u203b \u91cd\u91cf\u9810\u4f30\uff1a\u672a\u77e5 \u203b \u5883\u5167\u904b\u8cbb\uff1a\u6eff200RMB\u5305\u90f5 \u2605 \u4ee3\u8cb7\uff1aleegreen (\u4ee5\u4e3b\u8cfc\u6307\u5b9a\u7684\u70ba\u4e3b) \u2605 \u532f\u7387\uff1a\u66ab\u5b9a5.2 (\u591a\u9000\u5c11\u88dc) \u3010\u6700\u8fd1\u532f\u7387\u6f32\u5f88\u591a\uff0c\u4ecb\u610f\u8005\u8acb\u52ff\u8ddf\u5718\u3011 \uff1c\u5206\u5169\u6b21\u532f\u6b3e\u7d66\u4ee3\u8cb7\uff0c\u532f\u7387\u6703\u6709\u5169\u500b\uff1e \uff1c\u7b2c\u4e00\u968e\u6bb5\uff1a\u8ce3\u5bb6\uff1b\u7b2c\u4e8c\u968e\u6bb5\uff1a\u96c6\u8ca8\uff1e \u2605 \u96c6\u8ca8\uff1a\u4e0a\u6d77\u6c38\u8861(\u9127)/\u91d1\u862d(\u8076)/\u4f73\u901f (\u4ee5\u4e3b\u8cfc\u6307\u5b9a\u7684\u70ba\u4e3b) \uff1c\u63a1\u76f4\u5bc4(\u96c6\u8ca8\u5206\u5bc4)\u6703\u9078\u64c7\u6c38\u8861\uff0cEZ(\u4e3b\u8cfc\u5206\u5bc4)\u8996\u60c5\u6cc1\u800c\u5b9a\uff1e (2)\u622a\u6b62\u65e5\u671f/\u6b32\u5fb5\u6578\u91cf \u2605 \u9810\u8a08\u6536\u5718\u6642\u9593\uff1a1/12(\u65e5) (\u8996\u60c5\u6cc1\u800c\u5b9a) \u2605 \u9810\u8a08\u532f\u6b3e\u6642\u9593\uff1a1/12(\u65e5) (\u8996\u60c5\u6cc1\u800c\u5b9a) \u2605 \u4e3b\u8cfc\u6536\u55ae\u65b9\u5f0f\uff1a (G\u55ae+\u63a8\u6587) \u5f85\u6210\u5718\u5f8c\u6703\u7d71\u4e00\u767c\u901a\u544a\uff0c\u6055\u4e0d\u4e00\u4e00\u56de\u8986 \u2605 \u6210\u5718\u5f8cG\u55ae\u662f\u5426\u6703\u986f\u793a\u500b\u4eba\u8cc7\u6599\uff1a\u986f\u793aID\u3001\u8cfc\u8cb7\u6e05\u55ae\u3001\u53d6\u4ef6\u9580\u5e02\n",
        "\n",
        "\n",
        "(3)\u4ed8\u6b3e\u65b9\u5f0f\uff1a (\u4e8b\u5148\u4ed8\u6b3e) \u2605 \u532f\u6b3e\u9280\u884c\uff1a\u90f5\u5c40 \u2605 \u9000\u6b3e\u9280\u884c\uff1a\u90f5\u5c40\u3001\u53f0\u9280\u3001\u4e2d\u4fe1 (\u82e5\u7522\u751f\u9000\u6b3e\uff0c\u975e\u4e0a\u8ff0\u5e33\u6236\u8005\u5c07\u6263\u9664\u8de8\u884c\u624b\u7e8c\u8cbb\u5f8c\u9000\u4e4b) (4)\u4e3b\u8fa6\u4eba\u9023\u7d61\u65b9\u5f0f\uff1a\n",
        "   ptt\u4fe1\u7bb1 (\u78ba\u5b9a\u8ddf\u5718\u8acb\u6309y\u56de\u8986\u6587\u7ae0\u5f8c\uff0c\u518d\u9078m\u53ef\u56de\u4fe1\u5230\u4e3b\u8cfc\u4fe1\u7bb1\uff0c\u52ff\u76f4\u63a5\u56de\u8986\u5230\u7248\u4e0a) (5)\u62ff\u8ca8\u9762\u4ea4\u5730\u9ede/\u6642\u9593\uff1a\n",
        "   \u7121\n",
        "\u3000\n",
        "\u3000 \u662f\u5426\u63a5\u53d7\u90f5\u5bc4? Y\u3000ezShip\u5e97\u5230\u5e97\uff0d60\u5143\n",
        "\n",
        "\n",
        "(6)\u904b\u8cbb\u7684\u5206\u64d4\u65b9\u5f0f\uff1a\n",
        "   \u76f4\u5bc4(\u96c6\u8ca8\u5206\u5bc4)\uff1a\u4e0d\u5305\u7a0e18RMB/kg\n",
        "   EZ(\u4e3b\u8cfc\u5206\u5bc4)\uff1a\u5305\u7a0517~18RMB/kg (\u4ee5\u8cfc\u8cb7\u91cd\u91cf\u4e4b\u6bd4\u4f8b\u5206\u64d4) \u76f4\u5bc4(\u96c6\u8ca8\u5206\u5bc4)\uff1a\u4e00\u55ae\u9810\u65362kg (\u591a\u9000\u5c11\u88dc) EZ(\u4e3b\u8cfc\u5206\u5bc4)\uff1a\u4e00\u55ae\u9810\u653650\u5143 (\u591a\u9000\u5c11\u88dc) (7)\u96dc\u8cbb\u6536\u53d6\u65b9\u5f0f & \u7528\u9014\uff1a\n",
        "\u3000 \u76f4\u5bc4(\u96c6\u8ca8\u5206\u5bc4)\uff1a\u4e00\u55ae10\u5143\n",
        "   EZ(\u4e3b\u8cfc\u5206\u5bc4)\uff1a\u4ef6\u65781~5\u500b...10\u5143\n",
        "\u3000 \u3000\u3000              6~10\u500b...15\u5143\n",
        "\n",
        "   \u203b\u4e0d\u8ad6\u54ea\u7a2e\u5bc4\u9001\uff0c\u4e00\u55ae\u4ef6\u6578\u965010\u500b\u4ee5\u5167\n",
        "\n",
        "\u3000 \u6574\u7406\u8a02\u55ae\u3001\u806f\u7d61\u4ee3\u8cb7\u3001\u6cb9\u8cc7\u3001\u5305\u88dd\u2026\u7b49\n",
        "\n",
        "\n",
        "(8)\u6eff\u984d\u79ae/\u8d08\u54c1/\u79ae\u5238/\u7d05\u5229\u9ede\u6578\u4e4b\u5167\u5bb9\u8207\u5206\u914d\u65b9\u5f0f\uff1a\n",
        "   \u7121\n",
        "\n",
        "(9)\u5176\u4ed6\u6ce8\u610f\u4e8b\u9805\uff1a\n",
        "   1.\u82e5\u532f\u7387\u3001\u570b\u969b\u6216\u570b\u5167\u904b\u8cbb\u50f9\u683c\u8a08\u7b97\u6709\u7570\u52d5\uff0c\u7686\u63a1\u591a\u9000\u5c11\u88dc\n",
        "   2.\u4f9d\u532f\u7387\u63db\u7b97\u53f0\u5e63\u5f8c\uff0c\u5c0f\u6578\u9ede\u63a1\u7121\u689d\u4ef6\u9032\u4f4d\n",
        "   3.\u50f9\u683c\u4ee5\u5be6\u969b\u4e0b\u55ae\u6642\u70ba\u6e96\n",
        "   4.\u9664\u53e6\u6709\u898f\u5b9a\u5916\uff0c\u767c\u51fa\u8f49\u5e33\u901a\u77e5\u4fe1\u5f8c24\u5c0f\u6642\u5167\u5b8c\u6210\u8f49\u5e33\n",
        "   5.\u82e5\u7522\u751f\u9000\u6b3e\uff0c\u975e\u4e3b\u8cfc\u63d0\u4f9b\u7684\u9000\u6b3e\u9280\u884c\u5c07\u6263\u9664\u8de8\u884c\u624b\u7e8c\u8cbb\u5f8c\u9000\u4e4b \u300a\u91d1\u984d\u4f4e\u65bc\u624b\u7e8c\u8cbb\uff0c\u76f4\u63a5\u62957-11\u6350\u6b3e\u7bb1\u300b 6.\u5718\u54e1\u9808\u81ea\u884c\u627f\u64d4\u570b\u969b\u5718\u7684\u98a8\u96aa (\u4e0d\u63a5\u53d7\u9000\u63db\u8ca8) \u3010\u767c\u932f\u3001\u62cd\u932f\u3001\u906d\u6d77\u95dc\u6c92\u6536\u3011 \u5718\u54e1\u81ea\u884c\u8f49\u8b93\u53ca\u627f\u64d4 \u3010\u91cd\u5927\u7455\u75b5\u3001\u5c11\u767c\u6216\u4e1f\u4ef6\u3011 \u6703\u5411\u8ce3\u5bb6(\u6216\u96c6\u8ca8)\u53cd\u6620\uff0c\u4f46\u7121\u6cd5\u4fdd\u8b49\u80fd\u7372\u5f97\u8ce0\u511f \u300a\u7455\u75b5\u90e8\u5206\u4ee5\u8ce3\u5bb6\u8a8d\u5b9a\u70ba\u4e3b\u300b\uff1c\u8ce3\u5bb6\u5229\u6f64\u5fae\u8584\uff0c\u5c0f\u7455\u75b5\u4e0d\u4e88\u8655\u7406\uff1e \u3010\u88ab\u8ab2\u7a05\u3011 \u4ee5\u8cfc\u8cb7\u91d1\u984d\u4e4b\u6bd4\u4f8b\u5206\u64d4 \u8a3b\uff1aA.\u82e5\u6536\u5230\u5f8c\u6709\u7455\u75b5\uff0c\u56de\u5831\u6642\u8acb\u9644\u4e0a\u7167\u7247 B.\u76f4\u5bc4\u8005\uff1a\u88ab\u8ab2\u7a05\u81ea\u884c\u8ca0\u64d4\uff1b\u62c6\u7bb1\u6642\u52d9\u5fc5\u9304\u5f71\uff0c\u907f\u514d\u6709\u554f\u984c\u6642\u7121\u6cd5\u8b49\u660e \u8acb\u65bc\u7c3d\u6536\u5f8c24\u5c0f\u6642\u5167\u56de\u5831\u7455\u75b5 7.\u7f3a\u8ca8\u76f4\u63a5\u4ee5\u9000\u6b3e\u8655\u7406\n",
        "   8.\u570b\u969b\u5718\u5230\u8ca8\u6642\u9593\u6703\u6bd4\u8f03\u9577\uff0c\u4e0d\u80fd\u4e45\u5019\u8005\u8acb\u52ff\u8ddf\u5718\n",
        "   9.\u6bcf\u5929\u4e0a\u7ad9\u6536\u4fe12\u6b21\u4ee5\u4e0a\n",
        "   10.\u8dd1\u55ae\u8005\u63d0\u5831\u9ed1\u4eba\uff1b\u9072\u532f\u8005\u63d0\u5831\u7070\u4eba\n",
        "   11.\u4e3b\u8cfc\u4fdd\u7559\u6536\u55ae\u6b0a\u5229\n",
        "   12.\u6709\u7591\u554f\u8acb\u5148\u4f86\u4fe1\u8a62\u554f \u78ba\u5b9a\u8ddf\u5718\u4e86\u55ce\uff1f\u8acb\u56de\"G\u55ae\"+\"\u63a8\u6587\"\u7d66\u4f60\u7684\u4e3b\u8cfc\u5537\uff01 \u203bG\u55ae\uff1a http://0rz.tw/fnmva \u25c6\u4e00\u55ae\u4ef6\u6578\u965010\u500b\u4ee5\u5167 \u25c6\u4e0d\u80fd\u63a8\u6587\u8005\u8acb\u7ad9\u5167\u4fe1\u544a\u77e5 \u203b\u586b\u55ae\u683c\u5f0f\u6ce8\u610f\u4e8b\u9805 \uff1c\u9ede\u9078\u5716\u7247\u5373\u53ef\u653e\u5927\uff1e http://imgur.com/Q9Z8BWI http://imgur.com/vLLU0qi (\u683c\u5f0f\u8acb\u586b\u5beb\u6b63\u78ba\uff0c\u5426\u5247\u53ef\u80fd\u4e0d\u6536\u55ae\uff01) -- \u203b \u767c\u4fe1\u7ad9: \u6279\u8e22\u8e22\u5be6\u696d\u574a(ptt.cc) \u25c6 From: 210.64.213.80 \u203b \u7de8\u8f2f: janessa         \u4f86\u81ea: 210.64.213.80        (01/10 13:42)\n"
       ]
      }
     ],
     "prompt_number": 25
    },
    {
     "cell_type": "code",
     "collapsed": false,
     "input": [
      "print PyQuery(S(\"#main-content\").contents()[1]).text()"
     ],
     "language": "python",
     "metadata": {},
     "outputs": [
      {
       "output_type": "stream",
       "stream": "stdout",
       "text": [
        "\u25c6\u78ba\u5b9a\u80fd\u65bc1/13(\u4e00) 20:00\u524d\u5b8c\u6210\u8f49\u5e33\u518d\u8ddf\u5718!!\n"
       ]
      }
     ],
     "prompt_number": 34
    },
    {
     "cell_type": "code",
     "collapsed": false,
     "input": [
      "import lxml"
     ],
     "language": "python",
     "metadata": {},
     "outputs": [],
     "prompt_number": 40
    },
    {
     "cell_type": "code",
     "collapsed": false,
     "input": [
      "print \"\".join(map(lambda xx:PyQuery(xx).text() if isinstance(xx,lxml.html.HtmlElement) else xx, S(\"#main-content\").contents()))"
     ],
     "language": "python",
     "metadata": {},
     "outputs": [
      {
       "output_type": "stream",
       "stream": "stdout",
       "text": [
        " \n",
        "\u25c6\u78ba\u5b9a\u80fd\u65bc1/13(\u4e00) 20:00\u524d\u5b8c\u6210\u8f49\u5e33\u518d\u8ddf\u5718!!\n",
        "\n",
        "(1)\u8cfc\u8cb7\u7269\u54c1\u4ecb\u7d39\u3001\u7db2\u5740\uff1a\n",
        "   http://chaoliumenshibu.taobao.com/\n",
        "\n",
        "   \u25c6\u4e0d\u6536\u6613\u788e\u54c1\u3001\u6536\u7d0d\u76d2\u3001\u25cb\u5929\u767c\u8ca8\u3001\u9810\u552e\u3001\u9055\u53cd\u7248\u898f\u2026\u7b49\u7269\u54c1\n",
        "     \uff1c\u56e0\u70ba\u54c1\u9805\u5f88\u591a\uff0c\u82e5\u4e0d\u6536\u7684\u6703\u5118\u91cf\u4e8b\u5148\u544a\u77e5\uff1e\n",
        "\n",
        "   \u25c6\u4e0d\u6536\u9700\u8981\u6c23\u6ce1\u588a\u5305\u88dd\u7684\u7269\u54c1\n",
        "     \uff1c\u8acb\u5718\u54e1\u81ea\u884c\u5224\u65b7\uff0c\u82e5\u5bc4\u9001\u6709\u6bc0\u640d\u4e3b\u8cfc\u4e0d\u8ca0\u8cac\uff1e\n",
        "\n",
        "   \u25c6\u4e3b\u8cfc\u624b\u908a\u6700\u5927\u5feb\u905e\u888b\u70ba35*40cm\uff0c\u53ea\u6536\u8f03\u5c0f\u3001\u5c11\u6216\u662f\u53ef\u4ee5\u6298\u7684\u7269\u54c1\n",
        "     \uff1c\u6bdb\u6c08\u6599\u6216\u4fdd\u6eab\u888b\u56e0\u70ba\u6bd4\u8f03\u539a\uff0c\u8cb7\u591a\u4ef6\u6703\u88dd\u4e0d\u4e0b\uff1e\n",
        "     \uff1c\u76f4\u5bc4(\u96c6\u8ca8\u5206\u5bc4)\u4e0d\u5728\u6b64\u9650\uff0c\u6240\u4ee5\u5efa\u8b70\u8cb7\u5927\u5305\u5305\u7684\u6216\u591a\u7684\u63a1\u76f4\u5bc4\uff1e\n",
        "\n",
        "   \u25c6\u4ecb\u610f\u5305\u5305\u88ab\u6298\u6216\u58d3\u7684\u8acb\u52ff\u8ddf\u5718\n",
        "\n",
        "   \u25c6\u65e5\u96dc\u5305\u53ef\u80fd\u6703\u6709\u5c0f\u7455\u75b5\uff0c\u80fd\u63a5\u53d7\u518d\u8ddf\u5718\n",
        "\n",
        "   \u25c6\u8ce3\u5bb6\u8dd1\u8ca8\u901f\u5ea6\u5f88\u5feb\uff0c\u5efa\u8b70\u586b\u5beb\u5019\u88dc\u6b3e\n",
        "\u3000 \u3000\uff1c\u5c24\u5176\u662f\u5eab\u5b58\u91cf\u5c11\u7684\uff0c10\u5e7e\u500b\u5de6\u53f3\uff1e\n",
        "\n",
        "\n",
        " \u203b \u6279    \u50f9\uff1a\u5e97\u8216VIP 8\u6298 (\u90e8\u5206\u5546\u54c1\u9664\u5916)\n",
        " \u203b \u91cd\u91cf\u9810\u4f30\uff1a\u672a\u77e5\n",
        " \u203b \u5883\u5167\u904b\u8cbb\uff1a\u6eff200RMB\u5305\u90f5\n",
        "\n",
        " \u2605\u4ee3\u8cb7\uff1aleegreen (\u4ee5\u4e3b\u8cfc\u6307\u5b9a\u7684\u70ba\u4e3b)\n",
        "\n",
        " \u2605\u532f\u7387\uff1a\u66ab\u5b9a5.2 (\u591a\u9000\u5c11\u88dc)\n",
        "         \u3010\u6700\u8fd1\u532f\u7387\u6f32\u5f88\u591a\uff0c\u4ecb\u610f\u8005\u8acb\u52ff\u8ddf\u5718\u3011\n",
        "         \uff1c\u5206\u5169\u6b21\u532f\u6b3e\u7d66\u4ee3\u8cb7\uff0c\u532f\u7387\u6703\u6709\u5169\u500b\uff1e\n",
        "         \uff1c\u7b2c\u4e00\u968e\u6bb5\uff1a\u8ce3\u5bb6\uff1b\u7b2c\u4e8c\u968e\u6bb5\uff1a\u96c6\u8ca8\uff1e\n",
        "\n",
        " \u2605\u96c6\u8ca8\uff1a\u4e0a\u6d77\u6c38\u8861(\u9127)/\u91d1\u862d(\u8076)/\u4f73\u901f (\u4ee5\u4e3b\u8cfc\u6307\u5b9a\u7684\u70ba\u4e3b)\n",
        "         \uff1c\u63a1\u76f4\u5bc4(\u96c6\u8ca8\u5206\u5bc4)\u6703\u9078\u64c7\u6c38\u8861\uff0cEZ(\u4e3b\u8cfc\u5206\u5bc4)\u8996\u60c5\u6cc1\u800c\u5b9a\uff1e\n",
        "\n",
        "(2)\u622a\u6b62\u65e5\u671f/\u6b32\u5fb5\u6578\u91cf\n",
        "\n",
        "  \u2605\u9810\u8a08\u6536\u5718\u6642\u9593\uff1a1/12(\u65e5) (\u8996\u60c5\u6cc1\u800c\u5b9a)\n",
        "\n",
        "  \u2605\u9810\u8a08\u532f\u6b3e\u6642\u9593\uff1a1/12(\u65e5) (\u8996\u60c5\u6cc1\u800c\u5b9a)\n",
        "\n",
        "  \u2605\u4e3b\u8cfc\u6536\u55ae\u65b9\u5f0f\uff1a(G\u55ae+\u63a8\u6587) \u5f85\u6210\u5718\u5f8c\u6703\u7d71\u4e00\u767c\u901a\u544a\uff0c\u6055\u4e0d\u4e00\u4e00\u56de\u8986\n",
        "\n",
        "  \u2605\u6210\u5718\u5f8cG\u55ae\u662f\u5426\u6703\u986f\u793a\u500b\u4eba\u8cc7\u6599\uff1a\u986f\u793aID\u3001\u8cfc\u8cb7\u6e05\u55ae\u3001\u53d6\u4ef6\u9580\u5e02\n",
        "\n",
        "\n",
        "(3)\u4ed8\u6b3e\u65b9\u5f0f\uff1a\n",
        "   (\u4e8b\u5148\u4ed8\u6b3e)\n",
        "\n",
        "  \u2605\u532f\u6b3e\u9280\u884c\uff1a\u90f5\u5c40\n",
        "\n",
        "  \u2605\u9000\u6b3e\u9280\u884c\uff1a\u90f5\u5c40\u3001\u53f0\u9280\u3001\u4e2d\u4fe1\n",
        "    (\u82e5\u7522\u751f\u9000\u6b3e\uff0c\u975e\u4e0a\u8ff0\u5e33\u6236\u8005\u5c07\u6263\u9664\u8de8\u884c\u624b\u7e8c\u8cbb\u5f8c\u9000\u4e4b)\n",
        "\n",
        "\n",
        "(4)\u4e3b\u8fa6\u4eba\u9023\u7d61\u65b9\u5f0f\uff1a\n",
        "   ptt\u4fe1\u7bb1 (\u78ba\u5b9a\u8ddf\u5718\u8acb\u6309y\u56de\u8986\u6587\u7ae0\u5f8c\uff0c\u518d\u9078m\u53ef\u56de\u4fe1\u5230\u4e3b\u8cfc\u4fe1\u7bb1\uff0c\u52ff\u76f4\u63a5\u56de\u8986\u5230\u7248\u4e0a)\n",
        "\n",
        "\n",
        "(5)\u62ff\u8ca8\u9762\u4ea4\u5730\u9ede/\u6642\u9593\uff1a\n",
        "   \u7121\n",
        "\u3000\n",
        "\u3000 \u662f\u5426\u63a5\u53d7\u90f5\u5bc4? Y\u3000ezShip\u5e97\u5230\u5e97\uff0d60\u5143\n",
        "\n",
        "\n",
        "(6)\u904b\u8cbb\u7684\u5206\u64d4\u65b9\u5f0f\uff1a\n",
        "   \u76f4\u5bc4(\u96c6\u8ca8\u5206\u5bc4)\uff1a\u4e0d\u5305\u7a0e18RMB/kg\n",
        "   EZ(\u4e3b\u8cfc\u5206\u5bc4)\uff1a\u5305\u7a0517~18RMB/kg (\u4ee5\u8cfc\u8cb7\u91cd\u91cf\u4e4b\u6bd4\u4f8b\u5206\u64d4)\n",
        "\n",
        "   \u76f4\u5bc4(\u96c6\u8ca8\u5206\u5bc4)\uff1a\u4e00\u55ae\u9810\u65362kg (\u591a\u9000\u5c11\u88dc)\n",
        "   EZ(\u4e3b\u8cfc\u5206\u5bc4)\uff1a\u4e00\u55ae\u9810\u653650\u5143 (\u591a\u9000\u5c11\u88dc)\n",
        "\n",
        "(7)\u96dc\u8cbb\u6536\u53d6\u65b9\u5f0f & \u7528\u9014\uff1a\n",
        "\u3000 \u76f4\u5bc4(\u96c6\u8ca8\u5206\u5bc4)\uff1a\u4e00\u55ae10\u5143\n",
        "   EZ(\u4e3b\u8cfc\u5206\u5bc4)\uff1a\u4ef6\u65781~5\u500b...10\u5143\n",
        "\u3000 \u3000\u3000              6~10\u500b...15\u5143\n",
        "\n",
        "   \u203b\u4e0d\u8ad6\u54ea\u7a2e\u5bc4\u9001\uff0c\u4e00\u55ae\u4ef6\u6578\u965010\u500b\u4ee5\u5167\n",
        "\n",
        "\u3000 \u6574\u7406\u8a02\u55ae\u3001\u806f\u7d61\u4ee3\u8cb7\u3001\u6cb9\u8cc7\u3001\u5305\u88dd\u2026\u7b49\n",
        "\n",
        "\n",
        "(8)\u6eff\u984d\u79ae/\u8d08\u54c1/\u79ae\u5238/\u7d05\u5229\u9ede\u6578\u4e4b\u5167\u5bb9\u8207\u5206\u914d\u65b9\u5f0f\uff1a\n",
        "   \u7121\n",
        "\n",
        "(9)\u5176\u4ed6\u6ce8\u610f\u4e8b\u9805\uff1a\n",
        "   1.\u82e5\u532f\u7387\u3001\u570b\u969b\u6216\u570b\u5167\u904b\u8cbb\u50f9\u683c\u8a08\u7b97\u6709\u7570\u52d5\uff0c\u7686\u63a1\u591a\u9000\u5c11\u88dc\n",
        "   2.\u4f9d\u532f\u7387\u63db\u7b97\u53f0\u5e63\u5f8c\uff0c\u5c0f\u6578\u9ede\u63a1\u7121\u689d\u4ef6\u9032\u4f4d\n",
        "   3.\u50f9\u683c\u4ee5\u5be6\u969b\u4e0b\u55ae\u6642\u70ba\u6e96\n",
        "   4.\u9664\u53e6\u6709\u898f\u5b9a\u5916\uff0c\u767c\u51fa\u8f49\u5e33\u901a\u77e5\u4fe1\u5f8c24\u5c0f\u6642\u5167\u5b8c\u6210\u8f49\u5e33\n",
        "   5.\u82e5\u7522\u751f\u9000\u6b3e\uff0c\u975e\u4e3b\u8cfc\u63d0\u4f9b\u7684\u9000\u6b3e\u9280\u884c\u5c07\u6263\u9664\u8de8\u884c\u624b\u7e8c\u8cbb\u5f8c\u9000\u4e4b\n",
        "\u3000\u3000 \u300a\u91d1\u984d\u4f4e\u65bc\u624b\u7e8c\u8cbb\uff0c\u76f4\u63a5\u62957-11\u6350\u6b3e\u7bb1\u300b\n",
        "   6.\u5718\u54e1\u9808\u81ea\u884c\u627f\u64d4\u570b\u969b\u5718\u7684\u98a8\u96aa (\u4e0d\u63a5\u53d7\u9000\u63db\u8ca8)\n",
        "     \u3010\u767c\u932f\u3001\u62cd\u932f\u3001\u906d\u6d77\u95dc\u6c92\u6536\u3011\u5718\u54e1\u81ea\u884c\u8f49\u8b93\u53ca\u627f\u64d4\n",
        "     \u3010\u91cd\u5927\u7455\u75b5\u3001\u5c11\u767c\u6216\u4e1f\u4ef6\u3011\u6703\u5411\u8ce3\u5bb6(\u6216\u96c6\u8ca8)\u53cd\u6620\uff0c\u4f46\u7121\u6cd5\u4fdd\u8b49\u80fd\u7372\u5f97\u8ce0\u511f\n",
        "       \u300a\u7455\u75b5\u90e8\u5206\u4ee5\u8ce3\u5bb6\u8a8d\u5b9a\u70ba\u4e3b\u300b\uff1c\u8ce3\u5bb6\u5229\u6f64\u5fae\u8584\uff0c\u5c0f\u7455\u75b5\u4e0d\u4e88\u8655\u7406\uff1e\n",
        "     \u3010\u88ab\u8ab2\u7a05\u3011\u4ee5\u8cfc\u8cb7\u91d1\u984d\u4e4b\u6bd4\u4f8b\u5206\u64d4\n",
        "     \u8a3b\uff1aA.\u82e5\u6536\u5230\u5f8c\u6709\u7455\u75b5\uff0c\u56de\u5831\u6642\u8acb\u9644\u4e0a\u7167\u7247\n",
        "         B.\u76f4\u5bc4\u8005\uff1a\u88ab\u8ab2\u7a05\u81ea\u884c\u8ca0\u64d4\uff1b\u62c6\u7bb1\u6642\u52d9\u5fc5\u9304\u5f71\uff0c\u907f\u514d\u6709\u554f\u984c\u6642\u7121\u6cd5\u8b49\u660e\n",
        "           \u8acb\u65bc\u7c3d\u6536\u5f8c24\u5c0f\u6642\u5167\u56de\u5831\u7455\u75b5\n",
        "   7.\u7f3a\u8ca8\u76f4\u63a5\u4ee5\u9000\u6b3e\u8655\u7406\n",
        "   8.\u570b\u969b\u5718\u5230\u8ca8\u6642\u9593\u6703\u6bd4\u8f03\u9577\uff0c\u4e0d\u80fd\u4e45\u5019\u8005\u8acb\u52ff\u8ddf\u5718\n",
        "   9.\u6bcf\u5929\u4e0a\u7ad9\u6536\u4fe12\u6b21\u4ee5\u4e0a\n",
        "   10.\u8dd1\u55ae\u8005\u63d0\u5831\u9ed1\u4eba\uff1b\u9072\u532f\u8005\u63d0\u5831\u7070\u4eba\n",
        "   11.\u4e3b\u8cfc\u4fdd\u7559\u6536\u55ae\u6b0a\u5229\n",
        "   12.\u6709\u7591\u554f\u8acb\u5148\u4f86\u4fe1\u8a62\u554f\n",
        "\n",
        "\n",
        "\u78ba\u5b9a\u8ddf\u5718\u4e86\u55ce\uff1f\u8acb\u56de\"G\u55ae\"+\"\u63a8\u6587\"\u7d66\u4f60\u7684\u4e3b\u8cfc\u5537\uff01\n",
        "\n",
        "  \u203bG\u55ae\uff1ahttp://0rz.tw/fnmva\n",
        "\u3000  \u25c6\u4e00\u55ae\u4ef6\u6578\u965010\u500b\u4ee5\u5167\n",
        "\u3000\u3000\u25c6\u4e0d\u80fd\u63a8\u6587\u8005\u8acb\u7ad9\u5167\u4fe1\u544a\u77e5\n",
        "\n",
        "  \u203b\u586b\u55ae\u683c\u5f0f\u6ce8\u610f\u4e8b\u9805\uff1c\u9ede\u9078\u5716\u7247\u5373\u53ef\u653e\u5927\uff1e\n",
        "    http://imgur.com/Q9Z8BWI\n",
        "     http://imgur.com/vLLU0qi\n",
        " \u3000\u3000(\u683c\u5f0f\u8acb\u586b\u5beb\u6b63\u78ba\uff0c\u5426\u5247\u53ef\u80fd\u4e0d\u6536\u55ae\uff01)\n",
        "\n",
        "--\n",
        "\u203b \u767c\u4fe1\u7ad9: \u6279\u8e22\u8e22\u5be6\u696d\u574a(ptt.cc)\u25c6 From: 210.64.213.80\n",
        "\u203b \u7de8\u8f2f: janessa         \u4f86\u81ea: 210.64.213.80        (01/10 13:42)\n"
       ]
      }
     ],
     "prompt_number": 45
    },
    {
     "cell_type": "code",
     "collapsed": false,
     "input": [
      "map(type,S(\"#main-content\").contents())"
     ],
     "language": "python",
     "metadata": {},
     "outputs": [
      {
       "metadata": {},
       "output_type": "pyout",
       "prompt_number": 36,
       "text": [
        "[lxml.etree._ElementStringResult,\n",
        " lxml.html.HtmlElement,\n",
        " lxml.etree._ElementUnicodeResult,\n",
        " lxml.html.HtmlElement,\n",
        " lxml.etree._ElementStringResult,\n",
        " lxml.html.HtmlElement,\n",
        " lxml.etree._ElementStringResult,\n",
        " lxml.html.HtmlElement,\n",
        " lxml.etree._ElementStringResult,\n",
        " lxml.html.HtmlElement,\n",
        " lxml.etree._ElementStringResult,\n",
        " lxml.html.HtmlElement,\n",
        " lxml.etree._ElementStringResult,\n",
        " lxml.html.HtmlElement,\n",
        " lxml.etree._ElementStringResult,\n",
        " lxml.html.HtmlElement,\n",
        " lxml.etree._ElementStringResult,\n",
        " lxml.html.HtmlElement,\n",
        " lxml.etree._ElementStringResult,\n",
        " lxml.html.HtmlElement,\n",
        " lxml.etree._ElementStringResult,\n",
        " lxml.html.HtmlElement,\n",
        " lxml.etree._ElementStringResult,\n",
        " lxml.html.HtmlElement,\n",
        " lxml.etree._ElementUnicodeResult,\n",
        " lxml.html.HtmlElement,\n",
        " lxml.etree._ElementStringResult,\n",
        " lxml.html.HtmlElement,\n",
        " lxml.etree._ElementUnicodeResult,\n",
        " lxml.html.HtmlElement,\n",
        " lxml.etree._ElementStringResult,\n",
        " lxml.html.HtmlElement,\n",
        " lxml.etree._ElementUnicodeResult,\n",
        " lxml.html.HtmlElement,\n",
        " lxml.etree._ElementUnicodeResult,\n",
        " lxml.html.HtmlElement,\n",
        " lxml.etree._ElementUnicodeResult,\n",
        " lxml.html.HtmlElement,\n",
        " lxml.etree._ElementStringResult,\n",
        " lxml.html.HtmlElement,\n",
        " lxml.etree._ElementUnicodeResult,\n",
        " lxml.html.HtmlElement,\n",
        " lxml.etree._ElementStringResult,\n",
        " lxml.html.HtmlElement,\n",
        " lxml.etree._ElementStringResult,\n",
        " lxml.html.HtmlElement,\n",
        " lxml.etree._ElementStringResult,\n",
        " lxml.html.HtmlElement,\n",
        " lxml.etree._ElementStringResult,\n",
        " lxml.html.HtmlElement,\n",
        " lxml.etree._ElementUnicodeResult,\n",
        " lxml.html.HtmlElement,\n",
        " lxml.etree._ElementStringResult,\n",
        " lxml.html.HtmlElement,\n",
        " lxml.etree._ElementUnicodeResult,\n",
        " lxml.html.HtmlElement,\n",
        " lxml.etree._ElementUnicodeResult,\n",
        " lxml.html.HtmlElement,\n",
        " lxml.etree._ElementStringResult,\n",
        " lxml.html.HtmlElement,\n",
        " lxml.etree._ElementUnicodeResult,\n",
        " lxml.html.HtmlElement,\n",
        " lxml.etree._ElementStringResult,\n",
        " lxml.html.HtmlElement,\n",
        " lxml.etree._ElementUnicodeResult,\n",
        " lxml.html.HtmlElement,\n",
        " lxml.etree._ElementUnicodeResult,\n",
        " lxml.html.HtmlElement,\n",
        " lxml.etree._ElementUnicodeResult,\n",
        " lxml.html.HtmlElement,\n",
        " lxml.etree._ElementStringResult,\n",
        " lxml.html.HtmlElement,\n",
        " lxml.etree._ElementUnicodeResult,\n",
        " lxml.html.HtmlElement,\n",
        " lxml.etree._ElementUnicodeResult,\n",
        " lxml.html.HtmlElement,\n",
        " lxml.etree._ElementUnicodeResult,\n",
        " lxml.html.HtmlElement,\n",
        " lxml.etree._ElementUnicodeResult,\n",
        " lxml.html.HtmlElement,\n",
        " lxml.etree._ElementUnicodeResult,\n",
        " lxml.html.HtmlElement,\n",
        " lxml.etree._ElementUnicodeResult,\n",
        " lxml.html.HtmlElement,\n",
        " lxml.etree._ElementUnicodeResult,\n",
        " lxml.html.HtmlElement,\n",
        " lxml.etree._ElementUnicodeResult,\n",
        " lxml.html.HtmlElement,\n",
        " lxml.etree._ElementStringResult,\n",
        " lxml.html.HtmlElement,\n",
        " lxml.etree._ElementUnicodeResult,\n",
        " lxml.html.HtmlElement,\n",
        " lxml.etree._ElementUnicodeResult,\n",
        " lxml.html.HtmlElement,\n",
        " lxml.etree._ElementStringResult,\n",
        " lxml.html.HtmlElement,\n",
        " lxml.etree._ElementUnicodeResult,\n",
        " lxml.html.HtmlElement,\n",
        " lxml.etree._ElementStringResult,\n",
        " lxml.html.HtmlElement,\n",
        " lxml.etree._ElementStringResult,\n",
        " lxml.html.HtmlElement,\n",
        " lxml.etree._ElementUnicodeResult,\n",
        " lxml.html.HtmlElement,\n",
        " lxml.etree._ElementStringResult,\n",
        " lxml.html.HtmlElement,\n",
        " lxml.html.HtmlElement,\n",
        " lxml.etree._ElementUnicodeResult,\n",
        " lxml.html.HtmlElement,\n",
        " lxml.etree._ElementUnicodeResult,\n",
        " lxml.html.HtmlElement,\n",
        " lxml.etree._ElementStringResult,\n",
        " lxml.html.HtmlElement,\n",
        " lxml.html.HtmlElement,\n",
        " lxml.etree._ElementStringResult,\n",
        " lxml.html.HtmlElement,\n",
        " lxml.etree._ElementStringResult,\n",
        " lxml.html.HtmlElement,\n",
        " lxml.etree._ElementUnicodeResult,\n",
        " lxml.html.HtmlElement,\n",
        " lxml.etree._ElementStringResult,\n",
        " lxml.html.HtmlElement,\n",
        " lxml.etree._ElementUnicodeResult,\n",
        " lxml.html.HtmlElement]"
       ]
      }
     ],
     "prompt_number": 36
    },
    {
     "cell_type": "code",
     "collapsed": false,
     "input": [],
     "language": "python",
     "metadata": {},
     "outputs": []
    }
   ],
   "metadata": {}
  }
 ]
}