{
 "metadata": {
  "name": ""
 },
 "nbformat": 3,
 "nbformat_minor": 0,
 "worksheets": [
  {
   "cells": [
    {
     "cell_type": "heading",
     "level": 1,
     "metadata": {},
     "source": [
      "Lecture 2 Ex 2 \u6293\u80a1\u7968\u4ee3\u78bc"
     ]
    },
    {
     "cell_type": "heading",
     "level": 2,
     "metadata": {},
     "source": [
      "\u89e3\u6cd5\u3127\uff1aPage Parser"
     ]
    },
    {
     "cell_type": "code",
     "collapsed": false,
     "input": [
      "import requests\n",
      "import pandas as pd\n",
      "import numpy as np"
     ],
     "language": "python",
     "metadata": {},
     "outputs": [],
     "prompt_number": 1
    },
    {
     "cell_type": "code",
     "collapsed": false,
     "input": [
      "req_data = {\n",
      "\t\"encodeURIComponent\": 1,\n",
      "\t\"step\": 1,\n",
      "\t\"firstin\": 1,\n",
      "\t\"TYPEK\": \"sii\",\n",
      "\t\"code\": \"\"\n",
      "}\n",
      "\n",
      "res = requests.post(\n",
      "    \"http://mops.twse.com.tw/mops/web/ajax_t51sb01\",\n",
      "    data=req_data\n",
      ")\n",
      "tables = pd.read_html(res.text)"
     ],
     "language": "python",
     "metadata": {},
     "outputs": [],
     "prompt_number": 2
    },
    {
     "cell_type": "code",
     "collapsed": false,
     "input": [
      "len(tables)"
     ],
     "language": "python",
     "metadata": {},
     "outputs": [
      {
       "metadata": {},
       "output_type": "pyout",
       "prompt_number": 3,
       "text": [
        "2"
       ]
      }
     ],
     "prompt_number": 3
    },
    {
     "cell_type": "code",
     "collapsed": false,
     "input": [
      "df_raw = tables[0]"
     ],
     "language": "python",
     "metadata": {},
     "outputs": [],
     "prompt_number": 8
    },
    {
     "cell_type": "code",
     "collapsed": false,
     "input": [
      "df_raw.shape"
     ],
     "language": "python",
     "metadata": {},
     "outputs": [
      {
       "metadata": {},
       "output_type": "pyout",
       "prompt_number": 11,
       "text": [
        "(926, 28)"
       ]
      }
     ],
     "prompt_number": 11
    },
    {
     "cell_type": "code",
     "collapsed": false,
     "input": [
      "# \u516c\u53f8\u884c\u865f\n",
      "df_raw.iloc[:100, 0].values"
     ],
     "language": "python",
     "metadata": {},
     "outputs": [
      {
       "metadata": {},
       "output_type": "pyout",
       "prompt_number": 14,
       "text": [
        "array([   nan,  1101.,  1102.,  1103.,  1104.,  1108.,  1109.,  1110.,\n",
        "        1201.,  1203.,  1210.,  1213.,  1215.,  1216.,  1217.,  1218.,\n",
        "          nan,  1219.,  1220.,  1225.,  1227.,  1229.,  1231.,  1232.,\n",
        "        1233.,  1234.,  1235.,  1236.,  1262.,  1301.,  1303.,  1304.,\n",
        "          nan,  1305.,  1307.,  1308.,  1309.,  1310.,  1312.,  1313.,\n",
        "        1314.,  1315.,  1316.,  1319.,  1321.,  1323.,  1324.,  1325.,\n",
        "          nan,  1326.,  1337.,  1338.,  1339.,  1340.,  1402.,  1409.,\n",
        "        1410.,  1413.,  1414.,  1416.,  1417.,  1418.,  1419.,  1423.,\n",
        "          nan,  1432.,  1434.,  1435.,  1436.,  1437.,  1438.,  1439.,\n",
        "        1440.,  1441.,  1442.,  1443.,  1444.,  1445.,  1446.,  1447.,\n",
        "          nan,  1449.,  1451.,  1452.,  1453.,  1454.,  1455.,  1456.,\n",
        "        1457.,  1459.,  1460.,  1463.,  1464.,  1465.,  1466.,  1467.,\n",
        "          nan,  1468.,  1469.,  1470.])"
       ]
      }
     ],
     "prompt_number": 14
    },
    {
     "cell_type": "code",
     "collapsed": false,
     "input": [
      "stock_ids = df_raw.icol(0)[pd.notnull(df_raw.icol(0))].values"
     ],
     "language": "python",
     "metadata": {},
     "outputs": [],
     "prompt_number": 22
    },
    {
     "cell_type": "code",
     "collapsed": false,
     "input": [
      "stock_ids[:100]"
     ],
     "language": "python",
     "metadata": {},
     "outputs": [
      {
       "metadata": {},
       "output_type": "pyout",
       "prompt_number": 24,
       "text": [
        "array([ 1101.,  1102.,  1103.,  1104.,  1108.,  1109.,  1110.,  1201.,\n",
        "        1203.,  1210.,  1213.,  1215.,  1216.,  1217.,  1218.,  1219.,\n",
        "        1220.,  1225.,  1227.,  1229.,  1231.,  1232.,  1233.,  1234.,\n",
        "        1235.,  1236.,  1262.,  1301.,  1303.,  1304.,  1305.,  1307.,\n",
        "        1308.,  1309.,  1310.,  1312.,  1313.,  1314.,  1315.,  1316.,\n",
        "        1319.,  1321.,  1323.,  1324.,  1325.,  1326.,  1337.,  1338.,\n",
        "        1339.,  1340.,  1402.,  1409.,  1410.,  1413.,  1414.,  1416.,\n",
        "        1417.,  1418.,  1419.,  1423.,  1432.,  1434.,  1435.,  1436.,\n",
        "        1437.,  1438.,  1439.,  1440.,  1441.,  1442.,  1443.,  1444.,\n",
        "        1445.,  1446.,  1447.,  1449.,  1451.,  1452.,  1453.,  1454.,\n",
        "        1455.,  1456.,  1457.,  1459.,  1460.,  1463.,  1464.,  1465.,\n",
        "        1466.,  1467.,  1468.,  1469.,  1470.,  1471.,  1472.,  1473.,\n",
        "        1474.,  1475.,  1476.,  1477.])"
       ]
      }
     ],
     "prompt_number": 24
    },
    {
     "cell_type": "code",
     "collapsed": false,
     "input": [],
     "language": "python",
     "metadata": {},
     "outputs": []
    }
   ],
   "metadata": {}
  }
 ]
}