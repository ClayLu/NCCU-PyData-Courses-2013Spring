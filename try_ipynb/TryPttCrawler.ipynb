{
 "metadata": {
  "name": ""
 },
 "nbformat": 3,
 "nbformat_minor": 0,
 "worksheets": [
  {
   "cells": [
    {
     "cell_type": "code",
     "collapsed": false,
     "input": [
      "import requests\n",
      "from pyquery import PyQuery"
     ],
     "language": "python",
     "metadata": {},
     "outputs": [],
     "prompt_number": 1
    },
    {
     "cell_type": "code",
     "collapsed": false,
     "input": [
      "board_name = \"R_Language\""
     ],
     "language": "python",
     "metadata": {},
     "outputs": [],
     "prompt_number": 2
    },
    {
     "cell_type": "code",
     "collapsed": false,
     "input": [
      "get_ptt_board_page_url = lambda b_name: \"http://www.ptt.cc/bbs/%s/index.html\" % b_name"
     ],
     "language": "python",
     "metadata": {},
     "outputs": [],
     "prompt_number": 6
    },
    {
     "cell_type": "code",
     "collapsed": false,
     "input": [
      "r_lang_url = get_ptt_board_page_url(board_name)\n",
      "print r_lang_url"
     ],
     "language": "python",
     "metadata": {},
     "outputs": [
      {
       "output_type": "stream",
       "stream": "stdout",
       "text": [
        "http://www.ptt.cc/bbs/R_Language/index.html\n"
       ]
      }
     ],
     "prompt_number": 15
    },
    {
     "cell_type": "code",
     "collapsed": false,
     "input": [
      "res = requests.get(r_lang_url)"
     ],
     "language": "python",
     "metadata": {},
     "outputs": [
      {
       "output_type": "stream",
       "stream": "stdout",
       "text": [
        "enc_params =  \n"
       ]
      }
     ],
     "prompt_number": 9
    },
    {
     "cell_type": "code",
     "collapsed": false,
     "input": [
      "S = PyQuery(res.text)"
     ],
     "language": "python",
     "metadata": {},
     "outputs": [],
     "prompt_number": 10
    },
    {
     "cell_type": "code",
     "collapsed": false,
     "input": [
      "article_urls = S(\".title a\").map(lambda :PyQuery(this).attr(\"href\"))\n"
     ],
     "language": "python",
     "metadata": {},
     "outputs": [],
     "prompt_number": 29
    },
    {
     "cell_type": "code",
     "collapsed": false,
     "input": [
      "article_urls = [\"http://www.ptt.cc%s\" % one_url for one_url in article_urls if one_url.startswith(\"/bbs\")]"
     ],
     "language": "python",
     "metadata": {},
     "outputs": [],
     "prompt_number": 30
    },
    {
     "cell_type": "code",
     "collapsed": false,
     "input": [
      "article_res = requests.get(article_urls[1])"
     ],
     "language": "python",
     "metadata": {},
     "outputs": [
      {
       "output_type": "stream",
       "stream": "stdout",
       "text": [
        "enc_params =  \n"
       ]
      }
     ],
     "prompt_number": 73
    },
    {
     "cell_type": "code",
     "collapsed": false,
     "input": [
      "SS = PyQuery(article_res.text)"
     ],
     "language": "python",
     "metadata": {},
     "outputs": [],
     "prompt_number": 74
    },
    {
     "cell_type": "code",
     "collapsed": false,
     "input": [
      "print SS(\"#topbar > .board\").text()"
     ],
     "language": "python",
     "metadata": {},
     "outputs": [
      {
       "output_type": "stream",
       "stream": "stdout",
       "text": [
        "\u770b\u677f R_Language\n"
       ]
      }
     ],
     "prompt_number": 75
    },
    {
     "cell_type": "code",
     "collapsed": false,
     "input": [
      "print SS(\".article-metaline-right > .article-meta-value\").text()\n"
     ],
     "language": "python",
     "metadata": {},
     "outputs": [
      {
       "output_type": "stream",
       "stream": "stdout",
       "text": [
        "R_Language\n"
       ]
      }
     ],
     "prompt_number": 76
    },
    {
     "cell_type": "code",
     "collapsed": false,
     "input": [
      "SS(\".article-metaline > .article-meta-value\").map(lambda :PyQuery(this).text())"
     ],
     "language": "python",
     "metadata": {},
     "outputs": [
      {
       "metadata": {},
       "output_type": "pyout",
       "prompt_number": 77,
       "text": [
        "['koai (\\xe5\\x8f\\xaf\\xe7\\xac\\x91\\xe7\\x9a\\x84\\xe8\\x87\\xaa\\xe4\\xbb\\xa5\\xe7\\x82\\xba...)', '[\\xe5\\x95\\x8f\\xe9\\xa1\\x8c] \\xe8\\xab\\x8b\\xe6\\x95\\x99 RHadoop \\xe9\\xab\\x98\\xe6\\x89\\x8b', 'Mon Dec 23 18:13:01 2013']"
       ]
      }
     ],
     "prompt_number": 77
    },
    {
     "cell_type": "code",
     "collapsed": false,
     "input": [
      "for xx in SS(\".article-metaline > .article-meta-value\").map(lambda :PyQuery(this).text()):\n",
      "    print xx"
     ],
     "language": "python",
     "metadata": {},
     "outputs": [
      {
       "output_type": "stream",
       "stream": "stdout",
       "text": [
        "koai (\u53ef\u7b11\u7684\u81ea\u4ee5\u70ba...)\n",
        "[\u554f\u984c] \u8acb\u6559 RHadoop \u9ad8\u624b\n",
        "Mon Dec 23 18:13:01 2013\n"
       ]
      }
     ],
     "prompt_number": 78
    },
    {
     "cell_type": "code",
     "collapsed": false,
     "input": [
      "map(type,SS(\"#main-content\").contents())"
     ],
     "language": "python",
     "metadata": {},
     "outputs": [
      {
       "metadata": {},
       "output_type": "pyout",
       "prompt_number": 79,
       "text": [
        "[lxml.html.HtmlElement,\n",
        " lxml.html.HtmlElement,\n",
        " lxml.html.HtmlElement,\n",
        " lxml.html.HtmlElement,\n",
        " lxml.etree._ElementUnicodeResult,\n",
        " lxml.html.HtmlElement,\n",
        " lxml.etree._ElementUnicodeResult,\n",
        " lxml.html.HtmlElement,\n",
        " lxml.etree._ElementUnicodeResult,\n",
        " lxml.html.HtmlElement,\n",
        " lxml.html.HtmlElement,\n",
        " lxml.html.HtmlElement,\n",
        " lxml.html.HtmlElement,\n",
        " lxml.html.HtmlElement,\n",
        " lxml.html.HtmlElement,\n",
        " lxml.html.HtmlElement]"
       ]
      }
     ],
     "prompt_number": 79
    },
    {
     "cell_type": "code",
     "collapsed": false,
     "input": [
      "import lxml"
     ],
     "language": "python",
     "metadata": {},
     "outputs": [],
     "prompt_number": 80
    },
    {
     "cell_type": "code",
     "collapsed": false,
     "input": [
      "[xx for xx in SS(\"#main-content\").contents() if isinstance(xx,lxml.etree._ElementUnicodeResult)]"
     ],
     "language": "python",
     "metadata": {},
     "outputs": [
      {
       "metadata": {},
       "output_type": "pyout",
       "prompt_number": 81,
       "text": [
        "[u'\\n\\n[\\u554f\\u984c\\u985e\\u578b]:\\n\\u7a0b\\u5f0f\\u8aee\\u8a62(\\u6211\\u60f3\\u7528R \\u505a\\u67d0\\u4ef6\\u4e8b\\u60c5\\uff0c\\u4f46\\u662f\\u6211\\u4e0d\\u77e5\\u9053\\u8981\\u600e\\u9ebc\\u7528R \\u5beb\\u51fa\\u4f86)\\n\\n[\\u8edf\\u9ad4\\u719f\\u6089\\u5ea6]:\\nR \\u4f7f\\u7528\\u8005   ( RHadoop \\u5e7c\\u5e7c\\u73ed... @@\" )\\n\\n[\\u554f\\u984c\\u6558\\u8ff0]:\\n\\u60f3\\u8acb\\u6559\\u7248\\u4e0a\\u7684RHadoop\\u9ad8\\u624b\\u6216\\u4f7f\\u7528\\u8005\\uff0c\\n\\u662f\\u5426\\u53ef\\u4ee5\\u5e6b\\u6211\\u770b\\u770b\\u6211\\u7684\\u554f\\u984c\\u51fa\\u5728\\u54ea\\u88e1\\uff1f\\n\\u6700\\u8fd1\\u5728\\u5617\\u8a66\\u7528RHadoop\\uff0c\\u4f46\\u4e0d\\u662f\\u5f88\\u7406\\u89e3rmr2\\u88e1\\u9762\\nmap \\u8ddf reduce \\u9019\\u5169\\u500b\\u51fd\\u6578\\u7684\\u7d50\\u69cb\\uff0c\\u60f3\\u627e\\u7248\\u4e0a\\u9ad8\\u624b\\u6c42\\u6551... @@\"\\n\\u662f\\u5426\\u53ef\\u4ee5\\u5e6b\\u6211\\u770b\\u770b\\u6211\\u7684\\u4e0b\\u5217\\u7a0b\\u5f0f\\u662f\\u5426\\u6709\\u932f\\uff1f\\n\\u7576input file\\u8f03\\u5c0f\\u6642\\uff0c\\u4e0b\\u9762\\u7684\\u7a0b\\u5f0f\\u78bc\\u53ef\\u4ee5\\u6210\\u529f\\uff0c\\n\\u4f46\\u7576input file\\u8b8a\\u5927\\u6642\\uff0c\\u6211\\u7684\\u7a0b\\u5f0f\\u78bc\\u5c31\\u6703\\u51fa\\u932f\\u4e86\\uff01\\n\\n\\u4ee5\\u4e0b\\u70ba Error code:\\nError: # of failed Map Tasks exceeded allowed limit.\\nStreaming Command Failed!\\nError in mr(map = map, reduce = reduce, combine = combine, vectorized.reduce,  :\\nhadoop streaming failed with error code 1\\n\\n\\u611f\\u8b1d\\u524d\\u8f29\\u5e6b\\u5fd9\\u4e86~~  @@\"\\n\\n\\n[\\u7a0b\\u5f0f\\u7bc4\\u4f8b]:\\ntestdb02 <- mapreduce(\\n  input  = \"/my_test_file\",\\n  map    = function(k,v){\\n   val <- matrix( unlist(strsplit(v,\"\\\\t\")), ncol=18, byrow=TRUE)\\n   colnames(val) <- paste(\"Col_\",1:18,sep=\"\")\\n   key <- matrix(as.double(unlist(strsplit(matrix(unlist(strsplit(val[,1],\" \")),2)[2,],\":\"))),ncol=3,byrow=TRUE)\\n   keyval(key,val)\\n  }\\n)\\n\\n',\n",
        " u'\\n\\n\\n[\\u95dc\\u9375\\u5b57]:\\nRHadoop; rmr; mapreduce\\n\\n--\\n',\n",
        " u'\\u25c6 From: 203.73.70.8\\n']"
       ]
      }
     ],
     "prompt_number": 81
    },
    {
     "cell_type": "code",
     "collapsed": false,
     "input": [
      "for yy in [xx for xx in SS(\"#main-content\").contents() if isinstance(xx,lxml.etree._ElementUnicodeResult)]:\n",
      "    print \"~~~~~~~~~~~~~~~~~~~~~~~~~~~~~~~\"\n",
      "    print yy"
     ],
     "language": "python",
     "metadata": {},
     "outputs": [
      {
       "output_type": "stream",
       "stream": "stdout",
       "text": [
        "~~~~~~~~~~~~~~~~~~~~~~~~~~~~~~~\n",
        "\n",
        "\n",
        "[\u554f\u984c\u985e\u578b]:\n",
        "\u7a0b\u5f0f\u8aee\u8a62(\u6211\u60f3\u7528R \u505a\u67d0\u4ef6\u4e8b\u60c5\uff0c\u4f46\u662f\u6211\u4e0d\u77e5\u9053\u8981\u600e\u9ebc\u7528R \u5beb\u51fa\u4f86)\n",
        "\n",
        "[\u8edf\u9ad4\u719f\u6089\u5ea6]:\n",
        "R \u4f7f\u7528\u8005   ( RHadoop \u5e7c\u5e7c\u73ed... @@\" )\n",
        "\n",
        "[\u554f\u984c\u6558\u8ff0]:\n",
        "\u60f3\u8acb\u6559\u7248\u4e0a\u7684RHadoop\u9ad8\u624b\u6216\u4f7f\u7528\u8005\uff0c\n",
        "\u662f\u5426\u53ef\u4ee5\u5e6b\u6211\u770b\u770b\u6211\u7684\u554f\u984c\u51fa\u5728\u54ea\u88e1\uff1f\n",
        "\u6700\u8fd1\u5728\u5617\u8a66\u7528RHadoop\uff0c\u4f46\u4e0d\u662f\u5f88\u7406\u89e3rmr2\u88e1\u9762\n",
        "map \u8ddf reduce \u9019\u5169\u500b\u51fd\u6578\u7684\u7d50\u69cb\uff0c\u60f3\u627e\u7248\u4e0a\u9ad8\u624b\u6c42\u6551... @@\"\n",
        "\u662f\u5426\u53ef\u4ee5\u5e6b\u6211\u770b\u770b\u6211\u7684\u4e0b\u5217\u7a0b\u5f0f\u662f\u5426\u6709\u932f\uff1f\n",
        "\u7576input file\u8f03\u5c0f\u6642\uff0c\u4e0b\u9762\u7684\u7a0b\u5f0f\u78bc\u53ef\u4ee5\u6210\u529f\uff0c\n",
        "\u4f46\u7576input file\u8b8a\u5927\u6642\uff0c\u6211\u7684\u7a0b\u5f0f\u78bc\u5c31\u6703\u51fa\u932f\u4e86\uff01\n",
        "\n",
        "\u4ee5\u4e0b\u70ba Error code:\n",
        "Error: # of failed Map Tasks exceeded allowed limit.\n",
        "Streaming Command Failed!\n",
        "Error in mr(map = map, reduce = reduce, combine = combine, vectorized.reduce,  :\n",
        "hadoop streaming failed with error code 1\n",
        "\n",
        "\u611f\u8b1d\u524d\u8f29\u5e6b\u5fd9\u4e86~~  @@\"\n",
        "\n",
        "\n",
        "[\u7a0b\u5f0f\u7bc4\u4f8b]:\n",
        "testdb02 <- mapreduce(\n",
        "  input  = \"/my_test_file\",\n",
        "  map    = function(k,v){\n",
        "   val <- matrix( unlist(strsplit(v,\"\\t\")), ncol=18, byrow=TRUE)\n",
        "   colnames(val) <- paste(\"Col_\",1:18,sep=\"\")\n",
        "   key <- matrix(as.double(unlist(strsplit(matrix(unlist(strsplit(val[,1],\" \")),2)[2,],\":\"))),ncol=3,byrow=TRUE)\n",
        "   keyval(key,val)\n",
        "  }\n",
        ")\n",
        "\n",
        "\n",
        "~~~~~~~~~~~~~~~~~~~~~~~~~~~~~~~\n",
        "\n",
        "\n",
        "\n",
        "[\u95dc\u9375\u5b57]:\n",
        "RHadoop; rmr; mapreduce\n",
        "\n",
        "--\n",
        "\n",
        "~~~~~~~~~~~~~~~~~~~~~~~~~~~~~~~\n",
        "\u25c6 From: 203.73.70.8\n",
        "\n"
       ]
      }
     ],
     "prompt_number": 82
    },
    {
     "cell_type": "code",
     "collapsed": false,
     "input": [
      "print PyQuery(SS(\"#main-content > span\")[-1]).text()"
     ],
     "language": "python",
     "metadata": {},
     "outputs": [
      {
       "output_type": "stream",
       "stream": "stdout",
       "text": [
        "\u203b \u7de8\u8f2f: koai            \u4f86\u81ea: 203.73.70.8          (12/23 18:14)\n"
       ]
      }
     ],
     "prompt_number": 83
    },
    {
     "cell_type": "code",
     "collapsed": false,
     "input": [
      "print \"\\n\".join(PyQuery(SS(\"#main-content > span\")[:-2]).map(lambda :PyQuery(this).text()))"
     ],
     "language": "python",
     "metadata": {},
     "outputs": [
      {
       "output_type": "stream",
       "stream": "stdout",
       "text": [
        "\n"
       ]
      }
     ],
     "prompt_number": 84
    },
    {
     "cell_type": "code",
     "collapsed": false,
     "input": [
      "print SS(\"#main-content > span\")"
     ],
     "language": "python",
     "metadata": {},
     "outputs": [
      {
       "output_type": "stream",
       "stream": "stdout",
       "text": [
        "<span class=\"f2\">&#8251; &#30332;&#20449;&#31449;: &#25209;&#36386;&#36386;&#23526;&#26989;&#22346;(ptt.cc)\n",
        "</span>&#9670; From: 203.73.70.8\n",
        "<span class=\"f2\">&#8251; &#32232;&#36655;: koai            &#20358;&#33258;: 203.73.70.8          (12/23 18:14)\n",
        "</span>\n"
       ]
      }
     ],
     "prompt_number": 87
    },
    {
     "cell_type": "code",
     "collapsed": false,
     "input": [],
     "language": "python",
     "metadata": {},
     "outputs": []
    }
   ],
   "metadata": {}
  }
 ]
}