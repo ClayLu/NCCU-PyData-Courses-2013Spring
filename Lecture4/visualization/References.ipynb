{
 "metadata": {
  "name": ""
 },
 "nbformat": 3,
 "nbformat_minor": 0,
 "worksheets": [
  {
   "cells": [
    {
     "cell_type": "markdown",
     "metadata": {},
     "source": [
      "# References:\n",
      "\n",
      "-    ## [matplotlib] http://nbviewer.ipython.org/github/jrjohansson/scientific-python-lectures/blob/master/Lecture-4-Matplotlib.ipynb\n",
      "-    ## [matplotlib theme] http://www.huyng.com/posts/sane-color-scheme-for-matplotlib/\n",
      "-    ## [matplotlib change size ipynb] http://txt.arboreus.com/2012/12/13/change-figure-size-in-ipython-notebook-sessions.html\n",
      "-    ## [matplotlib double size ipynb] http://nbviewer.ipython.org/gist/minrk/3301035\n",
      "-    ## [matplotlib change size ipynb] http://stackoverflow.com/questions/17230797/how-to-set-the-matplotlib-figure-default-size-in-ipython-notebook\n",
      "-    ## [matplotlib change size ipynb] http://stackoverflow.com/questions/16905028/why-is-matplotlib-plot-produced-from-ipython-notebook-slightly-different-from-te\n",
      "\n",
      "-    ## [matplotlib 3d rotation] http://matplotlib.org/examples/mplot3d/rotate_axes3d_demo.html\n",
      "\n",
      "\n",
      "-    ## [ggplot] http://blog.yhathq.com/posts/ggplot-for-python.html"
     ]
    },
    {
     "cell_type": "markdown",
     "metadata": {},
     "source": [
      "# [Question] using matplotlib creating animation?\n",
      "\n",
      "-    ## using plt.pause instead of time.sleep\n",
      "    *    ### [Ref1 -- backend Qt4Agg](https://github.com/matplotlib/matplotlib/issues/1646)\n",
      "    *    ### [Ref2](http://stackoverflow.com/questions/12822762/pylab-ion-in-python-2-matplotlib-1-1-1-and-updating-of-the-plot-while-the-pro/12826273#12826273)\n",
      "    *    ### [Ref3](http://matplotlib.org/examples/mplot3d/rotate_axes3d_demo.html)\n",
      "    \n",
      "    "
     ]
    },
    {
     "cell_type": "code",
     "collapsed": false,
     "input": [
      "# from mpl_toolkits.mplot3d import axes3d\n",
      "# import matplotlib.pyplot as plt\n",
      "# import numpy as np\n",
      "\n",
      "# plt.ion()\n",
      "\n",
      "# fig = plt.figure()\n",
      "# ax = fig.add_subplot(111, projection='3d')\n",
      "# X, Y, Z = axes3d.get_test_data(0.1)\n",
      "# ax.plot_wireframe(X, Y, Z, rstride=5, cstride=5)\n",
      "\n",
      "# for angle in range(0, 360):\n",
      "#     ax.view_init(30, angle)\n",
      "#     plt.draw()\n",
      "#     plt.pause(1)\n"
     ],
     "language": "python",
     "metadata": {},
     "outputs": [],
     "prompt_number": 1
    },
    {
     "cell_type": "markdown",
     "metadata": {},
     "source": [
      "## [\u7b49\u9ad8\u7dda Ref](http://matplotlib.org/api/pyplot_api.html#matplotlib.pyplot.clf)"
     ]
    },
    {
     "cell_type": "markdown",
     "metadata": {},
     "source": [
      "## [pcolor \u7bc4\u4f8b Ref](http://matplotlib.org/examples/pylab_examples/pcolor_demo.html)"
     ]
    },
    {
     "cell_type": "markdown",
     "metadata": {},
     "source": [
      "## Color Map:\n",
      "\n",
      "-    ## [scipy: words vs colors](http://wiki.scipy.org/Cookbook/Matplotlib/Show_colormaps)\n",
      "-    ## [matplotlib: words vs colors](http://matplotlib.org/1.2.1/examples/pylab_examples/show_colormaps.html)\n",
      "\n"
     ]
    },
    {
     "cell_type": "code",
     "collapsed": false,
     "input": [],
     "language": "python",
     "metadata": {},
     "outputs": []
    }
   ],
   "metadata": {}
  }
 ]
}