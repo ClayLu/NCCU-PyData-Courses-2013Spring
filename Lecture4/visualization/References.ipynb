{
 "metadata": {
  "name": ""
 },
 "nbformat": 3,
 "nbformat_minor": 0,
 "worksheets": [
  {
   "cells": [
    {
     "cell_type": "markdown",
     "metadata": {},
     "source": [
      "add_axes(*args, **kwargs)\n",
      "\n",
      "\n",
      "Add an axes at position rect [left, bottom, width, height] where all quantities are in fractions of figure width and height. kwargs are legal Axes kwargs plus projection which sets the projection type of the axes. (For backward compatibility, polar=True may also be provided, which is equivalent to projection='polar'). Valid values for projection are: [\u2018aitoff\u2019, \u2018hammer\u2019, \u2018lambert\u2019, \u2018mollweide\u2019, \u2018polar\u2019, \u2018rectilinear\u2019]. Some of these projections support additional kwargs, which may be provided to add_axes(). Typical usage:\n",
      "\n",
      "```\n",
      "rect = l,b,w,h\n",
      "fig.add_axes(rect)\n",
      "fig.add_axes(rect, frameon=False, axisbg='g')\n",
      "fig.add_axes(rect, polar=True)\n",
      "fig.add_axes(rect, projection='polar')\n",
      "fig.add_axes(ax)\n",
      "```"
     ]
    },
    {
     "cell_type": "code",
     "collapsed": false,
     "input": [],
     "language": "python",
     "metadata": {},
     "outputs": []
    },
    {
     "cell_type": "code",
     "collapsed": false,
     "input": [],
     "language": "python",
     "metadata": {},
     "outputs": []
    },
    {
     "cell_type": "code",
     "collapsed": false,
     "input": [],
     "language": "python",
     "metadata": {},
     "outputs": []
    },
    {
     "cell_type": "code",
     "collapsed": false,
     "input": [],
     "language": "python",
     "metadata": {},
     "outputs": []
    },
    {
     "cell_type": "markdown",
     "metadata": {},
     "source": [
      "## [JS-NetworkX](http://felix-kling.de/JSNetworkX/examples.html)"
     ]
    },
    {
     "cell_type": "markdown",
     "metadata": {},
     "source": [
      "## NetworkX\n",
      "\n",
      "-   ## https://www.udacity.com/wiki/creating%20network%20graphs%20with%20python\n",
      "-   ## http://networkx.lanl.gov/networkx_tutorial.pdf\n",
      "-   ## http://docs.enthought.com/mayavi/mayavi/index.html\n",
      "-   ## http://www.slideshare.net/arnicas/a-quick-and-dirty-intro-to-networkx-and-d3\n",
      "\n",
      "\n",
      "\n",
      "-   ## [Best Example] http://nbviewer.ipython.org/github/ellisonbg/talk-strata2013/blob/master/TwitterNetworkX.ipynb\n",
      "-   ## [Best Tutorial] http://www.cl.cam.ac.uk/~cm542/teaching/2010/stna-pdfs/stna-lecture8.pdf\n",
      "\n",
      "\n",
      "## Community Detection:\n",
      "\n",
      "-   ## http://perso.crans.org/aynaud/communities/\n"
     ]
    },
    {
     "cell_type": "markdown",
     "metadata": {},
     "source": [
      "## Gephi\n",
      "\n",
      "-   ## https://www.udemy.com/gephi/"
     ]
    },
    {
     "cell_type": "markdown",
     "metadata": {},
     "source": [
      "## add_axes\n",
      "\n",
      "-   ##  http://matplotlib.org/users/artists.html\n",
      "\n",
      "If you want to create an Axes at an arbitrary location, simply use the add_axes() method which takes a list of [left, bottom, width, height] values in 0-1 relative figure coordinates:\n",
      "\n",
      "fig2 = plt.figure()\n",
      "ax2 = fig2.add_axes([0.15, 0.1, 0.7, 0.3])\n"
     ]
    },
    {
     "cell_type": "code",
     "collapsed": false,
     "input": [],
     "language": "python",
     "metadata": {},
     "outputs": []
    },
    {
     "cell_type": "markdown",
     "metadata": {},
     "source": [
      "# $$\\frac{Rec_t - Rec_{t-1}}{Rec_{t-1}} \\geq 1.5 \\times \\frac{Hot_t - Hot_{t-1}}{Hot_{t-1}}$$ "
     ]
    },
    {
     "cell_type": "markdown",
     "metadata": {},
     "source": [
      "# References:\n",
      "\n",
      "-    ## [matplotlib] http://nbviewer.ipython.org/github/jrjohansson/scientific-python-lectures/blob/master/Lecture-4-Matplotlib.ipynb\n",
      "\n",
      "-    ## [matplotlib create gif] http://www.jamesphoughton.com/2013/08/making-gif-animations-with-matplotlib.html\n",
      "    * ### [Install imagemagick] http://askubuntu.com/questions/112548/rmagick-install-problem\n",
      "\n",
      "\n",
      "-    ## [matplotlib subplot and axes] http://matplotlib.org/examples/pylab_examples/subplots_demo.html\n",
      "\n",
      "\n",
      "-    ## [matplotlib theme] http://www.huyng.com/posts/sane-color-scheme-for-matplotlib/\n",
      "-    ## [matplotlib change size ipynb] http://txt.arboreus.com/2012/12/13/change-figure-size-in-ipython-notebook-sessions.html\n",
      "-    ## [matplotlib double size ipynb] http://nbviewer.ipython.org/gist/minrk/3301035\n",
      "-    ## [matplotlib change size ipynb] http://stackoverflow.com/questions/17230797/how-to-set-the-matplotlib-figure-default-size-in-ipython-notebook\n",
      "-    ## [matplotlib change size ipynb] http://stackoverflow.com/questions/16905028/why-is-matplotlib-plot-produced-from-ipython-notebook-slightly-different-from-te\n",
      "\n",
      "-    ## [matplotlib 3d rotation] http://matplotlib.org/examples/mplot3d/rotate_axes3d_demo.html\n",
      "\n",
      "\n",
      "-    ## [ggplot] http://blog.yhathq.com/posts/ggplot-for-python.html"
     ]
    },
    {
     "cell_type": "markdown",
     "metadata": {},
     "source": [
      "# [Question] using matplotlib creating animation?\n",
      "\n",
      "-    ## using plt.pause instead of time.sleep\n",
      "    *    ### [Ref1 -- backend Qt4Agg](https://github.com/matplotlib/matplotlib/issues/1646)\n",
      "    *    ### [Ref2](http://stackoverflow.com/questions/12822762/pylab-ion-in-python-2-matplotlib-1-1-1-and-updating-of-the-plot-while-the-pro/12826273#12826273)\n",
      "    *    ### [Ref3](http://matplotlib.org/examples/mplot3d/rotate_axes3d_demo.html)\n",
      "    \n",
      "    "
     ]
    },
    {
     "cell_type": "code",
     "collapsed": false,
     "input": [
      "# from mpl_toolkits.mplot3d import axes3d\n",
      "# import matplotlib.pyplot as plt\n",
      "# import numpy as np\n",
      "\n",
      "# plt.ion()\n",
      "\n",
      "# fig = plt.figure()\n",
      "# ax = fig.add_subplot(111, projection='3d')\n",
      "# X, Y, Z = axes3d.get_test_data(0.1)\n",
      "# ax.plot_wireframe(X, Y, Z, rstride=5, cstride=5)\n",
      "\n",
      "# for angle in range(0, 360):\n",
      "#     ax.view_init(30, angle)\n",
      "#     plt.draw()\n",
      "#     plt.pause(1)\n"
     ],
     "language": "python",
     "metadata": {},
     "outputs": [],
     "prompt_number": 1
    },
    {
     "cell_type": "markdown",
     "metadata": {},
     "source": [
      "## [\u7b49\u9ad8\u7dda Ref](http://matplotlib.org/api/pyplot_api.html#matplotlib.pyplot.clf)"
     ]
    },
    {
     "cell_type": "markdown",
     "metadata": {},
     "source": [
      "## [pcolor \u7bc4\u4f8b Ref](http://matplotlib.org/examples/pylab_examples/pcolor_demo.html)"
     ]
    },
    {
     "cell_type": "markdown",
     "metadata": {},
     "source": [
      "## Color Map:\n",
      "\n",
      "-    ## [scipy: words vs colors](http://wiki.scipy.org/Cookbook/Matplotlib/Show_colormaps)\n",
      "-    ## [matplotlib: words vs colors](http://matplotlib.org/1.2.1/examples/pylab_examples/show_colormaps.html)\n",
      "\n"
     ]
    },
    {
     "cell_type": "markdown",
     "metadata": {},
     "source": [
      "# Read Image\n",
      "\n",
      "-    ## http://matplotlib.org/users/image_tutorial.html"
     ]
    },
    {
     "cell_type": "markdown",
     "metadata": {},
     "source": [
      "# Insert Images into plots:\n",
      "\n",
      "-    ## [annotation box + OffsetImage](http://matplotlib.org/examples/pylab_examples/demo_annotation_box.html)"
     ]
    },
    {
     "cell_type": "code",
     "collapsed": false,
     "input": [],
     "language": "python",
     "metadata": {},
     "outputs": []
    },
    {
     "cell_type": "markdown",
     "metadata": {},
     "source": [
      "# [Matlpotlib APIs](http://matplotlib.org/api/index.html)\n",
      "\n",
      "- ## [matplotlib.pyplot.gca](http://matplotlib.org/api/pyplot_api.html#matplotlib.pyplot.gca)\n",
      "- ## [matplotlib.pyplot.gcf](http://matplotlib.org/api/pyplot_api.html#matplotlib.pyplot.gcf)\n",
      "\n",
      "\n",
      "- ## [matplotlib.patches.ConnectionPatch](http://matplotlib.org/api/artist_api.html#matplotlib.patches.ConnectionPatch)"
     ]
    },
    {
     "cell_type": "code",
     "collapsed": false,
     "input": [],
     "language": "python",
     "metadata": {},
     "outputs": []
    },
    {
     "cell_type": "code",
     "collapsed": false,
     "input": [],
     "language": "python",
     "metadata": {},
     "outputs": []
    },
    {
     "cell_type": "code",
     "collapsed": false,
     "input": [],
     "language": "python",
     "metadata": {},
     "outputs": []
    },
    {
     "cell_type": "code",
     "collapsed": false,
     "input": [],
     "language": "python",
     "metadata": {},
     "outputs": []
    },
    {
     "cell_type": "code",
     "collapsed": false,
     "input": [],
     "language": "python",
     "metadata": {},
     "outputs": []
    },
    {
     "cell_type": "code",
     "collapsed": false,
     "input": [],
     "language": "python",
     "metadata": {},
     "outputs": []
    },
    {
     "cell_type": "markdown",
     "metadata": {},
     "source": [
      "# IPython Parallel:\n",
      "\n",
      "- ### https://github.com/minrk/IPython.parallel.tutorial\n",
      "\n",
      "- ### http://vimeo.com/63262448"
     ]
    },
    {
     "cell_type": "markdown",
     "metadata": {},
     "source": [
      "# Tree Plot:\n",
      "\n",
      "-  ### http://puremonkey2010.blogspot.tw/2012/07/ml-in-action-tree-construction.html?m=0"
     ]
    },
    {
     "cell_type": "code",
     "collapsed": false,
     "input": [],
     "language": "python",
     "metadata": {},
     "outputs": []
    }
   ],
   "metadata": {}
  }
 ]
}