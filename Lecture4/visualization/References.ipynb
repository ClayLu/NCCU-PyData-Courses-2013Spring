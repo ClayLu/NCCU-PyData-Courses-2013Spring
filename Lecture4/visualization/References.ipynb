{
 "metadata": {
  "name": ""
 },
 "nbformat": 3,
 "nbformat_minor": 0,
 "worksheets": [
  {
   "cells": [
    {
     "cell_type": "markdown",
     "metadata": {},
     "source": [
      "# References:\n",
      "\n",
      "-    ## [matplotlib] http://nbviewer.ipython.org/github/jrjohansson/scientific-python-lectures/blob/master/Lecture-4-Matplotlib.ipynb\n",
      "-    ## [matplotlib theme] http://www.huyng.com/posts/sane-color-scheme-for-matplotlib/\n",
      "\n",
      "-    ## [ggplot] http://blog.yhathq.com/posts/ggplot-for-python.html"
     ]
    },
    {
     "cell_type": "code",
     "collapsed": false,
     "input": [],
     "language": "python",
     "metadata": {},
     "outputs": []
    }
   ],
   "metadata": {}
  }
 ]
}