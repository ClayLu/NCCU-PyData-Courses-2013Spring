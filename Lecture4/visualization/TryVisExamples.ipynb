{
 "metadata": {
  "name": ""
 },
 "nbformat": 3,
 "nbformat_minor": 0,
 "worksheets": [
  {
   "cells": [
    {
     "cell_type": "code",
     "collapsed": false,
     "input": [
      "from pymongo import MongoClient\n",
      "mongo_client = MongoClient()\n",
      "nccu_mldm_course_db = mongo_client.nccu_mldm_course_db\n",
      "ptt_article_col = nccu_mldm_course_db.ptt_article_col"
     ],
     "language": "python",
     "metadata": {},
     "outputs": [],
     "prompt_number": 1
    },
    {
     "cell_type": "code",
     "collapsed": false,
     "input": [
      "article_list = list(ptt_article_col.find())"
     ],
     "language": "python",
     "metadata": {},
     "outputs": [],
     "prompt_number": 2
    },
    {
     "cell_type": "code",
     "collapsed": false,
     "input": [
      "import pandas as pd\n",
      "article_df = pd.DataFrame(article_list)\n",
      "article_df = article_df.drop(\"_id\",1)\n",
      "print article_df.shape\n",
      "article_df.head()"
     ],
     "language": "python",
     "metadata": {},
     "outputs": [
      {
       "output_type": "stream",
       "stream": "stdout",
       "text": [
        "(14128, 6)\n"
       ]
      },
      {
       "output_type": "stream",
       "stream": "stderr",
       "text": [
        "/usr/local/lib/python2.7/dist-packages/matplotlib/__init__.py:740: UserWarning: Found matplotlib configuration in ~/.matplotlib/. To conform with the XDG base directory standard, this configuration location has been deprecated on Linux, and the new location is now '/home/c3h3/.config'/matplotlib/. Please move your configuration there to ensure that matplotlib will continue to find it in the future.\n",
        "  _get_xdg_config_dir())\n"
       ]
      },
      {
       "html": [
        "<div style=\"max-height:1000px;max-width:1500px;overflow:auto;\">\n",
        "<table border=\"1\" class=\"dataframe\">\n",
        "  <thead>\n",
        "    <tr style=\"text-align: right;\">\n",
        "      <th></th>\n",
        "      <th>Author</th>\n",
        "      <th>Board</th>\n",
        "      <th>Time</th>\n",
        "      <th>Title</th>\n",
        "      <th>text</th>\n",
        "      <th>url</th>\n",
        "    </tr>\n",
        "  </thead>\n",
        "  <tbody>\n",
        "    <tr>\n",
        "      <th>0</th>\n",
        "      <td>  andrew43 (apan)</td>\n",
        "      <td> R_Language</td>\n",
        "      <td> Mon Dec 23 14:43:26 2013</td>\n",
        "      <td> Re: [\u554f\u984c] \u51fd\u6578\u7684output\u6392\u7248\uff0c\u8207\u4e00\u4e9b\u76f8\u95dc\u554f\u984c</td>\n",
        "      <td>   \\n\u4e0d\u78ba\u5b9a\u662f\u4e0d\u662f\u4f60\u8981\u7684\uff0c\u4f46\u4f60\u8a66\u8a66\u770b\uff1a\\n\\nsquare &lt;- function(x) ...</td>\n",
        "      <td> http://www.ptt.cc/bbs/R_Language/M.1387781010....</td>\n",
        "    </tr>\n",
        "    <tr>\n",
        "      <th>1</th>\n",
        "      <td> koai (\u53ef\u7b11\u7684\u81ea\u4ee5\u70ba...)</td>\n",
        "      <td> R_Language</td>\n",
        "      <td> Mon Dec 23 18:13:01 2013</td>\n",
        "      <td>           [\u554f\u984c] \u8acb\u6559 RHadoop \u9ad8\u624b</td>\n",
        "      <td>   \\n\\n[\u554f\u984c\u985e\u578b]:\\n\u7a0b\u5f0f\u8aee\u8a62(\u6211\u60f3\u7528R \u505a\u67d0\u4ef6\u4e8b\u60c5\uff0c\u4f46\u662f\u6211\u4e0d\u77e5\u9053\u8981\u600e\u9ebc\u7528R \u5beb\u51fa\u4f86...</td>\n",
        "      <td> http://www.ptt.cc/bbs/R_Language/M.1387793585....</td>\n",
        "    </tr>\n",
        "    <tr>\n",
        "      <th>2</th>\n",
        "      <td>      tai34 (tai)</td>\n",
        "      <td> R_Language</td>\n",
        "      <td> Thu Dec 26 00:19:28 2013</td>\n",
        "      <td>              [\u554f\u984c] gam \u8dd1\u51fa\u932f\u8aa4\u8a0a\u606f</td>\n",
        "      <td>   \\n[\u8edf\u9ad4\u719f\u6089\u5ea6]:\\n\u65b0\u624b(\u6c92\u5beb\u904e\u7a0b\u5f0f\uff0cR \u662f\u6211\u7684\u7b2c\u4e00\u6b21)\\n\\n[\u554f\u984c\u6558\u8ff0]:\\n\u6211...</td>\n",
        "      <td> http://www.ptt.cc/bbs/R_Language/M.1387988371....</td>\n",
        "    </tr>\n",
        "    <tr>\n",
        "      <th>3</th>\n",
        "      <td>      tai34 (tai)</td>\n",
        "      <td> R_Language</td>\n",
        "      <td> Fri Dec 27 19:16:25 2013</td>\n",
        "      <td>          Re: [\u554f\u984c] gam \u8dd1\u51fa\u932f\u8aa4\u8a0a\u606f</td>\n",
        "      <td>   \\n\u5c0f\u5f1f\u89e3\u6c7a\u554f\u984c\u4e86! (\u5176\u5be6\u5c31\u662f\u81ea\u5df1\u7c97\u5fc3\u7684 k \u503c\u6253\u932f\u4e86...\\n\\n\u53e6\u958b\u6587\u7ae0\u4f86\u56de\u8986 x...</td>\n",
        "      <td> http://www.ptt.cc/bbs/R_Language/M.1388142988....</td>\n",
        "    </tr>\n",
        "    <tr>\n",
        "      <th>4</th>\n",
        "      <td>      Bullone (\u7af9)</td>\n",
        "      <td> R_Language</td>\n",
        "      <td> Mon Dec 30 13:43:54 2013</td>\n",
        "      <td>                 [\u81ea\u4ecb]\u5404\u4f4d\u524d\u8f29\u5011\u5927\u5bb6\u597d</td>\n",
        "      <td>   \\n\u5927\u5bb6\u597d\uff0c\u6211\u662f frank\u3002\\n\\n\u76ee\u524d\u5728\u5c31\u8b80\u9577\u5e9a\u50b3\u91ab\u6240\uff0c\u56e0\u70ba\u5c0dopensource\u6709...</td>\n",
        "      <td> http://www.ptt.cc/bbs/R_Language/M.1388382237....</td>\n",
        "    </tr>\n",
        "  </tbody>\n",
        "</table>\n",
        "<p>5 rows \u00d7 6 columns</p>\n",
        "</div>"
       ],
       "metadata": {},
       "output_type": "pyout",
       "prompt_number": 3,
       "text": [
        "             Author       Board                      Time  \\\n",
        "0   andrew43 (apan)  R_Language  Mon Dec 23 14:43:26 2013   \n",
        "1  koai (\u53ef\u7b11\u7684\u81ea\u4ee5\u70ba...)  R_Language  Mon Dec 23 18:13:01 2013   \n",
        "2       tai34 (tai)  R_Language  Thu Dec 26 00:19:28 2013   \n",
        "3       tai34 (tai)  R_Language  Fri Dec 27 19:16:25 2013   \n",
        "4       Bullone (\u7af9)  R_Language  Mon Dec 30 13:43:54 2013   \n",
        "\n",
        "                          Title  \\\n",
        "0  Re: [\u554f\u984c] \u51fd\u6578\u7684output\u6392\u7248\uff0c\u8207\u4e00\u4e9b\u76f8\u95dc\u554f\u984c   \n",
        "1            [\u554f\u984c] \u8acb\u6559 RHadoop \u9ad8\u624b   \n",
        "2               [\u554f\u984c] gam \u8dd1\u51fa\u932f\u8aa4\u8a0a\u606f   \n",
        "3           Re: [\u554f\u984c] gam \u8dd1\u51fa\u932f\u8aa4\u8a0a\u606f   \n",
        "4                  [\u81ea\u4ecb]\u5404\u4f4d\u524d\u8f29\u5011\u5927\u5bb6\u597d   \n",
        "\n",
        "                                                text  \\\n",
        "0    \\n\u4e0d\u78ba\u5b9a\u662f\u4e0d\u662f\u4f60\u8981\u7684\uff0c\u4f46\u4f60\u8a66\u8a66\u770b\uff1a\\n\\nsquare <- function(x) ...   \n",
        "1    \\n\\n[\u554f\u984c\u985e\u578b]:\\n\u7a0b\u5f0f\u8aee\u8a62(\u6211\u60f3\u7528R \u505a\u67d0\u4ef6\u4e8b\u60c5\uff0c\u4f46\u662f\u6211\u4e0d\u77e5\u9053\u8981\u600e\u9ebc\u7528R \u5beb\u51fa\u4f86...   \n",
        "2    \\n[\u8edf\u9ad4\u719f\u6089\u5ea6]:\\n\u65b0\u624b(\u6c92\u5beb\u904e\u7a0b\u5f0f\uff0cR \u662f\u6211\u7684\u7b2c\u4e00\u6b21)\\n\\n[\u554f\u984c\u6558\u8ff0]:\\n\u6211...   \n",
        "3    \\n\u5c0f\u5f1f\u89e3\u6c7a\u554f\u984c\u4e86! (\u5176\u5be6\u5c31\u662f\u81ea\u5df1\u7c97\u5fc3\u7684 k \u503c\u6253\u932f\u4e86...\\n\\n\u53e6\u958b\u6587\u7ae0\u4f86\u56de\u8986 x...   \n",
        "4    \\n\u5927\u5bb6\u597d\uff0c\u6211\u662f frank\u3002\\n\\n\u76ee\u524d\u5728\u5c31\u8b80\u9577\u5e9a\u50b3\u91ab\u6240\uff0c\u56e0\u70ba\u5c0dopensource\u6709...   \n",
        "\n",
        "                                                 url  \n",
        "0  http://www.ptt.cc/bbs/R_Language/M.1387781010....  \n",
        "1  http://www.ptt.cc/bbs/R_Language/M.1387793585....  \n",
        "2  http://www.ptt.cc/bbs/R_Language/M.1387988371....  \n",
        "3  http://www.ptt.cc/bbs/R_Language/M.1388142988....  \n",
        "4  http://www.ptt.cc/bbs/R_Language/M.1388382237....  \n",
        "\n",
        "[5 rows x 6 columns]"
       ]
      }
     ],
     "prompt_number": 3
    },
    {
     "cell_type": "code",
     "collapsed": false,
     "input": [
      "import numpy as np\n"
     ],
     "language": "python",
     "metadata": {},
     "outputs": [],
     "prompt_number": 8
    },
    {
     "cell_type": "code",
     "collapsed": false,
     "input": [
      "type(article_df[\"Title\"])"
     ],
     "language": "python",
     "metadata": {},
     "outputs": [
      {
       "metadata": {},
       "output_type": "pyout",
       "prompt_number": 38,
       "text": [
        "pandas.core.series.Series"
       ]
      }
     ],
     "prompt_number": 38
    },
    {
     "cell_type": "code",
     "collapsed": false,
     "input": [
      "test = article_df[\"Title\"]"
     ],
     "language": "python",
     "metadata": {},
     "outputs": [],
     "prompt_number": 41
    },
    {
     "cell_type": "code",
     "collapsed": false,
     "input": [
      "test"
     ],
     "language": "python",
     "metadata": {},
     "outputs": [
      {
       "metadata": {},
       "output_type": "pyout",
       "prompt_number": 43,
       "text": [
        "True"
       ]
      }
     ],
     "prompt_number": 43
    },
    {
     "cell_type": "code",
     "collapsed": false,
     "input": [
      "test = article_df[article_df[\"Title\"].isnull()]\n",
      "\n",
      "# article_df[article_df[\"Title\"].notnull()]"
     ],
     "language": "python",
     "metadata": {},
     "outputs": [],
     "prompt_number": 55
    },
    {
     "cell_type": "code",
     "collapsed": false,
     "input": [
      "list(test[\"url\"])[0]"
     ],
     "language": "python",
     "metadata": {},
     "outputs": [
      {
       "metadata": {},
       "output_type": "pyout",
       "prompt_number": 63,
       "text": [
        "u'http://www.ptt.cc/bbs/R_Language/M.1364915485.A.3DC.html'"
       ]
      }
     ],
     "prompt_number": 63
    },
    {
     "cell_type": "code",
     "collapsed": false,
     "input": [
      "article_df[\"Board\"].unique()"
     ],
     "language": "python",
     "metadata": {},
     "outputs": [
      {
       "metadata": {},
       "output_type": "pyout",
       "prompt_number": 64,
       "text": [
        "array([u'R_Language', None, u'BuyTogether', u'Chat82gether',\n",
        "       u'218.164.101.31       (01/21 10:42)', u'LoL',\n",
        "       u'118.160.166.223      (10/26 01:47)', u'Python', u'Hate',\n",
        "       u'61.227.169.155       (11/13 14:19)',\n",
        "       u'1.164.35.184         (11/24 02:02)',\n",
        "       u'59.115.179.193       (05/05 11:57)',\n",
        "       u'122.126.134.236      (07/20 01:26)', u'SYSOP',\n",
        "       u'126.209.84.20        (11/24 08:14)',\n",
        "       u'140.113.191.230      (02/04 09:15)',\n",
        "       u'114.47.132.220       (10/09 18:21)',\n",
        "       u'111.240.233.98       (08/26 06:44)',\n",
        "       u'125.224.160.181      (03/24 08:00)',\n",
        "       u'114.44.6.121         (04/10 21:09)', u'C_and_CPP',\n",
        "       u'59.120.214.120       (09/19 02:20)', u'StarCraft',\n",
        "       u'76.203.169.88        (02/16 08:59)',\n",
        "       u'76.203.169.88        (02/16 08:55)',\n",
        "       u'76.203.169.88        (02/16 08:53)',\n",
        "       u'76.203.169.88        (02/16 08:58)',\n",
        "       u'76.203.169.88        (02/16 09:00)',\n",
        "       u'76.203.169.88        (02/16 09:04)',\n",
        "       u'76.200.181.58        (04/26 13:15)',\n",
        "       u'72.52.66.10          (12/30 19:32)', u'Food', u'job',\n",
        "       u'111.240.4.151        (01/16 11:46)', u'Soft_Job',\n",
        "       u'223.140.176.231      (12/23 19:52)', u'Tech_Job', u'StudyGroup',\n",
        "       u'36.224.99.152        (11/23 09:18)',\n",
        "       u'222.157.190.201      (11/12 12:35)',\n",
        "       u'61.229.73.102        (06/21 01:21)', u'Boy-Girl',\n",
        "       u'182.235.160.219      (07/28 10:57)',\n",
        "       u'125.227.97.72        (09/05 23:02)',\n",
        "       u'120.104.14.2         (06/21 15:20)',\n",
        "       u'61.230.55.177        (10/11 09:44)',\n",
        "       u'123.193.97.45        (09/26 18:30)',\n",
        "       u'140.119.60.95        (05/01 18:56)',\n",
        "       u'218.166.110.199      (11/15 09:55)',\n",
        "       u'59.105.82.77         (07/01 22:19)',\n",
        "       u'192.192.93.123       (08/12 09:16)',\n",
        "       u'123.194.152.211      (05/18 09:45)', u'Math', u'DAIC',\n",
        "       u'71.207.151.119       (09/18 09:14)'], dtype=object)"
       ]
      }
     ],
     "prompt_number": 64
    },
    {
     "cell_type": "code",
     "collapsed": false,
     "input": [],
     "language": "python",
     "metadata": {},
     "outputs": []
    }
   ],
   "metadata": {}
  }
 ]
}