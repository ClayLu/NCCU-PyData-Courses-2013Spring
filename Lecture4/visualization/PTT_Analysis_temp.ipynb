{
 "metadata": {
  "name": ""
 },
 "nbformat": 3,
 "nbformat_minor": 0,
 "worksheets": [
  {
   "cells": [
    {
     "cell_type": "code",
     "collapsed": false,
     "input": [
      "%matplotlib inline"
     ],
     "language": "python",
     "metadata": {},
     "outputs": [],
     "prompt_number": 1
    },
    {
     "cell_type": "code",
     "collapsed": false,
     "input": [
      "import matplotlib.pylab as pylab\n",
      "pylab.rcParams['figure.figsize'] = 16, 12"
     ],
     "language": "python",
     "metadata": {},
     "outputs": [],
     "prompt_number": 2
    },
    {
     "cell_type": "code",
     "collapsed": false,
     "input": [
      "from pymongo import MongoClient\n",
      "mongo_client = MongoClient()\n",
      "ptt_crawler_db = mongo_client.ptt_crawler_db\n",
      "ptt_article = ptt_crawler_db.ptt_article\n",
      "ptt_article_push = ptt_crawler_db.ptt_article_push\n"
     ],
     "language": "python",
     "metadata": {},
     "outputs": [],
     "prompt_number": 3
    },
    {
     "cell_type": "code",
     "collapsed": false,
     "input": [],
     "language": "python",
     "metadata": {},
     "outputs": []
    },
    {
     "cell_type": "code",
     "collapsed": false,
     "input": [
      "c3h3_articles_temp = ptt_article.find({\"user_id\":\"Cayley\"})"
     ],
     "language": "python",
     "metadata": {},
     "outputs": []
    },
    {
     "cell_type": "code",
     "collapsed": false,
     "input": [],
     "language": "python",
     "metadata": {},
     "outputs": []
    },
    {
     "cell_type": "code",
     "collapsed": false,
     "input": [],
     "language": "python",
     "metadata": {},
     "outputs": []
    },
    {
     "cell_type": "code",
     "collapsed": false,
     "input": [],
     "language": "python",
     "metadata": {},
     "outputs": []
    },
    {
     "cell_type": "code",
     "collapsed": false,
     "input": [
      "NBA_data_Temp = ptt_article.find({\"Board\":\"NBA\"})"
     ],
     "language": "python",
     "metadata": {},
     "outputs": [],
     "prompt_number": 56
    },
    {
     "cell_type": "code",
     "collapsed": false,
     "input": [
      "import pandas as pd"
     ],
     "language": "python",
     "metadata": {},
     "outputs": [],
     "prompt_number": 57
    },
    {
     "cell_type": "code",
     "collapsed": false,
     "input": [
      "NBA_df = pd.DataFrame(list(NBA_data_Temp))"
     ],
     "language": "python",
     "metadata": {},
     "outputs": [],
     "prompt_number": 58
    },
    {
     "cell_type": "code",
     "collapsed": false,
     "input": [
      "import datetime\n",
      "import re\n",
      "import numpy as np\n",
      "\n",
      "def convert_timestr(xx):\n",
      "    try:\n",
      "        \n",
      "        \n",
      "        yy = re.search(ur\"(:?Mon|Tue|Wed|Thu|Fri|Sat|Sun)\\s*(:?Jan|Feb|Mar|Apr|May|Jun|Jul|Aug|Sep|Oct|Nov|Dec)\\s*([0-9]+)\\s*([0-9+]+)\\s*:\\s*([0-9]{2})\\s*:\\s*([0-9]{2})\\s*([0-9]{4})\",\n",
      "                       xx)\n",
      "            \n",
      "        if yy != None:\n",
      "            temp = datetime.datetime.strptime(\" \".join(yy.groups()),\"%a %b %d %H %M %S %Y\")\n",
      "             \n",
      "        else:\n",
      "            yy = re.search(ur\"(?P<m>[0-1]*[0-9])/(?P<d>[0-9]+)/(?P<y>[0-9]{4})\\s*(?P<H>[0-9+]+)\\s*:\\s*(?P<M>[0-9]+)\\s*:\\s*(?P<S>[0-9]+)\",\"01/26/2005 12:34:22 Wed\").groupdict()\n",
      "        \n",
      "            temp = datetime.datetime(int(yy[\"y\"]),\n",
      "                                     int(yy[\"m\"]),\n",
      "                                     int(yy[\"d\"]),\n",
      "                                     int(yy[\"H\"]),\n",
      "                                     int(yy[\"M\"]),\n",
      "                                     int(yy[\"S\"]))\n",
      "#        print \"[successfully] yy = \",yy\n",
      "        return temp\n",
      "    \n",
      "    except Exception as e:\n",
      "#    except:\n",
      "        if np.isnan(xx):\n",
      "            pass\n",
      "#            print \"xx == np.nan\"\n",
      "        else:\n",
      "            print \"Error = \",e\n",
      "            print \"[fail] xx = \",xx\n",
      "            print  \"Error Formate:%s\" % xx\n",
      "        return \"Error Formate\""
     ],
     "language": "python",
     "metadata": {},
     "outputs": [],
     "prompt_number": 59
    },
    {
     "cell_type": "code",
     "collapsed": false,
     "input": [
      "articles_df = NBA_df\n",
      "articles_converted_time_col = articles_df[\"time\"].map(convert_timestr)\n",
      "\n",
      "articles_filtered_df = articles_df[articles_converted_time_col  != \"Error Formate\"]\n",
      "articles_filtered_df[\"datetime\"] = articles_converted_time_col[articles_converted_time_col  != \"Error Formate\"]\n",
      "articles_filtered_df = articles_filtered_df.set_index(\"datetime\")\n"
     ],
     "language": "python",
     "metadata": {},
     "outputs": [],
     "prompt_number": 63
    },
    {
     "cell_type": "code",
     "collapsed": false,
     "input": [
      "articles_filtered_df.head()"
     ],
     "language": "python",
     "metadata": {},
     "outputs": [
      {
       "html": [
        "<div style=\"max-height:1000px;max-width:1500px;overflow:auto;\">\n",
        "<table border=\"1\" class=\"dataframe\">\n",
        "  <thead>\n",
        "    <tr style=\"text-align: right;\">\n",
        "      <th></th>\n",
        "      <th>Board</th>\n",
        "      <th>_id</th>\n",
        "      <th>text</th>\n",
        "      <th>time</th>\n",
        "      <th>title</th>\n",
        "      <th>url</th>\n",
        "      <th>user</th>\n",
        "      <th>user_id</th>\n",
        "      <th>user_nickname</th>\n",
        "    </tr>\n",
        "    <tr>\n",
        "      <th>datetime</th>\n",
        "      <th></th>\n",
        "      <th></th>\n",
        "      <th></th>\n",
        "      <th></th>\n",
        "      <th></th>\n",
        "      <th></th>\n",
        "      <th></th>\n",
        "      <th></th>\n",
        "      <th></th>\n",
        "    </tr>\n",
        "  </thead>\n",
        "  <tbody>\n",
        "    <tr>\n",
        "      <th>2004-06-17 03:06:50</th>\n",
        "      <td> NBA</td>\n",
        "      <td> 52f3dcc874798d162f997959</td>\n",
        "      <td>   \\n\u203b \u5f15\u8ff0\u300awinas (\u52c7\u5f80\u76f4\u524d)\u300b\u4e4b\u9298\u8a00\uff1a:      \u4eca\u5929\u8a18\u8005\u6703 KOBE\u8aaa\u4ed6\u4e5f...</td>\n",
        "      <td> Thu Jun 17 03:06:50 2004</td>\n",
        "      <td> Re: [\u554f\u984c] kobe\u6703\u8d70\u55ce....</td>\n",
        "      <td> http://www.ptt.cc/bbs/NBA/M.1087439739.A.6B9.html</td>\n",
        "      <td>           joyboytoy (  )</td>\n",
        "      <td> joyboytoy</td>\n",
        "      <td>            </td>\n",
        "    </tr>\n",
        "    <tr>\n",
        "      <th>2004-06-18 03:54:48</th>\n",
        "      <td> NBA</td>\n",
        "      <td> 52f3dcc974798d30553cc429</td>\n",
        "      <td>   \\n\\n\u9127\u80af A.I\\n\u539f\u672c\u7684\u8cc7\u683c\u8cfd\u53ea\u5269\u4e0b\u9019\u4e8c\u500b\u4eba......\\n\\n\u65b0\u52a0\u5165\u7684\u6210\u54e1\u6709\u5091\u4f5b...</td>\n",
        "      <td> Fri Jun 18 03:54:48 2004</td>\n",
        "      <td>                 \u5922\u4e03\u540d\u55ae</td>\n",
        "      <td> http://www.ptt.cc/bbs/NBA/M.1087530196.A.8AF.html</td>\n",
        "      <td> sam369 (sss\ufffc \ufffc   \ufffc \ufffc[5~)</td>\n",
        "      <td>    sam369</td>\n",
        "      <td>         sss</td>\n",
        "    </tr>\n",
        "    <tr>\n",
        "      <th>2004-06-18 14:26:05</th>\n",
        "      <td> NBA</td>\n",
        "      <td> 52f3dcca74798d16309980ac</td>\n",
        "      <td>   \\n\u203b \u5f15\u8ff0\u300asam369 (sss\ufffc \ufffc   \ufffc \ufffc[5~)\u300b\u4e4b\u9298\u8a00\uff1a: \u53e6\u5916\u5c0f\u524d\u92d2\u611f...</td>\n",
        "      <td> Fri Jun 18 14:26:05 2004</td>\n",
        "      <td>             Re: \u5922\u4e03\u540d\u55ae</td>\n",
        "      <td> http://www.ptt.cc/bbs/NBA/M.1087568556.A.F93.html</td>\n",
        "      <td>        Arbus (\u624b\u6307\u5403\u863f\u8514 ~\"~)</td>\n",
        "      <td>     Arbus</td>\n",
        "      <td>        \u624b\u6307\u5403\u863f</td>\n",
        "    </tr>\n",
        "    <tr>\n",
        "      <th>2004-06-18 22:22:49</th>\n",
        "      <td> NBA</td>\n",
        "      <td> 52f3dccc74798d162f9979b2</td>\n",
        "      <td>   \\n\u203b \u5f15\u8ff0\u300adefense (hello)\u300b\u4e4b\u9298\u8a00\uff1a: \u203b \u5f15\u8ff0\u300aBIASONICA ...</td>\n",
        "      <td> Fri Jun 18 22:22:49 2004</td>\n",
        "      <td>        Re: Milicic\u9aa8\u6298</td>\n",
        "      <td> http://www.ptt.cc/bbs/NBA/M.1087595204.A.0FD.html</td>\n",
        "      <td>             BIASONICA ()</td>\n",
        "      <td> BIASONICA</td>\n",
        "      <td>            </td>\n",
        "    </tr>\n",
        "    <tr>\n",
        "      <th>2004-06-18 15:37:57</th>\n",
        "      <td> NBA</td>\n",
        "      <td> 52f3dccd74798d1631996145</td>\n",
        "      <td>   \\n\u203b \u5f15\u8ff0\u300asam369 (sss\ufffc \ufffc   \ufffc \ufffc[5~)\u300b\u4e4b\u9298\u8a00\uff1a: \u9127\u80af A.I...</td>\n",
        "      <td> Fri Jun 18 15:37:57 2004</td>\n",
        "      <td>             Re: \u5922\u4e03\u540d\u55ae</td>\n",
        "      <td> http://www.ptt.cc/bbs/NBA/M.1087571526.A.8A9.html</td>\n",
        "      <td>      star1 (\u7b2c\u4e00\u6b21\u9b54\u8853\u8868\u6f14\u4e0d\u7b97\u6210\u529f)</td>\n",
        "      <td>     star1</td>\n",
        "      <td> \u7b2c\u4e00\u6b21\u9b54\u8853\u8868\u6f14\u4e0d\u7b97\u6210\u529f</td>\n",
        "    </tr>\n",
        "  </tbody>\n",
        "</table>\n",
        "<p>5 rows \u00d7 9 columns</p>\n",
        "</div>"
       ],
       "metadata": {},
       "output_type": "pyout",
       "prompt_number": 66,
       "text": [
        "                    Board                       _id  \\\n",
        "datetime                                              \n",
        "2004-06-17 03:06:50   NBA  52f3dcc874798d162f997959   \n",
        "2004-06-18 03:54:48   NBA  52f3dcc974798d30553cc429   \n",
        "2004-06-18 14:26:05   NBA  52f3dcca74798d16309980ac   \n",
        "2004-06-18 22:22:49   NBA  52f3dccc74798d162f9979b2   \n",
        "2004-06-18 15:37:57   NBA  52f3dccd74798d1631996145   \n",
        "\n",
        "                                                                  text  \\\n",
        "datetime                                                                 \n",
        "2004-06-17 03:06:50    \\n\u203b \u5f15\u8ff0\u300awinas (\u52c7\u5f80\u76f4\u524d)\u300b\u4e4b\u9298\u8a00\uff1a:      \u4eca\u5929\u8a18\u8005\u6703 KOBE\u8aaa\u4ed6\u4e5f...   \n",
        "2004-06-18 03:54:48    \\n\\n\u9127\u80af A.I\\n\u539f\u672c\u7684\u8cc7\u683c\u8cfd\u53ea\u5269\u4e0b\u9019\u4e8c\u500b\u4eba......\\n\\n\u65b0\u52a0\u5165\u7684\u6210\u54e1\u6709\u5091\u4f5b...   \n",
        "2004-06-18 14:26:05    \\n\u203b \u5f15\u8ff0\u300asam369 (sss\ufffc \ufffc   \ufffc \ufffc[5~)\u300b\u4e4b\u9298\u8a00\uff1a: \u53e6\u5916\u5c0f\u524d\u92d2\u611f...   \n",
        "2004-06-18 22:22:49    \\n\u203b \u5f15\u8ff0\u300adefense (hello)\u300b\u4e4b\u9298\u8a00\uff1a: \u203b \u5f15\u8ff0\u300aBIASONICA ...   \n",
        "2004-06-18 15:37:57    \\n\u203b \u5f15\u8ff0\u300asam369 (sss\ufffc \ufffc   \ufffc \ufffc[5~)\u300b\u4e4b\u9298\u8a00\uff1a: \u9127\u80af A.I...   \n",
        "\n",
        "                                         time                 title  \\\n",
        "datetime                                                              \n",
        "2004-06-17 03:06:50  Thu Jun 17 03:06:50 2004  Re: [\u554f\u984c] kobe\u6703\u8d70\u55ce....   \n",
        "2004-06-18 03:54:48  Fri Jun 18 03:54:48 2004                  \u5922\u4e03\u540d\u55ae   \n",
        "2004-06-18 14:26:05  Fri Jun 18 14:26:05 2004              Re: \u5922\u4e03\u540d\u55ae   \n",
        "2004-06-18 22:22:49  Fri Jun 18 22:22:49 2004         Re: Milicic\u9aa8\u6298   \n",
        "2004-06-18 15:37:57  Fri Jun 18 15:37:57 2004              Re: \u5922\u4e03\u540d\u55ae   \n",
        "\n",
        "                                                                   url  \\\n",
        "datetime                                                                 \n",
        "2004-06-17 03:06:50  http://www.ptt.cc/bbs/NBA/M.1087439739.A.6B9.html   \n",
        "2004-06-18 03:54:48  http://www.ptt.cc/bbs/NBA/M.1087530196.A.8AF.html   \n",
        "2004-06-18 14:26:05  http://www.ptt.cc/bbs/NBA/M.1087568556.A.F93.html   \n",
        "2004-06-18 22:22:49  http://www.ptt.cc/bbs/NBA/M.1087595204.A.0FD.html   \n",
        "2004-06-18 15:37:57  http://www.ptt.cc/bbs/NBA/M.1087571526.A.8A9.html   \n",
        "\n",
        "                                         user    user_id user_nickname  \n",
        "datetime                                                                \n",
        "2004-06-17 03:06:50            joyboytoy (  )  joyboytoy                \n",
        "2004-06-18 03:54:48  sam369 (sss\ufffc \ufffc   \ufffc \ufffc[5~)     sam369           sss  \n",
        "2004-06-18 14:26:05         Arbus (\u624b\u6307\u5403\u863f\u8514 ~\"~)      Arbus          \u624b\u6307\u5403\u863f  \n",
        "2004-06-18 22:22:49              BIASONICA ()  BIASONICA                \n",
        "2004-06-18 15:37:57       star1 (\u7b2c\u4e00\u6b21\u9b54\u8853\u8868\u6f14\u4e0d\u7b97\u6210\u529f)      star1   \u7b2c\u4e00\u6b21\u9b54\u8853\u8868\u6f14\u4e0d\u7b97\u6210\u529f  \n",
        "\n",
        "[5 rows x 9 columns]"
       ]
      }
     ],
     "prompt_number": 66
    },
    {
     "cell_type": "code",
     "collapsed": false,
     "input": [
      "articles_clean_df = articles_filtered_df[[\"user_id\",\"board\",\"_id\"]]"
     ],
     "language": "python",
     "metadata": {},
     "outputs": [
      {
       "ename": "KeyError",
       "evalue": "\"['board'] not in index\"",
       "output_type": "pyerr",
       "traceback": [
        "\u001b[1;31m---------------------------------------------------------------------------\u001b[0m\n\u001b[1;31mKeyError\u001b[0m                                  Traceback (most recent call last)",
        "\u001b[1;32m<ipython-input-68-a5f9f792ca97>\u001b[0m in \u001b[0;36m<module>\u001b[1;34m()\u001b[0m\n\u001b[1;32m----> 1\u001b[1;33m \u001b[0marticles_clean_df\u001b[0m \u001b[1;33m=\u001b[0m \u001b[0marticles_filtered_df\u001b[0m\u001b[1;33m[\u001b[0m\u001b[1;33m[\u001b[0m\u001b[1;34m\"user_id\"\u001b[0m\u001b[1;33m,\u001b[0m\u001b[1;34m\"board\"\u001b[0m\u001b[1;33m,\u001b[0m\u001b[1;34m\"_id\"\u001b[0m\u001b[1;33m]\u001b[0m\u001b[1;33m]\u001b[0m\u001b[1;33m\u001b[0m\u001b[0m\n\u001b[0m",
        "\u001b[1;32m/usr/local/lib/python2.7/dist-packages/pandas/core/frame.pyc\u001b[0m in \u001b[0;36m__getitem__\u001b[1;34m(self, key)\u001b[0m\n\u001b[0;32m   1627\u001b[0m         \u001b[1;32mif\u001b[0m \u001b[0misinstance\u001b[0m\u001b[1;33m(\u001b[0m\u001b[0mkey\u001b[0m\u001b[1;33m,\u001b[0m \u001b[1;33m(\u001b[0m\u001b[0mSeries\u001b[0m\u001b[1;33m,\u001b[0m \u001b[0mnp\u001b[0m\u001b[1;33m.\u001b[0m\u001b[0mndarray\u001b[0m\u001b[1;33m,\u001b[0m \u001b[0mlist\u001b[0m\u001b[1;33m)\u001b[0m\u001b[1;33m)\u001b[0m\u001b[1;33m:\u001b[0m\u001b[1;33m\u001b[0m\u001b[0m\n\u001b[0;32m   1628\u001b[0m             \u001b[1;31m# either boolean or fancy integer index\u001b[0m\u001b[1;33m\u001b[0m\u001b[1;33m\u001b[0m\u001b[0m\n\u001b[1;32m-> 1629\u001b[1;33m             \u001b[1;32mreturn\u001b[0m \u001b[0mself\u001b[0m\u001b[1;33m.\u001b[0m\u001b[0m_getitem_array\u001b[0m\u001b[1;33m(\u001b[0m\u001b[0mkey\u001b[0m\u001b[1;33m)\u001b[0m\u001b[1;33m\u001b[0m\u001b[0m\n\u001b[0m\u001b[0;32m   1630\u001b[0m         \u001b[1;32melif\u001b[0m \u001b[0misinstance\u001b[0m\u001b[1;33m(\u001b[0m\u001b[0mkey\u001b[0m\u001b[1;33m,\u001b[0m \u001b[0mDataFrame\u001b[0m\u001b[1;33m)\u001b[0m\u001b[1;33m:\u001b[0m\u001b[1;33m\u001b[0m\u001b[0m\n\u001b[0;32m   1631\u001b[0m             \u001b[1;32mreturn\u001b[0m \u001b[0mself\u001b[0m\u001b[1;33m.\u001b[0m\u001b[0m_getitem_frame\u001b[0m\u001b[1;33m(\u001b[0m\u001b[0mkey\u001b[0m\u001b[1;33m)\u001b[0m\u001b[1;33m\u001b[0m\u001b[0m\n",
        "\u001b[1;32m/usr/local/lib/python2.7/dist-packages/pandas/core/frame.pyc\u001b[0m in \u001b[0;36m_getitem_array\u001b[1;34m(self, key)\u001b[0m\n\u001b[0;32m   1671\u001b[0m             \u001b[1;32mreturn\u001b[0m \u001b[0mself\u001b[0m\u001b[1;33m.\u001b[0m\u001b[0mtake\u001b[0m\u001b[1;33m(\u001b[0m\u001b[0mindexer\u001b[0m\u001b[1;33m,\u001b[0m \u001b[0maxis\u001b[0m\u001b[1;33m=\u001b[0m\u001b[1;36m0\u001b[0m\u001b[1;33m,\u001b[0m \u001b[0mconvert\u001b[0m\u001b[1;33m=\u001b[0m\u001b[0mFalse\u001b[0m\u001b[1;33m)\u001b[0m\u001b[1;33m\u001b[0m\u001b[0m\n\u001b[0;32m   1672\u001b[0m         \u001b[1;32melse\u001b[0m\u001b[1;33m:\u001b[0m\u001b[1;33m\u001b[0m\u001b[0m\n\u001b[1;32m-> 1673\u001b[1;33m             \u001b[0mindexer\u001b[0m \u001b[1;33m=\u001b[0m \u001b[0mself\u001b[0m\u001b[1;33m.\u001b[0m\u001b[0mix\u001b[0m\u001b[1;33m.\u001b[0m\u001b[0m_convert_to_indexer\u001b[0m\u001b[1;33m(\u001b[0m\u001b[0mkey\u001b[0m\u001b[1;33m,\u001b[0m \u001b[0maxis\u001b[0m\u001b[1;33m=\u001b[0m\u001b[1;36m1\u001b[0m\u001b[1;33m)\u001b[0m\u001b[1;33m\u001b[0m\u001b[0m\n\u001b[0m\u001b[0;32m   1674\u001b[0m             \u001b[1;32mreturn\u001b[0m \u001b[0mself\u001b[0m\u001b[1;33m.\u001b[0m\u001b[0mtake\u001b[0m\u001b[1;33m(\u001b[0m\u001b[0mindexer\u001b[0m\u001b[1;33m,\u001b[0m \u001b[0maxis\u001b[0m\u001b[1;33m=\u001b[0m\u001b[1;36m1\u001b[0m\u001b[1;33m,\u001b[0m \u001b[0mconvert\u001b[0m\u001b[1;33m=\u001b[0m\u001b[0mTrue\u001b[0m\u001b[1;33m)\u001b[0m\u001b[1;33m\u001b[0m\u001b[0m\n\u001b[0;32m   1675\u001b[0m \u001b[1;33m\u001b[0m\u001b[0m\n",
        "\u001b[1;32m/usr/local/lib/python2.7/dist-packages/pandas/core/indexing.pyc\u001b[0m in \u001b[0;36m_convert_to_indexer\u001b[1;34m(self, obj, axis, is_setter)\u001b[0m\n\u001b[0;32m    957\u001b[0m                     \u001b[1;32mif\u001b[0m \u001b[0misinstance\u001b[0m\u001b[1;33m(\u001b[0m\u001b[0mobj\u001b[0m\u001b[1;33m,\u001b[0m \u001b[0mtuple\u001b[0m\u001b[1;33m)\u001b[0m \u001b[1;32mand\u001b[0m \u001b[0mis_setter\u001b[0m\u001b[1;33m:\u001b[0m\u001b[1;33m\u001b[0m\u001b[0m\n\u001b[0;32m    958\u001b[0m                         \u001b[1;32mreturn\u001b[0m \u001b[1;33m{\u001b[0m\u001b[1;34m'key'\u001b[0m\u001b[1;33m:\u001b[0m \u001b[0mobj\u001b[0m\u001b[1;33m}\u001b[0m\u001b[1;33m\u001b[0m\u001b[0m\n\u001b[1;32m--> 959\u001b[1;33m                     \u001b[1;32mraise\u001b[0m \u001b[0mKeyError\u001b[0m\u001b[1;33m(\u001b[0m\u001b[1;34m'%s not in index'\u001b[0m \u001b[1;33m%\u001b[0m \u001b[0mobjarr\u001b[0m\u001b[1;33m[\u001b[0m\u001b[0mmask\u001b[0m\u001b[1;33m]\u001b[0m\u001b[1;33m)\u001b[0m\u001b[1;33m\u001b[0m\u001b[0m\n\u001b[0m\u001b[0;32m    960\u001b[0m \u001b[1;33m\u001b[0m\u001b[0m\n\u001b[0;32m    961\u001b[0m                 \u001b[1;32mreturn\u001b[0m \u001b[0mindexer\u001b[0m\u001b[1;33m\u001b[0m\u001b[0m\n",
        "\u001b[1;31mKeyError\u001b[0m: \"['board'] not in index\""
       ]
      }
     ],
     "prompt_number": 68
    },
    {
     "cell_type": "code",
     "collapsed": false,
     "input": [
      "articles_clean_df = articles_filtered_df[[\"user_id\",\"_id\"]]"
     ],
     "language": "python",
     "metadata": {},
     "outputs": [],
     "prompt_number": 71
    },
    {
     "cell_type": "code",
     "collapsed": false,
     "input": [
      "articles_clean_df.groupby([lambda x: x.year, lambda x: x.month,\"user_id\"]).size()"
     ],
     "language": "python",
     "metadata": {},
     "outputs": [
      {
       "metadata": {},
       "output_type": "pyout",
       "prompt_number": 72,
       "text": [
        "         user_id   \n",
        "2004  5  Price          2\n",
        "      6  AmuroNamie     1\n",
        "         Arbus          1\n",
        "         AtpRyan        1\n",
        "         BIASONICA      2\n",
        "         FURTURE        1\n",
        "         FWD            1\n",
        "         Frankaze       4\n",
        "         Hanglin        1\n",
        "         JustCold       1\n",
        "         LUDWIN         1\n",
        "         Lopez8         1\n",
        "         Lyotard       21\n",
        "         MHJH           1\n",
        "         Motola         2\n",
        "...\n",
        "2014  2  ted5566       1\n",
        "         tmacor1       2\n",
        "         tombow22      3\n",
        "         toro313       1\n",
        "         torrentz      6\n",
        "         tripleaAAA    1\n",
        "         truthPP       1\n",
        "         tsaiyu        1\n",
        "         ugreat        2\n",
        "         up2theair     2\n",
        "         whj0530       2\n",
        "         xpu           1\n",
        "         yeeoo         1\n",
        "         zxc25361      1\n",
        "         zzyyxx77      6\n",
        "Length: 8197, dtype: int64"
       ]
      }
     ],
     "prompt_number": 72
    },
    {
     "cell_type": "code",
     "collapsed": false,
     "input": [],
     "language": "python",
     "metadata": {},
     "outputs": []
    },
    {
     "cell_type": "code",
     "collapsed": false,
     "input": [
      "print NBA_df.shape\n",
      "NBA_df.head()"
     ],
     "language": "python",
     "metadata": {},
     "outputs": [
      {
       "output_type": "stream",
       "stream": "stdout",
       "text": [
        "(23350, 9)\n"
       ]
      },
      {
       "html": [
        "<div style=\"max-height:1000px;max-width:1500px;overflow:auto;\">\n",
        "<table border=\"1\" class=\"dataframe\">\n",
        "  <thead>\n",
        "    <tr style=\"text-align: right;\">\n",
        "      <th></th>\n",
        "      <th>Board</th>\n",
        "      <th>_id</th>\n",
        "      <th>text</th>\n",
        "      <th>time</th>\n",
        "      <th>title</th>\n",
        "      <th>url</th>\n",
        "      <th>user</th>\n",
        "      <th>user_id</th>\n",
        "      <th>user_nickname</th>\n",
        "    </tr>\n",
        "  </thead>\n",
        "  <tbody>\n",
        "    <tr>\n",
        "      <th>0</th>\n",
        "      <td> NBA</td>\n",
        "      <td> 52f3dcc874798d162f997959</td>\n",
        "      <td>   \\n\u203b \u5f15\u8ff0\u300awinas (\u52c7\u5f80\u76f4\u524d)\u300b\u4e4b\u9298\u8a00\uff1a:      \u4eca\u5929\u8a18\u8005\u6703 KOBE\u8aaa\u4ed6\u4e5f...</td>\n",
        "      <td> Thu Jun 17 03:06:50 2004</td>\n",
        "      <td> Re: [\u554f\u984c] kobe\u6703\u8d70\u55ce....</td>\n",
        "      <td> http://www.ptt.cc/bbs/NBA/M.1087439739.A.6B9.html</td>\n",
        "      <td>           joyboytoy (  )</td>\n",
        "      <td> joyboytoy</td>\n",
        "      <td>            </td>\n",
        "    </tr>\n",
        "    <tr>\n",
        "      <th>1</th>\n",
        "      <td> NBA</td>\n",
        "      <td> 52f3dcc974798d30553cc429</td>\n",
        "      <td>   \\n\\n\u9127\u80af A.I\\n\u539f\u672c\u7684\u8cc7\u683c\u8cfd\u53ea\u5269\u4e0b\u9019\u4e8c\u500b\u4eba......\\n\\n\u65b0\u52a0\u5165\u7684\u6210\u54e1\u6709\u5091\u4f5b...</td>\n",
        "      <td> Fri Jun 18 03:54:48 2004</td>\n",
        "      <td>                 \u5922\u4e03\u540d\u55ae</td>\n",
        "      <td> http://www.ptt.cc/bbs/NBA/M.1087530196.A.8AF.html</td>\n",
        "      <td> sam369 (sss\ufffc \ufffc   \ufffc \ufffc[5~)</td>\n",
        "      <td>    sam369</td>\n",
        "      <td>         sss</td>\n",
        "    </tr>\n",
        "    <tr>\n",
        "      <th>2</th>\n",
        "      <td> NBA</td>\n",
        "      <td> 52f3dcca74798d16309980ac</td>\n",
        "      <td>   \\n\u203b \u5f15\u8ff0\u300asam369 (sss\ufffc \ufffc   \ufffc \ufffc[5~)\u300b\u4e4b\u9298\u8a00\uff1a: \u53e6\u5916\u5c0f\u524d\u92d2\u611f...</td>\n",
        "      <td> Fri Jun 18 14:26:05 2004</td>\n",
        "      <td>             Re: \u5922\u4e03\u540d\u55ae</td>\n",
        "      <td> http://www.ptt.cc/bbs/NBA/M.1087568556.A.F93.html</td>\n",
        "      <td>        Arbus (\u624b\u6307\u5403\u863f\u8514 ~\"~)</td>\n",
        "      <td>     Arbus</td>\n",
        "      <td>        \u624b\u6307\u5403\u863f</td>\n",
        "    </tr>\n",
        "    <tr>\n",
        "      <th>3</th>\n",
        "      <td> NBA</td>\n",
        "      <td> 52f3dccc74798d162f9979b2</td>\n",
        "      <td>   \\n\u203b \u5f15\u8ff0\u300adefense (hello)\u300b\u4e4b\u9298\u8a00\uff1a: \u203b \u5f15\u8ff0\u300aBIASONICA ...</td>\n",
        "      <td> Fri Jun 18 22:22:49 2004</td>\n",
        "      <td>        Re: Milicic\u9aa8\u6298</td>\n",
        "      <td> http://www.ptt.cc/bbs/NBA/M.1087595204.A.0FD.html</td>\n",
        "      <td>             BIASONICA ()</td>\n",
        "      <td> BIASONICA</td>\n",
        "      <td>            </td>\n",
        "    </tr>\n",
        "    <tr>\n",
        "      <th>4</th>\n",
        "      <td> NBA</td>\n",
        "      <td> 52f3dccd74798d1631996145</td>\n",
        "      <td>   \\n\u203b \u5f15\u8ff0\u300asam369 (sss\ufffc \ufffc   \ufffc \ufffc[5~)\u300b\u4e4b\u9298\u8a00\uff1a: \u9127\u80af A.I...</td>\n",
        "      <td> Fri Jun 18 15:37:57 2004</td>\n",
        "      <td>             Re: \u5922\u4e03\u540d\u55ae</td>\n",
        "      <td> http://www.ptt.cc/bbs/NBA/M.1087571526.A.8A9.html</td>\n",
        "      <td>      star1 (\u7b2c\u4e00\u6b21\u9b54\u8853\u8868\u6f14\u4e0d\u7b97\u6210\u529f)</td>\n",
        "      <td>     star1</td>\n",
        "      <td> \u7b2c\u4e00\u6b21\u9b54\u8853\u8868\u6f14\u4e0d\u7b97\u6210\u529f</td>\n",
        "    </tr>\n",
        "  </tbody>\n",
        "</table>\n",
        "<p>5 rows \u00d7 9 columns</p>\n",
        "</div>"
       ],
       "metadata": {},
       "output_type": "pyout",
       "prompt_number": 20,
       "text": [
        "  Board                       _id  \\\n",
        "0   NBA  52f3dcc874798d162f997959   \n",
        "1   NBA  52f3dcc974798d30553cc429   \n",
        "2   NBA  52f3dcca74798d16309980ac   \n",
        "3   NBA  52f3dccc74798d162f9979b2   \n",
        "4   NBA  52f3dccd74798d1631996145   \n",
        "\n",
        "                                                text  \\\n",
        "0    \\n\u203b \u5f15\u8ff0\u300awinas (\u52c7\u5f80\u76f4\u524d)\u300b\u4e4b\u9298\u8a00\uff1a:      \u4eca\u5929\u8a18\u8005\u6703 KOBE\u8aaa\u4ed6\u4e5f...   \n",
        "1    \\n\\n\u9127\u80af A.I\\n\u539f\u672c\u7684\u8cc7\u683c\u8cfd\u53ea\u5269\u4e0b\u9019\u4e8c\u500b\u4eba......\\n\\n\u65b0\u52a0\u5165\u7684\u6210\u54e1\u6709\u5091\u4f5b...   \n",
        "2    \\n\u203b \u5f15\u8ff0\u300asam369 (sss\ufffc \ufffc   \ufffc \ufffc[5~)\u300b\u4e4b\u9298\u8a00\uff1a: \u53e6\u5916\u5c0f\u524d\u92d2\u611f...   \n",
        "3    \\n\u203b \u5f15\u8ff0\u300adefense (hello)\u300b\u4e4b\u9298\u8a00\uff1a: \u203b \u5f15\u8ff0\u300aBIASONICA ...   \n",
        "4    \\n\u203b \u5f15\u8ff0\u300asam369 (sss\ufffc \ufffc   \ufffc \ufffc[5~)\u300b\u4e4b\u9298\u8a00\uff1a: \u9127\u80af A.I...   \n",
        "\n",
        "                       time                 title  \\\n",
        "0  Thu Jun 17 03:06:50 2004  Re: [\u554f\u984c] kobe\u6703\u8d70\u55ce....   \n",
        "1  Fri Jun 18 03:54:48 2004                  \u5922\u4e03\u540d\u55ae   \n",
        "2  Fri Jun 18 14:26:05 2004              Re: \u5922\u4e03\u540d\u55ae   \n",
        "3  Fri Jun 18 22:22:49 2004         Re: Milicic\u9aa8\u6298   \n",
        "4  Fri Jun 18 15:37:57 2004              Re: \u5922\u4e03\u540d\u55ae   \n",
        "\n",
        "                                                 url  \\\n",
        "0  http://www.ptt.cc/bbs/NBA/M.1087439739.A.6B9.html   \n",
        "1  http://www.ptt.cc/bbs/NBA/M.1087530196.A.8AF.html   \n",
        "2  http://www.ptt.cc/bbs/NBA/M.1087568556.A.F93.html   \n",
        "3  http://www.ptt.cc/bbs/NBA/M.1087595204.A.0FD.html   \n",
        "4  http://www.ptt.cc/bbs/NBA/M.1087571526.A.8A9.html   \n",
        "\n",
        "                       user    user_id user_nickname  \n",
        "0            joyboytoy (  )  joyboytoy                \n",
        "1  sam369 (sss\ufffc \ufffc   \ufffc \ufffc[5~)     sam369           sss  \n",
        "2         Arbus (\u624b\u6307\u5403\u863f\u8514 ~\"~)      Arbus          \u624b\u6307\u5403\u863f  \n",
        "3              BIASONICA ()  BIASONICA                \n",
        "4       star1 (\u7b2c\u4e00\u6b21\u9b54\u8853\u8868\u6f14\u4e0d\u7b97\u6210\u529f)      star1   \u7b2c\u4e00\u6b21\u9b54\u8853\u8868\u6f14\u4e0d\u7b97\u6210\u529f  \n",
        "\n",
        "[5 rows x 9 columns]"
       ]
      }
     ],
     "prompt_number": 20
    },
    {
     "cell_type": "code",
     "collapsed": false,
     "input": [
      "NBA_Box_df = NBA_df[NBA_df[\"title\"].str.contains(\"BOX\").fillna(False)]"
     ],
     "language": "python",
     "metadata": {},
     "outputs": [],
     "prompt_number": 75
    },
    {
     "cell_type": "code",
     "collapsed": false,
     "input": [
      "import re\n",
      "print NBA_Box_df.shape\n",
      "\n",
      "scores_re = re.compile(\"(?P<s1>[0-9]+):(?P<s2>[0-9]+)\")\n",
      "\n",
      "test_data = NBA_Box_df[\"title\"].unique()[6]\n",
      "print \"test_data = \",test_data\n",
      "print scores_re.findall(test_data)\n",
      "\n",
      "scores_data_list = [map(int,yy[0]) for yy in map(lambda xx:scores_re.findall(xx),NBA_Box_df[\"title\"].unique()) if len(yy)>0]\n",
      "scores_df = pd.DataFrame(scores_data_list)\n",
      "scores_df.head()"
     ],
     "language": "python",
     "metadata": {},
     "outputs": [
      {
       "output_type": "stream",
       "stream": "stdout",
       "text": [
        "(293, 9)\n",
        "test_data =  [BOX ] Magic  92:98  Lakers\n",
        "[(u'92', u'98')]\n"
       ]
      },
      {
       "html": [
        "<div style=\"max-height:1000px;max-width:1500px;overflow:auto;\">\n",
        "<table border=\"1\" class=\"dataframe\">\n",
        "  <thead>\n",
        "    <tr style=\"text-align: right;\">\n",
        "      <th></th>\n",
        "      <th>0</th>\n",
        "      <th>1</th>\n",
        "    </tr>\n",
        "  </thead>\n",
        "  <tbody>\n",
        "    <tr>\n",
        "      <th>0</th>\n",
        "      <td> 102</td>\n",
        "      <td> 105</td>\n",
        "    </tr>\n",
        "    <tr>\n",
        "      <th>1</th>\n",
        "      <td> 122</td>\n",
        "      <td> 116</td>\n",
        "    </tr>\n",
        "    <tr>\n",
        "      <th>2</th>\n",
        "      <td>  92</td>\n",
        "      <td>  98</td>\n",
        "    </tr>\n",
        "    <tr>\n",
        "      <th>3</th>\n",
        "      <td>  91</td>\n",
        "      <td>  98</td>\n",
        "    </tr>\n",
        "    <tr>\n",
        "      <th>4</th>\n",
        "      <td>  90</td>\n",
        "      <td>  96</td>\n",
        "    </tr>\n",
        "  </tbody>\n",
        "</table>\n",
        "<p>5 rows \u00d7 2 columns</p>\n",
        "</div>"
       ],
       "metadata": {},
       "output_type": "pyout",
       "prompt_number": 112,
       "text": [
        "     0    1\n",
        "0  102  105\n",
        "1  122  116\n",
        "2   92   98\n",
        "3   91   98\n",
        "4   90   96\n",
        "\n",
        "[5 rows x 2 columns]"
       ]
      }
     ],
     "prompt_number": 112
    },
    {
     "cell_type": "code",
     "collapsed": false,
     "input": [
      "even_or_odd = np.r_[scores_df[0] % 2,scores_df[1] % 2]\n",
      "print len(np.nonzero(even_or_odd == 1)[0])\n",
      "print len(np.nonzero(even_or_odd == 0)[0])\n",
      "\n"
     ],
     "language": "python",
     "metadata": {},
     "outputs": [
      {
       "output_type": "stream",
       "stream": "stdout",
       "text": [
        "100\n",
        "112"
       ]
      },
      {
       "output_type": "stream",
       "stream": "stdout",
       "text": [
        "\n"
       ]
      }
     ],
     "prompt_number": 138
    },
    {
     "cell_type": "code",
     "collapsed": false,
     "input": [],
     "language": "python",
     "metadata": {},
     "outputs": []
    }
   ],
   "metadata": {}
  }
 ]
}