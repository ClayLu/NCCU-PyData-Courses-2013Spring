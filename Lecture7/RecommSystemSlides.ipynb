{
 "metadata": {
  "name": ""
 },
 "nbformat": 3,
 "nbformat_minor": 0,
 "worksheets": [
  {
   "cells": [
    {
     "cell_type": "markdown",
     "metadata": {
      "slideshow": {
       "slide_type": "slide"
      }
     },
     "source": [
      "Introduction to Recommendation System\n",
      "====================================="
     ]
    },
    {
     "cell_type": "markdown",
     "metadata": {},
     "source": [
      "## Chia-Chi Chang"
     ]
    },
    {
     "cell_type": "markdown",
     "metadata": {
      "slideshow": {
       "slide_type": "subslide"
      }
     },
     "source": [
      "# Outline:\n",
      "\n",
      "-  ## Examples of Recommendation System\n",
      "\n",
      "-  ## How Recommendation System interact with Users ?\n",
      "\n",
      "-  ## The Most Important Things in Recommendation System:\n",
      "    *  ### Time Effect\n",
      "    *  ### Content Complementary and Substitute\n",
      "    *  ### User Behavior \n",
      "    \n",
      "-  ## Different Bases of Recommendation System:\n",
      "    *  ### Time V.S. User : X After Y  (X,Y maybe View, Buy, Watch, Read, ...)\n",
      "    *  ### Time V.S. Content : Hotest and Complementary Topics\n",
      "    *  ### User V.S. Content : My Favorite \n",
      "    \n",
      "-  ## Mixture Recommendation System\n",
      "\n",
      "-  ## Unmixture Recommendation System\n"
     ]
    },
    {
     "cell_type": "markdown",
     "metadata": {
      "slideshow": {
       "slide_type": "slide"
      }
     },
     "source": [
      "# Examples of Recommendation System"
     ]
    },
    {
     "cell_type": "code",
     "collapsed": false,
     "input": [],
     "language": "python",
     "metadata": {},
     "outputs": []
    },
    {
     "cell_type": "markdown",
     "metadata": {
      "slideshow": {
       "slide_type": "slide"
      }
     },
     "source": [
      "# How Recommendation System interact with Users ?"
     ]
    },
    {
     "cell_type": "code",
     "collapsed": false,
     "input": [],
     "language": "python",
     "metadata": {},
     "outputs": []
    },
    {
     "cell_type": "markdown",
     "metadata": {
      "slideshow": {
       "slide_type": "slide"
      }
     },
     "source": [
      "# The Most Important Things in Recommendation System:\n",
      "\n",
      "*  ## Time Effect\n",
      "*  ## Content Complementary and Substitute\n",
      "*  ## User Behavior "
     ]
    },
    {
     "cell_type": "code",
     "collapsed": false,
     "input": [],
     "language": "python",
     "metadata": {},
     "outputs": []
    },
    {
     "cell_type": "markdown",
     "metadata": {
      "slideshow": {
       "slide_type": "subslide"
      }
     },
     "source": [
      "# Time Effect"
     ]
    },
    {
     "cell_type": "code",
     "collapsed": false,
     "input": [],
     "language": "python",
     "metadata": {},
     "outputs": []
    },
    {
     "cell_type": "markdown",
     "metadata": {
      "slideshow": {
       "slide_type": "subslide"
      }
     },
     "source": [
      "# Content Complementary and Substitute"
     ]
    },
    {
     "cell_type": "code",
     "collapsed": false,
     "input": [],
     "language": "python",
     "metadata": {},
     "outputs": []
    },
    {
     "cell_type": "markdown",
     "metadata": {
      "slideshow": {
       "slide_type": "subslide"
      }
     },
     "source": [
      "# User Behavior "
     ]
    },
    {
     "cell_type": "code",
     "collapsed": false,
     "input": [],
     "language": "python",
     "metadata": {},
     "outputs": []
    },
    {
     "cell_type": "markdown",
     "metadata": {
      "slideshow": {
       "slide_type": "slide"
      }
     },
     "source": [
      "# Different Bases of Recommendation System:\n",
      "    \n",
      "*  ## Time V.S. User : X After Y  (X,Y maybe View, Buy, Watch, Read, ...)\n",
      "*  ## Time V.S. Content : Hotest and Complementary Topics\n",
      "*  ## User V.S. Content : My Favorite "
     ]
    },
    {
     "cell_type": "markdown",
     "metadata": {
      "slideshow": {
       "slide_type": "subslide"
      }
     },
     "source": [
      "# Time V.S. User : X After Y  (X,Y maybe View, Buy, Watch, Read, ...)"
     ]
    },
    {
     "cell_type": "code",
     "collapsed": false,
     "input": [],
     "language": "python",
     "metadata": {},
     "outputs": []
    },
    {
     "cell_type": "markdown",
     "metadata": {
      "slideshow": {
       "slide_type": "subslide"
      }
     },
     "source": [
      "# Time V.S. Content : Hotest and Complementary Topics"
     ]
    },
    {
     "cell_type": "code",
     "collapsed": false,
     "input": [],
     "language": "python",
     "metadata": {},
     "outputs": []
    },
    {
     "cell_type": "markdown",
     "metadata": {
      "slideshow": {
       "slide_type": "subslide"
      }
     },
     "source": [
      "# User V.S. Content : My Favorite "
     ]
    },
    {
     "cell_type": "code",
     "collapsed": false,
     "input": [],
     "language": "python",
     "metadata": {},
     "outputs": []
    },
    {
     "cell_type": "markdown",
     "metadata": {
      "slideshow": {
       "slide_type": "slide"
      }
     },
     "source": [
      "# Mixture Recommendation System\n",
      "\n"
     ]
    },
    {
     "cell_type": "markdown",
     "metadata": {
      "slideshow": {
       "slide_type": "slide"
      }
     },
     "source": [
      "# Unmixture Recommendation System"
     ]
    },
    {
     "cell_type": "code",
     "collapsed": false,
     "input": [],
     "language": "python",
     "metadata": {},
     "outputs": []
    }
   ],
   "metadata": {}
  }
 ]
}