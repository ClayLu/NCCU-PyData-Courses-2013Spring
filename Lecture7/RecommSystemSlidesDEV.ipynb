{
 "metadata": {
  "name": ""
 },
 "nbformat": 3,
 "nbformat_minor": 0,
 "worksheets": [
  {
   "cells": [
    {
     "cell_type": "markdown",
     "metadata": {
      "slideshow": {
       "slide_type": "slide"
      }
     },
     "source": [
      "Introduction to Recommendation System\n",
      "====================================="
     ]
    },
    {
     "cell_type": "markdown",
     "metadata": {},
     "source": [
      "## Chia-Chi Chang"
     ]
    },
    {
     "cell_type": "markdown",
     "metadata": {
      "slideshow": {
       "slide_type": "subslide"
      }
     },
     "source": [
      "# Outline:\n",
      "\n",
      "-  ## Examples of Recommendation System\n",
      "\n",
      "-  ## How Recommendation System interact with Users ?\n",
      "\n",
      "-  ## The Most Important Things in Recommendation System:\n",
      "    *  ### Time Effect\n",
      "    *  ### Content Complementary and Substitute\n",
      "    *  ### User Behavior \n",
      "    \n",
      "-  ## Different Bases of Recommendation System:\n",
      "    *  ### Time V.S. User : X After Y  (X,Y maybe View, Buy, Watch, Read, ...)\n",
      "    *  ### Time V.S. Content : Hotest and Complementary Topics\n",
      "    *  ### User V.S. Content : My Favorite \n",
      "    \n",
      "-  ## Mixture Recommendation System\n",
      "\n",
      "-  ## Unmixture Recommendation System\n"
     ]
    },
    {
     "cell_type": "markdown",
     "metadata": {
      "slideshow": {
       "slide_type": "slide"
      }
     },
     "source": [
      "# Examples of Recommendation System"
     ]
    },
    {
     "cell_type": "code",
     "collapsed": false,
     "input": [],
     "language": "python",
     "metadata": {},
     "outputs": []
    },
    {
     "cell_type": "markdown",
     "metadata": {
      "slideshow": {
       "slide_type": "slide"
      }
     },
     "source": [
      "# How Recommendation System interact with Users ?"
     ]
    },
    {
     "cell_type": "code",
     "collapsed": false,
     "input": [],
     "language": "python",
     "metadata": {},
     "outputs": []
    },
    {
     "cell_type": "markdown",
     "metadata": {
      "slideshow": {
       "slide_type": "slide"
      }
     },
     "source": [
      "# The Most Important Things in Recommendation System:\n",
      "\n",
      "*  ## Time Effect\n",
      "*  ## Content Complementary and Substitute\n",
      "*  ## User Behavior "
     ]
    },
    {
     "cell_type": "code",
     "collapsed": false,
     "input": [],
     "language": "python",
     "metadata": {},
     "outputs": []
    },
    {
     "cell_type": "markdown",
     "metadata": {
      "slideshow": {
       "slide_type": "subslide"
      }
     },
     "source": [
      "# Time Effect"
     ]
    },
    {
     "cell_type": "code",
     "collapsed": false,
     "input": [],
     "language": "python",
     "metadata": {},
     "outputs": []
    },
    {
     "cell_type": "markdown",
     "metadata": {
      "slideshow": {
       "slide_type": "subslide"
      }
     },
     "source": [
      "# Content Complementary and Substitute"
     ]
    },
    {
     "cell_type": "markdown",
     "metadata": {},
     "source": [
      "-  ##[Substitute good](http://en.wikipedia.org/wiki/Substitute_good)\n",
      "\n",
      "![](http://upload.wikimedia.org/wikipedia/commons/thumb/5/5e/Indifference-curves-perfect-substitutes.svg/220px-Indifference-curves-perfect-substitutes.svg.png)\n",
      "\n",
      "-  ##[Complementary good](http://en.wikipedia.org/wiki/Complementary_good)\n",
      "\n",
      "![](http://upload.wikimedia.org/wikipedia/commons/thumb/c/cd/Indifference-curves-perfect-complements.svg/220px-Indifference-curves-perfect-complements.svg.png)\n"
     ]
    },
    {
     "cell_type": "markdown",
     "metadata": {
      "slideshow": {
       "slide_type": "subslide"
      }
     },
     "source": [
      "# User Behavior "
     ]
    },
    {
     "cell_type": "code",
     "collapsed": false,
     "input": [],
     "language": "python",
     "metadata": {},
     "outputs": []
    },
    {
     "cell_type": "markdown",
     "metadata": {
      "slideshow": {
       "slide_type": "slide"
      }
     },
     "source": [
      "# Different Bases of Recommendation System:\n",
      "    \n",
      "*  ## Time V.S. User : X After Y  (X,Y maybe View, Buy, Watch, Read, ...)\n",
      "*  ## Time V.S. Content : Hotest and Complementary Topics\n",
      "*  ## User V.S. Content : My Favorite "
     ]
    },
    {
     "cell_type": "markdown",
     "metadata": {
      "slideshow": {
       "slide_type": "subslide"
      }
     },
     "source": [
      "# Time V.S. User : X After Y  (X,Y maybe View, Buy, Watch, Read, ...)"
     ]
    },
    {
     "cell_type": "code",
     "collapsed": false,
     "input": [],
     "language": "python",
     "metadata": {},
     "outputs": []
    },
    {
     "cell_type": "markdown",
     "metadata": {
      "slideshow": {
       "slide_type": "subslide"
      }
     },
     "source": [
      "# Time V.S. Content : Hotest and Complementary Topics"
     ]
    },
    {
     "cell_type": "code",
     "collapsed": false,
     "input": [],
     "language": "python",
     "metadata": {},
     "outputs": []
    },
    {
     "cell_type": "markdown",
     "metadata": {
      "slideshow": {
       "slide_type": "subslide"
      }
     },
     "source": [
      "# User V.S. Content : My Favorite "
     ]
    },
    {
     "cell_type": "code",
     "collapsed": false,
     "input": [],
     "language": "python",
     "metadata": {},
     "outputs": []
    },
    {
     "cell_type": "markdown",
     "metadata": {
      "slideshow": {
       "slide_type": "slide"
      }
     },
     "source": [
      "# Mixture Recommendation System\n",
      "\n"
     ]
    },
    {
     "cell_type": "markdown",
     "metadata": {
      "slideshow": {
       "slide_type": "slide"
      }
     },
     "source": [
      "# Unmixture Recommendation System"
     ]
    },
    {
     "cell_type": "code",
     "collapsed": false,
     "input": [],
     "language": "python",
     "metadata": {},
     "outputs": [],
     "prompt_number": 7
    },
    {
     "cell_type": "code",
     "collapsed": false,
     "input": [],
     "language": "python",
     "metadata": {},
     "outputs": [],
     "prompt_number": 7
    },
    {
     "cell_type": "code",
     "collapsed": false,
     "input": [
      "from pymongo import MongoClient\n",
      "mongo_client = MongoClient()\n",
      "ptt_crawler_db = mongo_client.ptt_crawler_db\n",
      "ptt_article = ptt_crawler_db.ptt_article\n",
      "ptt_article_push = ptt_crawler_db.ptt_article_push"
     ],
     "language": "python",
     "metadata": {},
     "outputs": [],
     "prompt_number": 8
    },
    {
     "cell_type": "code",
     "collapsed": false,
     "input": [
      "import pandas as pd \n",
      "\n",
      "# articles_df = pd.DataFrame(list(ptt_article.find({})))\n",
      "articles_df = pd.DataFrame(list(ptt_article.find({\"Board\":{\"$in\":[\"Accounting\",'Physics']}})))"
     ],
     "language": "python",
     "metadata": {},
     "outputs": [],
     "prompt_number": 7
    },
    {
     "cell_type": "code",
     "collapsed": false,
     "input": [],
     "language": "python",
     "metadata": {},
     "outputs": [],
     "prompt_number": 7
    },
    {
     "cell_type": "code",
     "collapsed": false,
     "input": [],
     "language": "python",
     "metadata": {},
     "outputs": []
    }
   ],
   "metadata": {}
  }
 ]
}