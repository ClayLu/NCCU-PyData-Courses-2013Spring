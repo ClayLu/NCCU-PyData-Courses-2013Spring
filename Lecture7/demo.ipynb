{
 "metadata": {
  "celltoolbar": "Slideshow",
  "name": ""
 },
 "nbformat": 3,
 "nbformat_minor": 0,
 "worksheets": [
  {
   "cells": [
    {
     "cell_type": "code",
     "collapsed": false,
     "input": [
      "%pylab inline"
     ],
     "language": "python",
     "metadata": {
      "slideshow": {
       "slide_type": "skip"
      }
     },
     "outputs": [
      {
       "output_type": "stream",
       "stream": "stdout",
       "text": [
        "Populating the interactive namespace from numpy and matplotlib\n"
       ]
      }
     ],
     "prompt_number": 2
    },
    {
     "cell_type": "markdown",
     "metadata": {
      "slideshow": {
       "slide_type": "slide"
      }
     },
     "source": [
      "# Demo - more beer!"
     ]
    },
    {
     "cell_type": "markdown",
     "metadata": {
      "slideshow": {
       "slide_type": "fragment"
      }
     },
     "source": [
      "## by Content Similarity"
     ]
    },
    {
     "cell_type": "code",
     "collapsed": false,
     "input": [
      "import numpy as np\n",
      "import pandas as pd\n",
      "import matplotlib as plt"
     ],
     "language": "python",
     "metadata": {
      "slideshow": {
       "slide_type": "slide"
      }
     },
     "outputs": [],
     "prompt_number": 3
    },
    {
     "cell_type": "markdown",
     "metadata": {
      "slideshow": {
       "slide_type": "slide"
      }
     },
     "source": [
      "# Let's load the Data"
     ]
    },
    {
     "cell_type": "code",
     "collapsed": false,
     "input": [
      "df_full = pd.read_csv('beer_reviews/beer_reviews2.csv')\n",
      "df_full.shape"
     ],
     "language": "python",
     "metadata": {},
     "outputs": [
      {
       "metadata": {},
       "output_type": "pyout",
       "prompt_number": 4,
       "text": [
        "(64471, 14)"
       ]
      }
     ],
     "prompt_number": 4
    },
    {
     "cell_type": "markdown",
     "metadata": {
      "slideshow": {
       "slide_type": "slide"
      }
     },
     "source": [
      "# Glance the data"
     ]
    },
    {
     "cell_type": "code",
     "collapsed": false,
     "input": [
      "df_full.head()"
     ],
     "language": "python",
     "metadata": {},
     "outputs": [
      {
       "html": [
        "<div style=\"max-height:1000px;max-width:1500px;overflow:auto;\">\n",
        "<table border=\"1\" class=\"dataframe\">\n",
        "  <thead>\n",
        "    <tr style=\"text-align: right;\">\n",
        "      <th></th>\n",
        "      <th>Unnamed: 0</th>\n",
        "      <th>brewery_id</th>\n",
        "      <th>brewery_name</th>\n",
        "      <th>review_time</th>\n",
        "      <th>review_overall</th>\n",
        "      <th>review_aroma</th>\n",
        "      <th>review_appearance</th>\n",
        "      <th>review_profilename</th>\n",
        "      <th>beer_style</th>\n",
        "      <th>review_palate</th>\n",
        "      <th>review_taste</th>\n",
        "      <th>beer_name</th>\n",
        "      <th>beer_abv</th>\n",
        "      <th>beer_beerid</th>\n",
        "    </tr>\n",
        "  </thead>\n",
        "  <tbody>\n",
        "    <tr>\n",
        "      <th>0</th>\n",
        "      <td>  798</td>\n",
        "      <td>  1075</td>\n",
        "      <td>         Caldera Brewing Company</td>\n",
        "      <td> 1212201268</td>\n",
        "      <td> 4.5</td>\n",
        "      <td> 4.5</td>\n",
        "      <td> 4.0</td>\n",
        "      <td>          grumpy</td>\n",
        "      <td> American Double / Imperial Stout</td>\n",
        "      <td> 4.0</td>\n",
        "      <td> 4.5</td>\n",
        "      <td> Imperial Stout</td>\n",
        "      <td> NaN</td>\n",
        "      <td> 42964</td>\n",
        "    </tr>\n",
        "    <tr>\n",
        "      <th>1</th>\n",
        "      <td> 1559</td>\n",
        "      <td> 11715</td>\n",
        "      <td>         Destiny Brewing Company</td>\n",
        "      <td> 1137124057</td>\n",
        "      <td> 4.0</td>\n",
        "      <td> 3.5</td>\n",
        "      <td> 4.0</td>\n",
        "      <td> blitheringidiot</td>\n",
        "      <td>          American Pale Ale (APA)</td>\n",
        "      <td> 3.5</td>\n",
        "      <td> 3.5</td>\n",
        "      <td>       Pale Ale</td>\n",
        "      <td> 4.5</td>\n",
        "      <td> 26420</td>\n",
        "    </tr>\n",
        "    <tr>\n",
        "      <th>2</th>\n",
        "      <td> 1560</td>\n",
        "      <td> 11715</td>\n",
        "      <td>         Destiny Brewing Company</td>\n",
        "      <td> 1129504403</td>\n",
        "      <td> 4.0</td>\n",
        "      <td> 2.5</td>\n",
        "      <td> 4.0</td>\n",
        "      <td>     NeroFiddled</td>\n",
        "      <td>          American Pale Ale (APA)</td>\n",
        "      <td> 4.0</td>\n",
        "      <td> 3.5</td>\n",
        "      <td>       Pale Ale</td>\n",
        "      <td> 4.5</td>\n",
        "      <td> 26420</td>\n",
        "    </tr>\n",
        "    <tr>\n",
        "      <th>3</th>\n",
        "      <td> 2225</td>\n",
        "      <td> 14589</td>\n",
        "      <td> Rustic Rail Grill And Brewhouse</td>\n",
        "      <td> 1158175192</td>\n",
        "      <td> 3.0</td>\n",
        "      <td> 1.5</td>\n",
        "      <td> 4.5</td>\n",
        "      <td>  DaPeculierDane</td>\n",
        "      <td>          American Pale Ale (APA)</td>\n",
        "      <td> 2.0</td>\n",
        "      <td> 1.5</td>\n",
        "      <td>       Pale Ale</td>\n",
        "      <td> NaN</td>\n",
        "      <td> 32733</td>\n",
        "    </tr>\n",
        "    <tr>\n",
        "      <th>4</th>\n",
        "      <td> 2382</td>\n",
        "      <td> 21138</td>\n",
        "      <td>           Growler Craft Brewery</td>\n",
        "      <td> 1294696781</td>\n",
        "      <td> 3.0</td>\n",
        "      <td> 3.0</td>\n",
        "      <td> 4.0</td>\n",
        "      <td>  brewerburgundy</td>\n",
        "      <td>          American Pale Ale (APA)</td>\n",
        "      <td> 3.0</td>\n",
        "      <td> 3.5</td>\n",
        "      <td>       Pale Ale</td>\n",
        "      <td> 5.8</td>\n",
        "      <td> 65210</td>\n",
        "    </tr>\n",
        "  </tbody>\n",
        "</table>\n",
        "<p>5 rows \u00d7 14 columns</p>\n",
        "</div>"
       ],
       "metadata": {},
       "output_type": "pyout",
       "prompt_number": 5,
       "text": [
        "   Unnamed: 0  brewery_id                     brewery_name  review_time  \\\n",
        "0         798        1075          Caldera Brewing Company   1212201268   \n",
        "1        1559       11715          Destiny Brewing Company   1137124057   \n",
        "2        1560       11715          Destiny Brewing Company   1129504403   \n",
        "3        2225       14589  Rustic Rail Grill And Brewhouse   1158175192   \n",
        "4        2382       21138            Growler Craft Brewery   1294696781   \n",
        "\n",
        "   review_overall  review_aroma  review_appearance review_profilename  \\\n",
        "0             4.5           4.5                4.0             grumpy   \n",
        "1             4.0           3.5                4.0    blitheringidiot   \n",
        "2             4.0           2.5                4.0        NeroFiddled   \n",
        "3             3.0           1.5                4.5     DaPeculierDane   \n",
        "4             3.0           3.0                4.0     brewerburgundy   \n",
        "\n",
        "                         beer_style  review_palate  review_taste  \\\n",
        "0  American Double / Imperial Stout            4.0           4.5   \n",
        "1           American Pale Ale (APA)            3.5           3.5   \n",
        "2           American Pale Ale (APA)            4.0           3.5   \n",
        "3           American Pale Ale (APA)            2.0           1.5   \n",
        "4           American Pale Ale (APA)            3.0           3.5   \n",
        "\n",
        "        beer_name  beer_abv  beer_beerid  \n",
        "0  Imperial Stout       NaN        42964  \n",
        "1        Pale Ale       4.5        26420  \n",
        "2        Pale Ale       4.5        26420  \n",
        "3        Pale Ale       NaN        32733  \n",
        "4        Pale Ale       5.8        65210  \n",
        "\n",
        "[5 rows x 14 columns]"
       ]
      }
     ],
     "prompt_number": 5
    },
    {
     "cell_type": "markdown",
     "metadata": {
      "slideshow": {
       "slide_type": "slide"
      }
     },
     "source": [
      "# Simplize for demo"
     ]
    },
    {
     "cell_type": "code",
     "collapsed": false,
     "input": [
      "df = df_full[['review_profilename', 'beer_name', 'review_overall', 'review_aroma', 'review_appearance', 'review_palate']]\n",
      "df.columns = ['reviewer', 'beer', 'overall', 'aroma', 'appearance', 'palate']"
     ],
     "language": "python",
     "metadata": {
      "slideshow": {
       "slide_type": "fragment"
      }
     },
     "outputs": [],
     "prompt_number": 6
    },
    {
     "cell_type": "code",
     "collapsed": false,
     "input": [
      "df.head(10)"
     ],
     "language": "python",
     "metadata": {
      "slideshow": {
       "slide_type": "fragment"
      }
     },
     "outputs": [
      {
       "html": [
        "<div style=\"max-height:1000px;max-width:1500px;overflow:auto;\">\n",
        "<table border=\"1\" class=\"dataframe\">\n",
        "  <thead>\n",
        "    <tr style=\"text-align: right;\">\n",
        "      <th></th>\n",
        "      <th>reviewer</th>\n",
        "      <th>beer</th>\n",
        "      <th>overall</th>\n",
        "      <th>aroma</th>\n",
        "      <th>appearance</th>\n",
        "      <th>palate</th>\n",
        "    </tr>\n",
        "  </thead>\n",
        "  <tbody>\n",
        "    <tr>\n",
        "      <th>0</th>\n",
        "      <td>          grumpy</td>\n",
        "      <td>           Imperial Stout</td>\n",
        "      <td> 4.5</td>\n",
        "      <td> 4.5</td>\n",
        "      <td> 4.0</td>\n",
        "      <td> 4.0</td>\n",
        "    </tr>\n",
        "    <tr>\n",
        "      <th>1</th>\n",
        "      <td> blitheringidiot</td>\n",
        "      <td>                 Pale Ale</td>\n",
        "      <td> 4.0</td>\n",
        "      <td> 3.5</td>\n",
        "      <td> 4.0</td>\n",
        "      <td> 3.5</td>\n",
        "    </tr>\n",
        "    <tr>\n",
        "      <th>2</th>\n",
        "      <td>     NeroFiddled</td>\n",
        "      <td>                 Pale Ale</td>\n",
        "      <td> 4.0</td>\n",
        "      <td> 2.5</td>\n",
        "      <td> 4.0</td>\n",
        "      <td> 4.0</td>\n",
        "    </tr>\n",
        "    <tr>\n",
        "      <th>3</th>\n",
        "      <td>  DaPeculierDane</td>\n",
        "      <td>                 Pale Ale</td>\n",
        "      <td> 3.0</td>\n",
        "      <td> 1.5</td>\n",
        "      <td> 4.5</td>\n",
        "      <td> 2.0</td>\n",
        "    </tr>\n",
        "    <tr>\n",
        "      <th>4</th>\n",
        "      <td>  brewerburgundy</td>\n",
        "      <td>                 Pale Ale</td>\n",
        "      <td> 3.0</td>\n",
        "      <td> 3.0</td>\n",
        "      <td> 4.0</td>\n",
        "      <td> 3.0</td>\n",
        "    </tr>\n",
        "    <tr>\n",
        "      <th>5</th>\n",
        "      <td>          chalsk</td>\n",
        "      <td> Founders Breakfast Stout</td>\n",
        "      <td> 4.0</td>\n",
        "      <td> 4.0</td>\n",
        "      <td> 4.5</td>\n",
        "      <td> 4.0</td>\n",
        "    </tr>\n",
        "    <tr>\n",
        "      <th>6</th>\n",
        "      <td>       pixieskid</td>\n",
        "      <td>                 Pale Ale</td>\n",
        "      <td> 4.0</td>\n",
        "      <td> 4.0</td>\n",
        "      <td> 4.0</td>\n",
        "      <td> 4.0</td>\n",
        "    </tr>\n",
        "    <tr>\n",
        "      <th>7</th>\n",
        "      <td>       Spikester</td>\n",
        "      <td>                 Pale Ale</td>\n",
        "      <td> 4.5</td>\n",
        "      <td> 3.5</td>\n",
        "      <td> 4.0</td>\n",
        "      <td> 4.0</td>\n",
        "    </tr>\n",
        "    <tr>\n",
        "      <th>8</th>\n",
        "      <td>           tbeck</td>\n",
        "      <td>                 Pale Ale</td>\n",
        "      <td> 4.0</td>\n",
        "      <td> 4.5</td>\n",
        "      <td> 4.0</td>\n",
        "      <td> 3.5</td>\n",
        "    </tr>\n",
        "    <tr>\n",
        "      <th>9</th>\n",
        "      <td>        Prosper0</td>\n",
        "      <td>                 Pale Ale</td>\n",
        "      <td> 4.0</td>\n",
        "      <td> 4.0</td>\n",
        "      <td> 4.0</td>\n",
        "      <td> 3.0</td>\n",
        "    </tr>\n",
        "  </tbody>\n",
        "</table>\n",
        "<p>10 rows \u00d7 6 columns</p>\n",
        "</div>"
       ],
       "metadata": {},
       "output_type": "pyout",
       "prompt_number": 7,
       "text": [
        "          reviewer                      beer  overall  aroma  appearance  \\\n",
        "0           grumpy            Imperial Stout      4.5    4.5         4.0   \n",
        "1  blitheringidiot                  Pale Ale      4.0    3.5         4.0   \n",
        "2      NeroFiddled                  Pale Ale      4.0    2.5         4.0   \n",
        "3   DaPeculierDane                  Pale Ale      3.0    1.5         4.5   \n",
        "4   brewerburgundy                  Pale Ale      3.0    3.0         4.0   \n",
        "5           chalsk  Founders Breakfast Stout      4.0    4.0         4.5   \n",
        "6        pixieskid                  Pale Ale      4.0    4.0         4.0   \n",
        "7        Spikester                  Pale Ale      4.5    3.5         4.0   \n",
        "8            tbeck                  Pale Ale      4.0    4.5         4.0   \n",
        "9         Prosper0                  Pale Ale      4.0    4.0         4.0   \n",
        "\n",
        "   palate  \n",
        "0     4.0  \n",
        "1     3.5  \n",
        "2     4.0  \n",
        "3     2.0  \n",
        "4     3.0  \n",
        "5     4.0  \n",
        "6     4.0  \n",
        "7     4.0  \n",
        "8     3.5  \n",
        "9     3.0  \n",
        "\n",
        "[10 rows x 6 columns]"
       ]
      }
     ],
     "prompt_number": 7
    },
    {
     "cell_type": "markdown",
     "metadata": {
      "slideshow": {
       "slide_type": "slide"
      }
     },
     "source": [
      "# How many viewers for each beer?"
     ]
    },
    {
     "cell_type": "code",
     "collapsed": false,
     "input": [
      "df.beer.value_counts()"
     ],
     "language": "python",
     "metadata": {
      "slideshow": {
       "slide_type": "fragment"
      }
     },
     "outputs": [
      {
       "metadata": {},
       "output_type": "pyout",
       "prompt_number": 8,
       "text": [
        "90 Minute IPA                                 3290\n",
        "India Pale Ale                                3130\n",
        "Old Rasputin Russian Imperial Stout           3111\n",
        "Sierra Nevada Celebration Ale                 3000\n",
        "Two Hearted Ale                               2728\n",
        "Stone Ruination IPA                           2704\n",
        "Arrogant Bastard Ale                          2704\n",
        "Sierra Nevada Pale Ale                        2587\n",
        "Stone IPA (India Pale Ale)                    2575\n",
        "Pliny The Elder                               2527\n",
        "Founders Breakfast Stout                      2502\n",
        "Pale Ale                                      2500\n",
        "Sierra Nevada Bigfoot Barleywine Style Ale    2492\n",
        "La Fin Du Monde                               2483\n",
        "60 Minute IPA                                 2475\n",
        "Storm King Stout                              2452\n",
        "Duvel                                         2450\n",
        "Brooklyn Black Chocolate Stout                2447\n",
        "Bell's Hopslam Ale                            2443\n",
        "Samuel Adams Boston Lager                     2418\n",
        "Stone Imperial Russian Stout                  2329\n",
        "HopDevil Ale                                  2302\n",
        "Chocolate Stout                               2292\n",
        "Imperial Stout                                2273\n",
        "Young's Double Chocolate Stout                2257\n",
        "dtype: int64"
       ]
      }
     ],
     "prompt_number": 8
    },
    {
     "cell_type": "code",
     "collapsed": false,
     "input": [],
     "language": "python",
     "metadata": {},
     "outputs": [],
     "prompt_number": 9
    },
    {
     "cell_type": "markdown",
     "metadata": {
      "slideshow": {
       "slide_type": "slide"
      }
     },
     "source": [
      "# Let's begin by checking the similarity of first two beer."
     ]
    },
    {
     "cell_type": "code",
     "collapsed": false,
     "input": [
      "beer1 = '90 Minute IPA'  \n",
      "beer2 = 'India Pale Ale'"
     ],
     "language": "python",
     "metadata": {
      "slideshow": {
       "slide_type": "fragment"
      }
     },
     "outputs": [],
     "prompt_number": 10
    },
    {
     "cell_type": "markdown",
     "metadata": {
      "slideshow": {
       "slide_type": "slide"
      }
     },
     "source": [
      "# We need to get the reviewers who review both beer1 & beer2"
     ]
    },
    {
     "cell_type": "markdown",
     "metadata": {
      "slideshow": {
       "slide_type": "fragment"
      }
     },
     "source": [
      "# Get the reviewers who reviewed beer1"
     ]
    },
    {
     "cell_type": "code",
     "collapsed": false,
     "input": [
      "beer1_reviewers = df[df.beer == beer1].reviewer.unique()\n",
      "beer1_reviewers"
     ],
     "language": "python",
     "metadata": {
      "slideshow": {
       "slide_type": "fragment"
      }
     },
     "outputs": [
      {
       "metadata": {},
       "output_type": "pyout",
       "prompt_number": 11,
       "text": [
        "array(['DmanGTR', 'nickadams2', 'kegger22', ..., 'heysuz', 'match1112',\n",
        "       'tbeckett'], dtype=object)"
       ]
      }
     ],
     "prompt_number": 11
    },
    {
     "cell_type": "markdown",
     "metadata": {
      "slideshow": {
       "slide_type": "fragment"
      }
     },
     "source": [
      "# Get the reviewers who reviewed beer2"
     ]
    },
    {
     "cell_type": "code",
     "collapsed": false,
     "input": [
      "beer2_reviewers = df[df.beer == beer2].reviewer.unique()\n",
      "beer2_reviewers"
     ],
     "language": "python",
     "metadata": {
      "slideshow": {
       "slide_type": "fragment"
      }
     },
     "outputs": [
      {
       "metadata": {},
       "output_type": "pyout",
       "prompt_number": 13,
       "text": [
        "array(['jkrich', 'Billolick', 'NeroFiddled', ..., 'madmanjf', 'EPseja',\n",
        "       'maddogruss'], dtype=object)"
       ]
      }
     ],
     "prompt_number": 13
    },
    {
     "cell_type": "markdown",
     "metadata": {
      "slideshow": {
       "slide_type": "slide"
      }
     },
     "source": [
      "# Then we can get the common reviewers"
     ]
    },
    {
     "cell_type": "code",
     "collapsed": false,
     "input": [
      "common_reviewers = np.intersect1d( beer1_reviewers, beer2_reviewers)\n",
      "common_reviewers"
     ],
     "language": "python",
     "metadata": {},
     "outputs": [
      {
       "metadata": {},
       "output_type": "pyout",
       "prompt_number": 14,
       "text": [
        "array(['1fastz28', '49degrees', '6993bc', ..., 'zdk9', 'zeff80', 'zoso493'], dtype=object)"
       ]
      }
     ],
     "prompt_number": 14
    },
    {
     "cell_type": "markdown",
     "metadata": {
      "slideshow": {
       "slide_type": "slide"
      }
     },
     "source": [
      "# Now we can get the reviews"
     ]
    },
    {
     "cell_type": "code",
     "collapsed": false,
     "input": [
      "def get_beer_reviews(df, beer, common_users):\n",
      "    \n",
      "    mask = (df.reviewer.isin(common_users)) & (df.beer == beer)\n",
      "    reviews = df[mask].sort('reviewer')\n",
      "    \n",
      "    # to delete duplicated ones  \n",
      "    reviews = reviews[reviews.reviewer.duplicated() == False]\n",
      "    \n",
      "    return reviews"
     ],
     "language": "python",
     "metadata": {
      "slideshow": {
       "slide_type": "fragment"
      }
     },
     "outputs": [],
     "prompt_number": 16
    },
    {
     "cell_type": "code",
     "collapsed": false,
     "input": [
      "beer1_reviews = get_beer_reviews(df, beer1, common_reviewers)\n",
      "beer2_reviews = get_beer_reviews(df, beer2, common_reviewers)\n",
      "beer1_reviews.head()"
     ],
     "language": "python",
     "metadata": {
      "slideshow": {
       "slide_type": "fragment"
      }
     },
     "outputs": [
      {
       "html": [
        "<div style=\"max-height:1000px;max-width:1500px;overflow:auto;\">\n",
        "<table border=\"1\" class=\"dataframe\">\n",
        "  <thead>\n",
        "    <tr style=\"text-align: right;\">\n",
        "      <th></th>\n",
        "      <th>reviewer</th>\n",
        "      <th>beer</th>\n",
        "      <th>overall</th>\n",
        "      <th>aroma</th>\n",
        "      <th>appearance</th>\n",
        "      <th>palate</th>\n",
        "    </tr>\n",
        "  </thead>\n",
        "  <tbody>\n",
        "    <tr>\n",
        "      <th>48213</th>\n",
        "      <td>    1fastz28</td>\n",
        "      <td> 90 Minute IPA</td>\n",
        "      <td> 4.5</td>\n",
        "      <td> 4.5</td>\n",
        "      <td> 3.5</td>\n",
        "      <td> 4.0</td>\n",
        "    </tr>\n",
        "    <tr>\n",
        "      <th>49264</th>\n",
        "      <td>   49degrees</td>\n",
        "      <td> 90 Minute IPA</td>\n",
        "      <td> 4.0</td>\n",
        "      <td> 4.5</td>\n",
        "      <td> 4.0</td>\n",
        "      <td> 4.0</td>\n",
        "    </tr>\n",
        "    <tr>\n",
        "      <th>48091</th>\n",
        "      <td>      6993bc</td>\n",
        "      <td> 90 Minute IPA</td>\n",
        "      <td> 5.0</td>\n",
        "      <td> 4.5</td>\n",
        "      <td> 5.0</td>\n",
        "      <td> 5.0</td>\n",
        "    </tr>\n",
        "    <tr>\n",
        "      <th>48090</th>\n",
        "      <td> 90minipalvr</td>\n",
        "      <td> 90 Minute IPA</td>\n",
        "      <td> 4.0</td>\n",
        "      <td> 4.5</td>\n",
        "      <td> 4.0</td>\n",
        "      <td> 4.5</td>\n",
        "    </tr>\n",
        "    <tr>\n",
        "      <th>49085</th>\n",
        "      <td>   99bottles</td>\n",
        "      <td> 90 Minute IPA</td>\n",
        "      <td> 4.0</td>\n",
        "      <td> 4.5</td>\n",
        "      <td> 4.0</td>\n",
        "      <td> 4.0</td>\n",
        "    </tr>\n",
        "  </tbody>\n",
        "</table>\n",
        "<p>5 rows \u00d7 6 columns</p>\n",
        "</div>"
       ],
       "metadata": {},
       "output_type": "pyout",
       "prompt_number": 17,
       "text": [
        "          reviewer           beer  overall  aroma  appearance  palate\n",
        "48213     1fastz28  90 Minute IPA      4.5    4.5         3.5     4.0\n",
        "49264    49degrees  90 Minute IPA      4.0    4.5         4.0     4.0\n",
        "48091       6993bc  90 Minute IPA      5.0    4.5         5.0     5.0\n",
        "48090  90minipalvr  90 Minute IPA      4.0    4.5         4.0     4.5\n",
        "49085    99bottles  90 Minute IPA      4.0    4.5         4.0     4.0\n",
        "\n",
        "[5 rows x 6 columns]"
       ]
      }
     ],
     "prompt_number": 17
    },
    {
     "cell_type": "code",
     "collapsed": false,
     "input": [],
     "language": "python",
     "metadata": {
      "slideshow": {
       "slide_type": "skip"
      }
     },
     "outputs": []
    },
    {
     "cell_type": "code",
     "collapsed": false,
     "input": [],
     "language": "python",
     "metadata": {
      "slideshow": {
       "slide_type": "skip"
      }
     },
     "outputs": []
    },
    {
     "cell_type": "markdown",
     "metadata": {
      "slideshow": {
       "slide_type": "slide"
      }
     },
     "source": [
      "# Distance??"
     ]
    },
    {
     "cell_type": "markdown",
     "metadata": {
      "slideshow": {
       "slide_type": "fragment"
      }
     },
     "source": [
      "## There're many ways to compute the distance between two items. \n",
      "## We use the simpliest one, Euclidean Distance."
     ]
    },
    {
     "cell_type": "code",
     "collapsed": false,
     "input": [
      "from sklearn.metrics.pairwise import euclidean_distances"
     ],
     "language": "python",
     "metadata": {
      "slideshow": {
       "slide_type": "fragment"
      }
     },
     "outputs": [],
     "prompt_number": 18
    },
    {
     "cell_type": "code",
     "collapsed": false,
     "input": [
      "euclidean_distances([0, 0], [3, 4])"
     ],
     "language": "python",
     "metadata": {
      "slideshow": {
       "slide_type": "fragment"
      }
     },
     "outputs": [
      {
       "metadata": {},
       "output_type": "pyout",
       "prompt_number": 19,
       "text": [
        "array([[ 5.]])"
       ]
      }
     ],
     "prompt_number": 19
    },
    {
     "cell_type": "code",
     "collapsed": false,
     "input": [
      "euclidean_distances([0, 0, 0], [1, 1, 1])"
     ],
     "language": "python",
     "metadata": {
      "slideshow": {
       "slide_type": "fragment"
      }
     },
     "outputs": [
      {
       "metadata": {},
       "output_type": "pyout",
       "prompt_number": 20,
       "text": [
        "array([[ 1.73205081]])"
       ]
      }
     ],
     "prompt_number": 20
    },
    {
     "cell_type": "markdown",
     "metadata": {
      "slideshow": {
       "slide_type": "slide"
      }
     },
     "source": [
      "# Where're our cordinates???"
     ]
    },
    {
     "cell_type": "markdown",
     "metadata": {},
     "source": [
      "beer1_reviews.head()"
     ]
    },
    {
     "cell_type": "code",
     "collapsed": false,
     "input": [
      "beer2_reviews.head()"
     ],
     "language": "python",
     "metadata": {
      "slideshow": {
       "slide_type": "fragment"
      }
     },
     "outputs": [
      {
       "html": [
        "<div style=\"max-height:1000px;max-width:1500px;overflow:auto;\">\n",
        "<table border=\"1\" class=\"dataframe\">\n",
        "  <thead>\n",
        "    <tr style=\"text-align: right;\">\n",
        "      <th></th>\n",
        "      <th>reviewer</th>\n",
        "      <th>beer</th>\n",
        "      <th>overall</th>\n",
        "      <th>aroma</th>\n",
        "      <th>appearance</th>\n",
        "      <th>palate</th>\n",
        "    </tr>\n",
        "  </thead>\n",
        "  <tbody>\n",
        "    <tr>\n",
        "      <th>16566</th>\n",
        "      <td>    1fastz28</td>\n",
        "      <td> India Pale Ale</td>\n",
        "      <td> 3.0</td>\n",
        "      <td> 4.5</td>\n",
        "      <td> 4.0</td>\n",
        "      <td> 4.0</td>\n",
        "    </tr>\n",
        "    <tr>\n",
        "      <th>10989</th>\n",
        "      <td>   49degrees</td>\n",
        "      <td> India Pale Ale</td>\n",
        "      <td> 3.5</td>\n",
        "      <td> 3.0</td>\n",
        "      <td> 4.0</td>\n",
        "      <td> 3.0</td>\n",
        "    </tr>\n",
        "    <tr>\n",
        "      <th>21101</th>\n",
        "      <td>      6993bc</td>\n",
        "      <td> India Pale Ale</td>\n",
        "      <td> 4.5</td>\n",
        "      <td> 4.0</td>\n",
        "      <td> 4.5</td>\n",
        "      <td> 4.5</td>\n",
        "    </tr>\n",
        "    <tr>\n",
        "      <th>41603</th>\n",
        "      <td> 90minipalvr</td>\n",
        "      <td> India Pale Ale</td>\n",
        "      <td> 4.0</td>\n",
        "      <td> 4.0</td>\n",
        "      <td> 4.0</td>\n",
        "      <td> 4.0</td>\n",
        "    </tr>\n",
        "    <tr>\n",
        "      <th>53798</th>\n",
        "      <td>   99bottles</td>\n",
        "      <td> India Pale Ale</td>\n",
        "      <td> 4.5</td>\n",
        "      <td> 4.0</td>\n",
        "      <td> 4.0</td>\n",
        "      <td> 4.0</td>\n",
        "    </tr>\n",
        "  </tbody>\n",
        "</table>\n",
        "<p>5 rows \u00d7 6 columns</p>\n",
        "</div>"
       ],
       "metadata": {},
       "output_type": "pyout",
       "prompt_number": 48,
       "text": [
        "          reviewer            beer  overall  aroma  appearance  palate\n",
        "16566     1fastz28  India Pale Ale      3.0    4.5         4.0     4.0\n",
        "10989    49degrees  India Pale Ale      3.5    3.0         4.0     3.0\n",
        "21101       6993bc  India Pale Ale      4.5    4.0         4.5     4.5\n",
        "41603  90minipalvr  India Pale Ale      4.0    4.0         4.0     4.0\n",
        "53798    99bottles  India Pale Ale      4.5    4.0         4.0     4.0\n",
        "\n",
        "[5 rows x 6 columns]"
       ]
      }
     ],
     "prompt_number": 48
    },
    {
     "cell_type": "markdown",
     "metadata": {
      "slideshow": {
       "slide_type": "slide"
      }
     },
     "source": [
      "# Cool!, we have coordinates now!!"
     ]
    },
    {
     "cell_type": "code",
     "collapsed": false,
     "input": [
      "print euclidean_distances(beer1_reviews['overall'], beer2_reviews['overall'])"
     ],
     "language": "python",
     "metadata": {
      "slideshow": {
       "slide_type": "fragment"
      }
     },
     "outputs": [
      {
       "output_type": "stream",
       "stream": "stdout",
       "text": [
        "[[ 27.83882181]]\n"
       ]
      }
     ],
     "prompt_number": 25
    },
    {
     "cell_type": "markdown",
     "metadata": {
      "slideshow": {
       "slide_type": "slide"
      }
     },
     "source": [
      "# Let's wrap it up!"
     ]
    },
    {
     "cell_type": "code",
     "collapsed": false,
     "input": [
      "features = ['overall', 'aroma', 'appearance', 'palate']"
     ],
     "language": "python",
     "metadata": {
      "slideshow": {
       "slide_type": "fragment"
      }
     },
     "outputs": [],
     "prompt_number": 50
    },
    {
     "cell_type": "code",
     "collapsed": false,
     "input": [
      "def calculate_similarity(beer1, beer2):\n",
      "    \n",
      "    # Get the common reviewers\n",
      "    beer1_reviewers = df[df.beer == beer1].reviewer.unique()\n",
      "    beer2_reviewers = df[df.beer == beer2].reviewer.unique()\n",
      "    common_reviewers = np.intersect1d( beer1_reviewers, beer2_reviewers )\n",
      "    \n",
      "    # Extract the reviews made by these common viewers\n",
      "    beer1_reviews = get_beer_reviews(df, beer1, common_reviewers) \n",
      "    beer2_reviews = get_beer_reviews(df, beer2, common_reviewers) \n",
      "                                     \n",
      "    dists = []\n",
      "    for feature in features:\n",
      "        dists.append( euclidean_distances(beer1_reviews[feature], beer2_reviews[feature])[0][0] )\n",
      "        \n",
      "    return dists"
     ],
     "language": "python",
     "metadata": {
      "slideshow": {
       "slide_type": "fragment"
      }
     },
     "outputs": [],
     "prompt_number": 51
    },
    {
     "cell_type": "code",
     "collapsed": false,
     "input": [
      "calculate_similarity(beer1, beer2)"
     ],
     "language": "python",
     "metadata": {
      "slideshow": {
       "slide_type": "fragment"
      }
     },
     "outputs": [
      {
       "metadata": {},
       "output_type": "pyout",
       "prompt_number": 52,
       "text": [
        "[27.838821814150108, 28.200177304407148, 22.118996360594664, 26.56124997058685]"
       ]
      }
     ],
     "prompt_number": 52
    },
    {
     "cell_type": "markdown",
     "metadata": {
      "slideshow": {
       "slide_type": "slide"
      }
     },
     "source": [
      "# Let's calculate them all"
     ]
    },
    {
     "cell_type": "code",
     "collapsed": false,
     "input": [
      "simple_distances = []\n",
      "for b1 in df.beer.unique():\n",
      "    for b2 in df.beer.unique():\n",
      "        if b1 != b2:\n",
      "            row = [b1, b2] + calculate_similarity(b1, b2)\n",
      "            #print row\n",
      "            simple_distances.append(row)\n",
      "            "
     ],
     "language": "python",
     "metadata": {
      "slideshow": {
       "slide_type": "fragment"
      }
     },
     "outputs": [],
     "prompt_number": 28
    },
    {
     "cell_type": "code",
     "collapsed": false,
     "input": [
      "print simple_distances[0:5]"
     ],
     "language": "python",
     "metadata": {
      "slideshow": {
       "slide_type": "fragment"
      }
     },
     "outputs": [
      {
       "output_type": "stream",
       "stream": "stdout",
       "text": [
        "[['Imperial Stout', 'Pale Ale', 23.070543990118654, 23.135470602518549, 21.083168642308014, 22.343902971504331], ['Imperial Stout', 'Founders Breakfast Stout', 23.388031127053001, 20.248456731316587, 16.673332000533065, 22.449944320643649], ['Imperial Stout', 'India Pale Ale', 22.416511771459895, 20.71834935510066, 20.688160865577203, 21.903196113809511], ['Imperial Stout', 'Chocolate Stout', 22.621892051727237, 21.03568396796263, 17.748239349298849, 23.157072353818823], ['Imperial Stout', 'Sierra Nevada Celebration Ale', 23.563743335896358, 19.228884523029411, 17.755280904564703, 20.591260281974002]]\n"
       ]
      }
     ],
     "prompt_number": 58
    },
    {
     "cell_type": "markdown",
     "metadata": {
      "slideshow": {
       "slide_type": "slide"
      }
     },
     "source": [
      "# Pandas, I need a DataFrame"
     ]
    },
    {
     "cell_type": "code",
     "collapsed": false,
     "input": [
      "df_dist = pd.DataFrame(simple_distances, columns = ['beer1', 'beer2'] + features)\n",
      "df_dist.head(5)"
     ],
     "language": "python",
     "metadata": {
      "slideshow": {
       "slide_type": "slide"
      }
     },
     "outputs": [
      {
       "html": [
        "<div style=\"max-height:1000px;max-width:1500px;overflow:auto;\">\n",
        "<table border=\"1\" class=\"dataframe\">\n",
        "  <thead>\n",
        "    <tr style=\"text-align: right;\">\n",
        "      <th></th>\n",
        "      <th>beer1</th>\n",
        "      <th>beer2</th>\n",
        "      <th>overall</th>\n",
        "      <th>aroma</th>\n",
        "      <th>appearance</th>\n",
        "      <th>palate</th>\n",
        "    </tr>\n",
        "  </thead>\n",
        "  <tbody>\n",
        "    <tr>\n",
        "      <th>0</th>\n",
        "      <td> Imperial Stout</td>\n",
        "      <td>                      Pale Ale</td>\n",
        "      <td> 23.070544</td>\n",
        "      <td> 23.135471</td>\n",
        "      <td> 21.083169</td>\n",
        "      <td> 22.343903</td>\n",
        "    </tr>\n",
        "    <tr>\n",
        "      <th>1</th>\n",
        "      <td> Imperial Stout</td>\n",
        "      <td>      Founders Breakfast Stout</td>\n",
        "      <td> 23.388031</td>\n",
        "      <td> 20.248457</td>\n",
        "      <td> 16.673332</td>\n",
        "      <td> 22.449944</td>\n",
        "    </tr>\n",
        "    <tr>\n",
        "      <th>2</th>\n",
        "      <td> Imperial Stout</td>\n",
        "      <td>                India Pale Ale</td>\n",
        "      <td> 22.416512</td>\n",
        "      <td> 20.718349</td>\n",
        "      <td> 20.688161</td>\n",
        "      <td> 21.903196</td>\n",
        "    </tr>\n",
        "    <tr>\n",
        "      <th>3</th>\n",
        "      <td> Imperial Stout</td>\n",
        "      <td>               Chocolate Stout</td>\n",
        "      <td> 22.621892</td>\n",
        "      <td> 21.035684</td>\n",
        "      <td> 17.748239</td>\n",
        "      <td> 23.157072</td>\n",
        "    </tr>\n",
        "    <tr>\n",
        "      <th>4</th>\n",
        "      <td> Imperial Stout</td>\n",
        "      <td> Sierra Nevada Celebration Ale</td>\n",
        "      <td> 23.563743</td>\n",
        "      <td> 19.228885</td>\n",
        "      <td> 17.755281</td>\n",
        "      <td> 20.591260</td>\n",
        "    </tr>\n",
        "  </tbody>\n",
        "</table>\n",
        "<p>5 rows \u00d7 6 columns</p>\n",
        "</div>"
       ],
       "metadata": {},
       "output_type": "pyout",
       "prompt_number": 38,
       "text": [
        "            beer1                          beer2    overall      aroma  \\\n",
        "0  Imperial Stout                       Pale Ale  23.070544  23.135471   \n",
        "1  Imperial Stout       Founders Breakfast Stout  23.388031  20.248457   \n",
        "2  Imperial Stout                 India Pale Ale  22.416512  20.718349   \n",
        "3  Imperial Stout                Chocolate Stout  22.621892  21.035684   \n",
        "4  Imperial Stout  Sierra Nevada Celebration Ale  23.563743  19.228885   \n",
        "\n",
        "   appearance     palate  \n",
        "0   21.083169  22.343903  \n",
        "1   16.673332  22.449944  \n",
        "2   20.688161  21.903196  \n",
        "3   17.748239  23.157072  \n",
        "4   17.755281  20.591260  \n",
        "\n",
        "[5 rows x 6 columns]"
       ]
      }
     ],
     "prompt_number": 38
    },
    {
     "cell_type": "markdown",
     "metadata": {
      "slideshow": {
       "slide_type": "slide"
      }
     },
     "source": [
      "# I guess Overall is the most important!"
     ]
    },
    {
     "cell_type": "code",
     "collapsed": false,
     "input": [
      "df_dist['weighted_dist'] = df_dist['overall'] * 2 + df_dist['aroma'] + df_dist['appearance'] + df_dist['palate']\n",
      "df_dist.head(10)"
     ],
     "language": "python",
     "metadata": {
      "slideshow": {
       "slide_type": "fragment"
      }
     },
     "outputs": [
      {
       "html": [
        "<div style=\"max-height:1000px;max-width:1500px;overflow:auto;\">\n",
        "<table border=\"1\" class=\"dataframe\">\n",
        "  <thead>\n",
        "    <tr style=\"text-align: right;\">\n",
        "      <th></th>\n",
        "      <th>beer1</th>\n",
        "      <th>beer2</th>\n",
        "      <th>overall</th>\n",
        "      <th>aroma</th>\n",
        "      <th>appearance</th>\n",
        "      <th>palate</th>\n",
        "      <th>weighted_dist</th>\n",
        "    </tr>\n",
        "  </thead>\n",
        "  <tbody>\n",
        "    <tr>\n",
        "      <th>0</th>\n",
        "      <td> Imperial Stout</td>\n",
        "      <td>                                   Pale Ale</td>\n",
        "      <td> 23.070544</td>\n",
        "      <td> 23.135471</td>\n",
        "      <td> 21.083169</td>\n",
        "      <td> 22.343903</td>\n",
        "      <td> 112.703630</td>\n",
        "    </tr>\n",
        "    <tr>\n",
        "      <th>1</th>\n",
        "      <td> Imperial Stout</td>\n",
        "      <td>                   Founders Breakfast Stout</td>\n",
        "      <td> 23.388031</td>\n",
        "      <td> 20.248457</td>\n",
        "      <td> 16.673332</td>\n",
        "      <td> 22.449944</td>\n",
        "      <td> 106.147795</td>\n",
        "    </tr>\n",
        "    <tr>\n",
        "      <th>2</th>\n",
        "      <td> Imperial Stout</td>\n",
        "      <td>                             India Pale Ale</td>\n",
        "      <td> 22.416512</td>\n",
        "      <td> 20.718349</td>\n",
        "      <td> 20.688161</td>\n",
        "      <td> 21.903196</td>\n",
        "      <td> 108.142730</td>\n",
        "    </tr>\n",
        "    <tr>\n",
        "      <th>3</th>\n",
        "      <td> Imperial Stout</td>\n",
        "      <td>                            Chocolate Stout</td>\n",
        "      <td> 22.621892</td>\n",
        "      <td> 21.035684</td>\n",
        "      <td> 17.748239</td>\n",
        "      <td> 23.157072</td>\n",
        "      <td> 107.184780</td>\n",
        "    </tr>\n",
        "    <tr>\n",
        "      <th>4</th>\n",
        "      <td> Imperial Stout</td>\n",
        "      <td>              Sierra Nevada Celebration Ale</td>\n",
        "      <td> 23.563743</td>\n",
        "      <td> 19.228885</td>\n",
        "      <td> 17.755281</td>\n",
        "      <td> 20.591260</td>\n",
        "      <td> 104.702912</td>\n",
        "    </tr>\n",
        "    <tr>\n",
        "      <th>5</th>\n",
        "      <td> Imperial Stout</td>\n",
        "      <td> Sierra Nevada Bigfoot Barleywine Style Ale</td>\n",
        "      <td> 23.366643</td>\n",
        "      <td> 19.924859</td>\n",
        "      <td> 18.006943</td>\n",
        "      <td> 20.940392</td>\n",
        "      <td> 105.605479</td>\n",
        "    </tr>\n",
        "    <tr>\n",
        "      <th>6</th>\n",
        "      <td> Imperial Stout</td>\n",
        "      <td>                     Sierra Nevada Pale Ale</td>\n",
        "      <td> 22.073740</td>\n",
        "      <td> 17.204651</td>\n",
        "      <td> 18.701604</td>\n",
        "      <td> 18.506756</td>\n",
        "      <td>  98.560490</td>\n",
        "    </tr>\n",
        "    <tr>\n",
        "      <th>7</th>\n",
        "      <td> Imperial Stout</td>\n",
        "      <td>                  Samuel Adams Boston Lager</td>\n",
        "      <td> 20.964255</td>\n",
        "      <td> 21.011901</td>\n",
        "      <td> 20.420578</td>\n",
        "      <td> 20.205197</td>\n",
        "      <td> 103.566187</td>\n",
        "    </tr>\n",
        "    <tr>\n",
        "      <th>8</th>\n",
        "      <td> Imperial Stout</td>\n",
        "      <td>                            La Fin Du Monde</td>\n",
        "      <td> 23.038012</td>\n",
        "      <td> 18.907670</td>\n",
        "      <td> 17.621010</td>\n",
        "      <td> 20.426698</td>\n",
        "      <td> 103.031403</td>\n",
        "    </tr>\n",
        "    <tr>\n",
        "      <th>9</th>\n",
        "      <td> Imperial Stout</td>\n",
        "      <td>                       Arrogant Bastard Ale</td>\n",
        "      <td> 22.549945</td>\n",
        "      <td> 18.479719</td>\n",
        "      <td> 16.446884</td>\n",
        "      <td> 19.716744</td>\n",
        "      <td>  99.743236</td>\n",
        "    </tr>\n",
        "  </tbody>\n",
        "</table>\n",
        "<p>10 rows \u00d7 7 columns</p>\n",
        "</div>"
       ],
       "metadata": {},
       "output_type": "pyout",
       "prompt_number": 53,
       "text": [
        "            beer1                                       beer2    overall  \\\n",
        "0  Imperial Stout                                    Pale Ale  23.070544   \n",
        "1  Imperial Stout                    Founders Breakfast Stout  23.388031   \n",
        "2  Imperial Stout                              India Pale Ale  22.416512   \n",
        "3  Imperial Stout                             Chocolate Stout  22.621892   \n",
        "4  Imperial Stout               Sierra Nevada Celebration Ale  23.563743   \n",
        "5  Imperial Stout  Sierra Nevada Bigfoot Barleywine Style Ale  23.366643   \n",
        "6  Imperial Stout                      Sierra Nevada Pale Ale  22.073740   \n",
        "7  Imperial Stout                   Samuel Adams Boston Lager  20.964255   \n",
        "8  Imperial Stout                             La Fin Du Monde  23.038012   \n",
        "9  Imperial Stout                        Arrogant Bastard Ale  22.549945   \n",
        "\n",
        "       aroma  appearance     palate  weighted_dist  \n",
        "0  23.135471   21.083169  22.343903     112.703630  \n",
        "1  20.248457   16.673332  22.449944     106.147795  \n",
        "2  20.718349   20.688161  21.903196     108.142730  \n",
        "3  21.035684   17.748239  23.157072     107.184780  \n",
        "4  19.228885   17.755281  20.591260     104.702912  \n",
        "5  19.924859   18.006943  20.940392     105.605479  \n",
        "6  17.204651   18.701604  18.506756      98.560490  \n",
        "7  21.011901   20.420578  20.205197     103.566187  \n",
        "8  18.907670   17.621010  20.426698     103.031403  \n",
        "9  18.479719   16.446884  19.716744      99.743236  \n",
        "\n",
        "[10 rows x 7 columns]"
       ]
      }
     ],
     "prompt_number": 53
    },
    {
     "cell_type": "markdown",
     "metadata": {
      "slideshow": {
       "slide_type": "slide"
      }
     },
     "source": [
      "# Our very first recommendation system !"
     ]
    },
    {
     "cell_type": "code",
     "collapsed": false,
     "input": [
      "#print min([1, 2] [2, 3], key=lambda row: weighted_score)\n",
      "def _pick_nearlest(_df):\n",
      "\n",
      "    _min_dist = 999999999999\n",
      "    _min_row = None\"\n",
      "    for i, row in _df.iterrows():\n",
      "        if row['weighted_dist'] < _min_dist:\n",
      "            _min_row = row\n",
      "            _min_dist = row['weighted_dist']\n",
      "    return _min_row[['beer2', 'weighted_dist']]\n",
      "\n",
      "df_dist.groupby('beer1').apply(_pick_nearlest)"
     ],
     "language": "python",
     "metadata": {},
     "outputs": [
      {
       "html": [
        "<div style=\"max-height:1000px;max-width:1500px;overflow:auto;\">\n",
        "<table border=\"1\" class=\"dataframe\">\n",
        "  <thead>\n",
        "    <tr style=\"text-align: right;\">\n",
        "      <th></th>\n",
        "      <th>beer2</th>\n",
        "      <th>weighted_dist</th>\n",
        "    </tr>\n",
        "    <tr>\n",
        "      <th>beer1</th>\n",
        "      <th></th>\n",
        "      <th></th>\n",
        "    </tr>\n",
        "  </thead>\n",
        "  <tbody>\n",
        "    <tr>\n",
        "      <th>60 Minute IPA</th>\n",
        "      <td>            Imperial Stout</td>\n",
        "      <td>  97.326192</td>\n",
        "    </tr>\n",
        "    <tr>\n",
        "      <th>90 Minute IPA</th>\n",
        "      <td>            Imperial Stout</td>\n",
        "      <td> 108.821876</td>\n",
        "    </tr>\n",
        "    <tr>\n",
        "      <th>Arrogant Bastard Ale</th>\n",
        "      <td>        Bell's Hopslam Ale</td>\n",
        "      <td>  98.055422</td>\n",
        "    </tr>\n",
        "    <tr>\n",
        "      <th>Bell's Hopslam Ale</th>\n",
        "      <td>           La Fin Du Monde</td>\n",
        "      <td>  94.349680</td>\n",
        "    </tr>\n",
        "    <tr>\n",
        "      <th>Brooklyn Black Chocolate Stout</th>\n",
        "      <td>            Imperial Stout</td>\n",
        "      <td>  97.508704</td>\n",
        "    </tr>\n",
        "    <tr>\n",
        "      <th>Chocolate Stout</th>\n",
        "      <td>              HopDevil Ale</td>\n",
        "      <td> 105.413451</td>\n",
        "    </tr>\n",
        "    <tr>\n",
        "      <th>Duvel</th>\n",
        "      <td>           Pliny The Elder</td>\n",
        "      <td>  97.289815</td>\n",
        "    </tr>\n",
        "    <tr>\n",
        "      <th>Founders Breakfast Stout</th>\n",
        "      <td>           Pliny The Elder</td>\n",
        "      <td>  99.167043</td>\n",
        "    </tr>\n",
        "    <tr>\n",
        "      <th>HopDevil Ale</th>\n",
        "      <td>            Imperial Stout</td>\n",
        "      <td>  94.944141</td>\n",
        "    </tr>\n",
        "    <tr>\n",
        "      <th>Imperial Stout</th>\n",
        "      <td>              HopDevil Ale</td>\n",
        "      <td>  94.944141</td>\n",
        "    </tr>\n",
        "    <tr>\n",
        "      <th>India Pale Ale</th>\n",
        "      <td> Samuel Adams Boston Lager</td>\n",
        "      <td> 105.681255</td>\n",
        "    </tr>\n",
        "    <tr>\n",
        "      <th>La Fin Du Monde</th>\n",
        "      <td>           Pliny The Elder</td>\n",
        "      <td>  90.888158</td>\n",
        "    </tr>\n",
        "    <tr>\n",
        "      <th>Old Rasputin Russian Imperial Stout</th>\n",
        "      <td>        Bell's Hopslam Ale</td>\n",
        "      <td> 106.350082</td>\n",
        "    </tr>\n",
        "    <tr>\n",
        "      <th>Pale Ale</th>\n",
        "      <td> Samuel Adams Boston Lager</td>\n",
        "      <td> 102.660950</td>\n",
        "    </tr>\n",
        "    <tr>\n",
        "      <th>Pliny The Elder</th>\n",
        "      <td>           La Fin Du Monde</td>\n",
        "      <td>  90.888158</td>\n",
        "    </tr>\n",
        "    <tr>\n",
        "      <th>Samuel Adams Boston Lager</th>\n",
        "      <td>                  Pale Ale</td>\n",
        "      <td> 102.660950</td>\n",
        "    </tr>\n",
        "    <tr>\n",
        "      <th>Sierra Nevada Bigfoot Barleywine Style Ale</th>\n",
        "      <td>            Imperial Stout</td>\n",
        "      <td> 105.605479</td>\n",
        "    </tr>\n",
        "    <tr>\n",
        "      <th>Sierra Nevada Celebration Ale</th>\n",
        "      <td>            Imperial Stout</td>\n",
        "      <td> 104.702912</td>\n",
        "    </tr>\n",
        "    <tr>\n",
        "      <th>Sierra Nevada Pale Ale</th>\n",
        "      <td>           Pliny The Elder</td>\n",
        "      <td>  96.000282</td>\n",
        "    </tr>\n",
        "    <tr>\n",
        "      <th>Stone IPA (India Pale Ale)</th>\n",
        "      <td>        Bell's Hopslam Ale</td>\n",
        "      <td>  97.065999</td>\n",
        "    </tr>\n",
        "    <tr>\n",
        "      <th>Stone Imperial Russian Stout</th>\n",
        "      <td>        Bell's Hopslam Ale</td>\n",
        "      <td>  98.320367</td>\n",
        "    </tr>\n",
        "    <tr>\n",
        "      <th>Stone Ruination IPA</th>\n",
        "      <td>        Bell's Hopslam Ale</td>\n",
        "      <td> 100.057096</td>\n",
        "    </tr>\n",
        "    <tr>\n",
        "      <th>Storm King Stout</th>\n",
        "      <td>            Imperial Stout</td>\n",
        "      <td> 106.113310</td>\n",
        "    </tr>\n",
        "    <tr>\n",
        "      <th>Two Hearted Ale</th>\n",
        "      <td>           Pliny The Elder</td>\n",
        "      <td>  98.746959</td>\n",
        "    </tr>\n",
        "    <tr>\n",
        "      <th>Young's Double Chocolate Stout</th>\n",
        "      <td>            Imperial Stout</td>\n",
        "      <td>  98.959194</td>\n",
        "    </tr>\n",
        "  </tbody>\n",
        "</table>\n",
        "<p>25 rows \u00d7 2 columns</p>\n",
        "</div>"
       ],
       "metadata": {},
       "output_type": "pyout",
       "prompt_number": 56,
       "text": [
        "                                                                beer2  \\\n",
        "beer1                                                                   \n",
        "60 Minute IPA                                          Imperial Stout   \n",
        "90 Minute IPA                                          Imperial Stout   \n",
        "Arrogant Bastard Ale                               Bell's Hopslam Ale   \n",
        "Bell's Hopslam Ale                                    La Fin Du Monde   \n",
        "Brooklyn Black Chocolate Stout                         Imperial Stout   \n",
        "Chocolate Stout                                          HopDevil Ale   \n",
        "Duvel                                                 Pliny The Elder   \n",
        "Founders Breakfast Stout                              Pliny The Elder   \n",
        "HopDevil Ale                                           Imperial Stout   \n",
        "Imperial Stout                                           HopDevil Ale   \n",
        "India Pale Ale                              Samuel Adams Boston Lager   \n",
        "La Fin Du Monde                                       Pliny The Elder   \n",
        "Old Rasputin Russian Imperial Stout                Bell's Hopslam Ale   \n",
        "Pale Ale                                    Samuel Adams Boston Lager   \n",
        "Pliny The Elder                                       La Fin Du Monde   \n",
        "Samuel Adams Boston Lager                                    Pale Ale   \n",
        "Sierra Nevada Bigfoot Barleywine Style Ale             Imperial Stout   \n",
        "Sierra Nevada Celebration Ale                          Imperial Stout   \n",
        "Sierra Nevada Pale Ale                                Pliny The Elder   \n",
        "Stone IPA (India Pale Ale)                         Bell's Hopslam Ale   \n",
        "Stone Imperial Russian Stout                       Bell's Hopslam Ale   \n",
        "Stone Ruination IPA                                Bell's Hopslam Ale   \n",
        "Storm King Stout                                       Imperial Stout   \n",
        "Two Hearted Ale                                       Pliny The Elder   \n",
        "Young's Double Chocolate Stout                         Imperial Stout   \n",
        "\n",
        "                                            weighted_dist  \n",
        "beer1                                                      \n",
        "60 Minute IPA                                   97.326192  \n",
        "90 Minute IPA                                  108.821876  \n",
        "Arrogant Bastard Ale                            98.055422  \n",
        "Bell's Hopslam Ale                              94.349680  \n",
        "Brooklyn Black Chocolate Stout                  97.508704  \n",
        "Chocolate Stout                                105.413451  \n",
        "Duvel                                           97.289815  \n",
        "Founders Breakfast Stout                        99.167043  \n",
        "HopDevil Ale                                    94.944141  \n",
        "Imperial Stout                                  94.944141  \n",
        "India Pale Ale                                 105.681255  \n",
        "La Fin Du Monde                                 90.888158  \n",
        "Old Rasputin Russian Imperial Stout            106.350082  \n",
        "Pale Ale                                       102.660950  \n",
        "Pliny The Elder                                 90.888158  \n",
        "Samuel Adams Boston Lager                      102.660950  \n",
        "Sierra Nevada Bigfoot Barleywine Style Ale     105.605479  \n",
        "Sierra Nevada Celebration Ale                  104.702912  \n",
        "Sierra Nevada Pale Ale                          96.000282  \n",
        "Stone IPA (India Pale Ale)                      97.065999  \n",
        "Stone Imperial Russian Stout                    98.320367  \n",
        "Stone Ruination IPA                            100.057096  \n",
        "Storm King Stout                               106.113310  \n",
        "Two Hearted Ale                                 98.746959  \n",
        "Young's Double Chocolate Stout                  98.959194  \n",
        "\n",
        "[25 rows x 2 columns]"
       ]
      }
     ],
     "prompt_number": 56
    }
   ],
   "metadata": {}
  }
 ]
}